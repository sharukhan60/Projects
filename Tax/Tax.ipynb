{
 "cells": [
  {
   "cell_type": "markdown",
   "metadata": {},
   "source": [
    "#  Прогнозирование заказов такси"
   ]
  },
  {
   "cell_type": "markdown",
   "metadata": {},
   "source": [
    "Компания «Чётенькое такси» собрала исторические данные о заказах такси в аэропортах. Чтобы привлекать больше водителей в период пиковой нагрузки, нужно спрогнозировать количество заказов такси на следующий час. Постройте модель для такого предсказания.\n",
    "\n",
    "Значение метрики *RMSE* на тестовой выборке должно быть не больше 48.\n"
   ]
  },
  {
   "cell_type": "markdown",
   "metadata": {},
   "source": [
    "## Подготовка"
   ]
  },
  {
   "cell_type": "code",
   "execution_count": 1,
   "metadata": {},
   "outputs": [],
   "source": [
    "import pandas as pd\n",
    "\n",
    "import numpy as np\n",
    "\n",
    "import os\n",
    "\n",
    "import matplotlib.pyplot as plt\n",
    "\n",
    "from statsmodels.tsa.stattools import adfuller\n",
    "from statsmodels.tsa.seasonal import seasonal_decompose\n",
    "\n",
    "from sklearn.model_selection import TimeSeriesSplit\n",
    "from sklearn.model_selection import cross_val_score\n",
    "from sklearn.model_selection import GridSearchCV \n",
    "from sklearn.model_selection import train_test_split\n",
    "from sklearn.metrics import make_scorer\n",
    "from sklearn.metrics import mean_squared_error\n",
    "from sklearn.linear_model import LinearRegression\n",
    "from sklearn.ensemble import RandomForestRegressor\n",
    "from sklearn.dummy import DummyRegressor"
   ]
  },
  {
   "cell_type": "markdown",
   "metadata": {},
   "source": [
    "Подгрузим данные"
   ]
  },
  {
   "cell_type": "code",
   "execution_count": 2,
   "metadata": {},
   "outputs": [
    {
     "ename": "NameError",
     "evalue": "name 'data' is not defined",
     "output_type": "error",
     "traceback": [
      "\u001b[1;31m---------------------------------------------------------------------------\u001b[0m",
      "\u001b[1;31mNameError\u001b[0m                                 Traceback (most recent call last)",
      "Cell \u001b[1;32mIn[2], line 4\u001b[0m\n\u001b[0;32m      2\u001b[0m \u001b[38;5;28;01mif\u001b[39;00m os\u001b[38;5;241m.\u001b[39mpath\u001b[38;5;241m.\u001b[39mexists(pth):\n\u001b[0;32m      3\u001b[0m     data \u001b[38;5;241m=\u001b[39m pd\u001b[38;5;241m.\u001b[39mread_csv(pth,index_col\u001b[38;5;241m=\u001b[39m[\u001b[38;5;241m0\u001b[39m],parse_dates\u001b[38;5;241m=\u001b[39m[\u001b[38;5;241m0\u001b[39m])\n\u001b[1;32m----> 4\u001b[0m data \u001b[38;5;241m=\u001b[39m data\u001b[38;5;241m.\u001b[39msort_index(ascending\u001b[38;5;241m=\u001b[39m\u001b[38;5;28;01mTrue\u001b[39;00m)\n\u001b[0;32m      5\u001b[0m \u001b[38;5;28mprint\u001b[39m(data\u001b[38;5;241m.\u001b[39mindex\u001b[38;5;241m.\u001b[39mis_monotonic)\n",
      "\u001b[1;31mNameError\u001b[0m: name 'data' is not defined"
     ]
    }
   ],
   "source": [
    "pth = '/datasets/taxi.csv'\n",
    "if os.path.exists(pth):\n",
    "    data = pd.read_csv(pth,index_col=[0],parse_dates=[0])\n",
    "data = data.sort_index(ascending=True)\n",
    "print(data.index.is_monotonic)"
   ]
  },
  {
   "cell_type": "markdown",
   "metadata": {},
   "source": [
    "Значит, хронологический порядок соблюден."
   ]
  },
  {
   "cell_type": "code",
   "execution_count": 3,
   "metadata": {
    "scrolled": true
   },
   "outputs": [
    {
     "data": {
      "text/html": [
       "<div>\n",
       "<style scoped>\n",
       "    .dataframe tbody tr th:only-of-type {\n",
       "        vertical-align: middle;\n",
       "    }\n",
       "\n",
       "    .dataframe tbody tr th {\n",
       "        vertical-align: top;\n",
       "    }\n",
       "\n",
       "    .dataframe thead th {\n",
       "        text-align: right;\n",
       "    }\n",
       "</style>\n",
       "<table border=\"1\" class=\"dataframe\">\n",
       "  <thead>\n",
       "    <tr style=\"text-align: right;\">\n",
       "      <th></th>\n",
       "      <th>num_orders</th>\n",
       "    </tr>\n",
       "    <tr>\n",
       "      <th>datetime</th>\n",
       "      <th></th>\n",
       "    </tr>\n",
       "  </thead>\n",
       "  <tbody>\n",
       "    <tr>\n",
       "      <th>2018-03-01 00:00:00</th>\n",
       "      <td>124</td>\n",
       "    </tr>\n",
       "    <tr>\n",
       "      <th>2018-03-01 01:00:00</th>\n",
       "      <td>85</td>\n",
       "    </tr>\n",
       "    <tr>\n",
       "      <th>2018-03-01 02:00:00</th>\n",
       "      <td>71</td>\n",
       "    </tr>\n",
       "    <tr>\n",
       "      <th>2018-03-01 03:00:00</th>\n",
       "      <td>66</td>\n",
       "    </tr>\n",
       "    <tr>\n",
       "      <th>2018-03-01 04:00:00</th>\n",
       "      <td>43</td>\n",
       "    </tr>\n",
       "    <tr>\n",
       "      <th>...</th>\n",
       "      <td>...</td>\n",
       "    </tr>\n",
       "    <tr>\n",
       "      <th>2018-08-31 19:00:00</th>\n",
       "      <td>136</td>\n",
       "    </tr>\n",
       "    <tr>\n",
       "      <th>2018-08-31 20:00:00</th>\n",
       "      <td>154</td>\n",
       "    </tr>\n",
       "    <tr>\n",
       "      <th>2018-08-31 21:00:00</th>\n",
       "      <td>159</td>\n",
       "    </tr>\n",
       "    <tr>\n",
       "      <th>2018-08-31 22:00:00</th>\n",
       "      <td>223</td>\n",
       "    </tr>\n",
       "    <tr>\n",
       "      <th>2018-08-31 23:00:00</th>\n",
       "      <td>205</td>\n",
       "    </tr>\n",
       "  </tbody>\n",
       "</table>\n",
       "<p>4416 rows × 1 columns</p>\n",
       "</div>"
      ],
      "text/plain": [
       "                     num_orders\n",
       "datetime                       \n",
       "2018-03-01 00:00:00         124\n",
       "2018-03-01 01:00:00          85\n",
       "2018-03-01 02:00:00          71\n",
       "2018-03-01 03:00:00          66\n",
       "2018-03-01 04:00:00          43\n",
       "...                         ...\n",
       "2018-08-31 19:00:00         136\n",
       "2018-08-31 20:00:00         154\n",
       "2018-08-31 21:00:00         159\n",
       "2018-08-31 22:00:00         223\n",
       "2018-08-31 23:00:00         205\n",
       "\n",
       "[4416 rows x 1 columns]"
      ]
     },
     "metadata": {},
     "output_type": "display_data"
    }
   ],
   "source": [
    "data = data.resample('1H').sum()\n",
    "display(data)"
   ]
  },
  {
   "cell_type": "markdown",
   "metadata": {},
   "source": [
    "## Анализ"
   ]
  },
  {
   "cell_type": "code",
   "execution_count": 4,
   "metadata": {},
   "outputs": [
    {
     "name": "stdout",
     "output_type": "stream",
     "text": [
      "<class 'pandas.core.frame.DataFrame'>\n",
      "DatetimeIndex: 4416 entries, 2018-03-01 00:00:00 to 2018-08-31 23:00:00\n",
      "Freq: H\n",
      "Data columns (total 1 columns):\n",
      " #   Column      Non-Null Count  Dtype\n",
      "---  ------      --------------  -----\n",
      " 0   num_orders  4416 non-null   int64\n",
      "dtypes: int64(1)\n",
      "memory usage: 69.0 KB\n",
      "None\n",
      "[124  85  71  66  43   6  12  15  34  69  64  96  30  32  48  44  73  45\n",
      "  61 113  58  90 120  75  20  11   7  46  54  91  36  59  82  83  89  49\n",
      "  93 101 119  72 163 108  25   9  17  56  52  57  28  41  76  68  63  60\n",
      "  26  42  27  22  39  19  51  80  77  86 176  16   3  14  31  50  62  37\n",
      "  40  47  10  81 100 121  24  38  55  99 127  94 143  78  65  97 114  88\n",
      "  79  84  29   1   4  70 117   5  18  53 102  33 107 118 153 105  67  35\n",
      " 109  21   8 123 110 134 133 137 126  13  74  95 139  87 106  92 148 182\n",
      " 104 131  98   2 112 103 128 166 111  23   0 129 164 165 138 142 159 115\n",
      " 130 135 150 167 147 253 140 172 116 125 162 201 136 146 154 145 155 158\n",
      " 156 193 197 234 157 122 144 149 171 152 174 186 132 194 183 188 229 173\n",
      " 185 161 151 190 192 184 160 203 180 141 168 224 187 251 198 245 222 213\n",
      " 195 215 178 177 216 223 179 170 169 248 204 230 196 211 212 249 226 175\n",
      " 273 437 231 219 214 202 191 281 254 210 200 272 462 239 240 205 247 242\n",
      " 246 267 238 263 408 208 295 189 220 265 217 232 227 342 276 268 207]\n"
     ]
    }
   ],
   "source": [
    "print(data.info())\n",
    "print(data['num_orders'].unique())"
   ]
  },
  {
   "cell_type": "code",
   "execution_count": 5,
   "metadata": {},
   "outputs": [
    {
     "name": "stdout",
     "output_type": "stream",
     "text": [
      "num_orders    0\n",
      "dtype: int64\n",
      "4165\n"
     ]
    }
   ],
   "source": [
    "print(data.isna().sum())\n",
    "print(data.duplicated().sum())"
   ]
  },
  {
   "cell_type": "code",
   "execution_count": 6,
   "metadata": {},
   "outputs": [
    {
     "data": {
      "text/html": [
       "<div>\n",
       "<style scoped>\n",
       "    .dataframe tbody tr th:only-of-type {\n",
       "        vertical-align: middle;\n",
       "    }\n",
       "\n",
       "    .dataframe tbody tr th {\n",
       "        vertical-align: top;\n",
       "    }\n",
       "\n",
       "    .dataframe thead th {\n",
       "        text-align: right;\n",
       "    }\n",
       "</style>\n",
       "<table border=\"1\" class=\"dataframe\">\n",
       "  <thead>\n",
       "    <tr style=\"text-align: right;\">\n",
       "      <th></th>\n",
       "      <th>num_orders</th>\n",
       "    </tr>\n",
       "    <tr>\n",
       "      <th>datetime</th>\n",
       "      <th></th>\n",
       "    </tr>\n",
       "  </thead>\n",
       "  <tbody>\n",
       "    <tr>\n",
       "      <th>2018-03-01 15:00:00</th>\n",
       "      <td>66</td>\n",
       "    </tr>\n",
       "    <tr>\n",
       "      <th>2018-03-01 16:00:00</th>\n",
       "      <td>43</td>\n",
       "    </tr>\n",
       "    <tr>\n",
       "      <th>2018-03-01 21:00:00</th>\n",
       "      <td>66</td>\n",
       "    </tr>\n",
       "    <tr>\n",
       "      <th>2018-03-02 03:00:00</th>\n",
       "      <td>64</td>\n",
       "    </tr>\n",
       "    <tr>\n",
       "      <th>2018-03-02 06:00:00</th>\n",
       "      <td>11</td>\n",
       "    </tr>\n",
       "    <tr>\n",
       "      <th>...</th>\n",
       "      <td>...</td>\n",
       "    </tr>\n",
       "    <tr>\n",
       "      <th>2018-08-31 19:00:00</th>\n",
       "      <td>136</td>\n",
       "    </tr>\n",
       "    <tr>\n",
       "      <th>2018-08-31 20:00:00</th>\n",
       "      <td>154</td>\n",
       "    </tr>\n",
       "    <tr>\n",
       "      <th>2018-08-31 21:00:00</th>\n",
       "      <td>159</td>\n",
       "    </tr>\n",
       "    <tr>\n",
       "      <th>2018-08-31 22:00:00</th>\n",
       "      <td>223</td>\n",
       "    </tr>\n",
       "    <tr>\n",
       "      <th>2018-08-31 23:00:00</th>\n",
       "      <td>205</td>\n",
       "    </tr>\n",
       "  </tbody>\n",
       "</table>\n",
       "<p>4165 rows × 1 columns</p>\n",
       "</div>"
      ],
      "text/plain": [
       "                     num_orders\n",
       "datetime                       \n",
       "2018-03-01 15:00:00          66\n",
       "2018-03-01 16:00:00          43\n",
       "2018-03-01 21:00:00          66\n",
       "2018-03-02 03:00:00          64\n",
       "2018-03-02 06:00:00          11\n",
       "...                         ...\n",
       "2018-08-31 19:00:00         136\n",
       "2018-08-31 20:00:00         154\n",
       "2018-08-31 21:00:00         159\n",
       "2018-08-31 22:00:00         223\n",
       "2018-08-31 23:00:00         205\n",
       "\n",
       "[4165 rows x 1 columns]"
      ]
     },
     "metadata": {},
     "output_type": "display_data"
    }
   ],
   "source": [
    "display(data[data.duplicated()])"
   ]
  },
  {
   "cell_type": "code",
   "execution_count": 7,
   "metadata": {},
   "outputs": [
    {
     "name": "stdout",
     "output_type": "stream",
     "text": [
      "0\n"
     ]
    }
   ],
   "source": [
    "print(data.index.duplicated().sum())"
   ]
  },
  {
   "cell_type": "markdown",
   "metadata": {},
   "source": [
    "Данные корректны."
   ]
  },
  {
   "cell_type": "code",
   "execution_count": 8,
   "metadata": {},
   "outputs": [
    {
     "data": {
      "image/png": "[encoded data removed]",
      "text/plain": [
       "<Figure size 2160x720 with 1 Axes>"
      ]
     },
     "metadata": {
      "needs_background": "light"
     },
     "output_type": "display_data"
    }
   ],
   "source": [
    "plt.figure(figsize=(30,10))\n",
    "plt.title('График ряда')\n",
    "plt.ylabel('Число заказов')\n",
    "plt.xlabel('Время')\n",
    "data.plot(ax=plt.gca());"
   ]
  },
  {
   "cell_type": "markdown",
   "metadata": {},
   "source": [
    "Как мы можем заметить, ряд растет с течением времени."
   ]
  },
  {
   "cell_type": "code",
   "execution_count": 9,
   "metadata": {},
   "outputs": [
    {
     "data": {
      "image/png": "[encoded data removed]",
      "text/plain": [
       "<Figure size 576x720 with 1 Axes>"
      ]
     },
     "metadata": {
      "needs_background": "light"
     },
     "output_type": "display_data"
    }
   ],
   "source": [
    "decomposed = seasonal_decompose(data)\n",
    "\n",
    "plt.figure(figsize=(8,10))\n",
    "plt.subplot(311)\n",
    "plt.title('Trend')\n",
    "decomposed.trend.plot(ax=plt.gca());\n"
   ]
  },
  {
   "cell_type": "markdown",
   "metadata": {},
   "source": [
    "Мы можем сделать вывод, что ряд растет с течением времени.Период сезонности - дневная."
   ]
  },
  {
   "cell_type": "code",
   "execution_count": 10,
   "metadata": {},
   "outputs": [
    {
     "data": {
      "image/png": "[encoded data removed]",
      "text/plain": [
       "<Figure size 1440x432 with 1 Axes>"
      ]
     },
     "metadata": {
      "needs_background": "light"
     },
     "output_type": "display_data"
    }
   ],
   "source": [
    "plt.figure(figsize=(20,6))\n",
    "plt.title('Количество заказов в первую неделю')\n",
    "plt.ylabel('Число заказов')\n",
    "plt.xlabel('Время')\n",
    "data[:168].plot(ax=plt.gca())\n",
    "plt.show()"
   ]
  },
  {
   "cell_type": "markdown",
   "metadata": {},
   "source": [
    "\n",
    "1) Пики наблюдаются в середине дня, на это время ,видимо, приходится наибольшее число полетов. А также ночью(пик с 22 до 2).Спады наблюдаются утром и ближе к вечеру.Может это связано с тем что такси становится дорогим из-за пробок( т к на это время приходится час пик).Поэтому такси не выгодно брать клиентам.\n",
    "    2)Сезонность обусловлена работой и отдыхом людей.Многие прилетают в другие города в середине недели по работе.Другие улетают "
   ]
  },
  {
   "cell_type": "markdown",
   "metadata": {},
   "source": [
    "\n",
    " 1) Пики наблюдаются в середине недели, а также на выходных.Спады наблюдаются в начале недел и середине.\n",
    " 2)Сезонность обусловлена работой и отдыхом людей.Многие прилетают в другие города в середине недели по работе.Другие улетают и возвращаются на выходных.Поэтому так много заказов на такси."
   ]
  },
  {
   "cell_type": "code",
   "execution_count": 11,
   "metadata": {},
   "outputs": [
    {
     "data": {
      "image/png": "[encoded data removed]",
      "text/plain": [
       "<Figure size 1440x432 with 1 Axes>"
      ]
     },
     "metadata": {
      "needs_background": "light"
     },
     "output_type": "display_data"
    }
   ],
   "source": [
    "plt.figure(figsize=(20,6))\n",
    "plt.title('Residuals')\n",
    "decomposed.resid.plot(ax=plt.gca())\n",
    "plt.show()"
   ]
  },
  {
   "cell_type": "markdown",
   "metadata": {},
   "source": [
    "<div class=\"alert alert-info\">\n",
    "<h2> Комментарий студента: v.2<a class=\"tocSkip\"></h2>\n",
    "<b>  Как мы можем заметить, остатки показывают сильный разброс.А значит ряд нестационарный."
   ]
  },
  {
   "cell_type": "markdown",
   "metadata": {},
   "source": [
    "<div class=\"alert alert-block alert-danger\">\n",
    "<h2> Комментарий ревьюера v.2 <a class=\"tocSkip\"></h2>\n",
    "\n",
    "    \n",
    "<b>На доработку❌:</b>\n",
    "Нет вывода про остатки - в первом комментарии по этому вопросу был опорный план для ответа на вопрос про остатки.\n",
    "\n",
    "</div>"
   ]
  },
  {
   "cell_type": "markdown",
   "metadata": {},
   "source": [
    "<div class=\"alert alert-success\">\n",
    "<h2> Комментарий ревьюера v.3 <a class=\"tocSkip\"> </h2>\n",
    "\n",
    "<b>Все отлично!👍</b> \n",
    "Тут корректно!\n",
    "</div>"
   ]
  },
  {
   "cell_type": "code",
   "execution_count": 12,
   "metadata": {},
   "outputs": [
    {
     "data": {
      "image/png": "[encoded data removed]",
      "text/plain": [
       "<Figure size 720x432 with 1 Axes>"
      ]
     },
     "metadata": {
      "needs_background": "light"
     },
     "output_type": "display_data"
    }
   ],
   "source": [
    "df = data\n",
    "df['rolling_mean'] = df.rolling(10).mean()\n",
    "plt.figure(figsize=(10,6))\n",
    "df.plot(ax=plt.gca())\n",
    "plt.show()"
   ]
  },
  {
   "cell_type": "markdown",
   "metadata": {},
   "source": [
    "<div class=\"alert alert-info\">\n",
    "<h2> Комментарий студента: v.3<a class=\"tocSkip\"></h2>\n",
    "<b> Как мы можем заметить скользящее среднее растет со временем. Таким образом, наш ряд нестационарен."
   ]
  },
  {
   "cell_type": "markdown",
   "metadata": {},
   "source": [
    "<div class=\"alert alert-block alert-danger\">\n",
    "<h2> Комментарий ревьюера v.2 <a class=\"tocSkip\"></h2>\n",
    "\n",
    "    \n",
    "<b>На доработку❌:</b>\n",
    "По этому графику также нет вывода - стоит сделать вывод о стационарности ряда в зависимости от характера сглаженного среднего на графике.\n",
    "\n",
    "</div>"
   ]
  },
  {
   "cell_type": "markdown",
   "metadata": {},
   "source": [
    "<div class=\"alert alert-block alert-danger\">\n",
    "<h2> Комментарий ревьюера v.3 <a class=\"tocSkip\"></h2>\n",
    "\n",
    "    \n",
    "<b>На доработку❌:</b>\n",
    "Не учтено: стоит добавить вывод по этому графику. На случай, если с ним есть сложности, подскажу, что стоит анализировать направленность скользяшей средней: если она не изменяется с течением времени, то ряд стационарен, если изменяется - ряд нестационарен. Сделай, пожалуйста, вывод о скользящем среднем выше.\n",
    "\n",
    "</div>"
   ]
  },
  {
   "cell_type": "markdown",
   "metadata": {},
   "source": [
    "<div class=\"alert alert-success\">\n",
    "<h2> Комментарий ревьюера v.4 <a class=\"tocSkip\"> </h2>\n",
    "\n",
    "<b>Все отлично!👍</b> \n",
    "    \n",
    "Учтено!\n",
    "</div>"
   ]
  },
  {
   "cell_type": "code",
   "execution_count": 13,
   "metadata": {},
   "outputs": [
    {
     "name": "stdout",
     "output_type": "stream",
     "text": [
      "ADF -3.0689242890279558\n",
      "p-value 0.028940051402612906\n",
      "1% -3.431842162413052\n",
      "5% -2.8621993540813637\n",
      "Нулевая гипотеза - ряд стационарный\n",
      "Нулевая гипотеза отвергнута - ряд не стационарный\n"
     ]
    }
   ],
   "source": [
    "result = adfuller(data['num_orders'], autolag='AIC')\n",
    "print('ADF',result[0])\n",
    "print('p-value',result[1])\n",
    "print('1%', result[4]['1%'])\n",
    "print('5%',result[4]['5%'])\n",
    "print('Нулевая гипотеза - ряд стационарный')\n",
    "if result[0] < result[4]['5%']:\n",
    "    print('Нулевая гипотеза отвергнута - ряд не стационарный')\n",
    "else:\n",
    "    print('Нулевая гипотеза не отвергнута - ряд стационарный')"
   ]
  },
  {
   "cell_type": "markdown",
   "metadata": {},
   "source": [
    "<div class=\"alert alert-info\">\n",
    "<h2> Комментарий студента:<a class=\"tocSkip\"></h2>\n",
    "<b>  Таким образом, наш ряд не стационарный."
   ]
  },
  {
   "cell_type": "markdown",
   "metadata": {},
   "source": [
    "<div class=\"alert alert-success\">\n",
    "<h2> Комментарий ревьюера v.2 <a class=\"tocSkip\"> </h2>\n",
    "\n",
    "<b>Все отлично!👍</b> \n",
    "    \n",
    "Окей, тест провели, вывод получили правильный - тут хорошо!\n",
    "</div>"
   ]
  },
  {
   "cell_type": "markdown",
   "metadata": {},
   "source": [
    "<div class=\"alert alert-success\">\n",
    "<h2> Комментарий ревьюера <a class=\"tocSkip\"> </h2>\n",
    "\n",
    "<b>Все отлично!👍</b> \n",
    "    \n",
    "Посмотрели на уникальные значения целевого признака, а также вывели общую информацию о таблице - окей!\n",
    "</div>"
   ]
  },
  {
   "cell_type": "markdown",
   "metadata": {},
   "source": [
    "<div class=\"alert alert-block alert-danger\">\n",
    "<h2> Комментарий ревьюера <a class=\"tocSkip\"></h2>\n",
    "\n",
    "    \n",
    "<b>На доработку❌:</b>\n",
    "Аналитическая часть проекта вышла довольно скромной - её следует расширить. Хороший анализ временного ряда должен состоять из двух компонентов: EDA данных и анализ временного ряда.\n",
    "    \n",
    "EDA должен включать:\n",
    "1. Анали пропусков - метод `isna()` и `.sum()` после него для подсчёта.\n",
    "2. Анализ явных дубликатов - метод `.duplicated()` и `.sum()` для подсчёта. Однако во временном ряду может быть ситуация, когда количество заказов может быть одинаковым - это не всегда аномалия. Если дубликаты будут - на них стоит посмотреть в таблице, чтобы проверить наверняка - поможет фильтрация вида `df[df.duplicated()]`.\n",
    "3. Анализ неявных дубликатов - метод `.duplicated()`, но применённый уже к индексу: если одинаковое количество заказов в разные дни может быть одинаковым, то двух одинаковых дат быть не должно.\n",
    "    \n",
    "Анализ временного ряда должен включать:\n",
    "1. Визуализацию исходного ряда - стоит сделать вывод хотя бы об общей тенденции: ряд растёт с течением времени или остаётся стабильным?\n",
    "2. Ряд нужно разложить на компоненты (тренд, сезонность, остатки) и проанализировать:\n",
    "    \n",
    "2.1. Какой вывод можем сделать по итогу анализа трендовой компннены ряда? Есть рост с течением времени или нет?\n",
    "\n",
    "2.2. Сезонную компоненту для лушчего понимания природы сезонности стоит исследовать на более коротком промежутке времени - подойдёт 3-7 суток. Для выполнения этого пункта стоит найти ответы на следующие вопросы:\n",
    "\n",
    "- какова природа сезонности (часовая, суточная, дневная, недельная, месячная)?;\n",
    "    \n",
    "- в какие периоды (с учётом пункта выше) наблюдаются пики заказов, а в какие - спады?;\n",
    "    \n",
    "- чем обсуловлена природа сезонности? (важно помнить, что у нас данные про заказы такси в аэропортах - как это соотносится с пунктом выше).\n",
    "\n",
    "2.3. Что видим на графике остатков? Тут можно сделать предположение о стационарности ряда: если остатки ведут себя стабильно и не показывают сильный разброс, можем сделать предположение о стационарности ряда, и наоборот - нестационарный ряд будет показывать на графике разброс.\n",
    "\n",
    "3. Стоит оценить стационарность ряда и сделать об этом вывод. Сделать это можно с помощью сглаживания скользящим средним и последующей визуализацией сглаженного ряда на графике (отлично будет смотреться на графике исходного временного ряда как его дополнение из п.2.1) - это самый простой способ. В реальных же задачах с временными рядами, в особенности - с финансовыми данными или биржевыми котировками, график не всегда поможет достоверно оценить стационарность ряда. Поэтому для оценки стационарности ряда лучше использовать тест Дики — Фуллера (подробнее о нём можно глянуть тут: https://www.statsmodels.org/dev/generated/statsmodels.tsa.stattools.adfuller.html, а вот тут можно глянуть пример реализации: https://www.helenkapatsa.ru/tiest-diki-fulliera/) - он даст наиболее точный результат. Рекомендую попробовать оба способа - важно понимать, как соотносятся результаты двух способов. Также тест Дики-Фулллера стоит провести на нескольких уровнях значимости - 1% и 5%. Вдруг результаты будут отличаться?\n",
    "    \n",
    "При создании графиков, пожалуйста, придерживайся основных правил создания визуализаций:\n",
    "    \n",
    "1. Стоит подписать названия осей X и Y.\n",
    "2. Также стоит дать название графику.\n",
    "3. Технические комментарии типа `<AxesSubplot:xlabel='datetime'>` стоит убирать: это можно сделать, поставив точку с запятой в последней строке кода в блоке визуализации, либо сделать последней строкой кода этого блока метод `plt.show()`.\n",
    "4. Стоит оптимизировать график по размеру: не стоит делать графики слишком маленькими, но и перебарщивать с размером, чтобы график в ячейке приходилось скроллить, тоже не стоит. Дефолтный размер графика почти всегда не самый оптимальный, поэтому его стоит оптимизировать всегда:)\n",
    "\n",
    "</div>"
   ]
  },
  {
   "cell_type": "markdown",
   "metadata": {},
   "source": [
    "<div class=\"alert alert-success\">\n",
    "<h2> Комментарий ревьюера v.2 <a class=\"tocSkip\"> </h2>\n",
    "\n",
    "<b>Все отлично!👍</b> \n",
    "    \n",
    "Учтено всё, кроме сезонности и остатков.\n",
    "</div>"
   ]
  },
  {
   "cell_type": "markdown",
   "metadata": {},
   "source": [
    "<div class=\"alert alert-block alert-danger\">\n",
    "<h2> Комментарий ревьюера v.2 <a class=\"tocSkip\"></h2>\n",
    "\n",
    "    \n",
    "<b>На доработку❌:</b>\n",
    "К сезонности и остаткам стоит вернуться.\n",
    "\n",
    "</div>"
   ]
  },
  {
   "cell_type": "markdown",
   "metadata": {},
   "source": [
    "<div class=\"alert alert-success\">\n",
    "<h2> Комментарий ревьюера v.3 <a class=\"tocSkip\"> </h2>\n",
    "\n",
    "<b>Все отлично!👍</b> \n",
    "    \n",
    "Учтено!\n",
    "</div>"
   ]
  },
  {
   "cell_type": "markdown",
   "metadata": {},
   "source": [
    "<div class=\"alert alert-warning\">\n",
    "    <h2> Комментарий ревьюера <a class=\"tocSkip\"> </h2>\n",
    "    \n",
    "<b>Некоторые замечания и рекомендации⚠️:</b> \n",
    "\n",
    "Здесь заканчивается стрктурный блок работы - стоит делать промежуточные выводы о проделанной работе, это довольно полезная практика, которая имеет большую ценность для получателя отчёта.\n",
    "        \n",
    "Достаточно будет двух-трёх тезисных предложений об основных шагах и полученных выводах.\n",
    "        \n",
    "</div>"
   ]
  },
  {
   "cell_type": "markdown",
   "metadata": {},
   "source": [
    "<div class=\"alert alert-info\">\n",
    "<h2> Комментарий студента:<a class=\"tocSkip\"></h2>\n",
    "<b>  Наш ряд увеличивается со временем. Ряд обладает дневной сезонностью(в4 дня). Ряд не стационарный.Можем переходить к обучению."
   ]
  },
  {
   "cell_type": "markdown",
   "metadata": {},
   "source": [
    "<div class=\"alert alert-success\">\n",
    "<h2> Комментарий ревьюера v.2 <a class=\"tocSkip\"> </h2>\n",
    "\n",
    "<b>Все отлично!👍</b> \n",
    "    \n",
    "Учтено!\n",
    "</div>"
   ]
  },
  {
   "cell_type": "markdown",
   "metadata": {},
   "source": [
    "## Обучение"
   ]
  },
  {
   "cell_type": "code",
   "execution_count": 14,
   "metadata": {},
   "outputs": [],
   "source": [
    "def make_features(data,max_lag,rolling_mean_size):\n",
    "    df = data.copy()\n",
    "    df['day'] = df.index.day\n",
    "    df['dayofweek'] = df.index.dayofweek\n",
    "    \n",
    "    for lag in range(1,max_lag+1):\n",
    "        df['lag_{}'.format(lag)] = df['num_orders'].shift(lag)\n",
    "    df['rolling_mean'] = df['num_orders'].shift().rolling(rolling_mean_size).mean()\n",
    "    return df "
   ]
  },
  {
   "cell_type": "markdown",
   "metadata": {},
   "source": [
    "<div class=\"alert alert-success\">\n",
    "<h2> Комментарий ревьюера <a class=\"tocSkip\"> </h2>\n",
    "\n",
    "<b>Все отлично!👍</b> \n",
    "    \n",
    "Написали функцию для создания новых признаков - отлично!\n",
    "</div>"
   ]
  },
  {
   "cell_type": "markdown",
   "metadata": {},
   "source": [
    "<div class=\"alert alert-warning\">\n",
    "    <h2> Комментарий ревьюера <a class=\"tocSkip\"> </h2>\n",
    "    \n",
    "<b>Некоторые замечания и рекомендации⚠️:</b> \n",
    "Организация работы функции таким образом, чтобы она работала с глобальной переменной - не самая хорошая практика: если что-то пойдёт не так, придётся заново запускать весь процесс предобработки данных. \n",
    "        \n",
    "Лучше организовывать функцию так, чтобы она принимала на вход набор данных и возвращала результат работы, чтобы его можно было сохранить в новой переменной. Концепт:\n",
    "        \n",
    "    def foo(df):\n",
    "        df.dropna(inplace=True)\n",
    "    \n",
    "    foo(df)\n",
    "        \n",
    "В этом случае изменения необратимы, так как мы модифицировали глобальную переменную `df` - эту переменную придётся загружать в память заново и заново её обрабатывать.\n",
    "        \n",
    "\n",
    "    def foo(df):\n",
    "        return df.dropna()\n",
    "    \n",
    "    foo(df)\n",
    "        \n",
    "        \n",
    "Изменения будут необратимы и в таком случае, даже несмотря на на наличие `return`: несмотря на то, что работаем мы с локальной переменной, функция всё равно работает с объектом в памяти, связанным с глобальной переменной, пусть и через алиас.\n",
    "        \n",
    "    def foo(df):\n",
    "        df_foo = df.copy()\n",
    "        return df_foo.dropna()\n",
    "    \n",
    "    df_new = foo(df)\n",
    "        \n",
    "Здесь внутри функции исходный объект копируется, и работа уже происходит с новым объектом. В этом случае результат работы функции с исходными данными мы складываем в новую переменную - таким образом исходная глобальная переменная не подвергается вмешательству и сохранятся на случай, если функция сработала неправильно.\n",
    "        \n",
    "</div>"
   ]
  },
  {
   "cell_type": "markdown",
   "metadata": {},
   "source": [
    "<div class=\"alert alert-success\">\n",
    "<h2> Комментарий ревьюера v.2 <a class=\"tocSkip\"> </h2>\n",
    "\n",
    "<b>Все отлично!👍</b> \n",
    "    \n",
    "Учтено!\n",
    "</div>"
   ]
  },
  {
   "cell_type": "markdown",
   "metadata": {},
   "source": [
    "<div class=\"alert alert-block alert-danger\">\n",
    "<h2> Комментарий ревьюера <a class=\"tocSkip\"></h2>\n",
    "\n",
    "    \n",
    "<b>На доработку❌:</b>\n",
    "Концептуально выделение признака \"год\" из даты - хорошая идея, но конкретно в нашем наборе данных у нас нет наблюдений в какой-то иной год, кроме 2018. Таким образом, мы просто создали константный признак, не приносящий ценности для модели, но расширяющий признаковое пространство. Стоит его удалить:)\n",
    "        \n",
    "То же касается признака \"месяц\": так как у нас данные только за неполный год и так как данные отстортированы по возрастанию даты, модель сможет работать адекватно только с теми значениями месяца, которые были на обучающей выборке. В оперативных данных таких значений месяца не будет, и модель не сможет работать с ними корректно.\n",
    "        </div>"
   ]
  },
  {
   "cell_type": "markdown",
   "metadata": {},
   "source": [
    "<div class=\"alert alert-success\">\n",
    "<h2> Комментарий ревьюера v.2 <a class=\"tocSkip\"> </h2>\n",
    "\n",
    "<b>Все отлично!👍</b> \n",
    "    \n",
    "Учтено!\n",
    "</div>"
   ]
  },
  {
   "cell_type": "code",
   "execution_count": 15,
   "metadata": {},
   "outputs": [],
   "source": [
    "df_new = make_features(df,24,24)\n",
    "df_new = df_new.drop('rolling_mean',axis=1)"
   ]
  },
  {
   "cell_type": "markdown",
   "metadata": {},
   "source": [
    "<div class=\"alert alert-block alert-danger\">\n",
    "<h2> Комментарий ревьюера v.2 <a class=\"tocSkip\"></h2>\n",
    "\n",
    "    \n",
    "<b>На доработку❌:</b>\n",
    "Здесь довольно важный момент: после исправления функции `make_features` она возвращает результат своей работы, поэтому его нужно сохранить в какую-то переменную. В твоём случае ты просто использовал функцию без сохранения результата, поэтому она просто вернула тебе временное представление с результатом работы, но никуда его не сохранила. Чтобы всё работало, нужно присвоить результат работы функции какой-то переменной. Вроде, `df_new = make_features(df,24,24)`.\n",
    "    \n",
    "Также нужно удалить из таблицы столбец `rolling_mean`, который у тебя появился после анализа скользящих средних.\n",
    "        </div>"
   ]
  },
  {
   "cell_type": "markdown",
   "metadata": {},
   "source": [
    "<div class=\"alert alert-block alert-danger\">\n",
    "<h2> Комментарий ревьюера v.3 <a class=\"tocSkip\"></h2>\n",
    "\n",
    "    \n",
    "<b>На доработку❌:</b>\n",
    "Не учтено.\n",
    "        </div>"
   ]
  },
  {
   "cell_type": "markdown",
   "metadata": {},
   "source": [
    "<div class=\"alert alert-success\">\n",
    "<h2> Комментарий ревьюера v.4 <a class=\"tocSkip\"> </h2>\n",
    "\n",
    "<b>Все отлично!👍</b> \n",
    "    \n",
    "Учтено!\n",
    "</div>"
   ]
  },
  {
   "cell_type": "markdown",
   "metadata": {},
   "source": [
    "<div class=\"alert alert-success\">\n",
    "<h2> Комментарий ревьюера <a class=\"tocSkip\"> </h2>\n",
    "\n",
    "<b>Все отлично!👍</b> \n",
    "    \n",
    "Создали новые признаки - отлично!\n",
    "</div>"
   ]
  },
  {
   "cell_type": "markdown",
   "metadata": {},
   "source": [
    "<div class=\"alert alert-warning\">\n",
    "    <h2> Комментарий ревьюера <a class=\"tocSkip\"> </h2>\n",
    "    \n",
    "<b>Некоторые замечания и рекомендации⚠️:</b> \n",
    "\n",
    "Давай немного порассуждаем о размере окна для скольящего среднего: ты передаёшь значение для окна в 1 шаг, соответственно, твоё скользящее среднее будет смотреть в прошлое на 1 час назад (так как ранее мы сделали часовое ресэмплирование). Тут есть как плюсы, так и минусы: если взять размер окна слишком маленьким, то модель будет быстрее схватывать новые тренды в данных, но не будет иметь достаточно истричности для формирования самого тренда, то есть получит хорошую уточняющую способность от оперативных данных, но уточнять особо будет нечего. С другой стороны, если задать слишком широкое окно для скользящего среднего, мы получим модель, хорошо помнящую, что было раньше, но довольно неповоротливую с точки зрения улавливания оперативных изменения - все вновь поступающие сигналы будут глушиться тяжёлым хвостом из прошлого. Оптимальность окна - это тоже своего рода гиперпараметр, который стоит подбирать экспериментально. В нашем случае есть суточная сезонность, поэтому значение `24` было бы оптимальным, а вот `1` - слишком мало, такой признак будет бесполезен.\n",
    "</div>"
   ]
  },
  {
   "cell_type": "markdown",
   "metadata": {},
   "source": [
    "<div class=\"alert alert-success\">\n",
    "<h2> Комментарий ревьюера v.2 <a class=\"tocSkip\"> </h2>\n",
    "\n",
    "<b>Все отлично!👍</b> \n",
    "    \n",
    "Учтено!\n",
    "</div>"
   ]
  },
  {
   "cell_type": "markdown",
   "metadata": {},
   "source": [
    "<div class=\"alert alert-warning\">\n",
    "    <h2> Комментарий ревьюера v.2 <a class=\"tocSkip\"> </h2>\n",
    "    \n",
    "<b>Некоторые замечания и рекомендации⚠️:</b> \n",
    "\n",
    "Значение `100` для величины лага великовато - учитывая, что сезонность имеет суточный характер и что данные собраны на уровне часа, значения `24` было бы достаточно: при 100 лаговых переменных мы сильно увеличиваем время обучения моделей, а результат вряд ли будет стоить такой заминки.\n",
    "</div>"
   ]
  },
  {
   "cell_type": "markdown",
   "metadata": {},
   "source": [
    "<div class=\"alert alert-success\">\n",
    "<h2> Комментарий ревьюера v.3 <a class=\"tocSkip\"> </h2>\n",
    "\n",
    "<b>Все отлично!👍</b> \n",
    "    \n",
    "Учтено!\n",
    "</div>"
   ]
  },
  {
   "cell_type": "code",
   "execution_count": 16,
   "metadata": {},
   "outputs": [],
   "source": [
    "train, test = train_test_split(df_new,shuffle=False,test_size=0.1)\n",
    "train = train.dropna()"
   ]
  },
  {
   "cell_type": "markdown",
   "metadata": {},
   "source": [
    "<div class=\"alert alert-success\">\n",
    "<h2> Комментарий ревьюера <a class=\"tocSkip\"> </h2>\n",
    "\n",
    "<b>Все отлично!👍:</b>\n",
    "Сплитование сделано корректно как с точки зрения учёта специфики временного ряда (отключено перемешивание), так и размера тестовой выборки.\n",
    "</div>"
   ]
  },
  {
   "cell_type": "code",
   "execution_count": 17,
   "metadata": {},
   "outputs": [],
   "source": [
    "x_train = train.drop('num_orders',axis=1)\n",
    "y_train = train['num_orders']\n",
    "x_test = test.drop('num_orders',axis=1)\n",
    "y_test = test['num_orders']"
   ]
  },
  {
   "cell_type": "markdown",
   "metadata": {},
   "source": [
    "<div class=\"alert alert-success\">\n",
    "<h2> Комментарий ревьюера <a class=\"tocSkip\"> </h2>\n",
    "\n",
    "<b>Все отлично!👍:</b>\n",
    "Выделили признаки для обучения и целевой признак - хорошо!\n",
    "</div>"
   ]
  },
  {
   "cell_type": "code",
   "execution_count": 18,
   "metadata": {},
   "outputs": [],
   "source": [
    "tss = TimeSeriesSplit(n_splits=3)"
   ]
  },
  {
   "cell_type": "markdown",
   "metadata": {},
   "source": [
    "<div class=\"alert alert-block alert-danger\">\n",
    "<h2> Комментарий ревьюера v.3 <a class=\"tocSkip\"></h2>\n",
    "\n",
    "    \n",
    "<b>На доработку❌:</b>\n",
    "В таком виде использование `TimeSeriesSplit` некорректно: в цикле ты просто перебираешь индексы, переприсваивая названия переменных. В итоге вмето обучения три раза модель обучается только один раз, и смысл кросс-валидации теряется. \n",
    "    \n",
    "При использовании твоего подхода модель нужно обучать внутри цикла. Или альтернативный способ, более простой - передать `tss` параметру `cv` при использовании `cross_val_score` или `GridSearchCV`.\n",
    "</div>"
   ]
  },
  {
   "cell_type": "markdown",
   "metadata": {},
   "source": [
    "<div class=\"alert alert-success\">\n",
    "<h2> Комментарий ревьюера v.4 <a class=\"tocSkip\"> </h2>\n",
    "\n",
    "<b>Все отлично!👍</b> \n",
    "    \n",
    "Учтено!\n",
    "</div>"
   ]
  },
  {
   "cell_type": "code",
   "execution_count": 19,
   "metadata": {},
   "outputs": [],
   "source": [
    "scoring = make_scorer(mean_squared_error, greater_is_better=False, squared=False)"
   ]
  },
  {
   "cell_type": "markdown",
   "metadata": {},
   "source": [
    "<div class=\"alert alert-success\">\n",
    "<h2> Комментарий ревьюера v.2 <a class=\"tocSkip\"> </h2>\n",
    "\n",
    "<b>Все отлично!👍:</b>\n",
    "Круто, что решил использовать `make_scorer`!\n",
    "</div>"
   ]
  },
  {
   "cell_type": "markdown",
   "metadata": {},
   "source": [
    "<div class=\"alert alert-warning\">\n",
    "    <h2> Комментарий ревьюера v.2 <a class=\"tocSkip\"> </h2>\n",
    "    \n",
    "<b>Некоторые замечания и рекомендации⚠️:</b> \n",
    "\n",
    "Вместо того, чтобы каждый раз извлекать квадратный корень из ответа, ты можешь в `make_scorer` передать `squared=False`, и на выходе мы получим `RMSE` без лишних усилий.\n",
    "</div>"
   ]
  },
  {
   "cell_type": "markdown",
   "metadata": {},
   "source": [
    "<div class=\"alert alert-success\">\n",
    "<h2> Комментарий ревьюера v.3 <a class=\"tocSkip\"> </h2>\n",
    "\n",
    "<b>Все отлично!👍</b> \n",
    "    \n",
    "Учтено!\n",
    "</div>"
   ]
  },
  {
   "cell_type": "markdown",
   "metadata": {},
   "source": [
    "<div class=\"alert alert-block alert-danger\">\n",
    "<h2> Комментарий ревьюера v.2 <a class=\"tocSkip\"></h2>\n",
    "\n",
    "    \n",
    "<b>На доработку❌:</b>\n",
    "При использовании `make_scorer` для задач регрессии важно указать параметр `greater_is_better=False`, так как по умолчанию `GridSearchCV` стремится максимизировать оптимизируемую метрику, а в случае задачи регрессии метрика тем лучше, чем ниже.\n",
    "</div>"
   ]
  },
  {
   "cell_type": "markdown",
   "metadata": {},
   "source": [
    "<div class=\"alert alert-success\">\n",
    "<h2> Комментарий ревьюера v.3 <a class=\"tocSkip\"> </h2>\n",
    "\n",
    "<b>Все отлично!👍</b> \n",
    "    \n",
    "Учтено!\n",
    "</div>"
   ]
  },
  {
   "cell_type": "code",
   "execution_count": 20,
   "metadata": {},
   "outputs": [
    {
     "name": "stdout",
     "output_type": "stream",
     "text": [
      "Fitting 3 folds for each of 21 candidates, totalling 63 fits\n",
      "RMSE: -28.115221008663905\n",
      "{'max_depth': 8, 'n_estimators': 200}\n"
     ]
    }
   ],
   "source": [
    "grid = [{'n_estimators' : [100,200,50],'max_depth':range(2,9)}]\n",
    "forest = RandomForestRegressor(random_state=12345)\n",
    "model = GridSearchCV(forest,grid,scoring=scoring,cv=tss,verbose=1)\n",
    "model.fit(x_train,y_train)\n",
    "print('RMSE:', model.best_score_)\n",
    "print(model.best_params_)"
   ]
  },
  {
   "cell_type": "markdown",
   "metadata": {},
   "source": [
    "<div class=\"alert alert-block alert-danger\">\n",
    "<h2> Комментарий ревьюера <a class=\"tocSkip\"></h2>\n",
    "\n",
    "    \n",
    "<b>На доработку❌:</b>\n",
    "Тут довольно грубая ошибка - для задачи регрессии ты используешь алгоритм классификации - это неверное решение. Используй, пожалуйста, алгоритм для регресионных задач.\n",
    "        </div>"
   ]
  },
  {
   "cell_type": "markdown",
   "metadata": {},
   "source": [
    "<div class=\"alert alert-success\">\n",
    "<h2> Комментарий ревьюера v.2 <a class=\"tocSkip\"> </h2>\n",
    "\n",
    "<b>Все отлично!👍</b> \n",
    "    \n",
    "Учтено!\n",
    "</div>"
   ]
  },
  {
   "cell_type": "markdown",
   "metadata": {},
   "source": [
    "<div class=\"alert alert-block alert-danger\">\n",
    "<h2> Комментарий ревьюера v.2 <a class=\"tocSkip\"></h2>\n",
    "\n",
    "    \n",
    "<b>На доработку❌:</b>\n",
    "Тут ты немного намешал кашу из двух подходов к кросс-валидации:\n",
    "1. Одновременно использовать `GridSearchCV` и `cross_val_score` не нужно: если подбираем гиперпараметры - используем `GridSearchCV`, если нет - `cross_val_score`.\n",
    "2. Оценку на кросс-валидации при использовании `GridSearch` нужно получить из атрибута `best_score_` после обучения инструмента, в случае `cross_val_score` нужно взять среднее значение массива, а не выводить весь массив.\n",
    "</div>"
   ]
  },
  {
   "cell_type": "markdown",
   "metadata": {},
   "source": [
    "<div class=\"alert alert-success\">\n",
    "<h2> Комментарий ревьюера v.3 <a class=\"tocSkip\"> </h2>\n",
    "\n",
    "<b>Все отлично!👍</b> \n",
    "    \n",
    "Учтено!\n",
    "</div>"
   ]
  },
  {
   "cell_type": "markdown",
   "metadata": {},
   "source": [
    "<div class=\"alert alert-block alert-danger\">\n",
    "<h2> Комментарий ревьюера v.2 <a class=\"tocSkip\"></h2>\n",
    "\n",
    "    \n",
    "<b>На доработку❌:</b>\n",
    "Также важные замечания по параметрам:\n",
    "1. `max_depth` перебирается в диапазоне от 1 до 20 - это избыточно широкая сетка, так как после значения глубины в 5-7 деревья начинают сильно переобучаться. С другой стороны, чем глубже дерево, тем дольше оно обучается. Поэтому рекомендую исследовать диапазон от 3 до 7-9.\n",
    "2. `n_estimators` исследуются в таком же диапазоне - для случайного леса это очень маленький диапазон. Сила случайного леса в большом количестве эстиматоров в ансамбле: по умолчанию используется 100 эстиматоров, поэтому при исследовании диапазона оптимальных значений этого параметра рекомендую отталкиваться от 100 с шагом в 50/100.\n",
    "3. В случае `RandomForestRegressor` также важно задать параметр случайности `random_state` (только подбирать его не нужно).\n",
    "</div>"
   ]
  },
  {
   "cell_type": "markdown",
   "metadata": {},
   "source": [
    "<div class=\"alert alert-block alert-danger\">\n",
    "<h2> Комментарий ревьюера v.3 <a class=\"tocSkip\"></h2>\n",
    "\n",
    "    \n",
    "<b>На доработку❌:</b>\n",
    "С `max_depth` теперь всё хорошо, но вот с `n_estimators` есть вопросы: ты рассматриваешь последовательность от 100 до 150 с шагом в 200 - это физически невозможно: шаг больше самой последовательности. Скорректируй, пожалуйста, сетку параметров.\n",
    "</div>"
   ]
  },
  {
   "cell_type": "markdown",
   "metadata": {},
   "source": [
    "<div class=\"alert alert-success\">\n",
    "<h2> Комментарий ревьюера v.4 <a class=\"tocSkip\"> </h2>\n",
    "\n",
    "<b>Все отлично!👍</b> \n",
    "    \n",
    "Учтено!\n",
    "</div>"
   ]
  },
  {
   "cell_type": "code",
   "execution_count": 21,
   "metadata": {},
   "outputs": [
    {
     "name": "stdout",
     "output_type": "stream",
     "text": [
      "RMSE: -27.73737408354424\n"
     ]
    }
   ],
   "source": [
    "model = LinearRegression()\n",
    "scores = cross_val_score(model,x_train,y_train,cv=tss,scoring = scoring)\n",
    "print('RMSE:',scores.mean() )"
   ]
  },
  {
   "cell_type": "markdown",
   "metadata": {},
   "source": [
    "<div class=\"alert alert-block alert-danger\">\n",
    "<h2> Комментарий ревьюера v.3 <a class=\"tocSkip\"></h2>\n",
    "\n",
    "    \n",
    "<b>На доработку❌:</b>\n",
    "Ты повторил первую ошибку с кросс-валидацией - перечитай, пожалуйста, первый комментарий об особенности кросс-валидации для временных рядом и использовании `TimeSeriesSplit`: то, что ты в ячейке `19` создал `train` и `test` выборки с помощью `TimeSeriesSplit`, не исключает ошибочной кросс-валидации с перемешиванием при использовании `cv=5`. Вернись, пожалуйста, к первому комментарию по этому вопросу.\n",
    "</div>"
   ]
  },
  {
   "cell_type": "markdown",
   "metadata": {},
   "source": [
    "<div class=\"alert alert-success\">\n",
    "<h2> Комментарий ревьюера v.4 <a class=\"tocSkip\"> </h2>\n",
    "\n",
    "<b>Все отлично!👍</b> \n",
    "    \n",
    "Учтено!\n",
    "</div>"
   ]
  },
  {
   "cell_type": "markdown",
   "metadata": {},
   "source": [
    "<div class=\"alert alert-success\">\n",
    "<h2> Комментарий ревьюера <a class=\"tocSkip\"> </h2>\n",
    "\n",
    "<b>Все отлично!👍:</b>\n",
    "С линейной регрессией окей!\n",
    "</div>"
   ]
  },
  {
   "cell_type": "markdown",
   "metadata": {},
   "source": [
    "Наиболее подходящая модель - Линейная регрессия."
   ]
  },
  {
   "cell_type": "markdown",
   "metadata": {},
   "source": [
    "<div class=\"alert alert-block alert-danger\">\n",
    "<h2> Комментарий ревьюера <a class=\"tocSkip\"></h2>\n",
    "\n",
    "    \n",
    "<b>На доработку❌:</b>\n",
    "Есть несколько замечаний по этому разделу:\n",
    "1. Проведение промежуточной валидации на независимой выборке - хорошее решение, однако оно не очень помогает в решении проблемы недо- или переобучения. Для того, чтобы этот эффект минимизировать, проводят кросс-валидацию. В случае подбора гиперпараметров можно использовать `GridSerachCV` (https://scikit-learn.org/stable/modules/generated/sklearn.model_selection.GridSearchCV.html) или `RandomizedSearchCV` (https://scikit-learn.org/stable/modules/generated/sklearn.model_selection.RandomizedSearchCV.html) - это инструменты для подбора оптимальных гиперпараметров, которые при подборе провдят кросс-валидацию. Результаты кросс-валидации доступны в атрибует `best_score_` после завершения обучения инструмента. В случае, если подбор параметров не осуществляется, кросс-валидацию можно провести с помощью `cross_val_score` (https://scikit-learn.org/stable/modules/generated/sklearn.model_selection.cross_val_score.html). В случае этого инструмента результаты кросс-валидации будут в массиве, который этот инструмент возвращает (длина массива зависит от количества фолдов). Чтобы вывести итоговую метрику, нужно посчитать среднее значение элементов этого массива. \n",
    "2. Для случайного леса стоит сделать подбор гиперпараметров модели с помощью `GridSerachCV` или `RandomizedSearchCV`. Оптимизировать стоит не менее двух параметров.\n",
    "    \n",
    "При проведении кросс-валидации стоит учитывать специфику временных рядов: правильным решением будет использование специального инструмента библиотеки `sklearn` для кросс-валидации временных рядов `TimeSeriesSplit` (подробнее тут: https://scikit-learn.org/stable/modules/generated/sklearn.model_selection.TimeSeriesSplit.html). Он формирует фолды так, чтобы в фолдах для обучения не было данных из фолдов для тестирования, что критически важно при работе с временными рядами. Экземпляр этого валидатора нужно будет передать в параметр `cv` при использовании `GridSearchCV` или `RandomizedSearchCV`.\n",
    "    \n",
    "Также рекомендую почитать статью о сплитовании для временных рядов - даст понимание, как работает `TimeSeriesSplit`: https://medium.com/@Hong_Tang/timeseries-split-with-sklearn-tips-8162c83612b9. \n",
    "        </div>"
   ]
  },
  {
   "cell_type": "markdown",
   "metadata": {},
   "source": [
    "<div class=\"alert alert-success\">\n",
    "<h2> Комментарий ревьюера v.2 <a class=\"tocSkip\"> </h2>\n",
    "\n",
    "<b>Все отлично!👍:</b>\n",
    "Тут учтено!\n",
    "</div>"
   ]
  },
  {
   "cell_type": "markdown",
   "metadata": {},
   "source": [
    "<div class=\"alert alert-warning\">\n",
    "    <h2> Комментарий ревьюера <a class=\"tocSkip\"> </h2>\n",
    "    \n",
    "<b>Некоторые замечания и рекомендации⚠️:</b> \n",
    "\n",
    "Здесь заканчивается стрктурный блок работы - стоит сделать промежуточные выводы о проделанной работе в блоке."
   ]
  },
  {
   "cell_type": "markdown",
   "metadata": {},
   "source": [
    "<div class=\"alert alert-success\">\n",
    "<h2> Комментарий ревьюера v.2 <a class=\"tocSkip\"> </h2>\n",
    "\n",
    "<b>Все отлично!👍:</b>\n",
    "Тут учтено!\n",
    "</div>"
   ]
  },
  {
   "cell_type": "code",
   "execution_count": 22,
   "metadata": {},
   "outputs": [
    {
     "name": "stdout",
     "output_type": "stream",
     "text": [
      "RMSE: 84.6499381993622\n"
     ]
    }
   ],
   "source": [
    "model = DummyRegressor(strategy='mean')\n",
    "model.fit(x_train,y_train)\n",
    "predictions = model.predict(x_test)\n",
    "print('RMSE:', mean_squared_error(predictions,y_test,squared=False))"
   ]
  },
  {
   "cell_type": "markdown",
   "metadata": {},
   "source": [
    "<div class=\"alert alert-info\">\n",
    "<h2> Комментарий студента:<a class=\"tocSkip\"></h2>\n",
    "<b>  Мы разбили временные ряды для обучения.Написали 3 алгоритма для решения задачи регрессии, из которых наилучший результат показала Линейная Регрессия.Проверим ее на тестовой выборке."
   ]
  },
  {
   "cell_type": "markdown",
   "metadata": {},
   "source": [
    "## Тестирование"
   ]
  },
  {
   "cell_type": "code",
   "execution_count": 23,
   "metadata": {},
   "outputs": [
    {
     "name": "stdout",
     "output_type": "stream",
     "text": [
      "RMSE:  44.98181783101926\n"
     ]
    }
   ],
   "source": [
    "model = LinearRegression()\n",
    "model.fit(x_train,y_train)\n",
    "predictions = model.predict(x_test)\n",
    "print('RMSE: ',mean_squared_error(y_test,predictions,squared=False))"
   ]
  },
  {
   "cell_type": "markdown",
   "metadata": {},
   "source": [
    "<div class=\"alert alert-info\">\n",
    "<h2> Комментарий студента:\\Вывод V.3<a class=\"tocSkip\"></h2>\n",
    "<b> Сначала мы подготовили данные.Затем провели анализ. Тренд показал нам,что ряд растет со временем, нашли сезонность.Подготовили данные к обучению, учитывая специфику временных рядов.Обучили несколько алгоритмов регрессии.Наилучшие результаты получились для Линейной Регрессии.Проверили модель на тестовой выборке.Метрика качества удовлетворяет условию.Модель прошла проверку."
   ]
  },
  {
   "cell_type": "markdown",
   "metadata": {},
   "source": [
    "<div class=\"alert alert-success\">\n",
    "<h2> Комментарий ревьюера v.4 <a class=\"tocSkip\"> </h2>\n",
    "\n",
    "<b>Все отлично!👍</b> \n",
    "    \n",
    "Вывод - огонь!\n",
    "</div>"
   ]
  },
  {
   "cell_type": "markdown",
   "metadata": {},
   "source": [
    "<div class=\"alert alert-info\">\n",
    "<h2> Комментарий студента:<a class=\"tocSkip\"></h2>\n",
    "<b>  Таким образом, наша модель прошла проверку метрикой качества."
   ]
  },
  {
   "cell_type": "markdown",
   "metadata": {},
   "source": [
    "<div class=\"alert alert-block alert-danger\">\n",
    "<h2> Комментарий ревьюера v.2 <a class=\"tocSkip\"></h2>\n",
    "\n",
    "    \n",
    "<b>На доработку❌:</b>\n",
    "Кажется, всё же не прошла: значение метрики выше 48. Думаю, после учёта оставленных комментариев порог всё же будет взят:)\n",
    "</div>"
   ]
  },
  {
   "cell_type": "markdown",
   "metadata": {},
   "source": [
    "<div class=\"alert alert-info\">\n",
    "<h2> Комментарий студента: v.2<a class=\"tocSkip\"></h2>\n",
    "<b>  Вроде бы все исправил.Модель все равно не проходит проверку.Подскажите,что делать, пожалуйста."
   ]
  },
  {
   "cell_type": "markdown",
   "metadata": {},
   "source": [
    "<div class=\"alert alert-block alert-danger\">\n",
    "<h2> Комментарий ревьюера v.3 <a class=\"tocSkip\"></h2>\n",
    "\n",
    "    \n",
    "<b>На доработку❌:</b>\n",
    "Оставил тебе комментарии по этому поводу в блоке с функцией `make_features`. Так как ты не сохранил результат её работы, то твоя модель учится только на одной переменной - скользящее среднее."
   ]
  },
  {
   "cell_type": "markdown",
   "metadata": {},
   "source": [
    "<div class=\"alert alert-success\">\n",
    "<h2> Комментарий ревьюера v.4 <a class=\"tocSkip\"> </h2>\n",
    "\n",
    "<b>Все отлично!👍</b> \n",
    "    \n",
    "Учтено!\n",
    "</div>"
   ]
  },
  {
   "cell_type": "code",
   "execution_count": 24,
   "metadata": {},
   "outputs": [],
   "source": [
    "y_test = pd.Series(y_test)"
   ]
  },
  {
   "cell_type": "markdown",
   "metadata": {},
   "source": [
    "<div class=\"alert alert-block alert-danger\">\n",
    "<h2> Комментарий ревьюера v.2 <a class=\"tocSkip\"></h2>\n",
    "\n",
    "    \n",
    "<b>На доработку❌:</b>\n",
    "А зачем тут цикл, если можно сделать `y_test=pd.Series(y_test)`?\n",
    "</div>"
   ]
  },
  {
   "cell_type": "markdown",
   "metadata": {},
   "source": [
    "<div class=\"alert alert-success\">\n",
    "<h2> Комментарий ревьюера v.3 <a class=\"tocSkip\"> </h2>\n",
    "\n",
    "<b>Все отлично!👍:</b>\n",
    "Тут учтено!\n",
    "</div>"
   ]
  },
  {
   "cell_type": "code",
   "execution_count": 25,
   "metadata": {},
   "outputs": [
    {
     "data": {
      "image/png": "[encoded data removed]",
      "text/plain": [
       "<Figure size 1440x720 with 1 Axes>"
      ]
     },
     "metadata": {
      "needs_background": "light"
     },
     "output_type": "display_data"
    }
   ],
   "source": [
    "predictions = pd.Series(predictions,index = y_test.index)\n",
    "plt.figure(figsize=(20,10))\n",
    "predictions.plot(ax=plt.gca(),label = 'Предсказания')\n",
    "y_test.plot(label = 'Реальные значения')\n",
    "plt.legend(fontsize=16)\n",
    "plt.title('Сравнение предсказаний с реальными значениями.')\n",
    "plt.show()"
   ]
  },
  {
   "cell_type": "markdown",
   "metadata": {},
   "source": [
    "Таким образом, модель прошла проверку с RMSE меньшим 48.Она нам подходит."
   ]
  },
  {
   "cell_type": "markdown",
   "metadata": {},
   "source": [
    "<div class=\"alert alert-success\">\n",
    "<h2> Комментарий ревьюера <a class=\"tocSkip\"> </h2>\n",
    "\n",
    "<b>Все отлично!👍:</b>\n",
    "Хороший результат!\n",
    "</div>"
   ]
  },
  {
   "cell_type": "markdown",
   "metadata": {},
   "source": [
    "<div class=\"alert alert-block alert-danger\">\n",
    "<h2> Комментарий ревьюера <a class=\"tocSkip\"></h2>\n",
    "\n",
    "    \n",
    "<b>На доработку❌:</b>\n",
    "Лучшую модель стоит проверить на адекватность - для этого стоит сделать модель, предсказывающую среднее значение ряда на тренировочной выборке, оценить её качество на тестовой выборке и сравнить с качеством нашей модели - вдруг результат у константной модели, всегда предсказывающей одно и то же число, будет сопоставим или даже лучше нашей модели? Тогда стоило бы что-то поменять в процессе построения модели.\n",
    "    \n",
    "В качестве константной модели рекомендую использовать `DummyRegressor` (https://scikit-learn.org/stable/modules/generated/sklearn.dummy.DummyRegressor.html).\n",
    "        </div>"
   ]
  },
  {
   "cell_type": "markdown",
   "metadata": {},
   "source": [
    "<div class=\"alert alert-success\">\n",
    "<h2> Комментарий ревьюера v.2 <a class=\"tocSkip\"> </h2>\n",
    "\n",
    "<b>Все отлично!👍:</b>\n",
    "Учтено!\n",
    "</div>"
   ]
  },
  {
   "cell_type": "markdown",
   "metadata": {},
   "source": [
    "<div class=\"alert alert-warning\">\n",
    "    <h2> Комментарий ревьюера <a class=\"tocSkip\"> </h2>\n",
    "    \n",
    "<b>Некоторые замечания и рекомендации⚠️:</b> \n",
    "\n",
    "Здесь также было бы очень полезно визуализировать предсказания твоей лучшей модели и сравнить их с правильными ответами в формате линейного графика - так мы сможем более наглядно понять, в каких местах твоя модель делает хорошие предсказания, а в каких ошибается.\n",
    "\n",
    "</div>"
   ]
  },
  {
   "cell_type": "markdown",
   "metadata": {},
   "source": [
    "<div class=\"alert alert-success\">\n",
    "<h2> Комментарий ревьюера v.2 <a class=\"tocSkip\"> </h2>\n",
    "\n",
    "<b>Все отлично!👍:</b>\n",
    "График построен!\n",
    "</div>"
   ]
  },
  {
   "cell_type": "markdown",
   "metadata": {},
   "source": [
    "<div class=\"alert alert-block alert-danger\">\n",
    "<h2> Комментарий ревьюера v.2 <a class=\"tocSkip\"></h2>\n",
    "\n",
    "    \n",
    "<b>На доработку❌:</b>\n",
    "Однако по оси X стоит отложить дату, так как мы сравниваем 2 ряда - реальный и предсказанный - на одном и том же промежутке.\n",
    "    \n",
    "Добавить даты можно при создании объекта `pd.Series` через обращение к индексу, скажем, `x_test`:\n",
    "    \n",
    "    pred = pd.Series(pred, index=x_test.index)\n",
    "</div>"
   ]
  },
  {
   "cell_type": "markdown",
   "metadata": {},
   "source": [
    "<div class=\"alert alert-success\">\n",
    "<h2> Комментарий ревьюера v.3 <a class=\"tocSkip\"> </h2>\n",
    "\n",
    "<b>Все отлично!👍:</b>\n",
    "То, что нужно!\n",
    "</div>"
   ]
  },
  {
   "cell_type": "markdown",
   "metadata": {},
   "source": [
    "<div class=\"alert alert-warning\">\n",
    "    <h2> Комментарий ревьюера <a class=\"tocSkip\"> </h2>\n",
    "    \n",
    "<b>Некоторые замечания и рекомендации⚠️:</b> \n",
    "\n",
    "Здесь заканчивается стрктурный блок работы - стоит сделать промежуточные выводы о проделанной работе в блоке."
   ]
  },
  {
   "cell_type": "markdown",
   "metadata": {},
   "source": [
    "<div class=\"alert alert-info\">\n",
    "<h2> Комментарий студента:<a class=\"tocSkip\"></h2>\n",
    "<b> Мы проверили модель на тестовой выборке.Значение метрики не больше 48, значит, алгоритм нам подходит."
   ]
  },
  {
   "cell_type": "markdown",
   "metadata": {},
   "source": [
    "<div class=\"alert alert-success\">\n",
    "<h2> Комментарий ревьюера v.2 <a class=\"tocSkip\"> </h2>\n",
    "\n",
    "<b>Все отлично!👍:</b>\n",
    "Есть вывод!\n",
    "</div>"
   ]
  },
  {
   "cell_type": "markdown",
   "metadata": {},
   "source": [
    "<div class=\"alert alert-block alert-danger\">\n",
    "<h2> Комментарий ревьюера v.2 <a class=\"tocSkip\"></h2>\n",
    "\n",
    "    \n",
    "<b>На доработку❌:</b>\n",
    "Но нужно будет переделать - пока метрика не соответствует границе проекта.\n",
    "</div>"
   ]
  },
  {
   "cell_type": "markdown",
   "metadata": {},
   "source": [
    "<div class=\"alert alert-block alert-danger\">\n",
    "<h2> Комментарий ревьюера v.3 <a class=\"tocSkip\"></h2>\n",
    "\n",
    "    \n",
    "<b>На доработку❌:</b>\n",
    "Всё ещё нужна корректировка вывода."
   ]
  },
  {
   "cell_type": "markdown",
   "metadata": {},
   "source": [
    "<div class=\"alert alert-success\">\n",
    "<h2> Комментарий ревьюера v.4 <a class=\"tocSkip\"> </h2>\n",
    "\n",
    "<b>Все отлично!👍</b> \n",
    "    \n",
    "Учтено!\n",
    "</div>"
   ]
  },
  {
   "cell_type": "markdown",
   "metadata": {},
   "source": [
    "<div class=\"alert alert-warning\">\n",
    "    <h2> Комментарий ревьюера <a class=\"tocSkip\"> </h2>\n",
    "    \n",
    "<b>Некоторые замечания и рекомендации⚠️:</b> \n",
    "По завершении проекта стоит сделать итоговый вывод: в него можно включить основные шаги проекта, а также ключевые выводы, полученные в ходе работы над ним.\n",
    "        </div>"
   ]
  },
  {
   "cell_type": "markdown",
   "metadata": {},
   "source": [
    "<div class=\"alert alert-info\">\n",
    "<h2> Комментарий студента:\\Вывод<a class=\"tocSkip\"></h2>\n",
    "<b> Сначала мы подготовили данные.Затем провели анализ. Тренд показал нам,что ряд растет со временем, нашли сезонность в 4 дня.Подготовили данные к обучению, учитывая специфику временных рядов.Обучили несколько алгоритмов регрессии.Наилучшие результаты получились для Линейной Регрессии.Проверили модель на тестовой выборке.Метрика качества удовлетворяет условию.Модель прошла проверку."
   ]
  },
  {
   "cell_type": "markdown",
   "metadata": {},
   "source": [
    "<div class=\"alert alert-success\">\n",
    "<h2> Комментарий ревьюера v.2 <a class=\"tocSkip\"> </h2>\n",
    "\n",
    "<b>Все отлично!👍:</b>\n",
    "Итоговый вывод также появился - отлично!\n",
    "</div>"
   ]
  },
  {
   "cell_type": "markdown",
   "metadata": {},
   "source": [
    "<div class=\"alert alert-info\">\n",
    "<h2> Комментарий студента:<a class=\"tocSkip\"></h2>\n",
    "<b>  Спасибо большое за ваши подсказки и полезные ссылки.Постарался выполнить, как можно больше исправлений.Было интересно."
   ]
  },
  {
   "cell_type": "markdown",
   "metadata": {},
   "source": [
    "<div class=\"alert alert-success\">\n",
    "<h2> Комментарий ревьюера v.2 <a class=\"tocSkip\"> </h2>\n",
    "\n",
    "<b>Все отлично!👍:</b>\n",
    "Всегда пожалуйста - рад, что тебе было интересно:)\n",
    "</div>"
   ]
  },
  {
   "cell_type": "markdown",
   "metadata": {},
   "source": [
    "## Чек-лист проверки"
   ]
  },
  {
   "cell_type": "markdown",
   "metadata": {},
   "source": [
    "- [x]  Jupyter Notebook открыт\n",
    "- [ ]  Весь код выполняется без ошибок\n",
    "- [ ]  Ячейки с кодом расположены в порядке исполнения\n",
    "- [ ]  Данные загружены и подготовлены\n",
    "- [ ]  Данные проанализированы\n",
    "- [ ]  Модель обучена, гиперпараметры подобраны\n",
    "- [ ]  Качество моделей проверено, выводы сделаны\n",
    "- [ ]  Значение *RMSE* на тестовой выборке не больше 48"
   ]
  },
  {
   "cell_type": "markdown",
   "metadata": {},
   "source": [
    "<div style=\"border:solid Chocolate 2px; padding: 40px\">\n",
    "\n",
    "# Комментарий ревьюера: общий вывод по проекту.\n",
    "\n",
    "Тебе удалось задать классный старт работы над проектом - хорошо поработал, молодец! На следующих итерациях займёмся причёсыванием твоего проекта и доведением его точки наивысшего качества:)\n",
    "    \n",
    "Отмечу несколько плюсов твоей работы.\n",
    "\n",
    "Ты верно выполнил все задания проекта, последовательно прошёл все его шаги, получил верные выводы и ничего не упустил в процессе - это классно, ты молодец!\n",
    "    \n",
    "Понравилось также, что ты не ограничился использованием простеньких алгоритмов типа линейной регрессии, а использовал более продвинутые инструменты вроде случайного леса.\n",
    "    \n",
    "Есть некоторые рекомендации по улучшению твоего проекта, касающиеся как оформления, так и аналитической части и части работы с моделями - я оставил их в комментариях жёлтого цвета. Будет здорово, если ты учтёшь эти рекомендации во время следующей итерации работы над проектом - тогда ценность твоего проекта сильно возрастёт.\n",
    "    \n",
    "Также в проекте есть критические замечания. Важно устранить эти замечания, чтобы проект был принят. К ним я оставил комментарии красного цвета, в которых описаны необходимые для устранения замечаний действия.  \n",
    "    \n",
    "Если по тому, что нужно сделать, будут вопросы - оставь их, пожалуйста, в комментариях, и я отвечу на них во время следующего ревью:)\n",
    "    \n",
    "Также буду рад ответить на любые твои вопросы по проекту или на какие-либо другие, если они у тебя имеются - оставь их в комментариях, и я постараюсь ответить:)\n",
    "    \n",
    "Жду твой проект на повторном ревью. До встречи:)"
   ]
  },
  {
   "cell_type": "markdown",
   "metadata": {},
   "source": [
    "<div style=\"border:solid Chocolate 2px; padding: 40px\">\n",
    "\n",
    "# Комментарий ревьюера: общий вывод по проекту v.2.\n",
    "\n",
    "Шарухан, спасибо, что прислал проект на повторное ревью: часть замечаний была учтена, проект стал лучше!\n",
    "    \n",
    "Однако ещё есть над чем поработать - актуальные замечания указаны в комментариях с меткой `v.2`. \n",
    "    \n",
    "Жду тебя снова:)"
   ]
  },
  {
   "cell_type": "markdown",
   "metadata": {},
   "source": [
    "<div style=\"border:solid Chocolate 2px; padding: 40px\">\n",
    "\n",
    "# Комментарий ревьюера: общий вывод по проекту v.3.\n",
    "\n",
    "Шарухан, спасибо, что снова прислал проект - часть вопросов закрыли, отлично постарался!\n",
    "    \n",
    "Продолжаем работу над проектом - актуальные комментарии в ячейках с подписью `v.3`.\n",
    "    \n",
    "Жду тебя снова:)"
   ]
  },
  {
   "cell_type": "markdown",
   "metadata": {},
   "source": [
    "<div style=\"border:solid Chocolate 2px; padding: 40px\">\n",
    "\n",
    "# Комментарий ревьюера: общий вывод по проекту v.4.\n",
    "\n",
    "Шарухан, теперь по проекту нет вопросов - работа принята!\n",
    "    \n",
    "Спасибо за качественную работу над проектом, желаю успехов в дальнейшем обучении:)"
   ]
  }
 ],
 "metadata": {
  "ExecuteTimeLog": [
   {
    "duration": 452,
    "start_time": "2022-09-30T15:44:45.706Z"
   },
   {
    "duration": 151,
    "start_time": "2022-09-30T15:45:15.268Z"
   },
   {
    "duration": 48,
    "start_time": "2022-09-30T15:46:35.136Z"
   },
   {
    "duration": 48,
    "start_time": "2022-09-30T15:47:17.152Z"
   },
   {
    "duration": 45,
    "start_time": "2022-09-30T15:48:10.437Z"
   },
   {
    "duration": 5,
    "start_time": "2022-09-30T15:49:42.748Z"
   },
   {
    "duration": 63,
    "start_time": "2022-09-30T15:49:47.490Z"
   },
   {
    "duration": 7,
    "start_time": "2022-09-30T15:50:03.298Z"
   },
   {
    "duration": 383,
    "start_time": "2022-09-30T15:50:32.783Z"
   },
   {
    "duration": 45,
    "start_time": "2022-09-30T15:50:33.168Z"
   },
   {
    "duration": 21,
    "start_time": "2022-09-30T15:50:33.215Z"
   },
   {
    "duration": 366,
    "start_time": "2022-09-30T15:50:53.553Z"
   },
   {
    "duration": 66,
    "start_time": "2022-09-30T15:50:53.921Z"
   },
   {
    "duration": 10,
    "start_time": "2022-09-30T15:50:53.988Z"
   },
   {
    "duration": 62,
    "start_time": "2022-09-30T15:51:10.752Z"
   },
   {
    "duration": 381,
    "start_time": "2022-09-30T15:51:15.599Z"
   },
   {
    "duration": 55,
    "start_time": "2022-09-30T15:51:15.982Z"
   },
   {
    "duration": 22,
    "start_time": "2022-09-30T15:51:16.039Z"
   },
   {
    "duration": 384,
    "start_time": "2022-09-30T15:51:42.159Z"
   },
   {
    "duration": 56,
    "start_time": "2022-09-30T15:51:42.545Z"
   },
   {
    "duration": 17,
    "start_time": "2022-09-30T15:51:42.603Z"
   },
   {
    "duration": 19,
    "start_time": "2022-09-30T15:54:58.747Z"
   },
   {
    "duration": 13,
    "start_time": "2022-09-30T15:56:04.627Z"
   },
   {
    "duration": 92,
    "start_time": "2022-09-30T16:02:17.114Z"
   },
   {
    "duration": 9,
    "start_time": "2022-09-30T16:02:30.876Z"
   },
   {
    "duration": 7,
    "start_time": "2022-09-30T16:12:24.885Z"
   },
   {
    "duration": 699,
    "start_time": "2022-09-30T16:12:40.883Z"
   },
   {
    "duration": 40,
    "start_time": "2022-09-30T16:12:44.548Z"
   },
   {
    "duration": 9,
    "start_time": "2022-09-30T16:12:52.487Z"
   },
   {
    "duration": 13,
    "start_time": "2022-09-30T16:13:03.877Z"
   },
   {
    "duration": 10,
    "start_time": "2022-09-30T19:49:38.304Z"
   },
   {
    "duration": 1114,
    "start_time": "2022-09-30T19:50:14.414Z"
   },
   {
    "duration": 149,
    "start_time": "2022-09-30T19:50:15.531Z"
   },
   {
    "duration": 21,
    "start_time": "2022-09-30T19:50:15.682Z"
   },
   {
    "duration": 10,
    "start_time": "2022-09-30T19:50:15.705Z"
   },
   {
    "duration": 3,
    "start_time": "2022-09-30T19:50:15.717Z"
   },
   {
    "duration": 6,
    "start_time": "2022-09-30T19:50:15.722Z"
   },
   {
    "duration": 6,
    "start_time": "2022-09-30T19:50:15.730Z"
   },
   {
    "duration": 22,
    "start_time": "2022-09-30T19:57:02.196Z"
   },
   {
    "duration": 3,
    "start_time": "2022-09-30T19:57:07.304Z"
   },
   {
    "duration": 1083,
    "start_time": "2022-09-30T20:00:45.103Z"
   },
   {
    "duration": 50,
    "start_time": "2022-09-30T20:00:46.188Z"
   },
   {
    "duration": 20,
    "start_time": "2022-09-30T20:00:46.240Z"
   },
   {
    "duration": 12,
    "start_time": "2022-09-30T20:00:46.261Z"
   },
   {
    "duration": 5,
    "start_time": "2022-09-30T20:00:46.274Z"
   },
   {
    "duration": 10,
    "start_time": "2022-09-30T20:00:46.280Z"
   },
   {
    "duration": 6,
    "start_time": "2022-09-30T20:00:46.291Z"
   },
   {
    "duration": 3,
    "start_time": "2022-09-30T20:02:17.038Z"
   },
   {
    "duration": 179,
    "start_time": "2022-09-30T20:02:20.385Z"
   },
   {
    "duration": 1095,
    "start_time": "2022-09-30T20:02:32.100Z"
   },
   {
    "duration": 51,
    "start_time": "2022-09-30T20:02:33.197Z"
   },
   {
    "duration": 20,
    "start_time": "2022-09-30T20:02:33.250Z"
   },
   {
    "duration": 26,
    "start_time": "2022-09-30T20:02:33.272Z"
   },
   {
    "duration": 39,
    "start_time": "2022-09-30T20:02:33.299Z"
   },
   {
    "duration": 19,
    "start_time": "2022-09-30T20:02:33.340Z"
   },
   {
    "duration": 31,
    "start_time": "2022-09-30T20:02:33.361Z"
   },
   {
    "duration": 182,
    "start_time": "2022-09-30T20:02:33.394Z"
   },
   {
    "duration": 11,
    "start_time": "2022-09-30T20:03:16.555Z"
   },
   {
    "duration": 8,
    "start_time": "2022-09-30T20:04:17.898Z"
   },
   {
    "duration": 1192,
    "start_time": "2022-09-30T20:05:12.049Z"
   },
   {
    "duration": 53,
    "start_time": "2022-09-30T20:05:13.243Z"
   },
   {
    "duration": 22,
    "start_time": "2022-09-30T20:05:13.298Z"
   },
   {
    "duration": 12,
    "start_time": "2022-09-30T20:05:13.322Z"
   },
   {
    "duration": 4,
    "start_time": "2022-09-30T20:05:13.336Z"
   },
   {
    "duration": 1304,
    "start_time": "2022-09-30T20:05:13.342Z"
   },
   {
    "duration": 0,
    "start_time": "2022-09-30T20:05:14.648Z"
   },
   {
    "duration": 0,
    "start_time": "2022-09-30T20:05:14.649Z"
   },
   {
    "duration": 4,
    "start_time": "2022-09-30T20:05:37.516Z"
   },
   {
    "duration": 10,
    "start_time": "2022-09-30T20:05:38.309Z"
   },
   {
    "duration": 12,
    "start_time": "2022-09-30T20:05:40.634Z"
   },
   {
    "duration": 6,
    "start_time": "2022-09-30T20:05:49.554Z"
   },
   {
    "duration": 18,
    "start_time": "2022-09-30T20:05:50.515Z"
   },
   {
    "duration": 14,
    "start_time": "2022-09-30T20:06:30.030Z"
   },
   {
    "duration": 9,
    "start_time": "2022-09-30T20:06:31.805Z"
   },
   {
    "duration": 16,
    "start_time": "2022-09-30T20:06:32.468Z"
   },
   {
    "duration": 10,
    "start_time": "2022-09-30T20:07:06.097Z"
   },
   {
    "duration": 14,
    "start_time": "2022-09-30T20:12:58.801Z"
   },
   {
    "duration": 8,
    "start_time": "2022-09-30T20:13:00.768Z"
   },
   {
    "duration": 160,
    "start_time": "2022-09-30T20:13:02.429Z"
   },
   {
    "duration": 12,
    "start_time": "2022-09-30T20:13:07.540Z"
   },
   {
    "duration": 7,
    "start_time": "2022-09-30T20:13:11.506Z"
   },
   {
    "duration": 17,
    "start_time": "2022-09-30T20:13:13.514Z"
   },
   {
    "duration": 16,
    "start_time": "2022-09-30T20:13:18.346Z"
   },
   {
    "duration": 9,
    "start_time": "2022-09-30T20:13:19.929Z"
   },
   {
    "duration": 95,
    "start_time": "2022-09-30T20:13:21.894Z"
   },
   {
    "duration": 11,
    "start_time": "2022-09-30T20:13:30.835Z"
   },
   {
    "duration": 6,
    "start_time": "2022-09-30T20:13:32.455Z"
   },
   {
    "duration": 16,
    "start_time": "2022-09-30T20:13:34.161Z"
   },
   {
    "duration": 14,
    "start_time": "2022-09-30T20:13:36.056Z"
   },
   {
    "duration": 1046,
    "start_time": "2022-09-30T20:13:42.931Z"
   },
   {
    "duration": 51,
    "start_time": "2022-09-30T20:13:43.979Z"
   },
   {
    "duration": 20,
    "start_time": "2022-09-30T20:13:44.031Z"
   },
   {
    "duration": 10,
    "start_time": "2022-09-30T20:13:44.054Z"
   },
   {
    "duration": 6,
    "start_time": "2022-09-30T20:13:44.065Z"
   },
   {
    "duration": 19,
    "start_time": "2022-09-30T20:13:44.072Z"
   },
   {
    "duration": 6,
    "start_time": "2022-09-30T20:13:44.092Z"
   },
   {
    "duration": 19,
    "start_time": "2022-09-30T20:13:44.099Z"
   },
   {
    "duration": 13,
    "start_time": "2022-09-30T20:14:03.242Z"
   },
   {
    "duration": 2,
    "start_time": "2022-09-30T20:15:06.076Z"
   },
   {
    "duration": 1079,
    "start_time": "2022-09-30T20:17:02.891Z"
   },
   {
    "duration": 51,
    "start_time": "2022-09-30T20:17:03.972Z"
   },
   {
    "duration": 22,
    "start_time": "2022-09-30T20:17:04.025Z"
   },
   {
    "duration": 11,
    "start_time": "2022-09-30T20:17:04.049Z"
   },
   {
    "duration": 6,
    "start_time": "2022-09-30T20:17:04.063Z"
   },
   {
    "duration": 28,
    "start_time": "2022-09-30T20:17:04.071Z"
   },
   {
    "duration": 7,
    "start_time": "2022-09-30T20:17:04.100Z"
   },
   {
    "duration": 80,
    "start_time": "2022-09-30T20:17:04.108Z"
   },
   {
    "duration": 20399,
    "start_time": "2022-09-30T20:17:04.191Z"
   },
   {
    "duration": 126,
    "start_time": "2022-09-30T20:19:06.581Z"
   },
   {
    "duration": 3,
    "start_time": "2022-09-30T20:19:38.557Z"
   },
   {
    "duration": 10,
    "start_time": "2022-09-30T20:19:52.391Z"
   },
   {
    "duration": 1177,
    "start_time": "2022-09-30T20:19:58.420Z"
   },
   {
    "duration": 1160,
    "start_time": "2022-09-30T20:21:53.125Z"
   },
   {
    "duration": 51,
    "start_time": "2022-09-30T20:21:54.287Z"
   },
   {
    "duration": 23,
    "start_time": "2022-09-30T20:21:54.340Z"
   },
   {
    "duration": 11,
    "start_time": "2022-09-30T20:21:54.366Z"
   },
   {
    "duration": 5,
    "start_time": "2022-09-30T20:21:54.379Z"
   },
   {
    "duration": 17,
    "start_time": "2022-09-30T20:21:54.388Z"
   },
   {
    "duration": 6,
    "start_time": "2022-09-30T20:21:54.407Z"
   },
   {
    "duration": 74,
    "start_time": "2022-09-30T20:21:54.414Z"
   },
   {
    "duration": 1407,
    "start_time": "2022-09-30T20:21:54.491Z"
   },
   {
    "duration": 23,
    "start_time": "2022-09-30T20:22:07.025Z"
   },
   {
    "duration": 6,
    "start_time": "2022-09-30T20:22:07.969Z"
   },
   {
    "duration": 60,
    "start_time": "2022-09-30T20:22:08.633Z"
   },
   {
    "duration": 2506,
    "start_time": "2022-09-30T20:22:09.425Z"
   },
   {
    "duration": 144,
    "start_time": "2022-09-30T20:23:29.732Z"
   },
   {
    "duration": 53,
    "start_time": "2022-09-30T20:23:34.845Z"
   },
   {
    "duration": 14,
    "start_time": "2022-09-30T20:23:42.630Z"
   },
   {
    "duration": 6,
    "start_time": "2022-09-30T20:23:45.351Z"
   },
   {
    "duration": 38,
    "start_time": "2022-09-30T20:23:46.927Z"
   },
   {
    "duration": 2438,
    "start_time": "2022-09-30T20:23:48.651Z"
   },
   {
    "duration": 71,
    "start_time": "2022-09-30T20:23:59.174Z"
   },
   {
    "duration": 7,
    "start_time": "2022-09-30T20:24:01.153Z"
   },
   {
    "duration": 8953,
    "start_time": "2022-09-30T20:24:02.670Z"
   },
   {
    "duration": 64,
    "start_time": "2022-09-30T20:24:11.626Z"
   },
   {
    "duration": 8936,
    "start_time": "2022-09-30T20:24:27.115Z"
   },
   {
    "duration": 1150,
    "start_time": "2022-09-30T20:26:23.264Z"
   },
   {
    "duration": 51,
    "start_time": "2022-09-30T20:26:24.416Z"
   },
   {
    "duration": 20,
    "start_time": "2022-09-30T20:26:24.468Z"
   },
   {
    "duration": 11,
    "start_time": "2022-09-30T20:26:24.490Z"
   },
   {
    "duration": 8,
    "start_time": "2022-09-30T20:26:24.502Z"
   },
   {
    "duration": 105,
    "start_time": "2022-09-30T20:26:24.511Z"
   },
   {
    "duration": 9,
    "start_time": "2022-09-30T20:26:24.618Z"
   },
   {
    "duration": 263,
    "start_time": "2022-09-30T20:26:24.628Z"
   },
   {
    "duration": 8922,
    "start_time": "2022-09-30T20:26:24.894Z"
   },
   {
    "duration": 50,
    "start_time": "2022-09-30T20:26:33.818Z"
   },
   {
    "duration": 8610,
    "start_time": "2022-09-30T20:26:42.512Z"
   },
   {
    "duration": 267,
    "start_time": "2022-09-30T20:26:51.124Z"
   },
   {
    "duration": 8,
    "start_time": "2022-09-30T20:26:51.394Z"
   },
   {
    "duration": 65,
    "start_time": "2022-10-01T15:47:03.214Z"
   },
   {
    "duration": 62,
    "start_time": "2022-10-03T19:30:18.832Z"
   },
   {
    "duration": 55,
    "start_time": "2022-10-04T14:56:13.162Z"
   },
   {
    "duration": 1118,
    "start_time": "2022-10-04T14:56:16.067Z"
   },
   {
    "duration": 69,
    "start_time": "2022-10-04T14:56:18.536Z"
   },
   {
    "duration": 10,
    "start_time": "2022-10-04T14:56:32.004Z"
   },
   {
    "duration": 122,
    "start_time": "2022-10-04T14:56:40.145Z"
   },
   {
    "duration": 25,
    "start_time": "2022-10-04T14:56:45.818Z"
   },
   {
    "duration": 3,
    "start_time": "2022-10-04T14:57:04.083Z"
   },
   {
    "duration": 4,
    "start_time": "2022-10-04T14:57:05.093Z"
   },
   {
    "duration": 13,
    "start_time": "2022-10-04T14:57:08.395Z"
   },
   {
    "duration": 1136,
    "start_time": "2022-10-04T14:57:13.330Z"
   },
   {
    "duration": 108,
    "start_time": "2022-10-04T14:57:14.468Z"
   },
   {
    "duration": 0,
    "start_time": "2022-10-04T14:57:14.578Z"
   },
   {
    "duration": 0,
    "start_time": "2022-10-04T14:57:14.579Z"
   },
   {
    "duration": 0,
    "start_time": "2022-10-04T14:57:14.580Z"
   },
   {
    "duration": 0,
    "start_time": "2022-10-04T14:57:14.582Z"
   },
   {
    "duration": 0,
    "start_time": "2022-10-04T14:57:14.584Z"
   },
   {
    "duration": 0,
    "start_time": "2022-10-04T14:57:14.585Z"
   },
   {
    "duration": 0,
    "start_time": "2022-10-04T14:57:14.586Z"
   },
   {
    "duration": 0,
    "start_time": "2022-10-04T14:57:14.587Z"
   },
   {
    "duration": 0,
    "start_time": "2022-10-04T14:57:14.589Z"
   },
   {
    "duration": 50,
    "start_time": "2022-10-04T14:57:31.315Z"
   },
   {
    "duration": 21,
    "start_time": "2022-10-04T14:57:34.289Z"
   },
   {
    "duration": 6,
    "start_time": "2022-10-04T14:58:13.864Z"
   },
   {
    "duration": 5,
    "start_time": "2022-10-04T14:58:40.604Z"
   },
   {
    "duration": 18,
    "start_time": "2022-10-04T14:59:09.419Z"
   },
   {
    "duration": 11,
    "start_time": "2022-10-04T14:59:18.378Z"
   },
   {
    "duration": 13,
    "start_time": "2022-10-04T15:00:01.122Z"
   },
   {
    "duration": 7,
    "start_time": "2022-10-04T15:00:13.749Z"
   },
   {
    "duration": 7,
    "start_time": "2022-10-04T15:00:31.976Z"
   },
   {
    "duration": 10,
    "start_time": "2022-10-04T15:01:00.167Z"
   },
   {
    "duration": 3,
    "start_time": "2022-10-04T15:01:52.048Z"
   },
   {
    "duration": 726,
    "start_time": "2022-10-04T15:06:46.399Z"
   },
   {
    "duration": 3485,
    "start_time": "2022-10-04T15:07:59.587Z"
   },
   {
    "duration": 221,
    "start_time": "2022-10-04T15:08:15.752Z"
   },
   {
    "duration": 3,
    "start_time": "2022-10-04T15:14:36.469Z"
   },
   {
    "duration": 233,
    "start_time": "2022-10-04T15:15:16.658Z"
   },
   {
    "duration": 222,
    "start_time": "2022-10-04T15:15:24.689Z"
   },
   {
    "duration": 237,
    "start_time": "2022-10-04T15:15:31.058Z"
   },
   {
    "duration": 227,
    "start_time": "2022-10-04T15:15:37.173Z"
   },
   {
    "duration": 341,
    "start_time": "2022-10-04T15:15:42.526Z"
   },
   {
    "duration": 238,
    "start_time": "2022-10-04T15:15:47.262Z"
   },
   {
    "duration": 232,
    "start_time": "2022-10-04T15:15:56.129Z"
   },
   {
    "duration": 5142,
    "start_time": "2022-10-04T15:16:56.873Z"
   },
   {
    "duration": 272,
    "start_time": "2022-10-04T15:17:03.002Z"
   },
   {
    "duration": 223,
    "start_time": "2022-10-04T15:17:07.598Z"
   },
   {
    "duration": 415,
    "start_time": "2022-10-04T15:17:19.169Z"
   },
   {
    "duration": 385,
    "start_time": "2022-10-04T15:17:33.175Z"
   },
   {
    "duration": 389,
    "start_time": "2022-10-04T15:17:42.286Z"
   },
   {
    "duration": 459,
    "start_time": "2022-10-04T15:17:56.788Z"
   },
   {
    "duration": 743,
    "start_time": "2022-10-04T15:18:05.981Z"
   },
   {
    "duration": 390,
    "start_time": "2022-10-04T15:18:12.109Z"
   },
   {
    "duration": 399,
    "start_time": "2022-10-04T15:18:59.521Z"
   },
   {
    "duration": 409,
    "start_time": "2022-10-04T15:19:22.342Z"
   },
   {
    "duration": 390,
    "start_time": "2022-10-04T15:19:44.875Z"
   },
   {
    "duration": 512,
    "start_time": "2022-10-04T15:20:10.372Z"
   },
   {
    "duration": 217,
    "start_time": "2022-10-04T15:20:16.917Z"
   },
   {
    "duration": 212,
    "start_time": "2022-10-04T15:20:26.448Z"
   },
   {
    "duration": 1449,
    "start_time": "2022-10-04T15:20:38.300Z"
   },
   {
    "duration": 50,
    "start_time": "2022-10-04T15:20:39.751Z"
   },
   {
    "duration": 25,
    "start_time": "2022-10-04T15:20:39.802Z"
   },
   {
    "duration": 23,
    "start_time": "2022-10-04T15:20:39.830Z"
   },
   {
    "duration": 16,
    "start_time": "2022-10-04T15:20:39.855Z"
   },
   {
    "duration": 24,
    "start_time": "2022-10-04T15:20:39.873Z"
   },
   {
    "duration": 4,
    "start_time": "2022-10-04T15:20:39.899Z"
   },
   {
    "duration": 464,
    "start_time": "2022-10-04T15:20:39.905Z"
   },
   {
    "duration": 111,
    "start_time": "2022-10-04T15:20:40.371Z"
   },
   {
    "duration": 0,
    "start_time": "2022-10-04T15:20:40.484Z"
   },
   {
    "duration": 0,
    "start_time": "2022-10-04T15:20:40.485Z"
   },
   {
    "duration": 0,
    "start_time": "2022-10-04T15:20:40.486Z"
   },
   {
    "duration": 0,
    "start_time": "2022-10-04T15:20:40.487Z"
   },
   {
    "duration": 0,
    "start_time": "2022-10-04T15:20:40.488Z"
   },
   {
    "duration": 0,
    "start_time": "2022-10-04T15:20:40.489Z"
   },
   {
    "duration": 0,
    "start_time": "2022-10-04T15:20:40.490Z"
   },
   {
    "duration": 25,
    "start_time": "2022-10-04T15:21:15.659Z"
   },
   {
    "duration": 15,
    "start_time": "2022-10-04T15:21:21.039Z"
   },
   {
    "duration": 3,
    "start_time": "2022-10-04T15:21:30.915Z"
   },
   {
    "duration": 9,
    "start_time": "2022-10-04T15:21:36.562Z"
   },
   {
    "duration": 8,
    "start_time": "2022-10-04T15:21:47.732Z"
   },
   {
    "duration": 202,
    "start_time": "2022-10-04T15:24:51.288Z"
   },
   {
    "duration": 298,
    "start_time": "2022-10-04T15:25:04.677Z"
   },
   {
    "duration": 205,
    "start_time": "2022-10-04T15:25:11.287Z"
   },
   {
    "duration": 21,
    "start_time": "2022-10-04T15:25:20.537Z"
   },
   {
    "duration": 21,
    "start_time": "2022-10-04T15:25:26.083Z"
   },
   {
    "duration": 21,
    "start_time": "2022-10-04T15:25:29.543Z"
   },
   {
    "duration": 203,
    "start_time": "2022-10-04T15:25:34.833Z"
   },
   {
    "duration": 214,
    "start_time": "2022-10-04T15:26:03.380Z"
   },
   {
    "duration": 504,
    "start_time": "2022-10-04T15:27:03.784Z"
   },
   {
    "duration": 443,
    "start_time": "2022-10-04T15:27:48.912Z"
   },
   {
    "duration": 204,
    "start_time": "2022-10-04T15:29:22.176Z"
   },
   {
    "duration": 127,
    "start_time": "2022-10-04T15:31:49.152Z"
   },
   {
    "duration": 226,
    "start_time": "2022-10-04T15:32:07.382Z"
   },
   {
    "duration": 270,
    "start_time": "2022-10-04T15:32:44.007Z"
   },
   {
    "duration": 350,
    "start_time": "2022-10-04T15:33:01.014Z"
   },
   {
    "duration": 261,
    "start_time": "2022-10-04T15:34:40.871Z"
   },
   {
    "duration": 258,
    "start_time": "2022-10-04T15:34:47.291Z"
   },
   {
    "duration": 235,
    "start_time": "2022-10-04T15:35:00.746Z"
   },
   {
    "duration": 390,
    "start_time": "2022-10-04T15:35:53.673Z"
   },
   {
    "duration": 487,
    "start_time": "2022-10-04T15:36:06.780Z"
   },
   {
    "duration": 382,
    "start_time": "2022-10-04T15:36:09.994Z"
   },
   {
    "duration": 344,
    "start_time": "2022-10-04T15:36:22.991Z"
   },
   {
    "duration": 348,
    "start_time": "2022-10-04T15:37:01.191Z"
   },
   {
    "duration": 266,
    "start_time": "2022-10-04T15:37:14.270Z"
   },
   {
    "duration": 281,
    "start_time": "2022-10-04T15:37:16.712Z"
   },
   {
    "duration": 735,
    "start_time": "2022-10-04T15:37:57.371Z"
   },
   {
    "duration": 265,
    "start_time": "2022-10-04T15:38:05.247Z"
   },
   {
    "duration": 242,
    "start_time": "2022-10-04T15:38:11.346Z"
   },
   {
    "duration": 213,
    "start_time": "2022-10-04T15:38:18.131Z"
   },
   {
    "duration": 41,
    "start_time": "2022-10-04T15:38:40.931Z"
   },
   {
    "duration": 1247,
    "start_time": "2022-10-04T15:39:04.345Z"
   },
   {
    "duration": 1671,
    "start_time": "2022-10-04T15:39:22.684Z"
   },
   {
    "duration": 1365,
    "start_time": "2022-10-04T15:40:14.587Z"
   },
   {
    "duration": 1410,
    "start_time": "2022-10-04T15:40:25.137Z"
   },
   {
    "duration": 1534,
    "start_time": "2022-10-04T15:40:52.115Z"
   },
   {
    "duration": 1566,
    "start_time": "2022-10-04T15:42:36.425Z"
   },
   {
    "duration": 1669,
    "start_time": "2022-10-04T15:42:50.791Z"
   },
   {
    "duration": 125,
    "start_time": "2022-10-04T15:46:44.814Z"
   },
   {
    "duration": 1493,
    "start_time": "2022-10-04T15:47:55.493Z"
   },
   {
    "duration": 1518,
    "start_time": "2022-10-04T15:48:20.542Z"
   },
   {
    "duration": 26,
    "start_time": "2022-10-04T15:48:27.461Z"
   },
   {
    "duration": 24,
    "start_time": "2022-10-04T15:48:31.947Z"
   },
   {
    "duration": 1492,
    "start_time": "2022-10-04T15:48:37.618Z"
   },
   {
    "duration": 1508,
    "start_time": "2022-10-04T15:48:42.672Z"
   },
   {
    "duration": 104,
    "start_time": "2022-10-04T15:50:16.934Z"
   },
   {
    "duration": 224,
    "start_time": "2022-10-04T15:50:28.872Z"
   },
   {
    "duration": 161,
    "start_time": "2022-10-04T15:50:44.565Z"
   },
   {
    "duration": 188,
    "start_time": "2022-10-04T15:50:56.700Z"
   },
   {
    "duration": 39,
    "start_time": "2022-10-04T16:01:47.166Z"
   },
   {
    "duration": 358,
    "start_time": "2022-10-04T16:03:49.469Z"
   },
   {
    "duration": 366,
    "start_time": "2022-10-04T16:05:38.599Z"
   },
   {
    "duration": 361,
    "start_time": "2022-10-04T16:05:55.454Z"
   },
   {
    "duration": 287,
    "start_time": "2022-10-04T16:06:01.030Z"
   },
   {
    "duration": 322,
    "start_time": "2022-10-04T16:06:06.827Z"
   },
   {
    "duration": 462,
    "start_time": "2022-10-04T16:06:11.807Z"
   },
   {
    "duration": 276,
    "start_time": "2022-10-04T16:06:22.930Z"
   },
   {
    "duration": 1364,
    "start_time": "2022-10-04T16:09:15.363Z"
   },
   {
    "duration": 1489,
    "start_time": "2022-10-04T16:11:19.940Z"
   },
   {
    "duration": 1544,
    "start_time": "2022-10-04T16:11:33.678Z"
   },
   {
    "duration": 1611,
    "start_time": "2022-10-04T16:12:01.918Z"
   },
   {
    "duration": 1904,
    "start_time": "2022-10-04T16:12:48.518Z"
   },
   {
    "duration": 1776,
    "start_time": "2022-10-04T16:13:00.746Z"
   },
   {
    "duration": 1464,
    "start_time": "2022-10-04T16:13:14.565Z"
   },
   {
    "duration": 1555,
    "start_time": "2022-10-04T16:13:21.574Z"
   },
   {
    "duration": 1471,
    "start_time": "2022-10-04T16:13:55.850Z"
   },
   {
    "duration": 1459,
    "start_time": "2022-10-04T16:17:38.470Z"
   },
   {
    "duration": 1517,
    "start_time": "2022-10-04T16:18:08.613Z"
   },
   {
    "duration": 206,
    "start_time": "2022-10-04T16:20:05.583Z"
   },
   {
    "duration": 8,
    "start_time": "2022-10-04T18:59:17.498Z"
   },
   {
    "duration": 1657,
    "start_time": "2022-10-04T18:59:26.122Z"
   },
   {
    "duration": 127,
    "start_time": "2022-10-04T18:59:27.781Z"
   },
   {
    "duration": 18,
    "start_time": "2022-10-04T18:59:27.909Z"
   },
   {
    "duration": 13,
    "start_time": "2022-10-04T18:59:27.928Z"
   },
   {
    "duration": 10,
    "start_time": "2022-10-04T18:59:27.942Z"
   },
   {
    "duration": 11,
    "start_time": "2022-10-04T18:59:27.954Z"
   },
   {
    "duration": 3,
    "start_time": "2022-10-04T18:59:27.967Z"
   },
   {
    "duration": 442,
    "start_time": "2022-10-04T18:59:27.971Z"
   },
   {
    "duration": 259,
    "start_time": "2022-10-04T18:59:28.415Z"
   },
   {
    "duration": 1321,
    "start_time": "2022-10-04T18:59:28.676Z"
   },
   {
    "duration": 240,
    "start_time": "2022-10-04T18:59:29.998Z"
   },
   {
    "duration": 343,
    "start_time": "2022-10-04T18:59:30.240Z"
   },
   {
    "duration": 1448,
    "start_time": "2022-10-04T18:59:30.586Z"
   },
   {
    "duration": 5,
    "start_time": "2022-10-04T18:59:32.036Z"
   },
   {
    "duration": 169,
    "start_time": "2022-10-04T18:59:32.044Z"
   },
   {
    "duration": 19,
    "start_time": "2022-10-04T18:59:32.215Z"
   },
   {
    "duration": 6,
    "start_time": "2022-10-04T18:59:32.236Z"
   },
   {
    "duration": 841,
    "start_time": "2022-10-04T18:59:32.244Z"
   },
   {
    "duration": 21,
    "start_time": "2022-10-04T18:59:33.086Z"
   },
   {
    "duration": 22,
    "start_time": "2022-10-04T18:59:33.108Z"
   },
   {
    "duration": 48,
    "start_time": "2022-10-04T18:59:35.846Z"
   },
   {
    "duration": 70,
    "start_time": "2022-10-04T18:59:58.658Z"
   },
   {
    "duration": 7,
    "start_time": "2022-10-04T19:00:17.159Z"
   },
   {
    "duration": 6,
    "start_time": "2022-10-04T19:00:18.868Z"
   },
   {
    "duration": 3,
    "start_time": "2022-10-04T19:04:02.103Z"
   },
   {
    "duration": 64,
    "start_time": "2022-10-04T19:04:22.941Z"
   },
   {
    "duration": 8,
    "start_time": "2022-10-04T19:04:24.125Z"
   },
   {
    "duration": 6,
    "start_time": "2022-10-04T19:04:25.413Z"
   },
   {
    "duration": 281,
    "start_time": "2022-10-04T19:04:26.289Z"
   },
   {
    "duration": 8,
    "start_time": "2022-10-04T19:04:27.736Z"
   },
   {
    "duration": 6,
    "start_time": "2022-10-04T19:10:13.766Z"
   },
   {
    "duration": 5,
    "start_time": "2022-10-04T19:10:15.641Z"
   },
   {
    "duration": 111,
    "start_time": "2022-10-04T19:16:39.870Z"
   },
   {
    "duration": 4,
    "start_time": "2022-10-04T19:17:32.515Z"
   },
   {
    "duration": 21,
    "start_time": "2022-10-04T19:17:39.256Z"
   },
   {
    "duration": 10,
    "start_time": "2022-10-04T19:19:02.292Z"
   },
   {
    "duration": 4,
    "start_time": "2022-10-04T19:19:37.506Z"
   },
   {
    "duration": 3,
    "start_time": "2022-10-04T19:19:43.579Z"
   },
   {
    "duration": 14,
    "start_time": "2022-10-04T19:19:45.605Z"
   },
   {
    "duration": 15,
    "start_time": "2022-10-04T19:19:56.402Z"
   },
   {
    "duration": 3,
    "start_time": "2022-10-04T19:20:41.596Z"
   },
   {
    "duration": 14,
    "start_time": "2022-10-04T19:20:42.468Z"
   },
   {
    "duration": 13,
    "start_time": "2022-10-04T19:21:08.563Z"
   },
   {
    "duration": 1838,
    "start_time": "2022-10-04T19:21:28.000Z"
   },
   {
    "duration": 2,
    "start_time": "2022-10-04T19:22:00.269Z"
   },
   {
    "duration": 1781,
    "start_time": "2022-10-04T19:22:01.337Z"
   },
   {
    "duration": 2256,
    "start_time": "2022-10-04T19:22:54.073Z"
   },
   {
    "duration": 2176,
    "start_time": "2022-10-04T19:23:06.374Z"
   },
   {
    "duration": 2159,
    "start_time": "2022-10-04T19:23:17.764Z"
   },
   {
    "duration": 2146,
    "start_time": "2022-10-04T19:23:26.573Z"
   },
   {
    "duration": 2154,
    "start_time": "2022-10-04T19:23:32.707Z"
   },
   {
    "duration": 1113,
    "start_time": "2022-10-04T19:23:45.876Z"
   },
   {
    "duration": 1043,
    "start_time": "2022-10-04T19:24:05.082Z"
   },
   {
    "duration": 1042,
    "start_time": "2022-10-04T19:24:13.318Z"
   },
   {
    "duration": 3,
    "start_time": "2022-10-04T19:31:05.056Z"
   },
   {
    "duration": 8,
    "start_time": "2022-10-04T19:36:25.397Z"
   },
   {
    "duration": 737,
    "start_time": "2022-10-04T19:36:43.151Z"
   },
   {
    "duration": 1304,
    "start_time": "2022-10-04T19:36:57.682Z"
   },
   {
    "duration": 50,
    "start_time": "2022-10-04T19:36:58.988Z"
   },
   {
    "duration": 18,
    "start_time": "2022-10-04T19:36:59.040Z"
   },
   {
    "duration": 11,
    "start_time": "2022-10-04T19:36:59.060Z"
   },
   {
    "duration": 6,
    "start_time": "2022-10-04T19:36:59.072Z"
   },
   {
    "duration": 11,
    "start_time": "2022-10-04T19:36:59.080Z"
   },
   {
    "duration": 3,
    "start_time": "2022-10-04T19:36:59.092Z"
   },
   {
    "duration": 432,
    "start_time": "2022-10-04T19:36:59.097Z"
   },
   {
    "duration": 273,
    "start_time": "2022-10-04T19:36:59.530Z"
   },
   {
    "duration": 1252,
    "start_time": "2022-10-04T19:36:59.806Z"
   },
   {
    "duration": 210,
    "start_time": "2022-10-04T19:37:01.060Z"
   },
   {
    "duration": 344,
    "start_time": "2022-10-04T19:37:01.271Z"
   },
   {
    "duration": 1818,
    "start_time": "2022-10-04T19:37:01.617Z"
   },
   {
    "duration": 95,
    "start_time": "2022-10-04T19:37:03.440Z"
   },
   {
    "duration": 65,
    "start_time": "2022-10-04T19:37:03.537Z"
   },
   {
    "duration": 7,
    "start_time": "2022-10-04T19:37:03.603Z"
   },
   {
    "duration": 22,
    "start_time": "2022-10-04T19:37:03.612Z"
   },
   {
    "duration": 10,
    "start_time": "2022-10-04T19:37:03.635Z"
   },
   {
    "duration": 6,
    "start_time": "2022-10-04T19:37:03.647Z"
   },
   {
    "duration": 723,
    "start_time": "2022-10-04T19:37:03.654Z"
   },
   {
    "duration": 117,
    "start_time": "2022-10-04T19:37:04.378Z"
   },
   {
    "duration": 0,
    "start_time": "2022-10-04T19:37:04.496Z"
   },
   {
    "duration": 680,
    "start_time": "2022-10-04T19:38:15.583Z"
   },
   {
    "duration": 11,
    "start_time": "2022-10-04T19:38:41.461Z"
   },
   {
    "duration": 8,
    "start_time": "2022-10-04T19:39:47.350Z"
   },
   {
    "duration": 13,
    "start_time": "2022-10-04T19:40:20.010Z"
   },
   {
    "duration": 3,
    "start_time": "2022-10-04T19:40:49.468Z"
   },
   {
    "duration": 95,
    "start_time": "2022-10-04T19:40:52.260Z"
   },
   {
    "duration": 31,
    "start_time": "2022-10-04T19:41:11.092Z"
   },
   {
    "duration": 9,
    "start_time": "2022-10-04T19:42:22.372Z"
   },
   {
    "duration": 3,
    "start_time": "2022-10-04T19:42:25.787Z"
   },
   {
    "duration": 17,
    "start_time": "2022-10-04T19:42:26.336Z"
   },
   {
    "duration": 10,
    "start_time": "2022-10-04T19:42:52.556Z"
   },
   {
    "duration": 1005,
    "start_time": "2022-10-04T19:42:54.531Z"
   },
   {
    "duration": 25,
    "start_time": "2022-10-04T19:43:17.735Z"
   },
   {
    "duration": 4,
    "start_time": "2022-10-04T19:44:56.928Z"
   },
   {
    "duration": 2,
    "start_time": "2022-10-04T19:45:46.959Z"
   },
   {
    "duration": 5,
    "start_time": "2022-10-04T19:47:52.359Z"
   },
   {
    "duration": 11,
    "start_time": "2022-10-04T19:48:03.234Z"
   },
   {
    "duration": 8,
    "start_time": "2022-10-04T19:48:28.957Z"
   },
   {
    "duration": 121,
    "start_time": "2022-10-04T19:48:53.704Z"
   },
   {
    "duration": 9,
    "start_time": "2022-10-04T19:48:56.236Z"
   },
   {
    "duration": 5,
    "start_time": "2022-10-04T19:48:57.656Z"
   },
   {
    "duration": 9,
    "start_time": "2022-10-04T19:48:58.990Z"
   },
   {
    "duration": 3,
    "start_time": "2022-10-04T19:49:00.076Z"
   },
   {
    "duration": 1078,
    "start_time": "2022-10-04T19:49:00.658Z"
   },
   {
    "duration": 25,
    "start_time": "2022-10-04T19:49:02.989Z"
   },
   {
    "duration": 2,
    "start_time": "2022-10-04T19:49:04.229Z"
   },
   {
    "duration": 5,
    "start_time": "2022-10-04T19:49:06.740Z"
   },
   {
    "duration": 8,
    "start_time": "2022-10-04T19:49:08.060Z"
   },
   {
    "duration": 7,
    "start_time": "2022-10-04T19:49:09.724Z"
   },
   {
    "duration": 8,
    "start_time": "2022-10-04T19:49:51.753Z"
   },
   {
    "duration": 8,
    "start_time": "2022-10-04T19:50:54.230Z"
   },
   {
    "duration": 6,
    "start_time": "2022-10-04T19:51:26.117Z"
   },
   {
    "duration": 8,
    "start_time": "2022-10-04T19:51:28.204Z"
   },
   {
    "duration": 47,
    "start_time": "2022-10-04T19:55:54.570Z"
   },
   {
    "duration": 12,
    "start_time": "2022-10-04T19:56:30.969Z"
   },
   {
    "duration": 4,
    "start_time": "2022-10-04T19:56:46.291Z"
   },
   {
    "duration": 13,
    "start_time": "2022-10-04T19:56:55.394Z"
   },
   {
    "duration": 116,
    "start_time": "2022-10-04T19:56:58.619Z"
   },
   {
    "duration": 14,
    "start_time": "2022-10-04T19:57:43.943Z"
   },
   {
    "duration": 13,
    "start_time": "2022-10-04T19:58:24.523Z"
   },
   {
    "duration": 12,
    "start_time": "2022-10-04T19:58:42.320Z"
   },
   {
    "duration": 127,
    "start_time": "2022-10-04T19:58:49.331Z"
   },
   {
    "duration": 129,
    "start_time": "2022-10-04T19:59:38.667Z"
   },
   {
    "duration": 321,
    "start_time": "2022-10-04T19:59:56.214Z"
   },
   {
    "duration": 10,
    "start_time": "2022-10-04T20:00:17.326Z"
   },
   {
    "duration": 1263,
    "start_time": "2022-10-04T20:00:44.005Z"
   },
   {
    "duration": 1337,
    "start_time": "2022-10-04T20:01:33.305Z"
   },
   {
    "duration": 95,
    "start_time": "2022-10-04T20:01:44.681Z"
   },
   {
    "duration": 130,
    "start_time": "2022-10-04T20:03:54.377Z"
   },
   {
    "duration": 10,
    "start_time": "2022-10-04T20:04:45.539Z"
   },
   {
    "duration": 9,
    "start_time": "2022-10-04T20:04:53.905Z"
   },
   {
    "duration": 10,
    "start_time": "2022-10-04T20:05:17.231Z"
   },
   {
    "duration": 4,
    "start_time": "2022-10-04T20:05:23.292Z"
   },
   {
    "duration": 10,
    "start_time": "2022-10-04T20:05:30.268Z"
   },
   {
    "duration": 3,
    "start_time": "2022-10-04T20:05:40.616Z"
   },
   {
    "duration": 124,
    "start_time": "2022-10-04T20:05:47.982Z"
   },
   {
    "duration": 3,
    "start_time": "2022-10-04T20:05:54.914Z"
   },
   {
    "duration": 122,
    "start_time": "2022-10-04T20:05:55.841Z"
   },
   {
    "duration": 3,
    "start_time": "2022-10-04T20:06:10.784Z"
   },
   {
    "duration": 199,
    "start_time": "2022-10-04T20:06:12.866Z"
   },
   {
    "duration": 116,
    "start_time": "2022-10-04T20:06:17.993Z"
   },
   {
    "duration": 140,
    "start_time": "2022-10-04T20:07:34.143Z"
   },
   {
    "duration": 150,
    "start_time": "2022-10-04T20:07:39.493Z"
   },
   {
    "duration": 226,
    "start_time": "2022-10-04T20:07:44.502Z"
   },
   {
    "duration": 1145,
    "start_time": "2022-10-04T20:07:54.695Z"
   },
   {
    "duration": 239,
    "start_time": "2022-10-04T20:08:00.140Z"
   },
   {
    "duration": 217,
    "start_time": "2022-10-04T20:09:22.652Z"
   },
   {
    "duration": 223,
    "start_time": "2022-10-04T20:13:37.661Z"
   },
   {
    "duration": 223,
    "start_time": "2022-10-04T20:13:49.468Z"
   },
   {
    "duration": 256,
    "start_time": "2022-10-04T20:13:59.438Z"
   },
   {
    "duration": 252,
    "start_time": "2022-10-04T20:14:40.404Z"
   },
   {
    "duration": 288,
    "start_time": "2022-10-04T20:14:45.503Z"
   },
   {
    "duration": 222,
    "start_time": "2022-10-04T20:14:55.820Z"
   },
   {
    "duration": 234,
    "start_time": "2022-10-04T20:15:21.516Z"
   },
   {
    "duration": 256,
    "start_time": "2022-10-04T20:15:26.317Z"
   },
   {
    "duration": 334,
    "start_time": "2022-10-04T20:16:02.264Z"
   },
   {
    "duration": 243,
    "start_time": "2022-10-04T20:16:25.475Z"
   },
   {
    "duration": 51,
    "start_time": "2022-10-04T20:18:03.192Z"
   },
   {
    "duration": 81,
    "start_time": "2022-10-04T20:18:37.907Z"
   },
   {
    "duration": 48,
    "start_time": "2022-10-04T20:26:11.262Z"
   },
   {
    "duration": 1451,
    "start_time": "2022-10-04T20:27:26.710Z"
   },
   {
    "duration": 58,
    "start_time": "2022-10-04T20:27:28.163Z"
   },
   {
    "duration": 15,
    "start_time": "2022-10-04T20:27:28.223Z"
   },
   {
    "duration": 18,
    "start_time": "2022-10-04T20:27:28.240Z"
   },
   {
    "duration": 17,
    "start_time": "2022-10-04T20:27:28.260Z"
   },
   {
    "duration": 18,
    "start_time": "2022-10-04T20:27:28.279Z"
   },
   {
    "duration": 6,
    "start_time": "2022-10-04T20:27:28.298Z"
   },
   {
    "duration": 443,
    "start_time": "2022-10-04T20:27:28.306Z"
   },
   {
    "duration": 253,
    "start_time": "2022-10-04T20:27:28.750Z"
   },
   {
    "duration": 1304,
    "start_time": "2022-10-04T20:27:29.006Z"
   },
   {
    "duration": 199,
    "start_time": "2022-10-04T20:27:30.311Z"
   },
   {
    "duration": 371,
    "start_time": "2022-10-04T20:27:30.511Z"
   },
   {
    "duration": 2950,
    "start_time": "2022-10-04T20:27:30.885Z"
   },
   {
    "duration": 5,
    "start_time": "2022-10-04T20:27:33.838Z"
   },
   {
    "duration": 203,
    "start_time": "2022-10-04T20:27:33.934Z"
   },
   {
    "duration": 6,
    "start_time": "2022-10-04T20:27:34.139Z"
   },
   {
    "duration": 11,
    "start_time": "2022-10-04T20:27:34.147Z"
   },
   {
    "duration": 16,
    "start_time": "2022-10-04T20:27:34.160Z"
   },
   {
    "duration": 4,
    "start_time": "2022-10-04T20:27:34.178Z"
   },
   {
    "duration": 1749,
    "start_time": "2022-10-04T20:27:34.233Z"
   },
   {
    "duration": 24,
    "start_time": "2022-10-04T20:27:35.983Z"
   },
   {
    "duration": 4,
    "start_time": "2022-10-04T20:27:36.009Z"
   },
   {
    "duration": 21,
    "start_time": "2022-10-04T20:27:36.015Z"
   },
   {
    "duration": 7,
    "start_time": "2022-10-04T20:27:36.038Z"
   },
   {
    "duration": 345,
    "start_time": "2022-10-04T20:27:36.047Z"
   },
   {
    "duration": 1525,
    "start_time": "2022-10-06T18:25:56.531Z"
   },
   {
    "duration": 153,
    "start_time": "2022-10-06T18:25:58.058Z"
   },
   {
    "duration": 17,
    "start_time": "2022-10-06T18:25:58.213Z"
   },
   {
    "duration": 11,
    "start_time": "2022-10-06T18:25:58.232Z"
   },
   {
    "duration": 7,
    "start_time": "2022-10-06T18:25:58.244Z"
   },
   {
    "duration": 11,
    "start_time": "2022-10-06T18:25:58.252Z"
   },
   {
    "duration": 2,
    "start_time": "2022-10-06T18:25:58.265Z"
   },
   {
    "duration": 472,
    "start_time": "2022-10-06T18:25:58.269Z"
   },
   {
    "duration": 244,
    "start_time": "2022-10-06T18:25:58.743Z"
   },
   {
    "duration": 1320,
    "start_time": "2022-10-06T18:25:58.990Z"
   },
   {
    "duration": 202,
    "start_time": "2022-10-06T18:26:00.312Z"
   },
   {
    "duration": 352,
    "start_time": "2022-10-06T18:26:00.516Z"
   },
   {
    "duration": 1550,
    "start_time": "2022-10-06T18:26:00.870Z"
   },
   {
    "duration": 5,
    "start_time": "2022-10-06T18:26:02.508Z"
   },
   {
    "duration": 210,
    "start_time": "2022-10-06T18:26:02.514Z"
   },
   {
    "duration": 7,
    "start_time": "2022-10-06T18:26:02.726Z"
   },
   {
    "duration": 43,
    "start_time": "2022-10-06T18:26:02.735Z"
   },
   {
    "duration": 22,
    "start_time": "2022-10-06T18:26:02.780Z"
   },
   {
    "duration": 49,
    "start_time": "2022-10-06T18:26:02.804Z"
   },
   {
    "duration": 1325,
    "start_time": "2022-10-06T18:26:02.855Z"
   },
   {
    "duration": 0,
    "start_time": "2022-10-06T18:26:04.182Z"
   },
   {
    "duration": 0,
    "start_time": "2022-10-06T18:26:04.183Z"
   },
   {
    "duration": 0,
    "start_time": "2022-10-06T18:26:04.185Z"
   },
   {
    "duration": 0,
    "start_time": "2022-10-06T18:26:04.187Z"
   },
   {
    "duration": 0,
    "start_time": "2022-10-06T18:26:04.189Z"
   },
   {
    "duration": 1161,
    "start_time": "2022-10-06T18:26:32.878Z"
   },
   {
    "duration": 24,
    "start_time": "2022-10-06T18:26:37.583Z"
   },
   {
    "duration": 26,
    "start_time": "2022-10-06T18:27:03.578Z"
   },
   {
    "duration": 1335,
    "start_time": "2022-10-06T18:27:26.337Z"
   },
   {
    "duration": 50,
    "start_time": "2022-10-06T18:27:27.674Z"
   },
   {
    "duration": 17,
    "start_time": "2022-10-06T18:27:27.726Z"
   },
   {
    "duration": 10,
    "start_time": "2022-10-06T18:27:27.744Z"
   },
   {
    "duration": 5,
    "start_time": "2022-10-06T18:27:27.755Z"
   },
   {
    "duration": 9,
    "start_time": "2022-10-06T18:27:27.761Z"
   },
   {
    "duration": 8,
    "start_time": "2022-10-06T18:27:27.772Z"
   },
   {
    "duration": 464,
    "start_time": "2022-10-06T18:27:27.781Z"
   },
   {
    "duration": 235,
    "start_time": "2022-10-06T18:27:28.246Z"
   },
   {
    "duration": 1226,
    "start_time": "2022-10-06T18:27:28.484Z"
   },
   {
    "duration": 198,
    "start_time": "2022-10-06T18:27:29.712Z"
   },
   {
    "duration": 324,
    "start_time": "2022-10-06T18:27:29.912Z"
   },
   {
    "duration": 1380,
    "start_time": "2022-10-06T18:27:30.237Z"
   },
   {
    "duration": 93,
    "start_time": "2022-10-06T18:27:31.618Z"
   },
   {
    "duration": 178,
    "start_time": "2022-10-06T18:27:31.713Z"
   },
   {
    "duration": 18,
    "start_time": "2022-10-06T18:27:31.893Z"
   },
   {
    "duration": 6,
    "start_time": "2022-10-06T18:27:31.913Z"
   },
   {
    "duration": 9,
    "start_time": "2022-10-06T18:27:31.921Z"
   },
   {
    "duration": 3,
    "start_time": "2022-10-06T18:27:31.931Z"
   },
   {
    "duration": 1233,
    "start_time": "2022-10-06T18:27:31.936Z"
   },
   {
    "duration": 24,
    "start_time": "2022-10-06T18:27:33.171Z"
   },
   {
    "duration": 13,
    "start_time": "2022-10-06T18:27:33.198Z"
   },
   {
    "duration": 10,
    "start_time": "2022-10-06T18:27:33.213Z"
   },
   {
    "duration": 9,
    "start_time": "2022-10-06T18:27:33.224Z"
   },
   {
    "duration": 139,
    "start_time": "2022-10-06T18:27:33.234Z"
   },
   {
    "duration": 323,
    "start_time": "2022-10-06T18:28:02.840Z"
   },
   {
    "duration": 386,
    "start_time": "2022-10-06T18:28:15.631Z"
   },
   {
    "duration": 29,
    "start_time": "2022-10-06T18:29:06.798Z"
   },
   {
    "duration": 1329,
    "start_time": "2022-10-06T18:29:13.255Z"
   },
   {
    "duration": 59,
    "start_time": "2022-10-06T18:29:14.586Z"
   },
   {
    "duration": 17,
    "start_time": "2022-10-06T18:29:14.646Z"
   },
   {
    "duration": 11,
    "start_time": "2022-10-06T18:29:14.665Z"
   },
   {
    "duration": 9,
    "start_time": "2022-10-06T18:29:14.677Z"
   },
   {
    "duration": 11,
    "start_time": "2022-10-06T18:29:14.687Z"
   },
   {
    "duration": 20,
    "start_time": "2022-10-06T18:29:14.699Z"
   },
   {
    "duration": 468,
    "start_time": "2022-10-06T18:29:14.721Z"
   },
   {
    "duration": 245,
    "start_time": "2022-10-06T18:29:15.190Z"
   },
   {
    "duration": 1286,
    "start_time": "2022-10-06T18:29:15.437Z"
   },
   {
    "duration": 207,
    "start_time": "2022-10-06T18:29:16.725Z"
   },
   {
    "duration": 340,
    "start_time": "2022-10-06T18:29:16.934Z"
   },
   {
    "duration": 4339,
    "start_time": "2022-10-06T18:29:17.276Z"
   },
   {
    "duration": 17,
    "start_time": "2022-10-06T18:29:21.618Z"
   },
   {
    "duration": 112,
    "start_time": "2022-10-06T18:29:21.710Z"
   },
   {
    "duration": 7,
    "start_time": "2022-10-06T18:29:21.824Z"
   },
   {
    "duration": 7,
    "start_time": "2022-10-06T18:29:21.833Z"
   },
   {
    "duration": 14,
    "start_time": "2022-10-06T18:29:21.842Z"
   },
   {
    "duration": 3,
    "start_time": "2022-10-06T18:29:21.857Z"
   },
   {
    "duration": 1339,
    "start_time": "2022-10-06T18:29:21.861Z"
   },
   {
    "duration": 32,
    "start_time": "2022-10-06T18:29:23.201Z"
   },
   {
    "duration": 4,
    "start_time": "2022-10-06T18:29:23.234Z"
   },
   {
    "duration": 8,
    "start_time": "2022-10-06T18:29:23.240Z"
   },
   {
    "duration": 2,
    "start_time": "2022-10-06T18:29:23.250Z"
   },
   {
    "duration": 418,
    "start_time": "2022-10-06T18:29:23.254Z"
   },
   {
    "duration": 127,
    "start_time": "2022-10-06T18:30:30.329Z"
   },
   {
    "duration": 126,
    "start_time": "2022-10-06T18:30:45.323Z"
   },
   {
    "duration": 8,
    "start_time": "2022-10-06T18:31:01.181Z"
   },
   {
    "duration": 1349,
    "start_time": "2022-10-06T18:32:33.394Z"
   },
   {
    "duration": 53,
    "start_time": "2022-10-06T18:32:34.744Z"
   },
   {
    "duration": 16,
    "start_time": "2022-10-06T18:32:34.799Z"
   },
   {
    "duration": 19,
    "start_time": "2022-10-06T18:32:34.818Z"
   },
   {
    "duration": 31,
    "start_time": "2022-10-06T18:32:34.838Z"
   },
   {
    "duration": 33,
    "start_time": "2022-10-06T18:32:34.871Z"
   },
   {
    "duration": 15,
    "start_time": "2022-10-06T18:32:34.906Z"
   },
   {
    "duration": 478,
    "start_time": "2022-10-06T18:32:34.923Z"
   },
   {
    "duration": 244,
    "start_time": "2022-10-06T18:32:35.403Z"
   },
   {
    "duration": 1267,
    "start_time": "2022-10-06T18:32:35.651Z"
   },
   {
    "duration": 204,
    "start_time": "2022-10-06T18:32:36.919Z"
   },
   {
    "duration": 337,
    "start_time": "2022-10-06T18:32:37.125Z"
   },
   {
    "duration": 1957,
    "start_time": "2022-10-06T18:32:37.464Z"
   },
   {
    "duration": 5,
    "start_time": "2022-10-06T18:32:39.509Z"
   },
   {
    "duration": 178,
    "start_time": "2022-10-06T18:32:39.516Z"
   },
   {
    "duration": 17,
    "start_time": "2022-10-06T18:32:39.696Z"
   },
   {
    "duration": 34,
    "start_time": "2022-10-06T18:32:39.715Z"
   },
   {
    "duration": 44,
    "start_time": "2022-10-06T18:32:39.751Z"
   },
   {
    "duration": 17,
    "start_time": "2022-10-06T18:32:39.797Z"
   },
   {
    "duration": 1250,
    "start_time": "2022-10-06T18:32:39.816Z"
   },
   {
    "duration": 25,
    "start_time": "2022-10-06T18:32:41.068Z"
   },
   {
    "duration": 29,
    "start_time": "2022-10-06T18:32:41.094Z"
   },
   {
    "duration": 44,
    "start_time": "2022-10-06T18:32:41.125Z"
   },
   {
    "duration": 16,
    "start_time": "2022-10-06T18:32:41.171Z"
   },
   {
    "duration": 477,
    "start_time": "2022-10-06T18:32:41.188Z"
   },
   {
    "duration": 6,
    "start_time": "2022-10-06T18:33:00.977Z"
   },
   {
    "duration": 8,
    "start_time": "2022-10-06T18:33:09.147Z"
   },
   {
    "duration": 1422,
    "start_time": "2022-10-06T18:34:02.240Z"
   },
   {
    "duration": 56,
    "start_time": "2022-10-06T18:34:03.664Z"
   },
   {
    "duration": 17,
    "start_time": "2022-10-06T18:34:03.721Z"
   },
   {
    "duration": 10,
    "start_time": "2022-10-06T18:34:03.740Z"
   },
   {
    "duration": 9,
    "start_time": "2022-10-06T18:34:03.751Z"
   },
   {
    "duration": 14,
    "start_time": "2022-10-06T18:34:03.761Z"
   },
   {
    "duration": 5,
    "start_time": "2022-10-06T18:34:03.777Z"
   },
   {
    "duration": 514,
    "start_time": "2022-10-06T18:34:03.783Z"
   },
   {
    "duration": 272,
    "start_time": "2022-10-06T18:34:04.299Z"
   },
   {
    "duration": 1357,
    "start_time": "2022-10-06T18:34:04.574Z"
   },
   {
    "duration": 216,
    "start_time": "2022-10-06T18:34:05.933Z"
   },
   {
    "duration": 373,
    "start_time": "2022-10-06T18:34:06.151Z"
   },
   {
    "duration": 3694,
    "start_time": "2022-10-06T18:34:06.526Z"
   },
   {
    "duration": 16,
    "start_time": "2022-10-06T18:34:10.221Z"
   },
   {
    "duration": 142,
    "start_time": "2022-10-06T18:34:10.240Z"
   },
   {
    "duration": 7,
    "start_time": "2022-10-06T18:34:10.384Z"
   },
   {
    "duration": 13,
    "start_time": "2022-10-06T18:34:10.392Z"
   },
   {
    "duration": 30,
    "start_time": "2022-10-06T18:34:10.407Z"
   },
   {
    "duration": 7,
    "start_time": "2022-10-06T18:34:10.439Z"
   },
   {
    "duration": 1286,
    "start_time": "2022-10-06T18:34:10.448Z"
   },
   {
    "duration": 36,
    "start_time": "2022-10-06T18:34:11.736Z"
   },
   {
    "duration": 6,
    "start_time": "2022-10-06T18:34:11.773Z"
   },
   {
    "duration": 45,
    "start_time": "2022-10-06T18:34:11.781Z"
   },
   {
    "duration": 29,
    "start_time": "2022-10-06T18:34:11.832Z"
   },
   {
    "duration": 464,
    "start_time": "2022-10-06T18:34:11.863Z"
   },
   {
    "duration": 197,
    "start_time": "2022-10-06T18:35:58.330Z"
   },
   {
    "duration": 186,
    "start_time": "2022-10-06T18:37:01.639Z"
   },
   {
    "duration": 199,
    "start_time": "2022-10-06T18:37:17.736Z"
   },
   {
    "duration": 259,
    "start_time": "2022-10-06T18:37:23.006Z"
   },
   {
    "duration": 1383,
    "start_time": "2022-10-06T18:37:43.562Z"
   },
   {
    "duration": 60,
    "start_time": "2022-10-06T18:37:44.947Z"
   },
   {
    "duration": 23,
    "start_time": "2022-10-06T18:37:45.009Z"
   },
   {
    "duration": 16,
    "start_time": "2022-10-06T18:37:45.034Z"
   },
   {
    "duration": 5,
    "start_time": "2022-10-06T18:37:45.052Z"
   },
   {
    "duration": 14,
    "start_time": "2022-10-06T18:37:45.059Z"
   },
   {
    "duration": 6,
    "start_time": "2022-10-06T18:37:45.074Z"
   },
   {
    "duration": 491,
    "start_time": "2022-10-06T18:37:45.082Z"
   },
   {
    "duration": 261,
    "start_time": "2022-10-06T18:37:45.575Z"
   },
   {
    "duration": 1362,
    "start_time": "2022-10-06T18:37:45.838Z"
   },
   {
    "duration": 235,
    "start_time": "2022-10-06T18:37:47.201Z"
   },
   {
    "duration": 302,
    "start_time": "2022-10-06T18:37:47.437Z"
   },
   {
    "duration": 286,
    "start_time": "2022-10-06T18:37:47.741Z"
   },
   {
    "duration": 4508,
    "start_time": "2022-10-06T18:37:48.029Z"
   },
   {
    "duration": 80,
    "start_time": "2022-10-06T18:37:52.539Z"
   },
   {
    "duration": 149,
    "start_time": "2022-10-06T18:37:52.627Z"
   },
   {
    "duration": 9,
    "start_time": "2022-10-06T18:37:52.779Z"
   },
   {
    "duration": 42,
    "start_time": "2022-10-06T18:37:52.790Z"
   },
   {
    "duration": 41,
    "start_time": "2022-10-06T18:37:52.838Z"
   },
   {
    "duration": 18,
    "start_time": "2022-10-06T18:37:52.881Z"
   },
   {
    "duration": 1429,
    "start_time": "2022-10-06T18:37:52.901Z"
   },
   {
    "duration": 27,
    "start_time": "2022-10-06T18:37:54.332Z"
   },
   {
    "duration": 5,
    "start_time": "2022-10-06T18:37:54.360Z"
   },
   {
    "duration": 10,
    "start_time": "2022-10-06T18:37:54.366Z"
   },
   {
    "duration": 6,
    "start_time": "2022-10-06T18:37:54.377Z"
   },
   {
    "duration": 418,
    "start_time": "2022-10-06T18:37:54.385Z"
   },
   {
    "duration": 271,
    "start_time": "2022-10-06T18:38:51.636Z"
   },
   {
    "duration": 6605,
    "start_time": "2022-10-06T18:41:55.339Z"
   },
   {
    "duration": 1365,
    "start_time": "2022-10-06T18:42:09.478Z"
   },
   {
    "duration": 53,
    "start_time": "2022-10-06T18:42:10.845Z"
   },
   {
    "duration": 24,
    "start_time": "2022-10-06T18:42:10.900Z"
   },
   {
    "duration": 11,
    "start_time": "2022-10-06T18:42:10.926Z"
   },
   {
    "duration": 8,
    "start_time": "2022-10-06T18:42:10.939Z"
   },
   {
    "duration": 9,
    "start_time": "2022-10-06T18:42:10.948Z"
   },
   {
    "duration": 3,
    "start_time": "2022-10-06T18:42:10.959Z"
   },
   {
    "duration": 521,
    "start_time": "2022-10-06T18:42:10.964Z"
   },
   {
    "duration": 309,
    "start_time": "2022-10-06T18:42:11.487Z"
   },
   {
    "duration": 1433,
    "start_time": "2022-10-06T18:42:11.800Z"
   },
   {
    "duration": 3067,
    "start_time": "2022-10-06T18:42:13.235Z"
   },
   {
    "duration": 196,
    "start_time": "2022-10-06T18:42:16.304Z"
   },
   {
    "duration": 273,
    "start_time": "2022-10-06T18:42:16.501Z"
   },
   {
    "duration": 5740,
    "start_time": "2022-10-06T18:42:16.775Z"
   },
   {
    "duration": 87,
    "start_time": "2022-10-06T18:42:22.521Z"
   },
   {
    "duration": 85,
    "start_time": "2022-10-06T18:42:22.612Z"
   },
   {
    "duration": 8,
    "start_time": "2022-10-06T18:42:22.699Z"
   },
   {
    "duration": 30,
    "start_time": "2022-10-06T18:42:22.711Z"
   },
   {
    "duration": 43,
    "start_time": "2022-10-06T18:42:22.743Z"
   },
   {
    "duration": 40,
    "start_time": "2022-10-06T18:42:22.788Z"
   },
   {
    "duration": 1306,
    "start_time": "2022-10-06T18:42:22.832Z"
   },
   {
    "duration": 28,
    "start_time": "2022-10-06T18:42:24.140Z"
   },
   {
    "duration": 5,
    "start_time": "2022-10-06T18:42:24.170Z"
   },
   {
    "duration": 37,
    "start_time": "2022-10-06T18:42:24.177Z"
   },
   {
    "duration": 7,
    "start_time": "2022-10-06T18:42:24.216Z"
   },
   {
    "duration": 431,
    "start_time": "2022-10-06T18:42:24.226Z"
   },
   {
    "duration": 1344,
    "start_time": "2022-10-06T18:42:35.728Z"
   },
   {
    "duration": 57,
    "start_time": "2022-10-06T18:42:37.074Z"
   },
   {
    "duration": 15,
    "start_time": "2022-10-06T18:42:37.133Z"
   },
   {
    "duration": 46,
    "start_time": "2022-10-06T18:42:37.150Z"
   },
   {
    "duration": 55,
    "start_time": "2022-10-06T18:42:37.199Z"
   },
   {
    "duration": 37,
    "start_time": "2022-10-06T18:42:37.255Z"
   },
   {
    "duration": 36,
    "start_time": "2022-10-06T18:42:37.293Z"
   },
   {
    "duration": 470,
    "start_time": "2022-10-06T18:42:37.331Z"
   },
   {
    "duration": 262,
    "start_time": "2022-10-06T18:42:37.802Z"
   },
   {
    "duration": 1316,
    "start_time": "2022-10-06T18:42:38.065Z"
   },
   {
    "duration": 3149,
    "start_time": "2022-10-06T18:42:39.383Z"
   },
   {
    "duration": 161,
    "start_time": "2022-10-06T18:42:42.535Z"
   },
   {
    "duration": 0,
    "start_time": "2022-10-06T18:42:42.699Z"
   },
   {
    "duration": 0,
    "start_time": "2022-10-06T18:42:42.701Z"
   },
   {
    "duration": 0,
    "start_time": "2022-10-06T18:42:42.724Z"
   },
   {
    "duration": 0,
    "start_time": "2022-10-06T18:42:42.729Z"
   },
   {
    "duration": 0,
    "start_time": "2022-10-06T18:42:42.731Z"
   },
   {
    "duration": 0,
    "start_time": "2022-10-06T18:42:42.732Z"
   },
   {
    "duration": 0,
    "start_time": "2022-10-06T18:42:42.733Z"
   },
   {
    "duration": 0,
    "start_time": "2022-10-06T18:42:42.735Z"
   },
   {
    "duration": 0,
    "start_time": "2022-10-06T18:42:42.737Z"
   },
   {
    "duration": 0,
    "start_time": "2022-10-06T18:42:42.737Z"
   },
   {
    "duration": 1,
    "start_time": "2022-10-06T18:42:42.738Z"
   },
   {
    "duration": 0,
    "start_time": "2022-10-06T18:42:42.740Z"
   },
   {
    "duration": 0,
    "start_time": "2022-10-06T18:42:42.741Z"
   },
   {
    "duration": 0,
    "start_time": "2022-10-06T18:42:42.743Z"
   },
   {
    "duration": 0,
    "start_time": "2022-10-06T18:42:42.744Z"
   },
   {
    "duration": 14,
    "start_time": "2022-10-06T18:43:11.128Z"
   },
   {
    "duration": 243,
    "start_time": "2022-10-06T18:43:18.997Z"
   },
   {
    "duration": 18,
    "start_time": "2022-10-06T18:43:33.382Z"
   },
   {
    "duration": 22,
    "start_time": "2022-10-06T18:43:36.931Z"
   },
   {
    "duration": 280,
    "start_time": "2022-10-06T18:43:49.790Z"
   },
   {
    "duration": 276,
    "start_time": "2022-10-06T18:43:58.553Z"
   },
   {
    "duration": 214,
    "start_time": "2022-10-06T18:49:21.608Z"
   },
   {
    "duration": 306,
    "start_time": "2022-10-06T18:50:40.259Z"
   },
   {
    "duration": 258,
    "start_time": "2022-10-06T18:50:47.340Z"
   },
   {
    "duration": 47,
    "start_time": "2022-10-06T18:51:19.260Z"
   },
   {
    "duration": 14,
    "start_time": "2022-10-06T18:52:06.963Z"
   },
   {
    "duration": 1368,
    "start_time": "2022-10-06T18:52:54.255Z"
   },
   {
    "duration": 52,
    "start_time": "2022-10-06T18:52:55.625Z"
   },
   {
    "duration": 17,
    "start_time": "2022-10-06T18:52:55.678Z"
   },
   {
    "duration": 10,
    "start_time": "2022-10-06T18:52:55.696Z"
   },
   {
    "duration": 15,
    "start_time": "2022-10-06T18:52:55.711Z"
   },
   {
    "duration": 11,
    "start_time": "2022-10-06T18:52:55.728Z"
   },
   {
    "duration": 8,
    "start_time": "2022-10-06T18:52:55.740Z"
   },
   {
    "duration": 548,
    "start_time": "2022-10-06T18:52:55.749Z"
   },
   {
    "duration": 276,
    "start_time": "2022-10-06T18:52:56.299Z"
   },
   {
    "duration": 1359,
    "start_time": "2022-10-06T18:52:56.577Z"
   },
   {
    "duration": 319,
    "start_time": "2022-10-06T18:52:57.938Z"
   },
   {
    "duration": 426,
    "start_time": "2022-10-06T18:52:58.259Z"
   },
   {
    "duration": 291,
    "start_time": "2022-10-06T18:52:58.687Z"
   },
   {
    "duration": 5346,
    "start_time": "2022-10-06T18:52:58.981Z"
   },
   {
    "duration": 82,
    "start_time": "2022-10-06T18:53:04.329Z"
   },
   {
    "duration": 153,
    "start_time": "2022-10-06T18:53:04.415Z"
   },
   {
    "duration": 6,
    "start_time": "2022-10-06T18:53:04.570Z"
   },
   {
    "duration": 6,
    "start_time": "2022-10-06T18:53:04.578Z"
   },
   {
    "duration": 23,
    "start_time": "2022-10-06T18:53:04.585Z"
   },
   {
    "duration": 15,
    "start_time": "2022-10-06T18:53:04.611Z"
   },
   {
    "duration": 1237,
    "start_time": "2022-10-06T18:53:04.628Z"
   },
   {
    "duration": 25,
    "start_time": "2022-10-06T18:53:05.866Z"
   },
   {
    "duration": 5,
    "start_time": "2022-10-06T18:53:05.892Z"
   },
   {
    "duration": 9,
    "start_time": "2022-10-06T18:53:05.912Z"
   },
   {
    "duration": 4,
    "start_time": "2022-10-06T18:53:05.923Z"
   },
   {
    "duration": 416,
    "start_time": "2022-10-06T18:53:05.929Z"
   },
   {
    "duration": 60,
    "start_time": "2022-10-06T18:54:55.264Z"
   },
   {
    "duration": 38,
    "start_time": "2022-10-06T18:55:00.546Z"
   },
   {
    "duration": 57,
    "start_time": "2022-10-06T18:55:28.602Z"
   },
   {
    "duration": 47,
    "start_time": "2022-10-06T18:55:57.729Z"
   },
   {
    "duration": 432,
    "start_time": "2022-10-06T18:56:06.003Z"
   },
   {
    "duration": 1029,
    "start_time": "2022-10-06T18:56:11.325Z"
   },
   {
    "duration": 949,
    "start_time": "2022-10-06T18:56:17.886Z"
   },
   {
    "duration": 602,
    "start_time": "2022-10-06T18:56:26.827Z"
   },
   {
    "duration": 553,
    "start_time": "2022-10-06T18:56:30.873Z"
   },
   {
    "duration": 668,
    "start_time": "2022-10-06T18:56:34.227Z"
   },
   {
    "duration": 497,
    "start_time": "2022-10-06T18:56:38.144Z"
   },
   {
    "duration": 522,
    "start_time": "2022-10-06T18:56:42.401Z"
   },
   {
    "duration": 524,
    "start_time": "2022-10-06T18:56:50.005Z"
   },
   {
    "duration": 618,
    "start_time": "2022-10-06T18:56:56.497Z"
   },
   {
    "duration": 3545,
    "start_time": "2022-10-06T18:57:07.922Z"
   },
   {
    "duration": 26,
    "start_time": "2022-10-06T18:58:16.421Z"
   },
   {
    "duration": 102,
    "start_time": "2022-10-06T18:58:26.348Z"
   },
   {
    "duration": 194,
    "start_time": "2022-10-06T18:58:31.356Z"
   },
   {
    "duration": 217,
    "start_time": "2022-10-06T18:58:38.753Z"
   },
   {
    "duration": 250,
    "start_time": "2022-10-06T18:58:43.025Z"
   },
   {
    "duration": 233,
    "start_time": "2022-10-06T18:58:45.706Z"
   },
   {
    "duration": 131,
    "start_time": "2022-10-06T18:58:49.654Z"
   },
   {
    "duration": 9,
    "start_time": "2022-10-06T18:58:59.156Z"
   },
   {
    "duration": 9852,
    "start_time": "2022-10-06T18:59:27.747Z"
   },
   {
    "duration": 60,
    "start_time": "2022-10-06T19:00:08.022Z"
   },
   {
    "duration": 288,
    "start_time": "2022-10-06T19:00:12.904Z"
   },
   {
    "duration": 130,
    "start_time": "2022-10-06T19:00:26.424Z"
   },
   {
    "duration": 11,
    "start_time": "2022-10-06T19:00:32.329Z"
   },
   {
    "duration": 8,
    "start_time": "2022-10-06T19:00:38.465Z"
   },
   {
    "duration": 1377,
    "start_time": "2022-10-06T19:07:22.815Z"
   },
   {
    "duration": 51,
    "start_time": "2022-10-06T19:07:24.194Z"
   },
   {
    "duration": 16,
    "start_time": "2022-10-06T19:07:24.247Z"
   },
   {
    "duration": 13,
    "start_time": "2022-10-06T19:07:24.265Z"
   },
   {
    "duration": 34,
    "start_time": "2022-10-06T19:07:24.279Z"
   },
   {
    "duration": 33,
    "start_time": "2022-10-06T19:07:24.315Z"
   },
   {
    "duration": 19,
    "start_time": "2022-10-06T19:07:24.349Z"
   },
   {
    "duration": 491,
    "start_time": "2022-10-06T19:07:24.370Z"
   },
   {
    "duration": 264,
    "start_time": "2022-10-06T19:07:24.863Z"
   },
   {
    "duration": 1346,
    "start_time": "2022-10-06T19:07:25.130Z"
   },
   {
    "duration": 297,
    "start_time": "2022-10-06T19:07:26.477Z"
   },
   {
    "duration": 360,
    "start_time": "2022-10-06T19:07:26.776Z"
   },
   {
    "duration": 262,
    "start_time": "2022-10-06T19:07:27.137Z"
   },
   {
    "duration": 1301,
    "start_time": "2022-10-06T19:07:27.408Z"
   },
   {
    "duration": 7,
    "start_time": "2022-10-06T19:07:28.711Z"
   },
   {
    "duration": 60,
    "start_time": "2022-10-06T19:07:28.809Z"
   },
   {
    "duration": 5,
    "start_time": "2022-10-06T19:07:28.871Z"
   },
   {
    "duration": 17,
    "start_time": "2022-10-06T19:07:28.878Z"
   },
   {
    "duration": 27,
    "start_time": "2022-10-06T19:07:28.897Z"
   },
   {
    "duration": 22,
    "start_time": "2022-10-06T19:07:28.925Z"
   },
   {
    "duration": 8927,
    "start_time": "2022-10-06T19:07:28.948Z"
   },
   {
    "duration": 33,
    "start_time": "2022-10-06T19:07:37.876Z"
   },
   {
    "duration": 5,
    "start_time": "2022-10-06T19:07:37.911Z"
   },
   {
    "duration": 12,
    "start_time": "2022-10-06T19:07:37.917Z"
   },
   {
    "duration": 5,
    "start_time": "2022-10-06T19:07:37.930Z"
   },
   {
    "duration": 419,
    "start_time": "2022-10-06T19:07:37.936Z"
   },
   {
    "duration": 1676,
    "start_time": "2022-10-07T15:40:32.132Z"
   },
   {
    "duration": 120,
    "start_time": "2022-10-07T15:40:33.810Z"
   },
   {
    "duration": 18,
    "start_time": "2022-10-07T15:40:33.931Z"
   },
   {
    "duration": 11,
    "start_time": "2022-10-07T15:40:33.951Z"
   },
   {
    "duration": 8,
    "start_time": "2022-10-07T15:40:33.963Z"
   },
   {
    "duration": 11,
    "start_time": "2022-10-07T15:40:33.973Z"
   },
   {
    "duration": 3,
    "start_time": "2022-10-07T15:40:33.986Z"
   },
   {
    "duration": 426,
    "start_time": "2022-10-07T15:40:33.990Z"
   },
   {
    "duration": 264,
    "start_time": "2022-10-07T15:40:34.418Z"
   },
   {
    "duration": 1424,
    "start_time": "2022-10-07T15:40:34.685Z"
   },
   {
    "duration": 306,
    "start_time": "2022-10-07T15:40:36.111Z"
   },
   {
    "duration": 373,
    "start_time": "2022-10-07T15:40:36.419Z"
   },
   {
    "duration": 314,
    "start_time": "2022-10-07T15:40:36.795Z"
   },
   {
    "duration": 1775,
    "start_time": "2022-10-07T15:40:37.111Z"
   },
   {
    "duration": 5,
    "start_time": "2022-10-07T15:40:38.977Z"
   },
   {
    "duration": 147,
    "start_time": "2022-10-07T15:40:38.987Z"
   },
   {
    "duration": 6,
    "start_time": "2022-10-07T15:40:39.136Z"
   },
   {
    "duration": 15,
    "start_time": "2022-10-07T15:40:39.144Z"
   },
   {
    "duration": 18,
    "start_time": "2022-10-07T15:40:39.161Z"
   },
   {
    "duration": 4,
    "start_time": "2022-10-07T15:40:39.181Z"
   },
   {
    "duration": 19084,
    "start_time": "2022-10-07T15:40:39.186Z"
   },
   {
    "duration": 20,
    "start_time": "2022-10-07T15:40:58.272Z"
   },
   {
    "duration": 4,
    "start_time": "2022-10-07T15:40:58.294Z"
   },
   {
    "duration": 13,
    "start_time": "2022-10-07T15:40:58.300Z"
   },
   {
    "duration": 3,
    "start_time": "2022-10-07T15:40:58.315Z"
   },
   {
    "duration": 417,
    "start_time": "2022-10-07T15:40:58.320Z"
   },
   {
    "duration": 1528,
    "start_time": "2022-10-07T15:41:28.353Z"
   },
   {
    "duration": 50,
    "start_time": "2022-10-07T15:41:29.883Z"
   },
   {
    "duration": 17,
    "start_time": "2022-10-07T15:41:29.934Z"
   },
   {
    "duration": 10,
    "start_time": "2022-10-07T15:41:29.952Z"
   },
   {
    "duration": 6,
    "start_time": "2022-10-07T15:41:29.965Z"
   },
   {
    "duration": 15,
    "start_time": "2022-10-07T15:41:29.972Z"
   },
   {
    "duration": 4,
    "start_time": "2022-10-07T15:41:29.988Z"
   },
   {
    "duration": 444,
    "start_time": "2022-10-07T15:41:29.993Z"
   },
   {
    "duration": 311,
    "start_time": "2022-10-07T15:41:30.439Z"
   },
   {
    "duration": 1340,
    "start_time": "2022-10-07T15:41:30.751Z"
   },
   {
    "duration": 280,
    "start_time": "2022-10-07T15:41:32.093Z"
   },
   {
    "duration": 351,
    "start_time": "2022-10-07T15:41:32.374Z"
   },
   {
    "duration": 268,
    "start_time": "2022-10-07T15:41:32.727Z"
   },
   {
    "duration": 1580,
    "start_time": "2022-10-07T15:41:32.998Z"
   },
   {
    "duration": 8,
    "start_time": "2022-10-07T15:41:34.579Z"
   },
   {
    "duration": 59,
    "start_time": "2022-10-07T15:41:34.677Z"
   },
   {
    "duration": 129,
    "start_time": "2022-10-07T15:41:34.737Z"
   },
   {
    "duration": 0,
    "start_time": "2022-10-07T15:41:34.876Z"
   },
   {
    "duration": 0,
    "start_time": "2022-10-07T15:41:34.877Z"
   },
   {
    "duration": 0,
    "start_time": "2022-10-07T15:41:34.879Z"
   },
   {
    "duration": 0,
    "start_time": "2022-10-07T15:41:34.880Z"
   },
   {
    "duration": 0,
    "start_time": "2022-10-07T15:41:34.881Z"
   },
   {
    "duration": 0,
    "start_time": "2022-10-07T15:41:34.882Z"
   },
   {
    "duration": 0,
    "start_time": "2022-10-07T15:41:34.883Z"
   },
   {
    "duration": 0,
    "start_time": "2022-10-07T15:41:34.884Z"
   },
   {
    "duration": 0,
    "start_time": "2022-10-07T15:41:34.886Z"
   },
   {
    "duration": 0,
    "start_time": "2022-10-07T15:41:34.887Z"
   },
   {
    "duration": 11,
    "start_time": "2022-10-07T15:41:45.057Z"
   },
   {
    "duration": 6,
    "start_time": "2022-10-07T15:41:50.624Z"
   },
   {
    "duration": 6,
    "start_time": "2022-10-07T15:45:25.612Z"
   },
   {
    "duration": 5,
    "start_time": "2022-10-07T15:45:27.430Z"
   },
   {
    "duration": 10,
    "start_time": "2022-10-07T15:45:29.255Z"
   },
   {
    "duration": 9,
    "start_time": "2022-10-07T15:45:43.872Z"
   },
   {
    "duration": 3,
    "start_time": "2022-10-07T15:45:50.469Z"
   },
   {
    "duration": 6,
    "start_time": "2022-10-07T15:45:53.057Z"
   },
   {
    "duration": 394,
    "start_time": "2022-10-07T15:46:03.579Z"
   },
   {
    "duration": 1621,
    "start_time": "2022-10-07T15:48:12.456Z"
   },
   {
    "duration": 50,
    "start_time": "2022-10-07T15:48:14.079Z"
   },
   {
    "duration": 17,
    "start_time": "2022-10-07T15:48:14.130Z"
   },
   {
    "duration": 11,
    "start_time": "2022-10-07T15:48:14.149Z"
   },
   {
    "duration": 12,
    "start_time": "2022-10-07T15:48:14.162Z"
   },
   {
    "duration": 13,
    "start_time": "2022-10-07T15:48:14.175Z"
   },
   {
    "duration": 4,
    "start_time": "2022-10-07T15:48:14.189Z"
   },
   {
    "duration": 437,
    "start_time": "2022-10-07T15:48:14.195Z"
   },
   {
    "duration": 275,
    "start_time": "2022-10-07T15:48:14.634Z"
   },
   {
    "duration": 1453,
    "start_time": "2022-10-07T15:48:14.912Z"
   },
   {
    "duration": 344,
    "start_time": "2022-10-07T15:48:16.367Z"
   },
   {
    "duration": 411,
    "start_time": "2022-10-07T15:48:16.713Z"
   },
   {
    "duration": 283,
    "start_time": "2022-10-07T15:48:17.126Z"
   },
   {
    "duration": 1575,
    "start_time": "2022-10-07T15:48:17.411Z"
   },
   {
    "duration": 5,
    "start_time": "2022-10-07T15:48:19.078Z"
   },
   {
    "duration": 152,
    "start_time": "2022-10-07T15:48:19.087Z"
   },
   {
    "duration": 7,
    "start_time": "2022-10-07T15:48:19.241Z"
   },
   {
    "duration": 11,
    "start_time": "2022-10-07T15:48:19.249Z"
   },
   {
    "duration": 20,
    "start_time": "2022-10-07T15:48:19.262Z"
   },
   {
    "duration": 35,
    "start_time": "2022-10-07T15:48:19.284Z"
   },
   {
    "duration": 9508,
    "start_time": "2022-10-07T15:48:19.321Z"
   },
   {
    "duration": 27,
    "start_time": "2022-10-07T15:48:28.831Z"
   },
   {
    "duration": 5,
    "start_time": "2022-10-07T15:48:28.859Z"
   },
   {
    "duration": 8,
    "start_time": "2022-10-07T15:48:28.876Z"
   },
   {
    "duration": 5,
    "start_time": "2022-10-07T15:48:28.885Z"
   },
   {
    "duration": 411,
    "start_time": "2022-10-07T15:48:28.891Z"
   },
   {
    "duration": 1509,
    "start_time": "2022-10-07T19:46:29.096Z"
   },
   {
    "duration": 120,
    "start_time": "2022-10-07T19:46:30.607Z"
   },
   {
    "duration": 18,
    "start_time": "2022-10-07T19:46:30.729Z"
   },
   {
    "duration": 15,
    "start_time": "2022-10-07T19:46:30.749Z"
   },
   {
    "duration": 11,
    "start_time": "2022-10-07T19:46:30.765Z"
   },
   {
    "duration": 39,
    "start_time": "2022-10-07T19:46:30.777Z"
   },
   {
    "duration": 16,
    "start_time": "2022-10-07T19:46:30.818Z"
   },
   {
    "duration": 429,
    "start_time": "2022-10-07T19:46:30.836Z"
   },
   {
    "duration": 269,
    "start_time": "2022-10-07T19:46:31.267Z"
   },
   {
    "duration": 276,
    "start_time": "2022-10-07T19:46:31.539Z"
   },
   {
    "duration": 115,
    "start_time": "2022-10-07T19:46:31.817Z"
   },
   {
    "duration": 0,
    "start_time": "2022-10-07T19:46:31.934Z"
   },
   {
    "duration": 0,
    "start_time": "2022-10-07T19:46:31.935Z"
   },
   {
    "duration": 0,
    "start_time": "2022-10-07T19:46:31.936Z"
   },
   {
    "duration": 0,
    "start_time": "2022-10-07T19:46:31.937Z"
   },
   {
    "duration": 0,
    "start_time": "2022-10-07T19:46:31.938Z"
   },
   {
    "duration": 0,
    "start_time": "2022-10-07T19:46:31.939Z"
   },
   {
    "duration": 0,
    "start_time": "2022-10-07T19:46:31.940Z"
   },
   {
    "duration": 0,
    "start_time": "2022-10-07T19:46:31.941Z"
   },
   {
    "duration": 0,
    "start_time": "2022-10-07T19:46:31.942Z"
   },
   {
    "duration": 0,
    "start_time": "2022-10-07T19:46:31.943Z"
   },
   {
    "duration": 0,
    "start_time": "2022-10-07T19:46:31.944Z"
   },
   {
    "duration": 0,
    "start_time": "2022-10-07T19:46:31.945Z"
   },
   {
    "duration": 0,
    "start_time": "2022-10-07T19:46:31.945Z"
   },
   {
    "duration": 0,
    "start_time": "2022-10-07T19:46:31.946Z"
   },
   {
    "duration": 0,
    "start_time": "2022-10-07T19:46:31.947Z"
   },
   {
    "duration": 256,
    "start_time": "2022-10-07T19:47:00.230Z"
   },
   {
    "duration": 212,
    "start_time": "2022-10-07T19:47:17.480Z"
   },
   {
    "duration": 183,
    "start_time": "2022-10-07T19:47:26.463Z"
   },
   {
    "duration": 167,
    "start_time": "2022-10-07T19:47:35.601Z"
   },
   {
    "duration": 176,
    "start_time": "2022-10-07T19:49:03.729Z"
   },
   {
    "duration": 188,
    "start_time": "2022-10-07T19:49:12.336Z"
   },
   {
    "duration": 185,
    "start_time": "2022-10-07T19:49:59.976Z"
   },
   {
    "duration": 187,
    "start_time": "2022-10-07T19:56:00.284Z"
   },
   {
    "duration": 328,
    "start_time": "2022-10-07T20:01:26.163Z"
   },
   {
    "duration": 335,
    "start_time": "2022-10-07T20:01:28.204Z"
   },
   {
    "duration": 9,
    "start_time": "2022-10-07T20:04:17.669Z"
   },
   {
    "duration": 1976,
    "start_time": "2022-10-07T20:04:29.263Z"
   },
   {
    "duration": 4,
    "start_time": "2022-10-07T20:04:35.104Z"
   },
   {
    "duration": 22,
    "start_time": "2022-10-07T20:04:37.209Z"
   },
   {
    "duration": 7,
    "start_time": "2022-10-07T20:04:52.649Z"
   },
   {
    "duration": 5,
    "start_time": "2022-10-07T20:04:55.911Z"
   },
   {
    "duration": 8,
    "start_time": "2022-10-07T20:04:57.167Z"
   },
   {
    "duration": 2,
    "start_time": "2022-10-07T20:04:58.558Z"
   },
   {
    "duration": 9139,
    "start_time": "2022-10-07T20:05:00.298Z"
   },
   {
    "duration": 10,
    "start_time": "2022-10-07T20:05:23.365Z"
   },
   {
    "duration": 51702,
    "start_time": "2022-10-07T20:05:25.337Z"
   },
   {
    "duration": 85,
    "start_time": "2022-10-07T20:07:51.164Z"
   },
   {
    "duration": 56260,
    "start_time": "2022-10-07T20:08:49.212Z"
   },
   {
    "duration": 80,
    "start_time": "2022-10-07T20:10:29.958Z"
   },
   {
    "duration": 56932,
    "start_time": "2022-10-07T20:10:34.715Z"
   },
   {
    "duration": 491,
    "start_time": "2022-10-07T20:11:38.751Z"
   },
   {
    "duration": 5,
    "start_time": "2022-10-07T20:11:50.052Z"
   },
   {
    "duration": 52,
    "start_time": "2022-10-07T20:11:55.785Z"
   },
   {
    "duration": 3,
    "start_time": "2022-10-07T20:12:03.591Z"
   },
   {
    "duration": 352,
    "start_time": "2022-10-07T20:12:05.293Z"
   },
   {
    "duration": 1363,
    "start_time": "2022-10-07T20:13:16.609Z"
   },
   {
    "duration": 51,
    "start_time": "2022-10-07T20:13:17.974Z"
   },
   {
    "duration": 17,
    "start_time": "2022-10-07T20:13:18.026Z"
   },
   {
    "duration": 10,
    "start_time": "2022-10-07T20:13:18.044Z"
   },
   {
    "duration": 7,
    "start_time": "2022-10-07T20:13:18.056Z"
   },
   {
    "duration": 10,
    "start_time": "2022-10-07T20:13:18.064Z"
   },
   {
    "duration": 6,
    "start_time": "2022-10-07T20:13:18.075Z"
   },
   {
    "duration": 430,
    "start_time": "2022-10-07T20:13:18.083Z"
   },
   {
    "duration": 257,
    "start_time": "2022-10-07T20:13:18.514Z"
   },
   {
    "duration": 195,
    "start_time": "2022-10-07T20:13:18.772Z"
   },
   {
    "duration": 253,
    "start_time": "2022-10-07T20:13:18.968Z"
   },
   {
    "duration": 264,
    "start_time": "2022-10-07T20:13:19.223Z"
   },
   {
    "duration": 1754,
    "start_time": "2022-10-07T20:13:19.489Z"
   },
   {
    "duration": 5,
    "start_time": "2022-10-07T20:13:21.337Z"
   },
   {
    "duration": 23,
    "start_time": "2022-10-07T20:13:21.434Z"
   },
   {
    "duration": 8,
    "start_time": "2022-10-07T20:13:21.459Z"
   },
   {
    "duration": 14,
    "start_time": "2022-10-07T20:13:21.468Z"
   },
   {
    "duration": 15,
    "start_time": "2022-10-07T20:13:21.484Z"
   },
   {
    "duration": 3,
    "start_time": "2022-10-07T20:13:21.501Z"
   },
   {
    "duration": 56837,
    "start_time": "2022-10-07T20:13:21.505Z"
   },
   {
    "duration": 593,
    "start_time": "2022-10-07T20:14:18.344Z"
   },
   {
    "duration": 7,
    "start_time": "2022-10-07T20:14:18.939Z"
   },
   {
    "duration": 106,
    "start_time": "2022-10-07T20:14:19.033Z"
   },
   {
    "duration": 95,
    "start_time": "2022-10-07T20:14:19.141Z"
   },
   {
    "duration": 400,
    "start_time": "2022-10-07T20:14:19.238Z"
   },
   {
    "duration": 1518,
    "start_time": "2022-10-07T20:55:32.046Z"
   },
   {
    "duration": 51,
    "start_time": "2022-10-07T20:55:33.566Z"
   },
   {
    "duration": 15,
    "start_time": "2022-10-07T20:55:33.619Z"
   },
   {
    "duration": 10,
    "start_time": "2022-10-07T20:55:33.636Z"
   },
   {
    "duration": 6,
    "start_time": "2022-10-07T20:55:33.648Z"
   },
   {
    "duration": 9,
    "start_time": "2022-10-07T20:55:33.655Z"
   },
   {
    "duration": 12,
    "start_time": "2022-10-07T20:55:33.666Z"
   },
   {
    "duration": 384,
    "start_time": "2022-10-07T20:55:33.680Z"
   },
   {
    "duration": 282,
    "start_time": "2022-10-07T20:55:34.066Z"
   },
   {
    "duration": 206,
    "start_time": "2022-10-07T20:55:34.349Z"
   },
   {
    "duration": 250,
    "start_time": "2022-10-07T20:55:34.557Z"
   },
   {
    "duration": 260,
    "start_time": "2022-10-07T20:55:34.809Z"
   },
   {
    "duration": 1514,
    "start_time": "2022-10-07T20:55:35.071Z"
   },
   {
    "duration": 6,
    "start_time": "2022-10-07T20:55:36.680Z"
   },
   {
    "duration": 34,
    "start_time": "2022-10-07T20:55:36.778Z"
   },
   {
    "duration": 8,
    "start_time": "2022-10-07T20:55:36.813Z"
   },
   {
    "duration": 6,
    "start_time": "2022-10-07T20:55:36.822Z"
   },
   {
    "duration": 12,
    "start_time": "2022-10-07T20:55:36.829Z"
   },
   {
    "duration": 7,
    "start_time": "2022-10-07T20:55:36.843Z"
   },
   {
    "duration": 69629,
    "start_time": "2022-10-07T20:55:36.852Z"
   },
   {
    "duration": 197,
    "start_time": "2022-10-07T20:56:46.482Z"
   },
   {
    "duration": 106,
    "start_time": "2022-10-07T20:56:46.681Z"
   },
   {
    "duration": 102,
    "start_time": "2022-10-07T20:56:46.789Z"
   },
   {
    "duration": 116,
    "start_time": "2022-10-07T20:56:46.978Z"
   },
   {
    "duration": 318,
    "start_time": "2022-10-07T20:56:47.095Z"
   }
  ],
  "kernelspec": {
   "display_name": "Python 3 (ipykernel)",
   "language": "python",
   "name": "python3"
  },
  "language_info": {
   "codemirror_mode": {
    "name": "ipython",
    "version": 3
   },
   "file_extension": ".py",
   "mimetype": "text/x-python",
   "name": "python",
   "nbconvert_exporter": "python",
   "pygments_lexer": "ipython3",
   "version": "3.11.5"
  },
  "toc": {
   "base_numbering": 1,
   "nav_menu": {},
   "number_sections": true,
   "sideBar": true,
   "skip_h1_title": true,
   "title_cell": "Содержание",
   "title_sidebar": "Contents",
   "toc_cell": true,
   "toc_position": {
    "height": "calc(100% - 180px)",
    "left": "10px",
    "top": "150px",
    "width": "287.195px"
   },
   "toc_section_display": true,
   "toc_window_display": true
  }
 },
 "nbformat": 4,
 "nbformat_minor": 2
}
