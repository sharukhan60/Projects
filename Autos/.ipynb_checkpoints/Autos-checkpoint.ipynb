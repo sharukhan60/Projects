{
 "cells": [
  {
   "cell_type": "markdown",
   "metadata": {},
   "source": [
    "# Определение стоимости автомобилей"
   ]
  },
  {
   "cell_type": "markdown",
   "metadata": {},
   "source": [
    "Нам нужно построить модель для определения рыночной стоимости автомобиля.\\\n",
    "Шаги:\\\n",
    "1)Загрузим данные.\\\n",
    "2)Изучим данные. Заполним пропущенные значения и обработаем аномалии в столбцах.\\\n",
    "3)Подготовим выборки для обучения моделей.\\\n",
    "4)Обучим разные модели. \\\n",
    "5)Проанализируем качество моделей.\\\n",
    "6)Выберем лучшую модель, проверим её качество на тестовой выборке."
   ]
  },
  {
   "cell_type": "markdown",
   "metadata": {},
   "source": [
    "## 1. Загрузка данных"
   ]
  },
  {
   "cell_type": "markdown",
   "metadata": {},
   "source": [
    "Импортируем все необходимые для работы библиотеки."
   ]
  },
  {
   "cell_type": "code",
   "execution_count": 2,
   "metadata": {},
   "outputs": [],
   "source": [
    "import pandas as pd \n",
    "import matplotlib.pyplot as plt\n",
    "import seaborn as sns\n",
    "\n",
    "from sklearn.model_selection import train_test_split\n",
    "from sklearn.model_selection import GridSearchCV \n",
    "from sklearn.linear_model import LinearRegression, Ridge, Lasso\n",
    "from sklearn.metrics import mean_squared_error\n",
    "from sklearn.preprocessing import OrdinalEncoder\n",
    "from sklearn.preprocessing import StandardScaler\n",
    "from sklearn.ensemble import RandomForestRegressor\n",
    "from lightgbm import LGBMRegressor\n",
    "from catboost import CatBoostRegressor\n",
    "\n",
    "import re\n"
   ]
  },
  {
   "cell_type": "markdown",
   "metadata": {},
   "source": [
    "Загрузим наши данные и проведем первичный анализ."
   ]
  },
  {
   "cell_type": "code",
   "execution_count": 3,
   "metadata": {},
   "outputs": [
    {
     "data": {
      "text/html": [
       "<div>\n",
       "<style scoped>\n",
       "    .dataframe tbody tr th:only-of-type {\n",
       "        vertical-align: middle;\n",
       "    }\n",
       "\n",
       "    .dataframe tbody tr th {\n",
       "        vertical-align: top;\n",
       "    }\n",
       "\n",
       "    .dataframe thead th {\n",
       "        text-align: right;\n",
       "    }\n",
       "</style>\n",
       "<table border=\"1\" class=\"dataframe\">\n",
       "  <thead>\n",
       "    <tr style=\"text-align: right;\">\n",
       "      <th></th>\n",
       "      <th>DateCrawled</th>\n",
       "      <th>Price</th>\n",
       "      <th>VehicleType</th>\n",
       "      <th>RegistrationYear</th>\n",
       "      <th>Gearbox</th>\n",
       "      <th>Power</th>\n",
       "      <th>Model</th>\n",
       "      <th>Kilometer</th>\n",
       "      <th>RegistrationMonth</th>\n",
       "      <th>FuelType</th>\n",
       "      <th>Brand</th>\n",
       "      <th>Repaired</th>\n",
       "      <th>DateCreated</th>\n",
       "      <th>NumberOfPictures</th>\n",
       "      <th>PostalCode</th>\n",
       "      <th>LastSeen</th>\n",
       "    </tr>\n",
       "  </thead>\n",
       "  <tbody>\n",
       "    <tr>\n",
       "      <th>0</th>\n",
       "      <td>2016-03-24 11:52:17</td>\n",
       "      <td>480</td>\n",
       "      <td>NaN</td>\n",
       "      <td>1993</td>\n",
       "      <td>manual</td>\n",
       "      <td>0</td>\n",
       "      <td>golf</td>\n",
       "      <td>150000</td>\n",
       "      <td>0</td>\n",
       "      <td>petrol</td>\n",
       "      <td>volkswagen</td>\n",
       "      <td>NaN</td>\n",
       "      <td>2016-03-24 00:00:00</td>\n",
       "      <td>0</td>\n",
       "      <td>70435</td>\n",
       "      <td>2016-04-07 03:16:57</td>\n",
       "    </tr>\n",
       "    <tr>\n",
       "      <th>1</th>\n",
       "      <td>2016-03-24 10:58:45</td>\n",
       "      <td>18300</td>\n",
       "      <td>coupe</td>\n",
       "      <td>2011</td>\n",
       "      <td>manual</td>\n",
       "      <td>190</td>\n",
       "      <td>NaN</td>\n",
       "      <td>125000</td>\n",
       "      <td>5</td>\n",
       "      <td>gasoline</td>\n",
       "      <td>audi</td>\n",
       "      <td>yes</td>\n",
       "      <td>2016-03-24 00:00:00</td>\n",
       "      <td>0</td>\n",
       "      <td>66954</td>\n",
       "      <td>2016-04-07 01:46:50</td>\n",
       "    </tr>\n",
       "    <tr>\n",
       "      <th>2</th>\n",
       "      <td>2016-03-14 12:52:21</td>\n",
       "      <td>9800</td>\n",
       "      <td>suv</td>\n",
       "      <td>2004</td>\n",
       "      <td>auto</td>\n",
       "      <td>163</td>\n",
       "      <td>grand</td>\n",
       "      <td>125000</td>\n",
       "      <td>8</td>\n",
       "      <td>gasoline</td>\n",
       "      <td>jeep</td>\n",
       "      <td>NaN</td>\n",
       "      <td>2016-03-14 00:00:00</td>\n",
       "      <td>0</td>\n",
       "      <td>90480</td>\n",
       "      <td>2016-04-05 12:47:46</td>\n",
       "    </tr>\n",
       "    <tr>\n",
       "      <th>3</th>\n",
       "      <td>2016-03-17 16:54:04</td>\n",
       "      <td>1500</td>\n",
       "      <td>small</td>\n",
       "      <td>2001</td>\n",
       "      <td>manual</td>\n",
       "      <td>75</td>\n",
       "      <td>golf</td>\n",
       "      <td>150000</td>\n",
       "      <td>6</td>\n",
       "      <td>petrol</td>\n",
       "      <td>volkswagen</td>\n",
       "      <td>no</td>\n",
       "      <td>2016-03-17 00:00:00</td>\n",
       "      <td>0</td>\n",
       "      <td>91074</td>\n",
       "      <td>2016-03-17 17:40:17</td>\n",
       "    </tr>\n",
       "    <tr>\n",
       "      <th>4</th>\n",
       "      <td>2016-03-31 17:25:20</td>\n",
       "      <td>3600</td>\n",
       "      <td>small</td>\n",
       "      <td>2008</td>\n",
       "      <td>manual</td>\n",
       "      <td>69</td>\n",
       "      <td>fabia</td>\n",
       "      <td>90000</td>\n",
       "      <td>7</td>\n",
       "      <td>gasoline</td>\n",
       "      <td>skoda</td>\n",
       "      <td>no</td>\n",
       "      <td>2016-03-31 00:00:00</td>\n",
       "      <td>0</td>\n",
       "      <td>60437</td>\n",
       "      <td>2016-04-06 10:17:21</td>\n",
       "    </tr>\n",
       "  </tbody>\n",
       "</table>\n",
       "</div>"
      ],
      "text/plain": [
       "           DateCrawled  Price VehicleType  RegistrationYear Gearbox  Power  \\\n",
       "0  2016-03-24 11:52:17    480         NaN              1993  manual      0   \n",
       "1  2016-03-24 10:58:45  18300       coupe              2011  manual    190   \n",
       "2  2016-03-14 12:52:21   9800         suv              2004    auto    163   \n",
       "3  2016-03-17 16:54:04   1500       small              2001  manual     75   \n",
       "4  2016-03-31 17:25:20   3600       small              2008  manual     69   \n",
       "\n",
       "   Model  Kilometer  RegistrationMonth  FuelType       Brand Repaired  \\\n",
       "0   golf     150000                  0    petrol  volkswagen      NaN   \n",
       "1    NaN     125000                  5  gasoline        audi      yes   \n",
       "2  grand     125000                  8  gasoline        jeep      NaN   \n",
       "3   golf     150000                  6    petrol  volkswagen       no   \n",
       "4  fabia      90000                  7  gasoline       skoda       no   \n",
       "\n",
       "           DateCreated  NumberOfPictures  PostalCode             LastSeen  \n",
       "0  2016-03-24 00:00:00                 0       70435  2016-04-07 03:16:57  \n",
       "1  2016-03-24 00:00:00                 0       66954  2016-04-07 01:46:50  \n",
       "2  2016-03-14 00:00:00                 0       90480  2016-04-05 12:47:46  \n",
       "3  2016-03-17 00:00:00                 0       91074  2016-03-17 17:40:17  \n",
       "4  2016-03-31 00:00:00                 0       60437  2016-04-06 10:17:21  "
      ]
     },
     "metadata": {},
     "output_type": "display_data"
    }
   ],
   "source": [
    "data = pd.read_csv('autos.csv')\n",
    "display(data.head(5))"
   ]
  },
  {
   "cell_type": "markdown",
   "metadata": {},
   "source": [
    "# 2. Исследование данных"
   ]
  },
  {
   "cell_type": "code",
   "execution_count": 4,
   "metadata": {},
   "outputs": [
    {
     "data": {
      "text/plain": [
       "Index(['date_crawled', 'price', 'vehicle_type', 'registration_year', 'gearbox',\n",
       "       'power', 'model', 'kilometer', 'registration_month', 'fuel_type',\n",
       "       'brand', 'repaired', 'date_created', 'number_of_pictures',\n",
       "       'postal_code', 'last_seen'],\n",
       "      dtype='object')"
      ]
     },
     "execution_count": 4,
     "metadata": {},
     "output_type": "execute_result"
    }
   ],
   "source": [
    "# Преобразование названий столбцов в snake_case\n",
    "data.columns = [''.join(['_'+ c.lower() if c.isupper() else c for c in col]).lstrip('_') for col in data.columns]\n",
    "data.columns"
   ]
  },
  {
   "cell_type": "markdown",
   "metadata": {},
   "source": [
    "В наших данных целевая переменая - price(цена автомобиля). Как мы можем заметить, имеются пропуски в VehicleType(тип автомобиля), Model(модель автомобиля), и в признаке Repaired(\"битый\" автомобиль).\n",
    "Кроме того, для признака power(мощность автомобиля) есть странное значение 0, у автомобиля не может быть нулевой мощности.\n",
    "Исследуем наши данные подробнее на пропуски, дубликаты и выбросы(аномалии)."
   ]
  },
  {
   "cell_type": "code",
   "execution_count": 5,
   "metadata": {},
   "outputs": [
    {
     "data": {
      "text/plain": [
       "date_crawled           0.000000\n",
       "price                  0.000000\n",
       "vehicle_type          11.831014\n",
       "registration_year      0.000000\n",
       "gearbox                5.928510\n",
       "power                  0.000000\n",
       "model                  5.887995\n",
       "kilometer              0.000000\n",
       "registration_month     0.000000\n",
       "fuel_type             10.232554\n",
       "brand                  0.000000\n",
       "repaired              25.123669\n",
       "date_created           0.000000\n",
       "number_of_pictures     0.000000\n",
       "postal_code            0.000000\n",
       "last_seen              0.000000\n",
       "dtype: float64"
      ]
     },
     "execution_count": 5,
     "metadata": {},
     "output_type": "execute_result"
    }
   ],
   "source": [
    "# Посчитаем процентное соотношение пропусков для каждого признака\n",
    "\n",
    "data.isna().sum() / data.count() * 100"
   ]
  },
  {
   "cell_type": "markdown",
   "metadata": {},
   "source": [
    "В наших данных много пропусков (vehicle_type, gearbox, model, fuel_type, repaired), чтобы не потерять информативности заполним их. Каждый рассмотрим подробнее."
   ]
  },
  {
   "cell_type": "code",
   "execution_count": 6,
   "metadata": {},
   "outputs": [
    {
     "data": {
      "text/plain": [
       "vehicle_type\n",
       "sedan          91457\n",
       "small          79831\n",
       "wagon          65166\n",
       "bus            28775\n",
       "convertible    20203\n",
       "coupe          16163\n",
       "suv            11996\n",
       "other           3288\n",
       "Name: count, dtype: int64"
      ]
     },
     "metadata": {},
     "output_type": "display_data"
    },
    {
     "data": {
      "text/plain": [
       "model\n",
       "golf                  29232\n",
       "other                 24421\n",
       "3er                   19761\n",
       "polo                  13066\n",
       "corsa                 12570\n",
       "                      ...  \n",
       "i3                        8\n",
       "serie_3                   4\n",
       "rangerover                4\n",
       "range_rover_evoque        2\n",
       "serie_1                   2\n",
       "Name: count, Length: 250, dtype: int64"
      ]
     },
     "metadata": {},
     "output_type": "display_data"
    }
   ],
   "source": [
    "#Рассмотрим признакми vehicle_type и model\n",
    "\n",
    "display(data['vehicle_type'].value_counts())\n",
    "display(data['model'].value_counts())"
   ]
  },
  {
   "cell_type": "markdown",
   "metadata": {},
   "source": [
    "Как мы можем заметить, разница между первыми 3 позициями не сильно большая, а значит заполнить пропуски наиболее популярными будет неверным решением. Для обоих признаков пропуски неочевидны. Тогда заполним их значением заглушкой \"unknown\"."
   ]
  },
  {
   "cell_type": "code",
   "execution_count": 7,
   "metadata": {},
   "outputs": [],
   "source": [
    "data[['model', 'vehicle_type']] = data[['model', 'vehicle_type']].fillna('unknown')"
   ]
  },
  {
   "cell_type": "markdown",
   "metadata": {},
   "source": [
    "Пропуски в оставшихся признаках скорее всего подзразумевают настолько банальное значение, что пользователь решил их не заполнять\\\n",
    "Так, для признака gearbox - это механическая коробка передач(manual). Большинство машин на механической коробке передач.\\\n",
    "Для признака fuel_type - 'fueltype'. Большинство машин выпускают изначально на бензиновом топливе.\\\n",
    "Для признака not_repaired - no. Скорее всего, пропуск означает, что машина не попадала в аварии."
   ]
  },
  {
   "cell_type": "code",
   "execution_count": 8,
   "metadata": {},
   "outputs": [],
   "source": [
    "data['gearbox'] = data['gearbox'].fillna('manual')\n",
    "data['fuel_type'] = data['fuel_type'].fillna('petrol')\n",
    "data['repaired'] = data['repaired'].fillna('no')"
   ]
  },
  {
   "cell_type": "code",
   "execution_count": 9,
   "metadata": {},
   "outputs": [
    {
     "name": "stdout",
     "output_type": "stream",
     "text": [
      "max    9999\n",
      "min    1000\n",
      "Name: registration_year, dtype: int64\n",
      "\n",
      "max    20000\n",
      "min        0\n",
      "Name: power, dtype: int64\n",
      "max    20000\n",
      "min        0\n",
      "Name: price, dtype: int64\n"
     ]
    }
   ],
   "source": [
    "print(data['registration_year'].apply(['max','min']), end='\\n\\n')\n",
    "print(data['power'].apply(['max','min']))\n",
    "print(data['price'].apply(['max','min']))"
   ]
  },
  {
   "cell_type": "markdown",
   "metadata": {},
   "source": [
    "Как мы можем заметить в столбцах power и registration_year есть аномалии избавимся от них. Год регистрации ограничим снизу 1960 годом а сверзу 2023.Мощность снизу 50 а сверху 2028(максимальная мощность машины на данный момент).\\\n",
    "Цену ограничим снизу 300( цена указана в евро и примерно равна 30000, машины дешевле данной суммы можно отнести к металлалому)"
   ]
  },
  {
   "cell_type": "code",
   "execution_count": 10,
   "metadata": {},
   "outputs": [],
   "source": [
    "#Удалим выбросы\n",
    "data = data.query('registration_year < 2017 and registration_year > 1960')\n",
    "data = data.query('power > 50 and power < 2028')\n",
    "data = data.query('price > 350')"
   ]
  },
  {
   "cell_type": "code",
   "execution_count": 11,
   "metadata": {},
   "outputs": [
    {
     "name": "stdout",
     "output_type": "stream",
     "text": [
      "<class 'pandas.core.frame.DataFrame'>\n",
      "Index: 276742 entries, 1 to 354368\n",
      "Data columns (total 16 columns):\n",
      " #   Column              Non-Null Count   Dtype \n",
      "---  ------              --------------   ----- \n",
      " 0   date_crawled        276742 non-null  object\n",
      " 1   price               276742 non-null  int64 \n",
      " 2   vehicle_type        276742 non-null  object\n",
      " 3   registration_year   276742 non-null  int64 \n",
      " 4   gearbox             276742 non-null  object\n",
      " 5   power               276742 non-null  int64 \n",
      " 6   model               276742 non-null  object\n",
      " 7   kilometer           276742 non-null  int64 \n",
      " 8   registration_month  276742 non-null  int64 \n",
      " 9   fuel_type           276742 non-null  object\n",
      " 10  brand               276742 non-null  object\n",
      " 11  repaired            276742 non-null  object\n",
      " 12  date_created        276742 non-null  object\n",
      " 13  number_of_pictures  276742 non-null  int64 \n",
      " 14  postal_code         276742 non-null  int64 \n",
      " 15  last_seen           276742 non-null  object\n",
      "dtypes: int64(7), object(9)\n",
      "memory usage: 35.9+ MB\n"
     ]
    }
   ],
   "source": [
    "#Посмотрим сколько осталось данных\n",
    "data.info()"
   ]
  },
  {
   "cell_type": "markdown",
   "metadata": {},
   "source": [
    "Удалим неинформативные признаки: datacrawled,datecreated,lastseen,number_of_pictures,registretion_month скорее всего цена от них не зависит.\\\n",
    "Разделим данные на features и target."
   ]
  },
  {
   "cell_type": "code",
   "execution_count": 12,
   "metadata": {},
   "outputs": [],
   "source": [
    "features = data.drop(['price','date_crawled','date_created','last_seen','postal_code','number_of_pictures','registration_month'],axis=1)\n",
    "target = data['price']"
   ]
  },
  {
   "cell_type": "markdown",
   "metadata": {},
   "source": [
    "# 3. Подготовим наши выборки для обучения"
   ]
  },
  {
   "cell_type": "markdown",
   "metadata": {},
   "source": [
    "Перед обучением разобьем данные на обучающую, валидационную и тестовую выборки."
   ]
  },
  {
   "cell_type": "code",
   "execution_count": 13,
   "metadata": {},
   "outputs": [],
   "source": [
    "features_train, features_valid,target_train,target_valid = train_test_split(features,target,test_size=0.4,random_state=12345)\n",
    "features_valid,features_test,target_valid,target_test = train_test_split(features_valid,target_valid,test_size = 0.5,random_state=12345)"
   ]
  },
  {
   "cell_type": "code",
   "execution_count": 14,
   "metadata": {
    "scrolled": false
   },
   "outputs": [
    {
     "name": "stdout",
     "output_type": "stream",
     "text": [
      "<class 'pandas.core.frame.DataFrame'>\n",
      "Index: 166045 entries, 273345 to 278467\n",
      "Data columns (total 9 columns):\n",
      " #   Column             Non-Null Count   Dtype \n",
      "---  ------             --------------   ----- \n",
      " 0   vehicle_type       166045 non-null  object\n",
      " 1   registration_year  166045 non-null  int64 \n",
      " 2   gearbox            166045 non-null  object\n",
      " 3   power              166045 non-null  int64 \n",
      " 4   model              166045 non-null  object\n",
      " 5   kilometer          166045 non-null  int64 \n",
      " 6   fuel_type          166045 non-null  object\n",
      " 7   brand              166045 non-null  object\n",
      " 8   repaired           166045 non-null  object\n",
      "dtypes: int64(3), object(6)\n",
      "memory usage: 12.7+ MB\n"
     ]
    }
   ],
   "source": [
    "# Посмотрим на наши данные\n",
    "features_train.info()"
   ]
  },
  {
   "cell_type": "markdown",
   "metadata": {},
   "source": [
    "Так как мы будем использовать линейную регрессию нам нужно закодировать категориальные данные и отмасштабировать целевые признаки."
   ]
  },
  {
   "cell_type": "code",
   "execution_count": 15,
   "metadata": {},
   "outputs": [],
   "source": [
    "# Закодируем наши категориальные данные\n",
    "\n",
    "features_train_ohe = pd.get_dummies(features_train, drop_first=True).astype('int')\n",
    "features_valid_ohe = pd.get_dummies(features_valid, drop_first=True).astype('int')\n",
    "features_test_ohe = pd.get_dummies(features_test, drop_first=True).astype('int')"
   ]
  },
  {
   "cell_type": "markdown",
   "metadata": {},
   "source": [
    "Теперь нужно проверить, что признаки в каждой выборке совпадают."
   ]
  },
  {
   "cell_type": "code",
   "execution_count": 16,
   "metadata": {},
   "outputs": [
    {
     "data": {
      "text/plain": [
       "((166045, 306), (55348, 302), (55349, 300))"
      ]
     },
     "execution_count": 16,
     "metadata": {},
     "output_type": "execute_result"
    }
   ],
   "source": [
    "# Посмотрим на количество признаков\n",
    "features_train_ohe.shape, features_valid_ohe.shape, features_test_ohe.shape"
   ]
  },
  {
   "cell_type": "markdown",
   "metadata": {},
   "source": [
    "Как мы видим в данных некоторые признаки отличаются, избавимся от них. Напишем функцию, осуществляющую проверку: если какого-то признака нет, то мы его удаляем "
   ]
  },
  {
   "cell_type": "code",
   "execution_count": 17,
   "metadata": {},
   "outputs": [],
   "source": [
    "def same_features(features_one,features_second):\n",
    "    features_one.astype('int')\n",
    "    for col in features_one.columns.to_list():\n",
    "        if col not in features_second.columns.to_list():\n",
    "            del features_one[col]"
   ]
  },
  {
   "cell_type": "markdown",
   "metadata": {},
   "source": [
    "Применим нашу функцию к выборкам."
   ]
  },
  {
   "cell_type": "code",
   "execution_count": 18,
   "metadata": {},
   "outputs": [],
   "source": [
    "features_list = [features_train_ohe, features_valid_ohe, features_test_ohe]\n",
    "for el in features_list:\n",
    "    for el_sec in features_list:\n",
    "        same_features(el,el_sec)"
   ]
  },
  {
   "cell_type": "markdown",
   "metadata": {},
   "source": [
    "Теперь проверим наши признаки."
   ]
  },
  {
   "cell_type": "code",
   "execution_count": 19,
   "metadata": {},
   "outputs": [
    {
     "data": {
      "text/plain": [
       "((166045, 298), (55348, 298), (55349, 298))"
      ]
     },
     "execution_count": 19,
     "metadata": {},
     "output_type": "execute_result"
    }
   ],
   "source": [
    "features_train_ohe.shape, features_valid_ohe.shape, features_test_ohe.shape"
   ]
  },
  {
   "cell_type": "markdown",
   "metadata": {},
   "source": [
    "Как мы видим, количество признаков совпрадает. Можно перейти к стандартизации"
   ]
  },
  {
   "cell_type": "code",
   "execution_count": 20,
   "metadata": {},
   "outputs": [],
   "source": [
    "scaler = StandardScaler()\n",
    "numeric = ['registration_year', 'power', 'kilometer']\n",
    "\n",
    "scaler.fit(features_train_ohe[numeric])\n",
    "\n",
    "features_train_ohe[numeric] = scaler.transform(features_train_ohe[numeric])\n",
    "features_valid_ohe[numeric] = scaler.transform(features_valid_ohe[numeric])\n",
    "features_test_ohe[numeric] = scaler.transform(features_test_ohe[numeric])"
   ]
  },
  {
   "cell_type": "markdown",
   "metadata": {},
   "source": [
    "Закодируем численные признаки"
   ]
  },
  {
   "cell_type": "code",
   "execution_count": 21,
   "metadata": {},
   "outputs": [],
   "source": [
    "# Закодируем наши данные методом OE\n",
    "encoder = OrdinalEncoder()\n",
    "cat_col = ['vehicle_type', 'gearbox', 'model', 'fuel_type', 'brand', 'repaired']\n",
    "\n",
    "features_train_oe = features_train.copy()\n",
    "features_valid_oe = features_valid.copy()\n",
    "features_test_oe = features_test.copy()\n",
    "\n",
    "features_train_oe[cat_col] = encoder.fit_transform(features_train_oe[cat_col])\n",
    "features_valid_oe[cat_col] = encoder.fit_transform(features_valid_oe[cat_col])\n",
    "features_test_oe[cat_col] = encoder.fit_transform(features_test_oe[cat_col])"
   ]
  },
  {
   "cell_type": "code",
   "execution_count": 22,
   "metadata": {},
   "outputs": [
    {
     "data": {
      "text/html": [
       "<div>\n",
       "<style scoped>\n",
       "    .dataframe tbody tr th:only-of-type {\n",
       "        vertical-align: middle;\n",
       "    }\n",
       "\n",
       "    .dataframe tbody tr th {\n",
       "        vertical-align: top;\n",
       "    }\n",
       "\n",
       "    .dataframe thead th {\n",
       "        text-align: right;\n",
       "    }\n",
       "</style>\n",
       "<table border=\"1\" class=\"dataframe\">\n",
       "  <thead>\n",
       "    <tr style=\"text-align: right;\">\n",
       "      <th></th>\n",
       "      <th>vehicle_type</th>\n",
       "      <th>registration_year</th>\n",
       "      <th>gearbox</th>\n",
       "      <th>power</th>\n",
       "      <th>model</th>\n",
       "      <th>kilometer</th>\n",
       "      <th>fuel_type</th>\n",
       "      <th>brand</th>\n",
       "      <th>repaired</th>\n",
       "    </tr>\n",
       "  </thead>\n",
       "  <tbody>\n",
       "    <tr>\n",
       "      <th>273345</th>\n",
       "      <td>8.0</td>\n",
       "      <td>2001</td>\n",
       "      <td>1.0</td>\n",
       "      <td>145</td>\n",
       "      <td>153.0</td>\n",
       "      <td>150000</td>\n",
       "      <td>6.0</td>\n",
       "      <td>10.0</td>\n",
       "      <td>0.0</td>\n",
       "    </tr>\n",
       "    <tr>\n",
       "      <th>126348</th>\n",
       "      <td>4.0</td>\n",
       "      <td>2005</td>\n",
       "      <td>0.0</td>\n",
       "      <td>150</td>\n",
       "      <td>94.0</td>\n",
       "      <td>150000</td>\n",
       "      <td>2.0</td>\n",
       "      <td>20.0</td>\n",
       "      <td>0.0</td>\n",
       "    </tr>\n",
       "    <tr>\n",
       "      <th>121408</th>\n",
       "      <td>4.0</td>\n",
       "      <td>1999</td>\n",
       "      <td>1.0</td>\n",
       "      <td>75</td>\n",
       "      <td>115.0</td>\n",
       "      <td>150000</td>\n",
       "      <td>6.0</td>\n",
       "      <td>38.0</td>\n",
       "      <td>0.0</td>\n",
       "    </tr>\n",
       "    <tr>\n",
       "      <th>229056</th>\n",
       "      <td>5.0</td>\n",
       "      <td>1999</td>\n",
       "      <td>1.0</td>\n",
       "      <td>75</td>\n",
       "      <td>102.0</td>\n",
       "      <td>150000</td>\n",
       "      <td>6.0</td>\n",
       "      <td>10.0</td>\n",
       "      <td>0.0</td>\n",
       "    </tr>\n",
       "    <tr>\n",
       "      <th>37663</th>\n",
       "      <td>0.0</td>\n",
       "      <td>2011</td>\n",
       "      <td>0.0</td>\n",
       "      <td>140</td>\n",
       "      <td>115.0</td>\n",
       "      <td>100000</td>\n",
       "      <td>2.0</td>\n",
       "      <td>38.0</td>\n",
       "      <td>0.0</td>\n",
       "    </tr>\n",
       "  </tbody>\n",
       "</table>\n",
       "</div>"
      ],
      "text/plain": [
       "        vehicle_type  registration_year  gearbox  power  model  kilometer  \\\n",
       "273345           8.0               2001      1.0    145  153.0     150000   \n",
       "126348           4.0               2005      0.0    150   94.0     150000   \n",
       "121408           4.0               1999      1.0     75  115.0     150000   \n",
       "229056           5.0               1999      1.0     75  102.0     150000   \n",
       "37663            0.0               2011      0.0    140  115.0     100000   \n",
       "\n",
       "        fuel_type  brand  repaired  \n",
       "273345        6.0   10.0       0.0  \n",
       "126348        2.0   20.0       0.0  \n",
       "121408        6.0   38.0       0.0  \n",
       "229056        6.0   10.0       0.0  \n",
       "37663         2.0   38.0       0.0  "
      ]
     },
     "execution_count": 22,
     "metadata": {},
     "output_type": "execute_result"
    }
   ],
   "source": [
    "features_train_oe.head()"
   ]
  },
  {
   "cell_type": "markdown",
   "metadata": {},
   "source": [
    "Данные готовы для обучения:\n",
    "\n",
    "features_train_ohe, features_valid_ohe, features_test_ohe для линейной регресии\n",
    "    \n",
    "features_train_oe, features_valid_oe, features_test_oe для бустингов и деревьев решений"
   ]
  },
  {
   "cell_type": "markdown",
   "metadata": {},
   "source": [
    "# 4. Обучение моделей"
   ]
  },
  {
   "cell_type": "markdown",
   "metadata": {},
   "source": [
    "## Линейная регрессия"
   ]
  },
  {
   "cell_type": "markdown",
   "metadata": {},
   "source": [
    "Для начала обучим линейную регрессию без регуляризации, измерим время обучения и прдесказания."
   ]
  },
  {
   "cell_type": "code",
   "execution_count": 23,
   "metadata": {},
   "outputs": [],
   "source": [
    "# Линейная регрессия\n",
    "\n",
    "model = LinearRegression()"
   ]
  },
  {
   "cell_type": "markdown",
   "metadata": {},
   "source": [
    "Замерим время обучения"
   ]
  },
  {
   "cell_type": "code",
   "execution_count": 24,
   "metadata": {},
   "outputs": [
    {
     "name": "stdout",
     "output_type": "stream",
     "text": [
      "CPU times: total: 16.3 s\n",
      "Wall time: 8.33 s\n"
     ]
    },
    {
     "data": {
      "text/html": [
       "<style>#sk-container-id-1 {color: black;}#sk-container-id-1 pre{padding: 0;}#sk-container-id-1 div.sk-toggleable {background-color: white;}#sk-container-id-1 label.sk-toggleable__label {cursor: pointer;display: block;width: 100%;margin-bottom: 0;padding: 0.3em;box-sizing: border-box;text-align: center;}#sk-container-id-1 label.sk-toggleable__label-arrow:before {content: \"▸\";float: left;margin-right: 0.25em;color: #696969;}#sk-container-id-1 label.sk-toggleable__label-arrow:hover:before {color: black;}#sk-container-id-1 div.sk-estimator:hover label.sk-toggleable__label-arrow:before {color: black;}#sk-container-id-1 div.sk-toggleable__content {max-height: 0;max-width: 0;overflow: hidden;text-align: left;background-color: #f0f8ff;}#sk-container-id-1 div.sk-toggleable__content pre {margin: 0.2em;color: black;border-radius: 0.25em;background-color: #f0f8ff;}#sk-container-id-1 input.sk-toggleable__control:checked~div.sk-toggleable__content {max-height: 200px;max-width: 100%;overflow: auto;}#sk-container-id-1 input.sk-toggleable__control:checked~label.sk-toggleable__label-arrow:before {content: \"▾\";}#sk-container-id-1 div.sk-estimator input.sk-toggleable__control:checked~label.sk-toggleable__label {background-color: #d4ebff;}#sk-container-id-1 div.sk-label input.sk-toggleable__control:checked~label.sk-toggleable__label {background-color: #d4ebff;}#sk-container-id-1 input.sk-hidden--visually {border: 0;clip: rect(1px 1px 1px 1px);clip: rect(1px, 1px, 1px, 1px);height: 1px;margin: -1px;overflow: hidden;padding: 0;position: absolute;width: 1px;}#sk-container-id-1 div.sk-estimator {font-family: monospace;background-color: #f0f8ff;border: 1px dotted black;border-radius: 0.25em;box-sizing: border-box;margin-bottom: 0.5em;}#sk-container-id-1 div.sk-estimator:hover {background-color: #d4ebff;}#sk-container-id-1 div.sk-parallel-item::after {content: \"\";width: 100%;border-bottom: 1px solid gray;flex-grow: 1;}#sk-container-id-1 div.sk-label:hover label.sk-toggleable__label {background-color: #d4ebff;}#sk-container-id-1 div.sk-serial::before {content: \"\";position: absolute;border-left: 1px solid gray;box-sizing: border-box;top: 0;bottom: 0;left: 50%;z-index: 0;}#sk-container-id-1 div.sk-serial {display: flex;flex-direction: column;align-items: center;background-color: white;padding-right: 0.2em;padding-left: 0.2em;position: relative;}#sk-container-id-1 div.sk-item {position: relative;z-index: 1;}#sk-container-id-1 div.sk-parallel {display: flex;align-items: stretch;justify-content: center;background-color: white;position: relative;}#sk-container-id-1 div.sk-item::before, #sk-container-id-1 div.sk-parallel-item::before {content: \"\";position: absolute;border-left: 1px solid gray;box-sizing: border-box;top: 0;bottom: 0;left: 50%;z-index: -1;}#sk-container-id-1 div.sk-parallel-item {display: flex;flex-direction: column;z-index: 1;position: relative;background-color: white;}#sk-container-id-1 div.sk-parallel-item:first-child::after {align-self: flex-end;width: 50%;}#sk-container-id-1 div.sk-parallel-item:last-child::after {align-self: flex-start;width: 50%;}#sk-container-id-1 div.sk-parallel-item:only-child::after {width: 0;}#sk-container-id-1 div.sk-dashed-wrapped {border: 1px dashed gray;margin: 0 0.4em 0.5em 0.4em;box-sizing: border-box;padding-bottom: 0.4em;background-color: white;}#sk-container-id-1 div.sk-label label {font-family: monospace;font-weight: bold;display: inline-block;line-height: 1.2em;}#sk-container-id-1 div.sk-label-container {text-align: center;}#sk-container-id-1 div.sk-container {/* jupyter's `normalize.less` sets `[hidden] { display: none; }` but bootstrap.min.css set `[hidden] { display: none !important; }` so we also need the `!important` here to be able to override the default hidden behavior on the sphinx rendered scikit-learn.org. See: https://github.com/scikit-learn/scikit-learn/issues/21755 */display: inline-block !important;position: relative;}#sk-container-id-1 div.sk-text-repr-fallback {display: none;}</style><div id=\"sk-container-id-1\" class=\"sk-top-container\"><div class=\"sk-text-repr-fallback\"><pre>LinearRegression()</pre><b>In a Jupyter environment, please rerun this cell to show the HTML representation or trust the notebook. <br />On GitHub, the HTML representation is unable to render, please try loading this page with nbviewer.org.</b></div><div class=\"sk-container\" hidden><div class=\"sk-item\"><div class=\"sk-estimator sk-toggleable\"><input class=\"sk-toggleable__control sk-hidden--visually\" id=\"sk-estimator-id-1\" type=\"checkbox\" checked><label for=\"sk-estimator-id-1\" class=\"sk-toggleable__label sk-toggleable__label-arrow\">LinearRegression</label><div class=\"sk-toggleable__content\"><pre>LinearRegression()</pre></div></div></div></div></div>"
      ],
      "text/plain": [
       "LinearRegression()"
      ]
     },
     "execution_count": 24,
     "metadata": {},
     "output_type": "execute_result"
    }
   ],
   "source": [
    "%%time\n",
    "\n",
    "# Время обучения\n",
    "\n",
    "model.fit(features_train_ohe, target_train)"
   ]
  },
  {
   "cell_type": "code",
   "execution_count": 24,
   "metadata": {},
   "outputs": [
    {
     "name": "stdout",
     "output_type": "stream",
     "text": [
      "CPU times: total: 484 ms\n",
      "Wall time: 146 ms\n"
     ]
    }
   ],
   "source": [
    "%%time\n",
    "\n",
    "# Время предсказания\n",
    "\n",
    "pred = model.predict(features_valid_ohe)"
   ]
  },
  {
   "cell_type": "code",
   "execution_count": 25,
   "metadata": {},
   "outputs": [
    {
     "name": "stdout",
     "output_type": "stream",
     "text": [
      "Linear Regression RMSE: 2643.1365861302643\n"
     ]
    }
   ],
   "source": [
    "print('Linear Regression RMSE:', mean_squared_error(target_valid, pred, squared=False))"
   ]
  },
  {
   "cell_type": "markdown",
   "metadata": {},
   "source": [
    "Обучим модель с L-2 регуляризацией."
   ]
  },
  {
   "cell_type": "code",
   "execution_count": 26,
   "metadata": {},
   "outputs": [],
   "source": [
    "# Ridge\n",
    "\n",
    "ridge = Ridge()"
   ]
  },
  {
   "cell_type": "code",
   "execution_count": 27,
   "metadata": {},
   "outputs": [
    {
     "name": "stdout",
     "output_type": "stream",
     "text": [
      "CPU times: total: 2.84 s\n",
      "Wall time: 1.25 s\n"
     ]
    },
    {
     "data": {
      "text/html": [
       "<style>#sk-container-id-2 {color: black;}#sk-container-id-2 pre{padding: 0;}#sk-container-id-2 div.sk-toggleable {background-color: white;}#sk-container-id-2 label.sk-toggleable__label {cursor: pointer;display: block;width: 100%;margin-bottom: 0;padding: 0.3em;box-sizing: border-box;text-align: center;}#sk-container-id-2 label.sk-toggleable__label-arrow:before {content: \"▸\";float: left;margin-right: 0.25em;color: #696969;}#sk-container-id-2 label.sk-toggleable__label-arrow:hover:before {color: black;}#sk-container-id-2 div.sk-estimator:hover label.sk-toggleable__label-arrow:before {color: black;}#sk-container-id-2 div.sk-toggleable__content {max-height: 0;max-width: 0;overflow: hidden;text-align: left;background-color: #f0f8ff;}#sk-container-id-2 div.sk-toggleable__content pre {margin: 0.2em;color: black;border-radius: 0.25em;background-color: #f0f8ff;}#sk-container-id-2 input.sk-toggleable__control:checked~div.sk-toggleable__content {max-height: 200px;max-width: 100%;overflow: auto;}#sk-container-id-2 input.sk-toggleable__control:checked~label.sk-toggleable__label-arrow:before {content: \"▾\";}#sk-container-id-2 div.sk-estimator input.sk-toggleable__control:checked~label.sk-toggleable__label {background-color: #d4ebff;}#sk-container-id-2 div.sk-label input.sk-toggleable__control:checked~label.sk-toggleable__label {background-color: #d4ebff;}#sk-container-id-2 input.sk-hidden--visually {border: 0;clip: rect(1px 1px 1px 1px);clip: rect(1px, 1px, 1px, 1px);height: 1px;margin: -1px;overflow: hidden;padding: 0;position: absolute;width: 1px;}#sk-container-id-2 div.sk-estimator {font-family: monospace;background-color: #f0f8ff;border: 1px dotted black;border-radius: 0.25em;box-sizing: border-box;margin-bottom: 0.5em;}#sk-container-id-2 div.sk-estimator:hover {background-color: #d4ebff;}#sk-container-id-2 div.sk-parallel-item::after {content: \"\";width: 100%;border-bottom: 1px solid gray;flex-grow: 1;}#sk-container-id-2 div.sk-label:hover label.sk-toggleable__label {background-color: #d4ebff;}#sk-container-id-2 div.sk-serial::before {content: \"\";position: absolute;border-left: 1px solid gray;box-sizing: border-box;top: 0;bottom: 0;left: 50%;z-index: 0;}#sk-container-id-2 div.sk-serial {display: flex;flex-direction: column;align-items: center;background-color: white;padding-right: 0.2em;padding-left: 0.2em;position: relative;}#sk-container-id-2 div.sk-item {position: relative;z-index: 1;}#sk-container-id-2 div.sk-parallel {display: flex;align-items: stretch;justify-content: center;background-color: white;position: relative;}#sk-container-id-2 div.sk-item::before, #sk-container-id-2 div.sk-parallel-item::before {content: \"\";position: absolute;border-left: 1px solid gray;box-sizing: border-box;top: 0;bottom: 0;left: 50%;z-index: -1;}#sk-container-id-2 div.sk-parallel-item {display: flex;flex-direction: column;z-index: 1;position: relative;background-color: white;}#sk-container-id-2 div.sk-parallel-item:first-child::after {align-self: flex-end;width: 50%;}#sk-container-id-2 div.sk-parallel-item:last-child::after {align-self: flex-start;width: 50%;}#sk-container-id-2 div.sk-parallel-item:only-child::after {width: 0;}#sk-container-id-2 div.sk-dashed-wrapped {border: 1px dashed gray;margin: 0 0.4em 0.5em 0.4em;box-sizing: border-box;padding-bottom: 0.4em;background-color: white;}#sk-container-id-2 div.sk-label label {font-family: monospace;font-weight: bold;display: inline-block;line-height: 1.2em;}#sk-container-id-2 div.sk-label-container {text-align: center;}#sk-container-id-2 div.sk-container {/* jupyter's `normalize.less` sets `[hidden] { display: none; }` but bootstrap.min.css set `[hidden] { display: none !important; }` so we also need the `!important` here to be able to override the default hidden behavior on the sphinx rendered scikit-learn.org. See: https://github.com/scikit-learn/scikit-learn/issues/21755 */display: inline-block !important;position: relative;}#sk-container-id-2 div.sk-text-repr-fallback {display: none;}</style><div id=\"sk-container-id-2\" class=\"sk-top-container\"><div class=\"sk-text-repr-fallback\"><pre>Ridge()</pre><b>In a Jupyter environment, please rerun this cell to show the HTML representation or trust the notebook. <br />On GitHub, the HTML representation is unable to render, please try loading this page with nbviewer.org.</b></div><div class=\"sk-container\" hidden><div class=\"sk-item\"><div class=\"sk-estimator sk-toggleable\"><input class=\"sk-toggleable__control sk-hidden--visually\" id=\"sk-estimator-id-2\" type=\"checkbox\" checked><label for=\"sk-estimator-id-2\" class=\"sk-toggleable__label sk-toggleable__label-arrow\">Ridge</label><div class=\"sk-toggleable__content\"><pre>Ridge()</pre></div></div></div></div></div>"
      ],
      "text/plain": [
       "Ridge()"
      ]
     },
     "execution_count": 27,
     "metadata": {},
     "output_type": "execute_result"
    }
   ],
   "source": [
    "%%time\n",
    "\n",
    "# Время обучения\n",
    "\n",
    "ridge.fit(features_train_ohe, target_train)"
   ]
  },
  {
   "cell_type": "code",
   "execution_count": 28,
   "metadata": {},
   "outputs": [
    {
     "name": "stdout",
     "output_type": "stream",
     "text": [
      "CPU times: total: 422 ms\n",
      "Wall time: 152 ms\n"
     ]
    }
   ],
   "source": [
    "%%time\n",
    "\n",
    "# Время предсказания\n",
    "\n",
    "predictions = ridge.predict(features_valid_ohe)"
   ]
  },
  {
   "cell_type": "code",
   "execution_count": 29,
   "metadata": {},
   "outputs": [
    {
     "name": "stdout",
     "output_type": "stream",
     "text": [
      "RMSE для ridge:  2642.931213478334\n"
     ]
    }
   ],
   "source": [
    "print('RMSE для ridge: ',mean_squared_error(target_valid, predictions, squared=False))"
   ]
  },
  {
   "cell_type": "markdown",
   "metadata": {},
   "source": [
    "Обучим модель с L-1 регуляризацией."
   ]
  },
  {
   "cell_type": "code",
   "execution_count": 30,
   "metadata": {},
   "outputs": [],
   "source": [
    "# Lasso\n",
    "\n",
    "lasso = Lasso()"
   ]
  },
  {
   "cell_type": "code",
   "execution_count": 31,
   "metadata": {},
   "outputs": [
    {
     "name": "stdout",
     "output_type": "stream",
     "text": [
      "CPU times: total: 25.3 s\n",
      "Wall time: 7.53 s\n"
     ]
    },
    {
     "data": {
      "text/html": [
       "<style>#sk-container-id-3 {color: black;}#sk-container-id-3 pre{padding: 0;}#sk-container-id-3 div.sk-toggleable {background-color: white;}#sk-container-id-3 label.sk-toggleable__label {cursor: pointer;display: block;width: 100%;margin-bottom: 0;padding: 0.3em;box-sizing: border-box;text-align: center;}#sk-container-id-3 label.sk-toggleable__label-arrow:before {content: \"▸\";float: left;margin-right: 0.25em;color: #696969;}#sk-container-id-3 label.sk-toggleable__label-arrow:hover:before {color: black;}#sk-container-id-3 div.sk-estimator:hover label.sk-toggleable__label-arrow:before {color: black;}#sk-container-id-3 div.sk-toggleable__content {max-height: 0;max-width: 0;overflow: hidden;text-align: left;background-color: #f0f8ff;}#sk-container-id-3 div.sk-toggleable__content pre {margin: 0.2em;color: black;border-radius: 0.25em;background-color: #f0f8ff;}#sk-container-id-3 input.sk-toggleable__control:checked~div.sk-toggleable__content {max-height: 200px;max-width: 100%;overflow: auto;}#sk-container-id-3 input.sk-toggleable__control:checked~label.sk-toggleable__label-arrow:before {content: \"▾\";}#sk-container-id-3 div.sk-estimator input.sk-toggleable__control:checked~label.sk-toggleable__label {background-color: #d4ebff;}#sk-container-id-3 div.sk-label input.sk-toggleable__control:checked~label.sk-toggleable__label {background-color: #d4ebff;}#sk-container-id-3 input.sk-hidden--visually {border: 0;clip: rect(1px 1px 1px 1px);clip: rect(1px, 1px, 1px, 1px);height: 1px;margin: -1px;overflow: hidden;padding: 0;position: absolute;width: 1px;}#sk-container-id-3 div.sk-estimator {font-family: monospace;background-color: #f0f8ff;border: 1px dotted black;border-radius: 0.25em;box-sizing: border-box;margin-bottom: 0.5em;}#sk-container-id-3 div.sk-estimator:hover {background-color: #d4ebff;}#sk-container-id-3 div.sk-parallel-item::after {content: \"\";width: 100%;border-bottom: 1px solid gray;flex-grow: 1;}#sk-container-id-3 div.sk-label:hover label.sk-toggleable__label {background-color: #d4ebff;}#sk-container-id-3 div.sk-serial::before {content: \"\";position: absolute;border-left: 1px solid gray;box-sizing: border-box;top: 0;bottom: 0;left: 50%;z-index: 0;}#sk-container-id-3 div.sk-serial {display: flex;flex-direction: column;align-items: center;background-color: white;padding-right: 0.2em;padding-left: 0.2em;position: relative;}#sk-container-id-3 div.sk-item {position: relative;z-index: 1;}#sk-container-id-3 div.sk-parallel {display: flex;align-items: stretch;justify-content: center;background-color: white;position: relative;}#sk-container-id-3 div.sk-item::before, #sk-container-id-3 div.sk-parallel-item::before {content: \"\";position: absolute;border-left: 1px solid gray;box-sizing: border-box;top: 0;bottom: 0;left: 50%;z-index: -1;}#sk-container-id-3 div.sk-parallel-item {display: flex;flex-direction: column;z-index: 1;position: relative;background-color: white;}#sk-container-id-3 div.sk-parallel-item:first-child::after {align-self: flex-end;width: 50%;}#sk-container-id-3 div.sk-parallel-item:last-child::after {align-self: flex-start;width: 50%;}#sk-container-id-3 div.sk-parallel-item:only-child::after {width: 0;}#sk-container-id-3 div.sk-dashed-wrapped {border: 1px dashed gray;margin: 0 0.4em 0.5em 0.4em;box-sizing: border-box;padding-bottom: 0.4em;background-color: white;}#sk-container-id-3 div.sk-label label {font-family: monospace;font-weight: bold;display: inline-block;line-height: 1.2em;}#sk-container-id-3 div.sk-label-container {text-align: center;}#sk-container-id-3 div.sk-container {/* jupyter's `normalize.less` sets `[hidden] { display: none; }` but bootstrap.min.css set `[hidden] { display: none !important; }` so we also need the `!important` here to be able to override the default hidden behavior on the sphinx rendered scikit-learn.org. See: https://github.com/scikit-learn/scikit-learn/issues/21755 */display: inline-block !important;position: relative;}#sk-container-id-3 div.sk-text-repr-fallback {display: none;}</style><div id=\"sk-container-id-3\" class=\"sk-top-container\"><div class=\"sk-text-repr-fallback\"><pre>Lasso()</pre><b>In a Jupyter environment, please rerun this cell to show the HTML representation or trust the notebook. <br />On GitHub, the HTML representation is unable to render, please try loading this page with nbviewer.org.</b></div><div class=\"sk-container\" hidden><div class=\"sk-item\"><div class=\"sk-estimator sk-toggleable\"><input class=\"sk-toggleable__control sk-hidden--visually\" id=\"sk-estimator-id-3\" type=\"checkbox\" checked><label for=\"sk-estimator-id-3\" class=\"sk-toggleable__label sk-toggleable__label-arrow\">Lasso</label><div class=\"sk-toggleable__content\"><pre>Lasso()</pre></div></div></div></div></div>"
      ],
      "text/plain": [
       "Lasso()"
      ]
     },
     "execution_count": 31,
     "metadata": {},
     "output_type": "execute_result"
    }
   ],
   "source": [
    "%%time\n",
    "\n",
    "#Время обучения модели\n",
    "\n",
    "lasso.fit(features_train_ohe, target_train)"
   ]
  },
  {
   "cell_type": "code",
   "execution_count": 32,
   "metadata": {},
   "outputs": [
    {
     "name": "stdout",
     "output_type": "stream",
     "text": [
      "CPU times: total: 594 ms\n",
      "Wall time: 142 ms\n"
     ]
    }
   ],
   "source": [
    "%%time\n",
    "\n",
    "#Время предсказания\n",
    "\n",
    "pred = lasso.predict(features_valid_ohe)"
   ]
  },
  {
   "cell_type": "code",
   "execution_count": 33,
   "metadata": {},
   "outputs": [
    {
     "name": "stdout",
     "output_type": "stream",
     "text": [
      "RMSE для Lasso:  2674.9577814358404\n"
     ]
    }
   ],
   "source": [
    "print('RMSE для Lasso: ', mean_squared_error(target_valid, pred, squared=False))"
   ]
  },
  {
   "cell_type": "markdown",
   "metadata": {},
   "source": [
    "Таким образом, среди линейных моделей лучше всех себя показала Ridge с показателем RMSE 2642.931213478334"
   ]
  },
  {
   "cell_type": "markdown",
   "metadata": {},
   "source": [
    "## LightGBM"
   ]
  },
  {
   "cell_type": "markdown",
   "metadata": {},
   "source": [
    "Обучим модель LightGBM. Подберем для нее параметры с помощью GridSearchCV."
   ]
  },
  {
   "cell_type": "code",
   "execution_count": 90,
   "metadata": {},
   "outputs": [
    {
     "name": "stdout",
     "output_type": "stream",
     "text": [
      "CPU times: total: 0 ns\n",
      "Wall time: 0 ns\n"
     ]
    }
   ],
   "source": [
    "%%time\n",
    "\n",
    "#инициализация модели\n",
    "\n",
    "model = LGBMRegressor(random_state = 12345)\n",
    "param_grid = {\n",
    "    'n_estimators' : [100,500,1000],\n",
    "    'learning_rate' : [0.1,0.01],\n",
    "    'num_leaves' : [20,25,30]\n",
    "}\n",
    "grid_search = GridSearchCV(\n",
    "    estimator = model,\n",
    "    param_grid = param_grid,\n",
    "    cv=5,\n",
    "    scoring = 'neg_mean_squared_error',\n",
    "    verbose = 1,\n",
    "    n_jobs=-1\n",
    ")"
   ]
  },
  {
   "cell_type": "code",
   "execution_count": 91,
   "metadata": {},
   "outputs": [
    {
     "name": "stdout",
     "output_type": "stream",
     "text": [
      "Fitting 5 folds for each of 18 candidates, totalling 90 fits\n",
      "[LightGBM] [Info] Auto-choosing row-wise multi-threading, the overhead of testing was 0.003932 seconds.\n",
      "You can set `force_row_wise=true` to remove the overhead.\n",
      "And if memory is not enough, you can set `force_col_wise=true`.\n",
      "[LightGBM] [Info] Total Bins 628\n",
      "[LightGBM] [Info] Number of data points in the train set: 166045, number of used features: 9\n",
      "[LightGBM] [Info] Start training from score 5154.928013\n",
      "CPU times: total: 18.8 s\n",
      "Wall time: 5min 54s\n"
     ]
    },
    {
     "data": {
      "text/html": [
       "<style>#sk-container-id-11 {color: black;}#sk-container-id-11 pre{padding: 0;}#sk-container-id-11 div.sk-toggleable {background-color: white;}#sk-container-id-11 label.sk-toggleable__label {cursor: pointer;display: block;width: 100%;margin-bottom: 0;padding: 0.3em;box-sizing: border-box;text-align: center;}#sk-container-id-11 label.sk-toggleable__label-arrow:before {content: \"▸\";float: left;margin-right: 0.25em;color: #696969;}#sk-container-id-11 label.sk-toggleable__label-arrow:hover:before {color: black;}#sk-container-id-11 div.sk-estimator:hover label.sk-toggleable__label-arrow:before {color: black;}#sk-container-id-11 div.sk-toggleable__content {max-height: 0;max-width: 0;overflow: hidden;text-align: left;background-color: #f0f8ff;}#sk-container-id-11 div.sk-toggleable__content pre {margin: 0.2em;color: black;border-radius: 0.25em;background-color: #f0f8ff;}#sk-container-id-11 input.sk-toggleable__control:checked~div.sk-toggleable__content {max-height: 200px;max-width: 100%;overflow: auto;}#sk-container-id-11 input.sk-toggleable__control:checked~label.sk-toggleable__label-arrow:before {content: \"▾\";}#sk-container-id-11 div.sk-estimator input.sk-toggleable__control:checked~label.sk-toggleable__label {background-color: #d4ebff;}#sk-container-id-11 div.sk-label input.sk-toggleable__control:checked~label.sk-toggleable__label {background-color: #d4ebff;}#sk-container-id-11 input.sk-hidden--visually {border: 0;clip: rect(1px 1px 1px 1px);clip: rect(1px, 1px, 1px, 1px);height: 1px;margin: -1px;overflow: hidden;padding: 0;position: absolute;width: 1px;}#sk-container-id-11 div.sk-estimator {font-family: monospace;background-color: #f0f8ff;border: 1px dotted black;border-radius: 0.25em;box-sizing: border-box;margin-bottom: 0.5em;}#sk-container-id-11 div.sk-estimator:hover {background-color: #d4ebff;}#sk-container-id-11 div.sk-parallel-item::after {content: \"\";width: 100%;border-bottom: 1px solid gray;flex-grow: 1;}#sk-container-id-11 div.sk-label:hover label.sk-toggleable__label {background-color: #d4ebff;}#sk-container-id-11 div.sk-serial::before {content: \"\";position: absolute;border-left: 1px solid gray;box-sizing: border-box;top: 0;bottom: 0;left: 50%;z-index: 0;}#sk-container-id-11 div.sk-serial {display: flex;flex-direction: column;align-items: center;background-color: white;padding-right: 0.2em;padding-left: 0.2em;position: relative;}#sk-container-id-11 div.sk-item {position: relative;z-index: 1;}#sk-container-id-11 div.sk-parallel {display: flex;align-items: stretch;justify-content: center;background-color: white;position: relative;}#sk-container-id-11 div.sk-item::before, #sk-container-id-11 div.sk-parallel-item::before {content: \"\";position: absolute;border-left: 1px solid gray;box-sizing: border-box;top: 0;bottom: 0;left: 50%;z-index: -1;}#sk-container-id-11 div.sk-parallel-item {display: flex;flex-direction: column;z-index: 1;position: relative;background-color: white;}#sk-container-id-11 div.sk-parallel-item:first-child::after {align-self: flex-end;width: 50%;}#sk-container-id-11 div.sk-parallel-item:last-child::after {align-self: flex-start;width: 50%;}#sk-container-id-11 div.sk-parallel-item:only-child::after {width: 0;}#sk-container-id-11 div.sk-dashed-wrapped {border: 1px dashed gray;margin: 0 0.4em 0.5em 0.4em;box-sizing: border-box;padding-bottom: 0.4em;background-color: white;}#sk-container-id-11 div.sk-label label {font-family: monospace;font-weight: bold;display: inline-block;line-height: 1.2em;}#sk-container-id-11 div.sk-label-container {text-align: center;}#sk-container-id-11 div.sk-container {/* jupyter's `normalize.less` sets `[hidden] { display: none; }` but bootstrap.min.css set `[hidden] { display: none !important; }` so we also need the `!important` here to be able to override the default hidden behavior on the sphinx rendered scikit-learn.org. See: https://github.com/scikit-learn/scikit-learn/issues/21755 */display: inline-block !important;position: relative;}#sk-container-id-11 div.sk-text-repr-fallback {display: none;}</style><div id=\"sk-container-id-11\" class=\"sk-top-container\"><div class=\"sk-text-repr-fallback\"><pre>GridSearchCV(cv=5, estimator=LGBMRegressor(random_state=12345), n_jobs=-1,\n",
       "             param_grid={&#x27;learning_rate&#x27;: [0.1, 0.01],\n",
       "                         &#x27;n_estimators&#x27;: [100, 500, 1000],\n",
       "                         &#x27;num_leaves&#x27;: [20, 25, 30]},\n",
       "             scoring=&#x27;neg_mean_squared_error&#x27;, verbose=1)</pre><b>In a Jupyter environment, please rerun this cell to show the HTML representation or trust the notebook. <br />On GitHub, the HTML representation is unable to render, please try loading this page with nbviewer.org.</b></div><div class=\"sk-container\" hidden><div class=\"sk-item sk-dashed-wrapped\"><div class=\"sk-label-container\"><div class=\"sk-label sk-toggleable\"><input class=\"sk-toggleable__control sk-hidden--visually\" id=\"sk-estimator-id-11\" type=\"checkbox\" ><label for=\"sk-estimator-id-11\" class=\"sk-toggleable__label sk-toggleable__label-arrow\">GridSearchCV</label><div class=\"sk-toggleable__content\"><pre>GridSearchCV(cv=5, estimator=LGBMRegressor(random_state=12345), n_jobs=-1,\n",
       "             param_grid={&#x27;learning_rate&#x27;: [0.1, 0.01],\n",
       "                         &#x27;n_estimators&#x27;: [100, 500, 1000],\n",
       "                         &#x27;num_leaves&#x27;: [20, 25, 30]},\n",
       "             scoring=&#x27;neg_mean_squared_error&#x27;, verbose=1)</pre></div></div></div><div class=\"sk-parallel\"><div class=\"sk-parallel-item\"><div class=\"sk-item\"><div class=\"sk-label-container\"><div class=\"sk-label sk-toggleable\"><input class=\"sk-toggleable__control sk-hidden--visually\" id=\"sk-estimator-id-12\" type=\"checkbox\" ><label for=\"sk-estimator-id-12\" class=\"sk-toggleable__label sk-toggleable__label-arrow\">estimator: LGBMRegressor</label><div class=\"sk-toggleable__content\"><pre>LGBMRegressor(random_state=12345)</pre></div></div></div><div class=\"sk-serial\"><div class=\"sk-item\"><div class=\"sk-estimator sk-toggleable\"><input class=\"sk-toggleable__control sk-hidden--visually\" id=\"sk-estimator-id-13\" type=\"checkbox\" ><label for=\"sk-estimator-id-13\" class=\"sk-toggleable__label sk-toggleable__label-arrow\">LGBMRegressor</label><div class=\"sk-toggleable__content\"><pre>LGBMRegressor(random_state=12345)</pre></div></div></div></div></div></div></div></div></div></div>"
      ],
      "text/plain": [
       "GridSearchCV(cv=5, estimator=LGBMRegressor(random_state=12345), n_jobs=-1,\n",
       "             param_grid={'learning_rate': [0.1, 0.01],\n",
       "                         'n_estimators': [100, 500, 1000],\n",
       "                         'num_leaves': [20, 25, 30]},\n",
       "             scoring='neg_mean_squared_error', verbose=1)"
      ]
     },
     "execution_count": 91,
     "metadata": {},
     "output_type": "execute_result"
    }
   ],
   "source": [
    "%%time\n",
    "\n",
    "#Обучение\n",
    "\n",
    "grid_search.fit(features_train_oe, target_train)"
   ]
  },
  {
   "cell_type": "code",
   "execution_count": 94,
   "metadata": {},
   "outputs": [],
   "source": [
    "#Модель с наименьшей метрикой\n",
    "model = grid_search.best_estimator_"
   ]
  },
  {
   "cell_type": "code",
   "execution_count": 95,
   "metadata": {},
   "outputs": [
    {
     "name": "stdout",
     "output_type": "stream",
     "text": [
      "[LightGBM] [Info] Auto-choosing row-wise multi-threading, the overhead of testing was 0.005188 seconds.\n",
      "You can set `force_row_wise=true` to remove the overhead.\n",
      "And if memory is not enough, you can set `force_col_wise=true`.\n",
      "[LightGBM] [Info] Total Bins 628\n",
      "[LightGBM] [Info] Number of data points in the train set: 166045, number of used features: 9\n",
      "[LightGBM] [Info] Start training from score 5154.928013\n",
      "CPU times: total: 16.5 s\n",
      "Wall time: 4.63 s\n"
     ]
    },
    {
     "data": {
      "text/html": [
       "<style>#sk-container-id-12 {color: black;}#sk-container-id-12 pre{padding: 0;}#sk-container-id-12 div.sk-toggleable {background-color: white;}#sk-container-id-12 label.sk-toggleable__label {cursor: pointer;display: block;width: 100%;margin-bottom: 0;padding: 0.3em;box-sizing: border-box;text-align: center;}#sk-container-id-12 label.sk-toggleable__label-arrow:before {content: \"▸\";float: left;margin-right: 0.25em;color: #696969;}#sk-container-id-12 label.sk-toggleable__label-arrow:hover:before {color: black;}#sk-container-id-12 div.sk-estimator:hover label.sk-toggleable__label-arrow:before {color: black;}#sk-container-id-12 div.sk-toggleable__content {max-height: 0;max-width: 0;overflow: hidden;text-align: left;background-color: #f0f8ff;}#sk-container-id-12 div.sk-toggleable__content pre {margin: 0.2em;color: black;border-radius: 0.25em;background-color: #f0f8ff;}#sk-container-id-12 input.sk-toggleable__control:checked~div.sk-toggleable__content {max-height: 200px;max-width: 100%;overflow: auto;}#sk-container-id-12 input.sk-toggleable__control:checked~label.sk-toggleable__label-arrow:before {content: \"▾\";}#sk-container-id-12 div.sk-estimator input.sk-toggleable__control:checked~label.sk-toggleable__label {background-color: #d4ebff;}#sk-container-id-12 div.sk-label input.sk-toggleable__control:checked~label.sk-toggleable__label {background-color: #d4ebff;}#sk-container-id-12 input.sk-hidden--visually {border: 0;clip: rect(1px 1px 1px 1px);clip: rect(1px, 1px, 1px, 1px);height: 1px;margin: -1px;overflow: hidden;padding: 0;position: absolute;width: 1px;}#sk-container-id-12 div.sk-estimator {font-family: monospace;background-color: #f0f8ff;border: 1px dotted black;border-radius: 0.25em;box-sizing: border-box;margin-bottom: 0.5em;}#sk-container-id-12 div.sk-estimator:hover {background-color: #d4ebff;}#sk-container-id-12 div.sk-parallel-item::after {content: \"\";width: 100%;border-bottom: 1px solid gray;flex-grow: 1;}#sk-container-id-12 div.sk-label:hover label.sk-toggleable__label {background-color: #d4ebff;}#sk-container-id-12 div.sk-serial::before {content: \"\";position: absolute;border-left: 1px solid gray;box-sizing: border-box;top: 0;bottom: 0;left: 50%;z-index: 0;}#sk-container-id-12 div.sk-serial {display: flex;flex-direction: column;align-items: center;background-color: white;padding-right: 0.2em;padding-left: 0.2em;position: relative;}#sk-container-id-12 div.sk-item {position: relative;z-index: 1;}#sk-container-id-12 div.sk-parallel {display: flex;align-items: stretch;justify-content: center;background-color: white;position: relative;}#sk-container-id-12 div.sk-item::before, #sk-container-id-12 div.sk-parallel-item::before {content: \"\";position: absolute;border-left: 1px solid gray;box-sizing: border-box;top: 0;bottom: 0;left: 50%;z-index: -1;}#sk-container-id-12 div.sk-parallel-item {display: flex;flex-direction: column;z-index: 1;position: relative;background-color: white;}#sk-container-id-12 div.sk-parallel-item:first-child::after {align-self: flex-end;width: 50%;}#sk-container-id-12 div.sk-parallel-item:last-child::after {align-self: flex-start;width: 50%;}#sk-container-id-12 div.sk-parallel-item:only-child::after {width: 0;}#sk-container-id-12 div.sk-dashed-wrapped {border: 1px dashed gray;margin: 0 0.4em 0.5em 0.4em;box-sizing: border-box;padding-bottom: 0.4em;background-color: white;}#sk-container-id-12 div.sk-label label {font-family: monospace;font-weight: bold;display: inline-block;line-height: 1.2em;}#sk-container-id-12 div.sk-label-container {text-align: center;}#sk-container-id-12 div.sk-container {/* jupyter's `normalize.less` sets `[hidden] { display: none; }` but bootstrap.min.css set `[hidden] { display: none !important; }` so we also need the `!important` here to be able to override the default hidden behavior on the sphinx rendered scikit-learn.org. See: https://github.com/scikit-learn/scikit-learn/issues/21755 */display: inline-block !important;position: relative;}#sk-container-id-12 div.sk-text-repr-fallback {display: none;}</style><div id=\"sk-container-id-12\" class=\"sk-top-container\"><div class=\"sk-text-repr-fallback\"><pre>LGBMRegressor(n_estimators=1000, num_leaves=30, random_state=12345)</pre><b>In a Jupyter environment, please rerun this cell to show the HTML representation or trust the notebook. <br />On GitHub, the HTML representation is unable to render, please try loading this page with nbviewer.org.</b></div><div class=\"sk-container\" hidden><div class=\"sk-item\"><div class=\"sk-estimator sk-toggleable\"><input class=\"sk-toggleable__control sk-hidden--visually\" id=\"sk-estimator-id-14\" type=\"checkbox\" checked><label for=\"sk-estimator-id-14\" class=\"sk-toggleable__label sk-toggleable__label-arrow\">LGBMRegressor</label><div class=\"sk-toggleable__content\"><pre>LGBMRegressor(n_estimators=1000, num_leaves=30, random_state=12345)</pre></div></div></div></div></div>"
      ],
      "text/plain": [
       "LGBMRegressor(n_estimators=1000, num_leaves=30, random_state=12345)"
      ]
     },
     "execution_count": 95,
     "metadata": {},
     "output_type": "execute_result"
    }
   ],
   "source": [
    "%%time\n",
    "model.fit(features_train_oe,target_train)"
   ]
  },
  {
   "cell_type": "code",
   "execution_count": 96,
   "metadata": {},
   "outputs": [
    {
     "name": "stdout",
     "output_type": "stream",
     "text": [
      "CPU times: total: 4.17 s\n",
      "Wall time: 1.04 s\n"
     ]
    }
   ],
   "source": [
    "%%time\n",
    "\n",
    "#время предсказания\n",
    "\n",
    "predictions = model.predict(features_valid_oe)"
   ]
  },
  {
   "cell_type": "code",
   "execution_count": 97,
   "metadata": {},
   "outputs": [
    {
     "name": "stdout",
     "output_type": "stream",
     "text": [
      "LGBMRegerssor RMSE : 1669.8511630061125\n"
     ]
    }
   ],
   "source": [
    "print('LGBMRegerssor RMSE :', mean_squared_error(target_valid,predictions,squared=False))"
   ]
  },
  {
   "cell_type": "markdown",
   "metadata": {},
   "source": [
    "Таким образом, модель LightGBM выдала метрику, равную  1669.8511630061125, время обучения 4.63 с, а предсказания - 1.04."
   ]
  },
  {
   "cell_type": "markdown",
   "metadata": {},
   "source": [
    "# Catboost"
   ]
  },
  {
   "cell_type": "markdown",
   "metadata": {},
   "source": [
    "Воспользуемся моделю CatBoost. Подберем для нее гиперпараметры с помощью grid_search"
   ]
  },
  {
   "cell_type": "code",
   "execution_count": 129,
   "metadata": {},
   "outputs": [],
   "source": [
    "#Гиперпараметры\n",
    "\n",
    "grid_params = {\n",
    "    'iterations' : [500,1000,1500],\n",
    "}"
   ]
  },
  {
   "cell_type": "code",
   "execution_count": 145,
   "metadata": {},
   "outputs": [],
   "source": [
    "#Инициализация GridSearch\n",
    "\n",
    "grid_search = GridSearchCV(\n",
    "    estimator = model,\n",
    "    param_grid = grid_params,\n",
    "    cv=5,\n",
    "    scoring = 'neg_mean_squared_error',\n",
    "    verbose = 1,\n",
    "    n_jobs=-1\n",
    ")"
   ]
  },
  {
   "cell_type": "code",
   "execution_count": 146,
   "metadata": {},
   "outputs": [
    {
     "ename": "InvalidParameterError",
     "evalue": "The 'scoring' parameter of GridSearchCV must be a str among {'neg_mean_absolute_error', 'adjusted_mutual_info_score', 'average_precision', 'neg_mean_squared_log_error', 'positive_likelihood_ratio', 'precision_micro', 'accuracy', 'neg_mean_poisson_deviance', 'f1_weighted', 'f1', 'neg_median_absolute_error', 'neg_mean_gamma_deviance', 'recall_macro', 'neg_log_loss', 'v_measure_score', 'adjusted_rand_score', 'max_error', 'fowlkes_mallows_score', 'normalized_mutual_info_score', 'recall_weighted', 'completeness_score', 'recall_samples', 'rand_score', 'neg_mean_absolute_percentage_error', 'jaccard_samples', 'neg_mean_squared_error', 'precision_samples', 'roc_auc', 'roc_auc_ovo_weighted', 'roc_auc_ovo', 'neg_brier_score', 'precision_macro', 'recall', 'f1_macro', 'f1_samples', 'precision_weighted', 'roc_auc_ovr_weighted', 'top_k_accuracy', 'neg_negative_likelihood_ratio', 'explained_variance', 'neg_root_mean_squared_error', 'recall_micro', 'roc_auc_ovr', 'r2', 'jaccard_macro', 'balanced_accuracy', 'f1_micro', 'homogeneity_score', 'jaccard_micro', 'precision', 'matthews_corrcoef', 'mutual_info_score', 'jaccard', 'jaccard_weighted'}, a callable, an instance of 'list', an instance of 'tuple', an instance of 'dict' or None. Got 'mean_squared_error' instead.",
     "output_type": "error",
     "traceback": [
      "\u001b[1;31m---------------------------------------------------------------------------\u001b[0m",
      "\u001b[1;31mInvalidParameterError\u001b[0m                     Traceback (most recent call last)",
      "Cell \u001b[1;32mIn[146], line 1\u001b[0m\n\u001b[1;32m----> 1\u001b[0m grid_search\u001b[38;5;241m.\u001b[39mfit(features_train_oe,target_train)\n",
      "File \u001b[1;32m~\\anaconda3\\Lib\\site-packages\\sklearn\\base.py:1144\u001b[0m, in \u001b[0;36m_fit_context.<locals>.decorator.<locals>.wrapper\u001b[1;34m(estimator, *args, **kwargs)\u001b[0m\n\u001b[0;32m   1139\u001b[0m partial_fit_and_fitted \u001b[38;5;241m=\u001b[39m (\n\u001b[0;32m   1140\u001b[0m     fit_method\u001b[38;5;241m.\u001b[39m\u001b[38;5;18m__name__\u001b[39m \u001b[38;5;241m==\u001b[39m \u001b[38;5;124m\"\u001b[39m\u001b[38;5;124mpartial_fit\u001b[39m\u001b[38;5;124m\"\u001b[39m \u001b[38;5;129;01mand\u001b[39;00m _is_fitted(estimator)\n\u001b[0;32m   1141\u001b[0m )\n\u001b[0;32m   1143\u001b[0m \u001b[38;5;28;01mif\u001b[39;00m \u001b[38;5;129;01mnot\u001b[39;00m global_skip_validation \u001b[38;5;129;01mand\u001b[39;00m \u001b[38;5;129;01mnot\u001b[39;00m partial_fit_and_fitted:\n\u001b[1;32m-> 1144\u001b[0m     estimator\u001b[38;5;241m.\u001b[39m_validate_params()\n\u001b[0;32m   1146\u001b[0m \u001b[38;5;28;01mwith\u001b[39;00m config_context(\n\u001b[0;32m   1147\u001b[0m     skip_parameter_validation\u001b[38;5;241m=\u001b[39m(\n\u001b[0;32m   1148\u001b[0m         prefer_skip_nested_validation \u001b[38;5;129;01mor\u001b[39;00m global_skip_validation\n\u001b[0;32m   1149\u001b[0m     )\n\u001b[0;32m   1150\u001b[0m ):\n\u001b[0;32m   1151\u001b[0m     \u001b[38;5;28;01mreturn\u001b[39;00m fit_method(estimator, \u001b[38;5;241m*\u001b[39margs, \u001b[38;5;241m*\u001b[39m\u001b[38;5;241m*\u001b[39mkwargs)\n",
      "File \u001b[1;32m~\\anaconda3\\Lib\\site-packages\\sklearn\\base.py:637\u001b[0m, in \u001b[0;36mBaseEstimator._validate_params\u001b[1;34m(self)\u001b[0m\n\u001b[0;32m    629\u001b[0m \u001b[38;5;28;01mdef\u001b[39;00m \u001b[38;5;21m_validate_params\u001b[39m(\u001b[38;5;28mself\u001b[39m):\n\u001b[0;32m    630\u001b[0m \u001b[38;5;250m    \u001b[39m\u001b[38;5;124;03m\"\"\"Validate types and values of constructor parameters\u001b[39;00m\n\u001b[0;32m    631\u001b[0m \n\u001b[0;32m    632\u001b[0m \u001b[38;5;124;03m    The expected type and values must be defined in the `_parameter_constraints`\u001b[39;00m\n\u001b[1;32m   (...)\u001b[0m\n\u001b[0;32m    635\u001b[0m \u001b[38;5;124;03m    accepted constraints.\u001b[39;00m\n\u001b[0;32m    636\u001b[0m \u001b[38;5;124;03m    \"\"\"\u001b[39;00m\n\u001b[1;32m--> 637\u001b[0m     validate_parameter_constraints(\n\u001b[0;32m    638\u001b[0m         \u001b[38;5;28mself\u001b[39m\u001b[38;5;241m.\u001b[39m_parameter_constraints,\n\u001b[0;32m    639\u001b[0m         \u001b[38;5;28mself\u001b[39m\u001b[38;5;241m.\u001b[39mget_params(deep\u001b[38;5;241m=\u001b[39m\u001b[38;5;28;01mFalse\u001b[39;00m),\n\u001b[0;32m    640\u001b[0m         caller_name\u001b[38;5;241m=\u001b[39m\u001b[38;5;28mself\u001b[39m\u001b[38;5;241m.\u001b[39m\u001b[38;5;18m__class__\u001b[39m\u001b[38;5;241m.\u001b[39m\u001b[38;5;18m__name__\u001b[39m,\n\u001b[0;32m    641\u001b[0m     )\n",
      "File \u001b[1;32m~\\anaconda3\\Lib\\site-packages\\sklearn\\utils\\_param_validation.py:95\u001b[0m, in \u001b[0;36mvalidate_parameter_constraints\u001b[1;34m(parameter_constraints, params, caller_name)\u001b[0m\n\u001b[0;32m     89\u001b[0m \u001b[38;5;28;01melse\u001b[39;00m:\n\u001b[0;32m     90\u001b[0m     constraints_str \u001b[38;5;241m=\u001b[39m (\n\u001b[0;32m     91\u001b[0m         \u001b[38;5;124mf\u001b[39m\u001b[38;5;124m\"\u001b[39m\u001b[38;5;132;01m{\u001b[39;00m\u001b[38;5;124m'\u001b[39m\u001b[38;5;124m, \u001b[39m\u001b[38;5;124m'\u001b[39m\u001b[38;5;241m.\u001b[39mjoin([\u001b[38;5;28mstr\u001b[39m(c)\u001b[38;5;250m \u001b[39m\u001b[38;5;28;01mfor\u001b[39;00m\u001b[38;5;250m \u001b[39mc\u001b[38;5;250m \u001b[39m\u001b[38;5;129;01min\u001b[39;00m\u001b[38;5;250m \u001b[39mconstraints[:\u001b[38;5;241m-\u001b[39m\u001b[38;5;241m1\u001b[39m]])\u001b[38;5;132;01m}\u001b[39;00m\u001b[38;5;124m or\u001b[39m\u001b[38;5;124m\"\u001b[39m\n\u001b[0;32m     92\u001b[0m         \u001b[38;5;124mf\u001b[39m\u001b[38;5;124m\"\u001b[39m\u001b[38;5;124m \u001b[39m\u001b[38;5;132;01m{\u001b[39;00mconstraints[\u001b[38;5;241m-\u001b[39m\u001b[38;5;241m1\u001b[39m]\u001b[38;5;132;01m}\u001b[39;00m\u001b[38;5;124m\"\u001b[39m\n\u001b[0;32m     93\u001b[0m     )\n\u001b[1;32m---> 95\u001b[0m \u001b[38;5;28;01mraise\u001b[39;00m InvalidParameterError(\n\u001b[0;32m     96\u001b[0m     \u001b[38;5;124mf\u001b[39m\u001b[38;5;124m\"\u001b[39m\u001b[38;5;124mThe \u001b[39m\u001b[38;5;132;01m{\u001b[39;00mparam_name\u001b[38;5;132;01m!r}\u001b[39;00m\u001b[38;5;124m parameter of \u001b[39m\u001b[38;5;132;01m{\u001b[39;00mcaller_name\u001b[38;5;132;01m}\u001b[39;00m\u001b[38;5;124m must be\u001b[39m\u001b[38;5;124m\"\u001b[39m\n\u001b[0;32m     97\u001b[0m     \u001b[38;5;124mf\u001b[39m\u001b[38;5;124m\"\u001b[39m\u001b[38;5;124m \u001b[39m\u001b[38;5;132;01m{\u001b[39;00mconstraints_str\u001b[38;5;132;01m}\u001b[39;00m\u001b[38;5;124m. Got \u001b[39m\u001b[38;5;132;01m{\u001b[39;00mparam_val\u001b[38;5;132;01m!r}\u001b[39;00m\u001b[38;5;124m instead.\u001b[39m\u001b[38;5;124m\"\u001b[39m\n\u001b[0;32m     98\u001b[0m )\n",
      "\u001b[1;31mInvalidParameterError\u001b[0m: The 'scoring' parameter of GridSearchCV must be a str among {'neg_mean_absolute_error', 'adjusted_mutual_info_score', 'average_precision', 'neg_mean_squared_log_error', 'positive_likelihood_ratio', 'precision_micro', 'accuracy', 'neg_mean_poisson_deviance', 'f1_weighted', 'f1', 'neg_median_absolute_error', 'neg_mean_gamma_deviance', 'recall_macro', 'neg_log_loss', 'v_measure_score', 'adjusted_rand_score', 'max_error', 'fowlkes_mallows_score', 'normalized_mutual_info_score', 'recall_weighted', 'completeness_score', 'recall_samples', 'rand_score', 'neg_mean_absolute_percentage_error', 'jaccard_samples', 'neg_mean_squared_error', 'precision_samples', 'roc_auc', 'roc_auc_ovo_weighted', 'roc_auc_ovo', 'neg_brier_score', 'precision_macro', 'recall', 'f1_macro', 'f1_samples', 'precision_weighted', 'roc_auc_ovr_weighted', 'top_k_accuracy', 'neg_negative_likelihood_ratio', 'explained_variance', 'neg_root_mean_squared_error', 'recall_micro', 'roc_auc_ovr', 'r2', 'jaccard_macro', 'balanced_accuracy', 'f1_micro', 'homogeneity_score', 'jaccard_micro', 'precision', 'matthews_corrcoef', 'mutual_info_score', 'jaccard', 'jaccard_weighted'}, a callable, an instance of 'list', an instance of 'tuple', an instance of 'dict' or None. Got 'mean_squared_error' instead."
     ]
    }
   ],
   "source": [
    "#Обучение GridSearch\n",
    "\n",
    "grid_search.fit(features_train_oe,target_train) "
   ]
  },
  {
   "cell_type": "code",
   "execution_count": 141,
   "metadata": {},
   "outputs": [],
   "source": [
    "#Инициализируем\n",
    "\n",
    "model = grid_search.best_estimator_"
   ]
  },
  {
   "cell_type": "code",
   "execution_count": 142,
   "metadata": {},
   "outputs": [
    {
     "name": "stdout",
     "output_type": "stream",
     "text": [
      "Learning rate set to 0.066041\n",
      "0:\tlearn: 4430.9579301\ttotal: 15.3ms\tremaining: 22.9s\n",
      "1:\tlearn: 4245.8573824\ttotal: 29.4ms\tremaining: 22s\n",
      "2:\tlearn: 4076.8284024\ttotal: 43.8ms\tremaining: 21.8s\n",
      "3:\tlearn: 3915.7415444\ttotal: 58.4ms\tremaining: 21.8s\n",
      "4:\tlearn: 3770.2019266\ttotal: 74.2ms\tremaining: 22.2s\n",
      "5:\tlearn: 3641.0237100\ttotal: 89.6ms\tremaining: 22.3s\n",
      "6:\tlearn: 3518.9500599\ttotal: 105ms\tremaining: 22.3s\n",
      "7:\tlearn: 3402.4749910\ttotal: 119ms\tremaining: 22.1s\n",
      "8:\tlearn: 3297.2322063\ttotal: 133ms\tremaining: 22s\n",
      "9:\tlearn: 3199.7632082\ttotal: 147ms\tremaining: 21.9s\n",
      "10:\tlearn: 3110.9382649\ttotal: 161ms\tremaining: 21.8s\n",
      "11:\tlearn: 3032.1845191\ttotal: 175ms\tremaining: 21.7s\n",
      "12:\tlearn: 2959.4147265\ttotal: 192ms\tremaining: 22s\n",
      "13:\tlearn: 2889.3680344\ttotal: 209ms\tremaining: 22.1s\n",
      "14:\tlearn: 2828.6451432\ttotal: 226ms\tremaining: 22.3s\n",
      "15:\tlearn: 2769.6609368\ttotal: 241ms\tremaining: 22.4s\n",
      "16:\tlearn: 2716.3941166\ttotal: 255ms\tremaining: 22.2s\n",
      "17:\tlearn: 2667.2604357\ttotal: 269ms\tremaining: 22.1s\n",
      "18:\tlearn: 2621.6786305\ttotal: 283ms\tremaining: 22s\n",
      "19:\tlearn: 2579.8940528\ttotal: 297ms\tremaining: 22s\n",
      "20:\tlearn: 2540.2931744\ttotal: 311ms\tremaining: 21.9s\n",
      "21:\tlearn: 2505.2730354\ttotal: 325ms\tremaining: 21.8s\n",
      "22:\tlearn: 2472.3317898\ttotal: 339ms\tremaining: 21.8s\n",
      "23:\tlearn: 2443.1626734\ttotal: 352ms\tremaining: 21.7s\n",
      "24:\tlearn: 2414.2572802\ttotal: 366ms\tremaining: 21.6s\n",
      "25:\tlearn: 2386.7574275\ttotal: 380ms\tremaining: 21.5s\n",
      "26:\tlearn: 2361.3567169\ttotal: 394ms\tremaining: 21.5s\n",
      "27:\tlearn: 2339.7382636\ttotal: 411ms\tremaining: 21.6s\n",
      "28:\tlearn: 2318.0683035\ttotal: 426ms\tremaining: 21.6s\n",
      "29:\tlearn: 2296.0802591\ttotal: 440ms\tremaining: 21.6s\n",
      "30:\tlearn: 2277.2992525\ttotal: 454ms\tremaining: 21.5s\n",
      "31:\tlearn: 2257.4948564\ttotal: 469ms\tremaining: 21.5s\n",
      "32:\tlearn: 2241.0667354\ttotal: 482ms\tremaining: 21.4s\n",
      "33:\tlearn: 2226.4064916\ttotal: 496ms\tremaining: 21.4s\n",
      "34:\tlearn: 2210.9749526\ttotal: 510ms\tremaining: 21.3s\n",
      "35:\tlearn: 2196.8998973\ttotal: 524ms\tremaining: 21.3s\n",
      "36:\tlearn: 2184.6001848\ttotal: 537ms\tremaining: 21.2s\n",
      "37:\tlearn: 2171.5658810\ttotal: 551ms\tremaining: 21.2s\n",
      "38:\tlearn: 2159.8792188\ttotal: 565ms\tremaining: 21.2s\n",
      "39:\tlearn: 2149.8923003\ttotal: 578ms\tremaining: 21.1s\n",
      "40:\tlearn: 2138.7697975\ttotal: 593ms\tremaining: 21.1s\n",
      "41:\tlearn: 2126.9630849\ttotal: 610ms\tremaining: 21.2s\n",
      "42:\tlearn: 2117.1707390\ttotal: 624ms\tremaining: 21.2s\n",
      "43:\tlearn: 2107.6380499\ttotal: 638ms\tremaining: 21.1s\n",
      "44:\tlearn: 2098.6905405\ttotal: 652ms\tremaining: 21.1s\n",
      "45:\tlearn: 2088.9277336\ttotal: 666ms\tremaining: 21s\n",
      "46:\tlearn: 2079.3555885\ttotal: 680ms\tremaining: 21s\n",
      "47:\tlearn: 2071.6244340\ttotal: 693ms\tremaining: 21s\n",
      "48:\tlearn: 2060.6774127\ttotal: 707ms\tremaining: 20.9s\n",
      "49:\tlearn: 2053.8248226\ttotal: 721ms\tremaining: 20.9s\n",
      "50:\tlearn: 2047.6560485\ttotal: 734ms\tremaining: 20.9s\n",
      "51:\tlearn: 2041.7755039\ttotal: 747ms\tremaining: 20.8s\n",
      "52:\tlearn: 2036.5462607\ttotal: 760ms\tremaining: 20.7s\n",
      "53:\tlearn: 2029.2240123\ttotal: 774ms\tremaining: 20.7s\n",
      "54:\tlearn: 2023.9980591\ttotal: 786ms\tremaining: 20.7s\n",
      "55:\tlearn: 2018.9031755\ttotal: 799ms\tremaining: 20.6s\n",
      "56:\tlearn: 2014.7305743\ttotal: 814ms\tremaining: 20.6s\n",
      "57:\tlearn: 2008.7133771\ttotal: 830ms\tremaining: 20.6s\n",
      "58:\tlearn: 2001.9955063\ttotal: 848ms\tremaining: 20.7s\n",
      "59:\tlearn: 1996.6318670\ttotal: 865ms\tremaining: 20.8s\n",
      "60:\tlearn: 1992.3989622\ttotal: 881ms\tremaining: 20.8s\n",
      "61:\tlearn: 1986.5717748\ttotal: 897ms\tremaining: 20.8s\n",
      "62:\tlearn: 1981.6483917\ttotal: 913ms\tremaining: 20.8s\n",
      "63:\tlearn: 1975.5573013\ttotal: 929ms\tremaining: 20.8s\n",
      "64:\tlearn: 1969.3884277\ttotal: 944ms\tremaining: 20.8s\n",
      "65:\tlearn: 1965.6657054\ttotal: 958ms\tremaining: 20.8s\n",
      "66:\tlearn: 1960.2438774\ttotal: 976ms\tremaining: 20.9s\n",
      "67:\tlearn: 1956.9335275\ttotal: 988ms\tremaining: 20.8s\n",
      "68:\tlearn: 1952.2498427\ttotal: 1s\tremaining: 20.8s\n",
      "69:\tlearn: 1947.4589868\ttotal: 1.01s\tremaining: 20.8s\n",
      "70:\tlearn: 1943.3251881\ttotal: 1.03s\tremaining: 20.8s\n",
      "71:\tlearn: 1939.3618459\ttotal: 1.05s\tremaining: 20.8s\n",
      "72:\tlearn: 1935.0829729\ttotal: 1.06s\tremaining: 20.8s\n",
      "73:\tlearn: 1932.2450367\ttotal: 1.08s\tremaining: 20.8s\n",
      "74:\tlearn: 1929.4511109\ttotal: 1.09s\tremaining: 20.8s\n",
      "75:\tlearn: 1926.2155778\ttotal: 1.11s\tremaining: 20.7s\n",
      "76:\tlearn: 1923.0591136\ttotal: 1.12s\tremaining: 20.7s\n",
      "77:\tlearn: 1921.1117178\ttotal: 1.13s\tremaining: 20.6s\n",
      "78:\tlearn: 1917.9905968\ttotal: 1.14s\tremaining: 20.6s\n",
      "79:\tlearn: 1915.7453195\ttotal: 1.16s\tremaining: 20.6s\n",
      "80:\tlearn: 1913.7467716\ttotal: 1.17s\tremaining: 20.5s\n",
      "81:\tlearn: 1911.3598421\ttotal: 1.19s\tremaining: 20.5s\n",
      "82:\tlearn: 1908.2245104\ttotal: 1.2s\tremaining: 20.5s\n",
      "83:\tlearn: 1905.5538873\ttotal: 1.22s\tremaining: 20.5s\n",
      "84:\tlearn: 1903.8086614\ttotal: 1.23s\tremaining: 20.5s\n",
      "85:\tlearn: 1901.6862190\ttotal: 1.24s\tremaining: 20.5s\n",
      "86:\tlearn: 1899.8717741\ttotal: 1.26s\tremaining: 20.5s\n",
      "87:\tlearn: 1896.3287235\ttotal: 1.28s\tremaining: 20.5s\n",
      "88:\tlearn: 1892.2043100\ttotal: 1.3s\tremaining: 20.6s\n",
      "89:\tlearn: 1890.3000072\ttotal: 1.31s\tremaining: 20.6s\n",
      "90:\tlearn: 1887.7040355\ttotal: 1.33s\tremaining: 20.5s\n",
      "91:\tlearn: 1886.2262376\ttotal: 1.34s\tremaining: 20.5s\n",
      "92:\tlearn: 1884.6547600\ttotal: 1.35s\tremaining: 20.5s\n",
      "93:\tlearn: 1882.6730664\ttotal: 1.37s\tremaining: 20.5s\n",
      "94:\tlearn: 1880.1927870\ttotal: 1.38s\tremaining: 20.4s\n",
      "95:\tlearn: 1878.3162431\ttotal: 1.39s\tremaining: 20.4s\n",
      "96:\tlearn: 1876.8000097\ttotal: 1.41s\tremaining: 20.4s\n",
      "97:\tlearn: 1874.8023562\ttotal: 1.42s\tremaining: 20.3s\n",
      "98:\tlearn: 1871.5839322\ttotal: 1.44s\tremaining: 20.3s\n",
      "99:\tlearn: 1870.0116328\ttotal: 1.45s\tremaining: 20.3s\n",
      "100:\tlearn: 1868.0112392\ttotal: 1.47s\tremaining: 20.3s\n",
      "101:\tlearn: 1864.5819708\ttotal: 1.48s\tremaining: 20.3s\n",
      "102:\tlearn: 1862.1496277\ttotal: 1.5s\tremaining: 20.3s\n",
      "103:\tlearn: 1860.5949905\ttotal: 1.51s\tremaining: 20.3s\n",
      "104:\tlearn: 1859.4933957\ttotal: 1.53s\tremaining: 20.3s\n",
      "105:\tlearn: 1857.5509413\ttotal: 1.55s\tremaining: 20.3s\n",
      "106:\tlearn: 1855.6039334\ttotal: 1.56s\tremaining: 20.4s\n",
      "107:\tlearn: 1853.3839580\ttotal: 1.58s\tremaining: 20.4s\n",
      "108:\tlearn: 1852.1489077\ttotal: 1.6s\tremaining: 20.4s\n",
      "109:\tlearn: 1850.8859407\ttotal: 1.62s\tremaining: 20.4s\n",
      "110:\tlearn: 1849.5431930\ttotal: 1.63s\tremaining: 20.4s\n",
      "111:\tlearn: 1847.6789099\ttotal: 1.65s\tremaining: 20.4s\n",
      "112:\tlearn: 1846.2025287\ttotal: 1.66s\tremaining: 20.4s\n",
      "113:\tlearn: 1844.8668934\ttotal: 1.68s\tremaining: 20.4s\n",
      "114:\tlearn: 1843.7471381\ttotal: 1.7s\tremaining: 20.4s\n",
      "115:\tlearn: 1840.6085412\ttotal: 1.72s\tremaining: 20.5s\n",
      "116:\tlearn: 1838.7794962\ttotal: 1.74s\tremaining: 20.5s\n",
      "117:\tlearn: 1837.9592907\ttotal: 1.75s\tremaining: 20.5s\n",
      "118:\tlearn: 1836.6115843\ttotal: 1.77s\tremaining: 20.5s\n",
      "119:\tlearn: 1835.1977444\ttotal: 1.78s\tremaining: 20.5s\n",
      "120:\tlearn: 1834.0279102\ttotal: 1.8s\tremaining: 20.5s\n",
      "121:\tlearn: 1832.7980781\ttotal: 1.82s\tremaining: 20.5s\n",
      "122:\tlearn: 1831.3595303\ttotal: 1.83s\tremaining: 20.5s\n",
      "123:\tlearn: 1829.9118615\ttotal: 1.86s\tremaining: 20.6s\n",
      "124:\tlearn: 1828.3772930\ttotal: 1.88s\tremaining: 20.6s\n",
      "125:\tlearn: 1825.8328321\ttotal: 1.9s\tremaining: 20.7s\n",
      "126:\tlearn: 1823.8323442\ttotal: 1.92s\tremaining: 20.8s\n",
      "127:\tlearn: 1821.9928357\ttotal: 1.94s\tremaining: 20.8s\n",
      "128:\tlearn: 1820.2267602\ttotal: 1.96s\tremaining: 20.8s\n",
      "129:\tlearn: 1818.9944309\ttotal: 1.98s\tremaining: 20.8s\n",
      "130:\tlearn: 1818.0227312\ttotal: 1.99s\tremaining: 20.8s\n",
      "131:\tlearn: 1816.1600482\ttotal: 2.01s\tremaining: 20.9s\n",
      "132:\tlearn: 1814.5708051\ttotal: 2.03s\tremaining: 20.9s\n",
      "133:\tlearn: 1813.7495903\ttotal: 2.05s\tremaining: 20.9s\n",
      "134:\tlearn: 1812.4406400\ttotal: 2.06s\tremaining: 20.9s\n",
      "135:\tlearn: 1811.0861811\ttotal: 2.08s\tremaining: 20.9s\n",
      "136:\tlearn: 1809.9986611\ttotal: 2.1s\tremaining: 20.9s\n",
      "137:\tlearn: 1808.3569701\ttotal: 2.12s\tremaining: 20.9s\n",
      "138:\tlearn: 1807.1972632\ttotal: 2.13s\tremaining: 20.9s\n",
      "139:\tlearn: 1805.9707756\ttotal: 2.15s\tremaining: 20.9s\n",
      "140:\tlearn: 1805.1460405\ttotal: 2.17s\tremaining: 20.9s\n",
      "141:\tlearn: 1804.1859421\ttotal: 2.19s\tremaining: 20.9s\n",
      "142:\tlearn: 1802.7445334\ttotal: 2.21s\tremaining: 20.9s\n",
      "143:\tlearn: 1801.9377123\ttotal: 2.22s\tremaining: 20.9s\n",
      "144:\tlearn: 1800.2634778\ttotal: 2.24s\tremaining: 20.9s\n",
      "145:\tlearn: 1799.0857855\ttotal: 2.26s\tremaining: 20.9s\n",
      "146:\tlearn: 1797.8427944\ttotal: 2.27s\tremaining: 20.9s\n",
      "147:\tlearn: 1796.6520376\ttotal: 2.29s\tremaining: 20.9s\n",
      "148:\tlearn: 1795.2737851\ttotal: 2.3s\tremaining: 20.9s\n",
      "149:\tlearn: 1794.1955512\ttotal: 2.32s\tremaining: 20.9s\n",
      "150:\tlearn: 1792.9056252\ttotal: 2.34s\tremaining: 20.9s\n",
      "151:\tlearn: 1792.1538238\ttotal: 2.36s\tremaining: 20.9s\n",
      "152:\tlearn: 1791.2350449\ttotal: 2.37s\tremaining: 20.9s\n",
      "153:\tlearn: 1790.4923732\ttotal: 2.38s\tremaining: 20.8s\n",
      "154:\tlearn: 1789.7094017\ttotal: 2.4s\tremaining: 20.8s\n",
      "155:\tlearn: 1788.5266702\ttotal: 2.41s\tremaining: 20.8s\n",
      "156:\tlearn: 1787.5402776\ttotal: 2.42s\tremaining: 20.8s\n",
      "157:\tlearn: 1786.4086616\ttotal: 2.44s\tremaining: 20.7s\n",
      "158:\tlearn: 1785.2009021\ttotal: 2.46s\tremaining: 20.7s\n",
      "159:\tlearn: 1783.8274221\ttotal: 2.47s\tremaining: 20.7s\n",
      "160:\tlearn: 1782.8064640\ttotal: 2.48s\tremaining: 20.7s\n",
      "161:\tlearn: 1782.0693348\ttotal: 2.5s\tremaining: 20.6s\n",
      "162:\tlearn: 1781.4278747\ttotal: 2.52s\tremaining: 20.6s\n"
     ]
    },
    {
     "name": "stdout",
     "output_type": "stream",
     "text": [
      "163:\tlearn: 1780.3200572\ttotal: 2.54s\tremaining: 20.7s\n",
      "164:\tlearn: 1779.3495083\ttotal: 2.58s\tremaining: 20.9s\n",
      "165:\tlearn: 1778.3425196\ttotal: 2.61s\tremaining: 21s\n",
      "166:\tlearn: 1777.2016921\ttotal: 2.63s\tremaining: 21s\n",
      "167:\tlearn: 1776.5186799\ttotal: 2.65s\tremaining: 21s\n",
      "168:\tlearn: 1775.6632020\ttotal: 2.66s\tremaining: 21s\n",
      "169:\tlearn: 1774.6330444\ttotal: 2.68s\tremaining: 21s\n",
      "170:\tlearn: 1773.7176281\ttotal: 2.69s\tremaining: 21s\n",
      "171:\tlearn: 1773.0182339\ttotal: 2.71s\tremaining: 20.9s\n",
      "172:\tlearn: 1772.4108355\ttotal: 2.73s\tremaining: 20.9s\n",
      "173:\tlearn: 1771.7974164\ttotal: 2.75s\tremaining: 20.9s\n",
      "174:\tlearn: 1770.6041458\ttotal: 2.77s\tremaining: 20.9s\n",
      "175:\tlearn: 1769.8430578\ttotal: 2.78s\tremaining: 20.9s\n",
      "176:\tlearn: 1768.9305956\ttotal: 2.8s\tremaining: 20.9s\n",
      "177:\tlearn: 1768.0759213\ttotal: 2.82s\tremaining: 20.9s\n",
      "178:\tlearn: 1766.9815179\ttotal: 2.83s\tremaining: 20.9s\n",
      "179:\tlearn: 1766.0428690\ttotal: 2.85s\tremaining: 20.9s\n",
      "180:\tlearn: 1765.6945854\ttotal: 2.87s\tremaining: 20.9s\n",
      "181:\tlearn: 1765.2066443\ttotal: 2.89s\tremaining: 20.9s\n",
      "182:\tlearn: 1764.7518732\ttotal: 2.91s\tremaining: 20.9s\n",
      "183:\tlearn: 1764.2826703\ttotal: 2.93s\tremaining: 20.9s\n",
      "184:\tlearn: 1763.7254167\ttotal: 2.94s\tremaining: 20.9s\n",
      "185:\tlearn: 1762.8702868\ttotal: 2.96s\tremaining: 20.9s\n",
      "186:\tlearn: 1762.3290441\ttotal: 2.97s\tremaining: 20.9s\n",
      "187:\tlearn: 1761.4861324\ttotal: 2.99s\tremaining: 20.8s\n",
      "188:\tlearn: 1760.7649563\ttotal: 3s\tremaining: 20.8s\n",
      "189:\tlearn: 1760.2852565\ttotal: 3.01s\tremaining: 20.8s\n",
      "190:\tlearn: 1759.9770314\ttotal: 3.03s\tremaining: 20.7s\n",
      "191:\tlearn: 1758.8722223\ttotal: 3.04s\tremaining: 20.7s\n",
      "192:\tlearn: 1758.3151023\ttotal: 3.06s\tremaining: 20.7s\n",
      "193:\tlearn: 1757.4147648\ttotal: 3.07s\tremaining: 20.7s\n",
      "194:\tlearn: 1756.7867211\ttotal: 3.09s\tremaining: 20.7s\n",
      "195:\tlearn: 1756.0483858\ttotal: 3.1s\tremaining: 20.6s\n",
      "196:\tlearn: 1754.8715947\ttotal: 3.12s\tremaining: 20.7s\n",
      "197:\tlearn: 1754.4208088\ttotal: 3.14s\tremaining: 20.6s\n",
      "198:\tlearn: 1753.7044910\ttotal: 3.16s\tremaining: 20.6s\n",
      "199:\tlearn: 1752.7183391\ttotal: 3.18s\tremaining: 20.7s\n",
      "200:\tlearn: 1751.8735592\ttotal: 3.2s\tremaining: 20.7s\n",
      "201:\tlearn: 1751.4221864\ttotal: 3.21s\tremaining: 20.6s\n",
      "202:\tlearn: 1750.4333191\ttotal: 3.23s\tremaining: 20.6s\n",
      "203:\tlearn: 1749.4423091\ttotal: 3.25s\tremaining: 20.6s\n",
      "204:\tlearn: 1749.0399634\ttotal: 3.27s\tremaining: 20.6s\n",
      "205:\tlearn: 1748.5192345\ttotal: 3.28s\tremaining: 20.6s\n",
      "206:\tlearn: 1747.9175202\ttotal: 3.3s\tremaining: 20.6s\n",
      "207:\tlearn: 1747.3534335\ttotal: 3.32s\tremaining: 20.6s\n",
      "208:\tlearn: 1746.5926473\ttotal: 3.34s\tremaining: 20.6s\n",
      "209:\tlearn: 1745.7778354\ttotal: 3.36s\tremaining: 20.6s\n",
      "210:\tlearn: 1745.3645520\ttotal: 3.37s\tremaining: 20.6s\n",
      "211:\tlearn: 1744.9216492\ttotal: 3.39s\tremaining: 20.6s\n",
      "212:\tlearn: 1744.2850807\ttotal: 3.41s\tremaining: 20.6s\n",
      "213:\tlearn: 1743.6502170\ttotal: 3.42s\tremaining: 20.6s\n",
      "214:\tlearn: 1743.0554121\ttotal: 3.44s\tremaining: 20.6s\n",
      "215:\tlearn: 1742.6806979\ttotal: 3.46s\tremaining: 20.6s\n",
      "216:\tlearn: 1742.2585049\ttotal: 3.48s\tremaining: 20.6s\n",
      "217:\tlearn: 1741.3644044\ttotal: 3.5s\tremaining: 20.6s\n",
      "218:\tlearn: 1740.6413023\ttotal: 3.51s\tremaining: 20.6s\n",
      "219:\tlearn: 1740.0100466\ttotal: 3.53s\tremaining: 20.6s\n",
      "220:\tlearn: 1739.1972711\ttotal: 3.55s\tremaining: 20.5s\n",
      "221:\tlearn: 1738.4534461\ttotal: 3.56s\tremaining: 20.5s\n",
      "222:\tlearn: 1737.7877291\ttotal: 3.58s\tremaining: 20.5s\n",
      "223:\tlearn: 1736.9607136\ttotal: 3.59s\tremaining: 20.5s\n",
      "224:\tlearn: 1736.2858707\ttotal: 3.61s\tremaining: 20.4s\n",
      "225:\tlearn: 1735.4782783\ttotal: 3.63s\tremaining: 20.4s\n",
      "226:\tlearn: 1734.9058796\ttotal: 3.64s\tremaining: 20.4s\n",
      "227:\tlearn: 1734.4348613\ttotal: 3.66s\tremaining: 20.4s\n",
      "228:\tlearn: 1733.9430744\ttotal: 3.67s\tremaining: 20.4s\n",
      "229:\tlearn: 1733.5157192\ttotal: 3.69s\tremaining: 20.4s\n",
      "230:\tlearn: 1732.7552934\ttotal: 3.7s\tremaining: 20.3s\n",
      "231:\tlearn: 1732.4278575\ttotal: 3.71s\tremaining: 20.3s\n",
      "232:\tlearn: 1731.4872608\ttotal: 3.73s\tremaining: 20.3s\n",
      "233:\tlearn: 1731.1538327\ttotal: 3.74s\tremaining: 20.3s\n",
      "234:\tlearn: 1730.5165384\ttotal: 3.76s\tremaining: 20.2s\n",
      "235:\tlearn: 1730.1885740\ttotal: 3.77s\tremaining: 20.2s\n",
      "236:\tlearn: 1729.2955045\ttotal: 3.78s\tremaining: 20.2s\n",
      "237:\tlearn: 1729.0072823\ttotal: 3.8s\tremaining: 20.1s\n",
      "238:\tlearn: 1728.5315650\ttotal: 3.82s\tremaining: 20.1s\n",
      "239:\tlearn: 1727.9752325\ttotal: 3.84s\tremaining: 20.2s\n",
      "240:\tlearn: 1727.6221799\ttotal: 3.86s\tremaining: 20.2s\n",
      "241:\tlearn: 1726.9190106\ttotal: 3.88s\tremaining: 20.2s\n",
      "242:\tlearn: 1726.2939690\ttotal: 3.9s\tremaining: 20.2s\n",
      "243:\tlearn: 1725.5348601\ttotal: 3.92s\tremaining: 20.2s\n",
      "244:\tlearn: 1725.1440930\ttotal: 3.94s\tremaining: 20.2s\n",
      "245:\tlearn: 1724.1669474\ttotal: 3.96s\tremaining: 20.2s\n",
      "246:\tlearn: 1723.2638080\ttotal: 3.98s\tremaining: 20.2s\n",
      "247:\tlearn: 1722.8802245\ttotal: 3.99s\tremaining: 20.2s\n",
      "248:\tlearn: 1722.6277975\ttotal: 4.01s\tremaining: 20.2s\n",
      "249:\tlearn: 1721.9329972\ttotal: 4.03s\tremaining: 20.1s\n",
      "250:\tlearn: 1721.4689362\ttotal: 4.05s\tremaining: 20.1s\n",
      "251:\tlearn: 1720.7097209\ttotal: 4.06s\tremaining: 20.1s\n",
      "252:\tlearn: 1720.2765428\ttotal: 4.08s\tremaining: 20.1s\n",
      "253:\tlearn: 1719.7445906\ttotal: 4.1s\tremaining: 20.1s\n",
      "254:\tlearn: 1719.4854555\ttotal: 4.12s\tremaining: 20.1s\n",
      "255:\tlearn: 1718.9695708\ttotal: 4.13s\tremaining: 20.1s\n",
      "256:\tlearn: 1718.5884494\ttotal: 4.15s\tremaining: 20.1s\n",
      "257:\tlearn: 1717.8182085\ttotal: 4.16s\tremaining: 20s\n",
      "258:\tlearn: 1717.2942738\ttotal: 4.18s\tremaining: 20s\n",
      "259:\tlearn: 1716.8599991\ttotal: 4.19s\tremaining: 20s\n",
      "260:\tlearn: 1716.2421904\ttotal: 4.21s\tremaining: 20s\n",
      "261:\tlearn: 1715.5996664\ttotal: 4.22s\tremaining: 20s\n",
      "262:\tlearn: 1715.1802079\ttotal: 4.24s\tremaining: 19.9s\n",
      "263:\tlearn: 1714.7056518\ttotal: 4.26s\tremaining: 19.9s\n",
      "264:\tlearn: 1714.3074398\ttotal: 4.27s\tremaining: 19.9s\n",
      "265:\tlearn: 1713.9391788\ttotal: 4.29s\tremaining: 19.9s\n",
      "266:\tlearn: 1713.3104521\ttotal: 4.31s\tremaining: 19.9s\n",
      "267:\tlearn: 1712.6778411\ttotal: 4.33s\tremaining: 19.9s\n",
      "268:\tlearn: 1712.1748540\ttotal: 4.34s\tremaining: 19.9s\n",
      "269:\tlearn: 1711.7976588\ttotal: 4.36s\tremaining: 19.9s\n",
      "270:\tlearn: 1711.1409856\ttotal: 4.38s\tremaining: 19.9s\n",
      "271:\tlearn: 1710.5248952\ttotal: 4.4s\tremaining: 19.8s\n",
      "272:\tlearn: 1710.1215663\ttotal: 4.41s\tremaining: 19.8s\n",
      "273:\tlearn: 1709.8323680\ttotal: 4.43s\tremaining: 19.8s\n",
      "274:\tlearn: 1709.3865330\ttotal: 4.45s\tremaining: 19.8s\n",
      "275:\tlearn: 1709.0081985\ttotal: 4.46s\tremaining: 19.8s\n",
      "276:\tlearn: 1708.3470766\ttotal: 4.48s\tremaining: 19.8s\n",
      "277:\tlearn: 1707.9201611\ttotal: 4.49s\tremaining: 19.7s\n",
      "278:\tlearn: 1707.5596290\ttotal: 4.51s\tremaining: 19.7s\n",
      "279:\tlearn: 1707.2520152\ttotal: 4.52s\tremaining: 19.7s\n",
      "280:\tlearn: 1706.6513285\ttotal: 4.53s\tremaining: 19.7s\n",
      "281:\tlearn: 1706.4597589\ttotal: 4.54s\tremaining: 19.6s\n",
      "282:\tlearn: 1705.8913543\ttotal: 4.56s\tremaining: 19.6s\n",
      "283:\tlearn: 1705.3760954\ttotal: 4.58s\tremaining: 19.6s\n",
      "284:\tlearn: 1704.8908494\ttotal: 4.59s\tremaining: 19.6s\n",
      "285:\tlearn: 1704.2904809\ttotal: 4.6s\tremaining: 19.5s\n",
      "286:\tlearn: 1703.7547363\ttotal: 4.62s\tremaining: 19.5s\n",
      "287:\tlearn: 1703.4363036\ttotal: 4.63s\tremaining: 19.5s\n",
      "288:\tlearn: 1702.9350627\ttotal: 4.65s\tremaining: 19.5s\n",
      "289:\tlearn: 1702.6002086\ttotal: 4.66s\tremaining: 19.5s\n",
      "290:\tlearn: 1702.2269425\ttotal: 4.68s\tremaining: 19.4s\n",
      "291:\tlearn: 1701.9042106\ttotal: 4.69s\tremaining: 19.4s\n",
      "292:\tlearn: 1701.4668527\ttotal: 4.71s\tremaining: 19.4s\n",
      "293:\tlearn: 1700.9303960\ttotal: 4.72s\tremaining: 19.4s\n",
      "294:\tlearn: 1700.7235060\ttotal: 4.73s\tremaining: 19.3s\n",
      "295:\tlearn: 1700.2034154\ttotal: 4.75s\tremaining: 19.3s\n",
      "296:\tlearn: 1699.5768651\ttotal: 4.76s\tremaining: 19.3s\n",
      "297:\tlearn: 1699.2646426\ttotal: 4.78s\tremaining: 19.3s\n",
      "298:\tlearn: 1699.0784179\ttotal: 4.79s\tremaining: 19.2s\n",
      "299:\tlearn: 1698.6489419\ttotal: 4.8s\tremaining: 19.2s\n",
      "300:\tlearn: 1698.4349810\ttotal: 4.82s\tremaining: 19.2s\n",
      "301:\tlearn: 1698.0371750\ttotal: 4.83s\tremaining: 19.2s\n",
      "302:\tlearn: 1697.6977311\ttotal: 4.85s\tremaining: 19.2s\n",
      "303:\tlearn: 1697.3078191\ttotal: 4.87s\tremaining: 19.2s\n",
      "304:\tlearn: 1696.7061668\ttotal: 4.89s\tremaining: 19.2s\n",
      "305:\tlearn: 1696.2444189\ttotal: 4.91s\tremaining: 19.1s\n",
      "306:\tlearn: 1695.4805897\ttotal: 4.92s\tremaining: 19.1s\n",
      "307:\tlearn: 1695.0019193\ttotal: 4.93s\tremaining: 19.1s\n",
      "308:\tlearn: 1694.4908281\ttotal: 4.95s\tremaining: 19.1s\n",
      "309:\tlearn: 1693.9567306\ttotal: 4.96s\tremaining: 19.1s\n",
      "310:\tlearn: 1693.5364843\ttotal: 4.98s\tremaining: 19s\n",
      "311:\tlearn: 1693.2597809\ttotal: 4.99s\tremaining: 19s\n",
      "312:\tlearn: 1692.9490147\ttotal: 5s\tremaining: 19s\n",
      "313:\tlearn: 1692.5279466\ttotal: 5.02s\tremaining: 19s\n",
      "314:\tlearn: 1692.2016330\ttotal: 5.03s\tremaining: 18.9s\n",
      "315:\tlearn: 1691.7183645\ttotal: 5.05s\tremaining: 18.9s\n",
      "316:\tlearn: 1691.2435372\ttotal: 5.06s\tremaining: 18.9s\n"
     ]
    },
    {
     "name": "stdout",
     "output_type": "stream",
     "text": [
      "317:\tlearn: 1690.7612548\ttotal: 5.07s\tremaining: 18.9s\n",
      "318:\tlearn: 1690.3957887\ttotal: 5.09s\tremaining: 18.9s\n",
      "319:\tlearn: 1689.9391130\ttotal: 5.11s\tremaining: 18.8s\n",
      "320:\tlearn: 1689.6135245\ttotal: 5.12s\tremaining: 18.8s\n",
      "321:\tlearn: 1689.2054369\ttotal: 5.14s\tremaining: 18.8s\n",
      "322:\tlearn: 1688.7651796\ttotal: 5.16s\tremaining: 18.8s\n",
      "323:\tlearn: 1688.6026717\ttotal: 5.17s\tremaining: 18.8s\n",
      "324:\tlearn: 1688.2329584\ttotal: 5.19s\tremaining: 18.8s\n",
      "325:\tlearn: 1687.8140836\ttotal: 5.2s\tremaining: 18.7s\n",
      "326:\tlearn: 1687.4901201\ttotal: 5.22s\tremaining: 18.7s\n",
      "327:\tlearn: 1687.0701195\ttotal: 5.23s\tremaining: 18.7s\n",
      "328:\tlearn: 1686.5476712\ttotal: 5.25s\tremaining: 18.7s\n",
      "329:\tlearn: 1686.2670655\ttotal: 5.26s\tremaining: 18.7s\n",
      "330:\tlearn: 1685.7878588\ttotal: 5.28s\tremaining: 18.7s\n",
      "331:\tlearn: 1685.4458159\ttotal: 5.3s\tremaining: 18.6s\n",
      "332:\tlearn: 1684.9482170\ttotal: 5.31s\tremaining: 18.6s\n",
      "333:\tlearn: 1684.6198032\ttotal: 5.33s\tremaining: 18.6s\n",
      "334:\tlearn: 1684.1592731\ttotal: 5.34s\tremaining: 18.6s\n",
      "335:\tlearn: 1683.9051774\ttotal: 5.36s\tremaining: 18.6s\n",
      "336:\tlearn: 1683.5441880\ttotal: 5.37s\tremaining: 18.5s\n",
      "337:\tlearn: 1683.2154518\ttotal: 5.38s\tremaining: 18.5s\n",
      "338:\tlearn: 1682.9846239\ttotal: 5.4s\tremaining: 18.5s\n",
      "339:\tlearn: 1682.6626582\ttotal: 5.41s\tremaining: 18.5s\n",
      "340:\tlearn: 1682.3599893\ttotal: 5.42s\tremaining: 18.4s\n",
      "341:\tlearn: 1682.0231686\ttotal: 5.44s\tremaining: 18.4s\n",
      "342:\tlearn: 1681.6566878\ttotal: 5.45s\tremaining: 18.4s\n",
      "343:\tlearn: 1681.3595436\ttotal: 5.47s\tremaining: 18.4s\n",
      "344:\tlearn: 1680.9657661\ttotal: 5.48s\tremaining: 18.4s\n",
      "345:\tlearn: 1680.7283451\ttotal: 5.49s\tremaining: 18.3s\n",
      "346:\tlearn: 1680.4165883\ttotal: 5.51s\tremaining: 18.3s\n",
      "347:\tlearn: 1679.9575261\ttotal: 5.53s\tremaining: 18.3s\n",
      "348:\tlearn: 1679.6410111\ttotal: 5.54s\tremaining: 18.3s\n",
      "349:\tlearn: 1679.2989944\ttotal: 5.55s\tremaining: 18.2s\n",
      "350:\tlearn: 1678.7505691\ttotal: 5.57s\tremaining: 18.2s\n",
      "351:\tlearn: 1678.5571695\ttotal: 5.58s\tremaining: 18.2s\n",
      "352:\tlearn: 1678.3051057\ttotal: 5.6s\tremaining: 18.2s\n",
      "353:\tlearn: 1677.8873955\ttotal: 5.61s\tremaining: 18.2s\n",
      "354:\tlearn: 1677.7322439\ttotal: 5.63s\tremaining: 18.2s\n",
      "355:\tlearn: 1677.4428999\ttotal: 5.64s\tremaining: 18.1s\n",
      "356:\tlearn: 1677.0703183\ttotal: 5.66s\tremaining: 18.1s\n",
      "357:\tlearn: 1676.5594120\ttotal: 5.67s\tremaining: 18.1s\n",
      "358:\tlearn: 1676.2318277\ttotal: 5.69s\tremaining: 18.1s\n",
      "359:\tlearn: 1675.7703877\ttotal: 5.71s\tremaining: 18.1s\n",
      "360:\tlearn: 1675.3629548\ttotal: 5.72s\tremaining: 18s\n",
      "361:\tlearn: 1675.0863207\ttotal: 5.73s\tremaining: 18s\n",
      "362:\tlearn: 1674.9416358\ttotal: 5.75s\tremaining: 18s\n",
      "363:\tlearn: 1674.6110458\ttotal: 5.76s\tremaining: 18s\n",
      "364:\tlearn: 1674.3443997\ttotal: 5.78s\tremaining: 18s\n",
      "365:\tlearn: 1674.0307493\ttotal: 5.79s\tremaining: 17.9s\n",
      "366:\tlearn: 1673.6458300\ttotal: 5.8s\tremaining: 17.9s\n",
      "367:\tlearn: 1673.2891908\ttotal: 5.82s\tremaining: 17.9s\n",
      "368:\tlearn: 1673.1427528\ttotal: 5.84s\tremaining: 17.9s\n",
      "369:\tlearn: 1672.8496198\ttotal: 5.85s\tremaining: 17.9s\n",
      "370:\tlearn: 1672.4682941\ttotal: 5.87s\tremaining: 17.9s\n",
      "371:\tlearn: 1672.2095593\ttotal: 5.89s\tremaining: 17.9s\n",
      "372:\tlearn: 1671.6136743\ttotal: 5.9s\tremaining: 17.8s\n",
      "373:\tlearn: 1671.2106347\ttotal: 5.92s\tremaining: 17.8s\n",
      "374:\tlearn: 1670.8828201\ttotal: 5.93s\tremaining: 17.8s\n",
      "375:\tlearn: 1670.4729927\ttotal: 5.94s\tremaining: 17.8s\n",
      "376:\tlearn: 1670.1033995\ttotal: 5.96s\tremaining: 17.8s\n",
      "377:\tlearn: 1669.7505492\ttotal: 5.97s\tremaining: 17.7s\n",
      "378:\tlearn: 1669.5162565\ttotal: 5.99s\tremaining: 17.7s\n",
      "379:\tlearn: 1669.1260254\ttotal: 6s\tremaining: 17.7s\n",
      "380:\tlearn: 1668.7378717\ttotal: 6.02s\tremaining: 17.7s\n",
      "381:\tlearn: 1668.4086946\ttotal: 6.03s\tremaining: 17.7s\n",
      "382:\tlearn: 1668.2590670\ttotal: 6.05s\tremaining: 17.6s\n",
      "383:\tlearn: 1668.0651738\ttotal: 6.06s\tremaining: 17.6s\n",
      "384:\tlearn: 1667.7006550\ttotal: 6.08s\tremaining: 17.6s\n",
      "385:\tlearn: 1667.2536760\ttotal: 6.09s\tremaining: 17.6s\n",
      "386:\tlearn: 1666.7880004\ttotal: 6.1s\tremaining: 17.6s\n",
      "387:\tlearn: 1666.1187052\ttotal: 6.12s\tremaining: 17.5s\n",
      "388:\tlearn: 1665.7491589\ttotal: 6.13s\tremaining: 17.5s\n",
      "389:\tlearn: 1665.4572664\ttotal: 6.15s\tremaining: 17.5s\n",
      "390:\tlearn: 1665.1603867\ttotal: 6.16s\tremaining: 17.5s\n",
      "391:\tlearn: 1664.8103511\ttotal: 6.18s\tremaining: 17.5s\n",
      "392:\tlearn: 1664.4988522\ttotal: 6.2s\tremaining: 17.5s\n",
      "393:\tlearn: 1664.1773844\ttotal: 6.21s\tremaining: 17.4s\n",
      "394:\tlearn: 1663.8532758\ttotal: 6.23s\tremaining: 17.4s\n",
      "395:\tlearn: 1663.5069441\ttotal: 6.24s\tremaining: 17.4s\n",
      "396:\tlearn: 1663.2027476\ttotal: 6.26s\tremaining: 17.4s\n",
      "397:\tlearn: 1662.9030617\ttotal: 6.28s\tremaining: 17.4s\n",
      "398:\tlearn: 1662.4609671\ttotal: 6.29s\tremaining: 17.4s\n",
      "399:\tlearn: 1662.0743241\ttotal: 6.31s\tremaining: 17.3s\n",
      "400:\tlearn: 1661.7377533\ttotal: 6.32s\tremaining: 17.3s\n",
      "401:\tlearn: 1661.4091287\ttotal: 6.33s\tremaining: 17.3s\n",
      "402:\tlearn: 1660.9493557\ttotal: 6.35s\tremaining: 17.3s\n",
      "403:\tlearn: 1660.8294120\ttotal: 6.36s\tremaining: 17.3s\n",
      "404:\tlearn: 1660.3748171\ttotal: 6.38s\tremaining: 17.2s\n",
      "405:\tlearn: 1660.2079847\ttotal: 6.39s\tremaining: 17.2s\n",
      "406:\tlearn: 1659.9384287\ttotal: 6.41s\tremaining: 17.2s\n",
      "407:\tlearn: 1659.7401491\ttotal: 6.42s\tremaining: 17.2s\n",
      "408:\tlearn: 1659.3661634\ttotal: 6.44s\tremaining: 17.2s\n",
      "409:\tlearn: 1659.0891009\ttotal: 6.45s\tremaining: 17.2s\n",
      "410:\tlearn: 1658.8048683\ttotal: 6.47s\tremaining: 17.1s\n",
      "411:\tlearn: 1658.5676046\ttotal: 6.48s\tremaining: 17.1s\n",
      "412:\tlearn: 1658.2674219\ttotal: 6.49s\tremaining: 17.1s\n",
      "413:\tlearn: 1657.9721430\ttotal: 6.51s\tremaining: 17.1s\n",
      "414:\tlearn: 1657.6587909\ttotal: 6.52s\tremaining: 17.1s\n",
      "415:\tlearn: 1657.3067545\ttotal: 6.54s\tremaining: 17s\n",
      "416:\tlearn: 1657.0445735\ttotal: 6.55s\tremaining: 17s\n",
      "417:\tlearn: 1656.7583277\ttotal: 6.56s\tremaining: 17s\n",
      "418:\tlearn: 1656.4291461\ttotal: 6.58s\tremaining: 17s\n",
      "419:\tlearn: 1656.0448898\ttotal: 6.59s\tremaining: 17s\n",
      "420:\tlearn: 1655.8580775\ttotal: 6.61s\tremaining: 16.9s\n",
      "421:\tlearn: 1655.7763156\ttotal: 6.65s\tremaining: 17s\n",
      "422:\tlearn: 1655.4359749\ttotal: 6.66s\tremaining: 17s\n",
      "423:\tlearn: 1655.1930503\ttotal: 6.68s\tremaining: 16.9s\n",
      "424:\tlearn: 1654.8956178\ttotal: 6.69s\tremaining: 16.9s\n",
      "425:\tlearn: 1654.6230823\ttotal: 6.71s\tremaining: 16.9s\n",
      "426:\tlearn: 1654.3280613\ttotal: 6.72s\tremaining: 16.9s\n",
      "427:\tlearn: 1654.1329788\ttotal: 6.73s\tremaining: 16.9s\n",
      "428:\tlearn: 1654.0012885\ttotal: 6.75s\tremaining: 16.8s\n",
      "429:\tlearn: 1653.7562437\ttotal: 6.76s\tremaining: 16.8s\n",
      "430:\tlearn: 1653.5077082\ttotal: 6.78s\tremaining: 16.8s\n",
      "431:\tlearn: 1653.1014334\ttotal: 6.79s\tremaining: 16.8s\n",
      "432:\tlearn: 1652.7680902\ttotal: 6.81s\tremaining: 16.8s\n",
      "433:\tlearn: 1652.3657056\ttotal: 6.83s\tremaining: 16.8s\n",
      "434:\tlearn: 1652.0737510\ttotal: 6.85s\tremaining: 16.8s\n",
      "435:\tlearn: 1651.8242227\ttotal: 6.87s\tremaining: 16.8s\n",
      "436:\tlearn: 1651.5106696\ttotal: 6.88s\tremaining: 16.7s\n",
      "437:\tlearn: 1651.1091861\ttotal: 6.9s\tremaining: 16.7s\n",
      "438:\tlearn: 1650.8777998\ttotal: 6.92s\tremaining: 16.7s\n",
      "439:\tlearn: 1650.6880071\ttotal: 6.94s\tremaining: 16.7s\n",
      "440:\tlearn: 1650.4133557\ttotal: 6.96s\tremaining: 16.7s\n",
      "441:\tlearn: 1650.1288992\ttotal: 6.97s\tremaining: 16.7s\n",
      "442:\tlearn: 1649.7766121\ttotal: 6.99s\tremaining: 16.7s\n",
      "443:\tlearn: 1649.5350111\ttotal: 7.01s\tremaining: 16.7s\n",
      "444:\tlearn: 1649.3376691\ttotal: 7.03s\tremaining: 16.7s\n",
      "445:\tlearn: 1648.9038148\ttotal: 7.04s\tremaining: 16.6s\n",
      "446:\tlearn: 1648.6788589\ttotal: 7.06s\tremaining: 16.6s\n",
      "447:\tlearn: 1648.3252400\ttotal: 7.08s\tremaining: 16.6s\n",
      "448:\tlearn: 1648.0121837\ttotal: 7.09s\tremaining: 16.6s\n",
      "449:\tlearn: 1647.7382372\ttotal: 7.11s\tremaining: 16.6s\n",
      "450:\tlearn: 1647.4936406\ttotal: 7.12s\tremaining: 16.6s\n",
      "451:\tlearn: 1647.2511183\ttotal: 7.14s\tremaining: 16.6s\n",
      "452:\tlearn: 1647.1842305\ttotal: 7.15s\tremaining: 16.5s\n",
      "453:\tlearn: 1646.9240384\ttotal: 7.17s\tremaining: 16.5s\n",
      "454:\tlearn: 1646.7270741\ttotal: 7.18s\tremaining: 16.5s\n",
      "455:\tlearn: 1646.1994124\ttotal: 7.2s\tremaining: 16.5s\n",
      "456:\tlearn: 1645.9611200\ttotal: 7.21s\tremaining: 16.5s\n",
      "457:\tlearn: 1645.6358227\ttotal: 7.23s\tremaining: 16.5s\n",
      "458:\tlearn: 1645.3552883\ttotal: 7.25s\tremaining: 16.4s\n",
      "459:\tlearn: 1644.9355907\ttotal: 7.26s\tremaining: 16.4s\n",
      "460:\tlearn: 1644.7444124\ttotal: 7.28s\tremaining: 16.4s\n",
      "461:\tlearn: 1644.4816494\ttotal: 7.3s\tremaining: 16.4s\n",
      "462:\tlearn: 1644.3699289\ttotal: 7.32s\tremaining: 16.4s\n",
      "463:\tlearn: 1644.1971566\ttotal: 7.33s\tremaining: 16.4s\n",
      "464:\tlearn: 1643.9662459\ttotal: 7.35s\tremaining: 16.4s\n",
      "465:\tlearn: 1643.7022731\ttotal: 7.37s\tremaining: 16.3s\n",
      "466:\tlearn: 1643.4574187\ttotal: 7.38s\tremaining: 16.3s\n",
      "467:\tlearn: 1643.0725478\ttotal: 7.4s\tremaining: 16.3s\n",
      "468:\tlearn: 1642.8383838\ttotal: 7.42s\tremaining: 16.3s\n"
     ]
    },
    {
     "name": "stdout",
     "output_type": "stream",
     "text": [
      "469:\tlearn: 1642.6247701\ttotal: 7.43s\tremaining: 16.3s\n",
      "470:\tlearn: 1642.3067287\ttotal: 7.45s\tremaining: 16.3s\n",
      "471:\tlearn: 1642.0031917\ttotal: 7.46s\tremaining: 16.3s\n",
      "472:\tlearn: 1641.9420508\ttotal: 7.48s\tremaining: 16.2s\n",
      "473:\tlearn: 1641.7306563\ttotal: 7.49s\tremaining: 16.2s\n",
      "474:\tlearn: 1641.3886913\ttotal: 7.51s\tremaining: 16.2s\n",
      "475:\tlearn: 1641.0425902\ttotal: 7.52s\tremaining: 16.2s\n",
      "476:\tlearn: 1640.7807154\ttotal: 7.54s\tremaining: 16.2s\n",
      "477:\tlearn: 1640.4334689\ttotal: 7.55s\tremaining: 16.1s\n",
      "478:\tlearn: 1640.1037298\ttotal: 7.57s\tremaining: 16.1s\n",
      "479:\tlearn: 1639.7724031\ttotal: 7.58s\tremaining: 16.1s\n",
      "480:\tlearn: 1639.5225963\ttotal: 7.59s\tremaining: 16.1s\n",
      "481:\tlearn: 1639.3505098\ttotal: 7.61s\tremaining: 16.1s\n",
      "482:\tlearn: 1639.1382026\ttotal: 7.63s\tremaining: 16.1s\n",
      "483:\tlearn: 1638.8729797\ttotal: 7.64s\tremaining: 16s\n",
      "484:\tlearn: 1638.4225928\ttotal: 7.66s\tremaining: 16s\n",
      "485:\tlearn: 1638.0536278\ttotal: 7.68s\tremaining: 16s\n",
      "486:\tlearn: 1637.8840677\ttotal: 7.7s\tremaining: 16s\n",
      "487:\tlearn: 1637.6249980\ttotal: 7.71s\tremaining: 16s\n",
      "488:\tlearn: 1637.2954809\ttotal: 7.73s\tremaining: 16s\n",
      "489:\tlearn: 1637.0712135\ttotal: 7.75s\tremaining: 16s\n",
      "490:\tlearn: 1636.6812394\ttotal: 7.76s\tremaining: 16s\n",
      "491:\tlearn: 1636.5382880\ttotal: 7.78s\tremaining: 15.9s\n",
      "492:\tlearn: 1636.3002216\ttotal: 7.79s\tremaining: 15.9s\n",
      "493:\tlearn: 1636.1388778\ttotal: 7.81s\tremaining: 15.9s\n",
      "494:\tlearn: 1635.9206399\ttotal: 7.83s\tremaining: 15.9s\n",
      "495:\tlearn: 1635.7581232\ttotal: 7.85s\tremaining: 15.9s\n",
      "496:\tlearn: 1635.6215612\ttotal: 7.87s\tremaining: 15.9s\n",
      "497:\tlearn: 1635.4134188\ttotal: 7.89s\tremaining: 15.9s\n",
      "498:\tlearn: 1635.0978967\ttotal: 7.9s\tremaining: 15.8s\n",
      "499:\tlearn: 1634.8493187\ttotal: 7.92s\tremaining: 15.8s\n",
      "500:\tlearn: 1634.4774240\ttotal: 7.93s\tremaining: 15.8s\n",
      "501:\tlearn: 1634.3181900\ttotal: 7.94s\tremaining: 15.8s\n",
      "502:\tlearn: 1634.1156262\ttotal: 7.96s\tremaining: 15.8s\n",
      "503:\tlearn: 1633.8151769\ttotal: 7.97s\tremaining: 15.8s\n",
      "504:\tlearn: 1633.5740651\ttotal: 7.99s\tremaining: 15.7s\n",
      "505:\tlearn: 1633.3320008\ttotal: 8s\tremaining: 15.7s\n",
      "506:\tlearn: 1633.1090455\ttotal: 8.02s\tremaining: 15.7s\n",
      "507:\tlearn: 1632.8715851\ttotal: 8.03s\tremaining: 15.7s\n",
      "508:\tlearn: 1632.5074370\ttotal: 8.04s\tremaining: 15.7s\n",
      "509:\tlearn: 1632.1737969\ttotal: 8.06s\tremaining: 15.6s\n",
      "510:\tlearn: 1632.0094561\ttotal: 8.08s\tremaining: 15.6s\n",
      "511:\tlearn: 1631.8023485\ttotal: 8.1s\tremaining: 15.6s\n",
      "512:\tlearn: 1631.5500326\ttotal: 8.12s\tremaining: 15.6s\n",
      "513:\tlearn: 1631.3011915\ttotal: 8.13s\tremaining: 15.6s\n",
      "514:\tlearn: 1631.1930931\ttotal: 8.15s\tremaining: 15.6s\n",
      "515:\tlearn: 1630.8414622\ttotal: 8.17s\tremaining: 15.6s\n",
      "516:\tlearn: 1630.7165815\ttotal: 8.18s\tremaining: 15.6s\n",
      "517:\tlearn: 1630.5308751\ttotal: 8.2s\tremaining: 15.5s\n",
      "518:\tlearn: 1630.2615915\ttotal: 8.22s\tremaining: 15.5s\n",
      "519:\tlearn: 1630.0412243\ttotal: 8.23s\tremaining: 15.5s\n",
      "520:\tlearn: 1629.7806995\ttotal: 8.25s\tremaining: 15.5s\n",
      "521:\tlearn: 1629.3767696\ttotal: 8.27s\tremaining: 15.5s\n",
      "522:\tlearn: 1629.1936186\ttotal: 8.29s\tremaining: 15.5s\n",
      "523:\tlearn: 1628.9114733\ttotal: 8.3s\tremaining: 15.5s\n",
      "524:\tlearn: 1628.7313050\ttotal: 8.33s\tremaining: 15.5s\n",
      "525:\tlearn: 1628.5408346\ttotal: 8.34s\tremaining: 15.5s\n",
      "526:\tlearn: 1628.3190715\ttotal: 8.36s\tremaining: 15.4s\n",
      "527:\tlearn: 1628.1492869\ttotal: 8.38s\tremaining: 15.4s\n",
      "528:\tlearn: 1627.9617952\ttotal: 8.39s\tremaining: 15.4s\n",
      "529:\tlearn: 1627.7437928\ttotal: 8.41s\tremaining: 15.4s\n",
      "530:\tlearn: 1627.5699816\ttotal: 8.43s\tremaining: 15.4s\n",
      "531:\tlearn: 1627.2887227\ttotal: 8.44s\tremaining: 15.4s\n",
      "532:\tlearn: 1627.0592054\ttotal: 8.46s\tremaining: 15.3s\n",
      "533:\tlearn: 1626.8505580\ttotal: 8.48s\tremaining: 15.3s\n",
      "534:\tlearn: 1626.5782663\ttotal: 8.5s\tremaining: 15.3s\n",
      "535:\tlearn: 1626.3916534\ttotal: 8.52s\tremaining: 15.3s\n",
      "536:\tlearn: 1626.1912066\ttotal: 8.53s\tremaining: 15.3s\n",
      "537:\tlearn: 1626.0353310\ttotal: 8.55s\tremaining: 15.3s\n",
      "538:\tlearn: 1625.7495844\ttotal: 8.56s\tremaining: 15.3s\n",
      "539:\tlearn: 1625.4998581\ttotal: 8.58s\tremaining: 15.3s\n",
      "540:\tlearn: 1625.2297380\ttotal: 8.6s\tremaining: 15.2s\n",
      "541:\tlearn: 1625.0118385\ttotal: 8.61s\tremaining: 15.2s\n",
      "542:\tlearn: 1624.8142004\ttotal: 8.63s\tremaining: 15.2s\n",
      "543:\tlearn: 1624.6663160\ttotal: 8.64s\tremaining: 15.2s\n",
      "544:\tlearn: 1624.4663821\ttotal: 8.66s\tremaining: 15.2s\n",
      "545:\tlearn: 1624.3271749\ttotal: 8.68s\tremaining: 15.2s\n",
      "546:\tlearn: 1623.7705557\ttotal: 8.69s\tremaining: 15.1s\n",
      "547:\tlearn: 1623.6583175\ttotal: 8.71s\tremaining: 15.1s\n",
      "548:\tlearn: 1623.4559475\ttotal: 8.72s\tremaining: 15.1s\n",
      "549:\tlearn: 1623.2311387\ttotal: 8.74s\tremaining: 15.1s\n",
      "550:\tlearn: 1622.9882251\ttotal: 8.76s\tremaining: 15.1s\n",
      "551:\tlearn: 1622.7900985\ttotal: 8.77s\tremaining: 15.1s\n",
      "552:\tlearn: 1622.4792139\ttotal: 8.79s\tremaining: 15.1s\n",
      "553:\tlearn: 1622.2583690\ttotal: 8.81s\tremaining: 15s\n",
      "554:\tlearn: 1622.0568073\ttotal: 8.83s\tremaining: 15s\n",
      "555:\tlearn: 1621.8384296\ttotal: 8.85s\tremaining: 15s\n",
      "556:\tlearn: 1621.5830460\ttotal: 8.86s\tremaining: 15s\n",
      "557:\tlearn: 1621.4124468\ttotal: 8.88s\tremaining: 15s\n",
      "558:\tlearn: 1621.2449988\ttotal: 8.89s\tremaining: 15s\n",
      "559:\tlearn: 1621.0640479\ttotal: 8.91s\tremaining: 15s\n",
      "560:\tlearn: 1621.0073125\ttotal: 8.92s\tremaining: 14.9s\n",
      "561:\tlearn: 1620.7479634\ttotal: 8.94s\tremaining: 14.9s\n",
      "562:\tlearn: 1620.4864071\ttotal: 8.96s\tremaining: 14.9s\n",
      "563:\tlearn: 1620.2278794\ttotal: 8.97s\tremaining: 14.9s\n",
      "564:\tlearn: 1619.9768837\ttotal: 8.99s\tremaining: 14.9s\n",
      "565:\tlearn: 1619.8159917\ttotal: 9.01s\tremaining: 14.9s\n",
      "566:\tlearn: 1619.5721523\ttotal: 9.02s\tremaining: 14.8s\n",
      "567:\tlearn: 1619.4059333\ttotal: 9.04s\tremaining: 14.8s\n",
      "568:\tlearn: 1619.2392698\ttotal: 9.05s\tremaining: 14.8s\n",
      "569:\tlearn: 1619.0480840\ttotal: 9.06s\tremaining: 14.8s\n",
      "570:\tlearn: 1618.8782937\ttotal: 9.08s\tremaining: 14.8s\n",
      "571:\tlearn: 1618.6868975\ttotal: 9.09s\tremaining: 14.8s\n",
      "572:\tlearn: 1618.3915151\ttotal: 9.11s\tremaining: 14.7s\n",
      "573:\tlearn: 1618.2258171\ttotal: 9.12s\tremaining: 14.7s\n",
      "574:\tlearn: 1617.9339904\ttotal: 9.14s\tremaining: 14.7s\n",
      "575:\tlearn: 1617.7863003\ttotal: 9.15s\tremaining: 14.7s\n",
      "576:\tlearn: 1617.6602266\ttotal: 9.17s\tremaining: 14.7s\n",
      "577:\tlearn: 1617.4252631\ttotal: 9.18s\tremaining: 14.6s\n",
      "578:\tlearn: 1617.2614308\ttotal: 9.2s\tremaining: 14.6s\n",
      "579:\tlearn: 1617.1178575\ttotal: 9.21s\tremaining: 14.6s\n",
      "580:\tlearn: 1616.9950341\ttotal: 9.22s\tremaining: 14.6s\n",
      "581:\tlearn: 1616.7934506\ttotal: 9.24s\tremaining: 14.6s\n",
      "582:\tlearn: 1616.5907757\ttotal: 9.25s\tremaining: 14.6s\n",
      "583:\tlearn: 1616.4211984\ttotal: 9.27s\tremaining: 14.5s\n",
      "584:\tlearn: 1616.2534948\ttotal: 9.28s\tremaining: 14.5s\n",
      "585:\tlearn: 1616.1187508\ttotal: 9.29s\tremaining: 14.5s\n",
      "586:\tlearn: 1615.9102714\ttotal: 9.31s\tremaining: 14.5s\n",
      "587:\tlearn: 1615.6694263\ttotal: 9.32s\tremaining: 14.5s\n",
      "588:\tlearn: 1615.4858657\ttotal: 9.33s\tremaining: 14.4s\n",
      "589:\tlearn: 1615.2496437\ttotal: 9.35s\tremaining: 14.4s\n",
      "590:\tlearn: 1615.0177619\ttotal: 9.37s\tremaining: 14.4s\n",
      "591:\tlearn: 1614.7350878\ttotal: 9.38s\tremaining: 14.4s\n",
      "592:\tlearn: 1614.5311921\ttotal: 9.4s\tremaining: 14.4s\n",
      "593:\tlearn: 1614.3651769\ttotal: 9.41s\tremaining: 14.4s\n",
      "594:\tlearn: 1614.2168439\ttotal: 9.43s\tremaining: 14.3s\n",
      "595:\tlearn: 1613.9093149\ttotal: 9.44s\tremaining: 14.3s\n",
      "596:\tlearn: 1613.7399317\ttotal: 9.45s\tremaining: 14.3s\n",
      "597:\tlearn: 1613.5888374\ttotal: 9.47s\tremaining: 14.3s\n",
      "598:\tlearn: 1613.4115710\ttotal: 9.48s\tremaining: 14.3s\n",
      "599:\tlearn: 1613.0893609\ttotal: 9.49s\tremaining: 14.2s\n",
      "600:\tlearn: 1612.8734708\ttotal: 9.51s\tremaining: 14.2s\n",
      "601:\tlearn: 1612.6880209\ttotal: 9.52s\tremaining: 14.2s\n",
      "602:\tlearn: 1612.4306027\ttotal: 9.54s\tremaining: 14.2s\n",
      "603:\tlearn: 1612.2886932\ttotal: 9.55s\tremaining: 14.2s\n",
      "604:\tlearn: 1612.1197086\ttotal: 9.57s\tremaining: 14.2s\n",
      "605:\tlearn: 1611.9062648\ttotal: 9.58s\tremaining: 14.1s\n",
      "606:\tlearn: 1611.6975952\ttotal: 9.6s\tremaining: 14.1s\n",
      "607:\tlearn: 1611.6240421\ttotal: 9.61s\tremaining: 14.1s\n",
      "608:\tlearn: 1611.4952546\ttotal: 9.62s\tremaining: 14.1s\n",
      "609:\tlearn: 1611.3161834\ttotal: 9.64s\tremaining: 14.1s\n",
      "610:\tlearn: 1611.1302134\ttotal: 9.65s\tremaining: 14s\n",
      "611:\tlearn: 1611.0103193\ttotal: 9.66s\tremaining: 14s\n",
      "612:\tlearn: 1610.6466442\ttotal: 9.68s\tremaining: 14s\n",
      "613:\tlearn: 1610.4907825\ttotal: 9.69s\tremaining: 14s\n",
      "614:\tlearn: 1610.3347002\ttotal: 9.71s\tremaining: 14s\n",
      "615:\tlearn: 1610.1343917\ttotal: 9.72s\tremaining: 13.9s\n",
      "616:\tlearn: 1609.9057701\ttotal: 9.73s\tremaining: 13.9s\n",
      "617:\tlearn: 1609.7083243\ttotal: 9.75s\tremaining: 13.9s\n",
      "618:\tlearn: 1609.5045482\ttotal: 9.77s\tremaining: 13.9s\n",
      "619:\tlearn: 1609.3769678\ttotal: 9.79s\tremaining: 13.9s\n",
      "620:\tlearn: 1609.1629880\ttotal: 9.81s\tremaining: 13.9s\n",
      "621:\tlearn: 1608.9990402\ttotal: 9.82s\tremaining: 13.9s\n",
      "622:\tlearn: 1608.8829944\ttotal: 9.84s\tremaining: 13.9s\n",
      "623:\tlearn: 1608.7131382\ttotal: 9.86s\tremaining: 13.8s\n",
      "624:\tlearn: 1608.4731988\ttotal: 9.87s\tremaining: 13.8s\n",
      "625:\tlearn: 1608.3358206\ttotal: 9.89s\tremaining: 13.8s\n",
      "626:\tlearn: 1608.0635130\ttotal: 9.9s\tremaining: 13.8s\n",
      "627:\tlearn: 1607.9349672\ttotal: 9.91s\tremaining: 13.8s\n",
      "628:\tlearn: 1607.8263612\ttotal: 9.93s\tremaining: 13.8s\n",
      "629:\tlearn: 1607.7241185\ttotal: 9.94s\tremaining: 13.7s\n"
     ]
    },
    {
     "name": "stdout",
     "output_type": "stream",
     "text": [
      "630:\tlearn: 1607.6389704\ttotal: 9.96s\tremaining: 13.7s\n",
      "631:\tlearn: 1607.3840739\ttotal: 9.97s\tremaining: 13.7s\n",
      "632:\tlearn: 1607.2535811\ttotal: 9.99s\tremaining: 13.7s\n",
      "633:\tlearn: 1606.9759831\ttotal: 10s\tremaining: 13.7s\n",
      "634:\tlearn: 1606.7940944\ttotal: 10s\tremaining: 13.7s\n",
      "635:\tlearn: 1606.5737296\ttotal: 10s\tremaining: 13.6s\n",
      "636:\tlearn: 1606.4710477\ttotal: 10.1s\tremaining: 13.6s\n",
      "637:\tlearn: 1606.3035036\ttotal: 10.1s\tremaining: 13.6s\n",
      "638:\tlearn: 1606.2000504\ttotal: 10.1s\tremaining: 13.6s\n",
      "639:\tlearn: 1606.0713470\ttotal: 10.1s\tremaining: 13.6s\n",
      "640:\tlearn: 1605.8552223\ttotal: 10.1s\tremaining: 13.6s\n",
      "641:\tlearn: 1605.6368799\ttotal: 10.1s\tremaining: 13.5s\n",
      "642:\tlearn: 1605.4329708\ttotal: 10.1s\tremaining: 13.5s\n",
      "643:\tlearn: 1605.2339579\ttotal: 10.2s\tremaining: 13.5s\n",
      "644:\tlearn: 1605.0540974\ttotal: 10.2s\tremaining: 13.5s\n",
      "645:\tlearn: 1604.9309387\ttotal: 10.2s\tremaining: 13.5s\n",
      "646:\tlearn: 1604.7472276\ttotal: 10.2s\tremaining: 13.5s\n",
      "647:\tlearn: 1604.6283744\ttotal: 10.2s\tremaining: 13.5s\n",
      "648:\tlearn: 1604.4309247\ttotal: 10.3s\tremaining: 13.4s\n",
      "649:\tlearn: 1604.3107274\ttotal: 10.3s\tremaining: 13.4s\n",
      "650:\tlearn: 1604.2175750\ttotal: 10.3s\tremaining: 13.4s\n",
      "651:\tlearn: 1604.0987493\ttotal: 10.3s\tremaining: 13.4s\n",
      "652:\tlearn: 1603.9212556\ttotal: 10.3s\tremaining: 13.4s\n",
      "653:\tlearn: 1603.7545153\ttotal: 10.3s\tremaining: 13.4s\n",
      "654:\tlearn: 1603.5565381\ttotal: 10.4s\tremaining: 13.4s\n",
      "655:\tlearn: 1603.3040374\ttotal: 10.4s\tremaining: 13.3s\n",
      "656:\tlearn: 1603.1600884\ttotal: 10.4s\tremaining: 13.3s\n",
      "657:\tlearn: 1602.9926104\ttotal: 10.4s\tremaining: 13.3s\n",
      "658:\tlearn: 1602.7897699\ttotal: 10.4s\tremaining: 13.3s\n",
      "659:\tlearn: 1602.6990781\ttotal: 10.4s\tremaining: 13.3s\n",
      "660:\tlearn: 1602.5132343\ttotal: 10.4s\tremaining: 13.3s\n",
      "661:\tlearn: 1602.4125157\ttotal: 10.5s\tremaining: 13.2s\n",
      "662:\tlearn: 1602.1858724\ttotal: 10.5s\tremaining: 13.2s\n",
      "663:\tlearn: 1602.0814864\ttotal: 10.5s\tremaining: 13.2s\n",
      "664:\tlearn: 1601.8744944\ttotal: 10.5s\tremaining: 13.2s\n",
      "665:\tlearn: 1601.6734599\ttotal: 10.5s\tremaining: 13.2s\n",
      "666:\tlearn: 1601.5135751\ttotal: 10.5s\tremaining: 13.1s\n",
      "667:\tlearn: 1601.3736959\ttotal: 10.5s\tremaining: 13.1s\n",
      "668:\tlearn: 1601.1887654\ttotal: 10.6s\tremaining: 13.1s\n",
      "669:\tlearn: 1601.0140436\ttotal: 10.6s\tremaining: 13.1s\n",
      "670:\tlearn: 1600.8538176\ttotal: 10.6s\tremaining: 13.1s\n",
      "671:\tlearn: 1600.7599241\ttotal: 10.6s\tremaining: 13.1s\n",
      "672:\tlearn: 1600.6321209\ttotal: 10.6s\tremaining: 13s\n",
      "673:\tlearn: 1600.4486817\ttotal: 10.6s\tremaining: 13s\n",
      "674:\tlearn: 1600.2785451\ttotal: 10.6s\tremaining: 13s\n",
      "675:\tlearn: 1600.1154504\ttotal: 10.7s\tremaining: 13s\n",
      "676:\tlearn: 1599.9529321\ttotal: 10.7s\tremaining: 13s\n",
      "677:\tlearn: 1599.7376068\ttotal: 10.7s\tremaining: 12.9s\n",
      "678:\tlearn: 1599.5934548\ttotal: 10.7s\tremaining: 12.9s\n",
      "679:\tlearn: 1599.4476471\ttotal: 10.7s\tremaining: 12.9s\n",
      "680:\tlearn: 1599.2979269\ttotal: 10.7s\tremaining: 12.9s\n",
      "681:\tlearn: 1599.1640701\ttotal: 10.7s\tremaining: 12.9s\n",
      "682:\tlearn: 1599.0452928\ttotal: 10.7s\tremaining: 12.9s\n",
      "683:\tlearn: 1598.9458954\ttotal: 10.8s\tremaining: 12.8s\n",
      "684:\tlearn: 1598.8006967\ttotal: 10.8s\tremaining: 12.8s\n",
      "685:\tlearn: 1598.5950307\ttotal: 10.8s\tremaining: 12.8s\n",
      "686:\tlearn: 1598.4503075\ttotal: 10.8s\tremaining: 12.8s\n",
      "687:\tlearn: 1598.3528552\ttotal: 10.8s\tremaining: 12.8s\n",
      "688:\tlearn: 1598.2376832\ttotal: 10.8s\tremaining: 12.8s\n",
      "689:\tlearn: 1598.0893282\ttotal: 10.9s\tremaining: 12.8s\n",
      "690:\tlearn: 1597.9486255\ttotal: 10.9s\tremaining: 12.7s\n",
      "691:\tlearn: 1597.8267110\ttotal: 10.9s\tremaining: 12.7s\n",
      "692:\tlearn: 1597.7227165\ttotal: 10.9s\tremaining: 12.7s\n",
      "693:\tlearn: 1597.5180101\ttotal: 10.9s\tremaining: 12.7s\n",
      "694:\tlearn: 1597.3030472\ttotal: 10.9s\tremaining: 12.7s\n",
      "695:\tlearn: 1597.2209730\ttotal: 11s\tremaining: 12.7s\n",
      "696:\tlearn: 1597.0359022\ttotal: 11s\tremaining: 12.6s\n",
      "697:\tlearn: 1596.8952429\ttotal: 11s\tremaining: 12.6s\n",
      "698:\tlearn: 1596.7455433\ttotal: 11s\tremaining: 12.6s\n",
      "699:\tlearn: 1596.6615770\ttotal: 11s\tremaining: 12.6s\n",
      "700:\tlearn: 1596.4515863\ttotal: 11s\tremaining: 12.6s\n",
      "701:\tlearn: 1596.2604564\ttotal: 11s\tremaining: 12.6s\n",
      "702:\tlearn: 1596.1495560\ttotal: 11.1s\tremaining: 12.5s\n",
      "703:\tlearn: 1595.9448014\ttotal: 11.1s\tremaining: 12.5s\n",
      "704:\tlearn: 1595.7788873\ttotal: 11.1s\tremaining: 12.5s\n",
      "705:\tlearn: 1595.7484725\ttotal: 11.1s\tremaining: 12.5s\n",
      "706:\tlearn: 1595.6476344\ttotal: 11.1s\tremaining: 12.5s\n",
      "707:\tlearn: 1595.4698928\ttotal: 11.2s\tremaining: 12.5s\n",
      "708:\tlearn: 1595.3434450\ttotal: 11.2s\tremaining: 12.5s\n",
      "709:\tlearn: 1595.2014616\ttotal: 11.2s\tremaining: 12.4s\n",
      "710:\tlearn: 1595.0588121\ttotal: 11.2s\tremaining: 12.4s\n",
      "711:\tlearn: 1594.8959312\ttotal: 11.2s\tremaining: 12.4s\n",
      "712:\tlearn: 1594.8038414\ttotal: 11.2s\tremaining: 12.4s\n",
      "713:\tlearn: 1594.6014038\ttotal: 11.3s\tremaining: 12.4s\n",
      "714:\tlearn: 1594.4628847\ttotal: 11.3s\tremaining: 12.4s\n",
      "715:\tlearn: 1594.3761030\ttotal: 11.3s\tremaining: 12.4s\n",
      "716:\tlearn: 1594.2364172\ttotal: 11.3s\tremaining: 12.3s\n",
      "717:\tlearn: 1594.1706609\ttotal: 11.3s\tremaining: 12.3s\n",
      "718:\tlearn: 1594.0624947\ttotal: 11.3s\tremaining: 12.3s\n",
      "719:\tlearn: 1593.9132777\ttotal: 11.4s\tremaining: 12.3s\n",
      "720:\tlearn: 1593.7902197\ttotal: 11.4s\tremaining: 12.3s\n",
      "721:\tlearn: 1593.5729990\ttotal: 11.4s\tremaining: 12.3s\n",
      "722:\tlearn: 1593.4032706\ttotal: 11.4s\tremaining: 12.3s\n",
      "723:\tlearn: 1593.2281194\ttotal: 11.4s\tremaining: 12.2s\n",
      "724:\tlearn: 1593.0470328\ttotal: 11.4s\tremaining: 12.2s\n",
      "725:\tlearn: 1592.9305482\ttotal: 11.5s\tremaining: 12.2s\n",
      "726:\tlearn: 1592.8030079\ttotal: 11.5s\tremaining: 12.2s\n",
      "727:\tlearn: 1592.7028361\ttotal: 11.5s\tremaining: 12.2s\n",
      "728:\tlearn: 1592.5818148\ttotal: 11.5s\tremaining: 12.2s\n",
      "729:\tlearn: 1592.3958340\ttotal: 11.5s\tremaining: 12.2s\n",
      "730:\tlearn: 1592.3624578\ttotal: 11.5s\tremaining: 12.1s\n",
      "731:\tlearn: 1592.1809871\ttotal: 11.6s\tremaining: 12.1s\n",
      "732:\tlearn: 1592.1039521\ttotal: 11.6s\tremaining: 12.1s\n",
      "733:\tlearn: 1591.8696664\ttotal: 11.6s\tremaining: 12.1s\n",
      "734:\tlearn: 1591.7079940\ttotal: 11.6s\tremaining: 12.1s\n",
      "735:\tlearn: 1591.6719055\ttotal: 11.7s\tremaining: 12.1s\n",
      "736:\tlearn: 1591.5440032\ttotal: 11.7s\tremaining: 12.1s\n",
      "737:\tlearn: 1591.4122107\ttotal: 11.7s\tremaining: 12.1s\n",
      "738:\tlearn: 1591.3090454\ttotal: 11.7s\tremaining: 12.1s\n",
      "739:\tlearn: 1591.1166885\ttotal: 11.7s\tremaining: 12s\n",
      "740:\tlearn: 1590.9537054\ttotal: 11.7s\tremaining: 12s\n",
      "741:\tlearn: 1590.8736757\ttotal: 11.8s\tremaining: 12s\n",
      "742:\tlearn: 1590.7823007\ttotal: 11.8s\tremaining: 12s\n",
      "743:\tlearn: 1590.5737986\ttotal: 11.8s\tremaining: 12s\n",
      "744:\tlearn: 1590.4252645\ttotal: 11.8s\tremaining: 12s\n",
      "745:\tlearn: 1590.2027276\ttotal: 11.8s\tremaining: 12s\n",
      "746:\tlearn: 1590.0732431\ttotal: 11.8s\tremaining: 11.9s\n",
      "747:\tlearn: 1589.9432640\ttotal: 11.9s\tremaining: 11.9s\n",
      "748:\tlearn: 1589.8254491\ttotal: 11.9s\tremaining: 11.9s\n",
      "749:\tlearn: 1589.6502683\ttotal: 11.9s\tremaining: 11.9s\n",
      "750:\tlearn: 1589.4694594\ttotal: 11.9s\tremaining: 11.9s\n",
      "751:\tlearn: 1589.3510045\ttotal: 11.9s\tremaining: 11.9s\n",
      "752:\tlearn: 1589.0868864\ttotal: 11.9s\tremaining: 11.8s\n",
      "753:\tlearn: 1589.0186739\ttotal: 12s\tremaining: 11.8s\n",
      "754:\tlearn: 1588.8564338\ttotal: 12s\tremaining: 11.8s\n",
      "755:\tlearn: 1588.6454041\ttotal: 12s\tremaining: 11.8s\n",
      "756:\tlearn: 1588.4711335\ttotal: 12s\tremaining: 11.8s\n",
      "757:\tlearn: 1588.3628453\ttotal: 12s\tremaining: 11.8s\n",
      "758:\tlearn: 1588.2328601\ttotal: 12s\tremaining: 11.7s\n",
      "759:\tlearn: 1588.0722922\ttotal: 12s\tremaining: 11.7s\n",
      "760:\tlearn: 1587.9112279\ttotal: 12.1s\tremaining: 11.7s\n",
      "761:\tlearn: 1587.8410287\ttotal: 12.1s\tremaining: 11.7s\n",
      "762:\tlearn: 1587.7309291\ttotal: 12.1s\tremaining: 11.7s\n",
      "763:\tlearn: 1587.6027417\ttotal: 12.1s\tremaining: 11.7s\n",
      "764:\tlearn: 1587.4435797\ttotal: 12.1s\tremaining: 11.6s\n",
      "765:\tlearn: 1587.3451854\ttotal: 12.1s\tremaining: 11.6s\n",
      "766:\tlearn: 1587.1907073\ttotal: 12.2s\tremaining: 11.6s\n",
      "767:\tlearn: 1587.0197773\ttotal: 12.2s\tremaining: 11.6s\n",
      "768:\tlearn: 1586.8838589\ttotal: 12.2s\tremaining: 11.6s\n",
      "769:\tlearn: 1586.7537810\ttotal: 12.2s\tremaining: 11.6s\n",
      "770:\tlearn: 1586.6376728\ttotal: 12.2s\tremaining: 11.6s\n",
      "771:\tlearn: 1586.5367506\ttotal: 12.2s\tremaining: 11.5s\n",
      "772:\tlearn: 1586.4999549\ttotal: 12.2s\tremaining: 11.5s\n",
      "773:\tlearn: 1586.3728676\ttotal: 12.3s\tremaining: 11.5s\n",
      "774:\tlearn: 1586.2041202\ttotal: 12.3s\tremaining: 11.5s\n",
      "775:\tlearn: 1585.9906962\ttotal: 12.3s\tremaining: 11.5s\n",
      "776:\tlearn: 1585.8848116\ttotal: 12.3s\tremaining: 11.5s\n",
      "777:\tlearn: 1585.7729211\ttotal: 12.3s\tremaining: 11.4s\n",
      "778:\tlearn: 1585.7107355\ttotal: 12.3s\tremaining: 11.4s\n",
      "779:\tlearn: 1585.5603689\ttotal: 12.3s\tremaining: 11.4s\n",
      "780:\tlearn: 1585.4041590\ttotal: 12.4s\tremaining: 11.4s\n",
      "781:\tlearn: 1585.3536374\ttotal: 12.4s\tremaining: 11.4s\n",
      "782:\tlearn: 1585.2704637\ttotal: 12.4s\tremaining: 11.3s\n",
      "783:\tlearn: 1585.2027252\ttotal: 12.4s\tremaining: 11.3s\n",
      "784:\tlearn: 1585.0200187\ttotal: 12.4s\tremaining: 11.3s\n",
      "785:\tlearn: 1584.9504438\ttotal: 12.4s\tremaining: 11.3s\n",
      "786:\tlearn: 1584.8519732\ttotal: 12.5s\tremaining: 11.3s\n",
      "787:\tlearn: 1584.6826885\ttotal: 12.5s\tremaining: 11.3s\n",
      "788:\tlearn: 1584.5860532\ttotal: 12.5s\tremaining: 11.3s\n"
     ]
    },
    {
     "name": "stdout",
     "output_type": "stream",
     "text": [
      "789:\tlearn: 1584.4371351\ttotal: 12.5s\tremaining: 11.2s\n",
      "790:\tlearn: 1584.3688273\ttotal: 12.5s\tremaining: 11.2s\n",
      "791:\tlearn: 1584.1683546\ttotal: 12.5s\tremaining: 11.2s\n",
      "792:\tlearn: 1583.9424826\ttotal: 12.6s\tremaining: 11.2s\n",
      "793:\tlearn: 1583.8236880\ttotal: 12.6s\tremaining: 11.2s\n",
      "794:\tlearn: 1583.6923009\ttotal: 12.6s\tremaining: 11.2s\n",
      "795:\tlearn: 1583.6250605\ttotal: 12.6s\tremaining: 11.2s\n",
      "796:\tlearn: 1583.4140426\ttotal: 12.6s\tremaining: 11.1s\n",
      "797:\tlearn: 1583.3485273\ttotal: 12.7s\tremaining: 11.1s\n",
      "798:\tlearn: 1583.2362487\ttotal: 12.7s\tremaining: 11.1s\n",
      "799:\tlearn: 1583.1174565\ttotal: 12.7s\tremaining: 11.1s\n",
      "800:\tlearn: 1583.0143115\ttotal: 12.7s\tremaining: 11.1s\n",
      "801:\tlearn: 1582.9260333\ttotal: 12.7s\tremaining: 11.1s\n",
      "802:\tlearn: 1582.8009504\ttotal: 12.7s\tremaining: 11s\n",
      "803:\tlearn: 1582.7374429\ttotal: 12.7s\tremaining: 11s\n",
      "804:\tlearn: 1582.6760966\ttotal: 12.8s\tremaining: 11s\n",
      "805:\tlearn: 1582.4556288\ttotal: 12.8s\tremaining: 11s\n",
      "806:\tlearn: 1582.3121101\ttotal: 12.8s\tremaining: 11s\n",
      "807:\tlearn: 1582.1476242\ttotal: 12.8s\tremaining: 11s\n",
      "808:\tlearn: 1582.0143553\ttotal: 12.8s\tremaining: 11s\n",
      "809:\tlearn: 1581.8839619\ttotal: 12.9s\tremaining: 11s\n",
      "810:\tlearn: 1581.7681885\ttotal: 12.9s\tremaining: 10.9s\n",
      "811:\tlearn: 1581.6481190\ttotal: 12.9s\tremaining: 10.9s\n",
      "812:\tlearn: 1581.3603227\ttotal: 12.9s\tremaining: 10.9s\n",
      "813:\tlearn: 1581.2061572\ttotal: 12.9s\tremaining: 10.9s\n",
      "814:\tlearn: 1581.1419548\ttotal: 12.9s\tremaining: 10.9s\n",
      "815:\tlearn: 1581.0633582\ttotal: 12.9s\tremaining: 10.8s\n",
      "816:\tlearn: 1580.9830988\ttotal: 13s\tremaining: 10.8s\n",
      "817:\tlearn: 1580.8306189\ttotal: 13s\tremaining: 10.8s\n",
      "818:\tlearn: 1580.7338395\ttotal: 13s\tremaining: 10.8s\n",
      "819:\tlearn: 1580.6060075\ttotal: 13s\tremaining: 10.8s\n",
      "820:\tlearn: 1580.5030611\ttotal: 13s\tremaining: 10.8s\n",
      "821:\tlearn: 1580.3945806\ttotal: 13s\tremaining: 10.7s\n",
      "822:\tlearn: 1580.3340423\ttotal: 13s\tremaining: 10.7s\n",
      "823:\tlearn: 1580.2009768\ttotal: 13.1s\tremaining: 10.7s\n",
      "824:\tlearn: 1580.0116364\ttotal: 13.1s\tremaining: 10.7s\n",
      "825:\tlearn: 1579.8754140\ttotal: 13.1s\tremaining: 10.7s\n",
      "826:\tlearn: 1579.7089682\ttotal: 13.1s\tremaining: 10.7s\n",
      "827:\tlearn: 1579.5737300\ttotal: 13.1s\tremaining: 10.6s\n",
      "828:\tlearn: 1579.4938456\ttotal: 13.1s\tremaining: 10.6s\n",
      "829:\tlearn: 1579.3597658\ttotal: 13.1s\tremaining: 10.6s\n",
      "830:\tlearn: 1579.2593196\ttotal: 13.2s\tremaining: 10.6s\n",
      "831:\tlearn: 1579.0608854\ttotal: 13.2s\tremaining: 10.6s\n",
      "832:\tlearn: 1578.9035055\ttotal: 13.2s\tremaining: 10.6s\n",
      "833:\tlearn: 1578.6862478\ttotal: 13.2s\tremaining: 10.5s\n",
      "834:\tlearn: 1578.4814964\ttotal: 13.2s\tremaining: 10.5s\n",
      "835:\tlearn: 1578.3054236\ttotal: 13.2s\tremaining: 10.5s\n",
      "836:\tlearn: 1578.1822413\ttotal: 13.2s\tremaining: 10.5s\n",
      "837:\tlearn: 1577.9247790\ttotal: 13.3s\tremaining: 10.5s\n",
      "838:\tlearn: 1577.7410531\ttotal: 13.3s\tremaining: 10.5s\n",
      "839:\tlearn: 1577.5578845\ttotal: 13.3s\tremaining: 10.4s\n",
      "840:\tlearn: 1577.3949583\ttotal: 13.3s\tremaining: 10.4s\n",
      "841:\tlearn: 1577.3205068\ttotal: 13.3s\tremaining: 10.4s\n",
      "842:\tlearn: 1577.1991813\ttotal: 13.3s\tremaining: 10.4s\n",
      "843:\tlearn: 1577.1544674\ttotal: 13.3s\tremaining: 10.4s\n",
      "844:\tlearn: 1576.9917938\ttotal: 13.4s\tremaining: 10.4s\n",
      "845:\tlearn: 1576.7867727\ttotal: 13.4s\tremaining: 10.3s\n",
      "846:\tlearn: 1576.6399476\ttotal: 13.4s\tremaining: 10.3s\n",
      "847:\tlearn: 1576.5015644\ttotal: 13.4s\tremaining: 10.3s\n",
      "848:\tlearn: 1576.3751910\ttotal: 13.4s\tremaining: 10.3s\n",
      "849:\tlearn: 1576.2284469\ttotal: 13.4s\tremaining: 10.3s\n",
      "850:\tlearn: 1576.1676691\ttotal: 13.5s\tremaining: 10.3s\n",
      "851:\tlearn: 1576.0133016\ttotal: 13.5s\tremaining: 10.2s\n",
      "852:\tlearn: 1575.8742483\ttotal: 13.5s\tremaining: 10.2s\n",
      "853:\tlearn: 1575.7002299\ttotal: 13.5s\tremaining: 10.2s\n",
      "854:\tlearn: 1575.5979924\ttotal: 13.5s\tremaining: 10.2s\n",
      "855:\tlearn: 1575.5303925\ttotal: 13.5s\tremaining: 10.2s\n",
      "856:\tlearn: 1575.3541051\ttotal: 13.5s\tremaining: 10.2s\n",
      "857:\tlearn: 1575.2066742\ttotal: 13.6s\tremaining: 10.1s\n",
      "858:\tlearn: 1575.0818492\ttotal: 13.6s\tremaining: 10.1s\n",
      "859:\tlearn: 1574.9500038\ttotal: 13.6s\tremaining: 10.1s\n",
      "860:\tlearn: 1574.8556354\ttotal: 13.6s\tremaining: 10.1s\n",
      "861:\tlearn: 1574.7825301\ttotal: 13.6s\tremaining: 10.1s\n",
      "862:\tlearn: 1574.6058302\ttotal: 13.6s\tremaining: 10.1s\n",
      "863:\tlearn: 1574.5127080\ttotal: 13.6s\tremaining: 10s\n",
      "864:\tlearn: 1574.3772439\ttotal: 13.7s\tremaining: 10s\n",
      "865:\tlearn: 1574.2340163\ttotal: 13.7s\tremaining: 10s\n",
      "866:\tlearn: 1574.0572812\ttotal: 13.7s\tremaining: 9.99s\n",
      "867:\tlearn: 1573.9493100\ttotal: 13.7s\tremaining: 9.98s\n",
      "868:\tlearn: 1573.8286873\ttotal: 13.7s\tremaining: 9.96s\n",
      "869:\tlearn: 1573.7773253\ttotal: 13.7s\tremaining: 9.94s\n",
      "870:\tlearn: 1573.5838551\ttotal: 13.7s\tremaining: 9.92s\n",
      "871:\tlearn: 1573.4388840\ttotal: 13.8s\tremaining: 9.91s\n",
      "872:\tlearn: 1573.3444047\ttotal: 13.8s\tremaining: 9.89s\n",
      "873:\tlearn: 1573.2392376\ttotal: 13.8s\tremaining: 9.88s\n",
      "874:\tlearn: 1573.1115351\ttotal: 13.8s\tremaining: 9.86s\n",
      "875:\tlearn: 1572.9649652\ttotal: 13.8s\tremaining: 9.85s\n",
      "876:\tlearn: 1572.7510280\ttotal: 13.8s\tremaining: 9.84s\n",
      "877:\tlearn: 1572.5917385\ttotal: 13.9s\tremaining: 9.82s\n",
      "878:\tlearn: 1572.4635752\ttotal: 13.9s\tremaining: 9.8s\n",
      "879:\tlearn: 1572.3220184\ttotal: 13.9s\tremaining: 9.79s\n",
      "880:\tlearn: 1572.1938319\ttotal: 13.9s\tremaining: 9.77s\n",
      "881:\tlearn: 1572.0637024\ttotal: 13.9s\tremaining: 9.75s\n",
      "882:\tlearn: 1571.9054736\ttotal: 13.9s\tremaining: 9.73s\n",
      "883:\tlearn: 1571.8427131\ttotal: 14s\tremaining: 9.75s\n",
      "884:\tlearn: 1571.7623711\ttotal: 14s\tremaining: 9.73s\n",
      "885:\tlearn: 1571.6476608\ttotal: 14s\tremaining: 9.72s\n",
      "886:\tlearn: 1571.5708986\ttotal: 14s\tremaining: 9.71s\n",
      "887:\tlearn: 1571.3952832\ttotal: 14.1s\tremaining: 9.69s\n",
      "888:\tlearn: 1571.2822726\ttotal: 14.1s\tremaining: 9.67s\n",
      "889:\tlearn: 1571.1280561\ttotal: 14.1s\tremaining: 9.65s\n",
      "890:\tlearn: 1571.0081555\ttotal: 14.1s\tremaining: 9.64s\n",
      "891:\tlearn: 1570.8927666\ttotal: 14.1s\tremaining: 9.62s\n",
      "892:\tlearn: 1570.7311092\ttotal: 14.1s\tremaining: 9.61s\n",
      "893:\tlearn: 1570.5317919\ttotal: 14.1s\tremaining: 9.59s\n",
      "894:\tlearn: 1570.3747037\ttotal: 14.2s\tremaining: 9.57s\n",
      "895:\tlearn: 1570.2564468\ttotal: 14.2s\tremaining: 9.55s\n",
      "896:\tlearn: 1570.0670616\ttotal: 14.2s\tremaining: 9.54s\n",
      "897:\tlearn: 1570.0188291\ttotal: 14.2s\tremaining: 9.52s\n",
      "898:\tlearn: 1569.8744323\ttotal: 14.2s\tremaining: 9.5s\n",
      "899:\tlearn: 1569.7546972\ttotal: 14.2s\tremaining: 9.49s\n",
      "900:\tlearn: 1569.6078169\ttotal: 14.2s\tremaining: 9.47s\n",
      "901:\tlearn: 1569.5217206\ttotal: 14.3s\tremaining: 9.45s\n",
      "902:\tlearn: 1569.4197418\ttotal: 14.3s\tremaining: 9.44s\n",
      "903:\tlearn: 1569.2996121\ttotal: 14.3s\tremaining: 9.42s\n",
      "904:\tlearn: 1569.2445299\ttotal: 14.3s\tremaining: 9.4s\n",
      "905:\tlearn: 1569.1622062\ttotal: 14.3s\tremaining: 9.38s\n",
      "906:\tlearn: 1569.0921634\ttotal: 14.3s\tremaining: 9.37s\n",
      "907:\tlearn: 1568.9644032\ttotal: 14.3s\tremaining: 9.35s\n",
      "908:\tlearn: 1568.7862962\ttotal: 14.4s\tremaining: 9.34s\n",
      "909:\tlearn: 1568.7055551\ttotal: 14.4s\tremaining: 9.32s\n",
      "910:\tlearn: 1568.6569247\ttotal: 14.4s\tremaining: 9.3s\n",
      "911:\tlearn: 1568.5715910\ttotal: 14.4s\tremaining: 9.28s\n",
      "912:\tlearn: 1568.4363935\ttotal: 14.4s\tremaining: 9.27s\n",
      "913:\tlearn: 1568.2998519\ttotal: 14.4s\tremaining: 9.25s\n",
      "914:\tlearn: 1568.1908558\ttotal: 14.4s\tremaining: 9.23s\n",
      "915:\tlearn: 1568.0920831\ttotal: 14.5s\tremaining: 9.22s\n",
      "916:\tlearn: 1567.9278290\ttotal: 14.5s\tremaining: 9.2s\n",
      "917:\tlearn: 1567.8245187\ttotal: 14.5s\tremaining: 9.19s\n",
      "918:\tlearn: 1567.7897140\ttotal: 14.5s\tremaining: 9.17s\n",
      "919:\tlearn: 1567.6840840\ttotal: 14.5s\tremaining: 9.15s\n",
      "920:\tlearn: 1567.5144357\ttotal: 14.5s\tremaining: 9.13s\n",
      "921:\tlearn: 1567.4114458\ttotal: 14.5s\tremaining: 9.12s\n",
      "922:\tlearn: 1567.3343146\ttotal: 14.6s\tremaining: 9.1s\n",
      "923:\tlearn: 1567.2074100\ttotal: 14.6s\tremaining: 9.08s\n",
      "924:\tlearn: 1567.1386751\ttotal: 14.6s\tremaining: 9.07s\n",
      "925:\tlearn: 1567.0210900\ttotal: 14.6s\tremaining: 9.05s\n",
      "926:\tlearn: 1566.8429061\ttotal: 14.6s\tremaining: 9.03s\n",
      "927:\tlearn: 1566.7871250\ttotal: 14.6s\tremaining: 9.02s\n",
      "928:\tlearn: 1566.6932602\ttotal: 14.6s\tremaining: 9s\n",
      "929:\tlearn: 1566.4681783\ttotal: 14.7s\tremaining: 8.98s\n",
      "930:\tlearn: 1566.4190439\ttotal: 14.7s\tremaining: 8.97s\n",
      "931:\tlearn: 1566.2914887\ttotal: 14.7s\tremaining: 8.95s\n",
      "932:\tlearn: 1566.0834529\ttotal: 14.7s\tremaining: 8.93s\n",
      "933:\tlearn: 1565.9969166\ttotal: 14.7s\tremaining: 8.92s\n",
      "934:\tlearn: 1565.9060026\ttotal: 14.7s\tremaining: 8.9s\n",
      "935:\tlearn: 1565.7592163\ttotal: 14.7s\tremaining: 8.88s\n",
      "936:\tlearn: 1565.6844136\ttotal: 14.8s\tremaining: 8.87s\n",
      "937:\tlearn: 1565.6113671\ttotal: 14.8s\tremaining: 8.85s\n",
      "938:\tlearn: 1565.5092460\ttotal: 14.8s\tremaining: 8.84s\n",
      "939:\tlearn: 1565.3493966\ttotal: 14.8s\tremaining: 8.82s\n",
      "940:\tlearn: 1565.2200700\ttotal: 14.8s\tremaining: 8.8s\n",
      "941:\tlearn: 1565.0600666\ttotal: 14.8s\tremaining: 8.79s\n"
     ]
    },
    {
     "name": "stdout",
     "output_type": "stream",
     "text": [
      "942:\tlearn: 1564.9480416\ttotal: 14.9s\tremaining: 8.77s\n",
      "943:\tlearn: 1564.8323403\ttotal: 14.9s\tremaining: 8.76s\n",
      "944:\tlearn: 1564.6886596\ttotal: 14.9s\tremaining: 8.74s\n",
      "945:\tlearn: 1564.5715836\ttotal: 14.9s\tremaining: 8.73s\n",
      "946:\tlearn: 1564.5027503\ttotal: 14.9s\tremaining: 8.72s\n",
      "947:\tlearn: 1564.2787586\ttotal: 14.9s\tremaining: 8.7s\n",
      "948:\tlearn: 1564.0959989\ttotal: 15s\tremaining: 8.69s\n",
      "949:\tlearn: 1563.9697949\ttotal: 15s\tremaining: 8.68s\n",
      "950:\tlearn: 1563.9091093\ttotal: 15s\tremaining: 8.66s\n",
      "951:\tlearn: 1563.8641150\ttotal: 15s\tremaining: 8.65s\n",
      "952:\tlearn: 1563.7739836\ttotal: 15s\tremaining: 8.63s\n",
      "953:\tlearn: 1563.6225385\ttotal: 15.1s\tremaining: 8.62s\n",
      "954:\tlearn: 1563.5424321\ttotal: 15.1s\tremaining: 8.6s\n",
      "955:\tlearn: 1563.4589352\ttotal: 15.1s\tremaining: 8.59s\n",
      "956:\tlearn: 1563.3902784\ttotal: 15.1s\tremaining: 8.57s\n",
      "957:\tlearn: 1563.1476204\ttotal: 15.1s\tremaining: 8.55s\n",
      "958:\tlearn: 1563.0598190\ttotal: 15.1s\tremaining: 8.54s\n",
      "959:\tlearn: 1562.8651312\ttotal: 15.2s\tremaining: 8.52s\n",
      "960:\tlearn: 1562.7365754\ttotal: 15.2s\tremaining: 8.51s\n",
      "961:\tlearn: 1562.6242955\ttotal: 15.2s\tremaining: 8.49s\n",
      "962:\tlearn: 1562.4515488\ttotal: 15.2s\tremaining: 8.47s\n",
      "963:\tlearn: 1562.3207005\ttotal: 15.2s\tremaining: 8.46s\n",
      "964:\tlearn: 1562.2195748\ttotal: 15.2s\tremaining: 8.44s\n",
      "965:\tlearn: 1562.0054102\ttotal: 15.2s\tremaining: 8.42s\n",
      "966:\tlearn: 1561.9123381\ttotal: 15.3s\tremaining: 8.41s\n",
      "967:\tlearn: 1561.7782620\ttotal: 15.3s\tremaining: 8.39s\n",
      "968:\tlearn: 1561.6101974\ttotal: 15.3s\tremaining: 8.37s\n",
      "969:\tlearn: 1561.5234338\ttotal: 15.3s\tremaining: 8.36s\n",
      "970:\tlearn: 1561.4194245\ttotal: 15.3s\tremaining: 8.34s\n",
      "971:\tlearn: 1561.3442861\ttotal: 15.3s\tremaining: 8.32s\n",
      "972:\tlearn: 1561.2648989\ttotal: 15.3s\tremaining: 8.31s\n",
      "973:\tlearn: 1561.1730245\ttotal: 15.4s\tremaining: 8.29s\n",
      "974:\tlearn: 1561.0625072\ttotal: 15.4s\tremaining: 8.28s\n",
      "975:\tlearn: 1560.9145248\ttotal: 15.4s\tremaining: 8.26s\n",
      "976:\tlearn: 1560.8443370\ttotal: 15.4s\tremaining: 8.24s\n",
      "977:\tlearn: 1560.6269440\ttotal: 15.4s\tremaining: 8.23s\n",
      "978:\tlearn: 1560.5378014\ttotal: 15.4s\tremaining: 8.21s\n",
      "979:\tlearn: 1560.4153619\ttotal: 15.4s\tremaining: 8.19s\n",
      "980:\tlearn: 1560.3335269\ttotal: 15.5s\tremaining: 8.18s\n",
      "981:\tlearn: 1560.1952558\ttotal: 15.5s\tremaining: 8.16s\n",
      "982:\tlearn: 1560.0693423\ttotal: 15.5s\tremaining: 8.14s\n",
      "983:\tlearn: 1559.9321915\ttotal: 15.5s\tremaining: 8.13s\n",
      "984:\tlearn: 1559.7921667\ttotal: 15.5s\tremaining: 8.11s\n",
      "985:\tlearn: 1559.7131943\ttotal: 15.5s\tremaining: 8.1s\n",
      "986:\tlearn: 1559.6305070\ttotal: 15.5s\tremaining: 8.08s\n",
      "987:\tlearn: 1559.5639773\ttotal: 15.6s\tremaining: 8.06s\n",
      "988:\tlearn: 1559.5053071\ttotal: 15.6s\tremaining: 8.04s\n",
      "989:\tlearn: 1559.3937097\ttotal: 15.6s\tremaining: 8.03s\n",
      "990:\tlearn: 1559.2901491\ttotal: 15.6s\tremaining: 8.01s\n",
      "991:\tlearn: 1559.1522263\ttotal: 15.6s\tremaining: 8s\n",
      "992:\tlearn: 1558.9931979\ttotal: 15.6s\tremaining: 7.98s\n",
      "993:\tlearn: 1558.8545038\ttotal: 15.7s\tremaining: 7.97s\n",
      "994:\tlearn: 1558.8035843\ttotal: 15.7s\tremaining: 7.96s\n",
      "995:\tlearn: 1558.7363888\ttotal: 15.7s\tremaining: 7.94s\n",
      "996:\tlearn: 1558.5692522\ttotal: 15.7s\tremaining: 7.93s\n",
      "997:\tlearn: 1558.4215511\ttotal: 15.7s\tremaining: 7.91s\n",
      "998:\tlearn: 1558.3086249\ttotal: 15.8s\tremaining: 7.9s\n",
      "999:\tlearn: 1558.2166436\ttotal: 15.8s\tremaining: 7.88s\n",
      "1000:\tlearn: 1558.1213058\ttotal: 15.8s\tremaining: 7.87s\n",
      "1001:\tlearn: 1558.0246430\ttotal: 15.8s\tremaining: 7.85s\n",
      "1002:\tlearn: 1557.9889370\ttotal: 15.8s\tremaining: 7.84s\n",
      "1003:\tlearn: 1557.9279414\ttotal: 15.8s\tremaining: 7.82s\n",
      "1004:\tlearn: 1557.7756014\ttotal: 15.8s\tremaining: 7.81s\n",
      "1005:\tlearn: 1557.7457705\ttotal: 15.9s\tremaining: 7.79s\n",
      "1006:\tlearn: 1557.5944846\ttotal: 15.9s\tremaining: 7.77s\n",
      "1007:\tlearn: 1557.4295996\ttotal: 15.9s\tremaining: 7.76s\n",
      "1008:\tlearn: 1557.3287716\ttotal: 15.9s\tremaining: 7.74s\n",
      "1009:\tlearn: 1557.2356821\ttotal: 15.9s\tremaining: 7.73s\n",
      "1010:\tlearn: 1557.1335383\ttotal: 15.9s\tremaining: 7.71s\n",
      "1011:\tlearn: 1557.1130777\ttotal: 16s\tremaining: 7.69s\n",
      "1012:\tlearn: 1556.9866648\ttotal: 16s\tremaining: 7.68s\n",
      "1013:\tlearn: 1556.9297208\ttotal: 16s\tremaining: 7.66s\n",
      "1014:\tlearn: 1556.8326357\ttotal: 16s\tremaining: 7.64s\n",
      "1015:\tlearn: 1556.7498796\ttotal: 16s\tremaining: 7.63s\n",
      "1016:\tlearn: 1556.6707385\ttotal: 16s\tremaining: 7.61s\n",
      "1017:\tlearn: 1556.5529481\ttotal: 16s\tremaining: 7.6s\n",
      "1018:\tlearn: 1556.4516861\ttotal: 16.1s\tremaining: 7.58s\n",
      "1019:\tlearn: 1556.3406084\ttotal: 16.1s\tremaining: 7.57s\n",
      "1020:\tlearn: 1556.2027974\ttotal: 16.1s\tremaining: 7.55s\n",
      "1021:\tlearn: 1556.0955787\ttotal: 16.1s\tremaining: 7.54s\n",
      "1022:\tlearn: 1555.9621983\ttotal: 16.1s\tremaining: 7.52s\n",
      "1023:\tlearn: 1555.8985749\ttotal: 16.2s\tremaining: 7.51s\n",
      "1024:\tlearn: 1555.7783883\ttotal: 16.2s\tremaining: 7.5s\n",
      "1025:\tlearn: 1555.7009191\ttotal: 16.2s\tremaining: 7.48s\n",
      "1026:\tlearn: 1555.6820166\ttotal: 16.2s\tremaining: 7.46s\n",
      "1027:\tlearn: 1555.5891981\ttotal: 16.2s\tremaining: 7.45s\n",
      "1028:\tlearn: 1555.4204773\ttotal: 16.2s\tremaining: 7.43s\n",
      "1029:\tlearn: 1555.3491540\ttotal: 16.3s\tremaining: 7.42s\n",
      "1030:\tlearn: 1555.1724144\ttotal: 16.3s\tremaining: 7.4s\n",
      "1031:\tlearn: 1555.1164687\ttotal: 16.3s\tremaining: 7.38s\n",
      "1032:\tlearn: 1555.0731212\ttotal: 16.3s\tremaining: 7.37s\n",
      "1033:\tlearn: 1554.9223000\ttotal: 16.3s\tremaining: 7.35s\n",
      "1034:\tlearn: 1554.8610530\ttotal: 16.3s\tremaining: 7.33s\n",
      "1035:\tlearn: 1554.8013472\ttotal: 16.3s\tremaining: 7.32s\n",
      "1036:\tlearn: 1554.7656867\ttotal: 16.4s\tremaining: 7.3s\n",
      "1037:\tlearn: 1554.6599335\ttotal: 16.4s\tremaining: 7.29s\n",
      "1038:\tlearn: 1554.5666262\ttotal: 16.4s\tremaining: 7.27s\n",
      "1039:\tlearn: 1554.4733868\ttotal: 16.4s\tremaining: 7.26s\n",
      "1040:\tlearn: 1554.3471462\ttotal: 16.4s\tremaining: 7.24s\n",
      "1041:\tlearn: 1554.2500273\ttotal: 16.4s\tremaining: 7.23s\n",
      "1042:\tlearn: 1554.2063312\ttotal: 16.5s\tremaining: 7.21s\n",
      "1043:\tlearn: 1554.0969684\ttotal: 16.5s\tremaining: 7.2s\n",
      "1044:\tlearn: 1553.9892577\ttotal: 16.5s\tremaining: 7.18s\n",
      "1045:\tlearn: 1553.9048573\ttotal: 16.5s\tremaining: 7.16s\n",
      "1046:\tlearn: 1553.7549816\ttotal: 16.5s\tremaining: 7.15s\n",
      "1047:\tlearn: 1553.6662065\ttotal: 16.5s\tremaining: 7.13s\n",
      "1048:\tlearn: 1553.6268187\ttotal: 16.6s\tremaining: 7.12s\n",
      "1049:\tlearn: 1553.5141503\ttotal: 16.6s\tremaining: 7.1s\n",
      "1050:\tlearn: 1553.4407236\ttotal: 16.6s\tremaining: 7.08s\n",
      "1051:\tlearn: 1553.3170879\ttotal: 16.6s\tremaining: 7.07s\n",
      "1052:\tlearn: 1553.2166608\ttotal: 16.6s\tremaining: 7.05s\n",
      "1053:\tlearn: 1553.0932694\ttotal: 16.6s\tremaining: 7.03s\n",
      "1054:\tlearn: 1553.0120651\ttotal: 16.6s\tremaining: 7.02s\n",
      "1055:\tlearn: 1552.9536826\ttotal: 16.7s\tremaining: 7s\n",
      "1056:\tlearn: 1552.8322749\ttotal: 16.7s\tremaining: 6.99s\n",
      "1057:\tlearn: 1552.6970384\ttotal: 16.7s\tremaining: 6.97s\n",
      "1058:\tlearn: 1552.5890901\ttotal: 16.7s\tremaining: 6.96s\n",
      "1059:\tlearn: 1552.5096821\ttotal: 16.7s\tremaining: 6.94s\n",
      "1060:\tlearn: 1552.3921651\ttotal: 16.7s\tremaining: 6.93s\n",
      "1061:\tlearn: 1552.2471456\ttotal: 16.8s\tremaining: 6.92s\n",
      "1062:\tlearn: 1552.1713888\ttotal: 16.8s\tremaining: 6.9s\n",
      "1063:\tlearn: 1552.0855057\ttotal: 16.8s\tremaining: 6.89s\n",
      "1064:\tlearn: 1551.9194357\ttotal: 16.8s\tremaining: 6.88s\n",
      "1065:\tlearn: 1551.8530140\ttotal: 16.9s\tremaining: 6.86s\n",
      "1066:\tlearn: 1551.7305695\ttotal: 16.9s\tremaining: 6.84s\n",
      "1067:\tlearn: 1551.6095517\ttotal: 16.9s\tremaining: 6.83s\n",
      "1068:\tlearn: 1551.4922018\ttotal: 16.9s\tremaining: 6.81s\n",
      "1069:\tlearn: 1551.4326048\ttotal: 16.9s\tremaining: 6.79s\n",
      "1070:\tlearn: 1551.3472546\ttotal: 16.9s\tremaining: 6.78s\n",
      "1071:\tlearn: 1551.2384623\ttotal: 16.9s\tremaining: 6.76s\n",
      "1072:\tlearn: 1551.0519566\ttotal: 16.9s\tremaining: 6.74s\n",
      "1073:\tlearn: 1551.0169933\ttotal: 17s\tremaining: 6.73s\n",
      "1074:\tlearn: 1550.9571833\ttotal: 17s\tremaining: 6.71s\n",
      "1075:\tlearn: 1550.8323331\ttotal: 17s\tremaining: 6.7s\n",
      "1076:\tlearn: 1550.7115255\ttotal: 17s\tremaining: 6.68s\n",
      "1077:\tlearn: 1550.5526254\ttotal: 17s\tremaining: 6.67s\n",
      "1078:\tlearn: 1550.4423225\ttotal: 17.1s\tremaining: 6.65s\n",
      "1079:\tlearn: 1550.4249826\ttotal: 17.1s\tremaining: 6.64s\n",
      "1080:\tlearn: 1550.2849414\ttotal: 17.1s\tremaining: 6.62s\n",
      "1081:\tlearn: 1550.1692112\ttotal: 17.1s\tremaining: 6.61s\n",
      "1082:\tlearn: 1550.0851560\ttotal: 17.1s\tremaining: 6.59s\n",
      "1083:\tlearn: 1550.0448338\ttotal: 17.1s\tremaining: 6.57s\n",
      "1084:\tlearn: 1549.9964125\ttotal: 17.1s\tremaining: 6.56s\n",
      "1085:\tlearn: 1549.8486614\ttotal: 17.2s\tremaining: 6.54s\n",
      "1086:\tlearn: 1549.7494454\ttotal: 17.2s\tremaining: 6.53s\n",
      "1087:\tlearn: 1549.6556543\ttotal: 17.2s\tremaining: 6.51s\n",
      "1088:\tlearn: 1549.4902729\ttotal: 17.2s\tremaining: 6.49s\n",
      "1089:\tlearn: 1549.3756545\ttotal: 17.2s\tremaining: 6.48s\n",
      "1090:\tlearn: 1549.3119520\ttotal: 17.2s\tremaining: 6.46s\n",
      "1091:\tlearn: 1549.1767330\ttotal: 17.2s\tremaining: 6.44s\n",
      "1092:\tlearn: 1549.0486538\ttotal: 17.3s\tremaining: 6.43s\n",
      "1093:\tlearn: 1548.9722162\ttotal: 17.3s\tremaining: 6.41s\n",
      "1094:\tlearn: 1548.8785921\ttotal: 17.3s\tremaining: 6.39s\n",
      "1095:\tlearn: 1548.7659404\ttotal: 17.3s\tremaining: 6.38s\n",
      "1096:\tlearn: 1548.6978995\ttotal: 17.3s\tremaining: 6.36s\n",
      "1097:\tlearn: 1548.5867854\ttotal: 17.3s\tremaining: 6.34s\n",
      "1098:\tlearn: 1548.4849833\ttotal: 17.3s\tremaining: 6.33s\n",
      "1099:\tlearn: 1548.3969497\ttotal: 17.4s\tremaining: 6.31s\n",
      "1100:\tlearn: 1548.2267049\ttotal: 17.4s\tremaining: 6.3s\n",
      "1101:\tlearn: 1548.1258298\ttotal: 17.4s\tremaining: 6.28s\n",
      "1102:\tlearn: 1548.0022330\ttotal: 17.4s\tremaining: 6.27s\n"
     ]
    },
    {
     "name": "stdout",
     "output_type": "stream",
     "text": [
      "1103:\tlearn: 1547.9499472\ttotal: 17.4s\tremaining: 6.25s\n",
      "1104:\tlearn: 1547.8492048\ttotal: 17.4s\tremaining: 6.24s\n",
      "1105:\tlearn: 1547.7422777\ttotal: 17.5s\tremaining: 6.22s\n",
      "1106:\tlearn: 1547.6786904\ttotal: 17.5s\tremaining: 6.21s\n",
      "1107:\tlearn: 1547.5872425\ttotal: 17.5s\tremaining: 6.19s\n",
      "1108:\tlearn: 1547.5505568\ttotal: 17.5s\tremaining: 6.17s\n",
      "1109:\tlearn: 1547.4526865\ttotal: 17.5s\tremaining: 6.16s\n",
      "1110:\tlearn: 1547.3945242\ttotal: 17.5s\tremaining: 6.14s\n",
      "1111:\tlearn: 1547.2695520\ttotal: 17.6s\tremaining: 6.13s\n",
      "1112:\tlearn: 1547.1258253\ttotal: 17.6s\tremaining: 6.11s\n",
      "1113:\tlearn: 1547.0634333\ttotal: 17.6s\tremaining: 6.09s\n",
      "1114:\tlearn: 1546.9787873\ttotal: 17.6s\tremaining: 6.08s\n",
      "1115:\tlearn: 1546.9069532\ttotal: 17.6s\tremaining: 6.06s\n",
      "1116:\tlearn: 1546.8336044\ttotal: 17.6s\tremaining: 6.05s\n",
      "1117:\tlearn: 1546.7793229\ttotal: 17.6s\tremaining: 6.03s\n",
      "1118:\tlearn: 1546.6936398\ttotal: 17.7s\tremaining: 6.01s\n",
      "1119:\tlearn: 1546.5216229\ttotal: 17.7s\tremaining: 6s\n",
      "1120:\tlearn: 1546.4456114\ttotal: 17.7s\tremaining: 5.98s\n",
      "1121:\tlearn: 1546.3050770\ttotal: 17.7s\tremaining: 5.96s\n",
      "1122:\tlearn: 1546.1963237\ttotal: 17.7s\tremaining: 5.95s\n",
      "1123:\tlearn: 1546.1522595\ttotal: 17.7s\tremaining: 5.93s\n",
      "1124:\tlearn: 1546.0885338\ttotal: 17.8s\tremaining: 5.92s\n",
      "1125:\tlearn: 1546.0075055\ttotal: 17.8s\tremaining: 5.9s\n",
      "1126:\tlearn: 1545.8648048\ttotal: 17.8s\tremaining: 5.89s\n",
      "1127:\tlearn: 1545.7272192\ttotal: 17.8s\tremaining: 5.87s\n",
      "1128:\tlearn: 1545.6249451\ttotal: 17.8s\tremaining: 5.86s\n",
      "1129:\tlearn: 1545.5071976\ttotal: 17.8s\tremaining: 5.84s\n",
      "1130:\tlearn: 1545.3770596\ttotal: 17.9s\tremaining: 5.82s\n",
      "1131:\tlearn: 1545.3187250\ttotal: 17.9s\tremaining: 5.81s\n",
      "1132:\tlearn: 1545.2078907\ttotal: 17.9s\tremaining: 5.79s\n",
      "1133:\tlearn: 1545.1432665\ttotal: 17.9s\tremaining: 5.78s\n",
      "1134:\tlearn: 1545.0576022\ttotal: 17.9s\tremaining: 5.76s\n",
      "1135:\tlearn: 1545.0330695\ttotal: 17.9s\tremaining: 5.75s\n",
      "1136:\tlearn: 1544.9719273\ttotal: 18s\tremaining: 5.73s\n",
      "1137:\tlearn: 1544.8791232\ttotal: 18s\tremaining: 5.72s\n",
      "1138:\tlearn: 1544.7713325\ttotal: 18s\tremaining: 5.7s\n",
      "1139:\tlearn: 1544.6585458\ttotal: 18s\tremaining: 5.69s\n",
      "1140:\tlearn: 1544.5366108\ttotal: 18s\tremaining: 5.67s\n",
      "1141:\tlearn: 1544.4854703\ttotal: 18s\tremaining: 5.65s\n",
      "1142:\tlearn: 1544.3567869\ttotal: 18.1s\tremaining: 5.64s\n",
      "1143:\tlearn: 1544.2735641\ttotal: 18.1s\tremaining: 5.62s\n",
      "1144:\tlearn: 1544.2161457\ttotal: 18.1s\tremaining: 5.61s\n",
      "1145:\tlearn: 1544.1581524\ttotal: 18.1s\tremaining: 5.59s\n",
      "1146:\tlearn: 1544.0927595\ttotal: 18.1s\tremaining: 5.57s\n",
      "1147:\tlearn: 1544.0370440\ttotal: 18.1s\tremaining: 5.56s\n",
      "1148:\tlearn: 1543.8816710\ttotal: 18.1s\tremaining: 5.54s\n",
      "1149:\tlearn: 1543.7332329\ttotal: 18.2s\tremaining: 5.53s\n",
      "1150:\tlearn: 1543.6959680\ttotal: 18.2s\tremaining: 5.51s\n",
      "1151:\tlearn: 1543.5892277\ttotal: 18.2s\tremaining: 5.49s\n",
      "1152:\tlearn: 1543.4819798\ttotal: 18.2s\tremaining: 5.48s\n",
      "1153:\tlearn: 1543.3420422\ttotal: 18.2s\tremaining: 5.46s\n",
      "1154:\tlearn: 1543.2952307\ttotal: 18.2s\tremaining: 5.44s\n",
      "1155:\tlearn: 1543.2069852\ttotal: 18.2s\tremaining: 5.43s\n",
      "1156:\tlearn: 1543.1507497\ttotal: 18.3s\tremaining: 5.41s\n",
      "1157:\tlearn: 1543.0907535\ttotal: 18.3s\tremaining: 5.39s\n",
      "1158:\tlearn: 1542.9905591\ttotal: 18.3s\tremaining: 5.38s\n",
      "1159:\tlearn: 1542.9414050\ttotal: 18.3s\tremaining: 5.36s\n",
      "1160:\tlearn: 1542.8802249\ttotal: 18.3s\tremaining: 5.35s\n",
      "1161:\tlearn: 1542.7386493\ttotal: 18.3s\tremaining: 5.33s\n",
      "1162:\tlearn: 1542.6007920\ttotal: 18.3s\tremaining: 5.31s\n",
      "1163:\tlearn: 1542.5149061\ttotal: 18.4s\tremaining: 5.3s\n",
      "1164:\tlearn: 1542.4520518\ttotal: 18.4s\tremaining: 5.28s\n",
      "1165:\tlearn: 1542.4028139\ttotal: 18.4s\tremaining: 5.27s\n",
      "1166:\tlearn: 1542.3362484\ttotal: 18.4s\tremaining: 5.25s\n",
      "1167:\tlearn: 1542.2429145\ttotal: 18.4s\tremaining: 5.24s\n",
      "1168:\tlearn: 1542.1582538\ttotal: 18.4s\tremaining: 5.22s\n",
      "1169:\tlearn: 1542.0609428\ttotal: 18.5s\tremaining: 5.2s\n",
      "1170:\tlearn: 1541.8048500\ttotal: 18.5s\tremaining: 5.19s\n",
      "1171:\tlearn: 1541.7434853\ttotal: 18.5s\tremaining: 5.17s\n",
      "1172:\tlearn: 1541.6700686\ttotal: 18.5s\tremaining: 5.16s\n",
      "1173:\tlearn: 1541.5598437\ttotal: 18.5s\tremaining: 5.14s\n",
      "1174:\tlearn: 1541.4205351\ttotal: 18.5s\tremaining: 5.13s\n",
      "1175:\tlearn: 1541.2900048\ttotal: 18.6s\tremaining: 5.11s\n",
      "1176:\tlearn: 1541.1331498\ttotal: 18.6s\tremaining: 5.09s\n",
      "1177:\tlearn: 1541.0873038\ttotal: 18.6s\tremaining: 5.08s\n",
      "1178:\tlearn: 1541.0571687\ttotal: 18.6s\tremaining: 5.06s\n",
      "1179:\tlearn: 1540.9914946\ttotal: 18.6s\tremaining: 5.04s\n",
      "1180:\tlearn: 1540.9325360\ttotal: 18.6s\tremaining: 5.03s\n",
      "1181:\tlearn: 1540.9051226\ttotal: 18.6s\tremaining: 5.01s\n",
      "1182:\tlearn: 1540.7725985\ttotal: 18.6s\tremaining: 5s\n",
      "1183:\tlearn: 1540.6561848\ttotal: 18.7s\tremaining: 4.98s\n",
      "1184:\tlearn: 1540.5497293\ttotal: 18.7s\tremaining: 4.96s\n",
      "1185:\tlearn: 1540.4848650\ttotal: 18.7s\tremaining: 4.95s\n",
      "1186:\tlearn: 1540.4233307\ttotal: 18.7s\tremaining: 4.94s\n",
      "1187:\tlearn: 1540.3817330\ttotal: 18.8s\tremaining: 4.92s\n",
      "1188:\tlearn: 1540.2116616\ttotal: 18.8s\tremaining: 4.91s\n",
      "1189:\tlearn: 1540.1846320\ttotal: 18.8s\tremaining: 4.89s\n",
      "1190:\tlearn: 1540.0737455\ttotal: 18.8s\tremaining: 4.88s\n",
      "1191:\tlearn: 1539.9558483\ttotal: 18.8s\tremaining: 4.86s\n",
      "1192:\tlearn: 1539.9043706\ttotal: 18.8s\tremaining: 4.84s\n",
      "1193:\tlearn: 1539.7994802\ttotal: 18.8s\tremaining: 4.83s\n",
      "1194:\tlearn: 1539.6873164\ttotal: 18.9s\tremaining: 4.82s\n",
      "1195:\tlearn: 1539.6389684\ttotal: 18.9s\tremaining: 4.8s\n",
      "1196:\tlearn: 1539.5886988\ttotal: 18.9s\tremaining: 4.78s\n",
      "1197:\tlearn: 1539.4490309\ttotal: 18.9s\tremaining: 4.77s\n",
      "1198:\tlearn: 1539.3103878\ttotal: 18.9s\tremaining: 4.75s\n",
      "1199:\tlearn: 1539.1498131\ttotal: 18.9s\tremaining: 4.74s\n",
      "1200:\tlearn: 1539.0265207\ttotal: 19s\tremaining: 4.72s\n",
      "1201:\tlearn: 1538.9642806\ttotal: 19s\tremaining: 4.71s\n",
      "1202:\tlearn: 1538.8798226\ttotal: 19s\tremaining: 4.69s\n",
      "1203:\tlearn: 1538.8118293\ttotal: 19s\tremaining: 4.67s\n",
      "1204:\tlearn: 1538.7219676\ttotal: 19s\tremaining: 4.66s\n",
      "1205:\tlearn: 1538.6408760\ttotal: 19.1s\tremaining: 4.64s\n",
      "1206:\tlearn: 1538.6198776\ttotal: 19.1s\tremaining: 4.63s\n",
      "1207:\tlearn: 1538.5579330\ttotal: 19.1s\tremaining: 4.62s\n",
      "1208:\tlearn: 1538.4947234\ttotal: 19.1s\tremaining: 4.6s\n",
      "1209:\tlearn: 1538.3557415\ttotal: 19.1s\tremaining: 4.58s\n",
      "1210:\tlearn: 1538.2271489\ttotal: 19.1s\tremaining: 4.57s\n",
      "1211:\tlearn: 1538.0949298\ttotal: 19.2s\tremaining: 4.55s\n",
      "1212:\tlearn: 1538.0062474\ttotal: 19.2s\tremaining: 4.54s\n",
      "1213:\tlearn: 1537.9544110\ttotal: 19.2s\tremaining: 4.52s\n",
      "1214:\tlearn: 1537.8605260\ttotal: 19.2s\tremaining: 4.5s\n",
      "1215:\tlearn: 1537.7479327\ttotal: 19.2s\tremaining: 4.49s\n",
      "1216:\tlearn: 1537.6679272\ttotal: 19.2s\tremaining: 4.47s\n",
      "1217:\tlearn: 1537.6031089\ttotal: 19.3s\tremaining: 4.46s\n",
      "1218:\tlearn: 1537.5766564\ttotal: 19.3s\tremaining: 4.44s\n",
      "1219:\tlearn: 1537.5167893\ttotal: 19.3s\tremaining: 4.42s\n",
      "1220:\tlearn: 1537.4187216\ttotal: 19.3s\tremaining: 4.41s\n",
      "1221:\tlearn: 1537.3626023\ttotal: 19.3s\tremaining: 4.39s\n",
      "1222:\tlearn: 1537.3161345\ttotal: 19.3s\tremaining: 4.37s\n",
      "1223:\tlearn: 1537.2088866\ttotal: 19.3s\tremaining: 4.36s\n",
      "1224:\tlearn: 1537.1615955\ttotal: 19.3s\tremaining: 4.34s\n",
      "1225:\tlearn: 1536.9963135\ttotal: 19.4s\tremaining: 4.33s\n",
      "1226:\tlearn: 1536.9142232\ttotal: 19.4s\tremaining: 4.31s\n",
      "1227:\tlearn: 1536.8438211\ttotal: 19.4s\tremaining: 4.29s\n",
      "1228:\tlearn: 1536.7549074\ttotal: 19.4s\tremaining: 4.28s\n",
      "1229:\tlearn: 1536.7039100\ttotal: 19.4s\tremaining: 4.26s\n",
      "1230:\tlearn: 1536.6374729\ttotal: 19.4s\tremaining: 4.25s\n",
      "1231:\tlearn: 1536.5715304\ttotal: 19.4s\tremaining: 4.23s\n",
      "1232:\tlearn: 1536.5068011\ttotal: 19.5s\tremaining: 4.21s\n",
      "1233:\tlearn: 1536.3772054\ttotal: 19.5s\tremaining: 4.2s\n",
      "1234:\tlearn: 1536.3022700\ttotal: 19.5s\tremaining: 4.18s\n",
      "1235:\tlearn: 1536.2420507\ttotal: 19.5s\tremaining: 4.16s\n",
      "1236:\tlearn: 1536.1855918\ttotal: 19.5s\tremaining: 4.15s\n",
      "1237:\tlearn: 1536.1258442\ttotal: 19.5s\tremaining: 4.13s\n",
      "1238:\tlearn: 1536.0900676\ttotal: 19.5s\tremaining: 4.12s\n",
      "1239:\tlearn: 1535.9717578\ttotal: 19.6s\tremaining: 4.1s\n",
      "1240:\tlearn: 1535.9372796\ttotal: 19.6s\tremaining: 4.08s\n",
      "1241:\tlearn: 1535.8367605\ttotal: 19.6s\tremaining: 4.07s\n",
      "1242:\tlearn: 1535.8045644\ttotal: 19.6s\tremaining: 4.05s\n",
      "1243:\tlearn: 1535.7743695\ttotal: 19.6s\tremaining: 4.04s\n",
      "1244:\tlearn: 1535.5056680\ttotal: 19.6s\tremaining: 4.02s\n",
      "1245:\tlearn: 1535.3805511\ttotal: 19.7s\tremaining: 4.01s\n",
      "1246:\tlearn: 1535.3067585\ttotal: 19.7s\tremaining: 3.99s\n",
      "1247:\tlearn: 1535.2223407\ttotal: 19.7s\tremaining: 3.98s\n",
      "1248:\tlearn: 1535.1662040\ttotal: 19.7s\tremaining: 3.96s\n",
      "1249:\tlearn: 1535.0522570\ttotal: 19.7s\tremaining: 3.95s\n",
      "1250:\tlearn: 1534.9921629\ttotal: 19.8s\tremaining: 3.93s\n",
      "1251:\tlearn: 1534.9021984\ttotal: 19.8s\tremaining: 3.92s\n",
      "1252:\tlearn: 1534.7792282\ttotal: 19.8s\tremaining: 3.9s\n",
      "1253:\tlearn: 1534.7068434\ttotal: 19.8s\tremaining: 3.89s\n",
      "1254:\tlearn: 1534.6177550\ttotal: 19.8s\tremaining: 3.87s\n",
      "1255:\tlearn: 1534.5138220\ttotal: 19.8s\tremaining: 3.85s\n",
      "1256:\tlearn: 1534.4639372\ttotal: 19.9s\tremaining: 3.84s\n",
      "1257:\tlearn: 1534.4073679\ttotal: 19.9s\tremaining: 3.82s\n",
      "1258:\tlearn: 1534.3456826\ttotal: 19.9s\tremaining: 3.81s\n",
      "1259:\tlearn: 1534.3000595\ttotal: 19.9s\tremaining: 3.79s\n",
      "1260:\tlearn: 1534.1811183\ttotal: 19.9s\tremaining: 3.77s\n",
      "1261:\tlearn: 1534.1285679\ttotal: 19.9s\tremaining: 3.76s\n",
      "1262:\tlearn: 1534.0680468\ttotal: 19.9s\tremaining: 3.74s\n"
     ]
    },
    {
     "name": "stdout",
     "output_type": "stream",
     "text": [
      "1263:\tlearn: 1533.9936118\ttotal: 20s\tremaining: 3.73s\n",
      "1264:\tlearn: 1533.8966061\ttotal: 20s\tremaining: 3.71s\n",
      "1265:\tlearn: 1533.8467804\ttotal: 20s\tremaining: 3.69s\n",
      "1266:\tlearn: 1533.7709012\ttotal: 20s\tremaining: 3.68s\n",
      "1267:\tlearn: 1533.6691238\ttotal: 20s\tremaining: 3.66s\n",
      "1268:\tlearn: 1533.5857232\ttotal: 20s\tremaining: 3.65s\n",
      "1269:\tlearn: 1533.3970911\ttotal: 20s\tremaining: 3.63s\n",
      "1270:\tlearn: 1533.3144319\ttotal: 20.1s\tremaining: 3.61s\n",
      "1271:\tlearn: 1533.2289282\ttotal: 20.1s\tremaining: 3.6s\n",
      "1272:\tlearn: 1533.1614672\ttotal: 20.1s\tremaining: 3.58s\n",
      "1273:\tlearn: 1533.0876611\ttotal: 20.1s\tremaining: 3.57s\n",
      "1274:\tlearn: 1533.0090123\ttotal: 20.1s\tremaining: 3.55s\n",
      "1275:\tlearn: 1532.9054487\ttotal: 20.1s\tremaining: 3.53s\n",
      "1276:\tlearn: 1532.8094021\ttotal: 20.1s\tremaining: 3.52s\n",
      "1277:\tlearn: 1532.7182305\ttotal: 20.2s\tremaining: 3.5s\n",
      "1278:\tlearn: 1532.6596460\ttotal: 20.2s\tremaining: 3.49s\n",
      "1279:\tlearn: 1532.5901341\ttotal: 20.2s\tremaining: 3.47s\n",
      "1280:\tlearn: 1532.4979697\ttotal: 20.2s\tremaining: 3.45s\n",
      "1281:\tlearn: 1532.3981400\ttotal: 20.2s\tremaining: 3.44s\n",
      "1282:\tlearn: 1532.2865794\ttotal: 20.2s\tremaining: 3.42s\n",
      "1283:\tlearn: 1532.1992485\ttotal: 20.2s\tremaining: 3.41s\n",
      "1284:\tlearn: 1532.0467842\ttotal: 20.3s\tremaining: 3.39s\n",
      "1285:\tlearn: 1531.9268385\ttotal: 20.3s\tremaining: 3.37s\n",
      "1286:\tlearn: 1531.8682992\ttotal: 20.3s\tremaining: 3.36s\n",
      "1287:\tlearn: 1531.7286050\ttotal: 20.3s\tremaining: 3.34s\n",
      "1288:\tlearn: 1531.6315457\ttotal: 20.3s\tremaining: 3.33s\n",
      "1289:\tlearn: 1531.5303572\ttotal: 20.3s\tremaining: 3.31s\n",
      "1290:\tlearn: 1531.4385005\ttotal: 20.4s\tremaining: 3.3s\n",
      "1291:\tlearn: 1531.3912256\ttotal: 20.4s\tremaining: 3.28s\n",
      "1292:\tlearn: 1531.3483002\ttotal: 20.4s\tremaining: 3.27s\n",
      "1293:\tlearn: 1531.2581560\ttotal: 20.4s\tremaining: 3.25s\n",
      "1294:\tlearn: 1531.2067545\ttotal: 20.4s\tremaining: 3.23s\n",
      "1295:\tlearn: 1531.1256491\ttotal: 20.5s\tremaining: 3.22s\n",
      "1296:\tlearn: 1531.0307847\ttotal: 20.5s\tremaining: 3.2s\n",
      "1297:\tlearn: 1530.9423383\ttotal: 20.5s\tremaining: 3.19s\n",
      "1298:\tlearn: 1530.9018393\ttotal: 20.5s\tremaining: 3.17s\n",
      "1299:\tlearn: 1530.8201280\ttotal: 20.5s\tremaining: 3.16s\n",
      "1300:\tlearn: 1530.7324811\ttotal: 20.5s\tremaining: 3.14s\n",
      "1301:\tlearn: 1530.6843916\ttotal: 20.6s\tremaining: 3.13s\n",
      "1302:\tlearn: 1530.5830495\ttotal: 20.6s\tremaining: 3.11s\n",
      "1303:\tlearn: 1530.4958172\ttotal: 20.6s\tremaining: 3.09s\n",
      "1304:\tlearn: 1530.4599209\ttotal: 20.6s\tremaining: 3.08s\n",
      "1305:\tlearn: 1530.3212360\ttotal: 20.6s\tremaining: 3.06s\n",
      "1306:\tlearn: 1530.2759545\ttotal: 20.6s\tremaining: 3.05s\n",
      "1307:\tlearn: 1530.2103657\ttotal: 20.7s\tremaining: 3.03s\n",
      "1308:\tlearn: 1530.1374041\ttotal: 20.7s\tremaining: 3.02s\n",
      "1309:\tlearn: 1530.0694546\ttotal: 20.7s\tremaining: 3s\n",
      "1310:\tlearn: 1530.0128069\ttotal: 20.7s\tremaining: 2.98s\n",
      "1311:\tlearn: 1529.8858061\ttotal: 20.7s\tremaining: 2.97s\n",
      "1312:\tlearn: 1529.8342870\ttotal: 20.7s\tremaining: 2.95s\n",
      "1313:\tlearn: 1529.7493432\ttotal: 20.8s\tremaining: 2.94s\n",
      "1314:\tlearn: 1529.6267983\ttotal: 20.8s\tremaining: 2.92s\n",
      "1315:\tlearn: 1529.5622150\ttotal: 20.8s\tremaining: 2.91s\n",
      "1316:\tlearn: 1529.4661814\ttotal: 20.8s\tremaining: 2.89s\n",
      "1317:\tlearn: 1529.4035405\ttotal: 20.8s\tremaining: 2.88s\n",
      "1318:\tlearn: 1529.2931222\ttotal: 20.9s\tremaining: 2.86s\n",
      "1319:\tlearn: 1529.2272326\ttotal: 20.9s\tremaining: 2.85s\n",
      "1320:\tlearn: 1529.0955681\ttotal: 20.9s\tremaining: 2.83s\n",
      "1321:\tlearn: 1529.0180662\ttotal: 20.9s\tremaining: 2.81s\n",
      "1322:\tlearn: 1528.9500406\ttotal: 20.9s\tremaining: 2.8s\n",
      "1323:\tlearn: 1528.9129805\ttotal: 20.9s\tremaining: 2.78s\n",
      "1324:\tlearn: 1528.8199267\ttotal: 21s\tremaining: 2.77s\n",
      "1325:\tlearn: 1528.7158832\ttotal: 21s\tremaining: 2.75s\n",
      "1326:\tlearn: 1528.5791147\ttotal: 21s\tremaining: 2.74s\n",
      "1327:\tlearn: 1528.4795076\ttotal: 21s\tremaining: 2.72s\n",
      "1328:\tlearn: 1528.4221645\ttotal: 21s\tremaining: 2.71s\n",
      "1329:\tlearn: 1528.3114914\ttotal: 21.1s\tremaining: 2.69s\n",
      "1330:\tlearn: 1528.2528807\ttotal: 21.1s\tremaining: 2.68s\n",
      "1331:\tlearn: 1528.1605747\ttotal: 21.1s\tremaining: 2.66s\n",
      "1332:\tlearn: 1528.1299712\ttotal: 21.1s\tremaining: 2.65s\n",
      "1333:\tlearn: 1528.0478905\ttotal: 21.1s\tremaining: 2.63s\n",
      "1334:\tlearn: 1527.9453662\ttotal: 21.1s\tremaining: 2.61s\n",
      "1335:\tlearn: 1527.8440959\ttotal: 21.2s\tremaining: 2.6s\n",
      "1336:\tlearn: 1527.7086438\ttotal: 21.2s\tremaining: 2.58s\n",
      "1337:\tlearn: 1527.6171948\ttotal: 21.2s\tremaining: 2.57s\n",
      "1338:\tlearn: 1527.5046543\ttotal: 21.2s\tremaining: 2.55s\n",
      "1339:\tlearn: 1527.4092852\ttotal: 21.2s\tremaining: 2.54s\n",
      "1340:\tlearn: 1527.3092630\ttotal: 21.3s\tremaining: 2.52s\n",
      "1341:\tlearn: 1527.2632304\ttotal: 21.3s\tremaining: 2.5s\n",
      "1342:\tlearn: 1527.1875776\ttotal: 21.3s\tremaining: 2.49s\n",
      "1343:\tlearn: 1527.1734374\ttotal: 21.3s\tremaining: 2.47s\n",
      "1344:\tlearn: 1527.0694083\ttotal: 21.3s\tremaining: 2.46s\n",
      "1345:\tlearn: 1526.9550028\ttotal: 21.3s\tremaining: 2.44s\n",
      "1346:\tlearn: 1526.8391264\ttotal: 21.3s\tremaining: 2.42s\n",
      "1347:\tlearn: 1526.7436544\ttotal: 21.4s\tremaining: 2.41s\n",
      "1348:\tlearn: 1526.6732218\ttotal: 21.4s\tremaining: 2.39s\n",
      "1349:\tlearn: 1526.6131780\ttotal: 21.4s\tremaining: 2.38s\n",
      "1350:\tlearn: 1526.5396062\ttotal: 21.4s\tremaining: 2.36s\n",
      "1351:\tlearn: 1526.4373582\ttotal: 21.4s\tremaining: 2.35s\n",
      "1352:\tlearn: 1526.3796563\ttotal: 21.4s\tremaining: 2.33s\n",
      "1353:\tlearn: 1526.3013857\ttotal: 21.5s\tremaining: 2.31s\n",
      "1354:\tlearn: 1526.2574171\ttotal: 21.5s\tremaining: 2.3s\n",
      "1355:\tlearn: 1526.1656900\ttotal: 21.5s\tremaining: 2.28s\n",
      "1356:\tlearn: 1526.1114468\ttotal: 21.5s\tremaining: 2.27s\n",
      "1357:\tlearn: 1526.0733447\ttotal: 21.5s\tremaining: 2.25s\n",
      "1358:\tlearn: 1525.9579057\ttotal: 21.5s\tremaining: 2.23s\n",
      "1359:\tlearn: 1525.8403823\ttotal: 21.6s\tremaining: 2.22s\n",
      "1360:\tlearn: 1525.7914153\ttotal: 21.6s\tremaining: 2.2s\n",
      "1361:\tlearn: 1525.6624266\ttotal: 21.6s\tremaining: 2.19s\n",
      "1362:\tlearn: 1525.5354074\ttotal: 21.6s\tremaining: 2.17s\n",
      "1363:\tlearn: 1525.4638954\ttotal: 21.6s\tremaining: 2.16s\n",
      "1364:\tlearn: 1525.3763266\ttotal: 21.7s\tremaining: 2.14s\n",
      "1365:\tlearn: 1525.3009886\ttotal: 21.7s\tremaining: 2.13s\n",
      "1366:\tlearn: 1525.1886242\ttotal: 21.7s\tremaining: 2.11s\n",
      "1367:\tlearn: 1525.1245566\ttotal: 21.7s\tremaining: 2.1s\n",
      "1368:\tlearn: 1525.0272058\ttotal: 21.7s\tremaining: 2.08s\n",
      "1369:\tlearn: 1524.9331341\ttotal: 21.8s\tremaining: 2.06s\n",
      "1370:\tlearn: 1524.8844265\ttotal: 21.8s\tremaining: 2.05s\n",
      "1371:\tlearn: 1524.7806548\ttotal: 21.8s\tremaining: 2.03s\n",
      "1372:\tlearn: 1524.6687067\ttotal: 21.8s\tremaining: 2.02s\n",
      "1373:\tlearn: 1524.6019042\ttotal: 21.8s\tremaining: 2s\n",
      "1374:\tlearn: 1524.5549179\ttotal: 21.9s\tremaining: 1.99s\n",
      "1375:\tlearn: 1524.4868698\ttotal: 21.9s\tremaining: 1.97s\n",
      "1376:\tlearn: 1524.4223850\ttotal: 21.9s\tremaining: 1.96s\n",
      "1377:\tlearn: 1524.3754317\ttotal: 21.9s\tremaining: 1.94s\n",
      "1378:\tlearn: 1524.2925552\ttotal: 21.9s\tremaining: 1.92s\n",
      "1379:\tlearn: 1524.2021710\ttotal: 21.9s\tremaining: 1.91s\n",
      "1380:\tlearn: 1524.1309353\ttotal: 22s\tremaining: 1.89s\n",
      "1381:\tlearn: 1524.0642075\ttotal: 22s\tremaining: 1.88s\n",
      "1382:\tlearn: 1523.9962591\ttotal: 22s\tremaining: 1.86s\n",
      "1383:\tlearn: 1523.8588787\ttotal: 22s\tremaining: 1.84s\n",
      "1384:\tlearn: 1523.7348993\ttotal: 22s\tremaining: 1.83s\n",
      "1385:\tlearn: 1523.6666080\ttotal: 22.1s\tremaining: 1.81s\n",
      "1386:\tlearn: 1523.5686397\ttotal: 22.1s\tremaining: 1.8s\n",
      "1387:\tlearn: 1523.5046111\ttotal: 22.1s\tremaining: 1.78s\n",
      "1388:\tlearn: 1523.4530217\ttotal: 22.1s\tremaining: 1.77s\n",
      "1389:\tlearn: 1523.3380372\ttotal: 22.1s\tremaining: 1.75s\n",
      "1390:\tlearn: 1523.2808699\ttotal: 22.1s\tremaining: 1.74s\n",
      "1391:\tlearn: 1523.2275923\ttotal: 22.2s\tremaining: 1.72s\n",
      "1392:\tlearn: 1523.1584746\ttotal: 22.2s\tremaining: 1.7s\n",
      "1393:\tlearn: 1523.1200154\ttotal: 22.2s\tremaining: 1.69s\n",
      "1394:\tlearn: 1523.0554501\ttotal: 22.2s\tremaining: 1.67s\n",
      "1395:\tlearn: 1523.0042602\ttotal: 22.2s\tremaining: 1.66s\n",
      "1396:\tlearn: 1522.9622132\ttotal: 22.3s\tremaining: 1.64s\n",
      "1397:\tlearn: 1522.8883680\ttotal: 22.3s\tremaining: 1.63s\n",
      "1398:\tlearn: 1522.8365653\ttotal: 22.3s\tremaining: 1.61s\n",
      "1399:\tlearn: 1522.8157217\ttotal: 22.3s\tremaining: 1.59s\n",
      "1400:\tlearn: 1522.7482767\ttotal: 22.3s\tremaining: 1.58s\n",
      "1401:\tlearn: 1522.6775317\ttotal: 22.3s\tremaining: 1.56s\n",
      "1402:\tlearn: 1522.5956163\ttotal: 22.4s\tremaining: 1.54s\n",
      "1403:\tlearn: 1522.5627047\ttotal: 22.4s\tremaining: 1.53s\n",
      "1404:\tlearn: 1522.4619950\ttotal: 22.4s\tremaining: 1.51s\n",
      "1405:\tlearn: 1522.2947887\ttotal: 22.4s\tremaining: 1.5s\n",
      "1406:\tlearn: 1522.2017822\ttotal: 22.4s\tremaining: 1.48s\n",
      "1407:\tlearn: 1522.1435122\ttotal: 22.4s\tremaining: 1.47s\n",
      "1408:\tlearn: 1522.0283716\ttotal: 22.5s\tremaining: 1.45s\n",
      "1409:\tlearn: 1521.9779790\ttotal: 22.5s\tremaining: 1.43s\n",
      "1410:\tlearn: 1521.9113946\ttotal: 22.5s\tremaining: 1.42s\n"
     ]
    },
    {
     "name": "stdout",
     "output_type": "stream",
     "text": [
      "1411:\tlearn: 1521.8258616\ttotal: 22.5s\tremaining: 1.4s\n",
      "1412:\tlearn: 1521.7224402\ttotal: 22.5s\tremaining: 1.39s\n",
      "1413:\tlearn: 1521.6262800\ttotal: 22.5s\tremaining: 1.37s\n",
      "1414:\tlearn: 1521.5558553\ttotal: 22.6s\tremaining: 1.36s\n",
      "1415:\tlearn: 1521.4777307\ttotal: 22.6s\tremaining: 1.34s\n",
      "1416:\tlearn: 1521.3586314\ttotal: 22.6s\tremaining: 1.32s\n",
      "1417:\tlearn: 1521.3184960\ttotal: 22.6s\tremaining: 1.31s\n",
      "1418:\tlearn: 1521.2540584\ttotal: 22.6s\tremaining: 1.29s\n",
      "1419:\tlearn: 1521.2051227\ttotal: 22.7s\tremaining: 1.28s\n",
      "1420:\tlearn: 1521.1439338\ttotal: 22.7s\tremaining: 1.26s\n",
      "1421:\tlearn: 1521.0629421\ttotal: 22.7s\tremaining: 1.24s\n",
      "1422:\tlearn: 1520.9767508\ttotal: 22.7s\tremaining: 1.23s\n",
      "1423:\tlearn: 1520.9325340\ttotal: 22.7s\tremaining: 1.21s\n",
      "1424:\tlearn: 1520.8698412\ttotal: 22.8s\tremaining: 1.2s\n",
      "1425:\tlearn: 1520.8498031\ttotal: 22.8s\tremaining: 1.18s\n",
      "1426:\tlearn: 1520.7880039\ttotal: 22.8s\tremaining: 1.17s\n",
      "1427:\tlearn: 1520.6877156\ttotal: 22.8s\tremaining: 1.15s\n",
      "1428:\tlearn: 1520.6209334\ttotal: 22.8s\tremaining: 1.13s\n",
      "1429:\tlearn: 1520.5568858\ttotal: 22.8s\tremaining: 1.12s\n",
      "1430:\tlearn: 1520.5112834\ttotal: 22.9s\tremaining: 1.1s\n",
      "1431:\tlearn: 1520.4258180\ttotal: 22.9s\tremaining: 1.09s\n",
      "1432:\tlearn: 1520.3320720\ttotal: 22.9s\tremaining: 1.07s\n",
      "1433:\tlearn: 1520.2812627\ttotal: 22.9s\tremaining: 1.05s\n",
      "1434:\tlearn: 1520.2343967\ttotal: 22.9s\tremaining: 1.04s\n",
      "1435:\tlearn: 1520.1208296\ttotal: 22.9s\tremaining: 1.02s\n",
      "1436:\tlearn: 1520.0212275\ttotal: 23s\tremaining: 1.01s\n",
      "1437:\tlearn: 1519.9164769\ttotal: 23s\tremaining: 991ms\n",
      "1438:\tlearn: 1519.8192071\ttotal: 23s\tremaining: 975ms\n",
      "1439:\tlearn: 1519.6929667\ttotal: 23s\tremaining: 959ms\n",
      "1440:\tlearn: 1519.6486172\ttotal: 23s\tremaining: 943ms\n",
      "1441:\tlearn: 1519.5935903\ttotal: 23s\tremaining: 927ms\n",
      "1442:\tlearn: 1519.5154408\ttotal: 23.1s\tremaining: 911ms\n",
      "1443:\tlearn: 1519.4595012\ttotal: 23.1s\tremaining: 895ms\n",
      "1444:\tlearn: 1519.3784784\ttotal: 23.1s\tremaining: 879ms\n",
      "1445:\tlearn: 1519.3137929\ttotal: 23.1s\tremaining: 863ms\n",
      "1446:\tlearn: 1519.2560965\ttotal: 23.1s\tremaining: 847ms\n",
      "1447:\tlearn: 1519.2106315\ttotal: 23.1s\tremaining: 831ms\n",
      "1448:\tlearn: 1519.0694915\ttotal: 23.2s\tremaining: 815ms\n",
      "1449:\tlearn: 1518.9658834\ttotal: 23.2s\tremaining: 800ms\n",
      "1450:\tlearn: 1518.9475636\ttotal: 23.2s\tremaining: 784ms\n",
      "1451:\tlearn: 1518.8967546\ttotal: 23.2s\tremaining: 768ms\n",
      "1452:\tlearn: 1518.8297892\ttotal: 23.2s\tremaining: 752ms\n",
      "1453:\tlearn: 1518.7281219\ttotal: 23.3s\tremaining: 736ms\n",
      "1454:\tlearn: 1518.6104874\ttotal: 23.3s\tremaining: 720ms\n",
      "1455:\tlearn: 1518.5123908\ttotal: 23.3s\tremaining: 704ms\n",
      "1456:\tlearn: 1518.4136241\ttotal: 23.3s\tremaining: 688ms\n",
      "1457:\tlearn: 1518.3288051\ttotal: 23.3s\tremaining: 673ms\n",
      "1458:\tlearn: 1518.2387371\ttotal: 23.4s\tremaining: 657ms\n",
      "1459:\tlearn: 1518.1658223\ttotal: 23.4s\tremaining: 641ms\n",
      "1460:\tlearn: 1518.1331075\ttotal: 23.4s\tremaining: 625ms\n",
      "1461:\tlearn: 1518.0879735\ttotal: 23.4s\tremaining: 609ms\n",
      "1462:\tlearn: 1518.0253577\ttotal: 23.4s\tremaining: 593ms\n",
      "1463:\tlearn: 1517.9733226\ttotal: 23.5s\tremaining: 577ms\n",
      "1464:\tlearn: 1517.9032978\ttotal: 23.5s\tremaining: 561ms\n",
      "1465:\tlearn: 1517.8426664\ttotal: 23.5s\tremaining: 545ms\n",
      "1466:\tlearn: 1517.7594000\ttotal: 23.5s\tremaining: 529ms\n",
      "1467:\tlearn: 1517.6696460\ttotal: 23.5s\tremaining: 513ms\n",
      "1468:\tlearn: 1517.6311378\ttotal: 23.5s\tremaining: 497ms\n",
      "1469:\tlearn: 1517.5938505\ttotal: 23.6s\tremaining: 481ms\n",
      "1470:\tlearn: 1517.5509079\ttotal: 23.6s\tremaining: 465ms\n",
      "1471:\tlearn: 1517.4617357\ttotal: 23.6s\tremaining: 449ms\n",
      "1472:\tlearn: 1517.3938875\ttotal: 23.6s\tremaining: 433ms\n",
      "1473:\tlearn: 1517.3222245\ttotal: 23.6s\tremaining: 417ms\n",
      "1474:\tlearn: 1517.2499839\ttotal: 23.6s\tremaining: 401ms\n",
      "1475:\tlearn: 1517.1480521\ttotal: 23.7s\tremaining: 385ms\n",
      "1476:\tlearn: 1517.0717479\ttotal: 23.7s\tremaining: 369ms\n",
      "1477:\tlearn: 1517.0007002\ttotal: 23.7s\tremaining: 353ms\n",
      "1478:\tlearn: 1516.9626721\ttotal: 23.7s\tremaining: 337ms\n",
      "1479:\tlearn: 1516.8817390\ttotal: 23.7s\tremaining: 321ms\n",
      "1480:\tlearn: 1516.8028025\ttotal: 23.7s\tremaining: 305ms\n",
      "1481:\tlearn: 1516.7624126\ttotal: 23.8s\tremaining: 289ms\n",
      "1482:\tlearn: 1516.6401969\ttotal: 23.8s\tremaining: 273ms\n",
      "1483:\tlearn: 1516.5550244\ttotal: 23.8s\tremaining: 257ms\n",
      "1484:\tlearn: 1516.5001472\ttotal: 23.8s\tremaining: 241ms\n",
      "1485:\tlearn: 1516.4045841\ttotal: 23.8s\tremaining: 225ms\n",
      "1486:\tlearn: 1516.3193026\ttotal: 23.9s\tremaining: 209ms\n",
      "1487:\tlearn: 1516.2126942\ttotal: 23.9s\tremaining: 193ms\n",
      "1488:\tlearn: 1516.1589302\ttotal: 23.9s\tremaining: 176ms\n",
      "1489:\tlearn: 1516.1206179\ttotal: 23.9s\tremaining: 160ms\n",
      "1490:\tlearn: 1516.0776680\ttotal: 23.9s\tremaining: 144ms\n",
      "1491:\tlearn: 1515.9607446\ttotal: 23.9s\tremaining: 128ms\n",
      "1492:\tlearn: 1515.8995593\ttotal: 24s\tremaining: 112ms\n",
      "1493:\tlearn: 1515.8532545\ttotal: 24s\tremaining: 96.3ms\n",
      "1494:\tlearn: 1515.7938785\ttotal: 24s\tremaining: 80.2ms\n",
      "1495:\tlearn: 1515.7578817\ttotal: 24s\tremaining: 64.2ms\n",
      "1496:\tlearn: 1515.7222222\ttotal: 24s\tremaining: 48.1ms\n",
      "1497:\tlearn: 1515.6626121\ttotal: 24s\tremaining: 32.1ms\n",
      "1498:\tlearn: 1515.5598080\ttotal: 24.1s\tremaining: 16ms\n",
      "1499:\tlearn: 1515.5021954\ttotal: 24.1s\tremaining: 0us\n",
      "CPU times: total: 2min 39s\n",
      "Wall time: 24.5 s\n"
     ]
    },
    {
     "data": {
      "text/plain": [
       "<catboost.core.CatBoostRegressor at 0x139df109390>"
      ]
     },
     "execution_count": 142,
     "metadata": {},
     "output_type": "execute_result"
    }
   ],
   "source": [
    "%%time\n",
    "\n",
    "#Обучим модель\n",
    "\n",
    "model.fit(features_train_oe, target_train)"
   ]
  },
  {
   "cell_type": "code",
   "execution_count": 143,
   "metadata": {},
   "outputs": [
    {
     "name": "stdout",
     "output_type": "stream",
     "text": [
      "CPU times: total: 172 ms\n",
      "Wall time: 74 ms\n"
     ]
    }
   ],
   "source": [
    "%%time\n",
    "\n",
    "# Предсказание\n",
    "\n",
    "predictions = model.predict(features_valid_oe)"
   ]
  },
  {
   "cell_type": "code",
   "execution_count": 144,
   "metadata": {},
   "outputs": [
    {
     "data": {
      "text/plain": [
       "1682.404093038962"
      ]
     },
     "execution_count": 144,
     "metadata": {},
     "output_type": "execute_result"
    }
   ],
   "source": [
    "#Качетсво\n",
    "mean_squared_error(target_valid, predictions, squared=False)"
   ]
  },
  {
   "cell_type": "markdown",
   "metadata": {},
   "source": [
    "Наилучшая модель показала значение метрики 1682, причем время обучения равно 24,5 с, а предсказания - 74мс."
   ]
  },
  {
   "cell_type": "markdown",
   "metadata": {},
   "source": [
    "## RandomForestRegressor"
   ]
  },
  {
   "cell_type": "markdown",
   "metadata": {},
   "source": [
    "Мы не будем подбирать гиперпараметры для случайного леса, т.к. он обучается слишком долго. Рассмотрим значение метрики для модели с параметрами: n_estimators = 100, max_depth=15"
   ]
  },
  {
   "cell_type": "code",
   "execution_count": 82,
   "metadata": {},
   "outputs": [],
   "source": [
    "# Инициализация модели\n",
    "model = RandomForestRegressor(n_estimators=100,max_depth=15,random_state=12345)\n"
   ]
  },
  {
   "cell_type": "code",
   "execution_count": 83,
   "metadata": {},
   "outputs": [
    {
     "name": "stdout",
     "output_type": "stream",
     "text": [
      "CPU times: total: 1min 33s\n",
      "Wall time: 1min 35s\n"
     ]
    },
    {
     "data": {
      "text/html": [
       "<style>#sk-container-id-10 {color: black;}#sk-container-id-10 pre{padding: 0;}#sk-container-id-10 div.sk-toggleable {background-color: white;}#sk-container-id-10 label.sk-toggleable__label {cursor: pointer;display: block;width: 100%;margin-bottom: 0;padding: 0.3em;box-sizing: border-box;text-align: center;}#sk-container-id-10 label.sk-toggleable__label-arrow:before {content: \"▸\";float: left;margin-right: 0.25em;color: #696969;}#sk-container-id-10 label.sk-toggleable__label-arrow:hover:before {color: black;}#sk-container-id-10 div.sk-estimator:hover label.sk-toggleable__label-arrow:before {color: black;}#sk-container-id-10 div.sk-toggleable__content {max-height: 0;max-width: 0;overflow: hidden;text-align: left;background-color: #f0f8ff;}#sk-container-id-10 div.sk-toggleable__content pre {margin: 0.2em;color: black;border-radius: 0.25em;background-color: #f0f8ff;}#sk-container-id-10 input.sk-toggleable__control:checked~div.sk-toggleable__content {max-height: 200px;max-width: 100%;overflow: auto;}#sk-container-id-10 input.sk-toggleable__control:checked~label.sk-toggleable__label-arrow:before {content: \"▾\";}#sk-container-id-10 div.sk-estimator input.sk-toggleable__control:checked~label.sk-toggleable__label {background-color: #d4ebff;}#sk-container-id-10 div.sk-label input.sk-toggleable__control:checked~label.sk-toggleable__label {background-color: #d4ebff;}#sk-container-id-10 input.sk-hidden--visually {border: 0;clip: rect(1px 1px 1px 1px);clip: rect(1px, 1px, 1px, 1px);height: 1px;margin: -1px;overflow: hidden;padding: 0;position: absolute;width: 1px;}#sk-container-id-10 div.sk-estimator {font-family: monospace;background-color: #f0f8ff;border: 1px dotted black;border-radius: 0.25em;box-sizing: border-box;margin-bottom: 0.5em;}#sk-container-id-10 div.sk-estimator:hover {background-color: #d4ebff;}#sk-container-id-10 div.sk-parallel-item::after {content: \"\";width: 100%;border-bottom: 1px solid gray;flex-grow: 1;}#sk-container-id-10 div.sk-label:hover label.sk-toggleable__label {background-color: #d4ebff;}#sk-container-id-10 div.sk-serial::before {content: \"\";position: absolute;border-left: 1px solid gray;box-sizing: border-box;top: 0;bottom: 0;left: 50%;z-index: 0;}#sk-container-id-10 div.sk-serial {display: flex;flex-direction: column;align-items: center;background-color: white;padding-right: 0.2em;padding-left: 0.2em;position: relative;}#sk-container-id-10 div.sk-item {position: relative;z-index: 1;}#sk-container-id-10 div.sk-parallel {display: flex;align-items: stretch;justify-content: center;background-color: white;position: relative;}#sk-container-id-10 div.sk-item::before, #sk-container-id-10 div.sk-parallel-item::before {content: \"\";position: absolute;border-left: 1px solid gray;box-sizing: border-box;top: 0;bottom: 0;left: 50%;z-index: -1;}#sk-container-id-10 div.sk-parallel-item {display: flex;flex-direction: column;z-index: 1;position: relative;background-color: white;}#sk-container-id-10 div.sk-parallel-item:first-child::after {align-self: flex-end;width: 50%;}#sk-container-id-10 div.sk-parallel-item:last-child::after {align-self: flex-start;width: 50%;}#sk-container-id-10 div.sk-parallel-item:only-child::after {width: 0;}#sk-container-id-10 div.sk-dashed-wrapped {border: 1px dashed gray;margin: 0 0.4em 0.5em 0.4em;box-sizing: border-box;padding-bottom: 0.4em;background-color: white;}#sk-container-id-10 div.sk-label label {font-family: monospace;font-weight: bold;display: inline-block;line-height: 1.2em;}#sk-container-id-10 div.sk-label-container {text-align: center;}#sk-container-id-10 div.sk-container {/* jupyter's `normalize.less` sets `[hidden] { display: none; }` but bootstrap.min.css set `[hidden] { display: none !important; }` so we also need the `!important` here to be able to override the default hidden behavior on the sphinx rendered scikit-learn.org. See: https://github.com/scikit-learn/scikit-learn/issues/21755 */display: inline-block !important;position: relative;}#sk-container-id-10 div.sk-text-repr-fallback {display: none;}</style><div id=\"sk-container-id-10\" class=\"sk-top-container\"><div class=\"sk-text-repr-fallback\"><pre>RandomForestRegressor(max_depth=15, random_state=12345)</pre><b>In a Jupyter environment, please rerun this cell to show the HTML representation or trust the notebook. <br />On GitHub, the HTML representation is unable to render, please try loading this page with nbviewer.org.</b></div><div class=\"sk-container\" hidden><div class=\"sk-item\"><div class=\"sk-estimator sk-toggleable\"><input class=\"sk-toggleable__control sk-hidden--visually\" id=\"sk-estimator-id-10\" type=\"checkbox\" checked><label for=\"sk-estimator-id-10\" class=\"sk-toggleable__label sk-toggleable__label-arrow\">RandomForestRegressor</label><div class=\"sk-toggleable__content\"><pre>RandomForestRegressor(max_depth=15, random_state=12345)</pre></div></div></div></div></div>"
      ],
      "text/plain": [
       "RandomForestRegressor(max_depth=15, random_state=12345)"
      ]
     },
     "execution_count": 83,
     "metadata": {},
     "output_type": "execute_result"
    }
   ],
   "source": [
    "%%time\n",
    "\n",
    "#время обучения\n",
    "\n",
    "model.fit(features_train_oe,target_train)"
   ]
  },
  {
   "cell_type": "code",
   "execution_count": 84,
   "metadata": {},
   "outputs": [
    {
     "name": "stdout",
     "output_type": "stream",
     "text": [
      "CPU times: total: 3.03 s\n",
      "Wall time: 3.16 s\n"
     ]
    }
   ],
   "source": [
    "%%time\n",
    "\n",
    "#время предсказания\n",
    "\n",
    "predictions = model.predict(features_valid_oe)"
   ]
  },
  {
   "cell_type": "code",
   "execution_count": 85,
   "metadata": {},
   "outputs": [
    {
     "name": "stdout",
     "output_type": "stream",
     "text": [
      "RMSE RandomForesClassifier: 1695.767292404521\n"
     ]
    }
   ],
   "source": [
    "print('RMSE RandomForesClassifier:', mean_squared_error(target_valid,predictions,squared=False))"
   ]
  },
  {
   "cell_type": "markdown",
   "metadata": {},
   "source": [
    "У нас получилась модель со значение RMSE 1695.767292404521, временем обучения - 95с, предсказания - 3.16 с."
   ]
  },
  {
   "cell_type": "markdown",
   "metadata": {},
   "source": [
    "# Анализ моделей"
   ]
  },
  {
   "cell_type": "markdown",
   "metadata": {},
   "source": [
    "1.Cреди линейных моделей лучше всех себя показала Ridge с показателем RMSE 2642.931213478334"
   ]
  },
  {
   "cell_type": "markdown",
   "metadata": {},
   "source": [
    "2.модель LightGBM выдала метрику, равную  1669.8511630061125, время обучения 4.63 с, а предсказания - 1.04."
   ]
  },
  {
   "cell_type": "markdown",
   "metadata": {},
   "source": [
    "3.Catboost показала значение метрики 1682, причем время обучения равно 24,5 с, а предсказания - 74мс."
   ]
  },
  {
   "cell_type": "markdown",
   "metadata": {},
   "source": [
    "4.RF получилась модель со значение RMSE 1695.767292404521, временем обучения - 95с, предсказания - 3.16 с."
   ]
  },
  {
   "cell_type": "markdown",
   "metadata": {},
   "source": [
    "Таким образом, Наилучшая модель с наименьшим RMSE это LBGMRegressor."
   ]
  },
  {
   "cell_type": "markdown",
   "metadata": {},
   "source": [
    "# Тестирование лучшей модели"
   ]
  },
  {
   "cell_type": "markdown",
   "metadata": {},
   "source": [
    "Проведем тестирование лучшей модели."
   ]
  },
  {
   "cell_type": "code",
   "execution_count": 147,
   "metadata": {},
   "outputs": [
    {
     "name": "stdout",
     "output_type": "stream",
     "text": [
      "[LightGBM] [Warning] Unknown parameter: iterations\n",
      "[LightGBM] [Warning] num_leaves is set=31, max_leaves=30 will be ignored. Current value: num_leaves=31\n",
      "[LightGBM] [Warning] Unknown parameter: iterations\n",
      "[LightGBM] [Warning] num_leaves is set=31, max_leaves=30 will be ignored. Current value: num_leaves=31\n",
      "[LightGBM] [Info] Auto-choosing row-wise multi-threading, the overhead of testing was 0.005798 seconds.\n",
      "You can set `force_row_wise=true` to remove the overhead.\n",
      "And if memory is not enough, you can set `force_col_wise=true`.\n",
      "[LightGBM] [Info] Total Bins 628\n",
      "[LightGBM] [Info] Number of data points in the train set: 166045, number of used features: 9\n",
      "[LightGBM] [Info] Start training from score 5154.928013\n",
      "[LightGBM] [Warning] Unknown parameter: iterations\n",
      "[LightGBM] [Warning] num_leaves is set=31, max_leaves=30 will be ignored. Current value: num_leaves=31\n",
      "1744.0722474091358\n"
     ]
    }
   ],
   "source": [
    "model = LGBMRegressor(iterations=1000, max_leaves=30, random_state=12345)\n",
    "model.fit(features_train_oe, target_train)\n",
    "predictions = model.predict(features_test_oe)\n",
    "print(mean_squared_error(target_test,predictions,squared = False))"
   ]
  },
  {
   "cell_type": "markdown",
   "metadata": {},
   "source": [
    "На тестовой выборке наша метрика получилась равной 1744."
   ]
  }
 ],
 "metadata": {
  "ExecuteTimeLog": [
   {
    "duration": 443,
    "start_time": "2022-09-17T11:07:07.558Z"
   },
   {
    "duration": 2932,
    "start_time": "2022-09-17T11:07:47.668Z"
   },
   {
    "duration": 984,
    "start_time": "2022-09-17T11:08:03.866Z"
   },
   {
    "duration": 979,
    "start_time": "2022-09-17T11:08:14.827Z"
   },
   {
    "duration": 846,
    "start_time": "2022-09-17T11:08:26.456Z"
   },
   {
    "duration": 980,
    "start_time": "2022-09-17T11:08:30.902Z"
   },
   {
    "duration": 806,
    "start_time": "2022-09-17T11:08:38.954Z"
   },
   {
    "duration": 935,
    "start_time": "2022-09-17T11:08:50.212Z"
   },
   {
    "duration": 1077,
    "start_time": "2022-09-17T11:09:34.460Z"
   },
   {
    "duration": 391,
    "start_time": "2022-09-18T11:29:28.120Z"
   },
   {
    "duration": 3377,
    "start_time": "2022-09-18T11:29:28.513Z"
   },
   {
    "duration": 1024,
    "start_time": "2022-09-18T11:34:10.403Z"
   },
   {
    "duration": 1012,
    "start_time": "2022-09-18T11:34:19.201Z"
   },
   {
    "duration": 901,
    "start_time": "2022-09-18T11:34:46.904Z"
   },
   {
    "duration": 65,
    "start_time": "2022-09-18T11:41:35.117Z"
   },
   {
    "duration": 8,
    "start_time": "2022-09-18T11:41:44.833Z"
   },
   {
    "duration": 8,
    "start_time": "2022-09-18T11:41:59.615Z"
   },
   {
    "duration": 93,
    "start_time": "2022-09-18T11:43:10.907Z"
   },
   {
    "duration": 7092,
    "start_time": "2022-09-18T11:43:22.606Z"
   },
   {
    "duration": 5750,
    "start_time": "2022-09-18T11:43:33.701Z"
   },
   {
    "duration": 5477,
    "start_time": "2022-09-18T11:43:42.610Z"
   },
   {
    "duration": 427,
    "start_time": "2022-09-18T11:44:20.162Z"
   },
   {
    "duration": 1140,
    "start_time": "2022-09-18T11:44:20.591Z"
   },
   {
    "duration": 7770,
    "start_time": "2022-09-18T11:44:21.732Z"
   },
   {
    "duration": 1300,
    "start_time": "2022-09-18T11:44:29.503Z"
   },
   {
    "duration": 403,
    "start_time": "2022-09-18T11:44:45.108Z"
   },
   {
    "duration": 1076,
    "start_time": "2022-09-18T11:44:45.513Z"
   },
   {
    "duration": 582,
    "start_time": "2022-09-18T11:44:46.595Z"
   },
   {
    "duration": 1198,
    "start_time": "2022-09-18T11:44:47.178Z"
   },
   {
    "duration": 8,
    "start_time": "2022-09-18T11:47:41.206Z"
   },
   {
    "duration": 7,
    "start_time": "2022-09-18T11:49:04.270Z"
   },
   {
    "duration": 7,
    "start_time": "2022-09-18T11:49:28.604Z"
   },
   {
    "duration": 5,
    "start_time": "2022-09-18T11:49:49.566Z"
   },
   {
    "duration": 4,
    "start_time": "2022-09-18T11:49:58.354Z"
   },
   {
    "duration": 4,
    "start_time": "2022-09-18T11:50:23.262Z"
   },
   {
    "duration": 4,
    "start_time": "2022-09-18T12:56:11.273Z"
   },
   {
    "duration": 13,
    "start_time": "2022-09-18T12:56:20.977Z"
   },
   {
    "duration": 464,
    "start_time": "2022-09-18T12:56:36.494Z"
   },
   {
    "duration": 1196,
    "start_time": "2022-09-18T12:56:36.960Z"
   },
   {
    "duration": 5,
    "start_time": "2022-09-18T12:56:38.157Z"
   },
   {
    "duration": 1458,
    "start_time": "2022-09-18T12:56:38.164Z"
   },
   {
    "duration": 79,
    "start_time": "2022-09-18T12:59:48.023Z"
   },
   {
    "duration": 22,
    "start_time": "2022-09-18T13:02:13.764Z"
   },
   {
    "duration": 13,
    "start_time": "2022-09-18T13:21:36.855Z"
   },
   {
    "duration": 10,
    "start_time": "2022-09-18T13:21:45.522Z"
   },
   {
    "duration": 35,
    "start_time": "2022-09-18T13:22:32.753Z"
   },
   {
    "duration": 113,
    "start_time": "2022-09-18T13:27:42.976Z"
   },
   {
    "duration": 38,
    "start_time": "2022-09-18T13:27:56.058Z"
   },
   {
    "duration": 814,
    "start_time": "2022-09-18T13:28:01.352Z"
   },
   {
    "duration": 143,
    "start_time": "2022-09-18T13:28:03.118Z"
   },
   {
    "duration": 8,
    "start_time": "2022-09-18T13:34:12.308Z"
   },
   {
    "duration": 160,
    "start_time": "2022-09-18T13:34:34.494Z"
   },
   {
    "duration": 1021,
    "start_time": "2022-09-18T19:23:56.094Z"
   },
   {
    "duration": 1313,
    "start_time": "2022-09-18T19:23:57.117Z"
   },
   {
    "duration": 4,
    "start_time": "2022-09-18T19:23:58.431Z"
   },
   {
    "duration": 64,
    "start_time": "2022-09-18T19:23:58.436Z"
   },
   {
    "duration": 112,
    "start_time": "2022-09-18T19:23:58.502Z"
   },
   {
    "duration": 195,
    "start_time": "2022-09-18T19:23:58.615Z"
   },
   {
    "duration": 3,
    "start_time": "2022-09-18T19:29:20.534Z"
   },
   {
    "duration": 18,
    "start_time": "2022-09-18T19:32:41.803Z"
   },
   {
    "duration": 88,
    "start_time": "2022-09-18T19:34:14.046Z"
   },
   {
    "duration": 113,
    "start_time": "2022-09-18T19:34:16.415Z"
   },
   {
    "duration": 780,
    "start_time": "2022-09-18T19:34:21.592Z"
   },
   {
    "duration": 793,
    "start_time": "2022-09-18T19:34:57.395Z"
   },
   {
    "duration": 128,
    "start_time": "2022-09-18T19:35:00.699Z"
   },
   {
    "duration": 169,
    "start_time": "2022-09-18T19:35:22.488Z"
   },
   {
    "duration": 189,
    "start_time": "2022-09-18T19:35:41.663Z"
   },
   {
    "duration": 191,
    "start_time": "2022-09-18T19:36:42.558Z"
   },
   {
    "duration": 1030,
    "start_time": "2022-09-19T12:14:08.109Z"
   },
   {
    "duration": 1284,
    "start_time": "2022-09-19T12:14:09.141Z"
   },
   {
    "duration": 4,
    "start_time": "2022-09-19T12:14:10.426Z"
   },
   {
    "duration": 111,
    "start_time": "2022-09-19T12:14:10.431Z"
   },
   {
    "duration": 112,
    "start_time": "2022-09-19T12:14:10.544Z"
   },
   {
    "duration": 775,
    "start_time": "2022-09-19T12:14:10.658Z"
   },
   {
    "duration": 134,
    "start_time": "2022-09-19T12:14:11.435Z"
   },
   {
    "duration": 132,
    "start_time": "2022-09-19T12:14:27.820Z"
   },
   {
    "duration": 133,
    "start_time": "2022-09-19T12:14:54.718Z"
   },
   {
    "duration": 107,
    "start_time": "2022-09-19T12:15:31.239Z"
   },
   {
    "duration": 129,
    "start_time": "2022-09-19T12:17:33.451Z"
   },
   {
    "duration": 5139,
    "start_time": "2022-09-19T12:17:59.311Z"
   },
   {
    "duration": 5862,
    "start_time": "2022-09-19T12:18:12.195Z"
   },
   {
    "duration": 505,
    "start_time": "2022-09-19T12:18:36.655Z"
   },
   {
    "duration": 9,
    "start_time": "2022-09-19T12:19:21.311Z"
   },
   {
    "duration": 4,
    "start_time": "2022-09-19T12:19:48.599Z"
   },
   {
    "duration": 9559,
    "start_time": "2022-09-19T12:20:02.589Z"
   },
   {
    "duration": 1052,
    "start_time": "2022-09-19T12:20:14.907Z"
   },
   {
    "duration": 4,
    "start_time": "2022-09-19T12:20:18.865Z"
   },
   {
    "duration": 5156,
    "start_time": "2022-09-19T12:20:27.003Z"
   },
   {
    "duration": 243,
    "start_time": "2022-09-19T12:20:33.111Z"
   },
   {
    "duration": 6,
    "start_time": "2022-09-19T12:20:35.611Z"
   },
   {
    "duration": 1627,
    "start_time": "2022-09-19T12:20:44.228Z"
   },
   {
    "duration": 87,
    "start_time": "2022-09-19T12:20:46.473Z"
   },
   {
    "duration": 4,
    "start_time": "2022-09-19T12:20:48.622Z"
   },
   {
    "duration": 4440,
    "start_time": "2022-09-19T12:20:57.513Z"
   },
   {
    "duration": 229,
    "start_time": "2022-09-19T12:21:02.624Z"
   },
   {
    "duration": 4,
    "start_time": "2022-09-19T12:21:06.115Z"
   },
   {
    "duration": 5058,
    "start_time": "2022-09-19T12:21:11.597Z"
   },
   {
    "duration": 392,
    "start_time": "2022-09-19T12:21:17.256Z"
   },
   {
    "duration": 4,
    "start_time": "2022-09-19T12:21:19.843Z"
   },
   {
    "duration": 3432,
    "start_time": "2022-09-19T12:21:25.019Z"
   },
   {
    "duration": 236,
    "start_time": "2022-09-19T12:21:29.124Z"
   },
   {
    "duration": 4,
    "start_time": "2022-09-19T12:21:31.862Z"
   },
   {
    "duration": 3476,
    "start_time": "2022-09-19T12:21:37.172Z"
   },
   {
    "duration": 314,
    "start_time": "2022-09-19T12:21:40.650Z"
   },
   {
    "duration": 4,
    "start_time": "2022-09-19T12:21:42.704Z"
   },
   {
    "duration": 3456,
    "start_time": "2022-09-19T12:21:46.701Z"
   },
   {
    "duration": 393,
    "start_time": "2022-09-19T12:21:50.159Z"
   },
   {
    "duration": 4,
    "start_time": "2022-09-19T12:21:52.208Z"
   },
   {
    "duration": 6032,
    "start_time": "2022-09-19T12:21:56.325Z"
   },
   {
    "duration": 3393,
    "start_time": "2022-09-19T12:22:03.166Z"
   },
   {
    "duration": 397,
    "start_time": "2022-09-19T12:22:06.560Z"
   },
   {
    "duration": 4,
    "start_time": "2022-09-19T12:22:06.958Z"
   },
   {
    "duration": 11051,
    "start_time": "2022-09-19T12:22:12.104Z"
   },
   {
    "duration": 395,
    "start_time": "2022-09-19T12:22:23.158Z"
   },
   {
    "duration": 4,
    "start_time": "2022-09-19T12:22:23.555Z"
   },
   {
    "duration": 3238,
    "start_time": "2022-09-19T12:22:28.618Z"
   },
   {
    "duration": 393,
    "start_time": "2022-09-19T12:22:31.858Z"
   },
   {
    "duration": 4,
    "start_time": "2022-09-19T12:22:32.253Z"
   },
   {
    "duration": 3750,
    "start_time": "2022-09-19T12:22:37.006Z"
   },
   {
    "duration": 301,
    "start_time": "2022-09-19T12:22:40.758Z"
   },
   {
    "duration": 4,
    "start_time": "2022-09-19T12:22:41.060Z"
   },
   {
    "duration": 3232,
    "start_time": "2022-09-19T12:22:47.716Z"
   },
   {
    "duration": 246,
    "start_time": "2022-09-19T12:22:51.508Z"
   },
   {
    "duration": 4,
    "start_time": "2022-09-19T12:22:52.737Z"
   },
   {
    "duration": 3799,
    "start_time": "2022-09-19T12:22:56.658Z"
   },
   {
    "duration": 393,
    "start_time": "2022-09-19T12:23:00.459Z"
   },
   {
    "duration": 3,
    "start_time": "2022-09-19T12:23:00.854Z"
   },
   {
    "duration": 3370,
    "start_time": "2022-09-19T12:23:05.482Z"
   },
   {
    "duration": 303,
    "start_time": "2022-09-19T12:23:08.854Z"
   },
   {
    "duration": 3,
    "start_time": "2022-09-19T12:23:09.159Z"
   },
   {
    "duration": 3195,
    "start_time": "2022-09-19T12:23:14.059Z"
   },
   {
    "duration": 395,
    "start_time": "2022-09-19T12:23:17.257Z"
   },
   {
    "duration": 4,
    "start_time": "2022-09-19T12:23:17.654Z"
   },
   {
    "duration": 3770,
    "start_time": "2022-09-19T12:23:22.195Z"
   },
   {
    "duration": 308,
    "start_time": "2022-09-19T12:23:26.048Z"
   },
   {
    "duration": 10,
    "start_time": "2022-09-19T12:23:26.358Z"
   },
   {
    "duration": 3888,
    "start_time": "2022-09-19T12:23:33.165Z"
   },
   {
    "duration": 393,
    "start_time": "2022-09-19T12:23:37.055Z"
   },
   {
    "duration": 4,
    "start_time": "2022-09-19T12:23:37.449Z"
   },
   {
    "duration": 5496,
    "start_time": "2022-09-19T12:23:42.358Z"
   },
   {
    "duration": 395,
    "start_time": "2022-09-19T12:23:47.856Z"
   },
   {
    "duration": 4,
    "start_time": "2022-09-19T12:23:48.252Z"
   },
   {
    "duration": 1679,
    "start_time": "2022-09-19T12:23:52.374Z"
   },
   {
    "duration": 198,
    "start_time": "2022-09-19T12:23:54.055Z"
   },
   {
    "duration": 4,
    "start_time": "2022-09-19T12:23:55.095Z"
   },
   {
    "duration": 2903,
    "start_time": "2022-09-19T12:24:00.953Z"
   },
   {
    "duration": 301,
    "start_time": "2022-09-19T12:24:03.858Z"
   },
   {
    "duration": 4,
    "start_time": "2022-09-19T12:24:04.161Z"
   },
   {
    "duration": 3379,
    "start_time": "2022-09-19T12:24:07.268Z"
   },
   {
    "duration": 311,
    "start_time": "2022-09-19T12:24:10.649Z"
   },
   {
    "duration": 5,
    "start_time": "2022-09-19T12:24:11.046Z"
   },
   {
    "duration": 6382,
    "start_time": "2022-09-19T12:24:14.074Z"
   },
   {
    "duration": 707,
    "start_time": "2022-09-19T12:24:20.458Z"
   },
   {
    "duration": 4,
    "start_time": "2022-09-19T12:24:21.167Z"
   },
   {
    "duration": 10412,
    "start_time": "2022-09-19T12:24:27.144Z"
   },
   {
    "duration": 1106,
    "start_time": "2022-09-19T12:24:37.558Z"
   },
   {
    "duration": 4,
    "start_time": "2022-09-19T12:24:38.747Z"
   },
   {
    "duration": 18800,
    "start_time": "2022-09-19T12:24:47.962Z"
   },
   {
    "duration": 2508,
    "start_time": "2022-09-19T12:25:06.764Z"
   },
   {
    "duration": 4,
    "start_time": "2022-09-19T12:25:09.274Z"
   },
   {
    "duration": 48198,
    "start_time": "2022-09-19T12:25:37.769Z"
   },
   {
    "duration": 8479,
    "start_time": "2022-09-19T12:26:25.968Z"
   },
   {
    "duration": 4,
    "start_time": "2022-09-19T12:26:34.449Z"
   },
   {
    "duration": 33,
    "start_time": "2022-09-19T12:27:17.934Z"
   },
   {
    "duration": 793,
    "start_time": "2022-09-19T12:28:02.983Z"
   },
   {
    "duration": 1121,
    "start_time": "2022-09-19T12:28:08.301Z"
   },
   {
    "duration": 993,
    "start_time": "2022-09-19T12:28:09.424Z"
   },
   {
    "duration": 3,
    "start_time": "2022-09-19T12:28:10.419Z"
   },
   {
    "duration": 104,
    "start_time": "2022-09-19T12:28:10.423Z"
   },
   {
    "duration": 105,
    "start_time": "2022-09-19T12:28:10.529Z"
   },
   {
    "duration": 850,
    "start_time": "2022-09-19T12:28:10.636Z"
   },
   {
    "duration": 261,
    "start_time": "2022-09-19T12:28:11.488Z"
   },
   {
    "duration": 36805,
    "start_time": "2022-09-19T12:28:11.751Z"
   },
   {
    "duration": 7889,
    "start_time": "2022-09-19T12:28:48.558Z"
   },
   {
    "duration": 5,
    "start_time": "2022-09-19T12:28:56.448Z"
   },
   {
    "duration": 16,
    "start_time": "2022-09-19T12:28:56.454Z"
   },
   {
    "duration": 1140,
    "start_time": "2022-09-19T12:30:04.531Z"
   },
   {
    "duration": 1091,
    "start_time": "2022-09-19T12:30:05.672Z"
   },
   {
    "duration": 3,
    "start_time": "2022-09-19T12:30:06.765Z"
   },
   {
    "duration": 105,
    "start_time": "2022-09-19T12:30:06.769Z"
   },
   {
    "duration": 111,
    "start_time": "2022-09-19T12:30:06.876Z"
   },
   {
    "duration": 739,
    "start_time": "2022-09-19T12:30:06.988Z"
   },
   {
    "duration": 129,
    "start_time": "2022-09-19T12:30:07.729Z"
   },
   {
    "duration": 36092,
    "start_time": "2022-09-19T12:30:07.860Z"
   },
   {
    "duration": 7842,
    "start_time": "2022-09-19T12:30:43.953Z"
   },
   {
    "duration": 4,
    "start_time": "2022-09-19T12:30:51.797Z"
   },
   {
    "duration": 48,
    "start_time": "2022-09-19T12:30:51.803Z"
   },
   {
    "duration": 98,
    "start_time": "2022-09-19T12:31:32.038Z"
   },
   {
    "duration": 104,
    "start_time": "2022-09-19T12:31:42.254Z"
   },
   {
    "duration": 1246,
    "start_time": "2022-09-19T12:31:47.100Z"
   },
   {
    "duration": 1010,
    "start_time": "2022-09-19T12:31:48.348Z"
   },
   {
    "duration": 3,
    "start_time": "2022-09-19T12:31:49.359Z"
   },
   {
    "duration": 111,
    "start_time": "2022-09-19T12:31:49.365Z"
   },
   {
    "duration": 104,
    "start_time": "2022-09-19T12:31:49.478Z"
   },
   {
    "duration": 690,
    "start_time": "2022-09-19T12:31:49.584Z"
   },
   {
    "duration": 86,
    "start_time": "2022-09-19T12:31:50.276Z"
   },
   {
    "duration": 230803,
    "start_time": "2022-09-19T12:31:50.457Z"
   },
   {
    "duration": 7716,
    "start_time": "2022-09-19T12:35:41.262Z"
   },
   {
    "duration": 5,
    "start_time": "2022-09-19T12:35:48.980Z"
   },
   {
    "duration": 14,
    "start_time": "2022-09-19T12:35:48.987Z"
   },
   {
    "duration": 1211,
    "start_time": "2022-09-19T12:36:21.297Z"
   },
   {
    "duration": 1094,
    "start_time": "2022-09-19T12:36:22.510Z"
   },
   {
    "duration": 4,
    "start_time": "2022-09-19T12:36:23.605Z"
   },
   {
    "duration": 114,
    "start_time": "2022-09-19T12:36:23.610Z"
   },
   {
    "duration": 37,
    "start_time": "2022-09-19T12:36:23.726Z"
   },
   {
    "duration": 748,
    "start_time": "2022-09-19T12:36:23.764Z"
   },
   {
    "duration": 234,
    "start_time": "2022-09-19T12:36:24.514Z"
   },
   {
    "duration": 1168,
    "start_time": "2022-09-19T12:38:18.365Z"
   },
   {
    "duration": 1084,
    "start_time": "2022-09-19T12:38:19.535Z"
   },
   {
    "duration": 3,
    "start_time": "2022-09-19T12:38:20.620Z"
   },
   {
    "duration": 113,
    "start_time": "2022-09-19T12:38:20.625Z"
   },
   {
    "duration": 32,
    "start_time": "2022-09-19T12:38:20.740Z"
   },
   {
    "duration": 769,
    "start_time": "2022-09-19T12:38:20.774Z"
   },
   {
    "duration": 122,
    "start_time": "2022-09-19T12:38:21.544Z"
   },
   {
    "duration": 36496,
    "start_time": "2022-09-19T12:38:21.668Z"
   },
   {
    "duration": 593,
    "start_time": "2022-09-19T12:38:58.169Z"
   },
   {
    "duration": 4,
    "start_time": "2022-09-19T12:38:58.765Z"
   },
   {
    "duration": 31,
    "start_time": "2022-09-19T12:38:58.770Z"
   },
   {
    "duration": 62113,
    "start_time": "2022-09-19T12:39:16.859Z"
   },
   {
    "duration": 983,
    "start_time": "2022-09-19T12:40:18.975Z"
   },
   {
    "duration": 4,
    "start_time": "2022-09-19T12:40:19.962Z"
   },
   {
    "duration": 94409,
    "start_time": "2022-09-19T12:49:07.363Z"
   },
   {
    "duration": 1278,
    "start_time": "2022-09-19T12:50:41.774Z"
   },
   {
    "duration": 4,
    "start_time": "2022-09-19T12:50:43.059Z"
   },
   {
    "duration": 39666,
    "start_time": "2022-09-19T12:52:33.995Z"
   },
   {
    "duration": 2083,
    "start_time": "2022-09-19T12:53:13.663Z"
   },
   {
    "duration": 4,
    "start_time": "2022-09-19T12:53:15.748Z"
   },
   {
    "duration": 143827,
    "start_time": "2022-09-19T12:58:14.732Z"
   },
   {
    "duration": 1595,
    "start_time": "2022-09-19T13:00:38.564Z"
   },
   {
    "duration": 5,
    "start_time": "2022-09-19T13:00:40.161Z"
   },
   {
    "duration": 217560,
    "start_time": "2022-09-19T13:02:46.500Z"
   },
   {
    "duration": 2616,
    "start_time": "2022-09-19T13:06:24.064Z"
   },
   {
    "duration": 4,
    "start_time": "2022-09-19T13:06:26.682Z"
   },
   {
    "duration": 110930,
    "start_time": "2022-09-19T13:06:49.740Z"
   },
   {
    "duration": 1385,
    "start_time": "2022-09-19T13:08:40.672Z"
   },
   {
    "duration": 5,
    "start_time": "2022-09-19T13:08:42.060Z"
   },
   {
    "duration": 89159,
    "start_time": "2022-09-19T13:09:29.101Z"
   },
   {
    "duration": 3604,
    "start_time": "2022-09-19T13:10:58.262Z"
   },
   {
    "duration": 5,
    "start_time": "2022-09-19T13:11:01.868Z"
   },
   {
    "duration": 15633,
    "start_time": "2022-09-19T13:13:37.933Z"
   },
   {
    "duration": 1999,
    "start_time": "2022-09-19T13:13:53.567Z"
   },
   {
    "duration": 5,
    "start_time": "2022-09-19T13:13:55.568Z"
   },
   {
    "duration": 4287,
    "start_time": "2022-09-19T13:14:53.169Z"
   },
   {
    "duration": 599,
    "start_time": "2022-09-19T13:14:57.458Z"
   },
   {
    "duration": 5,
    "start_time": "2022-09-19T13:14:58.059Z"
   },
   {
    "duration": 17012,
    "start_time": "2022-09-19T13:15:03.653Z"
   },
   {
    "duration": 1689,
    "start_time": "2022-09-19T13:15:20.667Z"
   },
   {
    "duration": 4,
    "start_time": "2022-09-19T13:15:22.358Z"
   },
   {
    "duration": 15825,
    "start_time": "2022-09-19T13:18:21.839Z"
   },
   {
    "duration": 2019,
    "start_time": "2022-09-19T13:18:37.746Z"
   },
   {
    "duration": 4,
    "start_time": "2022-09-19T13:18:39.766Z"
   },
   {
    "duration": 1946,
    "start_time": "2022-09-19T13:23:16.419Z"
   },
   {
    "duration": 1208,
    "start_time": "2022-09-19T13:23:55.889Z"
   },
   {
    "duration": 1071,
    "start_time": "2022-09-19T13:23:57.099Z"
   },
   {
    "duration": 4,
    "start_time": "2022-09-19T13:23:58.171Z"
   },
   {
    "duration": 99,
    "start_time": "2022-09-19T13:23:58.176Z"
   },
   {
    "duration": 25,
    "start_time": "2022-09-19T13:23:58.277Z"
   },
   {
    "duration": 739,
    "start_time": "2022-09-19T13:23:58.304Z"
   },
   {
    "duration": 106,
    "start_time": "2022-09-19T13:23:59.044Z"
   },
   {
    "duration": 16906,
    "start_time": "2022-09-19T13:23:59.152Z"
   },
   {
    "duration": 1989,
    "start_time": "2022-09-19T13:24:16.060Z"
   },
   {
    "duration": 4,
    "start_time": "2022-09-19T13:24:18.051Z"
   },
   {
    "duration": 1897,
    "start_time": "2022-09-19T13:24:18.056Z"
   },
   {
    "duration": 53,
    "start_time": "2022-09-19T15:09:41.522Z"
   },
   {
    "duration": 1250,
    "start_time": "2022-09-19T15:10:00.305Z"
   },
   {
    "duration": 3408,
    "start_time": "2022-09-19T15:10:01.557Z"
   },
   {
    "duration": 7,
    "start_time": "2022-09-19T15:10:04.967Z"
   },
   {
    "duration": 1446,
    "start_time": "2022-09-19T15:10:04.977Z"
   },
   {
    "duration": 0,
    "start_time": "2022-09-19T15:10:06.426Z"
   },
   {
    "duration": 0,
    "start_time": "2022-09-19T15:10:06.427Z"
   },
   {
    "duration": 0,
    "start_time": "2022-09-19T15:10:06.429Z"
   },
   {
    "duration": 0,
    "start_time": "2022-09-19T15:10:06.430Z"
   },
   {
    "duration": 0,
    "start_time": "2022-09-19T15:10:06.431Z"
   },
   {
    "duration": 0,
    "start_time": "2022-09-19T15:10:06.433Z"
   },
   {
    "duration": 0,
    "start_time": "2022-09-19T15:10:06.434Z"
   },
   {
    "duration": 0,
    "start_time": "2022-09-19T15:10:06.436Z"
   },
   {
    "duration": 1110,
    "start_time": "2022-09-20T15:14:41.743Z"
   },
   {
    "duration": 2870,
    "start_time": "2022-09-20T15:14:42.855Z"
   },
   {
    "duration": 5,
    "start_time": "2022-09-20T15:14:45.729Z"
   },
   {
    "duration": 2119,
    "start_time": "2022-09-20T15:14:45.736Z"
   },
   {
    "duration": 0,
    "start_time": "2022-09-20T15:14:47.857Z"
   },
   {
    "duration": 0,
    "start_time": "2022-09-20T15:14:47.858Z"
   },
   {
    "duration": 0,
    "start_time": "2022-09-20T15:14:47.859Z"
   },
   {
    "duration": 0,
    "start_time": "2022-09-20T15:14:47.861Z"
   },
   {
    "duration": 0,
    "start_time": "2022-09-20T15:14:47.862Z"
   },
   {
    "duration": 0,
    "start_time": "2022-09-20T15:14:47.863Z"
   },
   {
    "duration": 0,
    "start_time": "2022-09-20T15:14:47.864Z"
   },
   {
    "duration": 0,
    "start_time": "2022-09-20T15:14:47.865Z"
   },
   {
    "duration": 5,
    "start_time": "2022-09-20T15:15:05.386Z"
   },
   {
    "duration": 3,
    "start_time": "2022-09-20T15:19:09.752Z"
   },
   {
    "duration": 1279,
    "start_time": "2022-09-20T15:19:13.515Z"
   },
   {
    "duration": 1156,
    "start_time": "2022-09-20T15:19:21.451Z"
   },
   {
    "duration": 970,
    "start_time": "2022-09-20T15:19:22.609Z"
   },
   {
    "duration": 4,
    "start_time": "2022-09-20T15:19:23.581Z"
   },
   {
    "duration": 92,
    "start_time": "2022-09-20T15:19:23.587Z"
   },
   {
    "duration": 23,
    "start_time": "2022-09-20T15:19:23.681Z"
   },
   {
    "duration": 613,
    "start_time": "2022-09-20T15:19:23.706Z"
   },
   {
    "duration": 77,
    "start_time": "2022-09-20T15:19:24.321Z"
   },
   {
    "duration": 130,
    "start_time": "2022-09-20T15:19:24.400Z"
   },
   {
    "duration": 15901,
    "start_time": "2022-09-20T15:19:24.622Z"
   },
   {
    "duration": 1719,
    "start_time": "2022-09-20T15:19:40.525Z"
   },
   {
    "duration": 4,
    "start_time": "2022-09-20T15:19:42.246Z"
   },
   {
    "duration": 1893,
    "start_time": "2022-09-20T15:19:42.251Z"
   },
   {
    "duration": 17,
    "start_time": "2022-09-20T15:20:08.161Z"
   },
   {
    "duration": 2590,
    "start_time": "2022-09-20T15:21:56.436Z"
   },
   {
    "duration": 5,
    "start_time": "2022-09-20T15:22:29.399Z"
   },
   {
    "duration": 5,
    "start_time": "2022-09-20T15:22:39.799Z"
   },
   {
    "duration": 6,
    "start_time": "2022-09-20T15:22:46.037Z"
   },
   {
    "duration": 7,
    "start_time": "2022-09-20T15:23:03.036Z"
   },
   {
    "duration": 73,
    "start_time": "2022-09-20T15:23:49.044Z"
   },
   {
    "duration": 57,
    "start_time": "2022-09-20T15:24:06.782Z"
   },
   {
    "duration": 11,
    "start_time": "2022-09-20T15:25:18.687Z"
   },
   {
    "duration": 9,
    "start_time": "2022-09-20T15:25:36.779Z"
   },
   {
    "duration": 63,
    "start_time": "2022-09-20T15:26:01.105Z"
   },
   {
    "duration": 62,
    "start_time": "2022-09-20T15:26:27.994Z"
   },
   {
    "duration": 391,
    "start_time": "2022-09-20T15:26:58.041Z"
   },
   {
    "duration": 390,
    "start_time": "2022-09-20T15:27:03.689Z"
   },
   {
    "duration": 63,
    "start_time": "2022-09-20T15:27:26.315Z"
   },
   {
    "duration": 526,
    "start_time": "2022-09-20T15:32:43.533Z"
   },
   {
    "duration": 505,
    "start_time": "2022-09-20T15:33:27.073Z"
   },
   {
    "duration": 77,
    "start_time": "2022-09-20T15:33:39.343Z"
   },
   {
    "duration": 466,
    "start_time": "2022-09-20T15:33:43.723Z"
   },
   {
    "duration": 469,
    "start_time": "2022-09-20T15:34:17.636Z"
   },
   {
    "duration": 511,
    "start_time": "2022-09-20T15:35:01.334Z"
   },
   {
    "duration": 540,
    "start_time": "2022-09-20T15:37:47.449Z"
   },
   {
    "duration": 456,
    "start_time": "2022-09-20T15:38:01.793Z"
   },
   {
    "duration": 107,
    "start_time": "2022-09-20T15:38:37.456Z"
   },
   {
    "duration": 15,
    "start_time": "2022-09-20T15:38:51.017Z"
   },
   {
    "duration": 443,
    "start_time": "2022-09-20T15:38:58.824Z"
   },
   {
    "duration": 9,
    "start_time": "2022-09-20T15:41:44.515Z"
   },
   {
    "duration": 6,
    "start_time": "2022-09-20T15:41:56.767Z"
   },
   {
    "duration": 29,
    "start_time": "2022-09-20T15:42:43.917Z"
   },
   {
    "duration": 1251,
    "start_time": "2022-09-20T15:44:13.308Z"
   },
   {
    "duration": 970,
    "start_time": "2022-09-20T15:44:14.562Z"
   },
   {
    "duration": 4,
    "start_time": "2022-09-20T15:44:15.533Z"
   },
   {
    "duration": 97,
    "start_time": "2022-09-20T15:44:15.539Z"
   },
   {
    "duration": 678,
    "start_time": "2022-09-20T15:44:15.638Z"
   },
   {
    "duration": 66,
    "start_time": "2022-09-20T15:44:16.318Z"
   },
   {
    "duration": 13,
    "start_time": "2022-09-20T15:44:16.385Z"
   },
   {
    "duration": 457,
    "start_time": "2022-09-20T15:44:16.400Z"
   },
   {
    "duration": 52,
    "start_time": "2022-09-20T15:44:16.858Z"
   },
   {
    "duration": 210,
    "start_time": "2022-09-20T15:44:16.912Z"
   },
   {
    "duration": 458005,
    "start_time": "2022-09-20T15:44:17.124Z"
   },
   {
    "duration": 1502,
    "start_time": "2022-09-20T15:51:55.131Z"
   },
   {
    "duration": 4,
    "start_time": "2022-09-20T15:51:56.635Z"
   },
   {
    "duration": 1496,
    "start_time": "2022-09-20T15:51:56.641Z"
   },
   {
    "duration": 1150,
    "start_time": "2022-09-20T17:50:24.070Z"
   },
   {
    "duration": 980,
    "start_time": "2022-09-20T17:50:25.227Z"
   },
   {
    "duration": 3,
    "start_time": "2022-09-20T17:50:26.209Z"
   },
   {
    "duration": 137,
    "start_time": "2022-09-20T17:50:26.214Z"
   },
   {
    "duration": 610,
    "start_time": "2022-09-20T17:50:26.354Z"
   },
   {
    "duration": 69,
    "start_time": "2022-09-20T17:50:26.965Z"
   },
   {
    "duration": 13,
    "start_time": "2022-09-20T17:50:27.036Z"
   },
   {
    "duration": 477,
    "start_time": "2022-09-20T17:50:27.050Z"
   },
   {
    "duration": 52,
    "start_time": "2022-09-20T17:50:27.530Z"
   },
   {
    "duration": 141,
    "start_time": "2022-09-20T17:50:27.584Z"
   },
   {
    "duration": 1105,
    "start_time": "2022-09-20T17:54:19.347Z"
   },
   {
    "duration": 1007,
    "start_time": "2022-09-20T17:54:20.454Z"
   },
   {
    "duration": 3,
    "start_time": "2022-09-20T17:54:21.462Z"
   },
   {
    "duration": 110,
    "start_time": "2022-09-20T17:54:21.467Z"
   },
   {
    "duration": 700,
    "start_time": "2022-09-20T17:54:21.580Z"
   },
   {
    "duration": 75,
    "start_time": "2022-09-20T17:54:22.282Z"
   },
   {
    "duration": 13,
    "start_time": "2022-09-20T17:54:22.359Z"
   },
   {
    "duration": 120,
    "start_time": "2022-09-20T17:54:22.374Z"
   },
   {
    "duration": 0,
    "start_time": "2022-09-20T17:54:22.495Z"
   },
   {
    "duration": 0,
    "start_time": "2022-09-20T17:54:22.497Z"
   },
   {
    "duration": 0,
    "start_time": "2022-09-20T17:54:22.498Z"
   },
   {
    "duration": 0,
    "start_time": "2022-09-20T17:54:22.499Z"
   },
   {
    "duration": 0,
    "start_time": "2022-09-20T17:54:22.500Z"
   },
   {
    "duration": 0,
    "start_time": "2022-09-20T17:54:22.501Z"
   },
   {
    "duration": 98,
    "start_time": "2022-09-20T17:54:36.536Z"
   },
   {
    "duration": 437,
    "start_time": "2022-09-20T17:54:38.860Z"
   },
   {
    "duration": 51,
    "start_time": "2022-09-20T17:54:44.005Z"
   },
   {
    "duration": 453,
    "start_time": "2022-09-20T17:55:10.936Z"
   },
   {
    "duration": 491,
    "start_time": "2022-09-20T17:55:31.708Z"
   },
   {
    "duration": 460,
    "start_time": "2022-09-20T17:56:53.674Z"
   },
   {
    "duration": 3,
    "start_time": "2022-09-20T17:58:14.773Z"
   },
   {
    "duration": 350,
    "start_time": "2022-09-20T17:58:36.016Z"
   },
   {
    "duration": 140,
    "start_time": "2022-09-20T17:58:41.302Z"
   },
   {
    "duration": 321,
    "start_time": "2022-09-20T17:59:22.055Z"
   },
   {
    "duration": 68,
    "start_time": "2022-09-20T17:59:25.556Z"
   },
   {
    "duration": 14,
    "start_time": "2022-09-20T18:07:09.136Z"
   },
   {
    "duration": 1072,
    "start_time": "2022-09-20T18:12:11.951Z"
   },
   {
    "duration": 974,
    "start_time": "2022-09-20T18:12:13.025Z"
   },
   {
    "duration": 3,
    "start_time": "2022-09-20T18:12:14.001Z"
   },
   {
    "duration": 281,
    "start_time": "2022-09-20T18:12:14.005Z"
   },
   {
    "duration": 656,
    "start_time": "2022-09-20T18:12:14.288Z"
   },
   {
    "duration": 63,
    "start_time": "2022-09-20T18:12:14.947Z"
   },
   {
    "duration": 20,
    "start_time": "2022-09-20T18:12:15.011Z"
   },
   {
    "duration": 94,
    "start_time": "2022-09-20T18:12:15.034Z"
   },
   {
    "duration": 18,
    "start_time": "2022-09-20T18:12:15.129Z"
   },
   {
    "duration": 4,
    "start_time": "2022-09-20T18:12:15.149Z"
   },
   {
    "duration": 372,
    "start_time": "2022-09-20T18:12:15.154Z"
   },
   {
    "duration": 107,
    "start_time": "2022-09-20T18:12:15.528Z"
   },
   {
    "duration": 0,
    "start_time": "2022-09-20T18:12:15.637Z"
   },
   {
    "duration": 0,
    "start_time": "2022-09-20T18:12:15.638Z"
   },
   {
    "duration": 0,
    "start_time": "2022-09-20T18:12:15.639Z"
   },
   {
    "duration": 0,
    "start_time": "2022-09-20T18:12:15.640Z"
   },
   {
    "duration": 0,
    "start_time": "2022-09-20T18:12:15.641Z"
   },
   {
    "duration": 0,
    "start_time": "2022-09-20T18:12:15.642Z"
   },
   {
    "duration": 0,
    "start_time": "2022-09-20T18:12:15.643Z"
   },
   {
    "duration": 332,
    "start_time": "2022-09-20T18:13:04.870Z"
   },
   {
    "duration": 335,
    "start_time": "2022-09-20T18:13:33.713Z"
   },
   {
    "duration": 382,
    "start_time": "2022-09-20T18:14:11.156Z"
   },
   {
    "duration": 1175,
    "start_time": "2022-09-20T18:29:09.593Z"
   },
   {
    "duration": 968,
    "start_time": "2022-09-20T18:29:10.770Z"
   },
   {
    "duration": 6,
    "start_time": "2022-09-20T18:29:11.741Z"
   },
   {
    "duration": 92,
    "start_time": "2022-09-20T18:29:11.751Z"
   },
   {
    "duration": 584,
    "start_time": "2022-09-20T18:29:11.844Z"
   },
   {
    "duration": 63,
    "start_time": "2022-09-20T18:29:12.435Z"
   },
   {
    "duration": 12,
    "start_time": "2022-09-20T18:29:12.499Z"
   },
   {
    "duration": 81,
    "start_time": "2022-09-20T18:29:12.513Z"
   },
   {
    "duration": 16,
    "start_time": "2022-09-20T18:29:12.597Z"
   },
   {
    "duration": 6,
    "start_time": "2022-09-20T18:29:12.624Z"
   },
   {
    "duration": 369,
    "start_time": "2022-09-20T18:29:12.632Z"
   },
   {
    "duration": 102,
    "start_time": "2022-09-20T18:29:13.003Z"
   },
   {
    "duration": 0,
    "start_time": "2022-09-20T18:29:13.107Z"
   },
   {
    "duration": 0,
    "start_time": "2022-09-20T18:29:13.108Z"
   },
   {
    "duration": 0,
    "start_time": "2022-09-20T18:29:13.109Z"
   },
   {
    "duration": 1,
    "start_time": "2022-09-20T18:29:13.109Z"
   },
   {
    "duration": 0,
    "start_time": "2022-09-20T18:29:13.111Z"
   },
   {
    "duration": 0,
    "start_time": "2022-09-20T18:29:13.121Z"
   },
   {
    "duration": 0,
    "start_time": "2022-09-20T18:29:13.122Z"
   },
   {
    "duration": 1104,
    "start_time": "2022-09-20T18:31:26.449Z"
   },
   {
    "duration": 941,
    "start_time": "2022-09-20T18:31:27.555Z"
   },
   {
    "duration": 3,
    "start_time": "2022-09-20T18:31:28.497Z"
   },
   {
    "duration": 96,
    "start_time": "2022-09-20T18:31:28.502Z"
   },
   {
    "duration": 592,
    "start_time": "2022-09-20T18:31:28.600Z"
   },
   {
    "duration": 66,
    "start_time": "2022-09-20T18:31:29.194Z"
   },
   {
    "duration": 13,
    "start_time": "2022-09-20T18:31:29.261Z"
   },
   {
    "duration": 90,
    "start_time": "2022-09-20T18:31:29.275Z"
   },
   {
    "duration": 18,
    "start_time": "2022-09-20T18:31:29.367Z"
   },
   {
    "duration": 5,
    "start_time": "2022-09-20T18:31:29.388Z"
   },
   {
    "duration": 8,
    "start_time": "2022-09-20T18:31:29.395Z"
   },
   {
    "duration": 186,
    "start_time": "2022-09-20T18:31:29.404Z"
   },
   {
    "duration": 108,
    "start_time": "2022-09-20T18:31:29.592Z"
   },
   {
    "duration": 0,
    "start_time": "2022-09-20T18:31:29.701Z"
   },
   {
    "duration": 0,
    "start_time": "2022-09-20T18:31:29.702Z"
   },
   {
    "duration": 0,
    "start_time": "2022-09-20T18:31:29.704Z"
   },
   {
    "duration": 0,
    "start_time": "2022-09-20T18:31:29.705Z"
   },
   {
    "duration": 0,
    "start_time": "2022-09-20T18:31:29.705Z"
   },
   {
    "duration": 0,
    "start_time": "2022-09-20T18:31:29.706Z"
   },
   {
    "duration": 166,
    "start_time": "2022-09-20T18:33:07.678Z"
   },
   {
    "duration": 1137,
    "start_time": "2022-09-20T18:33:16.572Z"
   },
   {
    "duration": 992,
    "start_time": "2022-09-20T18:33:17.710Z"
   },
   {
    "duration": 13,
    "start_time": "2022-09-20T18:33:18.705Z"
   },
   {
    "duration": 118,
    "start_time": "2022-09-20T18:33:18.728Z"
   },
   {
    "duration": 651,
    "start_time": "2022-09-20T18:33:18.848Z"
   },
   {
    "duration": 75,
    "start_time": "2022-09-20T18:33:19.500Z"
   },
   {
    "duration": 14,
    "start_time": "2022-09-20T18:33:19.577Z"
   },
   {
    "duration": 116,
    "start_time": "2022-09-20T18:33:19.594Z"
   },
   {
    "duration": 28,
    "start_time": "2022-09-20T18:33:19.712Z"
   },
   {
    "duration": 9,
    "start_time": "2022-09-20T18:33:19.744Z"
   },
   {
    "duration": 5,
    "start_time": "2022-09-20T18:33:19.754Z"
   },
   {
    "duration": 161,
    "start_time": "2022-09-20T18:33:19.761Z"
   },
   {
    "duration": 114,
    "start_time": "2022-09-20T18:33:19.927Z"
   },
   {
    "duration": 0,
    "start_time": "2022-09-20T18:33:20.045Z"
   },
   {
    "duration": 0,
    "start_time": "2022-09-20T18:33:20.046Z"
   },
   {
    "duration": 0,
    "start_time": "2022-09-20T18:33:20.047Z"
   },
   {
    "duration": 0,
    "start_time": "2022-09-20T18:33:20.048Z"
   },
   {
    "duration": 0,
    "start_time": "2022-09-20T18:33:20.050Z"
   },
   {
    "duration": 0,
    "start_time": "2022-09-20T18:33:20.050Z"
   },
   {
    "duration": 1121,
    "start_time": "2022-09-20T18:34:07.695Z"
   },
   {
    "duration": 965,
    "start_time": "2022-09-20T18:34:08.818Z"
   },
   {
    "duration": 3,
    "start_time": "2022-09-20T18:34:09.784Z"
   },
   {
    "duration": 96,
    "start_time": "2022-09-20T18:34:09.789Z"
   },
   {
    "duration": 604,
    "start_time": "2022-09-20T18:34:09.888Z"
   },
   {
    "duration": 79,
    "start_time": "2022-09-20T18:34:10.494Z"
   },
   {
    "duration": 13,
    "start_time": "2022-09-20T18:34:10.574Z"
   },
   {
    "duration": 83,
    "start_time": "2022-09-20T18:34:10.589Z"
   },
   {
    "duration": 16,
    "start_time": "2022-09-20T18:34:10.673Z"
   },
   {
    "duration": 4,
    "start_time": "2022-09-20T18:34:10.691Z"
   },
   {
    "duration": 9,
    "start_time": "2022-09-20T18:34:10.696Z"
   },
   {
    "duration": 2011,
    "start_time": "2022-09-20T18:34:10.706Z"
   },
   {
    "duration": 0,
    "start_time": "2022-09-20T18:34:12.719Z"
   },
   {
    "duration": 0,
    "start_time": "2022-09-20T18:34:12.721Z"
   },
   {
    "duration": 0,
    "start_time": "2022-09-20T18:34:12.721Z"
   },
   {
    "duration": 0,
    "start_time": "2022-09-20T18:34:12.722Z"
   },
   {
    "duration": 0,
    "start_time": "2022-09-20T18:34:12.725Z"
   },
   {
    "duration": 0,
    "start_time": "2022-09-20T18:34:12.726Z"
   },
   {
    "duration": 0,
    "start_time": "2022-09-20T18:34:12.726Z"
   },
   {
    "duration": 3,
    "start_time": "2022-09-20T18:36:23.965Z"
   },
   {
    "duration": 1123,
    "start_time": "2022-09-20T18:37:13.074Z"
   },
   {
    "duration": 989,
    "start_time": "2022-09-20T18:37:14.199Z"
   },
   {
    "duration": 2,
    "start_time": "2022-09-20T18:37:15.190Z"
   },
   {
    "duration": 92,
    "start_time": "2022-09-20T18:37:15.194Z"
   },
   {
    "duration": 603,
    "start_time": "2022-09-20T18:37:15.287Z"
   },
   {
    "duration": 73,
    "start_time": "2022-09-20T18:37:15.892Z"
   },
   {
    "duration": 14,
    "start_time": "2022-09-20T18:37:15.967Z"
   },
   {
    "duration": 102,
    "start_time": "2022-09-20T18:37:15.982Z"
   },
   {
    "duration": 17,
    "start_time": "2022-09-20T18:37:16.087Z"
   },
   {
    "duration": 270,
    "start_time": "2022-09-20T18:37:16.126Z"
   },
   {
    "duration": 0,
    "start_time": "2022-09-20T18:37:16.398Z"
   },
   {
    "duration": 0,
    "start_time": "2022-09-20T18:37:16.399Z"
   },
   {
    "duration": 0,
    "start_time": "2022-09-20T18:37:16.400Z"
   },
   {
    "duration": 0,
    "start_time": "2022-09-20T18:37:16.402Z"
   },
   {
    "duration": 0,
    "start_time": "2022-09-20T18:37:16.403Z"
   },
   {
    "duration": 0,
    "start_time": "2022-09-20T18:37:16.404Z"
   },
   {
    "duration": 0,
    "start_time": "2022-09-20T18:37:16.406Z"
   },
   {
    "duration": 0,
    "start_time": "2022-09-20T18:37:16.407Z"
   },
   {
    "duration": 0,
    "start_time": "2022-09-20T18:37:16.408Z"
   },
   {
    "duration": 4,
    "start_time": "2022-09-20T18:37:33.794Z"
   },
   {
    "duration": 1915,
    "start_time": "2022-09-20T18:37:38.218Z"
   },
   {
    "duration": 15,
    "start_time": "2022-09-20T18:38:00.850Z"
   },
   {
    "duration": 1371,
    "start_time": "2022-09-20T18:39:11.749Z"
   },
   {
    "duration": 1103,
    "start_time": "2022-09-20T18:39:21.576Z"
   },
   {
    "duration": 1049,
    "start_time": "2022-09-20T18:39:22.681Z"
   },
   {
    "duration": 4,
    "start_time": "2022-09-20T18:39:23.733Z"
   },
   {
    "duration": 97,
    "start_time": "2022-09-20T18:39:23.739Z"
   },
   {
    "duration": 673,
    "start_time": "2022-09-20T18:39:23.838Z"
   },
   {
    "duration": 74,
    "start_time": "2022-09-20T18:39:24.513Z"
   },
   {
    "duration": 15,
    "start_time": "2022-09-20T18:39:24.589Z"
   },
   {
    "duration": 87,
    "start_time": "2022-09-20T18:39:24.625Z"
   },
   {
    "duration": 27,
    "start_time": "2022-09-20T18:39:24.714Z"
   },
   {
    "duration": 4,
    "start_time": "2022-09-20T18:39:24.743Z"
   },
   {
    "duration": 2103,
    "start_time": "2022-09-20T18:39:24.748Z"
   },
   {
    "duration": 0,
    "start_time": "2022-09-20T18:39:26.852Z"
   },
   {
    "duration": 0,
    "start_time": "2022-09-20T18:39:26.854Z"
   },
   {
    "duration": 0,
    "start_time": "2022-09-20T18:39:26.855Z"
   },
   {
    "duration": 0,
    "start_time": "2022-09-20T18:39:26.856Z"
   },
   {
    "duration": 0,
    "start_time": "2022-09-20T18:39:26.857Z"
   },
   {
    "duration": 0,
    "start_time": "2022-09-20T18:39:26.858Z"
   },
   {
    "duration": 0,
    "start_time": "2022-09-20T18:39:26.859Z"
   },
   {
    "duration": 0,
    "start_time": "2022-09-20T18:39:26.860Z"
   },
   {
    "duration": 3,
    "start_time": "2022-09-20T18:39:51.998Z"
   },
   {
    "duration": 1328,
    "start_time": "2022-09-20T18:39:54.503Z"
   },
   {
    "duration": 25,
    "start_time": "2022-09-20T18:42:16.580Z"
   },
   {
    "duration": 26,
    "start_time": "2022-09-20T18:42:44.016Z"
   },
   {
    "duration": 328,
    "start_time": "2022-09-20T18:44:43.173Z"
   },
   {
    "duration": 486,
    "start_time": "2022-09-20T18:46:12.297Z"
   },
   {
    "duration": 3,
    "start_time": "2022-09-20T18:48:20.872Z"
   },
   {
    "duration": 1818,
    "start_time": "2022-09-20T18:50:04.133Z"
   },
   {
    "duration": 2879,
    "start_time": "2022-09-20T18:51:43.839Z"
   },
   {
    "duration": 1101,
    "start_time": "2022-09-20T18:52:13.938Z"
   },
   {
    "duration": 927,
    "start_time": "2022-09-20T18:52:15.041Z"
   },
   {
    "duration": 3,
    "start_time": "2022-09-20T18:52:15.969Z"
   },
   {
    "duration": 96,
    "start_time": "2022-09-20T18:52:15.973Z"
   },
   {
    "duration": 640,
    "start_time": "2022-09-20T18:52:16.072Z"
   },
   {
    "duration": 64,
    "start_time": "2022-09-20T18:52:16.714Z"
   },
   {
    "duration": 12,
    "start_time": "2022-09-20T18:52:16.780Z"
   },
   {
    "duration": 86,
    "start_time": "2022-09-20T18:52:16.793Z"
   },
   {
    "duration": 18,
    "start_time": "2022-09-20T18:52:16.881Z"
   },
   {
    "duration": 3336,
    "start_time": "2022-09-20T18:52:16.901Z"
   },
   {
    "duration": 94,
    "start_time": "2022-09-20T18:52:20.239Z"
   },
   {
    "duration": 0,
    "start_time": "2022-09-20T18:52:20.335Z"
   },
   {
    "duration": 0,
    "start_time": "2022-09-20T18:52:20.336Z"
   },
   {
    "duration": 0,
    "start_time": "2022-09-20T18:52:20.337Z"
   },
   {
    "duration": 0,
    "start_time": "2022-09-20T18:52:20.339Z"
   },
   {
    "duration": 0,
    "start_time": "2022-09-20T18:52:20.342Z"
   },
   {
    "duration": 0,
    "start_time": "2022-09-20T18:52:20.343Z"
   },
   {
    "duration": 0,
    "start_time": "2022-09-20T18:52:20.344Z"
   },
   {
    "duration": 25127,
    "start_time": "2022-09-20T18:53:32.614Z"
   },
   {
    "duration": 13,
    "start_time": "2022-09-20T18:55:26.458Z"
   },
   {
    "duration": 13,
    "start_time": "2022-09-20T18:57:13.674Z"
   },
   {
    "duration": 1143,
    "start_time": "2022-09-20T18:57:25.752Z"
   },
   {
    "duration": 1005,
    "start_time": "2022-09-20T18:57:26.897Z"
   },
   {
    "duration": 3,
    "start_time": "2022-09-20T18:57:27.903Z"
   },
   {
    "duration": 102,
    "start_time": "2022-09-20T18:57:27.908Z"
   },
   {
    "duration": 641,
    "start_time": "2022-09-20T18:57:28.011Z"
   },
   {
    "duration": 89,
    "start_time": "2022-09-20T18:57:28.653Z"
   },
   {
    "duration": 13,
    "start_time": "2022-09-20T18:57:28.748Z"
   },
   {
    "duration": 92,
    "start_time": "2022-09-20T18:57:28.762Z"
   },
   {
    "duration": 15,
    "start_time": "2022-09-20T18:57:28.856Z"
   },
   {
    "duration": 3363,
    "start_time": "2022-09-20T18:57:28.875Z"
   },
   {
    "duration": 47531,
    "start_time": "2022-09-20T18:57:32.242Z"
   },
   {
    "duration": 0,
    "start_time": "2022-09-20T18:58:19.775Z"
   },
   {
    "duration": 0,
    "start_time": "2022-09-20T18:58:19.776Z"
   },
   {
    "duration": 0,
    "start_time": "2022-09-20T18:58:19.778Z"
   },
   {
    "duration": 0,
    "start_time": "2022-09-20T18:58:19.779Z"
   },
   {
    "duration": 0,
    "start_time": "2022-09-20T18:58:19.780Z"
   },
   {
    "duration": 0,
    "start_time": "2022-09-20T18:58:19.782Z"
   },
   {
    "duration": 0,
    "start_time": "2022-09-20T18:58:19.784Z"
   },
   {
    "duration": 98,
    "start_time": "2022-09-20T19:01:35.673Z"
   },
   {
    "duration": 1167,
    "start_time": "2022-09-20T19:01:55.524Z"
   },
   {
    "duration": 995,
    "start_time": "2022-09-20T19:01:56.693Z"
   },
   {
    "duration": 3,
    "start_time": "2022-09-20T19:01:57.690Z"
   },
   {
    "duration": 102,
    "start_time": "2022-09-20T19:01:57.695Z"
   },
   {
    "duration": 650,
    "start_time": "2022-09-20T19:01:57.799Z"
   },
   {
    "duration": 62,
    "start_time": "2022-09-20T19:01:58.451Z"
   },
   {
    "duration": 18,
    "start_time": "2022-09-20T19:01:58.525Z"
   },
   {
    "duration": 106,
    "start_time": "2022-09-20T19:01:58.546Z"
   },
   {
    "duration": 15,
    "start_time": "2022-09-20T19:01:58.653Z"
   },
   {
    "duration": 3367,
    "start_time": "2022-09-20T19:01:58.670Z"
   },
   {
    "duration": 44885,
    "start_time": "2022-09-20T19:02:02.039Z"
   },
   {
    "duration": 0,
    "start_time": "2022-09-20T19:02:46.925Z"
   },
   {
    "duration": 0,
    "start_time": "2022-09-20T19:02:46.926Z"
   },
   {
    "duration": 0,
    "start_time": "2022-09-20T19:02:46.927Z"
   },
   {
    "duration": 0,
    "start_time": "2022-09-20T19:02:46.928Z"
   },
   {
    "duration": 0,
    "start_time": "2022-09-20T19:02:46.928Z"
   },
   {
    "duration": 0,
    "start_time": "2022-09-20T19:02:46.929Z"
   },
   {
    "duration": 0,
    "start_time": "2022-09-20T19:02:46.930Z"
   },
   {
    "duration": 1263,
    "start_time": "2022-09-21T19:08:15.939Z"
   },
   {
    "duration": 1233,
    "start_time": "2022-09-21T19:08:23.129Z"
   },
   {
    "duration": 1473,
    "start_time": "2022-09-21T19:08:24.364Z"
   },
   {
    "duration": 3,
    "start_time": "2022-09-21T19:08:25.838Z"
   },
   {
    "duration": 108,
    "start_time": "2022-09-21T19:08:25.843Z"
   },
   {
    "duration": 740,
    "start_time": "2022-09-21T19:08:25.953Z"
   },
   {
    "duration": 87,
    "start_time": "2022-09-21T19:08:26.694Z"
   },
   {
    "duration": 19,
    "start_time": "2022-09-21T19:08:26.784Z"
   },
   {
    "duration": 131,
    "start_time": "2022-09-21T19:08:26.805Z"
   },
   {
    "duration": 19,
    "start_time": "2022-09-21T19:08:26.938Z"
   },
   {
    "duration": 3581,
    "start_time": "2022-09-21T19:08:26.960Z"
   },
   {
    "duration": 20536,
    "start_time": "2022-09-21T19:08:30.543Z"
   },
   {
    "duration": 0,
    "start_time": "2022-09-21T19:08:51.080Z"
   },
   {
    "duration": 0,
    "start_time": "2022-09-21T19:08:51.082Z"
   },
   {
    "duration": 0,
    "start_time": "2022-09-21T19:08:51.083Z"
   },
   {
    "duration": 0,
    "start_time": "2022-09-21T19:08:51.084Z"
   },
   {
    "duration": 0,
    "start_time": "2022-09-21T19:08:51.085Z"
   },
   {
    "duration": 0,
    "start_time": "2022-09-21T19:08:51.086Z"
   },
   {
    "duration": 0,
    "start_time": "2022-09-21T19:08:51.087Z"
   },
   {
    "duration": 0,
    "start_time": "2022-09-21T19:08:51.088Z"
   },
   {
    "duration": 3,
    "start_time": "2022-09-21T19:13:27.374Z"
   },
   {
    "duration": 120,
    "start_time": "2022-09-21T19:13:30.663Z"
   },
   {
    "duration": 4,
    "start_time": "2022-09-21T19:13:32.955Z"
   },
   {
    "duration": 598,
    "start_time": "2022-09-21T19:13:35.456Z"
   },
   {
    "duration": 1373,
    "start_time": "2022-09-21T19:16:42.724Z"
   },
   {
    "duration": 1087,
    "start_time": "2022-09-21T19:16:44.099Z"
   },
   {
    "duration": 4,
    "start_time": "2022-09-21T19:16:45.188Z"
   },
   {
    "duration": 111,
    "start_time": "2022-09-21T19:16:45.193Z"
   },
   {
    "duration": 720,
    "start_time": "2022-09-21T19:16:45.306Z"
   },
   {
    "duration": 82,
    "start_time": "2022-09-21T19:16:46.028Z"
   },
   {
    "duration": 29,
    "start_time": "2022-09-21T19:16:46.112Z"
   },
   {
    "duration": 113,
    "start_time": "2022-09-21T19:16:46.143Z"
   },
   {
    "duration": 96,
    "start_time": "2022-09-21T19:16:46.259Z"
   },
   {
    "duration": 3585,
    "start_time": "2022-09-21T19:16:46.358Z"
   },
   {
    "duration": 3,
    "start_time": "2022-09-21T19:16:49.945Z"
   },
   {
    "duration": 88,
    "start_time": "2022-09-21T19:16:49.950Z"
   },
   {
    "duration": 4,
    "start_time": "2022-09-21T19:16:50.040Z"
   },
   {
    "duration": 551,
    "start_time": "2022-09-21T19:16:50.046Z"
   },
   {
    "duration": 1291,
    "start_time": "2022-09-21T19:21:04.036Z"
   },
   {
    "duration": 1386,
    "start_time": "2022-09-21T19:21:05.329Z"
   },
   {
    "duration": 15,
    "start_time": "2022-09-21T19:21:06.718Z"
   },
   {
    "duration": 119,
    "start_time": "2022-09-21T19:21:06.736Z"
   },
   {
    "duration": 731,
    "start_time": "2022-09-21T19:21:06.857Z"
   },
   {
    "duration": 91,
    "start_time": "2022-09-21T19:21:07.590Z"
   },
   {
    "duration": 13,
    "start_time": "2022-09-21T19:21:07.683Z"
   },
   {
    "duration": 108,
    "start_time": "2022-09-21T19:21:07.698Z"
   },
   {
    "duration": 83,
    "start_time": "2022-09-21T19:21:07.807Z"
   },
   {
    "duration": 3569,
    "start_time": "2022-09-21T19:21:07.891Z"
   },
   {
    "duration": 2,
    "start_time": "2022-09-21T19:21:11.462Z"
   },
   {
    "duration": 93,
    "start_time": "2022-09-21T19:21:11.465Z"
   },
   {
    "duration": 3,
    "start_time": "2022-09-21T19:21:11.561Z"
   },
   {
    "duration": 549,
    "start_time": "2022-09-21T19:21:11.567Z"
   },
   {
    "duration": 666421,
    "start_time": "2022-09-21T19:21:12.117Z"
   },
   {
    "duration": 795,
    "start_time": "2022-09-21T19:32:18.540Z"
   },
   {
    "duration": 5,
    "start_time": "2022-09-21T19:32:19.337Z"
   },
   {
    "duration": 25880,
    "start_time": "2022-09-21T19:32:19.344Z"
   },
   {
    "duration": 44689,
    "start_time": "2022-09-21T19:32:45.226Z"
   },
   {
    "duration": 42537,
    "start_time": "2022-09-21T19:33:29.917Z"
   },
   {
    "duration": 13,
    "start_time": "2022-09-21T20:43:06.032Z"
   },
   {
    "duration": 3157,
    "start_time": "2022-09-21T20:44:42.796Z"
   },
   {
    "duration": 1531,
    "start_time": "2022-09-22T07:31:20.058Z"
   },
   {
    "duration": 1368,
    "start_time": "2022-09-22T07:31:21.591Z"
   },
   {
    "duration": 4,
    "start_time": "2022-09-22T07:31:25.124Z"
   },
   {
    "duration": 119,
    "start_time": "2022-09-22T07:31:29.926Z"
   },
   {
    "duration": 644,
    "start_time": "2022-09-22T07:31:42.801Z"
   },
   {
    "duration": 66,
    "start_time": "2022-09-22T07:31:45.703Z"
   },
   {
    "duration": 108,
    "start_time": "2022-09-22T07:32:04.072Z"
   },
   {
    "duration": 20,
    "start_time": "2022-09-22T07:32:26.928Z"
   },
   {
    "duration": 77,
    "start_time": "2022-09-22T07:32:35.253Z"
   },
   {
    "duration": 17,
    "start_time": "2022-09-22T07:32:36.777Z"
   },
   {
    "duration": 571,
    "start_time": "2022-09-22T07:33:58.515Z"
   },
   {
    "duration": 4,
    "start_time": "2022-09-22T07:34:17.054Z"
   },
   {
    "duration": 4,
    "start_time": "2022-09-22T07:36:29.276Z"
   },
   {
    "duration": 9,
    "start_time": "2022-09-22T07:36:38.279Z"
   },
   {
    "duration": 112,
    "start_time": "2022-09-22T07:37:45.050Z"
   },
   {
    "duration": 5,
    "start_time": "2022-09-22T07:37:55.172Z"
   },
   {
    "duration": 4,
    "start_time": "2022-09-22T07:38:26.627Z"
   },
   {
    "duration": 5,
    "start_time": "2022-09-22T07:39:19.377Z"
   },
   {
    "duration": 39,
    "start_time": "2022-09-22T07:39:20.456Z"
   },
   {
    "duration": 9,
    "start_time": "2022-09-22T07:39:32.659Z"
   },
   {
    "duration": 43,
    "start_time": "2022-09-22T07:39:47.826Z"
   },
   {
    "duration": 5,
    "start_time": "2022-09-22T07:40:11.123Z"
   },
   {
    "duration": 9,
    "start_time": "2022-09-22T07:40:41.203Z"
   },
   {
    "duration": 19,
    "start_time": "2022-09-22T07:41:01.498Z"
   },
   {
    "duration": 5,
    "start_time": "2022-09-22T07:41:12.457Z"
   },
   {
    "duration": 5,
    "start_time": "2022-09-22T07:41:29.294Z"
   },
   {
    "duration": 17,
    "start_time": "2022-09-22T07:41:57.623Z"
   },
   {
    "duration": 5,
    "start_time": "2022-09-22T07:43:02.796Z"
   },
   {
    "duration": 25,
    "start_time": "2022-09-22T07:44:42.087Z"
   },
   {
    "duration": 17,
    "start_time": "2022-09-22T07:45:52.166Z"
   },
   {
    "duration": 201,
    "start_time": "2022-09-22T07:46:08.122Z"
   },
   {
    "duration": 16,
    "start_time": "2022-09-22T07:46:13.123Z"
   },
   {
    "duration": 4,
    "start_time": "2022-09-22T07:46:16.574Z"
   },
   {
    "duration": 2,
    "start_time": "2022-09-22T07:47:08.121Z"
   },
   {
    "duration": 5,
    "start_time": "2022-09-22T07:47:08.392Z"
   },
   {
    "duration": 2,
    "start_time": "2022-09-22T07:47:08.623Z"
   },
   {
    "duration": 2,
    "start_time": "2022-09-22T07:47:08.913Z"
   },
   {
    "duration": 3,
    "start_time": "2022-09-22T07:47:09.181Z"
   },
   {
    "duration": 13,
    "start_time": "2022-09-22T07:48:32.734Z"
   },
   {
    "duration": 318,
    "start_time": "2022-09-22T07:50:21.164Z"
   },
   {
    "duration": 302,
    "start_time": "2022-09-22T07:53:09.385Z"
   },
   {
    "duration": 23,
    "start_time": "2022-09-22T07:53:43.202Z"
   },
   {
    "duration": 529,
    "start_time": "2022-09-22T07:53:55.877Z"
   },
   {
    "duration": 10,
    "start_time": "2022-09-22T07:54:05.857Z"
   },
   {
    "duration": 42,
    "start_time": "2022-09-22T07:54:18.429Z"
   },
   {
    "duration": 520,
    "start_time": "2022-09-22T07:54:59.807Z"
   },
   {
    "duration": 8,
    "start_time": "2022-09-22T07:55:02.687Z"
   },
   {
    "duration": 5,
    "start_time": "2022-09-22T07:55:12.775Z"
   },
   {
    "duration": 1232,
    "start_time": "2022-09-22T07:55:36.054Z"
   },
   {
    "duration": 13,
    "start_time": "2022-09-22T07:55:43.153Z"
   },
   {
    "duration": 2,
    "start_time": "2022-09-22T08:00:08.201Z"
   },
   {
    "duration": 107,
    "start_time": "2022-09-22T08:00:54.617Z"
   },
   {
    "duration": 38616,
    "start_time": "2022-09-22T08:01:01.226Z"
   },
   {
    "duration": 3,
    "start_time": "2022-09-22T08:01:57.500Z"
   },
   {
    "duration": 97,
    "start_time": "2022-09-22T08:02:06.554Z"
   },
   {
    "duration": 4,
    "start_time": "2022-09-22T08:03:10.675Z"
   },
   {
    "duration": 2,
    "start_time": "2022-09-22T08:04:43.941Z"
   },
   {
    "duration": 3,
    "start_time": "2022-09-22T08:04:44.245Z"
   },
   {
    "duration": 2,
    "start_time": "2022-09-22T08:04:44.522Z"
   },
   {
    "duration": 2,
    "start_time": "2022-09-22T08:08:29.622Z"
   },
   {
    "duration": 3,
    "start_time": "2022-09-22T08:08:35.761Z"
   },
   {
    "duration": 10,
    "start_time": "2022-09-22T08:09:20.219Z"
   },
   {
    "duration": 332593,
    "start_time": "2022-09-22T08:09:26.160Z"
   },
   {
    "duration": 0,
    "start_time": "2022-09-22T08:14:58.755Z"
   },
   {
    "duration": 0,
    "start_time": "2022-09-22T08:14:58.757Z"
   },
   {
    "duration": 0,
    "start_time": "2022-09-22T08:14:58.758Z"
   },
   {
    "duration": 0,
    "start_time": "2022-09-22T08:14:58.760Z"
   },
   {
    "duration": 1698,
    "start_time": "2022-09-22T08:15:12.508Z"
   },
   {
    "duration": 1582,
    "start_time": "2022-09-22T08:15:14.209Z"
   },
   {
    "duration": 3,
    "start_time": "2022-09-22T08:15:15.793Z"
   },
   {
    "duration": 156,
    "start_time": "2022-09-22T08:15:15.798Z"
   },
   {
    "duration": 789,
    "start_time": "2022-09-22T08:15:15.956Z"
   },
   {
    "duration": 92,
    "start_time": "2022-09-22T08:15:16.747Z"
   },
   {
    "duration": 150,
    "start_time": "2022-09-22T08:15:16.848Z"
   },
   {
    "duration": 14,
    "start_time": "2022-09-22T08:15:17.000Z"
   },
   {
    "duration": 204,
    "start_time": "2022-09-22T08:15:17.016Z"
   },
   {
    "duration": 31,
    "start_time": "2022-09-22T08:15:17.222Z"
   },
   {
    "duration": 596,
    "start_time": "2022-09-22T08:15:17.254Z"
   },
   {
    "duration": 5,
    "start_time": "2022-09-22T08:15:17.858Z"
   },
   {
    "duration": 9,
    "start_time": "2022-09-22T08:15:17.864Z"
   },
   {
    "duration": 45,
    "start_time": "2022-09-22T08:15:17.878Z"
   },
   {
    "duration": 18,
    "start_time": "2022-09-22T08:15:17.925Z"
   },
   {
    "duration": 55,
    "start_time": "2022-09-22T08:15:17.947Z"
   },
   {
    "duration": 7,
    "start_time": "2022-09-22T08:15:18.005Z"
   },
   {
    "duration": 40,
    "start_time": "2022-09-22T08:15:18.014Z"
   },
   {
    "duration": 18,
    "start_time": "2022-09-22T08:15:18.056Z"
   },
   {
    "duration": 14,
    "start_time": "2022-09-22T08:15:18.076Z"
   },
   {
    "duration": 27,
    "start_time": "2022-09-22T08:15:18.092Z"
   },
   {
    "duration": 10,
    "start_time": "2022-09-22T08:15:18.121Z"
   },
   {
    "duration": 82,
    "start_time": "2022-09-22T08:15:18.133Z"
   },
   {
    "duration": 241,
    "start_time": "2022-09-22T08:15:18.217Z"
   },
   {
    "duration": 17,
    "start_time": "2022-09-22T08:15:18.462Z"
   },
   {
    "duration": 13,
    "start_time": "2022-09-22T08:15:18.481Z"
   },
   {
    "duration": 6,
    "start_time": "2022-09-22T08:15:18.497Z"
   },
   {
    "duration": 10,
    "start_time": "2022-09-22T08:15:18.505Z"
   },
   {
    "duration": 8,
    "start_time": "2022-09-22T08:15:18.518Z"
   },
   {
    "duration": 28,
    "start_time": "2022-09-22T08:15:18.528Z"
   },
   {
    "duration": 6,
    "start_time": "2022-09-22T08:15:18.558Z"
   },
   {
    "duration": 28,
    "start_time": "2022-09-22T08:15:18.566Z"
   },
   {
    "duration": 1207,
    "start_time": "2022-09-22T08:15:18.596Z"
   },
   {
    "duration": 19,
    "start_time": "2022-09-22T08:15:19.805Z"
   },
   {
    "duration": 7,
    "start_time": "2022-09-22T08:15:19.833Z"
   },
   {
    "duration": 38,
    "start_time": "2022-09-22T08:15:19.842Z"
   },
   {
    "duration": 0,
    "start_time": "2022-09-22T08:15:19.883Z"
   },
   {
    "duration": 0,
    "start_time": "2022-09-22T08:15:19.884Z"
   },
   {
    "duration": 37245,
    "start_time": "2022-09-22T08:16:26.716Z"
   },
   {
    "duration": 180,
    "start_time": "2022-09-22T08:17:03.962Z"
   },
   {
    "duration": 8,
    "start_time": "2022-09-22T08:17:04.144Z"
   },
   {
    "duration": 46,
    "start_time": "2022-09-22T15:58:56.936Z"
   },
   {
    "duration": 1273,
    "start_time": "2022-09-22T15:59:03.113Z"
   },
   {
    "duration": 1347,
    "start_time": "2022-09-22T15:59:04.388Z"
   },
   {
    "duration": 3,
    "start_time": "2022-09-22T15:59:05.737Z"
   },
   {
    "duration": 109,
    "start_time": "2022-09-22T15:59:05.742Z"
   },
   {
    "duration": 667,
    "start_time": "2022-09-22T15:59:05.853Z"
   },
   {
    "duration": 64,
    "start_time": "2022-09-22T15:59:06.521Z"
   },
   {
    "duration": 105,
    "start_time": "2022-09-22T15:59:06.586Z"
   },
   {
    "duration": 11,
    "start_time": "2022-09-22T15:59:06.693Z"
   },
   {
    "duration": 100,
    "start_time": "2022-09-22T15:59:06.705Z"
   },
   {
    "duration": 15,
    "start_time": "2022-09-22T15:59:06.861Z"
   },
   {
    "duration": 487,
    "start_time": "2022-09-22T15:59:06.878Z"
   },
   {
    "duration": 4,
    "start_time": "2022-09-22T15:59:07.367Z"
   },
   {
    "duration": 11,
    "start_time": "2022-09-22T15:59:07.372Z"
   },
   {
    "duration": 43,
    "start_time": "2022-09-22T15:59:07.384Z"
   },
   {
    "duration": 4,
    "start_time": "2022-09-22T15:59:07.434Z"
   },
   {
    "duration": 41,
    "start_time": "2022-09-22T15:59:07.439Z"
   },
   {
    "duration": 4,
    "start_time": "2022-09-22T15:59:07.482Z"
   },
   {
    "duration": 21,
    "start_time": "2022-09-22T15:59:07.488Z"
   },
   {
    "duration": 4,
    "start_time": "2022-09-22T15:59:07.511Z"
   },
   {
    "duration": 5,
    "start_time": "2022-09-22T15:59:07.534Z"
   },
   {
    "duration": 21,
    "start_time": "2022-09-22T15:59:07.540Z"
   },
   {
    "duration": 9,
    "start_time": "2022-09-22T15:59:07.563Z"
   },
   {
    "duration": 15,
    "start_time": "2022-09-22T15:59:07.574Z"
   },
   {
    "duration": 195,
    "start_time": "2022-09-22T15:59:07.591Z"
   },
   {
    "duration": 14,
    "start_time": "2022-09-22T15:59:07.788Z"
   },
   {
    "duration": 2,
    "start_time": "2022-09-22T15:59:07.804Z"
   },
   {
    "duration": 5,
    "start_time": "2022-09-22T15:59:07.808Z"
   },
   {
    "duration": 17,
    "start_time": "2022-09-22T15:59:07.816Z"
   },
   {
    "duration": 2,
    "start_time": "2022-09-22T15:59:07.835Z"
   },
   {
    "duration": 6,
    "start_time": "2022-09-22T15:59:07.839Z"
   },
   {
    "duration": 5,
    "start_time": "2022-09-22T15:59:07.846Z"
   },
   {
    "duration": 11,
    "start_time": "2022-09-22T15:59:07.852Z"
   },
   {
    "duration": 749,
    "start_time": "2022-09-22T15:59:07.865Z"
   },
   {
    "duration": 11,
    "start_time": "2022-09-22T15:59:08.616Z"
   },
   {
    "duration": 3,
    "start_time": "2022-09-22T15:59:08.634Z"
   },
   {
    "duration": 12600,
    "start_time": "2022-09-22T15:59:08.638Z"
   },
   {
    "duration": 193,
    "start_time": "2022-09-22T15:59:21.240Z"
   },
   {
    "duration": 7,
    "start_time": "2022-09-22T15:59:21.435Z"
   },
   {
    "duration": 95,
    "start_time": "2022-09-22T15:59:21.444Z"
   },
   {
    "duration": 13,
    "start_time": "2022-09-22T15:59:21.541Z"
   },
   {
    "duration": 7,
    "start_time": "2022-09-22T15:59:21.556Z"
   },
   {
    "duration": 101,
    "start_time": "2022-09-22T15:59:21.564Z"
   },
   {
    "duration": 0,
    "start_time": "2022-09-22T15:59:21.667Z"
   },
   {
    "duration": 0,
    "start_time": "2022-09-22T15:59:21.668Z"
   },
   {
    "duration": 0,
    "start_time": "2022-09-22T15:59:21.669Z"
   },
   {
    "duration": 0,
    "start_time": "2022-09-22T15:59:21.670Z"
   },
   {
    "duration": 0,
    "start_time": "2022-09-22T15:59:21.671Z"
   },
   {
    "duration": 0,
    "start_time": "2022-09-22T15:59:21.672Z"
   },
   {
    "duration": 0,
    "start_time": "2022-09-22T15:59:21.673Z"
   },
   {
    "duration": 0,
    "start_time": "2022-09-22T15:59:21.674Z"
   },
   {
    "duration": 0,
    "start_time": "2022-09-22T15:59:21.675Z"
   },
   {
    "duration": 0,
    "start_time": "2022-09-22T15:59:21.676Z"
   },
   {
    "duration": 3,
    "start_time": "2022-09-22T16:01:27.667Z"
   },
   {
    "duration": 22,
    "start_time": "2022-09-22T16:05:12.424Z"
   },
   {
    "duration": 10,
    "start_time": "2022-09-22T16:05:48.917Z"
   },
   {
    "duration": 3919,
    "start_time": "2022-09-22T16:06:02.619Z"
   },
   {
    "duration": 5879,
    "start_time": "2022-09-22T16:06:39.258Z"
   },
   {
    "duration": 3896,
    "start_time": "2022-09-22T16:07:21.152Z"
   },
   {
    "duration": 1154,
    "start_time": "2022-09-22T16:09:51.130Z"
   },
   {
    "duration": 1078,
    "start_time": "2022-09-22T16:09:52.286Z"
   },
   {
    "duration": 3,
    "start_time": "2022-09-22T16:09:53.366Z"
   },
   {
    "duration": 115,
    "start_time": "2022-09-22T16:09:53.371Z"
   },
   {
    "duration": 653,
    "start_time": "2022-09-22T16:09:53.488Z"
   },
   {
    "duration": 90,
    "start_time": "2022-09-22T16:09:54.143Z"
   },
   {
    "duration": 111,
    "start_time": "2022-09-22T16:09:54.235Z"
   },
   {
    "duration": 12,
    "start_time": "2022-09-22T16:09:54.348Z"
   },
   {
    "duration": 171,
    "start_time": "2022-09-22T16:09:54.361Z"
   },
   {
    "duration": 22,
    "start_time": "2022-09-22T16:09:54.534Z"
   },
   {
    "duration": 521,
    "start_time": "2022-09-22T16:09:54.558Z"
   },
   {
    "duration": 4,
    "start_time": "2022-09-22T16:09:55.080Z"
   },
   {
    "duration": 17,
    "start_time": "2022-09-22T16:09:55.086Z"
   },
   {
    "duration": 44,
    "start_time": "2022-09-22T16:09:55.106Z"
   },
   {
    "duration": 5,
    "start_time": "2022-09-22T16:09:55.151Z"
   },
   {
    "duration": 41,
    "start_time": "2022-09-22T16:09:55.157Z"
   },
   {
    "duration": 7,
    "start_time": "2022-09-22T16:09:55.201Z"
   },
   {
    "duration": 33,
    "start_time": "2022-09-22T16:09:55.210Z"
   },
   {
    "duration": 4,
    "start_time": "2022-09-22T16:09:55.245Z"
   },
   {
    "duration": 10,
    "start_time": "2022-09-22T16:09:55.250Z"
   },
   {
    "duration": 27,
    "start_time": "2022-09-22T16:09:55.261Z"
   },
   {
    "duration": 10,
    "start_time": "2022-09-22T16:09:55.290Z"
   },
   {
    "duration": 20,
    "start_time": "2022-09-22T16:09:55.301Z"
   },
   {
    "duration": 195,
    "start_time": "2022-09-22T16:09:55.322Z"
   },
   {
    "duration": 20,
    "start_time": "2022-09-22T16:09:55.519Z"
   },
   {
    "duration": 3,
    "start_time": "2022-09-22T16:09:55.540Z"
   },
   {
    "duration": 8,
    "start_time": "2022-09-22T16:09:55.544Z"
   },
   {
    "duration": 5,
    "start_time": "2022-09-22T16:09:55.553Z"
   },
   {
    "duration": 13,
    "start_time": "2022-09-22T16:09:55.560Z"
   },
   {
    "duration": 8,
    "start_time": "2022-09-22T16:09:55.574Z"
   },
   {
    "duration": 7,
    "start_time": "2022-09-22T16:09:55.583Z"
   },
   {
    "duration": 15,
    "start_time": "2022-09-22T16:09:55.591Z"
   },
   {
    "duration": 836,
    "start_time": "2022-09-22T16:09:55.607Z"
   },
   {
    "duration": 13,
    "start_time": "2022-09-22T16:09:56.445Z"
   },
   {
    "duration": 7,
    "start_time": "2022-09-22T16:09:56.460Z"
   },
   {
    "duration": 20676,
    "start_time": "2022-09-22T16:09:56.469Z"
   },
   {
    "duration": 193,
    "start_time": "2022-09-22T16:10:17.147Z"
   },
   {
    "duration": 92,
    "start_time": "2022-09-22T16:10:17.343Z"
   },
   {
    "duration": 6,
    "start_time": "2022-09-22T16:10:17.436Z"
   },
   {
    "duration": 8,
    "start_time": "2022-09-22T16:10:17.443Z"
   },
   {
    "duration": 3,
    "start_time": "2022-09-22T16:10:17.455Z"
   },
   {
    "duration": 9,
    "start_time": "2022-09-22T16:10:17.460Z"
   },
   {
    "duration": 75174,
    "start_time": "2022-09-22T16:10:17.470Z"
   },
   {
    "duration": 2,
    "start_time": "2022-09-22T16:11:32.646Z"
   },
   {
    "duration": 6,
    "start_time": "2022-09-22T16:11:32.650Z"
   },
   {
    "duration": 5,
    "start_time": "2022-09-22T16:11:32.657Z"
   },
   {
    "duration": 9,
    "start_time": "2022-09-22T16:11:32.663Z"
   },
   {
    "duration": 8,
    "start_time": "2022-09-22T16:11:32.674Z"
   },
   {
    "duration": 7,
    "start_time": "2022-09-22T16:11:32.683Z"
   },
   {
    "duration": 6,
    "start_time": "2022-09-22T16:11:32.691Z"
   },
   {
    "duration": 8,
    "start_time": "2022-09-22T16:11:32.698Z"
   },
   {
    "duration": 3831,
    "start_time": "2022-09-22T16:11:32.708Z"
   },
   {
    "duration": 160326,
    "start_time": "2022-09-22T16:11:59.747Z"
   },
   {
    "duration": 1119,
    "start_time": "2022-09-22T16:17:52.174Z"
   },
   {
    "duration": 1040,
    "start_time": "2022-09-22T16:17:53.295Z"
   },
   {
    "duration": 4,
    "start_time": "2022-09-22T16:17:54.337Z"
   },
   {
    "duration": 100,
    "start_time": "2022-09-22T16:17:54.342Z"
   },
   {
    "duration": 657,
    "start_time": "2022-09-22T16:17:54.443Z"
   },
   {
    "duration": 84,
    "start_time": "2022-09-22T16:17:55.102Z"
   },
   {
    "duration": 108,
    "start_time": "2022-09-22T16:17:55.187Z"
   },
   {
    "duration": 12,
    "start_time": "2022-09-22T16:17:55.296Z"
   },
   {
    "duration": 92,
    "start_time": "2022-09-22T16:17:55.310Z"
   },
   {
    "duration": 15,
    "start_time": "2022-09-22T16:17:55.406Z"
   },
   {
    "duration": 567,
    "start_time": "2022-09-22T16:17:55.422Z"
   },
   {
    "duration": 4,
    "start_time": "2022-09-22T16:17:55.990Z"
   },
   {
    "duration": 8,
    "start_time": "2022-09-22T16:17:55.996Z"
   },
   {
    "duration": 56,
    "start_time": "2022-09-22T16:17:56.005Z"
   },
   {
    "duration": 5,
    "start_time": "2022-09-22T16:17:56.062Z"
   },
   {
    "duration": 41,
    "start_time": "2022-09-22T16:17:56.068Z"
   },
   {
    "duration": 5,
    "start_time": "2022-09-22T16:17:56.111Z"
   },
   {
    "duration": 33,
    "start_time": "2022-09-22T16:17:56.118Z"
   },
   {
    "duration": 4,
    "start_time": "2022-09-22T16:17:56.153Z"
   },
   {
    "duration": 8,
    "start_time": "2022-09-22T16:17:56.158Z"
   },
   {
    "duration": 20,
    "start_time": "2022-09-22T16:17:56.168Z"
   },
   {
    "duration": 17,
    "start_time": "2022-09-22T16:17:56.191Z"
   },
   {
    "duration": 35,
    "start_time": "2022-09-22T16:17:56.210Z"
   },
   {
    "duration": 235,
    "start_time": "2022-09-22T16:17:56.247Z"
   },
   {
    "duration": 13,
    "start_time": "2022-09-22T16:17:56.484Z"
   },
   {
    "duration": 2,
    "start_time": "2022-09-22T16:17:56.499Z"
   },
   {
    "duration": 6,
    "start_time": "2022-09-22T16:17:56.503Z"
   },
   {
    "duration": 4,
    "start_time": "2022-09-22T16:17:56.512Z"
   },
   {
    "duration": 16,
    "start_time": "2022-09-22T16:17:56.517Z"
   },
   {
    "duration": 5,
    "start_time": "2022-09-22T16:17:56.534Z"
   },
   {
    "duration": 4,
    "start_time": "2022-09-22T16:17:56.540Z"
   },
   {
    "duration": 12,
    "start_time": "2022-09-22T16:17:56.546Z"
   },
   {
    "duration": 782,
    "start_time": "2022-09-22T16:17:56.559Z"
   },
   {
    "duration": 11,
    "start_time": "2022-09-22T16:17:57.342Z"
   },
   {
    "duration": 6,
    "start_time": "2022-09-22T16:17:57.355Z"
   },
   {
    "duration": 13271,
    "start_time": "2022-09-22T16:17:57.362Z"
   },
   {
    "duration": 107,
    "start_time": "2022-09-22T16:18:10.635Z"
   },
   {
    "duration": 5,
    "start_time": "2022-09-22T16:18:10.834Z"
   },
   {
    "duration": 93,
    "start_time": "2022-09-22T16:18:10.841Z"
   },
   {
    "duration": 5,
    "start_time": "2022-09-22T16:18:10.936Z"
   },
   {
    "duration": 8,
    "start_time": "2022-09-22T16:18:10.943Z"
   },
   {
    "duration": 5,
    "start_time": "2022-09-22T16:18:10.953Z"
   },
   {
    "duration": 44,
    "start_time": "2022-09-22T16:18:10.960Z"
   },
   {
    "duration": 0,
    "start_time": "2022-09-22T16:18:11.005Z"
   },
   {
    "duration": 0,
    "start_time": "2022-09-22T16:18:11.006Z"
   },
   {
    "duration": 0,
    "start_time": "2022-09-22T16:18:11.008Z"
   },
   {
    "duration": 0,
    "start_time": "2022-09-22T16:18:11.008Z"
   },
   {
    "duration": 0,
    "start_time": "2022-09-22T16:18:11.009Z"
   },
   {
    "duration": 0,
    "start_time": "2022-09-22T16:18:11.010Z"
   },
   {
    "duration": 0,
    "start_time": "2022-09-22T16:18:11.011Z"
   },
   {
    "duration": 0,
    "start_time": "2022-09-22T16:18:11.012Z"
   },
   {
    "duration": 0,
    "start_time": "2022-09-22T16:18:11.013Z"
   },
   {
    "duration": 0,
    "start_time": "2022-09-22T16:18:11.014Z"
   },
   {
    "duration": 0,
    "start_time": "2022-09-22T16:18:11.015Z"
   },
   {
    "duration": 2049,
    "start_time": "2022-09-22T16:18:48.790Z"
   },
   {
    "duration": 112598,
    "start_time": "2022-09-22T16:19:01.243Z"
   },
   {
    "duration": 159877,
    "start_time": "2022-09-22T16:21:14.410Z"
   },
   {
    "duration": 3,
    "start_time": "2022-09-22T16:24:28.934Z"
   },
   {
    "duration": 12129,
    "start_time": "2022-09-22T16:24:30.513Z"
   },
   {
    "duration": 1701,
    "start_time": "2022-09-22T16:24:42.644Z"
   },
   {
    "duration": 4,
    "start_time": "2022-09-22T16:26:01.359Z"
   },
   {
    "duration": 525,
    "start_time": "2022-09-22T16:27:38.997Z"
   },
   {
    "duration": 514,
    "start_time": "2022-09-22T16:28:06.539Z"
   },
   {
    "duration": 25223,
    "start_time": "2022-09-22T16:28:24.620Z"
   },
   {
    "duration": 1213,
    "start_time": "2022-09-22T16:42:51.146Z"
   },
   {
    "duration": 1161,
    "start_time": "2022-09-22T16:42:52.361Z"
   },
   {
    "duration": 2,
    "start_time": "2022-09-22T16:42:53.524Z"
   },
   {
    "duration": 112,
    "start_time": "2022-09-22T16:42:53.534Z"
   },
   {
    "duration": 714,
    "start_time": "2022-09-22T16:42:53.650Z"
   },
   {
    "duration": 88,
    "start_time": "2022-09-22T16:42:54.365Z"
   },
   {
    "duration": 113,
    "start_time": "2022-09-22T16:42:54.454Z"
   },
   {
    "duration": 12,
    "start_time": "2022-09-22T16:42:54.568Z"
   },
   {
    "duration": 164,
    "start_time": "2022-09-22T16:42:54.582Z"
   },
   {
    "duration": 16,
    "start_time": "2022-09-22T16:42:54.748Z"
   },
   {
    "duration": 516,
    "start_time": "2022-09-22T16:42:54.766Z"
   },
   {
    "duration": 4,
    "start_time": "2022-09-22T16:42:55.284Z"
   },
   {
    "duration": 13,
    "start_time": "2022-09-22T16:42:55.290Z"
   },
   {
    "duration": 50,
    "start_time": "2022-09-22T16:42:55.305Z"
   },
   {
    "duration": 5,
    "start_time": "2022-09-22T16:42:55.357Z"
   },
   {
    "duration": 49,
    "start_time": "2022-09-22T16:42:55.363Z"
   },
   {
    "duration": 5,
    "start_time": "2022-09-22T16:42:55.414Z"
   },
   {
    "duration": 45,
    "start_time": "2022-09-22T16:42:55.421Z"
   },
   {
    "duration": 4,
    "start_time": "2022-09-22T16:42:55.468Z"
   },
   {
    "duration": 9,
    "start_time": "2022-09-22T16:42:55.473Z"
   },
   {
    "duration": 19,
    "start_time": "2022-09-22T16:42:55.483Z"
   },
   {
    "duration": 3,
    "start_time": "2022-09-22T16:42:55.504Z"
   },
   {
    "duration": 17,
    "start_time": "2022-09-22T16:42:55.509Z"
   },
   {
    "duration": 228,
    "start_time": "2022-09-22T16:42:55.527Z"
   },
   {
    "duration": 16,
    "start_time": "2022-09-22T16:42:55.757Z"
   },
   {
    "duration": 6,
    "start_time": "2022-09-22T16:42:55.775Z"
   },
   {
    "duration": 6,
    "start_time": "2022-09-22T16:42:55.783Z"
   },
   {
    "duration": 6,
    "start_time": "2022-09-22T16:42:55.790Z"
   },
   {
    "duration": 5,
    "start_time": "2022-09-22T16:42:55.797Z"
   },
   {
    "duration": 6,
    "start_time": "2022-09-22T16:42:55.803Z"
   },
   {
    "duration": 6,
    "start_time": "2022-09-22T16:42:55.810Z"
   },
   {
    "duration": 27,
    "start_time": "2022-09-22T16:42:55.817Z"
   },
   {
    "duration": 964,
    "start_time": "2022-09-22T16:42:55.847Z"
   },
   {
    "duration": 11,
    "start_time": "2022-09-22T16:42:56.813Z"
   },
   {
    "duration": 21,
    "start_time": "2022-09-22T16:42:56.826Z"
   },
   {
    "duration": 15207,
    "start_time": "2022-09-22T16:42:56.849Z"
   },
   {
    "duration": 197,
    "start_time": "2022-09-22T16:43:12.058Z"
   },
   {
    "duration": 83,
    "start_time": "2022-09-22T16:43:12.257Z"
   },
   {
    "duration": 15,
    "start_time": "2022-09-22T16:43:12.343Z"
   },
   {
    "duration": 6,
    "start_time": "2022-09-22T16:43:12.360Z"
   },
   {
    "duration": 3,
    "start_time": "2022-09-22T16:43:12.370Z"
   },
   {
    "duration": 5,
    "start_time": "2022-09-22T16:43:12.375Z"
   },
   {
    "duration": 1187,
    "start_time": "2022-09-22T16:49:13.955Z"
   },
   {
    "duration": 1046,
    "start_time": "2022-09-22T16:49:15.144Z"
   },
   {
    "duration": 4,
    "start_time": "2022-09-22T16:49:16.192Z"
   },
   {
    "duration": 106,
    "start_time": "2022-09-22T16:49:16.198Z"
   },
   {
    "duration": 711,
    "start_time": "2022-09-22T16:49:16.306Z"
   },
   {
    "duration": 76,
    "start_time": "2022-09-22T16:49:17.019Z"
   },
   {
    "duration": 116,
    "start_time": "2022-09-22T16:49:17.098Z"
   },
   {
    "duration": 26,
    "start_time": "2022-09-22T16:49:17.216Z"
   },
   {
    "duration": 79,
    "start_time": "2022-09-22T16:49:17.244Z"
   },
   {
    "duration": 16,
    "start_time": "2022-09-22T16:49:17.385Z"
   },
   {
    "duration": 501,
    "start_time": "2022-09-22T16:49:17.402Z"
   },
   {
    "duration": 4,
    "start_time": "2022-09-22T16:49:17.904Z"
   },
   {
    "duration": 8,
    "start_time": "2022-09-22T16:49:17.909Z"
   },
   {
    "duration": 49,
    "start_time": "2022-09-22T16:49:17.919Z"
   },
   {
    "duration": 4,
    "start_time": "2022-09-22T16:49:17.970Z"
   },
   {
    "duration": 50,
    "start_time": "2022-09-22T16:49:17.976Z"
   },
   {
    "duration": 7,
    "start_time": "2022-09-22T16:49:18.027Z"
   },
   {
    "duration": 26,
    "start_time": "2022-09-22T16:49:18.035Z"
   },
   {
    "duration": 4,
    "start_time": "2022-09-22T16:49:18.062Z"
   },
   {
    "duration": 18,
    "start_time": "2022-09-22T16:49:18.068Z"
   },
   {
    "duration": 25,
    "start_time": "2022-09-22T16:49:18.088Z"
   },
   {
    "duration": 5,
    "start_time": "2022-09-22T16:49:18.116Z"
   },
   {
    "duration": 20,
    "start_time": "2022-09-22T16:49:18.123Z"
   },
   {
    "duration": 201,
    "start_time": "2022-09-22T16:49:18.145Z"
   },
   {
    "duration": 16,
    "start_time": "2022-09-22T16:49:18.348Z"
   },
   {
    "duration": 3,
    "start_time": "2022-09-22T16:49:18.366Z"
   },
   {
    "duration": 9,
    "start_time": "2022-09-22T16:49:18.370Z"
   },
   {
    "duration": 4,
    "start_time": "2022-09-22T16:49:18.382Z"
   },
   {
    "duration": 5,
    "start_time": "2022-09-22T16:49:18.387Z"
   },
   {
    "duration": 5,
    "start_time": "2022-09-22T16:49:18.393Z"
   },
   {
    "duration": 4,
    "start_time": "2022-09-22T16:49:18.399Z"
   },
   {
    "duration": 35,
    "start_time": "2022-09-22T16:49:18.405Z"
   },
   {
    "duration": 796,
    "start_time": "2022-09-22T16:49:18.442Z"
   },
   {
    "duration": 15,
    "start_time": "2022-09-22T16:49:19.240Z"
   },
   {
    "duration": 14,
    "start_time": "2022-09-22T16:49:19.264Z"
   },
   {
    "duration": 21255,
    "start_time": "2022-09-22T16:49:19.279Z"
   },
   {
    "duration": 114,
    "start_time": "2022-09-22T16:49:40.536Z"
   },
   {
    "duration": 86,
    "start_time": "2022-09-22T16:49:40.653Z"
   },
   {
    "duration": 98,
    "start_time": "2022-09-22T16:49:40.741Z"
   },
   {
    "duration": 7,
    "start_time": "2022-09-22T16:49:40.842Z"
   },
   {
    "duration": 13,
    "start_time": "2022-09-22T16:49:40.850Z"
   },
   {
    "duration": 17,
    "start_time": "2022-09-22T16:49:40.866Z"
   },
   {
    "duration": 566369,
    "start_time": "2022-09-22T16:49:40.885Z"
   },
   {
    "duration": 78100,
    "start_time": "2022-09-22T16:59:07.334Z"
   },
   {
    "duration": 4,
    "start_time": "2022-09-22T17:00:25.436Z"
   },
   {
    "duration": 85800,
    "start_time": "2022-09-22T17:00:25.441Z"
   },
   {
    "duration": 1625,
    "start_time": "2022-09-22T17:01:51.242Z"
   },
   {
    "duration": 4,
    "start_time": "2022-09-22T17:01:52.869Z"
   },
   {
    "duration": 4,
    "start_time": "2022-09-22T17:01:52.875Z"
   },
   {
    "duration": 3,
    "start_time": "2022-09-22T17:01:52.934Z"
   },
   {
    "duration": 62,
    "start_time": "2022-09-22T19:39:47.120Z"
   },
   {
    "duration": 1185,
    "start_time": "2022-09-22T19:39:54.295Z"
   },
   {
    "duration": 3030,
    "start_time": "2022-09-22T19:39:55.482Z"
   },
   {
    "duration": 4,
    "start_time": "2022-09-22T19:39:58.513Z"
   },
   {
    "duration": 82,
    "start_time": "2022-09-22T19:39:58.522Z"
   },
   {
    "duration": 608,
    "start_time": "2022-09-22T19:39:58.606Z"
   },
   {
    "duration": 75,
    "start_time": "2022-09-22T19:39:59.215Z"
   },
   {
    "duration": 102,
    "start_time": "2022-09-22T19:39:59.292Z"
   },
   {
    "duration": 30,
    "start_time": "2022-09-22T19:39:59.395Z"
   },
   {
    "duration": 127,
    "start_time": "2022-09-22T19:39:59.427Z"
   },
   {
    "duration": 17,
    "start_time": "2022-09-22T19:39:59.629Z"
   },
   {
    "duration": 478,
    "start_time": "2022-09-22T19:39:59.647Z"
   },
   {
    "duration": 4,
    "start_time": "2022-09-22T19:40:00.127Z"
   },
   {
    "duration": 13,
    "start_time": "2022-09-22T19:40:00.132Z"
   },
   {
    "duration": 42,
    "start_time": "2022-09-22T19:40:00.146Z"
   },
   {
    "duration": 6,
    "start_time": "2022-09-22T19:40:00.190Z"
   },
   {
    "duration": 48,
    "start_time": "2022-09-22T19:40:00.197Z"
   },
   {
    "duration": 4,
    "start_time": "2022-09-22T19:40:00.247Z"
   },
   {
    "duration": 25,
    "start_time": "2022-09-22T19:40:00.253Z"
   },
   {
    "duration": 4,
    "start_time": "2022-09-22T19:40:00.280Z"
   },
   {
    "duration": 16,
    "start_time": "2022-09-22T19:40:00.286Z"
   },
   {
    "duration": 28,
    "start_time": "2022-09-22T19:40:00.303Z"
   },
   {
    "duration": 5,
    "start_time": "2022-09-22T19:40:00.333Z"
   },
   {
    "duration": 37,
    "start_time": "2022-09-22T19:40:00.340Z"
   },
   {
    "duration": 192,
    "start_time": "2022-09-22T19:40:00.379Z"
   },
   {
    "duration": 17,
    "start_time": "2022-09-22T19:40:00.573Z"
   },
   {
    "duration": 8,
    "start_time": "2022-09-22T19:40:00.592Z"
   },
   {
    "duration": 11,
    "start_time": "2022-09-22T19:40:00.601Z"
   },
   {
    "duration": 12,
    "start_time": "2022-09-22T19:40:00.621Z"
   },
   {
    "duration": 10,
    "start_time": "2022-09-22T19:40:00.635Z"
   },
   {
    "duration": 10,
    "start_time": "2022-09-22T19:40:00.646Z"
   },
   {
    "duration": 17,
    "start_time": "2022-09-22T19:40:00.658Z"
   },
   {
    "duration": 29,
    "start_time": "2022-09-22T19:40:00.676Z"
   },
   {
    "duration": 736,
    "start_time": "2022-09-22T19:40:00.707Z"
   },
   {
    "duration": 13,
    "start_time": "2022-09-22T19:40:01.445Z"
   },
   {
    "duration": 25,
    "start_time": "2022-09-22T19:40:01.459Z"
   },
   {
    "duration": 17746,
    "start_time": "2022-09-22T19:40:01.486Z"
   },
   {
    "duration": 192,
    "start_time": "2022-09-22T19:40:19.233Z"
   },
   {
    "duration": 6,
    "start_time": "2022-09-22T19:40:19.427Z"
   },
   {
    "duration": 94,
    "start_time": "2022-09-22T19:40:19.435Z"
   },
   {
    "duration": 7,
    "start_time": "2022-09-22T19:40:19.531Z"
   },
   {
    "duration": 82,
    "start_time": "2022-09-22T19:40:19.540Z"
   },
   {
    "duration": 8,
    "start_time": "2022-09-22T19:40:19.624Z"
   },
   {
    "duration": 1298,
    "start_time": "2022-09-22T19:46:05.691Z"
   },
   {
    "duration": 1117,
    "start_time": "2022-09-22T19:46:06.990Z"
   },
   {
    "duration": 3,
    "start_time": "2022-09-22T19:46:08.109Z"
   },
   {
    "duration": 111,
    "start_time": "2022-09-22T19:46:08.123Z"
   },
   {
    "duration": 623,
    "start_time": "2022-09-22T19:46:08.236Z"
   },
   {
    "duration": 101,
    "start_time": "2022-09-22T19:46:08.861Z"
   },
   {
    "duration": 137,
    "start_time": "2022-09-22T19:46:08.964Z"
   },
   {
    "duration": 22,
    "start_time": "2022-09-22T19:46:09.103Z"
   },
   {
    "duration": 77,
    "start_time": "2022-09-22T19:46:09.127Z"
   },
   {
    "duration": 16,
    "start_time": "2022-09-22T19:46:09.274Z"
   },
   {
    "duration": 493,
    "start_time": "2022-09-22T19:46:09.292Z"
   },
   {
    "duration": 4,
    "start_time": "2022-09-22T19:46:09.786Z"
   },
   {
    "duration": 8,
    "start_time": "2022-09-22T19:46:09.792Z"
   },
   {
    "duration": 52,
    "start_time": "2022-09-22T19:46:09.802Z"
   },
   {
    "duration": 5,
    "start_time": "2022-09-22T19:46:09.856Z"
   },
   {
    "duration": 43,
    "start_time": "2022-09-22T19:46:09.863Z"
   },
   {
    "duration": 15,
    "start_time": "2022-09-22T19:46:09.907Z"
   },
   {
    "duration": 17,
    "start_time": "2022-09-22T19:46:09.924Z"
   },
   {
    "duration": 4,
    "start_time": "2022-09-22T19:46:09.943Z"
   },
   {
    "duration": 10,
    "start_time": "2022-09-22T19:46:09.948Z"
   },
   {
    "duration": 17,
    "start_time": "2022-09-22T19:46:09.960Z"
   },
   {
    "duration": 3,
    "start_time": "2022-09-22T19:46:09.979Z"
   },
   {
    "duration": 40,
    "start_time": "2022-09-22T19:46:09.984Z"
   },
   {
    "duration": 186,
    "start_time": "2022-09-22T19:46:10.026Z"
   },
   {
    "duration": 18,
    "start_time": "2022-09-22T19:46:10.214Z"
   },
   {
    "duration": 2,
    "start_time": "2022-09-22T19:46:10.234Z"
   },
   {
    "duration": 9,
    "start_time": "2022-09-22T19:46:10.238Z"
   },
   {
    "duration": 4,
    "start_time": "2022-09-22T19:46:10.251Z"
   },
   {
    "duration": 8,
    "start_time": "2022-09-22T19:46:10.257Z"
   },
   {
    "duration": 8,
    "start_time": "2022-09-22T19:46:10.267Z"
   },
   {
    "duration": 8,
    "start_time": "2022-09-22T19:46:10.276Z"
   },
   {
    "duration": 14,
    "start_time": "2022-09-22T19:46:10.285Z"
   },
   {
    "duration": 762,
    "start_time": "2022-09-22T19:46:10.301Z"
   },
   {
    "duration": 20,
    "start_time": "2022-09-22T19:46:11.065Z"
   },
   {
    "duration": 19,
    "start_time": "2022-09-22T19:46:11.087Z"
   },
   {
    "duration": 28115,
    "start_time": "2022-09-22T19:46:11.107Z"
   },
   {
    "duration": 209,
    "start_time": "2022-09-22T19:46:39.224Z"
   },
   {
    "duration": 88,
    "start_time": "2022-09-22T19:46:39.435Z"
   },
   {
    "duration": 4,
    "start_time": "2022-09-22T19:46:39.525Z"
   },
   {
    "duration": 4,
    "start_time": "2022-09-22T19:46:39.531Z"
   },
   {
    "duration": 5,
    "start_time": "2022-09-22T19:46:39.537Z"
   },
   {
    "duration": 5,
    "start_time": "2022-09-22T19:46:39.544Z"
   },
   {
    "duration": 1182,
    "start_time": "2022-09-22T20:22:19.401Z"
   },
   {
    "duration": 966,
    "start_time": "2022-09-22T20:22:20.584Z"
   },
   {
    "duration": 3,
    "start_time": "2022-09-22T20:22:21.552Z"
   },
   {
    "duration": 96,
    "start_time": "2022-09-22T20:22:21.557Z"
   },
   {
    "duration": 620,
    "start_time": "2022-09-22T20:22:21.654Z"
   },
   {
    "duration": 84,
    "start_time": "2022-09-22T20:22:22.276Z"
   },
   {
    "duration": 94,
    "start_time": "2022-09-22T20:22:22.362Z"
   },
   {
    "duration": 24,
    "start_time": "2022-09-22T20:22:22.458Z"
   },
   {
    "duration": 90,
    "start_time": "2022-09-22T20:22:22.483Z"
   },
   {
    "duration": 18,
    "start_time": "2022-09-22T20:22:22.629Z"
   },
   {
    "duration": 491,
    "start_time": "2022-09-22T20:22:22.649Z"
   },
   {
    "duration": 5,
    "start_time": "2022-09-22T20:22:23.146Z"
   },
   {
    "duration": 13,
    "start_time": "2022-09-22T20:22:23.152Z"
   },
   {
    "duration": 46,
    "start_time": "2022-09-22T20:22:23.167Z"
   },
   {
    "duration": 19,
    "start_time": "2022-09-22T20:22:23.214Z"
   },
   {
    "duration": 40,
    "start_time": "2022-09-22T20:22:23.239Z"
   },
   {
    "duration": 5,
    "start_time": "2022-09-22T20:22:23.281Z"
   },
   {
    "duration": 24,
    "start_time": "2022-09-22T20:22:23.288Z"
   },
   {
    "duration": 5,
    "start_time": "2022-09-22T20:22:23.315Z"
   },
   {
    "duration": 28,
    "start_time": "2022-09-22T20:22:23.325Z"
   },
   {
    "duration": 31,
    "start_time": "2022-09-22T20:22:23.355Z"
   },
   {
    "duration": 4,
    "start_time": "2022-09-22T20:22:23.387Z"
   },
   {
    "duration": 16,
    "start_time": "2022-09-22T20:22:23.392Z"
   },
   {
    "duration": 190,
    "start_time": "2022-09-22T20:22:23.409Z"
   },
   {
    "duration": 13,
    "start_time": "2022-09-22T20:22:23.601Z"
   },
   {
    "duration": 8,
    "start_time": "2022-09-22T20:22:23.621Z"
   },
   {
    "duration": 11,
    "start_time": "2022-09-22T20:22:23.633Z"
   },
   {
    "duration": 2,
    "start_time": "2022-09-22T20:22:23.647Z"
   },
   {
    "duration": 17,
    "start_time": "2022-09-22T20:22:23.650Z"
   },
   {
    "duration": 6,
    "start_time": "2022-09-22T20:22:23.669Z"
   },
   {
    "duration": 7,
    "start_time": "2022-09-22T20:22:23.676Z"
   },
   {
    "duration": 13,
    "start_time": "2022-09-22T20:22:23.684Z"
   },
   {
    "duration": 734,
    "start_time": "2022-09-22T20:22:23.698Z"
   },
   {
    "duration": 11,
    "start_time": "2022-09-22T20:22:24.435Z"
   },
   {
    "duration": 5,
    "start_time": "2022-09-22T20:22:24.447Z"
   },
   {
    "duration": 28081,
    "start_time": "2022-09-22T20:22:24.454Z"
   },
   {
    "duration": 190,
    "start_time": "2022-09-22T20:22:52.538Z"
   },
   {
    "duration": 9,
    "start_time": "2022-09-22T20:22:52.729Z"
   },
   {
    "duration": 100,
    "start_time": "2022-09-22T20:22:52.743Z"
   },
   {
    "duration": 5,
    "start_time": "2022-09-22T20:22:52.844Z"
   },
   {
    "duration": 5,
    "start_time": "2022-09-22T20:22:52.850Z"
   },
   {
    "duration": 5,
    "start_time": "2022-09-22T20:22:52.856Z"
   },
   {
    "duration": 6,
    "start_time": "2022-09-22T20:22:52.862Z"
   },
   {
    "duration": 1165,
    "start_time": "2022-09-22T20:28:20.620Z"
   },
   {
    "duration": 949,
    "start_time": "2022-09-22T20:28:21.787Z"
   },
   {
    "duration": 10,
    "start_time": "2022-09-22T20:28:22.738Z"
   },
   {
    "duration": 92,
    "start_time": "2022-09-22T20:28:22.750Z"
   },
   {
    "duration": 617,
    "start_time": "2022-09-22T20:28:22.844Z"
   },
   {
    "duration": 72,
    "start_time": "2022-09-22T20:28:23.463Z"
   },
   {
    "duration": 92,
    "start_time": "2022-09-22T20:28:23.536Z"
   },
   {
    "duration": 14,
    "start_time": "2022-09-22T20:28:23.636Z"
   },
   {
    "duration": 84,
    "start_time": "2022-09-22T20:28:23.652Z"
   },
   {
    "duration": 27,
    "start_time": "2022-09-22T20:28:23.790Z"
   },
   {
    "duration": 509,
    "start_time": "2022-09-22T20:28:23.818Z"
   },
   {
    "duration": 10,
    "start_time": "2022-09-22T20:28:24.328Z"
   },
   {
    "duration": 9,
    "start_time": "2022-09-22T20:28:24.347Z"
   },
   {
    "duration": 40,
    "start_time": "2022-09-22T20:28:24.358Z"
   },
   {
    "duration": 6,
    "start_time": "2022-09-22T20:28:24.399Z"
   },
   {
    "duration": 44,
    "start_time": "2022-09-22T20:28:24.406Z"
   },
   {
    "duration": 5,
    "start_time": "2022-09-22T20:28:24.452Z"
   },
   {
    "duration": 21,
    "start_time": "2022-09-22T20:28:24.458Z"
   },
   {
    "duration": 4,
    "start_time": "2022-09-22T20:28:24.480Z"
   },
   {
    "duration": 10,
    "start_time": "2022-09-22T20:28:24.486Z"
   },
   {
    "duration": 38,
    "start_time": "2022-09-22T20:28:24.498Z"
   },
   {
    "duration": 15,
    "start_time": "2022-09-22T20:28:24.538Z"
   },
   {
    "duration": 14,
    "start_time": "2022-09-22T20:28:24.555Z"
   },
   {
    "duration": 185,
    "start_time": "2022-09-22T20:28:24.570Z"
   },
   {
    "duration": 14,
    "start_time": "2022-09-22T20:28:24.757Z"
   },
   {
    "duration": 4,
    "start_time": "2022-09-22T20:28:24.772Z"
   },
   {
    "duration": 4,
    "start_time": "2022-09-22T20:28:24.778Z"
   },
   {
    "duration": 2,
    "start_time": "2022-09-22T20:28:24.786Z"
   },
   {
    "duration": 5,
    "start_time": "2022-09-22T20:28:24.790Z"
   },
   {
    "duration": 7,
    "start_time": "2022-09-22T20:28:24.796Z"
   },
   {
    "duration": 19,
    "start_time": "2022-09-22T20:28:24.804Z"
   },
   {
    "duration": 31,
    "start_time": "2022-09-22T20:28:24.825Z"
   },
   {
    "duration": 784,
    "start_time": "2022-09-22T20:28:24.857Z"
   },
   {
    "duration": 12,
    "start_time": "2022-09-22T20:28:25.645Z"
   },
   {
    "duration": 6,
    "start_time": "2022-09-22T20:28:25.659Z"
   },
   {
    "duration": 33775,
    "start_time": "2022-09-22T20:28:25.667Z"
   },
   {
    "duration": 125,
    "start_time": "2022-09-22T20:28:59.521Z"
   },
   {
    "duration": 78,
    "start_time": "2022-09-22T20:28:59.648Z"
   },
   {
    "duration": 112,
    "start_time": "2022-09-22T20:28:59.727Z"
   },
   {
    "duration": 5,
    "start_time": "2022-09-22T20:28:59.841Z"
   },
   {
    "duration": 8,
    "start_time": "2022-09-22T20:28:59.847Z"
   },
   {
    "duration": 6,
    "start_time": "2022-09-22T20:28:59.856Z"
   },
   {
    "duration": 4,
    "start_time": "2022-09-22T20:28:59.864Z"
   },
   {
    "duration": 1237,
    "start_time": "2022-09-23T13:52:37.601Z"
   },
   {
    "duration": 1381,
    "start_time": "2022-09-23T13:52:38.841Z"
   },
   {
    "duration": 3,
    "start_time": "2022-09-23T13:52:40.224Z"
   },
   {
    "duration": 103,
    "start_time": "2022-09-23T13:52:40.229Z"
   },
   {
    "duration": 746,
    "start_time": "2022-09-23T13:52:40.334Z"
   },
   {
    "duration": 97,
    "start_time": "2022-09-23T13:52:41.082Z"
   },
   {
    "duration": 102,
    "start_time": "2022-09-23T13:52:41.181Z"
   },
   {
    "duration": 15,
    "start_time": "2022-09-23T13:52:41.285Z"
   },
   {
    "duration": 121,
    "start_time": "2022-09-23T13:52:41.302Z"
   },
   {
    "duration": 26,
    "start_time": "2022-09-23T13:52:41.517Z"
   },
   {
    "duration": 624,
    "start_time": "2022-09-23T13:52:41.555Z"
   },
   {
    "duration": 4,
    "start_time": "2022-09-23T13:52:42.182Z"
   },
   {
    "duration": 14,
    "start_time": "2022-09-23T13:52:42.188Z"
   },
   {
    "duration": 59,
    "start_time": "2022-09-23T13:52:42.204Z"
   },
   {
    "duration": 7,
    "start_time": "2022-09-23T13:52:42.265Z"
   },
   {
    "duration": 43,
    "start_time": "2022-09-23T13:52:42.274Z"
   },
   {
    "duration": 6,
    "start_time": "2022-09-23T13:52:42.319Z"
   },
   {
    "duration": 45,
    "start_time": "2022-09-23T13:52:42.327Z"
   },
   {
    "duration": 6,
    "start_time": "2022-09-23T13:52:42.374Z"
   },
   {
    "duration": 12,
    "start_time": "2022-09-23T13:52:42.382Z"
   },
   {
    "duration": 37,
    "start_time": "2022-09-23T13:52:42.397Z"
   },
   {
    "duration": 6,
    "start_time": "2022-09-23T13:52:42.436Z"
   },
   {
    "duration": 27,
    "start_time": "2022-09-23T13:52:42.444Z"
   },
   {
    "duration": 218,
    "start_time": "2022-09-23T13:52:42.473Z"
   },
   {
    "duration": 20,
    "start_time": "2022-09-23T13:52:42.693Z"
   },
   {
    "duration": 17,
    "start_time": "2022-09-23T13:52:42.714Z"
   },
   {
    "duration": 8,
    "start_time": "2022-09-23T13:52:42.734Z"
   },
   {
    "duration": 8,
    "start_time": "2022-09-23T13:52:42.746Z"
   },
   {
    "duration": 11,
    "start_time": "2022-09-23T13:52:42.756Z"
   },
   {
    "duration": 11,
    "start_time": "2022-09-23T13:52:42.769Z"
   },
   {
    "duration": 8,
    "start_time": "2022-09-23T13:52:42.782Z"
   },
   {
    "duration": 16,
    "start_time": "2022-09-23T13:52:42.791Z"
   },
   {
    "duration": 835,
    "start_time": "2022-09-23T13:52:42.809Z"
   },
   {
    "duration": 16,
    "start_time": "2022-09-23T13:52:43.646Z"
   },
   {
    "duration": 12,
    "start_time": "2022-09-23T13:52:43.664Z"
   },
   {
    "duration": 19278,
    "start_time": "2022-09-23T13:52:43.678Z"
   },
   {
    "duration": 125,
    "start_time": "2022-09-23T13:53:02.958Z"
   },
   {
    "duration": 74,
    "start_time": "2022-09-23T13:53:03.085Z"
   },
   {
    "duration": 97,
    "start_time": "2022-09-23T13:53:03.161Z"
   },
   {
    "duration": 34,
    "start_time": "2022-09-23T13:53:03.260Z"
   },
   {
    "duration": 8,
    "start_time": "2022-09-23T13:53:03.296Z"
   },
   {
    "duration": 42,
    "start_time": "2022-09-23T13:53:03.306Z"
   },
   {
    "duration": 1302,
    "start_time": "2022-09-23T13:56:20.543Z"
   },
   {
    "duration": 1155,
    "start_time": "2022-09-23T13:56:21.847Z"
   },
   {
    "duration": 4,
    "start_time": "2022-09-23T13:56:23.004Z"
   },
   {
    "duration": 113,
    "start_time": "2022-09-23T13:56:23.009Z"
   },
   {
    "duration": 735,
    "start_time": "2022-09-23T13:56:23.125Z"
   },
   {
    "duration": 93,
    "start_time": "2022-09-23T13:56:23.861Z"
   },
   {
    "duration": 114,
    "start_time": "2022-09-23T13:56:23.956Z"
   },
   {
    "duration": 16,
    "start_time": "2022-09-23T13:56:24.072Z"
   },
   {
    "duration": 171,
    "start_time": "2022-09-23T13:56:24.090Z"
   },
   {
    "duration": 18,
    "start_time": "2022-09-23T13:56:24.263Z"
   },
   {
    "duration": 553,
    "start_time": "2022-09-23T13:56:24.283Z"
   },
   {
    "duration": 5,
    "start_time": "2022-09-23T13:56:24.838Z"
   },
   {
    "duration": 4,
    "start_time": "2022-09-23T13:56:24.854Z"
   },
   {
    "duration": 45,
    "start_time": "2022-09-23T13:56:24.862Z"
   },
   {
    "duration": 5,
    "start_time": "2022-09-23T13:56:24.909Z"
   },
   {
    "duration": 57,
    "start_time": "2022-09-23T13:56:24.915Z"
   },
   {
    "duration": 6,
    "start_time": "2022-09-23T13:56:24.974Z"
   },
   {
    "duration": 29,
    "start_time": "2022-09-23T13:56:24.981Z"
   },
   {
    "duration": 5,
    "start_time": "2022-09-23T13:56:25.012Z"
   },
   {
    "duration": 15,
    "start_time": "2022-09-23T13:56:25.019Z"
   },
   {
    "duration": 36,
    "start_time": "2022-09-23T13:56:25.036Z"
   },
   {
    "duration": 5,
    "start_time": "2022-09-23T13:56:25.074Z"
   },
   {
    "duration": 19,
    "start_time": "2022-09-23T13:56:25.081Z"
   },
   {
    "duration": 230,
    "start_time": "2022-09-23T13:56:25.102Z"
   },
   {
    "duration": 23,
    "start_time": "2022-09-23T13:56:25.334Z"
   },
   {
    "duration": 2,
    "start_time": "2022-09-23T13:56:25.359Z"
   },
   {
    "duration": 6,
    "start_time": "2022-09-23T13:56:25.363Z"
   },
   {
    "duration": 5,
    "start_time": "2022-09-23T13:56:25.371Z"
   },
   {
    "duration": 12,
    "start_time": "2022-09-23T13:56:25.377Z"
   },
   {
    "duration": 10,
    "start_time": "2022-09-23T13:56:25.390Z"
   },
   {
    "duration": 10,
    "start_time": "2022-09-23T13:56:25.402Z"
   },
   {
    "duration": 16,
    "start_time": "2022-09-23T13:56:25.414Z"
   },
   {
    "duration": 905,
    "start_time": "2022-09-23T13:56:25.432Z"
   },
   {
    "duration": 16,
    "start_time": "2022-09-23T13:56:26.339Z"
   },
   {
    "duration": 14,
    "start_time": "2022-09-23T13:56:26.357Z"
   },
   {
    "duration": 20782,
    "start_time": "2022-09-23T13:56:26.373Z"
   },
   {
    "duration": 129,
    "start_time": "2022-09-23T13:56:47.157Z"
   },
   {
    "duration": 8,
    "start_time": "2022-09-23T13:56:47.354Z"
   },
   {
    "duration": 96,
    "start_time": "2022-09-23T13:56:47.365Z"
   },
   {
    "duration": 5,
    "start_time": "2022-09-23T13:56:47.464Z"
   },
   {
    "duration": 4,
    "start_time": "2022-09-23T13:56:47.473Z"
   },
   {
    "duration": 8,
    "start_time": "2022-09-23T13:56:47.479Z"
   },
   {
    "duration": 28896,
    "start_time": "2022-09-23T13:56:47.489Z"
   },
   {
    "duration": 0,
    "start_time": "2022-09-23T13:57:16.388Z"
   },
   {
    "duration": 0,
    "start_time": "2022-09-23T13:57:16.389Z"
   },
   {
    "duration": 0,
    "start_time": "2022-09-23T13:57:16.390Z"
   },
   {
    "duration": 0,
    "start_time": "2022-09-23T13:57:16.391Z"
   },
   {
    "duration": 0,
    "start_time": "2022-09-23T13:57:16.393Z"
   },
   {
    "duration": 0,
    "start_time": "2022-09-23T13:57:16.395Z"
   },
   {
    "duration": 0,
    "start_time": "2022-09-23T13:57:16.396Z"
   },
   {
    "duration": 0,
    "start_time": "2022-09-23T13:57:16.398Z"
   },
   {
    "duration": 0,
    "start_time": "2022-09-23T13:57:16.400Z"
   },
   {
    "duration": 0,
    "start_time": "2022-09-23T13:57:16.401Z"
   },
   {
    "duration": 0,
    "start_time": "2022-09-23T13:57:16.404Z"
   },
   {
    "duration": 0,
    "start_time": "2022-09-23T13:57:16.405Z"
   },
   {
    "duration": 0,
    "start_time": "2022-09-23T13:57:16.407Z"
   },
   {
    "duration": 0,
    "start_time": "2022-09-23T13:57:16.408Z"
   },
   {
    "duration": 1457,
    "start_time": "2022-09-23T14:11:30.945Z"
   },
   {
    "duration": 1288,
    "start_time": "2022-09-23T14:11:32.404Z"
   },
   {
    "duration": 4,
    "start_time": "2022-09-23T14:11:33.694Z"
   },
   {
    "duration": 119,
    "start_time": "2022-09-23T14:11:33.701Z"
   },
   {
    "duration": 816,
    "start_time": "2022-09-23T14:11:33.822Z"
   },
   {
    "duration": 91,
    "start_time": "2022-09-23T14:11:34.640Z"
   },
   {
    "duration": 99,
    "start_time": "2022-09-23T14:11:34.733Z"
   },
   {
    "duration": 31,
    "start_time": "2022-09-23T14:11:34.834Z"
   },
   {
    "duration": 105,
    "start_time": "2022-09-23T14:11:34.867Z"
   },
   {
    "duration": 29,
    "start_time": "2022-09-23T14:11:35.045Z"
   },
   {
    "duration": 605,
    "start_time": "2022-09-23T14:11:35.076Z"
   },
   {
    "duration": 6,
    "start_time": "2022-09-23T14:11:35.682Z"
   },
   {
    "duration": 21,
    "start_time": "2022-09-23T14:11:35.690Z"
   },
   {
    "duration": 75,
    "start_time": "2022-09-23T14:11:35.713Z"
   },
   {
    "duration": 6,
    "start_time": "2022-09-23T14:11:35.790Z"
   },
   {
    "duration": 58,
    "start_time": "2022-09-23T14:11:35.798Z"
   },
   {
    "duration": 6,
    "start_time": "2022-09-23T14:11:35.858Z"
   },
   {
    "duration": 30,
    "start_time": "2022-09-23T14:11:35.866Z"
   },
   {
    "duration": 6,
    "start_time": "2022-09-23T14:11:35.898Z"
   },
   {
    "duration": 38,
    "start_time": "2022-09-23T14:11:35.906Z"
   },
   {
    "duration": 33,
    "start_time": "2022-09-23T14:11:35.946Z"
   },
   {
    "duration": 10,
    "start_time": "2022-09-23T14:11:35.980Z"
   },
   {
    "duration": 22,
    "start_time": "2022-09-23T14:11:35.991Z"
   },
   {
    "duration": 239,
    "start_time": "2022-09-23T14:11:36.015Z"
   },
   {
    "duration": 18,
    "start_time": "2022-09-23T14:11:36.256Z"
   },
   {
    "duration": 6,
    "start_time": "2022-09-23T14:11:36.275Z"
   },
   {
    "duration": 20,
    "start_time": "2022-09-23T14:11:36.283Z"
   },
   {
    "duration": 16,
    "start_time": "2022-09-23T14:11:36.307Z"
   },
   {
    "duration": 10,
    "start_time": "2022-09-23T14:11:36.325Z"
   },
   {
    "duration": 9,
    "start_time": "2022-09-23T14:11:36.337Z"
   },
   {
    "duration": 6,
    "start_time": "2022-09-23T14:11:36.348Z"
   },
   {
    "duration": 16,
    "start_time": "2022-09-23T14:11:36.356Z"
   },
   {
    "duration": 968,
    "start_time": "2022-09-23T14:11:36.374Z"
   },
   {
    "duration": 16,
    "start_time": "2022-09-23T14:11:37.344Z"
   },
   {
    "duration": 5,
    "start_time": "2022-09-23T14:11:37.363Z"
   },
   {
    "duration": 20998,
    "start_time": "2022-09-23T14:11:37.370Z"
   },
   {
    "duration": 199,
    "start_time": "2022-09-23T14:11:58.455Z"
   },
   {
    "duration": 10,
    "start_time": "2022-09-23T14:11:58.658Z"
   },
   {
    "duration": 91,
    "start_time": "2022-09-23T14:11:58.670Z"
   },
   {
    "duration": 5,
    "start_time": "2022-09-23T14:11:58.763Z"
   },
   {
    "duration": 6,
    "start_time": "2022-09-23T14:11:58.770Z"
   },
   {
    "duration": 8,
    "start_time": "2022-09-23T14:11:58.778Z"
   },
   {
    "duration": 6,
    "start_time": "2022-09-23T14:11:58.788Z"
   },
   {
    "duration": 144,
    "start_time": "2022-09-23T14:11:58.796Z"
   },
   {
    "duration": 0,
    "start_time": "2022-09-23T14:11:58.942Z"
   },
   {
    "duration": 0,
    "start_time": "2022-09-23T14:11:58.943Z"
   },
   {
    "duration": 0,
    "start_time": "2022-09-23T14:11:58.944Z"
   },
   {
    "duration": 0,
    "start_time": "2022-09-23T14:11:58.945Z"
   },
   {
    "duration": 0,
    "start_time": "2022-09-23T14:11:58.946Z"
   },
   {
    "duration": 0,
    "start_time": "2022-09-23T14:11:58.946Z"
   },
   {
    "duration": 0,
    "start_time": "2022-09-23T14:11:58.947Z"
   },
   {
    "duration": 1,
    "start_time": "2022-09-23T14:11:58.947Z"
   },
   {
    "duration": 0,
    "start_time": "2022-09-23T14:11:58.954Z"
   },
   {
    "duration": 0,
    "start_time": "2022-09-23T14:11:58.955Z"
   },
   {
    "duration": 0,
    "start_time": "2022-09-23T14:11:58.956Z"
   },
   {
    "duration": 0,
    "start_time": "2022-09-23T14:11:58.957Z"
   },
   {
    "duration": 0,
    "start_time": "2022-09-23T14:11:58.958Z"
   },
   {
    "duration": 0,
    "start_time": "2022-09-23T14:11:58.959Z"
   },
   {
    "duration": 11,
    "start_time": "2022-09-23T14:12:29.155Z"
   },
   {
    "duration": 12,
    "start_time": "2022-09-23T14:12:33.913Z"
   },
   {
    "duration": 13,
    "start_time": "2022-09-23T14:12:39.885Z"
   },
   {
    "duration": 1281,
    "start_time": "2022-09-23T14:16:32.571Z"
   },
   {
    "duration": 1129,
    "start_time": "2022-09-23T14:16:33.854Z"
   },
   {
    "duration": 3,
    "start_time": "2022-09-23T14:16:34.985Z"
   },
   {
    "duration": 108,
    "start_time": "2022-09-23T14:16:34.991Z"
   },
   {
    "duration": 809,
    "start_time": "2022-09-23T14:16:35.101Z"
   },
   {
    "duration": 90,
    "start_time": "2022-09-23T14:16:35.911Z"
   },
   {
    "duration": 108,
    "start_time": "2022-09-23T14:16:36.003Z"
   },
   {
    "duration": 16,
    "start_time": "2022-09-23T14:16:36.113Z"
   },
   {
    "duration": 113,
    "start_time": "2022-09-23T14:16:36.131Z"
   },
   {
    "duration": 19,
    "start_time": "2022-09-23T14:16:36.321Z"
   },
   {
    "duration": 570,
    "start_time": "2022-09-23T14:16:36.342Z"
   },
   {
    "duration": 5,
    "start_time": "2022-09-23T14:16:36.914Z"
   },
   {
    "duration": 9,
    "start_time": "2022-09-23T14:16:36.921Z"
   },
   {
    "duration": 61,
    "start_time": "2022-09-23T14:16:36.932Z"
   },
   {
    "duration": 7,
    "start_time": "2022-09-23T14:16:36.995Z"
   },
   {
    "duration": 53,
    "start_time": "2022-09-23T14:16:37.004Z"
   },
   {
    "duration": 5,
    "start_time": "2022-09-23T14:16:37.060Z"
   },
   {
    "duration": 35,
    "start_time": "2022-09-23T14:16:37.067Z"
   },
   {
    "duration": 6,
    "start_time": "2022-09-23T14:16:37.104Z"
   },
   {
    "duration": 12,
    "start_time": "2022-09-23T14:16:37.113Z"
   },
   {
    "duration": 39,
    "start_time": "2022-09-23T14:16:37.126Z"
   },
   {
    "duration": 4,
    "start_time": "2022-09-23T14:16:37.167Z"
   },
   {
    "duration": 18,
    "start_time": "2022-09-23T14:16:37.173Z"
   },
   {
    "duration": 229,
    "start_time": "2022-09-23T14:16:37.193Z"
   },
   {
    "duration": 19,
    "start_time": "2022-09-23T14:16:37.424Z"
   },
   {
    "duration": 12,
    "start_time": "2022-09-23T14:16:37.445Z"
   },
   {
    "duration": 11,
    "start_time": "2022-09-23T14:16:37.458Z"
   },
   {
    "duration": 11,
    "start_time": "2022-09-23T14:16:37.473Z"
   },
   {
    "duration": 7,
    "start_time": "2022-09-23T14:16:37.485Z"
   },
   {
    "duration": 8,
    "start_time": "2022-09-23T14:16:37.494Z"
   },
   {
    "duration": 9,
    "start_time": "2022-09-23T14:16:37.503Z"
   },
   {
    "duration": 17,
    "start_time": "2022-09-23T14:16:37.514Z"
   },
   {
    "duration": 894,
    "start_time": "2022-09-23T14:16:37.533Z"
   },
   {
    "duration": 14,
    "start_time": "2022-09-23T14:16:38.429Z"
   },
   {
    "duration": 3,
    "start_time": "2022-09-23T14:16:38.455Z"
   },
   {
    "duration": 18908,
    "start_time": "2022-09-23T14:16:38.460Z"
   },
   {
    "duration": 124,
    "start_time": "2022-09-23T14:16:57.455Z"
   },
   {
    "duration": 74,
    "start_time": "2022-09-23T14:16:57.581Z"
   },
   {
    "duration": 108,
    "start_time": "2022-09-23T14:16:57.658Z"
   },
   {
    "duration": 23,
    "start_time": "2022-09-23T14:16:57.769Z"
   },
   {
    "duration": 8,
    "start_time": "2022-09-23T14:16:57.794Z"
   },
   {
    "duration": 15,
    "start_time": "2022-09-23T14:16:57.806Z"
   },
   {
    "duration": 7,
    "start_time": "2022-09-23T14:16:57.824Z"
   },
   {
    "duration": 1243,
    "start_time": "2022-09-23T14:21:48.399Z"
   },
   {
    "duration": 1277,
    "start_time": "2022-09-23T14:21:49.644Z"
   },
   {
    "duration": 4,
    "start_time": "2022-09-23T14:21:50.923Z"
   },
   {
    "duration": 117,
    "start_time": "2022-09-23T14:21:50.930Z"
   },
   {
    "duration": 906,
    "start_time": "2022-09-23T14:21:51.048Z"
   },
   {
    "duration": 104,
    "start_time": "2022-09-23T14:21:51.957Z"
   },
   {
    "duration": 106,
    "start_time": "2022-09-23T14:21:52.063Z"
   },
   {
    "duration": 17,
    "start_time": "2022-09-23T14:21:52.171Z"
   },
   {
    "duration": 131,
    "start_time": "2022-09-23T14:21:52.190Z"
   },
   {
    "duration": 22,
    "start_time": "2022-09-23T14:21:52.414Z"
   },
   {
    "duration": 610,
    "start_time": "2022-09-23T14:21:52.438Z"
   },
   {
    "duration": 7,
    "start_time": "2022-09-23T14:21:53.050Z"
   },
   {
    "duration": 39,
    "start_time": "2022-09-23T14:21:53.059Z"
   },
   {
    "duration": 48,
    "start_time": "2022-09-23T14:21:53.103Z"
   },
   {
    "duration": 5,
    "start_time": "2022-09-23T14:21:53.153Z"
   },
   {
    "duration": 44,
    "start_time": "2022-09-23T14:21:53.160Z"
   },
   {
    "duration": 5,
    "start_time": "2022-09-23T14:21:53.206Z"
   },
   {
    "duration": 42,
    "start_time": "2022-09-23T14:21:53.213Z"
   },
   {
    "duration": 14,
    "start_time": "2022-09-23T14:21:53.257Z"
   },
   {
    "duration": 14,
    "start_time": "2022-09-23T14:21:53.272Z"
   },
   {
    "duration": 26,
    "start_time": "2022-09-23T14:21:53.288Z"
   },
   {
    "duration": 6,
    "start_time": "2022-09-23T14:21:53.316Z"
   },
   {
    "duration": 21,
    "start_time": "2022-09-23T14:21:53.324Z"
   },
   {
    "duration": 221,
    "start_time": "2022-09-23T14:21:53.354Z"
   },
   {
    "duration": 18,
    "start_time": "2022-09-23T14:21:53.577Z"
   },
   {
    "duration": 3,
    "start_time": "2022-09-23T14:21:53.596Z"
   },
   {
    "duration": 5,
    "start_time": "2022-09-23T14:21:53.601Z"
   },
   {
    "duration": 4,
    "start_time": "2022-09-23T14:21:53.610Z"
   },
   {
    "duration": 10,
    "start_time": "2022-09-23T14:21:53.615Z"
   },
   {
    "duration": 28,
    "start_time": "2022-09-23T14:21:53.626Z"
   },
   {
    "duration": 11,
    "start_time": "2022-09-23T14:21:53.656Z"
   },
   {
    "duration": 15,
    "start_time": "2022-09-23T14:21:53.669Z"
   },
   {
    "duration": 920,
    "start_time": "2022-09-23T14:21:53.686Z"
   },
   {
    "duration": 13,
    "start_time": "2022-09-23T14:21:54.608Z"
   },
   {
    "duration": 12,
    "start_time": "2022-09-23T14:21:54.623Z"
   },
   {
    "duration": 22523,
    "start_time": "2022-09-23T14:21:54.637Z"
   },
   {
    "duration": 293,
    "start_time": "2022-09-23T14:22:17.162Z"
   },
   {
    "duration": 6,
    "start_time": "2022-09-23T14:22:17.457Z"
   },
   {
    "duration": 7,
    "start_time": "2022-09-23T14:22:17.464Z"
   },
   {
    "duration": 6,
    "start_time": "2022-09-23T14:22:17.473Z"
   },
   {
    "duration": 6,
    "start_time": "2022-09-23T14:22:17.480Z"
   },
   {
    "duration": 6,
    "start_time": "2022-09-23T14:22:17.488Z"
   },
   {
    "duration": 11,
    "start_time": "2022-09-23T14:22:17.495Z"
   },
   {
    "duration": 1264,
    "start_time": "2022-09-23T14:23:19.758Z"
   },
   {
    "duration": 1215,
    "start_time": "2022-09-23T14:23:21.024Z"
   },
   {
    "duration": 3,
    "start_time": "2022-09-23T14:23:22.241Z"
   },
   {
    "duration": 103,
    "start_time": "2022-09-23T14:23:22.253Z"
   },
   {
    "duration": 771,
    "start_time": "2022-09-23T14:23:22.359Z"
   },
   {
    "duration": 84,
    "start_time": "2022-09-23T14:23:23.132Z"
   },
   {
    "duration": 99,
    "start_time": "2022-09-23T14:23:23.218Z"
   },
   {
    "duration": 15,
    "start_time": "2022-09-23T14:23:23.319Z"
   },
   {
    "duration": 191,
    "start_time": "2022-09-23T14:23:23.336Z"
   },
   {
    "duration": 17,
    "start_time": "2022-09-23T14:23:23.529Z"
   },
   {
    "duration": 582,
    "start_time": "2022-09-23T14:23:23.554Z"
   },
   {
    "duration": 4,
    "start_time": "2022-09-23T14:23:24.138Z"
   },
   {
    "duration": 16,
    "start_time": "2022-09-23T14:23:24.144Z"
   },
   {
    "duration": 43,
    "start_time": "2022-09-23T14:23:24.163Z"
   },
   {
    "duration": 5,
    "start_time": "2022-09-23T14:23:24.208Z"
   },
   {
    "duration": 60,
    "start_time": "2022-09-23T14:23:24.215Z"
   },
   {
    "duration": 6,
    "start_time": "2022-09-23T14:23:24.277Z"
   },
   {
    "duration": 25,
    "start_time": "2022-09-23T14:23:24.284Z"
   },
   {
    "duration": 4,
    "start_time": "2022-09-23T14:23:24.311Z"
   },
   {
    "duration": 8,
    "start_time": "2022-09-23T14:23:24.317Z"
   },
   {
    "duration": 40,
    "start_time": "2022-09-23T14:23:24.327Z"
   },
   {
    "duration": 5,
    "start_time": "2022-09-23T14:23:24.369Z"
   },
   {
    "duration": 18,
    "start_time": "2022-09-23T14:23:24.375Z"
   },
   {
    "duration": 227,
    "start_time": "2022-09-23T14:23:24.395Z"
   },
   {
    "duration": 16,
    "start_time": "2022-09-23T14:23:24.624Z"
   },
   {
    "duration": 14,
    "start_time": "2022-09-23T14:23:24.642Z"
   },
   {
    "duration": 11,
    "start_time": "2022-09-23T14:23:24.658Z"
   },
   {
    "duration": 10,
    "start_time": "2022-09-23T14:23:24.671Z"
   },
   {
    "duration": 7,
    "start_time": "2022-09-23T14:23:24.683Z"
   },
   {
    "duration": 11,
    "start_time": "2022-09-23T14:23:24.691Z"
   },
   {
    "duration": 10,
    "start_time": "2022-09-23T14:23:24.705Z"
   },
   {
    "duration": 22,
    "start_time": "2022-09-23T14:23:24.717Z"
   },
   {
    "duration": 919,
    "start_time": "2022-09-23T14:23:24.741Z"
   },
   {
    "duration": 14,
    "start_time": "2022-09-23T14:23:25.662Z"
   },
   {
    "duration": 11,
    "start_time": "2022-09-23T14:23:25.678Z"
   },
   {
    "duration": 19065,
    "start_time": "2022-09-23T14:23:25.691Z"
   },
   {
    "duration": 197,
    "start_time": "2022-09-23T14:23:44.757Z"
   },
   {
    "duration": 5,
    "start_time": "2022-09-23T14:23:44.956Z"
   },
   {
    "duration": 97,
    "start_time": "2022-09-23T14:23:44.963Z"
   },
   {
    "duration": 6,
    "start_time": "2022-09-23T14:23:45.062Z"
   },
   {
    "duration": 9,
    "start_time": "2022-09-23T14:23:45.073Z"
   },
   {
    "duration": 6,
    "start_time": "2022-09-23T14:23:45.084Z"
   },
   {
    "duration": 6,
    "start_time": "2022-09-23T14:23:45.092Z"
   },
   {
    "duration": 1377,
    "start_time": "2022-09-23T14:26:27.111Z"
   },
   {
    "duration": 1187,
    "start_time": "2022-09-23T14:26:28.492Z"
   },
   {
    "duration": 4,
    "start_time": "2022-09-23T14:26:29.681Z"
   },
   {
    "duration": 108,
    "start_time": "2022-09-23T14:26:29.687Z"
   },
   {
    "duration": 815,
    "start_time": "2022-09-23T14:26:29.798Z"
   },
   {
    "duration": 91,
    "start_time": "2022-09-23T14:26:30.615Z"
   },
   {
    "duration": 105,
    "start_time": "2022-09-23T14:26:30.708Z"
   },
   {
    "duration": 36,
    "start_time": "2022-09-23T14:26:30.815Z"
   },
   {
    "duration": 179,
    "start_time": "2022-09-23T14:26:30.854Z"
   },
   {
    "duration": 25,
    "start_time": "2022-09-23T14:26:31.036Z"
   },
   {
    "duration": 614,
    "start_time": "2022-09-23T14:26:31.063Z"
   },
   {
    "duration": 11,
    "start_time": "2022-09-23T14:26:31.680Z"
   },
   {
    "duration": 32,
    "start_time": "2022-09-23T14:26:31.693Z"
   },
   {
    "duration": 58,
    "start_time": "2022-09-23T14:26:31.729Z"
   },
   {
    "duration": 9,
    "start_time": "2022-09-23T14:26:31.789Z"
   },
   {
    "duration": 50,
    "start_time": "2022-09-23T14:26:31.800Z"
   },
   {
    "duration": 5,
    "start_time": "2022-09-23T14:26:31.854Z"
   },
   {
    "duration": 38,
    "start_time": "2022-09-23T14:26:31.861Z"
   },
   {
    "duration": 4,
    "start_time": "2022-09-23T14:26:31.901Z"
   },
   {
    "duration": 11,
    "start_time": "2022-09-23T14:26:31.907Z"
   },
   {
    "duration": 25,
    "start_time": "2022-09-23T14:26:31.920Z"
   },
   {
    "duration": 8,
    "start_time": "2022-09-23T14:26:31.948Z"
   },
   {
    "duration": 28,
    "start_time": "2022-09-23T14:26:31.958Z"
   },
   {
    "duration": 249,
    "start_time": "2022-09-23T14:26:31.988Z"
   },
   {
    "duration": 29,
    "start_time": "2022-09-23T14:26:32.239Z"
   },
   {
    "duration": 3,
    "start_time": "2022-09-23T14:26:32.270Z"
   },
   {
    "duration": 13,
    "start_time": "2022-09-23T14:26:32.275Z"
   },
   {
    "duration": 8,
    "start_time": "2022-09-23T14:26:32.290Z"
   },
   {
    "duration": 8,
    "start_time": "2022-09-23T14:26:32.300Z"
   },
   {
    "duration": 14,
    "start_time": "2022-09-23T14:26:32.310Z"
   },
   {
    "duration": 7,
    "start_time": "2022-09-23T14:26:32.327Z"
   },
   {
    "duration": 37,
    "start_time": "2022-09-23T14:26:32.336Z"
   },
   {
    "duration": 984,
    "start_time": "2022-09-23T14:26:32.375Z"
   },
   {
    "duration": 18,
    "start_time": "2022-09-23T14:26:33.362Z"
   },
   {
    "duration": 13,
    "start_time": "2022-09-23T14:26:33.382Z"
   },
   {
    "duration": 16867,
    "start_time": "2022-09-23T14:26:33.397Z"
   },
   {
    "duration": 197,
    "start_time": "2022-09-23T14:26:50.266Z"
   },
   {
    "duration": 5,
    "start_time": "2022-09-23T14:26:50.465Z"
   },
   {
    "duration": 12,
    "start_time": "2022-09-23T14:26:50.555Z"
   },
   {
    "duration": 105,
    "start_time": "2022-09-23T14:26:50.569Z"
   },
   {
    "duration": 30,
    "start_time": "2022-09-23T14:26:50.679Z"
   },
   {
    "duration": 14,
    "start_time": "2022-09-23T14:26:50.712Z"
   },
   {
    "duration": 9,
    "start_time": "2022-09-23T14:26:50.728Z"
   },
   {
    "duration": 1335,
    "start_time": "2022-09-23T14:28:19.200Z"
   },
   {
    "duration": 1368,
    "start_time": "2022-09-23T14:28:20.537Z"
   },
   {
    "duration": 3,
    "start_time": "2022-09-23T14:28:21.908Z"
   },
   {
    "duration": 109,
    "start_time": "2022-09-23T14:28:21.914Z"
   },
   {
    "duration": 849,
    "start_time": "2022-09-23T14:28:22.025Z"
   },
   {
    "duration": 88,
    "start_time": "2022-09-23T14:28:22.877Z"
   },
   {
    "duration": 111,
    "start_time": "2022-09-23T14:28:22.967Z"
   },
   {
    "duration": 16,
    "start_time": "2022-09-23T14:28:23.081Z"
   },
   {
    "duration": 144,
    "start_time": "2022-09-23T14:28:23.100Z"
   },
   {
    "duration": 19,
    "start_time": "2022-09-23T14:28:23.316Z"
   },
   {
    "duration": 578,
    "start_time": "2022-09-23T14:28:23.337Z"
   },
   {
    "duration": 4,
    "start_time": "2022-09-23T14:28:23.917Z"
   },
   {
    "duration": 19,
    "start_time": "2022-09-23T14:28:23.923Z"
   },
   {
    "duration": 42,
    "start_time": "2022-09-23T14:28:23.955Z"
   },
   {
    "duration": 5,
    "start_time": "2022-09-23T14:28:23.999Z"
   },
   {
    "duration": 67,
    "start_time": "2022-09-23T14:28:24.007Z"
   },
   {
    "duration": 6,
    "start_time": "2022-09-23T14:28:24.076Z"
   },
   {
    "duration": 26,
    "start_time": "2022-09-23T14:28:24.085Z"
   },
   {
    "duration": 5,
    "start_time": "2022-09-23T14:28:24.113Z"
   },
   {
    "duration": 10,
    "start_time": "2022-09-23T14:28:24.119Z"
   },
   {
    "duration": 47,
    "start_time": "2022-09-23T14:28:24.131Z"
   },
   {
    "duration": 5,
    "start_time": "2022-09-23T14:28:24.180Z"
   },
   {
    "duration": 26,
    "start_time": "2022-09-23T14:28:24.187Z"
   },
   {
    "duration": 240,
    "start_time": "2022-09-23T14:28:24.216Z"
   },
   {
    "duration": 18,
    "start_time": "2022-09-23T14:28:24.458Z"
   },
   {
    "duration": 6,
    "start_time": "2022-09-23T14:28:24.477Z"
   },
   {
    "duration": 9,
    "start_time": "2022-09-23T14:28:24.484Z"
   },
   {
    "duration": 7,
    "start_time": "2022-09-23T14:28:24.498Z"
   },
   {
    "duration": 8,
    "start_time": "2022-09-23T14:28:24.506Z"
   },
   {
    "duration": 8,
    "start_time": "2022-09-23T14:28:24.516Z"
   },
   {
    "duration": 8,
    "start_time": "2022-09-23T14:28:24.526Z"
   },
   {
    "duration": 15,
    "start_time": "2022-09-23T14:28:24.555Z"
   },
   {
    "duration": 937,
    "start_time": "2022-09-23T14:28:24.572Z"
   },
   {
    "duration": 18,
    "start_time": "2022-09-23T14:28:25.510Z"
   },
   {
    "duration": 15,
    "start_time": "2022-09-23T14:28:25.531Z"
   },
   {
    "duration": 27008,
    "start_time": "2022-09-23T14:28:25.548Z"
   },
   {
    "duration": 196,
    "start_time": "2022-09-23T14:28:52.558Z"
   },
   {
    "duration": 6,
    "start_time": "2022-09-23T14:28:52.756Z"
   },
   {
    "duration": 111,
    "start_time": "2022-09-23T14:28:52.764Z"
   },
   {
    "duration": 10,
    "start_time": "2022-09-23T14:28:52.877Z"
   },
   {
    "duration": 5,
    "start_time": "2022-09-23T14:28:52.889Z"
   },
   {
    "duration": 8,
    "start_time": "2022-09-23T14:28:52.896Z"
   },
   {
    "duration": 8,
    "start_time": "2022-09-23T14:28:52.905Z"
   },
   {
    "duration": 1255,
    "start_time": "2022-09-23T14:31:23.124Z"
   },
   {
    "duration": 1140,
    "start_time": "2022-09-23T14:31:24.381Z"
   },
   {
    "duration": 5,
    "start_time": "2022-09-23T14:31:25.523Z"
   },
   {
    "duration": 117,
    "start_time": "2022-09-23T14:31:25.529Z"
   },
   {
    "duration": 749,
    "start_time": "2022-09-23T14:31:25.648Z"
   },
   {
    "duration": 97,
    "start_time": "2022-09-23T14:31:26.399Z"
   },
   {
    "duration": 98,
    "start_time": "2022-09-23T14:31:26.498Z"
   },
   {
    "duration": 15,
    "start_time": "2022-09-23T14:31:26.597Z"
   },
   {
    "duration": 182,
    "start_time": "2022-09-23T14:31:26.614Z"
   },
   {
    "duration": 20,
    "start_time": "2022-09-23T14:31:26.797Z"
   },
   {
    "duration": 553,
    "start_time": "2022-09-23T14:31:26.818Z"
   },
   {
    "duration": 4,
    "start_time": "2022-09-23T14:31:27.373Z"
   },
   {
    "duration": 7,
    "start_time": "2022-09-23T14:31:27.379Z"
   },
   {
    "duration": 43,
    "start_time": "2022-09-23T14:31:27.390Z"
   },
   {
    "duration": 21,
    "start_time": "2022-09-23T14:31:27.435Z"
   },
   {
    "duration": 41,
    "start_time": "2022-09-23T14:31:27.458Z"
   },
   {
    "duration": 5,
    "start_time": "2022-09-23T14:31:27.501Z"
   },
   {
    "duration": 31,
    "start_time": "2022-09-23T14:31:27.507Z"
   },
   {
    "duration": 14,
    "start_time": "2022-09-23T14:31:27.540Z"
   },
   {
    "duration": 10,
    "start_time": "2022-09-23T14:31:27.556Z"
   },
   {
    "duration": 24,
    "start_time": "2022-09-23T14:31:27.567Z"
   },
   {
    "duration": 5,
    "start_time": "2022-09-23T14:31:27.592Z"
   },
   {
    "duration": 18,
    "start_time": "2022-09-23T14:31:27.598Z"
   },
   {
    "duration": 232,
    "start_time": "2022-09-23T14:31:27.618Z"
   },
   {
    "duration": 16,
    "start_time": "2022-09-23T14:31:27.853Z"
   },
   {
    "duration": 5,
    "start_time": "2022-09-23T14:31:27.871Z"
   },
   {
    "duration": 5,
    "start_time": "2022-09-23T14:31:27.877Z"
   },
   {
    "duration": 7,
    "start_time": "2022-09-23T14:31:27.883Z"
   },
   {
    "duration": 7,
    "start_time": "2022-09-23T14:31:27.891Z"
   },
   {
    "duration": 11,
    "start_time": "2022-09-23T14:31:27.899Z"
   },
   {
    "duration": 5,
    "start_time": "2022-09-23T14:31:27.911Z"
   },
   {
    "duration": 29,
    "start_time": "2022-09-23T14:31:27.918Z"
   },
   {
    "duration": 898,
    "start_time": "2022-09-23T14:31:27.948Z"
   },
   {
    "duration": 13,
    "start_time": "2022-09-23T14:31:28.848Z"
   },
   {
    "duration": 9,
    "start_time": "2022-09-23T14:31:28.863Z"
   },
   {
    "duration": 21080,
    "start_time": "2022-09-23T14:31:28.874Z"
   },
   {
    "duration": 202,
    "start_time": "2022-09-23T14:31:49.956Z"
   },
   {
    "duration": 5,
    "start_time": "2022-09-23T14:31:50.160Z"
   },
   {
    "duration": 11,
    "start_time": "2022-09-23T14:31:50.253Z"
   },
   {
    "duration": 6,
    "start_time": "2022-09-23T14:31:50.266Z"
   },
   {
    "duration": 6,
    "start_time": "2022-09-23T14:31:50.276Z"
   },
   {
    "duration": 7,
    "start_time": "2022-09-23T14:31:50.283Z"
   },
   {
    "duration": 7,
    "start_time": "2022-09-23T14:31:50.291Z"
   },
   {
    "duration": 1233,
    "start_time": "2022-09-23T14:32:58.232Z"
   },
   {
    "duration": 1147,
    "start_time": "2022-09-23T14:32:59.467Z"
   },
   {
    "duration": 3,
    "start_time": "2022-09-23T14:33:00.616Z"
   },
   {
    "duration": 138,
    "start_time": "2022-09-23T14:33:00.621Z"
   },
   {
    "duration": 807,
    "start_time": "2022-09-23T14:33:00.761Z"
   },
   {
    "duration": 114,
    "start_time": "2022-09-23T14:33:01.571Z"
   },
   {
    "duration": 108,
    "start_time": "2022-09-23T14:33:01.687Z"
   },
   {
    "duration": 39,
    "start_time": "2022-09-23T14:33:01.797Z"
   },
   {
    "duration": 176,
    "start_time": "2022-09-23T14:33:01.838Z"
   },
   {
    "duration": 16,
    "start_time": "2022-09-23T14:33:02.016Z"
   },
   {
    "duration": 564,
    "start_time": "2022-09-23T14:33:02.034Z"
   },
   {
    "duration": 4,
    "start_time": "2022-09-23T14:33:02.600Z"
   },
   {
    "duration": 28,
    "start_time": "2022-09-23T14:33:02.605Z"
   },
   {
    "duration": 52,
    "start_time": "2022-09-23T14:33:02.636Z"
   },
   {
    "duration": 6,
    "start_time": "2022-09-23T14:33:02.690Z"
   },
   {
    "duration": 63,
    "start_time": "2022-09-23T14:33:02.697Z"
   },
   {
    "duration": 5,
    "start_time": "2022-09-23T14:33:02.763Z"
   },
   {
    "duration": 29,
    "start_time": "2022-09-23T14:33:02.769Z"
   },
   {
    "duration": 4,
    "start_time": "2022-09-23T14:33:02.801Z"
   },
   {
    "duration": 11,
    "start_time": "2022-09-23T14:33:02.806Z"
   },
   {
    "duration": 23,
    "start_time": "2022-09-23T14:33:02.819Z"
   },
   {
    "duration": 5,
    "start_time": "2022-09-23T14:33:02.854Z"
   },
   {
    "duration": 23,
    "start_time": "2022-09-23T14:33:02.860Z"
   },
   {
    "duration": 219,
    "start_time": "2022-09-23T14:33:02.885Z"
   },
   {
    "duration": 17,
    "start_time": "2022-09-23T14:33:03.106Z"
   },
   {
    "duration": 21,
    "start_time": "2022-09-23T14:33:03.125Z"
   },
   {
    "duration": 32,
    "start_time": "2022-09-23T14:33:03.148Z"
   },
   {
    "duration": 37,
    "start_time": "2022-09-23T14:33:03.182Z"
   },
   {
    "duration": 71,
    "start_time": "2022-09-23T14:33:03.221Z"
   },
   {
    "duration": 27,
    "start_time": "2022-09-23T14:33:03.294Z"
   },
   {
    "duration": 46,
    "start_time": "2022-09-23T14:33:03.323Z"
   },
   {
    "duration": 41,
    "start_time": "2022-09-23T14:33:03.371Z"
   },
   {
    "duration": 899,
    "start_time": "2022-09-23T14:33:03.414Z"
   },
   {
    "duration": 13,
    "start_time": "2022-09-23T14:33:04.315Z"
   },
   {
    "duration": 5,
    "start_time": "2022-09-23T14:33:04.330Z"
   },
   {
    "duration": 1172,
    "start_time": "2022-09-23T14:33:24.959Z"
   },
   {
    "duration": 1102,
    "start_time": "2022-09-23T14:33:26.133Z"
   },
   {
    "duration": 4,
    "start_time": "2022-09-23T14:33:27.236Z"
   },
   {
    "duration": 104,
    "start_time": "2022-09-23T14:33:27.242Z"
   },
   {
    "duration": 768,
    "start_time": "2022-09-23T14:33:27.354Z"
   },
   {
    "duration": 110,
    "start_time": "2022-09-23T14:33:28.125Z"
   },
   {
    "duration": 123,
    "start_time": "2022-09-23T14:33:28.238Z"
   },
   {
    "duration": 15,
    "start_time": "2022-09-23T14:33:28.363Z"
   },
   {
    "duration": 128,
    "start_time": "2022-09-23T14:33:28.380Z"
   },
   {
    "duration": 17,
    "start_time": "2022-09-23T14:33:28.584Z"
   },
   {
    "duration": 569,
    "start_time": "2022-09-23T14:33:28.603Z"
   },
   {
    "duration": 4,
    "start_time": "2022-09-23T14:33:29.174Z"
   },
   {
    "duration": 10,
    "start_time": "2022-09-23T14:33:29.180Z"
   },
   {
    "duration": 63,
    "start_time": "2022-09-23T14:33:29.191Z"
   },
   {
    "duration": 4,
    "start_time": "2022-09-23T14:33:29.256Z"
   },
   {
    "duration": 44,
    "start_time": "2022-09-23T14:33:29.262Z"
   },
   {
    "duration": 5,
    "start_time": "2022-09-23T14:33:29.307Z"
   },
   {
    "duration": 40,
    "start_time": "2022-09-23T14:33:29.314Z"
   },
   {
    "duration": 4,
    "start_time": "2022-09-23T14:33:29.356Z"
   },
   {
    "duration": 19,
    "start_time": "2022-09-23T14:33:29.362Z"
   },
   {
    "duration": 32,
    "start_time": "2022-09-23T14:33:29.383Z"
   },
   {
    "duration": 5,
    "start_time": "2022-09-23T14:33:29.418Z"
   },
   {
    "duration": 19,
    "start_time": "2022-09-23T14:33:29.425Z"
   },
   {
    "duration": 224,
    "start_time": "2022-09-23T14:33:29.446Z"
   },
   {
    "duration": 18,
    "start_time": "2022-09-23T14:33:29.672Z"
   },
   {
    "duration": 2,
    "start_time": "2022-09-23T14:33:29.693Z"
   },
   {
    "duration": 13,
    "start_time": "2022-09-23T14:33:29.696Z"
   },
   {
    "duration": 4,
    "start_time": "2022-09-23T14:33:29.713Z"
   },
   {
    "duration": 5,
    "start_time": "2022-09-23T14:33:29.719Z"
   },
   {
    "duration": 23,
    "start_time": "2022-09-23T14:33:29.726Z"
   },
   {
    "duration": 6,
    "start_time": "2022-09-23T14:33:29.751Z"
   },
   {
    "duration": 19,
    "start_time": "2022-09-23T14:33:29.759Z"
   },
   {
    "duration": 896,
    "start_time": "2022-09-23T14:33:29.780Z"
   },
   {
    "duration": 14,
    "start_time": "2022-09-23T14:33:30.678Z"
   },
   {
    "duration": 35,
    "start_time": "2022-09-23T14:33:30.694Z"
   },
   {
    "duration": 21027,
    "start_time": "2022-09-23T14:33:30.731Z"
   },
   {
    "duration": 194,
    "start_time": "2022-09-23T14:33:51.761Z"
   },
   {
    "duration": 5,
    "start_time": "2022-09-23T14:33:51.958Z"
   },
   {
    "duration": 12,
    "start_time": "2022-09-23T14:33:52.054Z"
   },
   {
    "duration": 9,
    "start_time": "2022-09-23T14:33:52.068Z"
   },
   {
    "duration": 10,
    "start_time": "2022-09-23T14:33:52.079Z"
   },
   {
    "duration": 8,
    "start_time": "2022-09-23T14:33:52.091Z"
   },
   {
    "duration": 8,
    "start_time": "2022-09-23T14:33:52.101Z"
   },
   {
    "duration": 1241,
    "start_time": "2022-09-23T14:36:50.958Z"
   },
   {
    "duration": 1125,
    "start_time": "2022-09-23T14:36:52.201Z"
   },
   {
    "duration": 4,
    "start_time": "2022-09-23T14:36:53.327Z"
   },
   {
    "duration": 124,
    "start_time": "2022-09-23T14:36:53.333Z"
   },
   {
    "duration": 782,
    "start_time": "2022-09-23T14:36:53.458Z"
   },
   {
    "duration": 96,
    "start_time": "2022-09-23T14:36:54.243Z"
   },
   {
    "duration": 100,
    "start_time": "2022-09-23T14:36:54.340Z"
   },
   {
    "duration": 28,
    "start_time": "2022-09-23T14:36:54.442Z"
   },
   {
    "duration": 115,
    "start_time": "2022-09-23T14:36:54.472Z"
   },
   {
    "duration": 24,
    "start_time": "2022-09-23T14:36:54.664Z"
   },
   {
    "duration": 567,
    "start_time": "2022-09-23T14:36:54.691Z"
   },
   {
    "duration": 5,
    "start_time": "2022-09-23T14:36:55.260Z"
   },
   {
    "duration": 10,
    "start_time": "2022-09-23T14:36:55.267Z"
   },
   {
    "duration": 48,
    "start_time": "2022-09-23T14:36:55.279Z"
   },
   {
    "duration": 5,
    "start_time": "2022-09-23T14:36:55.328Z"
   },
   {
    "duration": 47,
    "start_time": "2022-09-23T14:36:55.353Z"
   },
   {
    "duration": 5,
    "start_time": "2022-09-23T14:36:55.402Z"
   },
   {
    "duration": 28,
    "start_time": "2022-09-23T14:36:55.408Z"
   },
   {
    "duration": 4,
    "start_time": "2022-09-23T14:36:55.438Z"
   },
   {
    "duration": 12,
    "start_time": "2022-09-23T14:36:55.454Z"
   },
   {
    "duration": 23,
    "start_time": "2022-09-23T14:36:55.468Z"
   },
   {
    "duration": 5,
    "start_time": "2022-09-23T14:36:55.492Z"
   },
   {
    "duration": 27,
    "start_time": "2022-09-23T14:36:55.498Z"
   },
   {
    "duration": 245,
    "start_time": "2022-09-23T14:36:55.527Z"
   },
   {
    "duration": 18,
    "start_time": "2022-09-23T14:36:55.774Z"
   },
   {
    "duration": 59,
    "start_time": "2022-09-23T14:36:55.794Z"
   },
   {
    "duration": 35,
    "start_time": "2022-09-23T14:36:55.854Z"
   },
   {
    "duration": 7,
    "start_time": "2022-09-23T14:36:55.893Z"
   },
   {
    "duration": 22,
    "start_time": "2022-09-23T14:36:55.903Z"
   },
   {
    "duration": 12,
    "start_time": "2022-09-23T14:36:55.927Z"
   },
   {
    "duration": 13,
    "start_time": "2022-09-23T14:36:55.941Z"
   },
   {
    "duration": 16,
    "start_time": "2022-09-23T14:36:55.955Z"
   },
   {
    "duration": 876,
    "start_time": "2022-09-23T14:36:55.972Z"
   },
   {
    "duration": 12,
    "start_time": "2022-09-23T14:36:56.850Z"
   },
   {
    "duration": 18,
    "start_time": "2022-09-23T14:36:56.864Z"
   },
   {
    "duration": 19871,
    "start_time": "2022-09-23T14:36:56.883Z"
   },
   {
    "duration": 121,
    "start_time": "2022-09-23T14:37:16.756Z"
   },
   {
    "duration": 80,
    "start_time": "2022-09-23T14:37:16.880Z"
   },
   {
    "duration": 102,
    "start_time": "2022-09-23T14:37:16.962Z"
   },
   {
    "duration": 10,
    "start_time": "2022-09-23T14:37:17.067Z"
   },
   {
    "duration": 16,
    "start_time": "2022-09-23T14:37:17.079Z"
   },
   {
    "duration": 15,
    "start_time": "2022-09-23T14:37:17.097Z"
   },
   {
    "duration": 22,
    "start_time": "2022-09-23T14:37:17.114Z"
   },
   {
    "duration": 1263,
    "start_time": "2022-09-23T15:44:56.819Z"
   },
   {
    "duration": 1101,
    "start_time": "2022-09-23T15:44:58.085Z"
   },
   {
    "duration": 3,
    "start_time": "2022-09-23T15:44:59.188Z"
   },
   {
    "duration": 103,
    "start_time": "2022-09-23T15:44:59.193Z"
   },
   {
    "duration": 766,
    "start_time": "2022-09-23T15:44:59.298Z"
   },
   {
    "duration": 99,
    "start_time": "2022-09-23T15:45:00.067Z"
   },
   {
    "duration": 98,
    "start_time": "2022-09-23T15:45:00.167Z"
   },
   {
    "duration": 16,
    "start_time": "2022-09-23T15:45:00.267Z"
   },
   {
    "duration": 121,
    "start_time": "2022-09-23T15:45:00.286Z"
   },
   {
    "duration": 18,
    "start_time": "2022-09-23T15:45:00.488Z"
   },
   {
    "duration": 611,
    "start_time": "2022-09-23T15:45:00.507Z"
   },
   {
    "duration": 5,
    "start_time": "2022-09-23T15:45:01.120Z"
   },
   {
    "duration": 24,
    "start_time": "2022-09-23T15:45:01.127Z"
   },
   {
    "duration": 61,
    "start_time": "2022-09-23T15:45:01.154Z"
   },
   {
    "duration": 6,
    "start_time": "2022-09-23T15:45:01.217Z"
   },
   {
    "duration": 64,
    "start_time": "2022-09-23T15:45:01.225Z"
   },
   {
    "duration": 5,
    "start_time": "2022-09-23T15:45:01.292Z"
   },
   {
    "duration": 50,
    "start_time": "2022-09-23T15:45:01.299Z"
   },
   {
    "duration": 23,
    "start_time": "2022-09-23T15:45:01.351Z"
   },
   {
    "duration": 30,
    "start_time": "2022-09-23T15:45:01.376Z"
   },
   {
    "duration": 51,
    "start_time": "2022-09-23T15:45:01.408Z"
   },
   {
    "duration": 38,
    "start_time": "2022-09-23T15:45:01.462Z"
   },
   {
    "duration": 54,
    "start_time": "2022-09-23T15:45:01.502Z"
   },
   {
    "duration": 244,
    "start_time": "2022-09-23T15:45:01.559Z"
   },
   {
    "duration": 17,
    "start_time": "2022-09-23T15:45:01.805Z"
   },
   {
    "duration": 85,
    "start_time": "2022-09-23T15:45:01.824Z"
   },
   {
    "duration": 53,
    "start_time": "2022-09-23T15:45:01.911Z"
   },
   {
    "duration": 19,
    "start_time": "2022-09-23T15:45:01.967Z"
   },
   {
    "duration": 17,
    "start_time": "2022-09-23T15:45:01.988Z"
   },
   {
    "duration": 10,
    "start_time": "2022-09-23T15:45:02.007Z"
   },
   {
    "duration": 9,
    "start_time": "2022-09-23T15:45:02.019Z"
   },
   {
    "duration": 21,
    "start_time": "2022-09-23T15:45:02.029Z"
   },
   {
    "duration": 855,
    "start_time": "2022-09-23T15:45:02.051Z"
   },
   {
    "duration": 14,
    "start_time": "2022-09-23T15:45:02.908Z"
   },
   {
    "duration": 24,
    "start_time": "2022-09-23T15:45:02.924Z"
   },
   {
    "duration": 18015,
    "start_time": "2022-09-23T15:45:02.949Z"
   },
   {
    "duration": 104,
    "start_time": "2022-09-23T15:45:21.054Z"
   },
   {
    "duration": 94,
    "start_time": "2022-09-23T15:45:21.160Z"
   },
   {
    "duration": 3,
    "start_time": "2022-09-23T15:45:21.257Z"
   },
   {
    "duration": 7,
    "start_time": "2022-09-23T15:45:21.262Z"
   },
   {
    "duration": 7,
    "start_time": "2022-09-23T15:45:21.270Z"
   },
   {
    "duration": 77,
    "start_time": "2022-09-23T15:45:21.279Z"
   },
   {
    "duration": 6,
    "start_time": "2022-09-23T15:45:21.358Z"
   },
   {
    "duration": 5,
    "start_time": "2022-09-23T15:45:21.366Z"
   },
   {
    "duration": 1219,
    "start_time": "2022-09-23T18:28:14.631Z"
   },
   {
    "duration": 3398,
    "start_time": "2022-09-23T18:28:15.851Z"
   },
   {
    "duration": 4,
    "start_time": "2022-09-23T18:28:19.251Z"
   },
   {
    "duration": 124,
    "start_time": "2022-09-23T18:28:19.257Z"
   },
   {
    "duration": 724,
    "start_time": "2022-09-23T18:28:19.385Z"
   },
   {
    "duration": 89,
    "start_time": "2022-09-23T18:28:20.111Z"
   },
   {
    "duration": 123,
    "start_time": "2022-09-23T18:28:20.203Z"
   },
   {
    "duration": 14,
    "start_time": "2022-09-23T18:28:20.328Z"
   },
   {
    "duration": 171,
    "start_time": "2022-09-23T18:28:20.345Z"
   },
   {
    "duration": 17,
    "start_time": "2022-09-23T18:28:20.518Z"
   },
   {
    "duration": 570,
    "start_time": "2022-09-23T18:28:20.537Z"
   },
   {
    "duration": 5,
    "start_time": "2022-09-23T18:28:21.109Z"
   },
   {
    "duration": 12,
    "start_time": "2022-09-23T18:28:21.116Z"
   },
   {
    "duration": 56,
    "start_time": "2022-09-23T18:28:21.133Z"
   },
   {
    "duration": 5,
    "start_time": "2022-09-23T18:28:21.191Z"
   },
   {
    "duration": 41,
    "start_time": "2022-09-23T18:28:21.198Z"
   },
   {
    "duration": 6,
    "start_time": "2022-09-23T18:28:21.241Z"
   },
   {
    "duration": 40,
    "start_time": "2022-09-23T18:28:21.249Z"
   },
   {
    "duration": 4,
    "start_time": "2022-09-23T18:28:21.291Z"
   },
   {
    "duration": 10,
    "start_time": "2022-09-23T18:28:21.297Z"
   },
   {
    "duration": 23,
    "start_time": "2022-09-23T18:28:21.309Z"
   },
   {
    "duration": 6,
    "start_time": "2022-09-23T18:28:21.334Z"
   },
   {
    "duration": 17,
    "start_time": "2022-09-23T18:28:21.342Z"
   },
   {
    "duration": 213,
    "start_time": "2022-09-23T18:28:21.390Z"
   },
   {
    "duration": 17,
    "start_time": "2022-09-23T18:28:21.605Z"
   },
   {
    "duration": 2,
    "start_time": "2022-09-23T18:28:21.624Z"
   },
   {
    "duration": 5,
    "start_time": "2022-09-23T18:28:21.628Z"
   },
   {
    "duration": 5,
    "start_time": "2022-09-23T18:28:21.635Z"
   },
   {
    "duration": 6,
    "start_time": "2022-09-23T18:28:21.641Z"
   },
   {
    "duration": 7,
    "start_time": "2022-09-23T18:28:21.649Z"
   },
   {
    "duration": 35,
    "start_time": "2022-09-23T18:28:21.657Z"
   },
   {
    "duration": 13,
    "start_time": "2022-09-23T18:28:21.693Z"
   },
   {
    "duration": 955,
    "start_time": "2022-09-23T18:28:21.708Z"
   },
   {
    "duration": 15,
    "start_time": "2022-09-23T18:28:22.665Z"
   },
   {
    "duration": 13,
    "start_time": "2022-09-23T18:28:22.682Z"
   },
   {
    "duration": 25994,
    "start_time": "2022-09-23T18:28:22.697Z"
   },
   {
    "duration": 297,
    "start_time": "2022-09-23T18:28:48.693Z"
   },
   {
    "duration": 6,
    "start_time": "2022-09-23T18:28:48.993Z"
   },
   {
    "duration": 8,
    "start_time": "2022-09-23T18:28:49.000Z"
   },
   {
    "duration": 8,
    "start_time": "2022-09-23T18:28:49.010Z"
   },
   {
    "duration": 10,
    "start_time": "2022-09-23T18:28:49.023Z"
   },
   {
    "duration": 8,
    "start_time": "2022-09-23T18:28:49.035Z"
   },
   {
    "duration": 5,
    "start_time": "2022-09-23T18:28:49.045Z"
   },
   {
    "duration": 5,
    "start_time": "2022-09-23T18:28:49.052Z"
   },
   {
    "duration": 1274,
    "start_time": "2022-09-23T18:29:38.677Z"
   },
   {
    "duration": 1258,
    "start_time": "2022-09-23T18:29:39.953Z"
   },
   {
    "duration": 4,
    "start_time": "2022-09-23T18:29:41.213Z"
   },
   {
    "duration": 141,
    "start_time": "2022-09-23T18:29:41.218Z"
   },
   {
    "duration": 874,
    "start_time": "2022-09-23T18:29:41.362Z"
   },
   {
    "duration": 105,
    "start_time": "2022-09-23T18:29:42.238Z"
   },
   {
    "duration": 123,
    "start_time": "2022-09-23T18:29:42.345Z"
   },
   {
    "duration": 30,
    "start_time": "2022-09-23T18:29:42.469Z"
   },
   {
    "duration": 150,
    "start_time": "2022-09-23T18:29:42.507Z"
   },
   {
    "duration": 18,
    "start_time": "2022-09-23T18:29:42.659Z"
   },
   {
    "duration": 556,
    "start_time": "2022-09-23T18:29:42.689Z"
   },
   {
    "duration": 6,
    "start_time": "2022-09-23T18:29:43.247Z"
   },
   {
    "duration": 22,
    "start_time": "2022-09-23T18:29:43.254Z"
   },
   {
    "duration": 68,
    "start_time": "2022-09-23T18:29:43.281Z"
   },
   {
    "duration": 10,
    "start_time": "2022-09-23T18:29:43.352Z"
   },
   {
    "duration": 64,
    "start_time": "2022-09-23T18:29:43.365Z"
   },
   {
    "duration": 7,
    "start_time": "2022-09-23T18:29:43.431Z"
   },
   {
    "duration": 38,
    "start_time": "2022-09-23T18:29:43.440Z"
   },
   {
    "duration": 6,
    "start_time": "2022-09-23T18:29:43.481Z"
   },
   {
    "duration": 28,
    "start_time": "2022-09-23T18:29:43.495Z"
   },
   {
    "duration": 35,
    "start_time": "2022-09-23T18:29:43.524Z"
   },
   {
    "duration": 4,
    "start_time": "2022-09-23T18:29:43.561Z"
   },
   {
    "duration": 38,
    "start_time": "2022-09-23T18:29:43.567Z"
   },
   {
    "duration": 227,
    "start_time": "2022-09-23T18:29:43.610Z"
   },
   {
    "duration": 18,
    "start_time": "2022-09-23T18:29:43.839Z"
   },
   {
    "duration": 26,
    "start_time": "2022-09-23T18:29:43.859Z"
   },
   {
    "duration": 27,
    "start_time": "2022-09-23T18:29:43.886Z"
   },
   {
    "duration": 19,
    "start_time": "2022-09-23T18:29:43.915Z"
   },
   {
    "duration": 32,
    "start_time": "2022-09-23T18:29:43.936Z"
   },
   {
    "duration": 5,
    "start_time": "2022-09-23T18:29:43.969Z"
   },
   {
    "duration": 31,
    "start_time": "2022-09-23T18:29:43.976Z"
   },
   {
    "duration": 28,
    "start_time": "2022-09-23T18:29:44.008Z"
   },
   {
    "duration": 883,
    "start_time": "2022-09-23T18:29:44.037Z"
   },
   {
    "duration": 12,
    "start_time": "2022-09-23T18:29:44.922Z"
   },
   {
    "duration": 26,
    "start_time": "2022-09-23T18:29:44.935Z"
   },
   {
    "duration": 33032,
    "start_time": "2022-09-23T18:29:44.963Z"
   },
   {
    "duration": 122,
    "start_time": "2022-09-23T18:30:17.997Z"
   },
   {
    "duration": 16,
    "start_time": "2022-09-23T18:30:18.196Z"
   },
   {
    "duration": 21,
    "start_time": "2022-09-23T18:30:18.291Z"
   },
   {
    "duration": 4,
    "start_time": "2022-09-23T18:30:18.314Z"
   },
   {
    "duration": 3,
    "start_time": "2022-09-23T18:30:18.322Z"
   },
   {
    "duration": 7,
    "start_time": "2022-09-23T18:30:18.326Z"
   },
   {
    "duration": 17,
    "start_time": "2022-09-23T18:30:18.335Z"
   },
   {
    "duration": 12,
    "start_time": "2022-09-23T18:30:18.353Z"
   },
   {
    "duration": 59842,
    "start_time": "2022-09-23T18:30:18.367Z"
   },
   {
    "duration": 499,
    "start_time": "2022-09-23T18:31:18.211Z"
   },
   {
    "duration": 5,
    "start_time": "2022-09-23T18:31:18.713Z"
   },
   {
    "duration": 5,
    "start_time": "2022-09-23T18:31:18.720Z"
   },
   {
    "duration": 5,
    "start_time": "2022-09-23T18:31:18.727Z"
   },
   {
    "duration": 1336,
    "start_time": "2022-09-23T18:32:26.531Z"
   },
   {
    "duration": 1232,
    "start_time": "2022-09-23T18:32:27.870Z"
   },
   {
    "duration": 4,
    "start_time": "2022-09-23T18:32:29.103Z"
   },
   {
    "duration": 123,
    "start_time": "2022-09-23T18:32:29.109Z"
   },
   {
    "duration": 766,
    "start_time": "2022-09-23T18:32:29.234Z"
   },
   {
    "duration": 100,
    "start_time": "2022-09-23T18:32:30.002Z"
   },
   {
    "duration": 118,
    "start_time": "2022-09-23T18:32:30.104Z"
   },
   {
    "duration": 14,
    "start_time": "2022-09-23T18:32:30.223Z"
   },
   {
    "duration": 112,
    "start_time": "2022-09-23T18:32:30.239Z"
   },
   {
    "duration": 19,
    "start_time": "2022-09-23T18:32:30.422Z"
   },
   {
    "duration": 593,
    "start_time": "2022-09-23T18:32:30.443Z"
   },
   {
    "duration": 4,
    "start_time": "2022-09-23T18:32:31.038Z"
   },
   {
    "duration": 14,
    "start_time": "2022-09-23T18:32:31.044Z"
   },
   {
    "duration": 58,
    "start_time": "2022-09-23T18:32:31.059Z"
   },
   {
    "duration": 4,
    "start_time": "2022-09-23T18:32:31.119Z"
   },
   {
    "duration": 56,
    "start_time": "2022-09-23T18:32:31.125Z"
   },
   {
    "duration": 6,
    "start_time": "2022-09-23T18:32:31.182Z"
   },
   {
    "duration": 36,
    "start_time": "2022-09-23T18:32:31.196Z"
   },
   {
    "duration": 22,
    "start_time": "2022-09-23T18:32:31.234Z"
   },
   {
    "duration": 12,
    "start_time": "2022-09-23T18:32:31.258Z"
   },
   {
    "duration": 50,
    "start_time": "2022-09-23T18:32:31.271Z"
   },
   {
    "duration": 16,
    "start_time": "2022-09-23T18:32:31.323Z"
   },
   {
    "duration": 46,
    "start_time": "2022-09-23T18:32:31.341Z"
   },
   {
    "duration": 252,
    "start_time": "2022-09-23T18:32:31.391Z"
   },
   {
    "duration": 17,
    "start_time": "2022-09-23T18:32:31.644Z"
   },
   {
    "duration": 9,
    "start_time": "2022-09-23T18:32:31.663Z"
   },
   {
    "duration": 32,
    "start_time": "2022-09-23T18:32:31.674Z"
   },
   {
    "duration": 8,
    "start_time": "2022-09-23T18:32:31.709Z"
   },
   {
    "duration": 11,
    "start_time": "2022-09-23T18:32:31.719Z"
   },
   {
    "duration": 18,
    "start_time": "2022-09-23T18:32:31.732Z"
   },
   {
    "duration": 7,
    "start_time": "2022-09-23T18:32:31.751Z"
   },
   {
    "duration": 16,
    "start_time": "2022-09-23T18:32:31.760Z"
   },
   {
    "duration": 1050,
    "start_time": "2022-09-23T18:32:31.778Z"
   },
   {
    "duration": 15,
    "start_time": "2022-09-23T18:32:32.830Z"
   },
   {
    "duration": 5,
    "start_time": "2022-09-23T18:32:32.847Z"
   },
   {
    "duration": 30042,
    "start_time": "2022-09-23T18:32:32.853Z"
   },
   {
    "duration": 118,
    "start_time": "2022-09-23T18:33:02.900Z"
   },
   {
    "duration": 81,
    "start_time": "2022-09-23T18:33:03.020Z"
   },
   {
    "duration": 107,
    "start_time": "2022-09-23T18:33:03.103Z"
   },
   {
    "duration": 7,
    "start_time": "2022-09-23T18:33:03.211Z"
   },
   {
    "duration": 9,
    "start_time": "2022-09-23T18:33:03.219Z"
   },
   {
    "duration": 8,
    "start_time": "2022-09-23T18:33:03.229Z"
   },
   {
    "duration": 10,
    "start_time": "2022-09-23T18:33:03.238Z"
   },
   {
    "duration": 48042,
    "start_time": "2022-09-23T18:33:03.250Z"
   },
   {
    "duration": 498,
    "start_time": "2022-09-23T18:33:51.294Z"
   },
   {
    "duration": 6,
    "start_time": "2022-09-23T18:33:51.793Z"
   },
   {
    "duration": 722,
    "start_time": "2022-09-23T18:33:51.805Z"
   },
   {
    "duration": 0,
    "start_time": "2022-09-23T18:33:52.528Z"
   },
   {
    "duration": 0,
    "start_time": "2022-09-23T18:33:52.529Z"
   },
   {
    "duration": 0,
    "start_time": "2022-09-23T18:33:52.530Z"
   },
   {
    "duration": 0,
    "start_time": "2022-09-23T18:33:52.531Z"
   },
   {
    "duration": 0,
    "start_time": "2022-09-23T18:33:52.532Z"
   },
   {
    "duration": 0,
    "start_time": "2022-09-23T18:33:52.533Z"
   },
   {
    "duration": 0,
    "start_time": "2022-09-23T18:33:52.534Z"
   },
   {
    "duration": 0,
    "start_time": "2022-09-23T18:33:52.535Z"
   },
   {
    "duration": 2,
    "start_time": "2022-09-23T18:34:11.246Z"
   },
   {
    "duration": 51,
    "start_time": "2022-09-23T20:06:48.923Z"
   },
   {
    "duration": 1333,
    "start_time": "2022-09-23T20:07:02.515Z"
   },
   {
    "duration": 3494,
    "start_time": "2022-09-23T20:07:03.850Z"
   },
   {
    "duration": 4,
    "start_time": "2022-09-23T20:07:07.346Z"
   },
   {
    "duration": 121,
    "start_time": "2022-09-23T20:07:07.353Z"
   },
   {
    "duration": 715,
    "start_time": "2022-09-23T20:07:07.476Z"
   },
   {
    "duration": 74,
    "start_time": "2022-09-23T20:07:08.193Z"
   },
   {
    "duration": 134,
    "start_time": "2022-09-23T20:07:08.269Z"
   },
   {
    "duration": 26,
    "start_time": "2022-09-23T20:07:08.405Z"
   },
   {
    "duration": 84,
    "start_time": "2022-09-23T20:07:08.433Z"
   },
   {
    "duration": 18,
    "start_time": "2022-09-23T20:07:08.588Z"
   },
   {
    "duration": 553,
    "start_time": "2022-09-23T20:07:08.608Z"
   },
   {
    "duration": 5,
    "start_time": "2022-09-23T20:07:09.163Z"
   },
   {
    "duration": 20,
    "start_time": "2022-09-23T20:07:09.170Z"
   },
   {
    "duration": 45,
    "start_time": "2022-09-23T20:07:09.192Z"
   },
   {
    "duration": 5,
    "start_time": "2022-09-23T20:07:09.239Z"
   },
   {
    "duration": 58,
    "start_time": "2022-09-23T20:07:09.246Z"
   },
   {
    "duration": 6,
    "start_time": "2022-09-23T20:07:09.307Z"
   },
   {
    "duration": 22,
    "start_time": "2022-09-23T20:07:09.314Z"
   },
   {
    "duration": 6,
    "start_time": "2022-09-23T20:07:09.338Z"
   },
   {
    "duration": 15,
    "start_time": "2022-09-23T20:07:09.346Z"
   },
   {
    "duration": 45,
    "start_time": "2022-09-23T20:07:09.364Z"
   },
   {
    "duration": 5,
    "start_time": "2022-09-23T20:07:09.411Z"
   },
   {
    "duration": 27,
    "start_time": "2022-09-23T20:07:09.420Z"
   },
   {
    "duration": 228,
    "start_time": "2022-09-23T20:07:09.449Z"
   },
   {
    "duration": 19,
    "start_time": "2022-09-23T20:07:09.679Z"
   },
   {
    "duration": 3,
    "start_time": "2022-09-23T20:07:09.702Z"
   },
   {
    "duration": 10,
    "start_time": "2022-09-23T20:07:09.706Z"
   },
   {
    "duration": 11,
    "start_time": "2022-09-23T20:07:09.720Z"
   },
   {
    "duration": 13,
    "start_time": "2022-09-23T20:07:09.733Z"
   },
   {
    "duration": 7,
    "start_time": "2022-09-23T20:07:09.748Z"
   },
   {
    "duration": 11,
    "start_time": "2022-09-23T20:07:09.757Z"
   },
   {
    "duration": 23,
    "start_time": "2022-09-23T20:07:09.770Z"
   },
   {
    "duration": 950,
    "start_time": "2022-09-23T20:07:09.795Z"
   },
   {
    "duration": 14,
    "start_time": "2022-09-23T20:07:10.747Z"
   },
   {
    "duration": 20,
    "start_time": "2022-09-23T20:07:10.763Z"
   },
   {
    "duration": 29613,
    "start_time": "2022-09-23T20:07:10.785Z"
   },
   {
    "duration": 291,
    "start_time": "2022-09-23T20:07:40.400Z"
   },
   {
    "duration": 9,
    "start_time": "2022-09-23T20:07:40.694Z"
   },
   {
    "duration": 6,
    "start_time": "2022-09-23T20:07:40.790Z"
   },
   {
    "duration": 17,
    "start_time": "2022-09-23T20:07:40.798Z"
   },
   {
    "duration": 8,
    "start_time": "2022-09-23T20:07:40.819Z"
   },
   {
    "duration": 8,
    "start_time": "2022-09-23T20:07:40.829Z"
   },
   {
    "duration": 10,
    "start_time": "2022-09-23T20:07:40.839Z"
   },
   {
    "duration": 72,
    "start_time": "2022-09-23T20:07:40.851Z"
   },
   {
    "duration": 0,
    "start_time": "2022-09-23T20:07:40.924Z"
   },
   {
    "duration": 0,
    "start_time": "2022-09-23T20:07:40.926Z"
   },
   {
    "duration": 0,
    "start_time": "2022-09-23T20:07:40.927Z"
   },
   {
    "duration": 0,
    "start_time": "2022-09-23T20:07:40.929Z"
   },
   {
    "duration": 0,
    "start_time": "2022-09-23T20:07:40.930Z"
   },
   {
    "duration": 0,
    "start_time": "2022-09-23T20:07:40.937Z"
   },
   {
    "duration": 0,
    "start_time": "2022-09-23T20:07:40.938Z"
   },
   {
    "duration": 0,
    "start_time": "2022-09-23T20:07:40.939Z"
   },
   {
    "duration": 0,
    "start_time": "2022-09-23T20:07:40.940Z"
   },
   {
    "duration": 0,
    "start_time": "2022-09-23T20:07:40.941Z"
   },
   {
    "duration": 0,
    "start_time": "2022-09-23T20:07:40.943Z"
   },
   {
    "duration": 1175,
    "start_time": "2022-09-23T20:11:14.034Z"
   },
   {
    "duration": 1141,
    "start_time": "2022-09-23T20:11:15.211Z"
   },
   {
    "duration": 4,
    "start_time": "2022-09-23T20:11:16.354Z"
   },
   {
    "duration": 109,
    "start_time": "2022-09-23T20:11:16.359Z"
   },
   {
    "duration": 711,
    "start_time": "2022-09-23T20:11:16.470Z"
   },
   {
    "duration": 86,
    "start_time": "2022-09-23T20:11:17.183Z"
   },
   {
    "duration": 130,
    "start_time": "2022-09-23T20:11:17.271Z"
   },
   {
    "duration": 13,
    "start_time": "2022-09-23T20:11:17.402Z"
   },
   {
    "duration": 94,
    "start_time": "2022-09-23T20:11:17.417Z"
   },
   {
    "duration": 23,
    "start_time": "2022-09-23T20:11:17.574Z"
   },
   {
    "duration": 536,
    "start_time": "2022-09-23T20:11:17.598Z"
   },
   {
    "duration": 4,
    "start_time": "2022-09-23T20:11:18.136Z"
   },
   {
    "duration": 10,
    "start_time": "2022-09-23T20:11:18.141Z"
   },
   {
    "duration": 51,
    "start_time": "2022-09-23T20:11:18.153Z"
   },
   {
    "duration": 5,
    "start_time": "2022-09-23T20:11:18.206Z"
   },
   {
    "duration": 42,
    "start_time": "2022-09-23T20:11:18.213Z"
   },
   {
    "duration": 5,
    "start_time": "2022-09-23T20:11:18.257Z"
   },
   {
    "duration": 41,
    "start_time": "2022-09-23T20:11:18.264Z"
   },
   {
    "duration": 5,
    "start_time": "2022-09-23T20:11:18.306Z"
   },
   {
    "duration": 8,
    "start_time": "2022-09-23T20:11:18.313Z"
   },
   {
    "duration": 24,
    "start_time": "2022-09-23T20:11:18.322Z"
   },
   {
    "duration": 6,
    "start_time": "2022-09-23T20:11:18.348Z"
   },
   {
    "duration": 43,
    "start_time": "2022-09-23T20:11:18.356Z"
   },
   {
    "duration": 208,
    "start_time": "2022-09-23T20:11:18.401Z"
   },
   {
    "duration": 15,
    "start_time": "2022-09-23T20:11:18.611Z"
   },
   {
    "duration": 2,
    "start_time": "2022-09-23T20:11:18.628Z"
   },
   {
    "duration": 4,
    "start_time": "2022-09-23T20:11:18.632Z"
   },
   {
    "duration": 8,
    "start_time": "2022-09-23T20:11:18.640Z"
   },
   {
    "duration": 6,
    "start_time": "2022-09-23T20:11:18.650Z"
   },
   {
    "duration": 7,
    "start_time": "2022-09-23T20:11:18.657Z"
   },
   {
    "duration": 24,
    "start_time": "2022-09-23T20:11:18.665Z"
   },
   {
    "duration": 16,
    "start_time": "2022-09-23T20:11:18.691Z"
   },
   {
    "duration": 917,
    "start_time": "2022-09-23T20:11:18.709Z"
   },
   {
    "duration": 13,
    "start_time": "2022-09-23T20:11:19.630Z"
   },
   {
    "duration": 11,
    "start_time": "2022-09-23T20:11:19.645Z"
   },
   {
    "duration": 21638,
    "start_time": "2022-09-23T20:11:19.658Z"
   },
   {
    "duration": 200,
    "start_time": "2022-09-23T20:11:41.298Z"
   },
   {
    "duration": 6,
    "start_time": "2022-09-23T20:11:41.588Z"
   },
   {
    "duration": 13,
    "start_time": "2022-09-23T20:11:41.596Z"
   },
   {
    "duration": 5,
    "start_time": "2022-09-23T20:11:41.612Z"
   },
   {
    "duration": 6,
    "start_time": "2022-09-23T20:11:41.618Z"
   },
   {
    "duration": 6,
    "start_time": "2022-09-23T20:11:41.626Z"
   },
   {
    "duration": 9,
    "start_time": "2022-09-23T20:11:41.633Z"
   },
   {
    "duration": 1229,
    "start_time": "2022-09-23T20:12:26.064Z"
   },
   {
    "duration": 1221,
    "start_time": "2022-09-23T20:12:27.295Z"
   },
   {
    "duration": 3,
    "start_time": "2022-09-23T20:12:28.518Z"
   },
   {
    "duration": 143,
    "start_time": "2022-09-23T20:12:28.524Z"
   },
   {
    "duration": 711,
    "start_time": "2022-09-23T20:12:28.669Z"
   },
   {
    "duration": 81,
    "start_time": "2022-09-23T20:12:29.382Z"
   },
   {
    "duration": 133,
    "start_time": "2022-09-23T20:12:29.465Z"
   },
   {
    "duration": 14,
    "start_time": "2022-09-23T20:12:29.600Z"
   },
   {
    "duration": 93,
    "start_time": "2022-09-23T20:12:29.616Z"
   },
   {
    "duration": 33,
    "start_time": "2022-09-23T20:12:29.772Z"
   },
   {
    "duration": 531,
    "start_time": "2022-09-23T20:12:29.807Z"
   },
   {
    "duration": 17,
    "start_time": "2022-09-23T20:12:30.340Z"
   },
   {
    "duration": 7,
    "start_time": "2022-09-23T20:12:30.360Z"
   },
   {
    "duration": 47,
    "start_time": "2022-09-23T20:12:30.369Z"
   },
   {
    "duration": 5,
    "start_time": "2022-09-23T20:12:30.418Z"
   },
   {
    "duration": 42,
    "start_time": "2022-09-23T20:12:30.425Z"
   },
   {
    "duration": 6,
    "start_time": "2022-09-23T20:12:30.469Z"
   },
   {
    "duration": 21,
    "start_time": "2022-09-23T20:12:30.490Z"
   },
   {
    "duration": 11,
    "start_time": "2022-09-23T20:12:30.513Z"
   },
   {
    "duration": 15,
    "start_time": "2022-09-23T20:12:30.526Z"
   },
   {
    "duration": 24,
    "start_time": "2022-09-23T20:12:30.544Z"
   },
   {
    "duration": 4,
    "start_time": "2022-09-23T20:12:30.570Z"
   },
   {
    "duration": 26,
    "start_time": "2022-09-23T20:12:30.575Z"
   },
   {
    "duration": 249,
    "start_time": "2022-09-23T20:12:30.603Z"
   },
   {
    "duration": 25,
    "start_time": "2022-09-23T20:12:30.854Z"
   },
   {
    "duration": 3,
    "start_time": "2022-09-23T20:12:30.889Z"
   },
   {
    "duration": 34,
    "start_time": "2022-09-23T20:12:30.894Z"
   },
   {
    "duration": 15,
    "start_time": "2022-09-23T20:12:30.931Z"
   },
   {
    "duration": 10,
    "start_time": "2022-09-23T20:12:30.948Z"
   },
   {
    "duration": 11,
    "start_time": "2022-09-23T20:12:30.959Z"
   },
   {
    "duration": 5,
    "start_time": "2022-09-23T20:12:30.971Z"
   },
   {
    "duration": 28,
    "start_time": "2022-09-23T20:12:30.979Z"
   },
   {
    "duration": 916,
    "start_time": "2022-09-23T20:12:31.010Z"
   },
   {
    "duration": 21,
    "start_time": "2022-09-23T20:12:31.929Z"
   },
   {
    "duration": 10,
    "start_time": "2022-09-23T20:12:31.952Z"
   },
   {
    "duration": 19135,
    "start_time": "2022-09-23T20:12:31.964Z"
   },
   {
    "duration": 194,
    "start_time": "2022-09-23T20:12:51.101Z"
   },
   {
    "duration": 8,
    "start_time": "2022-09-23T20:12:51.298Z"
   },
   {
    "duration": 90,
    "start_time": "2022-09-23T20:12:51.308Z"
   },
   {
    "duration": 10,
    "start_time": "2022-09-23T20:12:51.400Z"
   },
   {
    "duration": 13,
    "start_time": "2022-09-23T20:12:51.416Z"
   },
   {
    "duration": 6,
    "start_time": "2022-09-23T20:12:51.432Z"
   },
   {
    "duration": 7,
    "start_time": "2022-09-23T20:12:51.440Z"
   },
   {
    "duration": 359246,
    "start_time": "2022-09-23T20:12:51.448Z"
   },
   {
    "duration": 501,
    "start_time": "2022-09-23T20:18:50.695Z"
   },
   {
    "duration": 5,
    "start_time": "2022-09-23T20:18:51.198Z"
   },
   {
    "duration": 4,
    "start_time": "2022-09-23T20:18:51.204Z"
   },
   {
    "duration": 5,
    "start_time": "2022-09-23T20:18:51.209Z"
   },
   {
    "duration": 55,
    "start_time": "2022-09-23T20:44:09.873Z"
   },
   {
    "duration": 1180,
    "start_time": "2022-09-23T20:44:26.125Z"
   },
   {
    "duration": 3337,
    "start_time": "2022-09-23T20:44:32.542Z"
   },
   {
    "duration": 3,
    "start_time": "2022-09-23T20:44:42.315Z"
   },
   {
    "duration": 117,
    "start_time": "2022-09-23T20:44:44.612Z"
   },
   {
    "duration": 722,
    "start_time": "2022-09-23T20:44:48.724Z"
   },
   {
    "duration": 75,
    "start_time": "2022-09-23T20:44:50.711Z"
   },
   {
    "duration": 74,
    "start_time": "2022-09-23T20:44:53.729Z"
   },
   {
    "duration": 106,
    "start_time": "2022-09-23T20:44:56.601Z"
   },
   {
    "duration": 13,
    "start_time": "2022-09-23T20:44:58.427Z"
   },
   {
    "duration": 79,
    "start_time": "2022-09-23T20:45:02.916Z"
   },
   {
    "duration": 19,
    "start_time": "2022-09-23T20:45:04.893Z"
   },
   {
    "duration": 561,
    "start_time": "2022-09-23T20:45:07.200Z"
   },
   {
    "duration": 5,
    "start_time": "2022-09-23T20:45:08.611Z"
   },
   {
    "duration": 7,
    "start_time": "2022-09-23T20:45:11.858Z"
   },
   {
    "duration": 40,
    "start_time": "2022-09-23T20:45:13.454Z"
   },
   {
    "duration": 4,
    "start_time": "2022-09-23T20:45:14.637Z"
   },
   {
    "duration": 38,
    "start_time": "2022-09-23T20:45:15.833Z"
   },
   {
    "duration": 5,
    "start_time": "2022-09-23T20:45:17.488Z"
   },
   {
    "duration": 19,
    "start_time": "2022-09-23T20:45:19.050Z"
   },
   {
    "duration": 4,
    "start_time": "2022-09-23T20:45:20.426Z"
   },
   {
    "duration": 5,
    "start_time": "2022-09-23T20:45:21.727Z"
   },
   {
    "duration": 18,
    "start_time": "2022-09-23T20:45:22.924Z"
   },
   {
    "duration": 4,
    "start_time": "2022-09-23T20:45:23.959Z"
   },
   {
    "duration": 14,
    "start_time": "2022-09-23T20:45:26.628Z"
   },
   {
    "duration": 221,
    "start_time": "2022-09-23T20:45:29.321Z"
   },
   {
    "duration": 81,
    "start_time": "2022-09-23T20:45:30.809Z"
   },
   {
    "duration": 10,
    "start_time": "2022-09-23T20:45:37.955Z"
   },
   {
    "duration": 923,
    "start_time": "2022-09-23T20:45:39.967Z"
   },
   {
    "duration": 13,
    "start_time": "2022-09-23T20:45:41.741Z"
   },
   {
    "duration": 1147,
    "start_time": "2022-09-24T08:06:39.617Z"
   },
   {
    "duration": 3233,
    "start_time": "2022-09-24T08:06:40.765Z"
   },
   {
    "duration": 3,
    "start_time": "2022-09-24T08:06:44.000Z"
   },
   {
    "duration": 90,
    "start_time": "2022-09-24T08:06:44.005Z"
   },
   {
    "duration": 696,
    "start_time": "2022-09-24T08:06:44.096Z"
   },
   {
    "duration": 75,
    "start_time": "2022-09-24T08:06:44.794Z"
   },
   {
    "duration": 105,
    "start_time": "2022-09-24T08:06:44.871Z"
   },
   {
    "duration": 20,
    "start_time": "2022-09-24T08:06:44.978Z"
   },
   {
    "duration": 98,
    "start_time": "2022-09-24T08:06:45.000Z"
   },
   {
    "duration": 16,
    "start_time": "2022-09-24T08:06:45.158Z"
   },
   {
    "duration": 501,
    "start_time": "2022-09-24T08:06:45.176Z"
   },
   {
    "duration": 4,
    "start_time": "2022-09-24T08:06:45.679Z"
   },
   {
    "duration": 6,
    "start_time": "2022-09-24T08:06:45.695Z"
   },
   {
    "duration": 42,
    "start_time": "2022-09-24T08:06:45.702Z"
   },
   {
    "duration": 5,
    "start_time": "2022-09-24T08:06:45.745Z"
   },
   {
    "duration": 53,
    "start_time": "2022-09-24T08:06:45.752Z"
   },
   {
    "duration": 5,
    "start_time": "2022-09-24T08:06:45.806Z"
   },
   {
    "duration": 19,
    "start_time": "2022-09-24T08:06:45.812Z"
   },
   {
    "duration": 4,
    "start_time": "2022-09-24T08:06:45.832Z"
   },
   {
    "duration": 7,
    "start_time": "2022-09-24T08:06:45.838Z"
   },
   {
    "duration": 19,
    "start_time": "2022-09-24T08:06:45.847Z"
   },
   {
    "duration": 28,
    "start_time": "2022-09-24T08:06:45.868Z"
   },
   {
    "duration": 17,
    "start_time": "2022-09-24T08:06:45.898Z"
   },
   {
    "duration": 229,
    "start_time": "2022-09-24T08:06:45.917Z"
   },
   {
    "duration": 19,
    "start_time": "2022-09-24T08:06:46.148Z"
   },
   {
    "duration": 2,
    "start_time": "2022-09-24T08:06:46.168Z"
   },
   {
    "duration": 5,
    "start_time": "2022-09-24T08:06:46.172Z"
   },
   {
    "duration": 3,
    "start_time": "2022-09-24T08:06:46.194Z"
   },
   {
    "duration": 6,
    "start_time": "2022-09-24T08:06:46.199Z"
   },
   {
    "duration": 9,
    "start_time": "2022-09-24T08:06:46.207Z"
   },
   {
    "duration": 4,
    "start_time": "2022-09-24T08:06:46.217Z"
   },
   {
    "duration": 14,
    "start_time": "2022-09-24T08:06:46.223Z"
   },
   {
    "duration": 887,
    "start_time": "2022-09-24T08:06:46.238Z"
   },
   {
    "duration": 13,
    "start_time": "2022-09-24T08:06:47.127Z"
   },
   {
    "duration": 9,
    "start_time": "2022-09-24T08:06:47.141Z"
   },
   {
    "duration": 14049,
    "start_time": "2022-09-24T08:06:47.152Z"
   },
   {
    "duration": 196,
    "start_time": "2022-09-24T08:07:01.203Z"
   },
   {
    "duration": 95,
    "start_time": "2022-09-24T08:07:01.401Z"
   },
   {
    "duration": 6,
    "start_time": "2022-09-24T08:07:01.498Z"
   },
   {
    "duration": 90,
    "start_time": "2022-09-24T08:07:01.505Z"
   },
   {
    "duration": 6,
    "start_time": "2022-09-24T08:07:01.597Z"
   },
   {
    "duration": 8,
    "start_time": "2022-09-24T08:07:01.605Z"
   },
   {
    "duration": 10,
    "start_time": "2022-09-24T08:07:01.615Z"
   },
   {
    "duration": 3681,
    "start_time": "2022-09-24T08:07:01.627Z"
   },
   {
    "duration": 503,
    "start_time": "2022-09-24T08:07:05.310Z"
   },
   {
    "duration": 4,
    "start_time": "2022-09-24T08:07:05.814Z"
   },
   {
    "duration": 8,
    "start_time": "2022-09-24T08:07:05.820Z"
   },
   {
    "duration": 7,
    "start_time": "2022-09-24T08:07:05.829Z"
   },
   {
    "duration": 1186,
    "start_time": "2022-09-24T08:10:13.441Z"
   },
   {
    "duration": 1069,
    "start_time": "2022-09-24T08:10:14.629Z"
   },
   {
    "duration": 3,
    "start_time": "2022-09-24T08:10:15.700Z"
   },
   {
    "duration": 110,
    "start_time": "2022-09-24T08:10:15.705Z"
   },
   {
    "duration": 741,
    "start_time": "2022-09-24T08:10:15.817Z"
   },
   {
    "duration": 98,
    "start_time": "2022-09-24T08:10:16.561Z"
   },
   {
    "duration": 104,
    "start_time": "2022-09-24T08:10:16.661Z"
   },
   {
    "duration": 30,
    "start_time": "2022-09-24T08:10:16.767Z"
   },
   {
    "duration": 99,
    "start_time": "2022-09-24T08:10:16.799Z"
   },
   {
    "duration": 18,
    "start_time": "2022-09-24T08:10:16.964Z"
   },
   {
    "duration": 548,
    "start_time": "2022-09-24T08:10:16.996Z"
   },
   {
    "duration": 4,
    "start_time": "2022-09-24T08:10:17.546Z"
   },
   {
    "duration": 11,
    "start_time": "2022-09-24T08:10:17.552Z"
   },
   {
    "duration": 56,
    "start_time": "2022-09-24T08:10:17.564Z"
   },
   {
    "duration": 4,
    "start_time": "2022-09-24T08:10:17.622Z"
   },
   {
    "duration": 43,
    "start_time": "2022-09-24T08:10:17.628Z"
   },
   {
    "duration": 4,
    "start_time": "2022-09-24T08:10:17.673Z"
   },
   {
    "duration": 34,
    "start_time": "2022-09-24T08:10:17.679Z"
   },
   {
    "duration": 4,
    "start_time": "2022-09-24T08:10:17.715Z"
   },
   {
    "duration": 12,
    "start_time": "2022-09-24T08:10:17.721Z"
   },
   {
    "duration": 22,
    "start_time": "2022-09-24T08:10:17.735Z"
   },
   {
    "duration": 4,
    "start_time": "2022-09-24T08:10:17.759Z"
   },
   {
    "duration": 32,
    "start_time": "2022-09-24T08:10:17.764Z"
   },
   {
    "duration": 205,
    "start_time": "2022-09-24T08:10:17.798Z"
   },
   {
    "duration": 20,
    "start_time": "2022-09-24T08:10:18.005Z"
   },
   {
    "duration": 10,
    "start_time": "2022-09-24T08:10:18.027Z"
   },
   {
    "duration": 6,
    "start_time": "2022-09-24T08:10:18.039Z"
   },
   {
    "duration": 3,
    "start_time": "2022-09-24T08:10:18.048Z"
   },
   {
    "duration": 12,
    "start_time": "2022-09-24T08:10:18.052Z"
   },
   {
    "duration": 5,
    "start_time": "2022-09-24T08:10:18.066Z"
   },
   {
    "duration": 6,
    "start_time": "2022-09-24T08:10:18.073Z"
   },
   {
    "duration": 30,
    "start_time": "2022-09-24T08:10:18.081Z"
   },
   {
    "duration": 844,
    "start_time": "2022-09-24T08:10:18.112Z"
   },
   {
    "duration": 13,
    "start_time": "2022-09-24T08:10:18.958Z"
   },
   {
    "duration": 6,
    "start_time": "2022-09-24T08:10:18.973Z"
   },
   {
    "duration": 12516,
    "start_time": "2022-09-24T08:10:18.981Z"
   },
   {
    "duration": 115,
    "start_time": "2022-09-24T08:10:31.499Z"
   },
   {
    "duration": 83,
    "start_time": "2022-09-24T08:10:31.616Z"
   },
   {
    "duration": 99,
    "start_time": "2022-09-24T08:10:31.701Z"
   },
   {
    "duration": 6,
    "start_time": "2022-09-24T08:10:31.802Z"
   },
   {
    "duration": 6,
    "start_time": "2022-09-24T08:10:31.810Z"
   },
   {
    "duration": 20,
    "start_time": "2022-09-24T08:10:31.818Z"
   },
   {
    "duration": 14,
    "start_time": "2022-09-24T08:10:31.840Z"
   },
   {
    "duration": 4354,
    "start_time": "2022-09-24T08:10:31.856Z"
   },
   {
    "duration": 499,
    "start_time": "2022-09-24T08:10:36.212Z"
   },
   {
    "duration": 4,
    "start_time": "2022-09-24T08:10:36.713Z"
   },
   {
    "duration": 86,
    "start_time": "2022-09-24T08:10:36.719Z"
   },
   {
    "duration": 1137,
    "start_time": "2022-09-24T08:11:24.336Z"
   },
   {
    "duration": 1059,
    "start_time": "2022-09-24T08:11:25.474Z"
   },
   {
    "duration": 5,
    "start_time": "2022-09-24T08:11:26.536Z"
   },
   {
    "duration": 111,
    "start_time": "2022-09-24T08:11:26.544Z"
   },
   {
    "duration": 685,
    "start_time": "2022-09-24T08:11:26.657Z"
   },
   {
    "duration": 78,
    "start_time": "2022-09-24T08:11:27.343Z"
   },
   {
    "duration": 96,
    "start_time": "2022-09-24T08:11:27.423Z"
   },
   {
    "duration": 13,
    "start_time": "2022-09-24T08:11:27.520Z"
   },
   {
    "duration": 89,
    "start_time": "2022-09-24T08:11:27.535Z"
   },
   {
    "duration": 23,
    "start_time": "2022-09-24T08:11:27.683Z"
   },
   {
    "duration": 521,
    "start_time": "2022-09-24T08:11:27.707Z"
   },
   {
    "duration": 4,
    "start_time": "2022-09-24T08:11:28.230Z"
   },
   {
    "duration": 8,
    "start_time": "2022-09-24T08:11:28.235Z"
   },
   {
    "duration": 57,
    "start_time": "2022-09-24T08:11:28.244Z"
   },
   {
    "duration": 5,
    "start_time": "2022-09-24T08:11:28.303Z"
   },
   {
    "duration": 40,
    "start_time": "2022-09-24T08:11:28.309Z"
   },
   {
    "duration": 5,
    "start_time": "2022-09-24T08:11:28.351Z"
   },
   {
    "duration": 20,
    "start_time": "2022-09-24T08:11:28.357Z"
   },
   {
    "duration": 5,
    "start_time": "2022-09-24T08:11:28.394Z"
   },
   {
    "duration": 8,
    "start_time": "2022-09-24T08:11:28.401Z"
   },
   {
    "duration": 21,
    "start_time": "2022-09-24T08:11:28.411Z"
   },
   {
    "duration": 4,
    "start_time": "2022-09-24T08:11:28.434Z"
   },
   {
    "duration": 20,
    "start_time": "2022-09-24T08:11:28.440Z"
   },
   {
    "duration": 236,
    "start_time": "2022-09-24T08:11:28.461Z"
   },
   {
    "duration": 18,
    "start_time": "2022-09-24T08:11:28.699Z"
   },
   {
    "duration": 9,
    "start_time": "2022-09-24T08:11:28.719Z"
   },
   {
    "duration": 5,
    "start_time": "2022-09-24T08:11:28.730Z"
   },
   {
    "duration": 4,
    "start_time": "2022-09-24T08:11:28.739Z"
   },
   {
    "duration": 4,
    "start_time": "2022-09-24T08:11:28.744Z"
   },
   {
    "duration": 4,
    "start_time": "2022-09-24T08:11:28.750Z"
   },
   {
    "duration": 5,
    "start_time": "2022-09-24T08:11:28.756Z"
   },
   {
    "duration": 36,
    "start_time": "2022-09-24T08:11:28.763Z"
   },
   {
    "duration": 817,
    "start_time": "2022-09-24T08:11:28.800Z"
   },
   {
    "duration": 12,
    "start_time": "2022-09-24T08:11:29.619Z"
   },
   {
    "duration": 5,
    "start_time": "2022-09-24T08:11:29.633Z"
   },
   {
    "duration": 13156,
    "start_time": "2022-09-24T08:11:29.639Z"
   },
   {
    "duration": 200,
    "start_time": "2022-09-24T08:11:42.797Z"
   },
   {
    "duration": 5,
    "start_time": "2022-09-24T08:11:42.998Z"
   },
   {
    "duration": 96,
    "start_time": "2022-09-24T08:11:43.005Z"
   },
   {
    "duration": 5,
    "start_time": "2022-09-24T08:11:43.103Z"
   },
   {
    "duration": 6,
    "start_time": "2022-09-24T08:11:43.109Z"
   },
   {
    "duration": 6,
    "start_time": "2022-09-24T08:11:43.117Z"
   },
   {
    "duration": 4,
    "start_time": "2022-09-24T08:11:43.125Z"
   },
   {
    "duration": 3781,
    "start_time": "2022-09-24T08:11:43.131Z"
   },
   {
    "duration": 501,
    "start_time": "2022-09-24T08:11:46.914Z"
   },
   {
    "duration": 4,
    "start_time": "2022-09-24T08:11:47.417Z"
   },
   {
    "duration": 2,
    "start_time": "2022-09-24T08:11:47.495Z"
   },
   {
    "duration": 114,
    "start_time": "2022-09-24T08:11:47.499Z"
   },
   {
    "duration": 0,
    "start_time": "2022-09-24T08:11:47.615Z"
   },
   {
    "duration": 0,
    "start_time": "2022-09-24T08:11:47.616Z"
   },
   {
    "duration": 0,
    "start_time": "2022-09-24T08:11:47.617Z"
   },
   {
    "duration": 0,
    "start_time": "2022-09-24T08:11:47.618Z"
   },
   {
    "duration": 0,
    "start_time": "2022-09-24T08:11:47.619Z"
   },
   {
    "duration": 0,
    "start_time": "2022-09-24T08:11:47.621Z"
   },
   {
    "duration": 0,
    "start_time": "2022-09-24T08:11:47.621Z"
   },
   {
    "duration": 2,
    "start_time": "2022-09-24T08:12:20.366Z"
   },
   {
    "duration": 1143,
    "start_time": "2022-09-24T08:25:21.948Z"
   },
   {
    "duration": 3204,
    "start_time": "2022-09-24T08:25:23.093Z"
   },
   {
    "duration": 3,
    "start_time": "2022-09-24T08:25:26.299Z"
   },
   {
    "duration": 94,
    "start_time": "2022-09-24T08:25:26.303Z"
   },
   {
    "duration": 724,
    "start_time": "2022-09-24T08:25:26.400Z"
   },
   {
    "duration": 77,
    "start_time": "2022-09-24T08:25:27.126Z"
   },
   {
    "duration": 99,
    "start_time": "2022-09-24T08:25:27.205Z"
   },
   {
    "duration": 15,
    "start_time": "2022-09-24T08:25:27.307Z"
   },
   {
    "duration": 172,
    "start_time": "2022-09-24T08:25:27.323Z"
   },
   {
    "duration": 16,
    "start_time": "2022-09-24T08:25:27.496Z"
   },
   {
    "duration": 520,
    "start_time": "2022-09-24T08:25:27.513Z"
   },
   {
    "duration": 4,
    "start_time": "2022-09-24T08:25:28.035Z"
   },
   {
    "duration": 7,
    "start_time": "2022-09-24T08:25:28.041Z"
   },
   {
    "duration": 52,
    "start_time": "2022-09-24T08:25:28.050Z"
   },
   {
    "duration": 5,
    "start_time": "2022-09-24T08:25:28.104Z"
   },
   {
    "duration": 39,
    "start_time": "2022-09-24T08:25:28.110Z"
   },
   {
    "duration": 5,
    "start_time": "2022-09-24T08:25:28.151Z"
   },
   {
    "duration": 37,
    "start_time": "2022-09-24T08:25:28.158Z"
   },
   {
    "duration": 5,
    "start_time": "2022-09-24T08:25:28.197Z"
   },
   {
    "duration": 7,
    "start_time": "2022-09-24T08:25:28.204Z"
   },
   {
    "duration": 18,
    "start_time": "2022-09-24T08:25:28.213Z"
   },
   {
    "duration": 4,
    "start_time": "2022-09-24T08:25:28.233Z"
   },
   {
    "duration": 15,
    "start_time": "2022-09-24T08:25:28.239Z"
   },
   {
    "duration": 228,
    "start_time": "2022-09-24T08:25:28.256Z"
   },
   {
    "duration": 22,
    "start_time": "2022-09-24T08:25:28.485Z"
   },
   {
    "duration": 2,
    "start_time": "2022-09-24T08:25:28.509Z"
   },
   {
    "duration": 5,
    "start_time": "2022-09-24T08:25:28.513Z"
   },
   {
    "duration": 4,
    "start_time": "2022-09-24T08:25:28.520Z"
   },
   {
    "duration": 4,
    "start_time": "2022-09-24T08:25:28.526Z"
   },
   {
    "duration": 4,
    "start_time": "2022-09-24T08:25:28.532Z"
   },
   {
    "duration": 5,
    "start_time": "2022-09-24T08:25:28.537Z"
   },
   {
    "duration": 12,
    "start_time": "2022-09-24T08:25:28.543Z"
   },
   {
    "duration": 806,
    "start_time": "2022-09-24T08:25:28.557Z"
   },
   {
    "duration": 12,
    "start_time": "2022-09-24T08:25:29.364Z"
   },
   {
    "duration": 4,
    "start_time": "2022-09-24T08:25:29.378Z"
   },
   {
    "duration": 1218,
    "start_time": "2022-09-24T08:25:37.994Z"
   },
   {
    "duration": 1047,
    "start_time": "2022-09-24T08:25:39.214Z"
   },
   {
    "duration": 3,
    "start_time": "2022-09-24T08:25:40.263Z"
   },
   {
    "duration": 103,
    "start_time": "2022-09-24T08:25:40.268Z"
   },
   {
    "duration": 694,
    "start_time": "2022-09-24T08:25:40.373Z"
   },
   {
    "duration": 80,
    "start_time": "2022-09-24T08:25:41.069Z"
   },
   {
    "duration": 92,
    "start_time": "2022-09-24T08:25:41.151Z"
   },
   {
    "duration": 13,
    "start_time": "2022-09-24T08:25:41.246Z"
   },
   {
    "duration": 101,
    "start_time": "2022-09-24T08:25:41.261Z"
   },
   {
    "duration": 20,
    "start_time": "2022-09-24T08:25:41.433Z"
   },
   {
    "duration": 540,
    "start_time": "2022-09-24T08:25:41.455Z"
   },
   {
    "duration": 4,
    "start_time": "2022-09-24T08:25:41.997Z"
   },
   {
    "duration": 6,
    "start_time": "2022-09-24T08:25:42.002Z"
   },
   {
    "duration": 42,
    "start_time": "2022-09-24T08:25:42.010Z"
   },
   {
    "duration": 5,
    "start_time": "2022-09-24T08:25:42.053Z"
   },
   {
    "duration": 55,
    "start_time": "2022-09-24T08:25:42.060Z"
   },
   {
    "duration": 5,
    "start_time": "2022-09-24T08:25:42.116Z"
   },
   {
    "duration": 21,
    "start_time": "2022-09-24T08:25:42.122Z"
   },
   {
    "duration": 4,
    "start_time": "2022-09-24T08:25:42.145Z"
   },
   {
    "duration": 8,
    "start_time": "2022-09-24T08:25:42.150Z"
   },
   {
    "duration": 39,
    "start_time": "2022-09-24T08:25:42.160Z"
   },
   {
    "duration": 4,
    "start_time": "2022-09-24T08:25:42.201Z"
   },
   {
    "duration": 19,
    "start_time": "2022-09-24T08:25:42.207Z"
   },
   {
    "duration": 214,
    "start_time": "2022-09-24T08:25:42.228Z"
   },
   {
    "duration": 18,
    "start_time": "2022-09-24T08:25:42.444Z"
   },
   {
    "duration": 2,
    "start_time": "2022-09-24T08:25:42.465Z"
   },
   {
    "duration": 7,
    "start_time": "2022-09-24T08:25:42.469Z"
   },
   {
    "duration": 2,
    "start_time": "2022-09-24T08:25:42.498Z"
   },
   {
    "duration": 5,
    "start_time": "2022-09-24T08:25:42.501Z"
   },
   {
    "duration": 4,
    "start_time": "2022-09-24T08:25:42.508Z"
   },
   {
    "duration": 6,
    "start_time": "2022-09-24T08:25:42.514Z"
   },
   {
    "duration": 12,
    "start_time": "2022-09-24T08:25:42.522Z"
   },
   {
    "duration": 805,
    "start_time": "2022-09-24T08:25:42.535Z"
   },
   {
    "duration": 12,
    "start_time": "2022-09-24T08:25:43.341Z"
   },
   {
    "duration": 5,
    "start_time": "2022-09-24T08:25:43.354Z"
   },
   {
    "duration": 12736,
    "start_time": "2022-09-24T08:25:43.360Z"
   },
   {
    "duration": 122,
    "start_time": "2022-09-24T08:25:56.098Z"
   },
   {
    "duration": 77,
    "start_time": "2022-09-24T08:25:56.221Z"
   },
   {
    "duration": 103,
    "start_time": "2022-09-24T08:25:56.300Z"
   },
   {
    "duration": 5,
    "start_time": "2022-09-24T08:25:56.405Z"
   },
   {
    "duration": 7,
    "start_time": "2022-09-24T08:25:56.413Z"
   },
   {
    "duration": 13,
    "start_time": "2022-09-24T08:25:56.422Z"
   },
   {
    "duration": 7,
    "start_time": "2022-09-24T08:25:56.438Z"
   },
   {
    "duration": 6656,
    "start_time": "2022-09-24T08:25:56.446Z"
   },
   {
    "duration": 406,
    "start_time": "2022-09-24T08:26:03.104Z"
   },
   {
    "duration": 4,
    "start_time": "2022-09-24T08:26:03.511Z"
   },
   {
    "duration": 2,
    "start_time": "2022-09-24T08:26:03.596Z"
   },
   {
    "duration": 106,
    "start_time": "2022-09-24T08:26:03.600Z"
   },
   {
    "duration": 0,
    "start_time": "2022-09-24T08:26:03.707Z"
   },
   {
    "duration": 0,
    "start_time": "2022-09-24T08:26:03.709Z"
   },
   {
    "duration": 0,
    "start_time": "2022-09-24T08:26:03.709Z"
   },
   {
    "duration": 0,
    "start_time": "2022-09-24T08:26:03.710Z"
   },
   {
    "duration": 1,
    "start_time": "2022-09-24T08:26:03.711Z"
   },
   {
    "duration": 0,
    "start_time": "2022-09-24T08:26:03.712Z"
   },
   {
    "duration": 0,
    "start_time": "2022-09-24T08:26:03.713Z"
   },
   {
    "duration": 2,
    "start_time": "2022-09-24T08:30:31.918Z"
   },
   {
    "duration": 404418,
    "start_time": "2022-09-24T08:30:34.172Z"
   },
   {
    "duration": 0,
    "start_time": "2022-09-24T08:40:49.703Z"
   },
   {
    "duration": 11,
    "start_time": "2022-09-24T08:41:05.003Z"
   },
   {
    "duration": 163440,
    "start_time": "2022-09-24T08:41:16.531Z"
   },
   {
    "duration": 4,
    "start_time": "2022-09-24T08:44:42.093Z"
   },
   {
    "duration": 105,
    "start_time": "2022-09-24T08:45:38.011Z"
   },
   {
    "duration": 3498,
    "start_time": "2022-09-24T08:45:45.383Z"
   },
   {
    "duration": 40170,
    "start_time": "2022-09-24T08:45:52.102Z"
   },
   {
    "duration": 5,
    "start_time": "2022-09-24T08:46:32.275Z"
   },
   {
    "duration": 4,
    "start_time": "2022-09-24T08:46:48.620Z"
   },
   {
    "duration": 75,
    "start_time": "2022-09-24T08:53:19.185Z"
   },
   {
    "duration": 79,
    "start_time": "2022-09-24T08:56:25.097Z"
   },
   {
    "duration": 1340,
    "start_time": "2022-09-24T09:03:43.352Z"
   },
   {
    "duration": 1252,
    "start_time": "2022-09-24T09:03:44.695Z"
   },
   {
    "duration": 5,
    "start_time": "2022-09-24T09:03:45.949Z"
   },
   {
    "duration": 127,
    "start_time": "2022-09-24T09:03:45.957Z"
   },
   {
    "duration": 842,
    "start_time": "2022-09-24T09:03:46.085Z"
   },
   {
    "duration": 106,
    "start_time": "2022-09-24T09:03:46.933Z"
   },
   {
    "duration": 126,
    "start_time": "2022-09-24T09:03:47.041Z"
   },
   {
    "duration": 28,
    "start_time": "2022-09-24T09:03:47.168Z"
   },
   {
    "duration": 104,
    "start_time": "2022-09-24T09:03:47.202Z"
   },
   {
    "duration": 17,
    "start_time": "2022-09-24T09:03:47.375Z"
   },
   {
    "duration": 569,
    "start_time": "2022-09-24T09:03:47.394Z"
   },
   {
    "duration": 4,
    "start_time": "2022-09-24T09:03:47.965Z"
   },
   {
    "duration": 7,
    "start_time": "2022-09-24T09:03:47.971Z"
   },
   {
    "duration": 60,
    "start_time": "2022-09-24T09:03:47.980Z"
   },
   {
    "duration": 8,
    "start_time": "2022-09-24T09:03:48.042Z"
   },
   {
    "duration": 58,
    "start_time": "2022-09-24T09:03:48.052Z"
   },
   {
    "duration": 10,
    "start_time": "2022-09-24T09:03:48.115Z"
   },
   {
    "duration": 27,
    "start_time": "2022-09-24T09:03:48.126Z"
   },
   {
    "duration": 6,
    "start_time": "2022-09-24T09:03:48.155Z"
   },
   {
    "duration": 8,
    "start_time": "2022-09-24T09:03:48.163Z"
   },
   {
    "duration": 31,
    "start_time": "2022-09-24T09:03:48.172Z"
   },
   {
    "duration": 9,
    "start_time": "2022-09-24T09:03:48.205Z"
   },
   {
    "duration": 25,
    "start_time": "2022-09-24T09:03:48.219Z"
   },
   {
    "duration": 226,
    "start_time": "2022-09-24T09:03:48.245Z"
   },
   {
    "duration": 46,
    "start_time": "2022-09-24T09:03:48.473Z"
   },
   {
    "duration": 6,
    "start_time": "2022-09-24T09:03:48.522Z"
   },
   {
    "duration": 5,
    "start_time": "2022-09-24T09:03:48.530Z"
   },
   {
    "duration": 3,
    "start_time": "2022-09-24T09:03:48.540Z"
   },
   {
    "duration": 5,
    "start_time": "2022-09-24T09:03:48.545Z"
   },
   {
    "duration": 5,
    "start_time": "2022-09-24T09:03:48.552Z"
   },
   {
    "duration": 8,
    "start_time": "2022-09-24T09:03:48.559Z"
   },
   {
    "duration": 40,
    "start_time": "2022-09-24T09:03:48.569Z"
   },
   {
    "duration": 1000,
    "start_time": "2022-09-24T09:03:48.611Z"
   },
   {
    "duration": 25,
    "start_time": "2022-09-24T09:03:49.617Z"
   },
   {
    "duration": 7,
    "start_time": "2022-09-24T09:03:49.644Z"
   },
   {
    "duration": 54379,
    "start_time": "2022-09-24T09:03:49.652Z"
   },
   {
    "duration": 174,
    "start_time": "2022-09-24T09:04:44.033Z"
   },
   {
    "duration": 10,
    "start_time": "2022-09-24T09:04:44.209Z"
   },
   {
    "duration": 108,
    "start_time": "2022-09-24T09:04:44.221Z"
   },
   {
    "duration": 9,
    "start_time": "2022-09-24T09:04:44.331Z"
   },
   {
    "duration": 8,
    "start_time": "2022-09-24T09:04:44.342Z"
   },
   {
    "duration": 7,
    "start_time": "2022-09-24T09:04:44.351Z"
   },
   {
    "duration": 6,
    "start_time": "2022-09-24T09:04:44.360Z"
   }
  ],
  "kernelspec": {
   "display_name": "Python 3 (ipykernel)",
   "language": "python",
   "name": "python3"
  },
  "language_info": {
   "codemirror_mode": {
    "name": "ipython",
    "version": 3
   },
   "file_extension": ".py",
   "mimetype": "text/x-python",
   "name": "python",
   "nbconvert_exporter": "python",
   "pygments_lexer": "ipython3",
   "version": "3.11.5"
  },
  "toc": {
   "base_numbering": 1,
   "nav_menu": {},
   "number_sections": true,
   "sideBar": true,
   "skip_h1_title": true,
   "title_cell": "Table of Contents",
   "title_sidebar": "Contents",
   "toc_cell": false,
   "toc_position": {},
   "toc_section_display": true,
   "toc_window_display": false
  }
 },
 "nbformat": 4,
 "nbformat_minor": 2
}
