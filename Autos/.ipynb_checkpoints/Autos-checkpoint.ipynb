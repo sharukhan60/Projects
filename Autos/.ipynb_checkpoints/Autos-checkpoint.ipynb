{
 "cells": [
  {
   "cell_type": "markdown",
   "metadata": {},
   "source": [
    "<div class=\"alert alert-block alert-info\">\n",
    "<b>V3 Комментарий ревьюера:</b>\n",
    "\n",
    "Привет! Можешь не подбирать гиперпараметры у LightGBM. Только для RandomForestRegressor\n",
    "\n",
    "Добавь пожалуйста анализ моделей (желательно все метрики занести в общую таблицу и показать), выбери одну модель и проведи на ней финальное тестирование.\n",
    "\n",
    "Удачи!)\n",
    "</div>"
   ]
  },
  {
   "cell_type": "markdown",
   "metadata": {},
   "source": [
    "<div class=\"alert alert-block alert-info\">\n",
    "<b>V2 Комментарий ревьюера:</b>\n",
    "\n",
    "Привет! Вторичные комментарии начинаю с V2\n",
    "\n",
    "Я исправил разбиение на выборки и кодирование признаков.\n",
    "\n",
    "Можешь обучить модели на новых выборках?) В анализе нужно учитывать как время обучения, так и время предсказания.\n",
    "\n",
    "Я там оставил подсказки. Удачи!\n",
    "</div>"
   ]
  },
  {
   "cell_type": "markdown",
   "metadata": {},
   "source": [
    "Привет! Как дела?) ☺️\n",
    "<br> Меня зовут Дуолан 👋 Буду проверять твой проект. Давай вместе доведем его до идеала 😉\n",
    "<br> Дальнейшее общение будет происходить на «ты», если это не вызывает никаких проблем.\n",
    "<br> Желательно реагировать на каждый мой комментарий («исправил», «не понятно как исправить ошибку», ...)\n",
    "<br> Пожалуйста, не удаляй мои комментарии, они будут необходимы для повторного ревью.\n",
    "\n",
    "Комментарии будут в <font color='green'>зеленой</font>, <font color='blue'>синей</font> или <font color='red'>красной</font> рамках:\n",
    "\n",
    "<div class=\"alert alert-block alert-success\">\n",
    "<b>✔️ Успех:</b> Если все сделано отлично\n",
    "</div>\n",
    "\n",
    "<div class=\"alert alert-block alert-warning\">\n",
    "<b>⚠️ Совет:</b> Если можно немного улучшить\n",
    "</div>\n",
    "\n",
    "<div class=\"alert alert-block alert-danger\">\n",
    "<b>❌ Замечание:</b> Если требуются исправления\n",
    "</div>\n",
    "\n",
    "Работа не может быть принята с красными комментариями.\n",
    "\n",
    "-------------------\n",
    "\n",
    "Будет очень хорошо, если ты будешь помечать свои действия следующим образом:\n",
    "\n",
    "<div class=\"alert alert-block alert-info\">\n",
    "<b>Комментарий студента:</b> ...\n",
    "</div>\n",
    "\n",
    "<div class=\"alert alert-block alert-info\">\n",
    "<b>Изменения:</b> Были внесены следующие изменения ...\n",
    "</div>"
   ]
  },
  {
   "cell_type": "markdown",
   "metadata": {},
   "source": [
    "# Определение стоимости автомобилей"
   ]
  },
  {
   "cell_type": "markdown",
   "metadata": {},
   "source": [
    "Сервис по продаже автомобилей с пробегом «Не бит, не крашен» разрабатывает приложение для привлечения новых клиентов. В нём можно быстро узнать рыночную стоимость своего автомобиля. В вашем распоряжении исторические данные: технические характеристики, комплектации и цены автомобилей. Вам нужно построить модель для определения стоимости. \n",
    "\n",
    "Заказчику важны:\n",
    "\n",
    "- качество предсказания;\n",
    "- скорость предсказания;\n",
    "- время обучения."
   ]
  },
  {
   "cell_type": "markdown",
   "metadata": {},
   "source": [
    "Нам нужно построить модель для определения рыночной стоимости автомобиля.\\\n",
    "Шаги:\\\n",
    "1)Загрузим данные.\\\n",
    "2)Изучим данные. Заполним пропущенные значения и обработаем аномалии в столбцах.\\\n",
    "3)Подготовим выборки для обучения моделей.\\\n",
    "4)Обучим разные модели, одна из которых — LightGBM, как минимум одна — не бустинг. \\\n",
    "5)Проанализируем качество моделей.\\\n",
    "6)Опираясь на критерии заказчика, выберем лучшую модель, проверим её качество на тестовой выборке."
   ]
  },
  {
   "cell_type": "markdown",
   "metadata": {},
   "source": [
    "<div class=\"alert alert-block alert-warning\">\n",
    "<b>⚠️ Совет:</b> \n",
    "\n",
    "Важно чтобы в проектах было подробное описание: когда потенциальные работодатели будут смотреть твой проект в портфолио, им нужно будет понимать задачу, чтобы можно было оценить её решение. Вот что можно добавить:\n",
    "    \n",
    "* Описание целей и задачи проекта\n",
    "* Описание данных\n",
    "* План работы\n",
    "\n",
    "И рекомендую писать введение от первого лица множественного числа. Так работа выглядит более самостоятельной)\n",
    "</div>"
   ]
  },
  {
   "cell_type": "markdown",
   "metadata": {},
   "source": [
    "## Подготовка данных"
   ]
  },
  {
   "cell_type": "code",
   "execution_count": 1,
   "metadata": {},
   "outputs": [],
   "source": [
    "import pandas as pd \n",
    "import matplotlib.pyplot as plt\n",
    "\n",
    "from sklearn.model_selection import train_test_split\n",
    "from sklearn.model_selection import GridSearchCV \n",
    "from sklearn.linear_model import LinearRegression\n",
    "from sklearn.metrics import mean_squared_error\n",
    "from sklearn.preprocessing import OrdinalEncoder\n",
    "from sklearn.preprocessing import StandardScaler\n",
    "from sklearn.ensemble import RandomForestClassifier\n",
    "\n",
    "import re\n"
   ]
  },
  {
   "cell_type": "markdown",
   "metadata": {},
   "source": [
    "Загрузим наши данные и проведем первичный анализ."
   ]
  },
  {
   "cell_type": "markdown",
   "metadata": {},
   "source": [
    "<div class=\"alert alert-block alert-warning\">\n",
    "<b>⚠️ Совет:</b>\n",
    "\n",
    "Можешь все импорты занести в эту ячейку?)\n",
    "</div>"
   ]
  },
  {
   "cell_type": "code",
   "execution_count": 2,
   "metadata": {},
   "outputs": [
    {
     "data": {
      "text/html": [
       "<div>\n",
       "<style scoped>\n",
       "    .dataframe tbody tr th:only-of-type {\n",
       "        vertical-align: middle;\n",
       "    }\n",
       "\n",
       "    .dataframe tbody tr th {\n",
       "        vertical-align: top;\n",
       "    }\n",
       "\n",
       "    .dataframe thead th {\n",
       "        text-align: right;\n",
       "    }\n",
       "</style>\n",
       "<table border=\"1\" class=\"dataframe\">\n",
       "  <thead>\n",
       "    <tr style=\"text-align: right;\">\n",
       "      <th></th>\n",
       "      <th>DateCrawled</th>\n",
       "      <th>Price</th>\n",
       "      <th>VehicleType</th>\n",
       "      <th>RegistrationYear</th>\n",
       "      <th>Gearbox</th>\n",
       "      <th>Power</th>\n",
       "      <th>Model</th>\n",
       "      <th>Kilometer</th>\n",
       "      <th>RegistrationMonth</th>\n",
       "      <th>FuelType</th>\n",
       "      <th>Brand</th>\n",
       "      <th>Repaired</th>\n",
       "      <th>DateCreated</th>\n",
       "      <th>NumberOfPictures</th>\n",
       "      <th>PostalCode</th>\n",
       "      <th>LastSeen</th>\n",
       "    </tr>\n",
       "  </thead>\n",
       "  <tbody>\n",
       "    <tr>\n",
       "      <th>0</th>\n",
       "      <td>2016-03-24 11:52:17</td>\n",
       "      <td>480</td>\n",
       "      <td>NaN</td>\n",
       "      <td>1993</td>\n",
       "      <td>manual</td>\n",
       "      <td>0</td>\n",
       "      <td>golf</td>\n",
       "      <td>150000</td>\n",
       "      <td>0</td>\n",
       "      <td>petrol</td>\n",
       "      <td>volkswagen</td>\n",
       "      <td>NaN</td>\n",
       "      <td>2016-03-24 00:00:00</td>\n",
       "      <td>0</td>\n",
       "      <td>70435</td>\n",
       "      <td>2016-04-07 03:16:57</td>\n",
       "    </tr>\n",
       "    <tr>\n",
       "      <th>1</th>\n",
       "      <td>2016-03-24 10:58:45</td>\n",
       "      <td>18300</td>\n",
       "      <td>coupe</td>\n",
       "      <td>2011</td>\n",
       "      <td>manual</td>\n",
       "      <td>190</td>\n",
       "      <td>NaN</td>\n",
       "      <td>125000</td>\n",
       "      <td>5</td>\n",
       "      <td>gasoline</td>\n",
       "      <td>audi</td>\n",
       "      <td>yes</td>\n",
       "      <td>2016-03-24 00:00:00</td>\n",
       "      <td>0</td>\n",
       "      <td>66954</td>\n",
       "      <td>2016-04-07 01:46:50</td>\n",
       "    </tr>\n",
       "    <tr>\n",
       "      <th>2</th>\n",
       "      <td>2016-03-14 12:52:21</td>\n",
       "      <td>9800</td>\n",
       "      <td>suv</td>\n",
       "      <td>2004</td>\n",
       "      <td>auto</td>\n",
       "      <td>163</td>\n",
       "      <td>grand</td>\n",
       "      <td>125000</td>\n",
       "      <td>8</td>\n",
       "      <td>gasoline</td>\n",
       "      <td>jeep</td>\n",
       "      <td>NaN</td>\n",
       "      <td>2016-03-14 00:00:00</td>\n",
       "      <td>0</td>\n",
       "      <td>90480</td>\n",
       "      <td>2016-04-05 12:47:46</td>\n",
       "    </tr>\n",
       "    <tr>\n",
       "      <th>3</th>\n",
       "      <td>2016-03-17 16:54:04</td>\n",
       "      <td>1500</td>\n",
       "      <td>small</td>\n",
       "      <td>2001</td>\n",
       "      <td>manual</td>\n",
       "      <td>75</td>\n",
       "      <td>golf</td>\n",
       "      <td>150000</td>\n",
       "      <td>6</td>\n",
       "      <td>petrol</td>\n",
       "      <td>volkswagen</td>\n",
       "      <td>no</td>\n",
       "      <td>2016-03-17 00:00:00</td>\n",
       "      <td>0</td>\n",
       "      <td>91074</td>\n",
       "      <td>2016-03-17 17:40:17</td>\n",
       "    </tr>\n",
       "    <tr>\n",
       "      <th>4</th>\n",
       "      <td>2016-03-31 17:25:20</td>\n",
       "      <td>3600</td>\n",
       "      <td>small</td>\n",
       "      <td>2008</td>\n",
       "      <td>manual</td>\n",
       "      <td>69</td>\n",
       "      <td>fabia</td>\n",
       "      <td>90000</td>\n",
       "      <td>7</td>\n",
       "      <td>gasoline</td>\n",
       "      <td>skoda</td>\n",
       "      <td>no</td>\n",
       "      <td>2016-03-31 00:00:00</td>\n",
       "      <td>0</td>\n",
       "      <td>60437</td>\n",
       "      <td>2016-04-06 10:17:21</td>\n",
       "    </tr>\n",
       "    <tr>\n",
       "      <th>5</th>\n",
       "      <td>2016-04-04 17:36:23</td>\n",
       "      <td>650</td>\n",
       "      <td>sedan</td>\n",
       "      <td>1995</td>\n",
       "      <td>manual</td>\n",
       "      <td>102</td>\n",
       "      <td>3er</td>\n",
       "      <td>150000</td>\n",
       "      <td>10</td>\n",
       "      <td>petrol</td>\n",
       "      <td>bmw</td>\n",
       "      <td>yes</td>\n",
       "      <td>2016-04-04 00:00:00</td>\n",
       "      <td>0</td>\n",
       "      <td>33775</td>\n",
       "      <td>2016-04-06 19:17:07</td>\n",
       "    </tr>\n",
       "    <tr>\n",
       "      <th>6</th>\n",
       "      <td>2016-04-01 20:48:51</td>\n",
       "      <td>2200</td>\n",
       "      <td>convertible</td>\n",
       "      <td>2004</td>\n",
       "      <td>manual</td>\n",
       "      <td>109</td>\n",
       "      <td>2_reihe</td>\n",
       "      <td>150000</td>\n",
       "      <td>8</td>\n",
       "      <td>petrol</td>\n",
       "      <td>peugeot</td>\n",
       "      <td>no</td>\n",
       "      <td>2016-04-01 00:00:00</td>\n",
       "      <td>0</td>\n",
       "      <td>67112</td>\n",
       "      <td>2016-04-05 18:18:39</td>\n",
       "    </tr>\n",
       "    <tr>\n",
       "      <th>7</th>\n",
       "      <td>2016-03-21 18:54:38</td>\n",
       "      <td>0</td>\n",
       "      <td>sedan</td>\n",
       "      <td>1980</td>\n",
       "      <td>manual</td>\n",
       "      <td>50</td>\n",
       "      <td>other</td>\n",
       "      <td>40000</td>\n",
       "      <td>7</td>\n",
       "      <td>petrol</td>\n",
       "      <td>volkswagen</td>\n",
       "      <td>no</td>\n",
       "      <td>2016-03-21 00:00:00</td>\n",
       "      <td>0</td>\n",
       "      <td>19348</td>\n",
       "      <td>2016-03-25 16:47:58</td>\n",
       "    </tr>\n",
       "    <tr>\n",
       "      <th>8</th>\n",
       "      <td>2016-04-04 23:42:13</td>\n",
       "      <td>14500</td>\n",
       "      <td>bus</td>\n",
       "      <td>2014</td>\n",
       "      <td>manual</td>\n",
       "      <td>125</td>\n",
       "      <td>c_max</td>\n",
       "      <td>30000</td>\n",
       "      <td>8</td>\n",
       "      <td>petrol</td>\n",
       "      <td>ford</td>\n",
       "      <td>NaN</td>\n",
       "      <td>2016-04-04 00:00:00</td>\n",
       "      <td>0</td>\n",
       "      <td>94505</td>\n",
       "      <td>2016-04-04 23:42:13</td>\n",
       "    </tr>\n",
       "    <tr>\n",
       "      <th>9</th>\n",
       "      <td>2016-03-17 10:53:50</td>\n",
       "      <td>999</td>\n",
       "      <td>small</td>\n",
       "      <td>1998</td>\n",
       "      <td>manual</td>\n",
       "      <td>101</td>\n",
       "      <td>golf</td>\n",
       "      <td>150000</td>\n",
       "      <td>0</td>\n",
       "      <td>NaN</td>\n",
       "      <td>volkswagen</td>\n",
       "      <td>NaN</td>\n",
       "      <td>2016-03-17 00:00:00</td>\n",
       "      <td>0</td>\n",
       "      <td>27472</td>\n",
       "      <td>2016-03-31 17:17:06</td>\n",
       "    </tr>\n",
       "  </tbody>\n",
       "</table>\n",
       "</div>"
      ],
      "text/plain": [
       "           DateCrawled  Price  VehicleType  RegistrationYear Gearbox  Power  \\\n",
       "0  2016-03-24 11:52:17    480          NaN              1993  manual      0   \n",
       "1  2016-03-24 10:58:45  18300        coupe              2011  manual    190   \n",
       "2  2016-03-14 12:52:21   9800          suv              2004    auto    163   \n",
       "3  2016-03-17 16:54:04   1500        small              2001  manual     75   \n",
       "4  2016-03-31 17:25:20   3600        small              2008  manual     69   \n",
       "5  2016-04-04 17:36:23    650        sedan              1995  manual    102   \n",
       "6  2016-04-01 20:48:51   2200  convertible              2004  manual    109   \n",
       "7  2016-03-21 18:54:38      0        sedan              1980  manual     50   \n",
       "8  2016-04-04 23:42:13  14500          bus              2014  manual    125   \n",
       "9  2016-03-17 10:53:50    999        small              1998  manual    101   \n",
       "\n",
       "     Model  Kilometer  RegistrationMonth  FuelType       Brand Repaired  \\\n",
       "0     golf     150000                  0    petrol  volkswagen      NaN   \n",
       "1      NaN     125000                  5  gasoline        audi      yes   \n",
       "2    grand     125000                  8  gasoline        jeep      NaN   \n",
       "3     golf     150000                  6    petrol  volkswagen       no   \n",
       "4    fabia      90000                  7  gasoline       skoda       no   \n",
       "5      3er     150000                 10    petrol         bmw      yes   \n",
       "6  2_reihe     150000                  8    petrol     peugeot       no   \n",
       "7    other      40000                  7    petrol  volkswagen       no   \n",
       "8    c_max      30000                  8    petrol        ford      NaN   \n",
       "9     golf     150000                  0       NaN  volkswagen      NaN   \n",
       "\n",
       "           DateCreated  NumberOfPictures  PostalCode             LastSeen  \n",
       "0  2016-03-24 00:00:00                 0       70435  2016-04-07 03:16:57  \n",
       "1  2016-03-24 00:00:00                 0       66954  2016-04-07 01:46:50  \n",
       "2  2016-03-14 00:00:00                 0       90480  2016-04-05 12:47:46  \n",
       "3  2016-03-17 00:00:00                 0       91074  2016-03-17 17:40:17  \n",
       "4  2016-03-31 00:00:00                 0       60437  2016-04-06 10:17:21  \n",
       "5  2016-04-04 00:00:00                 0       33775  2016-04-06 19:17:07  \n",
       "6  2016-04-01 00:00:00                 0       67112  2016-04-05 18:18:39  \n",
       "7  2016-03-21 00:00:00                 0       19348  2016-03-25 16:47:58  \n",
       "8  2016-04-04 00:00:00                 0       94505  2016-04-04 23:42:13  \n",
       "9  2016-03-17 00:00:00                 0       27472  2016-03-31 17:17:06  "
      ]
     },
     "metadata": {},
     "output_type": "display_data"
    }
   ],
   "source": [
    "data = pd.read_csv('C://Users/gadji/Проекты/Autos/autos.csv')\n",
    "display(data.head(10))"
   ]
  },
  {
   "cell_type": "code",
   "execution_count": 3,
   "metadata": {},
   "outputs": [
    {
     "data": {
      "text/plain": [
       "Index(['date_crawled', 'price', 'vehicle_type', 'registration_year', 'gearbox',\n",
       "       'power', 'model', 'kilometer', 'registration_month', 'fuel_type',\n",
       "       'brand', 'repaired', 'date_created', 'number_of_pictures',\n",
       "       'postal_code', 'last_seen'],\n",
       "      dtype='object')"
      ]
     },
     "execution_count": 3,
     "metadata": {},
     "output_type": "execute_result"
    }
   ],
   "source": [
    "# Преобразование названий столбцов в snake_case\n",
    "data.columns = [''.join(['_'+ c.lower() if c.isupper() else c for c in col]).lstrip('_') for col in data.columns]\n",
    "data.columns"
   ]
  },
  {
   "cell_type": "markdown",
   "metadata": {},
   "source": [
    "В наших данных целевая переменая - price(цена автомобиля). Как мы можем заметить, имеются пропуски в VehicleType(тип автомобиля), Model(модель автомобиля), и в признаке Repaired(\"битый\" автомобиль).\n",
    "Кроме того, для признака power(мощность автомобиля) есть странное значение 0, у автомобиля не может быть нулевой мощности.\n",
    "Исследуем наши данные подробнее на пропуски, дубликаты и выбросы(аномалии)."
   ]
  },
  {
   "cell_type": "code",
   "execution_count": 4,
   "metadata": {},
   "outputs": [
    {
     "data": {
      "text/plain": [
       "date_crawled           0.000000\n",
       "price                  0.000000\n",
       "vehicle_type          11.831014\n",
       "registration_year      0.000000\n",
       "gearbox                5.928510\n",
       "power                  0.000000\n",
       "model                  5.887995\n",
       "kilometer              0.000000\n",
       "registration_month     0.000000\n",
       "fuel_type             10.232554\n",
       "brand                  0.000000\n",
       "repaired              25.123669\n",
       "date_created           0.000000\n",
       "number_of_pictures     0.000000\n",
       "postal_code            0.000000\n",
       "last_seen              0.000000\n",
       "dtype: float64"
      ]
     },
     "execution_count": 4,
     "metadata": {},
     "output_type": "execute_result"
    }
   ],
   "source": [
    "data.isna().sum() / data.count() * 100"
   ]
  },
  {
   "cell_type": "markdown",
   "metadata": {},
   "source": [
    "В наших данных много пропусков (vehicle_type, gearbox, model, fuel_type, repaired), чтобы не потерять информативности заполним их.\\\n",
    "Рассмотрим признак VehicleType подробнее."
   ]
  },
  {
   "cell_type": "code",
   "execution_count": 5,
   "metadata": {},
   "outputs": [
    {
     "data": {
      "text/plain": [
       "vehicle_type\n",
       "sedan          91457\n",
       "small          79831\n",
       "wagon          65166\n",
       "bus            28775\n",
       "convertible    20203\n",
       "coupe          16163\n",
       "suv            11996\n",
       "other           3288\n",
       "Name: count, dtype: int64"
      ]
     },
     "execution_count": 5,
     "metadata": {},
     "output_type": "execute_result"
    }
   ],
   "source": [
    "data['vehicle_type'].value_counts()"
   ]
  },
  {
   "cell_type": "markdown",
   "metadata": {},
   "source": [
    "Как мы можем заметить, разница между первыми 3 позициями не сильно большая, а значит заполнить пропуски наиболее популярными будет неверным решением. Пропуски в данном случае неочевидны. Тогда заполним их значением заглушкой \"unknown\".\\\n",
    "Так же поступим и с пропусками для признака model."
   ]
  },
  {
   "cell_type": "code",
   "execution_count": 6,
   "metadata": {},
   "outputs": [],
   "source": [
    "data[['model', 'vehicle_type']] = data[['model', 'vehicle_type']].fillna('unknown')"
   ]
  },
  {
   "cell_type": "markdown",
   "metadata": {},
   "source": [
    "Пропуски в оставшихся признаках скорее всего подзразумевают стандартное, очевидное заполнение.\\\n",
    "Так, для признака gearbox - это механическая коробка передач(manual). Большинство машин на механической коробке передач.\\ \n",
    "Для признака fuel_type - 'fueltype'. Большинство машин выпускают изначально на бензиновом топливе.\\\n",
    "Для признака not_repaired - no. Скорее всего, пропуск означает, что машина не попадала в аварии."
   ]
  },
  {
   "cell_type": "code",
   "execution_count": 7,
   "metadata": {},
   "outputs": [],
   "source": [
    "data['gearbox'] = data['gearbox'].fillna('manual')\n",
    "data['fuel_type'] = data['fuel_type'].fillna('petrol')\n",
    "data['repaired'] = data['repaired'].fillna('no')"
   ]
  },
  {
   "cell_type": "code",
   "execution_count": 8,
   "metadata": {},
   "outputs": [
    {
     "data": {
      "text/html": [
       "<div>\n",
       "<style scoped>\n",
       "    .dataframe tbody tr th:only-of-type {\n",
       "        vertical-align: middle;\n",
       "    }\n",
       "\n",
       "    .dataframe tbody tr th {\n",
       "        vertical-align: top;\n",
       "    }\n",
       "\n",
       "    .dataframe thead th {\n",
       "        text-align: right;\n",
       "    }\n",
       "</style>\n",
       "<table border=\"1\" class=\"dataframe\">\n",
       "  <thead>\n",
       "    <tr style=\"text-align: right;\">\n",
       "      <th></th>\n",
       "      <th>date_crawled</th>\n",
       "      <th>price</th>\n",
       "      <th>vehicle_type</th>\n",
       "      <th>registration_year</th>\n",
       "      <th>gearbox</th>\n",
       "      <th>power</th>\n",
       "      <th>model</th>\n",
       "      <th>kilometer</th>\n",
       "      <th>registration_month</th>\n",
       "      <th>fuel_type</th>\n",
       "      <th>brand</th>\n",
       "      <th>repaired</th>\n",
       "      <th>date_created</th>\n",
       "      <th>number_of_pictures</th>\n",
       "      <th>postal_code</th>\n",
       "      <th>last_seen</th>\n",
       "    </tr>\n",
       "  </thead>\n",
       "  <tbody>\n",
       "    <tr>\n",
       "      <th>0</th>\n",
       "      <td>2016-03-24 11:52:17</td>\n",
       "      <td>480</td>\n",
       "      <td>unknown</td>\n",
       "      <td>1993</td>\n",
       "      <td>manual</td>\n",
       "      <td>0</td>\n",
       "      <td>golf</td>\n",
       "      <td>150000</td>\n",
       "      <td>0</td>\n",
       "      <td>petrol</td>\n",
       "      <td>volkswagen</td>\n",
       "      <td>no</td>\n",
       "      <td>2016-03-24 00:00:00</td>\n",
       "      <td>0</td>\n",
       "      <td>70435</td>\n",
       "      <td>2016-04-07 03:16:57</td>\n",
       "    </tr>\n",
       "    <tr>\n",
       "      <th>1</th>\n",
       "      <td>2016-03-24 10:58:45</td>\n",
       "      <td>18300</td>\n",
       "      <td>coupe</td>\n",
       "      <td>2011</td>\n",
       "      <td>manual</td>\n",
       "      <td>190</td>\n",
       "      <td>unknown</td>\n",
       "      <td>125000</td>\n",
       "      <td>5</td>\n",
       "      <td>gasoline</td>\n",
       "      <td>audi</td>\n",
       "      <td>yes</td>\n",
       "      <td>2016-03-24 00:00:00</td>\n",
       "      <td>0</td>\n",
       "      <td>66954</td>\n",
       "      <td>2016-04-07 01:46:50</td>\n",
       "    </tr>\n",
       "    <tr>\n",
       "      <th>2</th>\n",
       "      <td>2016-03-14 12:52:21</td>\n",
       "      <td>9800</td>\n",
       "      <td>suv</td>\n",
       "      <td>2004</td>\n",
       "      <td>auto</td>\n",
       "      <td>163</td>\n",
       "      <td>grand</td>\n",
       "      <td>125000</td>\n",
       "      <td>8</td>\n",
       "      <td>gasoline</td>\n",
       "      <td>jeep</td>\n",
       "      <td>no</td>\n",
       "      <td>2016-03-14 00:00:00</td>\n",
       "      <td>0</td>\n",
       "      <td>90480</td>\n",
       "      <td>2016-04-05 12:47:46</td>\n",
       "    </tr>\n",
       "    <tr>\n",
       "      <th>3</th>\n",
       "      <td>2016-03-17 16:54:04</td>\n",
       "      <td>1500</td>\n",
       "      <td>small</td>\n",
       "      <td>2001</td>\n",
       "      <td>manual</td>\n",
       "      <td>75</td>\n",
       "      <td>golf</td>\n",
       "      <td>150000</td>\n",
       "      <td>6</td>\n",
       "      <td>petrol</td>\n",
       "      <td>volkswagen</td>\n",
       "      <td>no</td>\n",
       "      <td>2016-03-17 00:00:00</td>\n",
       "      <td>0</td>\n",
       "      <td>91074</td>\n",
       "      <td>2016-03-17 17:40:17</td>\n",
       "    </tr>\n",
       "    <tr>\n",
       "      <th>4</th>\n",
       "      <td>2016-03-31 17:25:20</td>\n",
       "      <td>3600</td>\n",
       "      <td>small</td>\n",
       "      <td>2008</td>\n",
       "      <td>manual</td>\n",
       "      <td>69</td>\n",
       "      <td>fabia</td>\n",
       "      <td>90000</td>\n",
       "      <td>7</td>\n",
       "      <td>gasoline</td>\n",
       "      <td>skoda</td>\n",
       "      <td>no</td>\n",
       "      <td>2016-03-31 00:00:00</td>\n",
       "      <td>0</td>\n",
       "      <td>60437</td>\n",
       "      <td>2016-04-06 10:17:21</td>\n",
       "    </tr>\n",
       "    <tr>\n",
       "      <th>...</th>\n",
       "      <td>...</td>\n",
       "      <td>...</td>\n",
       "      <td>...</td>\n",
       "      <td>...</td>\n",
       "      <td>...</td>\n",
       "      <td>...</td>\n",
       "      <td>...</td>\n",
       "      <td>...</td>\n",
       "      <td>...</td>\n",
       "      <td>...</td>\n",
       "      <td>...</td>\n",
       "      <td>...</td>\n",
       "      <td>...</td>\n",
       "      <td>...</td>\n",
       "      <td>...</td>\n",
       "      <td>...</td>\n",
       "    </tr>\n",
       "    <tr>\n",
       "      <th>354364</th>\n",
       "      <td>2016-03-21 09:50:58</td>\n",
       "      <td>0</td>\n",
       "      <td>unknown</td>\n",
       "      <td>2005</td>\n",
       "      <td>manual</td>\n",
       "      <td>0</td>\n",
       "      <td>colt</td>\n",
       "      <td>150000</td>\n",
       "      <td>7</td>\n",
       "      <td>petrol</td>\n",
       "      <td>mitsubishi</td>\n",
       "      <td>yes</td>\n",
       "      <td>2016-03-21 00:00:00</td>\n",
       "      <td>0</td>\n",
       "      <td>2694</td>\n",
       "      <td>2016-03-21 10:42:49</td>\n",
       "    </tr>\n",
       "    <tr>\n",
       "      <th>354365</th>\n",
       "      <td>2016-03-14 17:48:27</td>\n",
       "      <td>2200</td>\n",
       "      <td>unknown</td>\n",
       "      <td>2005</td>\n",
       "      <td>manual</td>\n",
       "      <td>0</td>\n",
       "      <td>unknown</td>\n",
       "      <td>20000</td>\n",
       "      <td>1</td>\n",
       "      <td>petrol</td>\n",
       "      <td>sonstige_autos</td>\n",
       "      <td>no</td>\n",
       "      <td>2016-03-14 00:00:00</td>\n",
       "      <td>0</td>\n",
       "      <td>39576</td>\n",
       "      <td>2016-04-06 00:46:52</td>\n",
       "    </tr>\n",
       "    <tr>\n",
       "      <th>354366</th>\n",
       "      <td>2016-03-05 19:56:21</td>\n",
       "      <td>1199</td>\n",
       "      <td>convertible</td>\n",
       "      <td>2000</td>\n",
       "      <td>auto</td>\n",
       "      <td>101</td>\n",
       "      <td>fortwo</td>\n",
       "      <td>125000</td>\n",
       "      <td>3</td>\n",
       "      <td>petrol</td>\n",
       "      <td>smart</td>\n",
       "      <td>no</td>\n",
       "      <td>2016-03-05 00:00:00</td>\n",
       "      <td>0</td>\n",
       "      <td>26135</td>\n",
       "      <td>2016-03-11 18:17:12</td>\n",
       "    </tr>\n",
       "    <tr>\n",
       "      <th>354367</th>\n",
       "      <td>2016-03-19 18:57:12</td>\n",
       "      <td>9200</td>\n",
       "      <td>bus</td>\n",
       "      <td>1996</td>\n",
       "      <td>manual</td>\n",
       "      <td>102</td>\n",
       "      <td>transporter</td>\n",
       "      <td>150000</td>\n",
       "      <td>3</td>\n",
       "      <td>gasoline</td>\n",
       "      <td>volkswagen</td>\n",
       "      <td>no</td>\n",
       "      <td>2016-03-19 00:00:00</td>\n",
       "      <td>0</td>\n",
       "      <td>87439</td>\n",
       "      <td>2016-04-07 07:15:26</td>\n",
       "    </tr>\n",
       "    <tr>\n",
       "      <th>354368</th>\n",
       "      <td>2016-03-20 19:41:08</td>\n",
       "      <td>3400</td>\n",
       "      <td>wagon</td>\n",
       "      <td>2002</td>\n",
       "      <td>manual</td>\n",
       "      <td>100</td>\n",
       "      <td>golf</td>\n",
       "      <td>150000</td>\n",
       "      <td>6</td>\n",
       "      <td>gasoline</td>\n",
       "      <td>volkswagen</td>\n",
       "      <td>no</td>\n",
       "      <td>2016-03-20 00:00:00</td>\n",
       "      <td>0</td>\n",
       "      <td>40764</td>\n",
       "      <td>2016-03-24 12:45:21</td>\n",
       "    </tr>\n",
       "  </tbody>\n",
       "</table>\n",
       "<p>354369 rows × 16 columns</p>\n",
       "</div>"
      ],
      "text/plain": [
       "               date_crawled  price vehicle_type  registration_year gearbox  \\\n",
       "0       2016-03-24 11:52:17    480      unknown               1993  manual   \n",
       "1       2016-03-24 10:58:45  18300        coupe               2011  manual   \n",
       "2       2016-03-14 12:52:21   9800          suv               2004    auto   \n",
       "3       2016-03-17 16:54:04   1500        small               2001  manual   \n",
       "4       2016-03-31 17:25:20   3600        small               2008  manual   \n",
       "...                     ...    ...          ...                ...     ...   \n",
       "354364  2016-03-21 09:50:58      0      unknown               2005  manual   \n",
       "354365  2016-03-14 17:48:27   2200      unknown               2005  manual   \n",
       "354366  2016-03-05 19:56:21   1199  convertible               2000    auto   \n",
       "354367  2016-03-19 18:57:12   9200          bus               1996  manual   \n",
       "354368  2016-03-20 19:41:08   3400        wagon               2002  manual   \n",
       "\n",
       "        power        model  kilometer  registration_month fuel_type  \\\n",
       "0           0         golf     150000                   0    petrol   \n",
       "1         190      unknown     125000                   5  gasoline   \n",
       "2         163        grand     125000                   8  gasoline   \n",
       "3          75         golf     150000                   6    petrol   \n",
       "4          69        fabia      90000                   7  gasoline   \n",
       "...       ...          ...        ...                 ...       ...   \n",
       "354364      0         colt     150000                   7    petrol   \n",
       "354365      0      unknown      20000                   1    petrol   \n",
       "354366    101       fortwo     125000                   3    petrol   \n",
       "354367    102  transporter     150000                   3  gasoline   \n",
       "354368    100         golf     150000                   6  gasoline   \n",
       "\n",
       "                 brand repaired         date_created  number_of_pictures  \\\n",
       "0           volkswagen       no  2016-03-24 00:00:00                   0   \n",
       "1                 audi      yes  2016-03-24 00:00:00                   0   \n",
       "2                 jeep       no  2016-03-14 00:00:00                   0   \n",
       "3           volkswagen       no  2016-03-17 00:00:00                   0   \n",
       "4                skoda       no  2016-03-31 00:00:00                   0   \n",
       "...                ...      ...                  ...                 ...   \n",
       "354364      mitsubishi      yes  2016-03-21 00:00:00                   0   \n",
       "354365  sonstige_autos       no  2016-03-14 00:00:00                   0   \n",
       "354366           smart       no  2016-03-05 00:00:00                   0   \n",
       "354367      volkswagen       no  2016-03-19 00:00:00                   0   \n",
       "354368      volkswagen       no  2016-03-20 00:00:00                   0   \n",
       "\n",
       "        postal_code            last_seen  \n",
       "0             70435  2016-04-07 03:16:57  \n",
       "1             66954  2016-04-07 01:46:50  \n",
       "2             90480  2016-04-05 12:47:46  \n",
       "3             91074  2016-03-17 17:40:17  \n",
       "4             60437  2016-04-06 10:17:21  \n",
       "...             ...                  ...  \n",
       "354364         2694  2016-03-21 10:42:49  \n",
       "354365        39576  2016-04-06 00:46:52  \n",
       "354366        26135  2016-03-11 18:17:12  \n",
       "354367        87439  2016-04-07 07:15:26  \n",
       "354368        40764  2016-03-24 12:45:21  \n",
       "\n",
       "[354369 rows x 16 columns]"
      ]
     },
     "execution_count": 8,
     "metadata": {},
     "output_type": "execute_result"
    }
   ],
   "source": [
    "data"
   ]
  },
  {
   "cell_type": "code",
   "execution_count": null,
   "metadata": {},
   "outputs": [],
   "source": [
    "print(data['registrationyear'].unique())\n",
    "print(data['power'].sort_values(ascending=False).unique())\n",
    "data = data.query('registrationyear < 2017 and registrationyear > 1960')\n",
    "data = data.drop_duplicates().reset_index(drop=True)\n",
    "data = data.query('power > 50 and power < 2028')"
   ]
  },
  {
   "cell_type": "markdown",
   "metadata": {},
   "source": [
    "<div class=\"alert alert-block alert-info\">\n",
    "<b>Комментарий студента:</b> Как мы можем заметить в столбцах power и registrationyear есть аномалии избавимся от них. Год регистрации ограничим снизу 1960 годом а сверзу 2016.Мощность снизу 50 а сверху 2028(максимальная мощность машины на данный момент).\n",
    "</div>"
   ]
  },
  {
   "cell_type": "code",
   "execution_count": null,
   "metadata": {},
   "outputs": [],
   "source": [
    "print(data['price'].sort_values(ascending=False).unique())\n",
    "data = data.query('price > 150')"
   ]
  },
  {
   "cell_type": "markdown",
   "metadata": {},
   "source": [
    "<div class=\"alert alert-block alert-info\">\n",
    "<b>Комментарий студента:</b> Удалим  значения меньшие 150 в столбце price,ведь цена ниже может быть только на металлолом.\n",
    "</div>"
   ]
  },
  {
   "cell_type": "code",
   "execution_count": null,
   "metadata": {},
   "outputs": [],
   "source": [
    "# код ревьюера\n",
    "\n",
    "data.info()"
   ]
  },
  {
   "cell_type": "code",
   "execution_count": null,
   "metadata": {},
   "outputs": [],
   "source": [
    "features = data.drop(['price','datecrawled','datecreated','lastseen','postalcode','numberofpictures','registrationmonth'],axis=1)\n",
    "target = data['price']"
   ]
  },
  {
   "cell_type": "markdown",
   "metadata": {},
   "source": [
    "<div class=\"alert alert-block alert-success\">\n",
    "<b>✔️ Успех:</b>\n",
    "\n",
    "Удалить неинформативные признаки - хорошее решение 👍\n",
    "</div>"
   ]
  },
  {
   "cell_type": "markdown",
   "metadata": {},
   "source": [
    "<div class=\"alert alert-block alert-warning\">\n",
    "<b>⚠️ Совет:</b>\n",
    "\n",
    "Месяц регистрации тоже не относится к важным признакам\n",
    "</div>"
   ]
  },
  {
   "cell_type": "markdown",
   "metadata": {},
   "source": [
    "<div class=\"alert alert-block alert-warning\">\n",
    "<b>⚠️ Совет:</b>\n",
    "\n",
    "Стоит проверить данные на наличие дубликатов\n",
    "</div>"
   ]
  },
  {
   "cell_type": "markdown",
   "metadata": {},
   "source": [
    "<div class=\"alert alert-block alert-danger\">\n",
    "<b>❌ Замечание:</b>\n",
    "\n",
    "Нужно проверить данные на аномалии.\n",
    "\n",
    "1. Год регистрации нужно ограничить сверху 2016 годом. Максимальный год — дата скачивания анкеты 2016.\n",
    "2. В признаке 'power' есть выбросы и аномалии. Мощность можно ограничить максимальной и минимальной приемлемыми значениями\n",
    "3. Присутствуют нулевые значения в признаке price. Цена не может быть нулевой, к тому же это целевой признак. Самое интересное, что на нескольких сайтах по продаже подержанных автомобилей в Германии (страну можно определить по почтовым индексам, большинство из них из Германии) показало, что цены, действительно, начинаются с 0 и 1 евро, но это единичные объявления. Не понятно, то ли это ошибка при заполнении формы, то ли машины на металлолом. Но я все-таки склоняюсь к тому, чтобы избавиться от таких данных.\n",
    "</div>"
   ]
  },
  {
   "cell_type": "markdown",
   "metadata": {},
   "source": [
    "<div class=\"alert alert-block alert-success\">\n",
    "<b>V2 ✔️ Успешно исправлено</b>\n",
    "</div>"
   ]
  },
  {
   "cell_type": "markdown",
   "metadata": {},
   "source": [
    "## Обучение моделей"
   ]
  },
  {
   "cell_type": "markdown",
   "metadata": {},
   "source": [
    "<div class=\"alert alert-block alert-success\">\n",
    "<b>✔️ Успех:</b>\n",
    "\n",
    "Для моделей, основанных на деревьях решений, порядковое кодирование отлично подойдет 👍\n",
    "</div>"
   ]
  },
  {
   "cell_type": "markdown",
   "metadata": {},
   "source": [
    "<div class=\"alert alert-block alert-warning\">\n",
    "<b>⚠️ Совет:</b>\n",
    "\n",
    "Кодировать данные стоит после разбиения. Так у нас не будет утечки данных.\n",
    "</div>"
   ]
  },
  {
   "cell_type": "code",
   "execution_count": null,
   "metadata": {},
   "outputs": [],
   "source": [
    "features_train, features_valid,target_train,target_valid = train_test_split(features,target,test_size=0.4,random_state=12345)\n",
    "features_valid,features_test,target_valid,target_test = train_test_split(features_valid,target_valid,test_size = 0.5,random_state=12345)"
   ]
  },
  {
   "cell_type": "markdown",
   "metadata": {},
   "source": [
    "<div class=\"alert alert-block alert-success\">\n",
    "<b>✔️ Успех:</b> \n",
    "\n",
    "Данные поделены верно, пропорции выбраны адекватные 👍\n",
    "</div>"
   ]
  },
  {
   "cell_type": "code",
   "execution_count": null,
   "metadata": {
    "scrolled": false
   },
   "outputs": [],
   "source": [
    "display(features_train)"
   ]
  },
  {
   "cell_type": "code",
   "execution_count": null,
   "metadata": {},
   "outputs": [],
   "source": [
    "# код ревьюера\n",
    "\n",
    "features_train_ohe = pd.get_dummies(features_train, drop_first=True)\n",
    "features_valid_ohe = pd.get_dummies(features_valid, drop_first=True)\n",
    "features_test_ohe = pd.get_dummies(features_test, drop_first=True)"
   ]
  },
  {
   "cell_type": "code",
   "execution_count": null,
   "metadata": {},
   "outputs": [],
   "source": [
    "# код ревьюера\n",
    "\n",
    "features_train_ohe.shape, features_valid_ohe.shape, features_test_ohe.shape"
   ]
  },
  {
   "cell_type": "markdown",
   "metadata": {},
   "source": [
    "<div class=\"alert alert-block alert-info\">\n",
    "<b>V2 Комментарий ревьюера:</b>\n",
    "\n",
    "На валидационной выборке получилось на один признак меньше. Сейчас проведу проверку на лишние признаки и удалю их\n",
    "</div>"
   ]
  },
  {
   "cell_type": "code",
   "execution_count": null,
   "metadata": {},
   "outputs": [],
   "source": [
    "# код ревьюера\n",
    "\n",
    "for col in features_train_ohe.columns.to_list():\n",
    "    if col not in features_valid_ohe.columns.to_list():\n",
    "        print(col)"
   ]
  },
  {
   "cell_type": "code",
   "execution_count": null,
   "metadata": {},
   "outputs": [],
   "source": [
    "# код ревьюера\n",
    "\n",
    "del features_train_ohe['model_kalina']\n",
    "del features_train_ohe['model_serie_2']\n",
    "del features_train_ohe['brand_trabant']"
   ]
  },
  {
   "cell_type": "code",
   "execution_count": null,
   "metadata": {},
   "outputs": [],
   "source": [
    "# код ревьюера\n",
    "\n",
    "for col in features_train_ohe.columns.to_list():\n",
    "    if col not in features_test_ohe.columns.to_list():\n",
    "        print(col)"
   ]
  },
  {
   "cell_type": "code",
   "execution_count": null,
   "metadata": {},
   "outputs": [],
   "source": [
    "# код ревьюера\n",
    "\n",
    "del features_train_ohe['model_samara']\n",
    "del features_train_ohe['model_serie_3']"
   ]
  },
  {
   "cell_type": "code",
   "execution_count": null,
   "metadata": {},
   "outputs": [],
   "source": [
    "# код ревьюера\n",
    "\n",
    "for col in features_valid_ohe.columns.to_list():\n",
    "    if col not in features_train_ohe.columns.to_list():\n",
    "        print(col)"
   ]
  },
  {
   "cell_type": "code",
   "execution_count": null,
   "metadata": {},
   "outputs": [],
   "source": [
    "# код ревьюера\n",
    "\n",
    "del features_valid_ohe['model_range_rover_evoque']\n",
    "del features_valid_ohe['model_rangerover']\n",
    "del features_valid_ohe['model_samara']\n",
    "del features_valid_ohe['model_serie_3']"
   ]
  },
  {
   "cell_type": "code",
   "execution_count": null,
   "metadata": {},
   "outputs": [],
   "source": [
    "# код ревьюера\n",
    "\n",
    "for col in features_valid_ohe.columns.to_list():\n",
    "    if col not in features_test_ohe.columns.to_list():\n",
    "        print(col)"
   ]
  },
  {
   "cell_type": "code",
   "execution_count": null,
   "metadata": {},
   "outputs": [],
   "source": [
    "# код ревьюера\n",
    "\n",
    "for col in features_test_ohe.columns.to_list():\n",
    "    if col not in features_train_ohe.columns.to_list():\n",
    "        print(col)"
   ]
  },
  {
   "cell_type": "code",
   "execution_count": null,
   "metadata": {},
   "outputs": [],
   "source": [
    "# код ревьюера\n",
    "\n",
    "del features_test_ohe['model_kalina']\n",
    "del features_test_ohe['model_range_rover_evoque']\n",
    "del features_test_ohe['model_rangerover']\n",
    "del features_test_ohe['model_serie_2']\n",
    "del features_test_ohe['brand_trabant']"
   ]
  },
  {
   "cell_type": "code",
   "execution_count": null,
   "metadata": {},
   "outputs": [],
   "source": [
    "# код ревьюера\n",
    "\n",
    "for col in features_test_ohe.columns.to_list():\n",
    "    if col not in features_valid_ohe.columns.to_list():\n",
    "        print(col)"
   ]
  },
  {
   "cell_type": "markdown",
   "metadata": {},
   "source": [
    "<div class=\"alert alert-block alert-info\">\n",
    "<b>V2 Комментарий ревьюера:</b>\n",
    "\n",
    "Теперь нужно стандартизировать численные признаки\n",
    "</div>"
   ]
  },
  {
   "cell_type": "code",
   "execution_count": null,
   "metadata": {},
   "outputs": [],
   "source": [
    "features_train_ohe.head()"
   ]
  },
  {
   "cell_type": "code",
   "execution_count": null,
   "metadata": {},
   "outputs": [],
   "source": [
    "scaler = StandardScaler()\n",
    "numeric = ['registrationyear', 'power', 'kilometer']\n",
    "\n",
    "scaler.fit(features_train_ohe[numeric])\n",
    "\n",
    "features_train_ohe[numeric] = scaler.transform(features_train_ohe[numeric])\n",
    "features_valid_ohe[numeric] = scaler.transform(features_valid_ohe[numeric])\n",
    "features_test_ohe[numeric] = scaler.transform(features_test_ohe[numeric])"
   ]
  },
  {
   "cell_type": "code",
   "execution_count": null,
   "metadata": {},
   "outputs": [],
   "source": [
    "features_train_ohe.head()"
   ]
  },
  {
   "cell_type": "code",
   "execution_count": null,
   "metadata": {},
   "outputs": [],
   "source": [
    "#features_train = pd.get_dummies(features_train,drop_first=True)\n",
    "#features_valid = pd.get_dummies(features_valid,drop_first=True)\n",
    "#features_test = pd.get_dummies(features_test,drop_first=True)\n",
    "#object = StandardScaler()\n",
    "#features_train1 = object.fit_transform(features_train)\n",
    "#features_valid1 = object.fit_transform(features_valid)\n",
    "#features_test1 = object.fit_transform(features_test)"
   ]
  },
  {
   "cell_type": "markdown",
   "metadata": {},
   "source": [
    "<div class=\"alert alert-block alert-info\">\n",
    "<b>Комментарий студента:</b> Когда примения стандартизацию получается вектор, а не таблица и при предсказании модели выдает ошибку(matmul: Input operand 1 has a mismatch in its core dimension 0, with gufunc signature (n?,k),(k,m?)->(n?,m?) (size 304 is different from 303))\n",
    "</div>"
   ]
  },
  {
   "cell_type": "code",
   "execution_count": null,
   "metadata": {},
   "outputs": [],
   "source": [
    "#model = LinearRegression()\n",
    "#model.fit(features_train,target_train)\n",
    "#predictions = model.predict(features_valid)\n",
    "#print(mean_squared_error(target_valid,predictions) ** 0.5)"
   ]
  },
  {
   "cell_type": "code",
   "execution_count": null,
   "metadata": {},
   "outputs": [],
   "source": [
    "#features_train, features_valid,target_train,target_valid = train_test_split(features,target,test_size=0.4,random_state=12345)\n",
    "#features_valid,features_test,target_valid,target_test = train_test_split(features_valid,target_valid,test_size = 0.5,random_state=12345)"
   ]
  },
  {
   "cell_type": "code",
   "execution_count": null,
   "metadata": {},
   "outputs": [],
   "source": [
    "#encoder = OrdinalEncoder()\n",
    "#def encod(features):\n",
    "#    features = pd.DataFrame(encoder.fit_transform(features),columns=features.columns)\n",
    "#    features = features.astype('int')\n",
    "#    return features"
   ]
  },
  {
   "cell_type": "code",
   "execution_count": null,
   "metadata": {},
   "outputs": [],
   "source": [
    "#features_train = encod(features_train)\n",
    "#features_valid = encod(features_valid)\n",
    "#features_test = encod(features_test)"
   ]
  },
  {
   "cell_type": "code",
   "execution_count": null,
   "metadata": {},
   "outputs": [],
   "source": [
    "#features_train"
   ]
  },
  {
   "cell_type": "code",
   "execution_count": null,
   "metadata": {},
   "outputs": [],
   "source": [
    "# код ревьюера\n",
    "\n",
    "features_train.head()"
   ]
  },
  {
   "cell_type": "code",
   "execution_count": null,
   "metadata": {},
   "outputs": [],
   "source": [
    "# код ревьюера\n",
    "\n",
    "encoder = OrdinalEncoder()\n",
    "cat_col = ['vehicletype', 'gearbox', 'model', 'fueltype', 'brand', 'notrepaired']\n",
    "\n",
    "features_train_oe = features_train.copy()\n",
    "features_valid_oe = features_valid.copy()\n",
    "features_test_oe = features_test.copy()\n",
    "\n",
    "features_train_oe[cat_col] = encoder.fit_transform(features_train_oe[cat_col])\n",
    "features_valid_oe[cat_col] = encoder.fit_transform(features_valid_oe[cat_col])\n",
    "features_test_oe[cat_col] = encoder.fit_transform(features_test_oe[cat_col])"
   ]
  },
  {
   "cell_type": "code",
   "execution_count": null,
   "metadata": {},
   "outputs": [],
   "source": [
    "# код ревьюера\n",
    "\n",
    "features_train_oe.head()"
   ]
  },
  {
   "cell_type": "markdown",
   "metadata": {},
   "source": [
    "<div class=\"alert alert-block alert-info\">\n",
    "<b>V2 Комментарий ревьюера:</b>\n",
    "\n",
    "Данные готовы для обучения:\n",
    "\n",
    "features_train_ohe, features_valid_ohe, features_test_ohe для линейной регресии\n",
    "    \n",
    "features_train_oe, features_valid_oe, features_test_oe для бустингов и деревьев решений\n",
    "</div>"
   ]
  },
  {
   "cell_type": "markdown",
   "metadata": {},
   "source": [
    "# Обучение моделей"
   ]
  },
  {
   "cell_type": "markdown",
   "metadata": {},
   "source": [
    "## Линейная регрессия"
   ]
  },
  {
   "cell_type": "code",
   "execution_count": null,
   "metadata": {},
   "outputs": [],
   "source": [
    "# код ревьюера\n",
    "\n",
    "model = LinearRegression()"
   ]
  },
  {
   "cell_type": "markdown",
   "metadata": {},
   "source": [
    "<div class=\"alert alert-block alert-info\">\n",
    "<b>V2 Комментарий ревьюера:</b>\n",
    "\n",
    "Время обучения\n",
    "</div>"
   ]
  },
  {
   "cell_type": "code",
   "execution_count": null,
   "metadata": {},
   "outputs": [],
   "source": [
    "%%time\n",
    "\n",
    "# код ревьюера\n",
    "\n",
    "model.fit(features_train_ohe, target_train)"
   ]
  },
  {
   "cell_type": "markdown",
   "metadata": {},
   "source": [
    "<div class=\"alert alert-block alert-info\">\n",
    "<b>V2 Комментарий ревьюера:</b>\n",
    "\n",
    "Время предсказания\n",
    "</div>"
   ]
  },
  {
   "cell_type": "code",
   "execution_count": null,
   "metadata": {},
   "outputs": [],
   "source": [
    "%%time\n",
    "\n",
    "# код ревьюера\n",
    "\n",
    "pred = model.predict(features_valid_ohe)"
   ]
  },
  {
   "cell_type": "markdown",
   "metadata": {},
   "source": [
    "<div class=\"alert alert-block alert-info\">\n",
    "<b>V2 Комментарий ревьюера:</b>\n",
    "\n",
    "Метрика на валидационной выборке\n",
    "</div>"
   ]
  },
  {
   "cell_type": "code",
   "execution_count": null,
   "metadata": {},
   "outputs": [],
   "source": [
    "print('Linear Regression RMSE:', mean_squared_error(target_valid, pred, squared=False))"
   ]
  },
  {
   "cell_type": "markdown",
   "metadata": {},
   "source": [
    "<div class=\"alert alert-block alert-info\">\n",
    "<b>V2 Комментарий ревьюера:</b>\n",
    "\n",
    "Можешь выполнить такое и для других моделей?)\n",
    "\n",
    "Но для LightGBM и RandomForestRegressor сначала нужно подобрать гиперпараметры\n",
    "</div>"
   ]
  },
  {
   "cell_type": "markdown",
   "metadata": {},
   "source": [
    "## LightGBM"
   ]
  },
  {
   "cell_type": "code",
   "execution_count": null,
   "metadata": {
    "scrolled": true
   },
   "outputs": [],
   "source": [
    "#%%time\n",
    "#model = LGBMRegressor(num_iterations=200,max_depth=9)\n",
    "#model.fit(features_train,target_train)"
   ]
  },
  {
   "cell_type": "code",
   "execution_count": null,
   "metadata": {},
   "outputs": [],
   "source": [
    "#%%time\n",
    "#predictions = model.predict(features_valid)"
   ]
  },
  {
   "cell_type": "code",
   "execution_count": null,
   "metadata": {},
   "outputs": [],
   "source": [
    "#print(mean_squared_error(target_valid,predictions) ** 0.5)"
   ]
  },
  {
   "cell_type": "code",
   "execution_count": null,
   "metadata": {},
   "outputs": [],
   "source": [
    "#инициализация модели\n",
    "model = LGBMRegressor(max_depth=10)"
   ]
  },
  {
   "cell_type": "markdown",
   "metadata": {},
   "source": [
    "<div class=\"alert alert-block alert-info\">\n",
    "<b>Комментарий студента:</b> Спасибо за подсказки! Пытаюсь подобрать гипермараметры.И не понимаю почему модель так долго обучается.Чем чаще я перезапускаю ноутбук тем дольше она обучается.Еще вчера все работало.Сегодня уже не могу дождаться конца обучения при подборе.Код такой же а время с каждым разом увеличивается.Не могу понять в чем дело.\n",
    "</div>"
   ]
  },
  {
   "cell_type": "markdown",
   "metadata": {},
   "source": [
    "<div class=\"alert alert-block alert-info\">\n",
    "<b>V3 Комментарий ревьюера:</b>\n",
    "\n",
    "Да, есть такое) Но такое происходит только у LightGBM. Поэтому у этой модели можешь не подбирать гиперпараметры.\n",
    "</div>"
   ]
  },
  {
   "cell_type": "code",
   "execution_count": null,
   "metadata": {},
   "outputs": [],
   "source": [
    "#подбор гиперпараметров и рассчет метрики"
   ]
  },
  {
   "cell_type": "code",
   "execution_count": null,
   "metadata": {},
   "outputs": [],
   "source": [
    "%%time\n",
    "model.fit(features_train_oe,target_train)"
   ]
  },
  {
   "cell_type": "code",
   "execution_count": null,
   "metadata": {},
   "outputs": [],
   "source": [
    "%%time\n",
    "\n",
    "#время предсказания\n",
    "\n",
    "predictions = model.predict(features_valid_oe)"
   ]
  },
  {
   "cell_type": "code",
   "execution_count": null,
   "metadata": {},
   "outputs": [],
   "source": [
    "print('LGBMRegerssor RMSE :', mean_squared_error(target_valid,predictions,squared=False))"
   ]
  },
  {
   "cell_type": "markdown",
   "metadata": {},
   "source": [
    "<div class=\"alert alert-block alert-success\">\n",
    "<b>V3 ✔️ Успех:</b>\n",
    "\n",
    "Модель обучена верно 👍\n",
    "</div>"
   ]
  },
  {
   "cell_type": "markdown",
   "metadata": {},
   "source": [
    "## RandomForestRegressor"
   ]
  },
  {
   "cell_type": "code",
   "execution_count": null,
   "metadata": {},
   "outputs": [],
   "source": [
    "#rf_grid = [{'n_estimators':[2,50],'max_depth':[1,10]}]\n",
    "#forest_reg = RandomForestClassifier()\n",
    "#model = GridSearchCV(forest_reg, rf_grid,\n",
    "#                         scoring = mean_squared_error, cv=2, verbose=1)\n",
    "#model.fit(features_train,target_train)\n",
    "#predictions = model.predict(features_valid)\n",
    "#print(model.best_params_)\n",
    "#print()\n",
    "#print(mean_squared_error(predictions,target_valid)**0.5)"
   ]
  },
  {
   "cell_type": "code",
   "execution_count": null,
   "metadata": {},
   "outputs": [],
   "source": [
    "#%time\n",
    "#model = RandomForestClassifier(n_estimators =1 , max_depth = 2, random_state=12345)\n",
    "#model.fit(features_train,target_train)\n",
    "#predictions = model.predict(features_valid)\n",
    "#print(mean_squared_error(predictions,target_valid) ** 0.5)"
   ]
  },
  {
   "cell_type": "code",
   "execution_count": null,
   "metadata": {},
   "outputs": [],
   "source": [
    "min = 10000\n",
    "for depth in range(1,5):\n",
    "    model = RandomForestClassifier(max_depth=depth)\n",
    "    model.fit(features_train_oe,target_train)\n",
    "    predictions = model.predict(features_valid_oe)\n",
    "    mse =  mean_squared_error(target_valid,predictions,squared=False)\n",
    "    if min > mse:\n",
    "        min = mse \n",
    "        d = depth\n",
    "print(min,depth)"
   ]
  },
  {
   "cell_type": "code",
   "execution_count": null,
   "metadata": {},
   "outputs": [],
   "source": [
    "#инициализация модели\n",
    "min = 10000\n",
    "for n in [10,20,30,40,50]:\n",
    "    model = RandomForestClassifier(n_estimators=n,max_depth=depth)\n",
    "    model.fit(features_train_oe,target_train)\n",
    "    predictions = model.predict(features_valid_oe)\n",
    "    mse =  mean_squared_error(target_valid,predictions,squared=False)\n",
    "    if min > mse:\n",
    "        min = mse \n",
    "        num = n\n",
    "print(min,num)"
   ]
  },
  {
   "cell_type": "code",
   "execution_count": null,
   "metadata": {},
   "outputs": [],
   "source": [
    "#подбор гиперпараметров и рассчет метрики\n",
    "model = RandomForestClassifier(n_estimators=num,max_depth=depth)\n"
   ]
  },
  {
   "cell_type": "code",
   "execution_count": null,
   "metadata": {},
   "outputs": [],
   "source": [
    "%%time\n",
    "#время обучения\n",
    "model.fit(features_train_oe,target_train)"
   ]
  },
  {
   "cell_type": "code",
   "execution_count": null,
   "metadata": {},
   "outputs": [],
   "source": [
    "%%time\n",
    "#время предсказания\n",
    "predictions = model.predict(features_valid_oe)"
   ]
  },
  {
   "cell_type": "code",
   "execution_count": null,
   "metadata": {},
   "outputs": [],
   "source": [
    "print('RMSE RandomForesClassifier:', mean_squared_error(target_valid,predictions,squared=False))"
   ]
  },
  {
   "cell_type": "markdown",
   "metadata": {},
   "source": [
    "<div class=\"alert alert-block alert-success\">\n",
    "<b>V3 ✔️ Успех:</b>\n",
    "\n",
    "Модель обучена верно 👍\n",
    "</div>"
   ]
  },
  {
   "cell_type": "markdown",
   "metadata": {},
   "source": [
    "<div class=\"alert alert-block alert-danger\">\n",
    "<b>❌ Замечание:</b>\n",
    "\n",
    "Можешь добавить обучение еще одной простой модели?) Например, Случайный лес\n",
    "</div>"
   ]
  },
  {
   "cell_type": "markdown",
   "metadata": {},
   "source": [
    "<div class=\"alert alert-block alert-success\">\n",
    "<b>V2 ✔️ Успешно исправлено</b>\n",
    "</div>"
   ]
  },
  {
   "cell_type": "markdown",
   "metadata": {},
   "source": [
    "<div class=\"alert alert-block alert-danger\">\n",
    "<b>❌ Замечание:</b>\n",
    "\n",
    "Стоит добавить оптимизацию (подбор гиперпараметров) хотя бы для одной модели.\n",
    "</div>"
   ]
  },
  {
   "cell_type": "markdown",
   "metadata": {},
   "source": [
    "<div class=\"alert alert-block alert-success\">\n",
    "<b>V2 ✔️ Успешно исправлено</b>\n",
    "</div>"
   ]
  },
  {
   "cell_type": "markdown",
   "metadata": {},
   "source": [
    "# Анализ моделей"
   ]
  },
  {
   "cell_type": "markdown",
   "metadata": {},
   "source": [
    "Таким образом, модель с лучшей метрикой равной 1747, что меньше 2500 это LightGBM модель.Проверим ее на тестовой выборке."
   ]
  },
  {
   "cell_type": "markdown",
   "metadata": {},
   "source": [
    "<div class=\"alert alert-block alert-info\">\n",
    "<b>V2 Комментарий ревьюера:</b>\n",
    "\n",
    "В анализе нужно учитывать время обучения, время предсказания и RMSE\n",
    "</div>"
   ]
  },
  {
   "cell_type": "markdown",
   "metadata": {},
   "source": [
    "LinearRegression : время обучения - 12.6 с , время предсказания 118 мс, RMSE равно 2671.\n",
    "LGBMRegressor : время обучения - 6.65с, время предсказания  - 402мс , RMSE равно  1708.\n",
    "RandomForestClassifier : время обучения - 3.49с , время предсказания - 40с  , RMSE равно 3133."
   ]
  },
  {
   "cell_type": "markdown",
   "metadata": {},
   "source": [
    "<div class=\"alert alert-block alert-info\">\n",
    "<b>V3 Комментарий студента:</b>\n",
    "LinearRegression : время обучения - 12.6 с , время предсказания 118 мс, RMSE равно 2671.<br>\n",
    "LGBMRegressor : время обучения - 6.65с, время предсказания  - 402мс , RMSE равно  1708.<br>\n",
    "RandomForestClassifier : время обучения - 3.49с , время предсказания - 40с  , RMSE равно 3133.\n",
    "</div>"
   ]
  },
  {
   "cell_type": "markdown",
   "metadata": {},
   "source": [
    "<div class=\"alert alert-block alert-info\">\n",
    "<b>V3 Комментарий студента:</b>Таким образом, Наилучшая модель с наименьшим RMSE это LBGMRegressor.\n",
    "</div>"
   ]
  },
  {
   "cell_type": "markdown",
   "metadata": {},
   "source": [
    "# Тестирование лучшей модели"
   ]
  },
  {
   "cell_type": "code",
   "execution_count": null,
   "metadata": {},
   "outputs": [],
   "source": [
    "model = LGBMRegressor(max_depth=10)\n",
    "model.fit(features_train_oe, target_train)\n",
    "predictions = model.predict(features_test_oe)\n",
    "print(mean_squared_error(target_test,predictions,squared = False))"
   ]
  },
  {
   "cell_type": "markdown",
   "metadata": {},
   "source": [
    "<div class=\"alert alert-block alert-info\">\n",
    "<b>V3 Комментарий студента:</b>Модель прошла тестирование.\n",
    "</div>"
   ]
  },
  {
   "cell_type": "markdown",
   "metadata": {},
   "source": [
    "<div class=\"alert alert-block alert-success\">\n",
    "<b>V4 ✔️ Успешно исправлено</b>\n",
    "</div>"
   ]
  },
  {
   "cell_type": "markdown",
   "metadata": {},
   "source": [
    "<div class=\"alert alert-block alert-info\">\n",
    "<b>Комментарий студента:</b> Не понял почему у меня модель бустинга стала так долго работать (10 мин притом что я уменьшил количство итераций с 500 до 200). Не работает линейная регрессия, Не могу разобраться с прямым кодированием данных.\n",
    "</div>"
   ]
  },
  {
   "cell_type": "markdown",
   "metadata": {},
   "source": [
    "<div class=\"alert alert-block alert-info\">\n",
    "<b>V2 Комментарий ревьюера:</b>\n",
    "\n",
    "Я помогу тебе с подготовкой данных)\n",
    "\n",
    "Оставлю подсказки по обучению и анализу моделей\n",
    "</div>"
   ]
  },
  {
   "cell_type": "markdown",
   "metadata": {},
   "source": [
    "Как мы видим метрика меньше 2500 а значит модель нам подходит."
   ]
  },
  {
   "cell_type": "markdown",
   "metadata": {},
   "source": [
    "<div class=\"alert alert-block alert-danger\">\n",
    "<b>❌ Замечание:</b>\n",
    "\n",
    "В сравнении нужно смотреть отдельно на время обучения и время предсказания для каждой модели.\n",
    "\n",
    "Анализ моделей должен выглядеть так:\n",
    "\n",
    "1. RMSE вычисляется на валидационной выборке\n",
    "2. Время обучения = время model.fit(X_train, y_train)\n",
    "3. Время предсказания = model.predict(X_valid)\n",
    "</div>"
   ]
  },
  {
   "cell_type": "markdown",
   "metadata": {},
   "source": [
    "<div class=\"alert alert-block alert-danger\">\n",
    "<b>❌ Замечание:</b>\n",
    "\n",
    "После анализа моделей нужно порекомендовать заказчику одну модель и провести на ней финальное тестирование.\n",
    "\n",
    "Рассчитай финальную метрику лучшей модели на тестовой выборке (до этого тестовая выборка нигде не должна использоваться). RMSE должно быть меньше 2500. Если метрика не дотягивает, попробуй исправить мои замечания, также можешь потюнить гиперпараметры (на этапе обучения моделей, не на тестовой выборке!)\n",
    "</div>"
   ]
  },
  {
   "cell_type": "markdown",
   "metadata": {},
   "source": [
    "<div class=\"alert alert-block alert-info\">\n",
    "<b>Комментарий ревьюера:</b>\n",
    "\n",
    "Чтобы все было ясно, напишу конкретный план (структуру) обучения и анализа моделей:\n",
    "\n",
    "1. Обучение моделей. В обучении нужно рассмотреть хотя бы одну простую модель и один бустинг. Подбор гиперпараметров нужно провести хотя бы одной модели. Тут есть два варианта:\n",
    "    - без валидационной выборки. Здесь нужно подбирать гиперпараметры с помощью кросс-валидации (GridSearchCV, RandomizedSearchCV или вручную (cross_val_score));\n",
    "    - валидационная выборка есть. Здесь можно не использовать кросс-валидацию и подбирать гиперпараметры вручную.  \n",
    "2. Анализ моделей. После нахождения лучших гиперпараметров стоит измерить время обучения, предсказания и RMSE. Тут тоже есть два варианта:\n",
    "    - без валидационной выборки. RMSE на кросс-валидации. Время обучения = время model.fit(X_train). Время предсказания  = model.predict(X_train);\n",
    "    - валидационная выборка есть. RMSE на validation. Время обучения = время model.fit(X_train). Время предсказания = время model.predict(X_valid).  \n",
    "    \n",
    "    После этого напиши вывод по анализу (можешь также результаты моделей занести в общую таблицу) и посоветуй заказчику одну модель на основе его критериев;\n",
    "3. Тестирование. Рассчитай финальную метрику лучшей модели на тестовой выборке (до этого тестовая выборка нигде не должна использоваться!). RMSE должно быть меньше 2500. Если метрика не дотягивает, попробуй исправить мои замечания, также можешь потюнить гиперпараметры (на этапе обучения моделей, не на тестовой выборке!)\n",
    "</div>"
   ]
  },
  {
   "cell_type": "markdown",
   "metadata": {},
   "source": [
    "# <font color='orange'>Общее впечатление</font>\n",
    "* Молодец, что структурируешь ноутбук, приятно проверять такие работы\n",
    "* У тебя чистый и лаконичный код\n",
    "* Исправь, пожалуйста, мои замечания. Затем отправляй на повторную проверку\n",
    "* Жду новую версию проекта 👋"
   ]
  },
  {
   "cell_type": "markdown",
   "metadata": {},
   "source": [
    "# <font color='orange'>2. Общее впечатление</font>\n",
    "* Спасибо за быстрое внесение правок\n",
    "* Теперь проект выглядит лучше )\n",
    "* Критических замечаний нет\n",
    "* Молодец, отличная работа!\n",
    "* Надеюсь, ревью было полезным\n",
    "* Удачи в дальнейшем обучении 👋"
   ]
  },
  {
   "cell_type": "markdown",
   "metadata": {},
   "source": [
    "# <font color='orange'>Рекомендации 🔥</font>\n",
    "* Доступное объяснение про работу градиентного бустинга https://www.youtube.com/watch?v=ZNJ3lKyI-EY&t=995s\n",
    "* После просмотра видео можешь почитать статью про ансамбли и бустинги https://habr.com/ru/company/ods/blog/645887/\n",
    "* Подбор гиперпараметров для CatBoost https://habr.com/ru/company/otus/blog/527554/\n",
    "* Подбор гиперпараметров для LightGBM https://programmersought.com/article/40776531516/\n",
    "* Разумные способы кодирования категориальных данных для машинного обучения https://machinelearningmastery.ru/smarter-ways-to-encode-categorical-data-for-machine-learning-part-1-of-3-6dca2f71b159/\n",
    "* Статья про \"непонятную\" метрику ROC-AUC https://dyakonov.org/2017/07/28/auc-roc-площадь-под-кривой-ошибок/\n",
    "* Хочешь подтянуть математику для DS?) https://academy.stepik.org/math-for-data-science\n",
    "* Результы обучения моделей можно визуализировать 😎 https://www.datatechnotes.com/2019/08/elasticnet-regression-example-in-python.html\n",
    "* В нашем деле нужно быть всегда в курсе всех новинок, новостей и тд, вот тут публикуют новости в области DS: https://www.infoq.com/data-analysis/news/\n",
    "* Всем аналитикам данных рекомендую книгу Даниела Канемана \"Думай медленно, решай быстро\""
   ]
  }
 ],
 "metadata": {
  "ExecuteTimeLog": [
   {
    "duration": 443,
    "start_time": "2022-09-17T11:07:07.558Z"
   },
   {
    "duration": 2932,
    "start_time": "2022-09-17T11:07:47.668Z"
   },
   {
    "duration": 984,
    "start_time": "2022-09-17T11:08:03.866Z"
   },
   {
    "duration": 979,
    "start_time": "2022-09-17T11:08:14.827Z"
   },
   {
    "duration": 846,
    "start_time": "2022-09-17T11:08:26.456Z"
   },
   {
    "duration": 980,
    "start_time": "2022-09-17T11:08:30.902Z"
   },
   {
    "duration": 806,
    "start_time": "2022-09-17T11:08:38.954Z"
   },
   {
    "duration": 935,
    "start_time": "2022-09-17T11:08:50.212Z"
   },
   {
    "duration": 1077,
    "start_time": "2022-09-17T11:09:34.460Z"
   },
   {
    "duration": 391,
    "start_time": "2022-09-18T11:29:28.120Z"
   },
   {
    "duration": 3377,
    "start_time": "2022-09-18T11:29:28.513Z"
   },
   {
    "duration": 1024,
    "start_time": "2022-09-18T11:34:10.403Z"
   },
   {
    "duration": 1012,
    "start_time": "2022-09-18T11:34:19.201Z"
   },
   {
    "duration": 901,
    "start_time": "2022-09-18T11:34:46.904Z"
   },
   {
    "duration": 65,
    "start_time": "2022-09-18T11:41:35.117Z"
   },
   {
    "duration": 8,
    "start_time": "2022-09-18T11:41:44.833Z"
   },
   {
    "duration": 8,
    "start_time": "2022-09-18T11:41:59.615Z"
   },
   {
    "duration": 93,
    "start_time": "2022-09-18T11:43:10.907Z"
   },
   {
    "duration": 7092,
    "start_time": "2022-09-18T11:43:22.606Z"
   },
   {
    "duration": 5750,
    "start_time": "2022-09-18T11:43:33.701Z"
   },
   {
    "duration": 5477,
    "start_time": "2022-09-18T11:43:42.610Z"
   },
   {
    "duration": 427,
    "start_time": "2022-09-18T11:44:20.162Z"
   },
   {
    "duration": 1140,
    "start_time": "2022-09-18T11:44:20.591Z"
   },
   {
    "duration": 7770,
    "start_time": "2022-09-18T11:44:21.732Z"
   },
   {
    "duration": 1300,
    "start_time": "2022-09-18T11:44:29.503Z"
   },
   {
    "duration": 403,
    "start_time": "2022-09-18T11:44:45.108Z"
   },
   {
    "duration": 1076,
    "start_time": "2022-09-18T11:44:45.513Z"
   },
   {
    "duration": 582,
    "start_time": "2022-09-18T11:44:46.595Z"
   },
   {
    "duration": 1198,
    "start_time": "2022-09-18T11:44:47.178Z"
   },
   {
    "duration": 8,
    "start_time": "2022-09-18T11:47:41.206Z"
   },
   {
    "duration": 7,
    "start_time": "2022-09-18T11:49:04.270Z"
   },
   {
    "duration": 7,
    "start_time": "2022-09-18T11:49:28.604Z"
   },
   {
    "duration": 5,
    "start_time": "2022-09-18T11:49:49.566Z"
   },
   {
    "duration": 4,
    "start_time": "2022-09-18T11:49:58.354Z"
   },
   {
    "duration": 4,
    "start_time": "2022-09-18T11:50:23.262Z"
   },
   {
    "duration": 4,
    "start_time": "2022-09-18T12:56:11.273Z"
   },
   {
    "duration": 13,
    "start_time": "2022-09-18T12:56:20.977Z"
   },
   {
    "duration": 464,
    "start_time": "2022-09-18T12:56:36.494Z"
   },
   {
    "duration": 1196,
    "start_time": "2022-09-18T12:56:36.960Z"
   },
   {
    "duration": 5,
    "start_time": "2022-09-18T12:56:38.157Z"
   },
   {
    "duration": 1458,
    "start_time": "2022-09-18T12:56:38.164Z"
   },
   {
    "duration": 79,
    "start_time": "2022-09-18T12:59:48.023Z"
   },
   {
    "duration": 22,
    "start_time": "2022-09-18T13:02:13.764Z"
   },
   {
    "duration": 13,
    "start_time": "2022-09-18T13:21:36.855Z"
   },
   {
    "duration": 10,
    "start_time": "2022-09-18T13:21:45.522Z"
   },
   {
    "duration": 35,
    "start_time": "2022-09-18T13:22:32.753Z"
   },
   {
    "duration": 113,
    "start_time": "2022-09-18T13:27:42.976Z"
   },
   {
    "duration": 38,
    "start_time": "2022-09-18T13:27:56.058Z"
   },
   {
    "duration": 814,
    "start_time": "2022-09-18T13:28:01.352Z"
   },
   {
    "duration": 143,
    "start_time": "2022-09-18T13:28:03.118Z"
   },
   {
    "duration": 8,
    "start_time": "2022-09-18T13:34:12.308Z"
   },
   {
    "duration": 160,
    "start_time": "2022-09-18T13:34:34.494Z"
   },
   {
    "duration": 1021,
    "start_time": "2022-09-18T19:23:56.094Z"
   },
   {
    "duration": 1313,
    "start_time": "2022-09-18T19:23:57.117Z"
   },
   {
    "duration": 4,
    "start_time": "2022-09-18T19:23:58.431Z"
   },
   {
    "duration": 64,
    "start_time": "2022-09-18T19:23:58.436Z"
   },
   {
    "duration": 112,
    "start_time": "2022-09-18T19:23:58.502Z"
   },
   {
    "duration": 195,
    "start_time": "2022-09-18T19:23:58.615Z"
   },
   {
    "duration": 3,
    "start_time": "2022-09-18T19:29:20.534Z"
   },
   {
    "duration": 18,
    "start_time": "2022-09-18T19:32:41.803Z"
   },
   {
    "duration": 88,
    "start_time": "2022-09-18T19:34:14.046Z"
   },
   {
    "duration": 113,
    "start_time": "2022-09-18T19:34:16.415Z"
   },
   {
    "duration": 780,
    "start_time": "2022-09-18T19:34:21.592Z"
   },
   {
    "duration": 793,
    "start_time": "2022-09-18T19:34:57.395Z"
   },
   {
    "duration": 128,
    "start_time": "2022-09-18T19:35:00.699Z"
   },
   {
    "duration": 169,
    "start_time": "2022-09-18T19:35:22.488Z"
   },
   {
    "duration": 189,
    "start_time": "2022-09-18T19:35:41.663Z"
   },
   {
    "duration": 191,
    "start_time": "2022-09-18T19:36:42.558Z"
   },
   {
    "duration": 1030,
    "start_time": "2022-09-19T12:14:08.109Z"
   },
   {
    "duration": 1284,
    "start_time": "2022-09-19T12:14:09.141Z"
   },
   {
    "duration": 4,
    "start_time": "2022-09-19T12:14:10.426Z"
   },
   {
    "duration": 111,
    "start_time": "2022-09-19T12:14:10.431Z"
   },
   {
    "duration": 112,
    "start_time": "2022-09-19T12:14:10.544Z"
   },
   {
    "duration": 775,
    "start_time": "2022-09-19T12:14:10.658Z"
   },
   {
    "duration": 134,
    "start_time": "2022-09-19T12:14:11.435Z"
   },
   {
    "duration": 132,
    "start_time": "2022-09-19T12:14:27.820Z"
   },
   {
    "duration": 133,
    "start_time": "2022-09-19T12:14:54.718Z"
   },
   {
    "duration": 107,
    "start_time": "2022-09-19T12:15:31.239Z"
   },
   {
    "duration": 129,
    "start_time": "2022-09-19T12:17:33.451Z"
   },
   {
    "duration": 5139,
    "start_time": "2022-09-19T12:17:59.311Z"
   },
   {
    "duration": 5862,
    "start_time": "2022-09-19T12:18:12.195Z"
   },
   {
    "duration": 505,
    "start_time": "2022-09-19T12:18:36.655Z"
   },
   {
    "duration": 9,
    "start_time": "2022-09-19T12:19:21.311Z"
   },
   {
    "duration": 4,
    "start_time": "2022-09-19T12:19:48.599Z"
   },
   {
    "duration": 9559,
    "start_time": "2022-09-19T12:20:02.589Z"
   },
   {
    "duration": 1052,
    "start_time": "2022-09-19T12:20:14.907Z"
   },
   {
    "duration": 4,
    "start_time": "2022-09-19T12:20:18.865Z"
   },
   {
    "duration": 5156,
    "start_time": "2022-09-19T12:20:27.003Z"
   },
   {
    "duration": 243,
    "start_time": "2022-09-19T12:20:33.111Z"
   },
   {
    "duration": 6,
    "start_time": "2022-09-19T12:20:35.611Z"
   },
   {
    "duration": 1627,
    "start_time": "2022-09-19T12:20:44.228Z"
   },
   {
    "duration": 87,
    "start_time": "2022-09-19T12:20:46.473Z"
   },
   {
    "duration": 4,
    "start_time": "2022-09-19T12:20:48.622Z"
   },
   {
    "duration": 4440,
    "start_time": "2022-09-19T12:20:57.513Z"
   },
   {
    "duration": 229,
    "start_time": "2022-09-19T12:21:02.624Z"
   },
   {
    "duration": 4,
    "start_time": "2022-09-19T12:21:06.115Z"
   },
   {
    "duration": 5058,
    "start_time": "2022-09-19T12:21:11.597Z"
   },
   {
    "duration": 392,
    "start_time": "2022-09-19T12:21:17.256Z"
   },
   {
    "duration": 4,
    "start_time": "2022-09-19T12:21:19.843Z"
   },
   {
    "duration": 3432,
    "start_time": "2022-09-19T12:21:25.019Z"
   },
   {
    "duration": 236,
    "start_time": "2022-09-19T12:21:29.124Z"
   },
   {
    "duration": 4,
    "start_time": "2022-09-19T12:21:31.862Z"
   },
   {
    "duration": 3476,
    "start_time": "2022-09-19T12:21:37.172Z"
   },
   {
    "duration": 314,
    "start_time": "2022-09-19T12:21:40.650Z"
   },
   {
    "duration": 4,
    "start_time": "2022-09-19T12:21:42.704Z"
   },
   {
    "duration": 3456,
    "start_time": "2022-09-19T12:21:46.701Z"
   },
   {
    "duration": 393,
    "start_time": "2022-09-19T12:21:50.159Z"
   },
   {
    "duration": 4,
    "start_time": "2022-09-19T12:21:52.208Z"
   },
   {
    "duration": 6032,
    "start_time": "2022-09-19T12:21:56.325Z"
   },
   {
    "duration": 3393,
    "start_time": "2022-09-19T12:22:03.166Z"
   },
   {
    "duration": 397,
    "start_time": "2022-09-19T12:22:06.560Z"
   },
   {
    "duration": 4,
    "start_time": "2022-09-19T12:22:06.958Z"
   },
   {
    "duration": 11051,
    "start_time": "2022-09-19T12:22:12.104Z"
   },
   {
    "duration": 395,
    "start_time": "2022-09-19T12:22:23.158Z"
   },
   {
    "duration": 4,
    "start_time": "2022-09-19T12:22:23.555Z"
   },
   {
    "duration": 3238,
    "start_time": "2022-09-19T12:22:28.618Z"
   },
   {
    "duration": 393,
    "start_time": "2022-09-19T12:22:31.858Z"
   },
   {
    "duration": 4,
    "start_time": "2022-09-19T12:22:32.253Z"
   },
   {
    "duration": 3750,
    "start_time": "2022-09-19T12:22:37.006Z"
   },
   {
    "duration": 301,
    "start_time": "2022-09-19T12:22:40.758Z"
   },
   {
    "duration": 4,
    "start_time": "2022-09-19T12:22:41.060Z"
   },
   {
    "duration": 3232,
    "start_time": "2022-09-19T12:22:47.716Z"
   },
   {
    "duration": 246,
    "start_time": "2022-09-19T12:22:51.508Z"
   },
   {
    "duration": 4,
    "start_time": "2022-09-19T12:22:52.737Z"
   },
   {
    "duration": 3799,
    "start_time": "2022-09-19T12:22:56.658Z"
   },
   {
    "duration": 393,
    "start_time": "2022-09-19T12:23:00.459Z"
   },
   {
    "duration": 3,
    "start_time": "2022-09-19T12:23:00.854Z"
   },
   {
    "duration": 3370,
    "start_time": "2022-09-19T12:23:05.482Z"
   },
   {
    "duration": 303,
    "start_time": "2022-09-19T12:23:08.854Z"
   },
   {
    "duration": 3,
    "start_time": "2022-09-19T12:23:09.159Z"
   },
   {
    "duration": 3195,
    "start_time": "2022-09-19T12:23:14.059Z"
   },
   {
    "duration": 395,
    "start_time": "2022-09-19T12:23:17.257Z"
   },
   {
    "duration": 4,
    "start_time": "2022-09-19T12:23:17.654Z"
   },
   {
    "duration": 3770,
    "start_time": "2022-09-19T12:23:22.195Z"
   },
   {
    "duration": 308,
    "start_time": "2022-09-19T12:23:26.048Z"
   },
   {
    "duration": 10,
    "start_time": "2022-09-19T12:23:26.358Z"
   },
   {
    "duration": 3888,
    "start_time": "2022-09-19T12:23:33.165Z"
   },
   {
    "duration": 393,
    "start_time": "2022-09-19T12:23:37.055Z"
   },
   {
    "duration": 4,
    "start_time": "2022-09-19T12:23:37.449Z"
   },
   {
    "duration": 5496,
    "start_time": "2022-09-19T12:23:42.358Z"
   },
   {
    "duration": 395,
    "start_time": "2022-09-19T12:23:47.856Z"
   },
   {
    "duration": 4,
    "start_time": "2022-09-19T12:23:48.252Z"
   },
   {
    "duration": 1679,
    "start_time": "2022-09-19T12:23:52.374Z"
   },
   {
    "duration": 198,
    "start_time": "2022-09-19T12:23:54.055Z"
   },
   {
    "duration": 4,
    "start_time": "2022-09-19T12:23:55.095Z"
   },
   {
    "duration": 2903,
    "start_time": "2022-09-19T12:24:00.953Z"
   },
   {
    "duration": 301,
    "start_time": "2022-09-19T12:24:03.858Z"
   },
   {
    "duration": 4,
    "start_time": "2022-09-19T12:24:04.161Z"
   },
   {
    "duration": 3379,
    "start_time": "2022-09-19T12:24:07.268Z"
   },
   {
    "duration": 311,
    "start_time": "2022-09-19T12:24:10.649Z"
   },
   {
    "duration": 5,
    "start_time": "2022-09-19T12:24:11.046Z"
   },
   {
    "duration": 6382,
    "start_time": "2022-09-19T12:24:14.074Z"
   },
   {
    "duration": 707,
    "start_time": "2022-09-19T12:24:20.458Z"
   },
   {
    "duration": 4,
    "start_time": "2022-09-19T12:24:21.167Z"
   },
   {
    "duration": 10412,
    "start_time": "2022-09-19T12:24:27.144Z"
   },
   {
    "duration": 1106,
    "start_time": "2022-09-19T12:24:37.558Z"
   },
   {
    "duration": 4,
    "start_time": "2022-09-19T12:24:38.747Z"
   },
   {
    "duration": 18800,
    "start_time": "2022-09-19T12:24:47.962Z"
   },
   {
    "duration": 2508,
    "start_time": "2022-09-19T12:25:06.764Z"
   },
   {
    "duration": 4,
    "start_time": "2022-09-19T12:25:09.274Z"
   },
   {
    "duration": 48198,
    "start_time": "2022-09-19T12:25:37.769Z"
   },
   {
    "duration": 8479,
    "start_time": "2022-09-19T12:26:25.968Z"
   },
   {
    "duration": 4,
    "start_time": "2022-09-19T12:26:34.449Z"
   },
   {
    "duration": 33,
    "start_time": "2022-09-19T12:27:17.934Z"
   },
   {
    "duration": 793,
    "start_time": "2022-09-19T12:28:02.983Z"
   },
   {
    "duration": 1121,
    "start_time": "2022-09-19T12:28:08.301Z"
   },
   {
    "duration": 993,
    "start_time": "2022-09-19T12:28:09.424Z"
   },
   {
    "duration": 3,
    "start_time": "2022-09-19T12:28:10.419Z"
   },
   {
    "duration": 104,
    "start_time": "2022-09-19T12:28:10.423Z"
   },
   {
    "duration": 105,
    "start_time": "2022-09-19T12:28:10.529Z"
   },
   {
    "duration": 850,
    "start_time": "2022-09-19T12:28:10.636Z"
   },
   {
    "duration": 261,
    "start_time": "2022-09-19T12:28:11.488Z"
   },
   {
    "duration": 36805,
    "start_time": "2022-09-19T12:28:11.751Z"
   },
   {
    "duration": 7889,
    "start_time": "2022-09-19T12:28:48.558Z"
   },
   {
    "duration": 5,
    "start_time": "2022-09-19T12:28:56.448Z"
   },
   {
    "duration": 16,
    "start_time": "2022-09-19T12:28:56.454Z"
   },
   {
    "duration": 1140,
    "start_time": "2022-09-19T12:30:04.531Z"
   },
   {
    "duration": 1091,
    "start_time": "2022-09-19T12:30:05.672Z"
   },
   {
    "duration": 3,
    "start_time": "2022-09-19T12:30:06.765Z"
   },
   {
    "duration": 105,
    "start_time": "2022-09-19T12:30:06.769Z"
   },
   {
    "duration": 111,
    "start_time": "2022-09-19T12:30:06.876Z"
   },
   {
    "duration": 739,
    "start_time": "2022-09-19T12:30:06.988Z"
   },
   {
    "duration": 129,
    "start_time": "2022-09-19T12:30:07.729Z"
   },
   {
    "duration": 36092,
    "start_time": "2022-09-19T12:30:07.860Z"
   },
   {
    "duration": 7842,
    "start_time": "2022-09-19T12:30:43.953Z"
   },
   {
    "duration": 4,
    "start_time": "2022-09-19T12:30:51.797Z"
   },
   {
    "duration": 48,
    "start_time": "2022-09-19T12:30:51.803Z"
   },
   {
    "duration": 98,
    "start_time": "2022-09-19T12:31:32.038Z"
   },
   {
    "duration": 104,
    "start_time": "2022-09-19T12:31:42.254Z"
   },
   {
    "duration": 1246,
    "start_time": "2022-09-19T12:31:47.100Z"
   },
   {
    "duration": 1010,
    "start_time": "2022-09-19T12:31:48.348Z"
   },
   {
    "duration": 3,
    "start_time": "2022-09-19T12:31:49.359Z"
   },
   {
    "duration": 111,
    "start_time": "2022-09-19T12:31:49.365Z"
   },
   {
    "duration": 104,
    "start_time": "2022-09-19T12:31:49.478Z"
   },
   {
    "duration": 690,
    "start_time": "2022-09-19T12:31:49.584Z"
   },
   {
    "duration": 86,
    "start_time": "2022-09-19T12:31:50.276Z"
   },
   {
    "duration": 230803,
    "start_time": "2022-09-19T12:31:50.457Z"
   },
   {
    "duration": 7716,
    "start_time": "2022-09-19T12:35:41.262Z"
   },
   {
    "duration": 5,
    "start_time": "2022-09-19T12:35:48.980Z"
   },
   {
    "duration": 14,
    "start_time": "2022-09-19T12:35:48.987Z"
   },
   {
    "duration": 1211,
    "start_time": "2022-09-19T12:36:21.297Z"
   },
   {
    "duration": 1094,
    "start_time": "2022-09-19T12:36:22.510Z"
   },
   {
    "duration": 4,
    "start_time": "2022-09-19T12:36:23.605Z"
   },
   {
    "duration": 114,
    "start_time": "2022-09-19T12:36:23.610Z"
   },
   {
    "duration": 37,
    "start_time": "2022-09-19T12:36:23.726Z"
   },
   {
    "duration": 748,
    "start_time": "2022-09-19T12:36:23.764Z"
   },
   {
    "duration": 234,
    "start_time": "2022-09-19T12:36:24.514Z"
   },
   {
    "duration": 1168,
    "start_time": "2022-09-19T12:38:18.365Z"
   },
   {
    "duration": 1084,
    "start_time": "2022-09-19T12:38:19.535Z"
   },
   {
    "duration": 3,
    "start_time": "2022-09-19T12:38:20.620Z"
   },
   {
    "duration": 113,
    "start_time": "2022-09-19T12:38:20.625Z"
   },
   {
    "duration": 32,
    "start_time": "2022-09-19T12:38:20.740Z"
   },
   {
    "duration": 769,
    "start_time": "2022-09-19T12:38:20.774Z"
   },
   {
    "duration": 122,
    "start_time": "2022-09-19T12:38:21.544Z"
   },
   {
    "duration": 36496,
    "start_time": "2022-09-19T12:38:21.668Z"
   },
   {
    "duration": 593,
    "start_time": "2022-09-19T12:38:58.169Z"
   },
   {
    "duration": 4,
    "start_time": "2022-09-19T12:38:58.765Z"
   },
   {
    "duration": 31,
    "start_time": "2022-09-19T12:38:58.770Z"
   },
   {
    "duration": 62113,
    "start_time": "2022-09-19T12:39:16.859Z"
   },
   {
    "duration": 983,
    "start_time": "2022-09-19T12:40:18.975Z"
   },
   {
    "duration": 4,
    "start_time": "2022-09-19T12:40:19.962Z"
   },
   {
    "duration": 94409,
    "start_time": "2022-09-19T12:49:07.363Z"
   },
   {
    "duration": 1278,
    "start_time": "2022-09-19T12:50:41.774Z"
   },
   {
    "duration": 4,
    "start_time": "2022-09-19T12:50:43.059Z"
   },
   {
    "duration": 39666,
    "start_time": "2022-09-19T12:52:33.995Z"
   },
   {
    "duration": 2083,
    "start_time": "2022-09-19T12:53:13.663Z"
   },
   {
    "duration": 4,
    "start_time": "2022-09-19T12:53:15.748Z"
   },
   {
    "duration": 143827,
    "start_time": "2022-09-19T12:58:14.732Z"
   },
   {
    "duration": 1595,
    "start_time": "2022-09-19T13:00:38.564Z"
   },
   {
    "duration": 5,
    "start_time": "2022-09-19T13:00:40.161Z"
   },
   {
    "duration": 217560,
    "start_time": "2022-09-19T13:02:46.500Z"
   },
   {
    "duration": 2616,
    "start_time": "2022-09-19T13:06:24.064Z"
   },
   {
    "duration": 4,
    "start_time": "2022-09-19T13:06:26.682Z"
   },
   {
    "duration": 110930,
    "start_time": "2022-09-19T13:06:49.740Z"
   },
   {
    "duration": 1385,
    "start_time": "2022-09-19T13:08:40.672Z"
   },
   {
    "duration": 5,
    "start_time": "2022-09-19T13:08:42.060Z"
   },
   {
    "duration": 89159,
    "start_time": "2022-09-19T13:09:29.101Z"
   },
   {
    "duration": 3604,
    "start_time": "2022-09-19T13:10:58.262Z"
   },
   {
    "duration": 5,
    "start_time": "2022-09-19T13:11:01.868Z"
   },
   {
    "duration": 15633,
    "start_time": "2022-09-19T13:13:37.933Z"
   },
   {
    "duration": 1999,
    "start_time": "2022-09-19T13:13:53.567Z"
   },
   {
    "duration": 5,
    "start_time": "2022-09-19T13:13:55.568Z"
   },
   {
    "duration": 4287,
    "start_time": "2022-09-19T13:14:53.169Z"
   },
   {
    "duration": 599,
    "start_time": "2022-09-19T13:14:57.458Z"
   },
   {
    "duration": 5,
    "start_time": "2022-09-19T13:14:58.059Z"
   },
   {
    "duration": 17012,
    "start_time": "2022-09-19T13:15:03.653Z"
   },
   {
    "duration": 1689,
    "start_time": "2022-09-19T13:15:20.667Z"
   },
   {
    "duration": 4,
    "start_time": "2022-09-19T13:15:22.358Z"
   },
   {
    "duration": 15825,
    "start_time": "2022-09-19T13:18:21.839Z"
   },
   {
    "duration": 2019,
    "start_time": "2022-09-19T13:18:37.746Z"
   },
   {
    "duration": 4,
    "start_time": "2022-09-19T13:18:39.766Z"
   },
   {
    "duration": 1946,
    "start_time": "2022-09-19T13:23:16.419Z"
   },
   {
    "duration": 1208,
    "start_time": "2022-09-19T13:23:55.889Z"
   },
   {
    "duration": 1071,
    "start_time": "2022-09-19T13:23:57.099Z"
   },
   {
    "duration": 4,
    "start_time": "2022-09-19T13:23:58.171Z"
   },
   {
    "duration": 99,
    "start_time": "2022-09-19T13:23:58.176Z"
   },
   {
    "duration": 25,
    "start_time": "2022-09-19T13:23:58.277Z"
   },
   {
    "duration": 739,
    "start_time": "2022-09-19T13:23:58.304Z"
   },
   {
    "duration": 106,
    "start_time": "2022-09-19T13:23:59.044Z"
   },
   {
    "duration": 16906,
    "start_time": "2022-09-19T13:23:59.152Z"
   },
   {
    "duration": 1989,
    "start_time": "2022-09-19T13:24:16.060Z"
   },
   {
    "duration": 4,
    "start_time": "2022-09-19T13:24:18.051Z"
   },
   {
    "duration": 1897,
    "start_time": "2022-09-19T13:24:18.056Z"
   },
   {
    "duration": 53,
    "start_time": "2022-09-19T15:09:41.522Z"
   },
   {
    "duration": 1250,
    "start_time": "2022-09-19T15:10:00.305Z"
   },
   {
    "duration": 3408,
    "start_time": "2022-09-19T15:10:01.557Z"
   },
   {
    "duration": 7,
    "start_time": "2022-09-19T15:10:04.967Z"
   },
   {
    "duration": 1446,
    "start_time": "2022-09-19T15:10:04.977Z"
   },
   {
    "duration": 0,
    "start_time": "2022-09-19T15:10:06.426Z"
   },
   {
    "duration": 0,
    "start_time": "2022-09-19T15:10:06.427Z"
   },
   {
    "duration": 0,
    "start_time": "2022-09-19T15:10:06.429Z"
   },
   {
    "duration": 0,
    "start_time": "2022-09-19T15:10:06.430Z"
   },
   {
    "duration": 0,
    "start_time": "2022-09-19T15:10:06.431Z"
   },
   {
    "duration": 0,
    "start_time": "2022-09-19T15:10:06.433Z"
   },
   {
    "duration": 0,
    "start_time": "2022-09-19T15:10:06.434Z"
   },
   {
    "duration": 0,
    "start_time": "2022-09-19T15:10:06.436Z"
   },
   {
    "duration": 1110,
    "start_time": "2022-09-20T15:14:41.743Z"
   },
   {
    "duration": 2870,
    "start_time": "2022-09-20T15:14:42.855Z"
   },
   {
    "duration": 5,
    "start_time": "2022-09-20T15:14:45.729Z"
   },
   {
    "duration": 2119,
    "start_time": "2022-09-20T15:14:45.736Z"
   },
   {
    "duration": 0,
    "start_time": "2022-09-20T15:14:47.857Z"
   },
   {
    "duration": 0,
    "start_time": "2022-09-20T15:14:47.858Z"
   },
   {
    "duration": 0,
    "start_time": "2022-09-20T15:14:47.859Z"
   },
   {
    "duration": 0,
    "start_time": "2022-09-20T15:14:47.861Z"
   },
   {
    "duration": 0,
    "start_time": "2022-09-20T15:14:47.862Z"
   },
   {
    "duration": 0,
    "start_time": "2022-09-20T15:14:47.863Z"
   },
   {
    "duration": 0,
    "start_time": "2022-09-20T15:14:47.864Z"
   },
   {
    "duration": 0,
    "start_time": "2022-09-20T15:14:47.865Z"
   },
   {
    "duration": 5,
    "start_time": "2022-09-20T15:15:05.386Z"
   },
   {
    "duration": 3,
    "start_time": "2022-09-20T15:19:09.752Z"
   },
   {
    "duration": 1279,
    "start_time": "2022-09-20T15:19:13.515Z"
   },
   {
    "duration": 1156,
    "start_time": "2022-09-20T15:19:21.451Z"
   },
   {
    "duration": 970,
    "start_time": "2022-09-20T15:19:22.609Z"
   },
   {
    "duration": 4,
    "start_time": "2022-09-20T15:19:23.581Z"
   },
   {
    "duration": 92,
    "start_time": "2022-09-20T15:19:23.587Z"
   },
   {
    "duration": 23,
    "start_time": "2022-09-20T15:19:23.681Z"
   },
   {
    "duration": 613,
    "start_time": "2022-09-20T15:19:23.706Z"
   },
   {
    "duration": 77,
    "start_time": "2022-09-20T15:19:24.321Z"
   },
   {
    "duration": 130,
    "start_time": "2022-09-20T15:19:24.400Z"
   },
   {
    "duration": 15901,
    "start_time": "2022-09-20T15:19:24.622Z"
   },
   {
    "duration": 1719,
    "start_time": "2022-09-20T15:19:40.525Z"
   },
   {
    "duration": 4,
    "start_time": "2022-09-20T15:19:42.246Z"
   },
   {
    "duration": 1893,
    "start_time": "2022-09-20T15:19:42.251Z"
   },
   {
    "duration": 17,
    "start_time": "2022-09-20T15:20:08.161Z"
   },
   {
    "duration": 2590,
    "start_time": "2022-09-20T15:21:56.436Z"
   },
   {
    "duration": 5,
    "start_time": "2022-09-20T15:22:29.399Z"
   },
   {
    "duration": 5,
    "start_time": "2022-09-20T15:22:39.799Z"
   },
   {
    "duration": 6,
    "start_time": "2022-09-20T15:22:46.037Z"
   },
   {
    "duration": 7,
    "start_time": "2022-09-20T15:23:03.036Z"
   },
   {
    "duration": 73,
    "start_time": "2022-09-20T15:23:49.044Z"
   },
   {
    "duration": 57,
    "start_time": "2022-09-20T15:24:06.782Z"
   },
   {
    "duration": 11,
    "start_time": "2022-09-20T15:25:18.687Z"
   },
   {
    "duration": 9,
    "start_time": "2022-09-20T15:25:36.779Z"
   },
   {
    "duration": 63,
    "start_time": "2022-09-20T15:26:01.105Z"
   },
   {
    "duration": 62,
    "start_time": "2022-09-20T15:26:27.994Z"
   },
   {
    "duration": 391,
    "start_time": "2022-09-20T15:26:58.041Z"
   },
   {
    "duration": 390,
    "start_time": "2022-09-20T15:27:03.689Z"
   },
   {
    "duration": 63,
    "start_time": "2022-09-20T15:27:26.315Z"
   },
   {
    "duration": 526,
    "start_time": "2022-09-20T15:32:43.533Z"
   },
   {
    "duration": 505,
    "start_time": "2022-09-20T15:33:27.073Z"
   },
   {
    "duration": 77,
    "start_time": "2022-09-20T15:33:39.343Z"
   },
   {
    "duration": 466,
    "start_time": "2022-09-20T15:33:43.723Z"
   },
   {
    "duration": 469,
    "start_time": "2022-09-20T15:34:17.636Z"
   },
   {
    "duration": 511,
    "start_time": "2022-09-20T15:35:01.334Z"
   },
   {
    "duration": 540,
    "start_time": "2022-09-20T15:37:47.449Z"
   },
   {
    "duration": 456,
    "start_time": "2022-09-20T15:38:01.793Z"
   },
   {
    "duration": 107,
    "start_time": "2022-09-20T15:38:37.456Z"
   },
   {
    "duration": 15,
    "start_time": "2022-09-20T15:38:51.017Z"
   },
   {
    "duration": 443,
    "start_time": "2022-09-20T15:38:58.824Z"
   },
   {
    "duration": 9,
    "start_time": "2022-09-20T15:41:44.515Z"
   },
   {
    "duration": 6,
    "start_time": "2022-09-20T15:41:56.767Z"
   },
   {
    "duration": 29,
    "start_time": "2022-09-20T15:42:43.917Z"
   },
   {
    "duration": 1251,
    "start_time": "2022-09-20T15:44:13.308Z"
   },
   {
    "duration": 970,
    "start_time": "2022-09-20T15:44:14.562Z"
   },
   {
    "duration": 4,
    "start_time": "2022-09-20T15:44:15.533Z"
   },
   {
    "duration": 97,
    "start_time": "2022-09-20T15:44:15.539Z"
   },
   {
    "duration": 678,
    "start_time": "2022-09-20T15:44:15.638Z"
   },
   {
    "duration": 66,
    "start_time": "2022-09-20T15:44:16.318Z"
   },
   {
    "duration": 13,
    "start_time": "2022-09-20T15:44:16.385Z"
   },
   {
    "duration": 457,
    "start_time": "2022-09-20T15:44:16.400Z"
   },
   {
    "duration": 52,
    "start_time": "2022-09-20T15:44:16.858Z"
   },
   {
    "duration": 210,
    "start_time": "2022-09-20T15:44:16.912Z"
   },
   {
    "duration": 458005,
    "start_time": "2022-09-20T15:44:17.124Z"
   },
   {
    "duration": 1502,
    "start_time": "2022-09-20T15:51:55.131Z"
   },
   {
    "duration": 4,
    "start_time": "2022-09-20T15:51:56.635Z"
   },
   {
    "duration": 1496,
    "start_time": "2022-09-20T15:51:56.641Z"
   },
   {
    "duration": 1150,
    "start_time": "2022-09-20T17:50:24.070Z"
   },
   {
    "duration": 980,
    "start_time": "2022-09-20T17:50:25.227Z"
   },
   {
    "duration": 3,
    "start_time": "2022-09-20T17:50:26.209Z"
   },
   {
    "duration": 137,
    "start_time": "2022-09-20T17:50:26.214Z"
   },
   {
    "duration": 610,
    "start_time": "2022-09-20T17:50:26.354Z"
   },
   {
    "duration": 69,
    "start_time": "2022-09-20T17:50:26.965Z"
   },
   {
    "duration": 13,
    "start_time": "2022-09-20T17:50:27.036Z"
   },
   {
    "duration": 477,
    "start_time": "2022-09-20T17:50:27.050Z"
   },
   {
    "duration": 52,
    "start_time": "2022-09-20T17:50:27.530Z"
   },
   {
    "duration": 141,
    "start_time": "2022-09-20T17:50:27.584Z"
   },
   {
    "duration": 1105,
    "start_time": "2022-09-20T17:54:19.347Z"
   },
   {
    "duration": 1007,
    "start_time": "2022-09-20T17:54:20.454Z"
   },
   {
    "duration": 3,
    "start_time": "2022-09-20T17:54:21.462Z"
   },
   {
    "duration": 110,
    "start_time": "2022-09-20T17:54:21.467Z"
   },
   {
    "duration": 700,
    "start_time": "2022-09-20T17:54:21.580Z"
   },
   {
    "duration": 75,
    "start_time": "2022-09-20T17:54:22.282Z"
   },
   {
    "duration": 13,
    "start_time": "2022-09-20T17:54:22.359Z"
   },
   {
    "duration": 120,
    "start_time": "2022-09-20T17:54:22.374Z"
   },
   {
    "duration": 0,
    "start_time": "2022-09-20T17:54:22.495Z"
   },
   {
    "duration": 0,
    "start_time": "2022-09-20T17:54:22.497Z"
   },
   {
    "duration": 0,
    "start_time": "2022-09-20T17:54:22.498Z"
   },
   {
    "duration": 0,
    "start_time": "2022-09-20T17:54:22.499Z"
   },
   {
    "duration": 0,
    "start_time": "2022-09-20T17:54:22.500Z"
   },
   {
    "duration": 0,
    "start_time": "2022-09-20T17:54:22.501Z"
   },
   {
    "duration": 98,
    "start_time": "2022-09-20T17:54:36.536Z"
   },
   {
    "duration": 437,
    "start_time": "2022-09-20T17:54:38.860Z"
   },
   {
    "duration": 51,
    "start_time": "2022-09-20T17:54:44.005Z"
   },
   {
    "duration": 453,
    "start_time": "2022-09-20T17:55:10.936Z"
   },
   {
    "duration": 491,
    "start_time": "2022-09-20T17:55:31.708Z"
   },
   {
    "duration": 460,
    "start_time": "2022-09-20T17:56:53.674Z"
   },
   {
    "duration": 3,
    "start_time": "2022-09-20T17:58:14.773Z"
   },
   {
    "duration": 350,
    "start_time": "2022-09-20T17:58:36.016Z"
   },
   {
    "duration": 140,
    "start_time": "2022-09-20T17:58:41.302Z"
   },
   {
    "duration": 321,
    "start_time": "2022-09-20T17:59:22.055Z"
   },
   {
    "duration": 68,
    "start_time": "2022-09-20T17:59:25.556Z"
   },
   {
    "duration": 14,
    "start_time": "2022-09-20T18:07:09.136Z"
   },
   {
    "duration": 1072,
    "start_time": "2022-09-20T18:12:11.951Z"
   },
   {
    "duration": 974,
    "start_time": "2022-09-20T18:12:13.025Z"
   },
   {
    "duration": 3,
    "start_time": "2022-09-20T18:12:14.001Z"
   },
   {
    "duration": 281,
    "start_time": "2022-09-20T18:12:14.005Z"
   },
   {
    "duration": 656,
    "start_time": "2022-09-20T18:12:14.288Z"
   },
   {
    "duration": 63,
    "start_time": "2022-09-20T18:12:14.947Z"
   },
   {
    "duration": 20,
    "start_time": "2022-09-20T18:12:15.011Z"
   },
   {
    "duration": 94,
    "start_time": "2022-09-20T18:12:15.034Z"
   },
   {
    "duration": 18,
    "start_time": "2022-09-20T18:12:15.129Z"
   },
   {
    "duration": 4,
    "start_time": "2022-09-20T18:12:15.149Z"
   },
   {
    "duration": 372,
    "start_time": "2022-09-20T18:12:15.154Z"
   },
   {
    "duration": 107,
    "start_time": "2022-09-20T18:12:15.528Z"
   },
   {
    "duration": 0,
    "start_time": "2022-09-20T18:12:15.637Z"
   },
   {
    "duration": 0,
    "start_time": "2022-09-20T18:12:15.638Z"
   },
   {
    "duration": 0,
    "start_time": "2022-09-20T18:12:15.639Z"
   },
   {
    "duration": 0,
    "start_time": "2022-09-20T18:12:15.640Z"
   },
   {
    "duration": 0,
    "start_time": "2022-09-20T18:12:15.641Z"
   },
   {
    "duration": 0,
    "start_time": "2022-09-20T18:12:15.642Z"
   },
   {
    "duration": 0,
    "start_time": "2022-09-20T18:12:15.643Z"
   },
   {
    "duration": 332,
    "start_time": "2022-09-20T18:13:04.870Z"
   },
   {
    "duration": 335,
    "start_time": "2022-09-20T18:13:33.713Z"
   },
   {
    "duration": 382,
    "start_time": "2022-09-20T18:14:11.156Z"
   },
   {
    "duration": 1175,
    "start_time": "2022-09-20T18:29:09.593Z"
   },
   {
    "duration": 968,
    "start_time": "2022-09-20T18:29:10.770Z"
   },
   {
    "duration": 6,
    "start_time": "2022-09-20T18:29:11.741Z"
   },
   {
    "duration": 92,
    "start_time": "2022-09-20T18:29:11.751Z"
   },
   {
    "duration": 584,
    "start_time": "2022-09-20T18:29:11.844Z"
   },
   {
    "duration": 63,
    "start_time": "2022-09-20T18:29:12.435Z"
   },
   {
    "duration": 12,
    "start_time": "2022-09-20T18:29:12.499Z"
   },
   {
    "duration": 81,
    "start_time": "2022-09-20T18:29:12.513Z"
   },
   {
    "duration": 16,
    "start_time": "2022-09-20T18:29:12.597Z"
   },
   {
    "duration": 6,
    "start_time": "2022-09-20T18:29:12.624Z"
   },
   {
    "duration": 369,
    "start_time": "2022-09-20T18:29:12.632Z"
   },
   {
    "duration": 102,
    "start_time": "2022-09-20T18:29:13.003Z"
   },
   {
    "duration": 0,
    "start_time": "2022-09-20T18:29:13.107Z"
   },
   {
    "duration": 0,
    "start_time": "2022-09-20T18:29:13.108Z"
   },
   {
    "duration": 0,
    "start_time": "2022-09-20T18:29:13.109Z"
   },
   {
    "duration": 1,
    "start_time": "2022-09-20T18:29:13.109Z"
   },
   {
    "duration": 0,
    "start_time": "2022-09-20T18:29:13.111Z"
   },
   {
    "duration": 0,
    "start_time": "2022-09-20T18:29:13.121Z"
   },
   {
    "duration": 0,
    "start_time": "2022-09-20T18:29:13.122Z"
   },
   {
    "duration": 1104,
    "start_time": "2022-09-20T18:31:26.449Z"
   },
   {
    "duration": 941,
    "start_time": "2022-09-20T18:31:27.555Z"
   },
   {
    "duration": 3,
    "start_time": "2022-09-20T18:31:28.497Z"
   },
   {
    "duration": 96,
    "start_time": "2022-09-20T18:31:28.502Z"
   },
   {
    "duration": 592,
    "start_time": "2022-09-20T18:31:28.600Z"
   },
   {
    "duration": 66,
    "start_time": "2022-09-20T18:31:29.194Z"
   },
   {
    "duration": 13,
    "start_time": "2022-09-20T18:31:29.261Z"
   },
   {
    "duration": 90,
    "start_time": "2022-09-20T18:31:29.275Z"
   },
   {
    "duration": 18,
    "start_time": "2022-09-20T18:31:29.367Z"
   },
   {
    "duration": 5,
    "start_time": "2022-09-20T18:31:29.388Z"
   },
   {
    "duration": 8,
    "start_time": "2022-09-20T18:31:29.395Z"
   },
   {
    "duration": 186,
    "start_time": "2022-09-20T18:31:29.404Z"
   },
   {
    "duration": 108,
    "start_time": "2022-09-20T18:31:29.592Z"
   },
   {
    "duration": 0,
    "start_time": "2022-09-20T18:31:29.701Z"
   },
   {
    "duration": 0,
    "start_time": "2022-09-20T18:31:29.702Z"
   },
   {
    "duration": 0,
    "start_time": "2022-09-20T18:31:29.704Z"
   },
   {
    "duration": 0,
    "start_time": "2022-09-20T18:31:29.705Z"
   },
   {
    "duration": 0,
    "start_time": "2022-09-20T18:31:29.705Z"
   },
   {
    "duration": 0,
    "start_time": "2022-09-20T18:31:29.706Z"
   },
   {
    "duration": 166,
    "start_time": "2022-09-20T18:33:07.678Z"
   },
   {
    "duration": 1137,
    "start_time": "2022-09-20T18:33:16.572Z"
   },
   {
    "duration": 992,
    "start_time": "2022-09-20T18:33:17.710Z"
   },
   {
    "duration": 13,
    "start_time": "2022-09-20T18:33:18.705Z"
   },
   {
    "duration": 118,
    "start_time": "2022-09-20T18:33:18.728Z"
   },
   {
    "duration": 651,
    "start_time": "2022-09-20T18:33:18.848Z"
   },
   {
    "duration": 75,
    "start_time": "2022-09-20T18:33:19.500Z"
   },
   {
    "duration": 14,
    "start_time": "2022-09-20T18:33:19.577Z"
   },
   {
    "duration": 116,
    "start_time": "2022-09-20T18:33:19.594Z"
   },
   {
    "duration": 28,
    "start_time": "2022-09-20T18:33:19.712Z"
   },
   {
    "duration": 9,
    "start_time": "2022-09-20T18:33:19.744Z"
   },
   {
    "duration": 5,
    "start_time": "2022-09-20T18:33:19.754Z"
   },
   {
    "duration": 161,
    "start_time": "2022-09-20T18:33:19.761Z"
   },
   {
    "duration": 114,
    "start_time": "2022-09-20T18:33:19.927Z"
   },
   {
    "duration": 0,
    "start_time": "2022-09-20T18:33:20.045Z"
   },
   {
    "duration": 0,
    "start_time": "2022-09-20T18:33:20.046Z"
   },
   {
    "duration": 0,
    "start_time": "2022-09-20T18:33:20.047Z"
   },
   {
    "duration": 0,
    "start_time": "2022-09-20T18:33:20.048Z"
   },
   {
    "duration": 0,
    "start_time": "2022-09-20T18:33:20.050Z"
   },
   {
    "duration": 0,
    "start_time": "2022-09-20T18:33:20.050Z"
   },
   {
    "duration": 1121,
    "start_time": "2022-09-20T18:34:07.695Z"
   },
   {
    "duration": 965,
    "start_time": "2022-09-20T18:34:08.818Z"
   },
   {
    "duration": 3,
    "start_time": "2022-09-20T18:34:09.784Z"
   },
   {
    "duration": 96,
    "start_time": "2022-09-20T18:34:09.789Z"
   },
   {
    "duration": 604,
    "start_time": "2022-09-20T18:34:09.888Z"
   },
   {
    "duration": 79,
    "start_time": "2022-09-20T18:34:10.494Z"
   },
   {
    "duration": 13,
    "start_time": "2022-09-20T18:34:10.574Z"
   },
   {
    "duration": 83,
    "start_time": "2022-09-20T18:34:10.589Z"
   },
   {
    "duration": 16,
    "start_time": "2022-09-20T18:34:10.673Z"
   },
   {
    "duration": 4,
    "start_time": "2022-09-20T18:34:10.691Z"
   },
   {
    "duration": 9,
    "start_time": "2022-09-20T18:34:10.696Z"
   },
   {
    "duration": 2011,
    "start_time": "2022-09-20T18:34:10.706Z"
   },
   {
    "duration": 0,
    "start_time": "2022-09-20T18:34:12.719Z"
   },
   {
    "duration": 0,
    "start_time": "2022-09-20T18:34:12.721Z"
   },
   {
    "duration": 0,
    "start_time": "2022-09-20T18:34:12.721Z"
   },
   {
    "duration": 0,
    "start_time": "2022-09-20T18:34:12.722Z"
   },
   {
    "duration": 0,
    "start_time": "2022-09-20T18:34:12.725Z"
   },
   {
    "duration": 0,
    "start_time": "2022-09-20T18:34:12.726Z"
   },
   {
    "duration": 0,
    "start_time": "2022-09-20T18:34:12.726Z"
   },
   {
    "duration": 3,
    "start_time": "2022-09-20T18:36:23.965Z"
   },
   {
    "duration": 1123,
    "start_time": "2022-09-20T18:37:13.074Z"
   },
   {
    "duration": 989,
    "start_time": "2022-09-20T18:37:14.199Z"
   },
   {
    "duration": 2,
    "start_time": "2022-09-20T18:37:15.190Z"
   },
   {
    "duration": 92,
    "start_time": "2022-09-20T18:37:15.194Z"
   },
   {
    "duration": 603,
    "start_time": "2022-09-20T18:37:15.287Z"
   },
   {
    "duration": 73,
    "start_time": "2022-09-20T18:37:15.892Z"
   },
   {
    "duration": 14,
    "start_time": "2022-09-20T18:37:15.967Z"
   },
   {
    "duration": 102,
    "start_time": "2022-09-20T18:37:15.982Z"
   },
   {
    "duration": 17,
    "start_time": "2022-09-20T18:37:16.087Z"
   },
   {
    "duration": 270,
    "start_time": "2022-09-20T18:37:16.126Z"
   },
   {
    "duration": 0,
    "start_time": "2022-09-20T18:37:16.398Z"
   },
   {
    "duration": 0,
    "start_time": "2022-09-20T18:37:16.399Z"
   },
   {
    "duration": 0,
    "start_time": "2022-09-20T18:37:16.400Z"
   },
   {
    "duration": 0,
    "start_time": "2022-09-20T18:37:16.402Z"
   },
   {
    "duration": 0,
    "start_time": "2022-09-20T18:37:16.403Z"
   },
   {
    "duration": 0,
    "start_time": "2022-09-20T18:37:16.404Z"
   },
   {
    "duration": 0,
    "start_time": "2022-09-20T18:37:16.406Z"
   },
   {
    "duration": 0,
    "start_time": "2022-09-20T18:37:16.407Z"
   },
   {
    "duration": 0,
    "start_time": "2022-09-20T18:37:16.408Z"
   },
   {
    "duration": 4,
    "start_time": "2022-09-20T18:37:33.794Z"
   },
   {
    "duration": 1915,
    "start_time": "2022-09-20T18:37:38.218Z"
   },
   {
    "duration": 15,
    "start_time": "2022-09-20T18:38:00.850Z"
   },
   {
    "duration": 1371,
    "start_time": "2022-09-20T18:39:11.749Z"
   },
   {
    "duration": 1103,
    "start_time": "2022-09-20T18:39:21.576Z"
   },
   {
    "duration": 1049,
    "start_time": "2022-09-20T18:39:22.681Z"
   },
   {
    "duration": 4,
    "start_time": "2022-09-20T18:39:23.733Z"
   },
   {
    "duration": 97,
    "start_time": "2022-09-20T18:39:23.739Z"
   },
   {
    "duration": 673,
    "start_time": "2022-09-20T18:39:23.838Z"
   },
   {
    "duration": 74,
    "start_time": "2022-09-20T18:39:24.513Z"
   },
   {
    "duration": 15,
    "start_time": "2022-09-20T18:39:24.589Z"
   },
   {
    "duration": 87,
    "start_time": "2022-09-20T18:39:24.625Z"
   },
   {
    "duration": 27,
    "start_time": "2022-09-20T18:39:24.714Z"
   },
   {
    "duration": 4,
    "start_time": "2022-09-20T18:39:24.743Z"
   },
   {
    "duration": 2103,
    "start_time": "2022-09-20T18:39:24.748Z"
   },
   {
    "duration": 0,
    "start_time": "2022-09-20T18:39:26.852Z"
   },
   {
    "duration": 0,
    "start_time": "2022-09-20T18:39:26.854Z"
   },
   {
    "duration": 0,
    "start_time": "2022-09-20T18:39:26.855Z"
   },
   {
    "duration": 0,
    "start_time": "2022-09-20T18:39:26.856Z"
   },
   {
    "duration": 0,
    "start_time": "2022-09-20T18:39:26.857Z"
   },
   {
    "duration": 0,
    "start_time": "2022-09-20T18:39:26.858Z"
   },
   {
    "duration": 0,
    "start_time": "2022-09-20T18:39:26.859Z"
   },
   {
    "duration": 0,
    "start_time": "2022-09-20T18:39:26.860Z"
   },
   {
    "duration": 3,
    "start_time": "2022-09-20T18:39:51.998Z"
   },
   {
    "duration": 1328,
    "start_time": "2022-09-20T18:39:54.503Z"
   },
   {
    "duration": 25,
    "start_time": "2022-09-20T18:42:16.580Z"
   },
   {
    "duration": 26,
    "start_time": "2022-09-20T18:42:44.016Z"
   },
   {
    "duration": 328,
    "start_time": "2022-09-20T18:44:43.173Z"
   },
   {
    "duration": 486,
    "start_time": "2022-09-20T18:46:12.297Z"
   },
   {
    "duration": 3,
    "start_time": "2022-09-20T18:48:20.872Z"
   },
   {
    "duration": 1818,
    "start_time": "2022-09-20T18:50:04.133Z"
   },
   {
    "duration": 2879,
    "start_time": "2022-09-20T18:51:43.839Z"
   },
   {
    "duration": 1101,
    "start_time": "2022-09-20T18:52:13.938Z"
   },
   {
    "duration": 927,
    "start_time": "2022-09-20T18:52:15.041Z"
   },
   {
    "duration": 3,
    "start_time": "2022-09-20T18:52:15.969Z"
   },
   {
    "duration": 96,
    "start_time": "2022-09-20T18:52:15.973Z"
   },
   {
    "duration": 640,
    "start_time": "2022-09-20T18:52:16.072Z"
   },
   {
    "duration": 64,
    "start_time": "2022-09-20T18:52:16.714Z"
   },
   {
    "duration": 12,
    "start_time": "2022-09-20T18:52:16.780Z"
   },
   {
    "duration": 86,
    "start_time": "2022-09-20T18:52:16.793Z"
   },
   {
    "duration": 18,
    "start_time": "2022-09-20T18:52:16.881Z"
   },
   {
    "duration": 3336,
    "start_time": "2022-09-20T18:52:16.901Z"
   },
   {
    "duration": 94,
    "start_time": "2022-09-20T18:52:20.239Z"
   },
   {
    "duration": 0,
    "start_time": "2022-09-20T18:52:20.335Z"
   },
   {
    "duration": 0,
    "start_time": "2022-09-20T18:52:20.336Z"
   },
   {
    "duration": 0,
    "start_time": "2022-09-20T18:52:20.337Z"
   },
   {
    "duration": 0,
    "start_time": "2022-09-20T18:52:20.339Z"
   },
   {
    "duration": 0,
    "start_time": "2022-09-20T18:52:20.342Z"
   },
   {
    "duration": 0,
    "start_time": "2022-09-20T18:52:20.343Z"
   },
   {
    "duration": 0,
    "start_time": "2022-09-20T18:52:20.344Z"
   },
   {
    "duration": 25127,
    "start_time": "2022-09-20T18:53:32.614Z"
   },
   {
    "duration": 13,
    "start_time": "2022-09-20T18:55:26.458Z"
   },
   {
    "duration": 13,
    "start_time": "2022-09-20T18:57:13.674Z"
   },
   {
    "duration": 1143,
    "start_time": "2022-09-20T18:57:25.752Z"
   },
   {
    "duration": 1005,
    "start_time": "2022-09-20T18:57:26.897Z"
   },
   {
    "duration": 3,
    "start_time": "2022-09-20T18:57:27.903Z"
   },
   {
    "duration": 102,
    "start_time": "2022-09-20T18:57:27.908Z"
   },
   {
    "duration": 641,
    "start_time": "2022-09-20T18:57:28.011Z"
   },
   {
    "duration": 89,
    "start_time": "2022-09-20T18:57:28.653Z"
   },
   {
    "duration": 13,
    "start_time": "2022-09-20T18:57:28.748Z"
   },
   {
    "duration": 92,
    "start_time": "2022-09-20T18:57:28.762Z"
   },
   {
    "duration": 15,
    "start_time": "2022-09-20T18:57:28.856Z"
   },
   {
    "duration": 3363,
    "start_time": "2022-09-20T18:57:28.875Z"
   },
   {
    "duration": 47531,
    "start_time": "2022-09-20T18:57:32.242Z"
   },
   {
    "duration": 0,
    "start_time": "2022-09-20T18:58:19.775Z"
   },
   {
    "duration": 0,
    "start_time": "2022-09-20T18:58:19.776Z"
   },
   {
    "duration": 0,
    "start_time": "2022-09-20T18:58:19.778Z"
   },
   {
    "duration": 0,
    "start_time": "2022-09-20T18:58:19.779Z"
   },
   {
    "duration": 0,
    "start_time": "2022-09-20T18:58:19.780Z"
   },
   {
    "duration": 0,
    "start_time": "2022-09-20T18:58:19.782Z"
   },
   {
    "duration": 0,
    "start_time": "2022-09-20T18:58:19.784Z"
   },
   {
    "duration": 98,
    "start_time": "2022-09-20T19:01:35.673Z"
   },
   {
    "duration": 1167,
    "start_time": "2022-09-20T19:01:55.524Z"
   },
   {
    "duration": 995,
    "start_time": "2022-09-20T19:01:56.693Z"
   },
   {
    "duration": 3,
    "start_time": "2022-09-20T19:01:57.690Z"
   },
   {
    "duration": 102,
    "start_time": "2022-09-20T19:01:57.695Z"
   },
   {
    "duration": 650,
    "start_time": "2022-09-20T19:01:57.799Z"
   },
   {
    "duration": 62,
    "start_time": "2022-09-20T19:01:58.451Z"
   },
   {
    "duration": 18,
    "start_time": "2022-09-20T19:01:58.525Z"
   },
   {
    "duration": 106,
    "start_time": "2022-09-20T19:01:58.546Z"
   },
   {
    "duration": 15,
    "start_time": "2022-09-20T19:01:58.653Z"
   },
   {
    "duration": 3367,
    "start_time": "2022-09-20T19:01:58.670Z"
   },
   {
    "duration": 44885,
    "start_time": "2022-09-20T19:02:02.039Z"
   },
   {
    "duration": 0,
    "start_time": "2022-09-20T19:02:46.925Z"
   },
   {
    "duration": 0,
    "start_time": "2022-09-20T19:02:46.926Z"
   },
   {
    "duration": 0,
    "start_time": "2022-09-20T19:02:46.927Z"
   },
   {
    "duration": 0,
    "start_time": "2022-09-20T19:02:46.928Z"
   },
   {
    "duration": 0,
    "start_time": "2022-09-20T19:02:46.928Z"
   },
   {
    "duration": 0,
    "start_time": "2022-09-20T19:02:46.929Z"
   },
   {
    "duration": 0,
    "start_time": "2022-09-20T19:02:46.930Z"
   },
   {
    "duration": 1263,
    "start_time": "2022-09-21T19:08:15.939Z"
   },
   {
    "duration": 1233,
    "start_time": "2022-09-21T19:08:23.129Z"
   },
   {
    "duration": 1473,
    "start_time": "2022-09-21T19:08:24.364Z"
   },
   {
    "duration": 3,
    "start_time": "2022-09-21T19:08:25.838Z"
   },
   {
    "duration": 108,
    "start_time": "2022-09-21T19:08:25.843Z"
   },
   {
    "duration": 740,
    "start_time": "2022-09-21T19:08:25.953Z"
   },
   {
    "duration": 87,
    "start_time": "2022-09-21T19:08:26.694Z"
   },
   {
    "duration": 19,
    "start_time": "2022-09-21T19:08:26.784Z"
   },
   {
    "duration": 131,
    "start_time": "2022-09-21T19:08:26.805Z"
   },
   {
    "duration": 19,
    "start_time": "2022-09-21T19:08:26.938Z"
   },
   {
    "duration": 3581,
    "start_time": "2022-09-21T19:08:26.960Z"
   },
   {
    "duration": 20536,
    "start_time": "2022-09-21T19:08:30.543Z"
   },
   {
    "duration": 0,
    "start_time": "2022-09-21T19:08:51.080Z"
   },
   {
    "duration": 0,
    "start_time": "2022-09-21T19:08:51.082Z"
   },
   {
    "duration": 0,
    "start_time": "2022-09-21T19:08:51.083Z"
   },
   {
    "duration": 0,
    "start_time": "2022-09-21T19:08:51.084Z"
   },
   {
    "duration": 0,
    "start_time": "2022-09-21T19:08:51.085Z"
   },
   {
    "duration": 0,
    "start_time": "2022-09-21T19:08:51.086Z"
   },
   {
    "duration": 0,
    "start_time": "2022-09-21T19:08:51.087Z"
   },
   {
    "duration": 0,
    "start_time": "2022-09-21T19:08:51.088Z"
   },
   {
    "duration": 3,
    "start_time": "2022-09-21T19:13:27.374Z"
   },
   {
    "duration": 120,
    "start_time": "2022-09-21T19:13:30.663Z"
   },
   {
    "duration": 4,
    "start_time": "2022-09-21T19:13:32.955Z"
   },
   {
    "duration": 598,
    "start_time": "2022-09-21T19:13:35.456Z"
   },
   {
    "duration": 1373,
    "start_time": "2022-09-21T19:16:42.724Z"
   },
   {
    "duration": 1087,
    "start_time": "2022-09-21T19:16:44.099Z"
   },
   {
    "duration": 4,
    "start_time": "2022-09-21T19:16:45.188Z"
   },
   {
    "duration": 111,
    "start_time": "2022-09-21T19:16:45.193Z"
   },
   {
    "duration": 720,
    "start_time": "2022-09-21T19:16:45.306Z"
   },
   {
    "duration": 82,
    "start_time": "2022-09-21T19:16:46.028Z"
   },
   {
    "duration": 29,
    "start_time": "2022-09-21T19:16:46.112Z"
   },
   {
    "duration": 113,
    "start_time": "2022-09-21T19:16:46.143Z"
   },
   {
    "duration": 96,
    "start_time": "2022-09-21T19:16:46.259Z"
   },
   {
    "duration": 3585,
    "start_time": "2022-09-21T19:16:46.358Z"
   },
   {
    "duration": 3,
    "start_time": "2022-09-21T19:16:49.945Z"
   },
   {
    "duration": 88,
    "start_time": "2022-09-21T19:16:49.950Z"
   },
   {
    "duration": 4,
    "start_time": "2022-09-21T19:16:50.040Z"
   },
   {
    "duration": 551,
    "start_time": "2022-09-21T19:16:50.046Z"
   },
   {
    "duration": 1291,
    "start_time": "2022-09-21T19:21:04.036Z"
   },
   {
    "duration": 1386,
    "start_time": "2022-09-21T19:21:05.329Z"
   },
   {
    "duration": 15,
    "start_time": "2022-09-21T19:21:06.718Z"
   },
   {
    "duration": 119,
    "start_time": "2022-09-21T19:21:06.736Z"
   },
   {
    "duration": 731,
    "start_time": "2022-09-21T19:21:06.857Z"
   },
   {
    "duration": 91,
    "start_time": "2022-09-21T19:21:07.590Z"
   },
   {
    "duration": 13,
    "start_time": "2022-09-21T19:21:07.683Z"
   },
   {
    "duration": 108,
    "start_time": "2022-09-21T19:21:07.698Z"
   },
   {
    "duration": 83,
    "start_time": "2022-09-21T19:21:07.807Z"
   },
   {
    "duration": 3569,
    "start_time": "2022-09-21T19:21:07.891Z"
   },
   {
    "duration": 2,
    "start_time": "2022-09-21T19:21:11.462Z"
   },
   {
    "duration": 93,
    "start_time": "2022-09-21T19:21:11.465Z"
   },
   {
    "duration": 3,
    "start_time": "2022-09-21T19:21:11.561Z"
   },
   {
    "duration": 549,
    "start_time": "2022-09-21T19:21:11.567Z"
   },
   {
    "duration": 666421,
    "start_time": "2022-09-21T19:21:12.117Z"
   },
   {
    "duration": 795,
    "start_time": "2022-09-21T19:32:18.540Z"
   },
   {
    "duration": 5,
    "start_time": "2022-09-21T19:32:19.337Z"
   },
   {
    "duration": 25880,
    "start_time": "2022-09-21T19:32:19.344Z"
   },
   {
    "duration": 44689,
    "start_time": "2022-09-21T19:32:45.226Z"
   },
   {
    "duration": 42537,
    "start_time": "2022-09-21T19:33:29.917Z"
   },
   {
    "duration": 13,
    "start_time": "2022-09-21T20:43:06.032Z"
   },
   {
    "duration": 3157,
    "start_time": "2022-09-21T20:44:42.796Z"
   },
   {
    "duration": 1531,
    "start_time": "2022-09-22T07:31:20.058Z"
   },
   {
    "duration": 1368,
    "start_time": "2022-09-22T07:31:21.591Z"
   },
   {
    "duration": 4,
    "start_time": "2022-09-22T07:31:25.124Z"
   },
   {
    "duration": 119,
    "start_time": "2022-09-22T07:31:29.926Z"
   },
   {
    "duration": 644,
    "start_time": "2022-09-22T07:31:42.801Z"
   },
   {
    "duration": 66,
    "start_time": "2022-09-22T07:31:45.703Z"
   },
   {
    "duration": 108,
    "start_time": "2022-09-22T07:32:04.072Z"
   },
   {
    "duration": 20,
    "start_time": "2022-09-22T07:32:26.928Z"
   },
   {
    "duration": 77,
    "start_time": "2022-09-22T07:32:35.253Z"
   },
   {
    "duration": 17,
    "start_time": "2022-09-22T07:32:36.777Z"
   },
   {
    "duration": 571,
    "start_time": "2022-09-22T07:33:58.515Z"
   },
   {
    "duration": 4,
    "start_time": "2022-09-22T07:34:17.054Z"
   },
   {
    "duration": 4,
    "start_time": "2022-09-22T07:36:29.276Z"
   },
   {
    "duration": 9,
    "start_time": "2022-09-22T07:36:38.279Z"
   },
   {
    "duration": 112,
    "start_time": "2022-09-22T07:37:45.050Z"
   },
   {
    "duration": 5,
    "start_time": "2022-09-22T07:37:55.172Z"
   },
   {
    "duration": 4,
    "start_time": "2022-09-22T07:38:26.627Z"
   },
   {
    "duration": 5,
    "start_time": "2022-09-22T07:39:19.377Z"
   },
   {
    "duration": 39,
    "start_time": "2022-09-22T07:39:20.456Z"
   },
   {
    "duration": 9,
    "start_time": "2022-09-22T07:39:32.659Z"
   },
   {
    "duration": 43,
    "start_time": "2022-09-22T07:39:47.826Z"
   },
   {
    "duration": 5,
    "start_time": "2022-09-22T07:40:11.123Z"
   },
   {
    "duration": 9,
    "start_time": "2022-09-22T07:40:41.203Z"
   },
   {
    "duration": 19,
    "start_time": "2022-09-22T07:41:01.498Z"
   },
   {
    "duration": 5,
    "start_time": "2022-09-22T07:41:12.457Z"
   },
   {
    "duration": 5,
    "start_time": "2022-09-22T07:41:29.294Z"
   },
   {
    "duration": 17,
    "start_time": "2022-09-22T07:41:57.623Z"
   },
   {
    "duration": 5,
    "start_time": "2022-09-22T07:43:02.796Z"
   },
   {
    "duration": 25,
    "start_time": "2022-09-22T07:44:42.087Z"
   },
   {
    "duration": 17,
    "start_time": "2022-09-22T07:45:52.166Z"
   },
   {
    "duration": 201,
    "start_time": "2022-09-22T07:46:08.122Z"
   },
   {
    "duration": 16,
    "start_time": "2022-09-22T07:46:13.123Z"
   },
   {
    "duration": 4,
    "start_time": "2022-09-22T07:46:16.574Z"
   },
   {
    "duration": 2,
    "start_time": "2022-09-22T07:47:08.121Z"
   },
   {
    "duration": 5,
    "start_time": "2022-09-22T07:47:08.392Z"
   },
   {
    "duration": 2,
    "start_time": "2022-09-22T07:47:08.623Z"
   },
   {
    "duration": 2,
    "start_time": "2022-09-22T07:47:08.913Z"
   },
   {
    "duration": 3,
    "start_time": "2022-09-22T07:47:09.181Z"
   },
   {
    "duration": 13,
    "start_time": "2022-09-22T07:48:32.734Z"
   },
   {
    "duration": 318,
    "start_time": "2022-09-22T07:50:21.164Z"
   },
   {
    "duration": 302,
    "start_time": "2022-09-22T07:53:09.385Z"
   },
   {
    "duration": 23,
    "start_time": "2022-09-22T07:53:43.202Z"
   },
   {
    "duration": 529,
    "start_time": "2022-09-22T07:53:55.877Z"
   },
   {
    "duration": 10,
    "start_time": "2022-09-22T07:54:05.857Z"
   },
   {
    "duration": 42,
    "start_time": "2022-09-22T07:54:18.429Z"
   },
   {
    "duration": 520,
    "start_time": "2022-09-22T07:54:59.807Z"
   },
   {
    "duration": 8,
    "start_time": "2022-09-22T07:55:02.687Z"
   },
   {
    "duration": 5,
    "start_time": "2022-09-22T07:55:12.775Z"
   },
   {
    "duration": 1232,
    "start_time": "2022-09-22T07:55:36.054Z"
   },
   {
    "duration": 13,
    "start_time": "2022-09-22T07:55:43.153Z"
   },
   {
    "duration": 2,
    "start_time": "2022-09-22T08:00:08.201Z"
   },
   {
    "duration": 107,
    "start_time": "2022-09-22T08:00:54.617Z"
   },
   {
    "duration": 38616,
    "start_time": "2022-09-22T08:01:01.226Z"
   },
   {
    "duration": 3,
    "start_time": "2022-09-22T08:01:57.500Z"
   },
   {
    "duration": 97,
    "start_time": "2022-09-22T08:02:06.554Z"
   },
   {
    "duration": 4,
    "start_time": "2022-09-22T08:03:10.675Z"
   },
   {
    "duration": 2,
    "start_time": "2022-09-22T08:04:43.941Z"
   },
   {
    "duration": 3,
    "start_time": "2022-09-22T08:04:44.245Z"
   },
   {
    "duration": 2,
    "start_time": "2022-09-22T08:04:44.522Z"
   },
   {
    "duration": 2,
    "start_time": "2022-09-22T08:08:29.622Z"
   },
   {
    "duration": 3,
    "start_time": "2022-09-22T08:08:35.761Z"
   },
   {
    "duration": 10,
    "start_time": "2022-09-22T08:09:20.219Z"
   },
   {
    "duration": 332593,
    "start_time": "2022-09-22T08:09:26.160Z"
   },
   {
    "duration": 0,
    "start_time": "2022-09-22T08:14:58.755Z"
   },
   {
    "duration": 0,
    "start_time": "2022-09-22T08:14:58.757Z"
   },
   {
    "duration": 0,
    "start_time": "2022-09-22T08:14:58.758Z"
   },
   {
    "duration": 0,
    "start_time": "2022-09-22T08:14:58.760Z"
   },
   {
    "duration": 1698,
    "start_time": "2022-09-22T08:15:12.508Z"
   },
   {
    "duration": 1582,
    "start_time": "2022-09-22T08:15:14.209Z"
   },
   {
    "duration": 3,
    "start_time": "2022-09-22T08:15:15.793Z"
   },
   {
    "duration": 156,
    "start_time": "2022-09-22T08:15:15.798Z"
   },
   {
    "duration": 789,
    "start_time": "2022-09-22T08:15:15.956Z"
   },
   {
    "duration": 92,
    "start_time": "2022-09-22T08:15:16.747Z"
   },
   {
    "duration": 150,
    "start_time": "2022-09-22T08:15:16.848Z"
   },
   {
    "duration": 14,
    "start_time": "2022-09-22T08:15:17.000Z"
   },
   {
    "duration": 204,
    "start_time": "2022-09-22T08:15:17.016Z"
   },
   {
    "duration": 31,
    "start_time": "2022-09-22T08:15:17.222Z"
   },
   {
    "duration": 596,
    "start_time": "2022-09-22T08:15:17.254Z"
   },
   {
    "duration": 5,
    "start_time": "2022-09-22T08:15:17.858Z"
   },
   {
    "duration": 9,
    "start_time": "2022-09-22T08:15:17.864Z"
   },
   {
    "duration": 45,
    "start_time": "2022-09-22T08:15:17.878Z"
   },
   {
    "duration": 18,
    "start_time": "2022-09-22T08:15:17.925Z"
   },
   {
    "duration": 55,
    "start_time": "2022-09-22T08:15:17.947Z"
   },
   {
    "duration": 7,
    "start_time": "2022-09-22T08:15:18.005Z"
   },
   {
    "duration": 40,
    "start_time": "2022-09-22T08:15:18.014Z"
   },
   {
    "duration": 18,
    "start_time": "2022-09-22T08:15:18.056Z"
   },
   {
    "duration": 14,
    "start_time": "2022-09-22T08:15:18.076Z"
   },
   {
    "duration": 27,
    "start_time": "2022-09-22T08:15:18.092Z"
   },
   {
    "duration": 10,
    "start_time": "2022-09-22T08:15:18.121Z"
   },
   {
    "duration": 82,
    "start_time": "2022-09-22T08:15:18.133Z"
   },
   {
    "duration": 241,
    "start_time": "2022-09-22T08:15:18.217Z"
   },
   {
    "duration": 17,
    "start_time": "2022-09-22T08:15:18.462Z"
   },
   {
    "duration": 13,
    "start_time": "2022-09-22T08:15:18.481Z"
   },
   {
    "duration": 6,
    "start_time": "2022-09-22T08:15:18.497Z"
   },
   {
    "duration": 10,
    "start_time": "2022-09-22T08:15:18.505Z"
   },
   {
    "duration": 8,
    "start_time": "2022-09-22T08:15:18.518Z"
   },
   {
    "duration": 28,
    "start_time": "2022-09-22T08:15:18.528Z"
   },
   {
    "duration": 6,
    "start_time": "2022-09-22T08:15:18.558Z"
   },
   {
    "duration": 28,
    "start_time": "2022-09-22T08:15:18.566Z"
   },
   {
    "duration": 1207,
    "start_time": "2022-09-22T08:15:18.596Z"
   },
   {
    "duration": 19,
    "start_time": "2022-09-22T08:15:19.805Z"
   },
   {
    "duration": 7,
    "start_time": "2022-09-22T08:15:19.833Z"
   },
   {
    "duration": 38,
    "start_time": "2022-09-22T08:15:19.842Z"
   },
   {
    "duration": 0,
    "start_time": "2022-09-22T08:15:19.883Z"
   },
   {
    "duration": 0,
    "start_time": "2022-09-22T08:15:19.884Z"
   },
   {
    "duration": 37245,
    "start_time": "2022-09-22T08:16:26.716Z"
   },
   {
    "duration": 180,
    "start_time": "2022-09-22T08:17:03.962Z"
   },
   {
    "duration": 8,
    "start_time": "2022-09-22T08:17:04.144Z"
   },
   {
    "duration": 46,
    "start_time": "2022-09-22T15:58:56.936Z"
   },
   {
    "duration": 1273,
    "start_time": "2022-09-22T15:59:03.113Z"
   },
   {
    "duration": 1347,
    "start_time": "2022-09-22T15:59:04.388Z"
   },
   {
    "duration": 3,
    "start_time": "2022-09-22T15:59:05.737Z"
   },
   {
    "duration": 109,
    "start_time": "2022-09-22T15:59:05.742Z"
   },
   {
    "duration": 667,
    "start_time": "2022-09-22T15:59:05.853Z"
   },
   {
    "duration": 64,
    "start_time": "2022-09-22T15:59:06.521Z"
   },
   {
    "duration": 105,
    "start_time": "2022-09-22T15:59:06.586Z"
   },
   {
    "duration": 11,
    "start_time": "2022-09-22T15:59:06.693Z"
   },
   {
    "duration": 100,
    "start_time": "2022-09-22T15:59:06.705Z"
   },
   {
    "duration": 15,
    "start_time": "2022-09-22T15:59:06.861Z"
   },
   {
    "duration": 487,
    "start_time": "2022-09-22T15:59:06.878Z"
   },
   {
    "duration": 4,
    "start_time": "2022-09-22T15:59:07.367Z"
   },
   {
    "duration": 11,
    "start_time": "2022-09-22T15:59:07.372Z"
   },
   {
    "duration": 43,
    "start_time": "2022-09-22T15:59:07.384Z"
   },
   {
    "duration": 4,
    "start_time": "2022-09-22T15:59:07.434Z"
   },
   {
    "duration": 41,
    "start_time": "2022-09-22T15:59:07.439Z"
   },
   {
    "duration": 4,
    "start_time": "2022-09-22T15:59:07.482Z"
   },
   {
    "duration": 21,
    "start_time": "2022-09-22T15:59:07.488Z"
   },
   {
    "duration": 4,
    "start_time": "2022-09-22T15:59:07.511Z"
   },
   {
    "duration": 5,
    "start_time": "2022-09-22T15:59:07.534Z"
   },
   {
    "duration": 21,
    "start_time": "2022-09-22T15:59:07.540Z"
   },
   {
    "duration": 9,
    "start_time": "2022-09-22T15:59:07.563Z"
   },
   {
    "duration": 15,
    "start_time": "2022-09-22T15:59:07.574Z"
   },
   {
    "duration": 195,
    "start_time": "2022-09-22T15:59:07.591Z"
   },
   {
    "duration": 14,
    "start_time": "2022-09-22T15:59:07.788Z"
   },
   {
    "duration": 2,
    "start_time": "2022-09-22T15:59:07.804Z"
   },
   {
    "duration": 5,
    "start_time": "2022-09-22T15:59:07.808Z"
   },
   {
    "duration": 17,
    "start_time": "2022-09-22T15:59:07.816Z"
   },
   {
    "duration": 2,
    "start_time": "2022-09-22T15:59:07.835Z"
   },
   {
    "duration": 6,
    "start_time": "2022-09-22T15:59:07.839Z"
   },
   {
    "duration": 5,
    "start_time": "2022-09-22T15:59:07.846Z"
   },
   {
    "duration": 11,
    "start_time": "2022-09-22T15:59:07.852Z"
   },
   {
    "duration": 749,
    "start_time": "2022-09-22T15:59:07.865Z"
   },
   {
    "duration": 11,
    "start_time": "2022-09-22T15:59:08.616Z"
   },
   {
    "duration": 3,
    "start_time": "2022-09-22T15:59:08.634Z"
   },
   {
    "duration": 12600,
    "start_time": "2022-09-22T15:59:08.638Z"
   },
   {
    "duration": 193,
    "start_time": "2022-09-22T15:59:21.240Z"
   },
   {
    "duration": 7,
    "start_time": "2022-09-22T15:59:21.435Z"
   },
   {
    "duration": 95,
    "start_time": "2022-09-22T15:59:21.444Z"
   },
   {
    "duration": 13,
    "start_time": "2022-09-22T15:59:21.541Z"
   },
   {
    "duration": 7,
    "start_time": "2022-09-22T15:59:21.556Z"
   },
   {
    "duration": 101,
    "start_time": "2022-09-22T15:59:21.564Z"
   },
   {
    "duration": 0,
    "start_time": "2022-09-22T15:59:21.667Z"
   },
   {
    "duration": 0,
    "start_time": "2022-09-22T15:59:21.668Z"
   },
   {
    "duration": 0,
    "start_time": "2022-09-22T15:59:21.669Z"
   },
   {
    "duration": 0,
    "start_time": "2022-09-22T15:59:21.670Z"
   },
   {
    "duration": 0,
    "start_time": "2022-09-22T15:59:21.671Z"
   },
   {
    "duration": 0,
    "start_time": "2022-09-22T15:59:21.672Z"
   },
   {
    "duration": 0,
    "start_time": "2022-09-22T15:59:21.673Z"
   },
   {
    "duration": 0,
    "start_time": "2022-09-22T15:59:21.674Z"
   },
   {
    "duration": 0,
    "start_time": "2022-09-22T15:59:21.675Z"
   },
   {
    "duration": 0,
    "start_time": "2022-09-22T15:59:21.676Z"
   },
   {
    "duration": 3,
    "start_time": "2022-09-22T16:01:27.667Z"
   },
   {
    "duration": 22,
    "start_time": "2022-09-22T16:05:12.424Z"
   },
   {
    "duration": 10,
    "start_time": "2022-09-22T16:05:48.917Z"
   },
   {
    "duration": 3919,
    "start_time": "2022-09-22T16:06:02.619Z"
   },
   {
    "duration": 5879,
    "start_time": "2022-09-22T16:06:39.258Z"
   },
   {
    "duration": 3896,
    "start_time": "2022-09-22T16:07:21.152Z"
   },
   {
    "duration": 1154,
    "start_time": "2022-09-22T16:09:51.130Z"
   },
   {
    "duration": 1078,
    "start_time": "2022-09-22T16:09:52.286Z"
   },
   {
    "duration": 3,
    "start_time": "2022-09-22T16:09:53.366Z"
   },
   {
    "duration": 115,
    "start_time": "2022-09-22T16:09:53.371Z"
   },
   {
    "duration": 653,
    "start_time": "2022-09-22T16:09:53.488Z"
   },
   {
    "duration": 90,
    "start_time": "2022-09-22T16:09:54.143Z"
   },
   {
    "duration": 111,
    "start_time": "2022-09-22T16:09:54.235Z"
   },
   {
    "duration": 12,
    "start_time": "2022-09-22T16:09:54.348Z"
   },
   {
    "duration": 171,
    "start_time": "2022-09-22T16:09:54.361Z"
   },
   {
    "duration": 22,
    "start_time": "2022-09-22T16:09:54.534Z"
   },
   {
    "duration": 521,
    "start_time": "2022-09-22T16:09:54.558Z"
   },
   {
    "duration": 4,
    "start_time": "2022-09-22T16:09:55.080Z"
   },
   {
    "duration": 17,
    "start_time": "2022-09-22T16:09:55.086Z"
   },
   {
    "duration": 44,
    "start_time": "2022-09-22T16:09:55.106Z"
   },
   {
    "duration": 5,
    "start_time": "2022-09-22T16:09:55.151Z"
   },
   {
    "duration": 41,
    "start_time": "2022-09-22T16:09:55.157Z"
   },
   {
    "duration": 7,
    "start_time": "2022-09-22T16:09:55.201Z"
   },
   {
    "duration": 33,
    "start_time": "2022-09-22T16:09:55.210Z"
   },
   {
    "duration": 4,
    "start_time": "2022-09-22T16:09:55.245Z"
   },
   {
    "duration": 10,
    "start_time": "2022-09-22T16:09:55.250Z"
   },
   {
    "duration": 27,
    "start_time": "2022-09-22T16:09:55.261Z"
   },
   {
    "duration": 10,
    "start_time": "2022-09-22T16:09:55.290Z"
   },
   {
    "duration": 20,
    "start_time": "2022-09-22T16:09:55.301Z"
   },
   {
    "duration": 195,
    "start_time": "2022-09-22T16:09:55.322Z"
   },
   {
    "duration": 20,
    "start_time": "2022-09-22T16:09:55.519Z"
   },
   {
    "duration": 3,
    "start_time": "2022-09-22T16:09:55.540Z"
   },
   {
    "duration": 8,
    "start_time": "2022-09-22T16:09:55.544Z"
   },
   {
    "duration": 5,
    "start_time": "2022-09-22T16:09:55.553Z"
   },
   {
    "duration": 13,
    "start_time": "2022-09-22T16:09:55.560Z"
   },
   {
    "duration": 8,
    "start_time": "2022-09-22T16:09:55.574Z"
   },
   {
    "duration": 7,
    "start_time": "2022-09-22T16:09:55.583Z"
   },
   {
    "duration": 15,
    "start_time": "2022-09-22T16:09:55.591Z"
   },
   {
    "duration": 836,
    "start_time": "2022-09-22T16:09:55.607Z"
   },
   {
    "duration": 13,
    "start_time": "2022-09-22T16:09:56.445Z"
   },
   {
    "duration": 7,
    "start_time": "2022-09-22T16:09:56.460Z"
   },
   {
    "duration": 20676,
    "start_time": "2022-09-22T16:09:56.469Z"
   },
   {
    "duration": 193,
    "start_time": "2022-09-22T16:10:17.147Z"
   },
   {
    "duration": 92,
    "start_time": "2022-09-22T16:10:17.343Z"
   },
   {
    "duration": 6,
    "start_time": "2022-09-22T16:10:17.436Z"
   },
   {
    "duration": 8,
    "start_time": "2022-09-22T16:10:17.443Z"
   },
   {
    "duration": 3,
    "start_time": "2022-09-22T16:10:17.455Z"
   },
   {
    "duration": 9,
    "start_time": "2022-09-22T16:10:17.460Z"
   },
   {
    "duration": 75174,
    "start_time": "2022-09-22T16:10:17.470Z"
   },
   {
    "duration": 2,
    "start_time": "2022-09-22T16:11:32.646Z"
   },
   {
    "duration": 6,
    "start_time": "2022-09-22T16:11:32.650Z"
   },
   {
    "duration": 5,
    "start_time": "2022-09-22T16:11:32.657Z"
   },
   {
    "duration": 9,
    "start_time": "2022-09-22T16:11:32.663Z"
   },
   {
    "duration": 8,
    "start_time": "2022-09-22T16:11:32.674Z"
   },
   {
    "duration": 7,
    "start_time": "2022-09-22T16:11:32.683Z"
   },
   {
    "duration": 6,
    "start_time": "2022-09-22T16:11:32.691Z"
   },
   {
    "duration": 8,
    "start_time": "2022-09-22T16:11:32.698Z"
   },
   {
    "duration": 3831,
    "start_time": "2022-09-22T16:11:32.708Z"
   },
   {
    "duration": 160326,
    "start_time": "2022-09-22T16:11:59.747Z"
   },
   {
    "duration": 1119,
    "start_time": "2022-09-22T16:17:52.174Z"
   },
   {
    "duration": 1040,
    "start_time": "2022-09-22T16:17:53.295Z"
   },
   {
    "duration": 4,
    "start_time": "2022-09-22T16:17:54.337Z"
   },
   {
    "duration": 100,
    "start_time": "2022-09-22T16:17:54.342Z"
   },
   {
    "duration": 657,
    "start_time": "2022-09-22T16:17:54.443Z"
   },
   {
    "duration": 84,
    "start_time": "2022-09-22T16:17:55.102Z"
   },
   {
    "duration": 108,
    "start_time": "2022-09-22T16:17:55.187Z"
   },
   {
    "duration": 12,
    "start_time": "2022-09-22T16:17:55.296Z"
   },
   {
    "duration": 92,
    "start_time": "2022-09-22T16:17:55.310Z"
   },
   {
    "duration": 15,
    "start_time": "2022-09-22T16:17:55.406Z"
   },
   {
    "duration": 567,
    "start_time": "2022-09-22T16:17:55.422Z"
   },
   {
    "duration": 4,
    "start_time": "2022-09-22T16:17:55.990Z"
   },
   {
    "duration": 8,
    "start_time": "2022-09-22T16:17:55.996Z"
   },
   {
    "duration": 56,
    "start_time": "2022-09-22T16:17:56.005Z"
   },
   {
    "duration": 5,
    "start_time": "2022-09-22T16:17:56.062Z"
   },
   {
    "duration": 41,
    "start_time": "2022-09-22T16:17:56.068Z"
   },
   {
    "duration": 5,
    "start_time": "2022-09-22T16:17:56.111Z"
   },
   {
    "duration": 33,
    "start_time": "2022-09-22T16:17:56.118Z"
   },
   {
    "duration": 4,
    "start_time": "2022-09-22T16:17:56.153Z"
   },
   {
    "duration": 8,
    "start_time": "2022-09-22T16:17:56.158Z"
   },
   {
    "duration": 20,
    "start_time": "2022-09-22T16:17:56.168Z"
   },
   {
    "duration": 17,
    "start_time": "2022-09-22T16:17:56.191Z"
   },
   {
    "duration": 35,
    "start_time": "2022-09-22T16:17:56.210Z"
   },
   {
    "duration": 235,
    "start_time": "2022-09-22T16:17:56.247Z"
   },
   {
    "duration": 13,
    "start_time": "2022-09-22T16:17:56.484Z"
   },
   {
    "duration": 2,
    "start_time": "2022-09-22T16:17:56.499Z"
   },
   {
    "duration": 6,
    "start_time": "2022-09-22T16:17:56.503Z"
   },
   {
    "duration": 4,
    "start_time": "2022-09-22T16:17:56.512Z"
   },
   {
    "duration": 16,
    "start_time": "2022-09-22T16:17:56.517Z"
   },
   {
    "duration": 5,
    "start_time": "2022-09-22T16:17:56.534Z"
   },
   {
    "duration": 4,
    "start_time": "2022-09-22T16:17:56.540Z"
   },
   {
    "duration": 12,
    "start_time": "2022-09-22T16:17:56.546Z"
   },
   {
    "duration": 782,
    "start_time": "2022-09-22T16:17:56.559Z"
   },
   {
    "duration": 11,
    "start_time": "2022-09-22T16:17:57.342Z"
   },
   {
    "duration": 6,
    "start_time": "2022-09-22T16:17:57.355Z"
   },
   {
    "duration": 13271,
    "start_time": "2022-09-22T16:17:57.362Z"
   },
   {
    "duration": 107,
    "start_time": "2022-09-22T16:18:10.635Z"
   },
   {
    "duration": 5,
    "start_time": "2022-09-22T16:18:10.834Z"
   },
   {
    "duration": 93,
    "start_time": "2022-09-22T16:18:10.841Z"
   },
   {
    "duration": 5,
    "start_time": "2022-09-22T16:18:10.936Z"
   },
   {
    "duration": 8,
    "start_time": "2022-09-22T16:18:10.943Z"
   },
   {
    "duration": 5,
    "start_time": "2022-09-22T16:18:10.953Z"
   },
   {
    "duration": 44,
    "start_time": "2022-09-22T16:18:10.960Z"
   },
   {
    "duration": 0,
    "start_time": "2022-09-22T16:18:11.005Z"
   },
   {
    "duration": 0,
    "start_time": "2022-09-22T16:18:11.006Z"
   },
   {
    "duration": 0,
    "start_time": "2022-09-22T16:18:11.008Z"
   },
   {
    "duration": 0,
    "start_time": "2022-09-22T16:18:11.008Z"
   },
   {
    "duration": 0,
    "start_time": "2022-09-22T16:18:11.009Z"
   },
   {
    "duration": 0,
    "start_time": "2022-09-22T16:18:11.010Z"
   },
   {
    "duration": 0,
    "start_time": "2022-09-22T16:18:11.011Z"
   },
   {
    "duration": 0,
    "start_time": "2022-09-22T16:18:11.012Z"
   },
   {
    "duration": 0,
    "start_time": "2022-09-22T16:18:11.013Z"
   },
   {
    "duration": 0,
    "start_time": "2022-09-22T16:18:11.014Z"
   },
   {
    "duration": 0,
    "start_time": "2022-09-22T16:18:11.015Z"
   },
   {
    "duration": 2049,
    "start_time": "2022-09-22T16:18:48.790Z"
   },
   {
    "duration": 112598,
    "start_time": "2022-09-22T16:19:01.243Z"
   },
   {
    "duration": 159877,
    "start_time": "2022-09-22T16:21:14.410Z"
   },
   {
    "duration": 3,
    "start_time": "2022-09-22T16:24:28.934Z"
   },
   {
    "duration": 12129,
    "start_time": "2022-09-22T16:24:30.513Z"
   },
   {
    "duration": 1701,
    "start_time": "2022-09-22T16:24:42.644Z"
   },
   {
    "duration": 4,
    "start_time": "2022-09-22T16:26:01.359Z"
   },
   {
    "duration": 525,
    "start_time": "2022-09-22T16:27:38.997Z"
   },
   {
    "duration": 514,
    "start_time": "2022-09-22T16:28:06.539Z"
   },
   {
    "duration": 25223,
    "start_time": "2022-09-22T16:28:24.620Z"
   },
   {
    "duration": 1213,
    "start_time": "2022-09-22T16:42:51.146Z"
   },
   {
    "duration": 1161,
    "start_time": "2022-09-22T16:42:52.361Z"
   },
   {
    "duration": 2,
    "start_time": "2022-09-22T16:42:53.524Z"
   },
   {
    "duration": 112,
    "start_time": "2022-09-22T16:42:53.534Z"
   },
   {
    "duration": 714,
    "start_time": "2022-09-22T16:42:53.650Z"
   },
   {
    "duration": 88,
    "start_time": "2022-09-22T16:42:54.365Z"
   },
   {
    "duration": 113,
    "start_time": "2022-09-22T16:42:54.454Z"
   },
   {
    "duration": 12,
    "start_time": "2022-09-22T16:42:54.568Z"
   },
   {
    "duration": 164,
    "start_time": "2022-09-22T16:42:54.582Z"
   },
   {
    "duration": 16,
    "start_time": "2022-09-22T16:42:54.748Z"
   },
   {
    "duration": 516,
    "start_time": "2022-09-22T16:42:54.766Z"
   },
   {
    "duration": 4,
    "start_time": "2022-09-22T16:42:55.284Z"
   },
   {
    "duration": 13,
    "start_time": "2022-09-22T16:42:55.290Z"
   },
   {
    "duration": 50,
    "start_time": "2022-09-22T16:42:55.305Z"
   },
   {
    "duration": 5,
    "start_time": "2022-09-22T16:42:55.357Z"
   },
   {
    "duration": 49,
    "start_time": "2022-09-22T16:42:55.363Z"
   },
   {
    "duration": 5,
    "start_time": "2022-09-22T16:42:55.414Z"
   },
   {
    "duration": 45,
    "start_time": "2022-09-22T16:42:55.421Z"
   },
   {
    "duration": 4,
    "start_time": "2022-09-22T16:42:55.468Z"
   },
   {
    "duration": 9,
    "start_time": "2022-09-22T16:42:55.473Z"
   },
   {
    "duration": 19,
    "start_time": "2022-09-22T16:42:55.483Z"
   },
   {
    "duration": 3,
    "start_time": "2022-09-22T16:42:55.504Z"
   },
   {
    "duration": 17,
    "start_time": "2022-09-22T16:42:55.509Z"
   },
   {
    "duration": 228,
    "start_time": "2022-09-22T16:42:55.527Z"
   },
   {
    "duration": 16,
    "start_time": "2022-09-22T16:42:55.757Z"
   },
   {
    "duration": 6,
    "start_time": "2022-09-22T16:42:55.775Z"
   },
   {
    "duration": 6,
    "start_time": "2022-09-22T16:42:55.783Z"
   },
   {
    "duration": 6,
    "start_time": "2022-09-22T16:42:55.790Z"
   },
   {
    "duration": 5,
    "start_time": "2022-09-22T16:42:55.797Z"
   },
   {
    "duration": 6,
    "start_time": "2022-09-22T16:42:55.803Z"
   },
   {
    "duration": 6,
    "start_time": "2022-09-22T16:42:55.810Z"
   },
   {
    "duration": 27,
    "start_time": "2022-09-22T16:42:55.817Z"
   },
   {
    "duration": 964,
    "start_time": "2022-09-22T16:42:55.847Z"
   },
   {
    "duration": 11,
    "start_time": "2022-09-22T16:42:56.813Z"
   },
   {
    "duration": 21,
    "start_time": "2022-09-22T16:42:56.826Z"
   },
   {
    "duration": 15207,
    "start_time": "2022-09-22T16:42:56.849Z"
   },
   {
    "duration": 197,
    "start_time": "2022-09-22T16:43:12.058Z"
   },
   {
    "duration": 83,
    "start_time": "2022-09-22T16:43:12.257Z"
   },
   {
    "duration": 15,
    "start_time": "2022-09-22T16:43:12.343Z"
   },
   {
    "duration": 6,
    "start_time": "2022-09-22T16:43:12.360Z"
   },
   {
    "duration": 3,
    "start_time": "2022-09-22T16:43:12.370Z"
   },
   {
    "duration": 5,
    "start_time": "2022-09-22T16:43:12.375Z"
   },
   {
    "duration": 1187,
    "start_time": "2022-09-22T16:49:13.955Z"
   },
   {
    "duration": 1046,
    "start_time": "2022-09-22T16:49:15.144Z"
   },
   {
    "duration": 4,
    "start_time": "2022-09-22T16:49:16.192Z"
   },
   {
    "duration": 106,
    "start_time": "2022-09-22T16:49:16.198Z"
   },
   {
    "duration": 711,
    "start_time": "2022-09-22T16:49:16.306Z"
   },
   {
    "duration": 76,
    "start_time": "2022-09-22T16:49:17.019Z"
   },
   {
    "duration": 116,
    "start_time": "2022-09-22T16:49:17.098Z"
   },
   {
    "duration": 26,
    "start_time": "2022-09-22T16:49:17.216Z"
   },
   {
    "duration": 79,
    "start_time": "2022-09-22T16:49:17.244Z"
   },
   {
    "duration": 16,
    "start_time": "2022-09-22T16:49:17.385Z"
   },
   {
    "duration": 501,
    "start_time": "2022-09-22T16:49:17.402Z"
   },
   {
    "duration": 4,
    "start_time": "2022-09-22T16:49:17.904Z"
   },
   {
    "duration": 8,
    "start_time": "2022-09-22T16:49:17.909Z"
   },
   {
    "duration": 49,
    "start_time": "2022-09-22T16:49:17.919Z"
   },
   {
    "duration": 4,
    "start_time": "2022-09-22T16:49:17.970Z"
   },
   {
    "duration": 50,
    "start_time": "2022-09-22T16:49:17.976Z"
   },
   {
    "duration": 7,
    "start_time": "2022-09-22T16:49:18.027Z"
   },
   {
    "duration": 26,
    "start_time": "2022-09-22T16:49:18.035Z"
   },
   {
    "duration": 4,
    "start_time": "2022-09-22T16:49:18.062Z"
   },
   {
    "duration": 18,
    "start_time": "2022-09-22T16:49:18.068Z"
   },
   {
    "duration": 25,
    "start_time": "2022-09-22T16:49:18.088Z"
   },
   {
    "duration": 5,
    "start_time": "2022-09-22T16:49:18.116Z"
   },
   {
    "duration": 20,
    "start_time": "2022-09-22T16:49:18.123Z"
   },
   {
    "duration": 201,
    "start_time": "2022-09-22T16:49:18.145Z"
   },
   {
    "duration": 16,
    "start_time": "2022-09-22T16:49:18.348Z"
   },
   {
    "duration": 3,
    "start_time": "2022-09-22T16:49:18.366Z"
   },
   {
    "duration": 9,
    "start_time": "2022-09-22T16:49:18.370Z"
   },
   {
    "duration": 4,
    "start_time": "2022-09-22T16:49:18.382Z"
   },
   {
    "duration": 5,
    "start_time": "2022-09-22T16:49:18.387Z"
   },
   {
    "duration": 5,
    "start_time": "2022-09-22T16:49:18.393Z"
   },
   {
    "duration": 4,
    "start_time": "2022-09-22T16:49:18.399Z"
   },
   {
    "duration": 35,
    "start_time": "2022-09-22T16:49:18.405Z"
   },
   {
    "duration": 796,
    "start_time": "2022-09-22T16:49:18.442Z"
   },
   {
    "duration": 15,
    "start_time": "2022-09-22T16:49:19.240Z"
   },
   {
    "duration": 14,
    "start_time": "2022-09-22T16:49:19.264Z"
   },
   {
    "duration": 21255,
    "start_time": "2022-09-22T16:49:19.279Z"
   },
   {
    "duration": 114,
    "start_time": "2022-09-22T16:49:40.536Z"
   },
   {
    "duration": 86,
    "start_time": "2022-09-22T16:49:40.653Z"
   },
   {
    "duration": 98,
    "start_time": "2022-09-22T16:49:40.741Z"
   },
   {
    "duration": 7,
    "start_time": "2022-09-22T16:49:40.842Z"
   },
   {
    "duration": 13,
    "start_time": "2022-09-22T16:49:40.850Z"
   },
   {
    "duration": 17,
    "start_time": "2022-09-22T16:49:40.866Z"
   },
   {
    "duration": 566369,
    "start_time": "2022-09-22T16:49:40.885Z"
   },
   {
    "duration": 78100,
    "start_time": "2022-09-22T16:59:07.334Z"
   },
   {
    "duration": 4,
    "start_time": "2022-09-22T17:00:25.436Z"
   },
   {
    "duration": 85800,
    "start_time": "2022-09-22T17:00:25.441Z"
   },
   {
    "duration": 1625,
    "start_time": "2022-09-22T17:01:51.242Z"
   },
   {
    "duration": 4,
    "start_time": "2022-09-22T17:01:52.869Z"
   },
   {
    "duration": 4,
    "start_time": "2022-09-22T17:01:52.875Z"
   },
   {
    "duration": 3,
    "start_time": "2022-09-22T17:01:52.934Z"
   },
   {
    "duration": 62,
    "start_time": "2022-09-22T19:39:47.120Z"
   },
   {
    "duration": 1185,
    "start_time": "2022-09-22T19:39:54.295Z"
   },
   {
    "duration": 3030,
    "start_time": "2022-09-22T19:39:55.482Z"
   },
   {
    "duration": 4,
    "start_time": "2022-09-22T19:39:58.513Z"
   },
   {
    "duration": 82,
    "start_time": "2022-09-22T19:39:58.522Z"
   },
   {
    "duration": 608,
    "start_time": "2022-09-22T19:39:58.606Z"
   },
   {
    "duration": 75,
    "start_time": "2022-09-22T19:39:59.215Z"
   },
   {
    "duration": 102,
    "start_time": "2022-09-22T19:39:59.292Z"
   },
   {
    "duration": 30,
    "start_time": "2022-09-22T19:39:59.395Z"
   },
   {
    "duration": 127,
    "start_time": "2022-09-22T19:39:59.427Z"
   },
   {
    "duration": 17,
    "start_time": "2022-09-22T19:39:59.629Z"
   },
   {
    "duration": 478,
    "start_time": "2022-09-22T19:39:59.647Z"
   },
   {
    "duration": 4,
    "start_time": "2022-09-22T19:40:00.127Z"
   },
   {
    "duration": 13,
    "start_time": "2022-09-22T19:40:00.132Z"
   },
   {
    "duration": 42,
    "start_time": "2022-09-22T19:40:00.146Z"
   },
   {
    "duration": 6,
    "start_time": "2022-09-22T19:40:00.190Z"
   },
   {
    "duration": 48,
    "start_time": "2022-09-22T19:40:00.197Z"
   },
   {
    "duration": 4,
    "start_time": "2022-09-22T19:40:00.247Z"
   },
   {
    "duration": 25,
    "start_time": "2022-09-22T19:40:00.253Z"
   },
   {
    "duration": 4,
    "start_time": "2022-09-22T19:40:00.280Z"
   },
   {
    "duration": 16,
    "start_time": "2022-09-22T19:40:00.286Z"
   },
   {
    "duration": 28,
    "start_time": "2022-09-22T19:40:00.303Z"
   },
   {
    "duration": 5,
    "start_time": "2022-09-22T19:40:00.333Z"
   },
   {
    "duration": 37,
    "start_time": "2022-09-22T19:40:00.340Z"
   },
   {
    "duration": 192,
    "start_time": "2022-09-22T19:40:00.379Z"
   },
   {
    "duration": 17,
    "start_time": "2022-09-22T19:40:00.573Z"
   },
   {
    "duration": 8,
    "start_time": "2022-09-22T19:40:00.592Z"
   },
   {
    "duration": 11,
    "start_time": "2022-09-22T19:40:00.601Z"
   },
   {
    "duration": 12,
    "start_time": "2022-09-22T19:40:00.621Z"
   },
   {
    "duration": 10,
    "start_time": "2022-09-22T19:40:00.635Z"
   },
   {
    "duration": 10,
    "start_time": "2022-09-22T19:40:00.646Z"
   },
   {
    "duration": 17,
    "start_time": "2022-09-22T19:40:00.658Z"
   },
   {
    "duration": 29,
    "start_time": "2022-09-22T19:40:00.676Z"
   },
   {
    "duration": 736,
    "start_time": "2022-09-22T19:40:00.707Z"
   },
   {
    "duration": 13,
    "start_time": "2022-09-22T19:40:01.445Z"
   },
   {
    "duration": 25,
    "start_time": "2022-09-22T19:40:01.459Z"
   },
   {
    "duration": 17746,
    "start_time": "2022-09-22T19:40:01.486Z"
   },
   {
    "duration": 192,
    "start_time": "2022-09-22T19:40:19.233Z"
   },
   {
    "duration": 6,
    "start_time": "2022-09-22T19:40:19.427Z"
   },
   {
    "duration": 94,
    "start_time": "2022-09-22T19:40:19.435Z"
   },
   {
    "duration": 7,
    "start_time": "2022-09-22T19:40:19.531Z"
   },
   {
    "duration": 82,
    "start_time": "2022-09-22T19:40:19.540Z"
   },
   {
    "duration": 8,
    "start_time": "2022-09-22T19:40:19.624Z"
   },
   {
    "duration": 1298,
    "start_time": "2022-09-22T19:46:05.691Z"
   },
   {
    "duration": 1117,
    "start_time": "2022-09-22T19:46:06.990Z"
   },
   {
    "duration": 3,
    "start_time": "2022-09-22T19:46:08.109Z"
   },
   {
    "duration": 111,
    "start_time": "2022-09-22T19:46:08.123Z"
   },
   {
    "duration": 623,
    "start_time": "2022-09-22T19:46:08.236Z"
   },
   {
    "duration": 101,
    "start_time": "2022-09-22T19:46:08.861Z"
   },
   {
    "duration": 137,
    "start_time": "2022-09-22T19:46:08.964Z"
   },
   {
    "duration": 22,
    "start_time": "2022-09-22T19:46:09.103Z"
   },
   {
    "duration": 77,
    "start_time": "2022-09-22T19:46:09.127Z"
   },
   {
    "duration": 16,
    "start_time": "2022-09-22T19:46:09.274Z"
   },
   {
    "duration": 493,
    "start_time": "2022-09-22T19:46:09.292Z"
   },
   {
    "duration": 4,
    "start_time": "2022-09-22T19:46:09.786Z"
   },
   {
    "duration": 8,
    "start_time": "2022-09-22T19:46:09.792Z"
   },
   {
    "duration": 52,
    "start_time": "2022-09-22T19:46:09.802Z"
   },
   {
    "duration": 5,
    "start_time": "2022-09-22T19:46:09.856Z"
   },
   {
    "duration": 43,
    "start_time": "2022-09-22T19:46:09.863Z"
   },
   {
    "duration": 15,
    "start_time": "2022-09-22T19:46:09.907Z"
   },
   {
    "duration": 17,
    "start_time": "2022-09-22T19:46:09.924Z"
   },
   {
    "duration": 4,
    "start_time": "2022-09-22T19:46:09.943Z"
   },
   {
    "duration": 10,
    "start_time": "2022-09-22T19:46:09.948Z"
   },
   {
    "duration": 17,
    "start_time": "2022-09-22T19:46:09.960Z"
   },
   {
    "duration": 3,
    "start_time": "2022-09-22T19:46:09.979Z"
   },
   {
    "duration": 40,
    "start_time": "2022-09-22T19:46:09.984Z"
   },
   {
    "duration": 186,
    "start_time": "2022-09-22T19:46:10.026Z"
   },
   {
    "duration": 18,
    "start_time": "2022-09-22T19:46:10.214Z"
   },
   {
    "duration": 2,
    "start_time": "2022-09-22T19:46:10.234Z"
   },
   {
    "duration": 9,
    "start_time": "2022-09-22T19:46:10.238Z"
   },
   {
    "duration": 4,
    "start_time": "2022-09-22T19:46:10.251Z"
   },
   {
    "duration": 8,
    "start_time": "2022-09-22T19:46:10.257Z"
   },
   {
    "duration": 8,
    "start_time": "2022-09-22T19:46:10.267Z"
   },
   {
    "duration": 8,
    "start_time": "2022-09-22T19:46:10.276Z"
   },
   {
    "duration": 14,
    "start_time": "2022-09-22T19:46:10.285Z"
   },
   {
    "duration": 762,
    "start_time": "2022-09-22T19:46:10.301Z"
   },
   {
    "duration": 20,
    "start_time": "2022-09-22T19:46:11.065Z"
   },
   {
    "duration": 19,
    "start_time": "2022-09-22T19:46:11.087Z"
   },
   {
    "duration": 28115,
    "start_time": "2022-09-22T19:46:11.107Z"
   },
   {
    "duration": 209,
    "start_time": "2022-09-22T19:46:39.224Z"
   },
   {
    "duration": 88,
    "start_time": "2022-09-22T19:46:39.435Z"
   },
   {
    "duration": 4,
    "start_time": "2022-09-22T19:46:39.525Z"
   },
   {
    "duration": 4,
    "start_time": "2022-09-22T19:46:39.531Z"
   },
   {
    "duration": 5,
    "start_time": "2022-09-22T19:46:39.537Z"
   },
   {
    "duration": 5,
    "start_time": "2022-09-22T19:46:39.544Z"
   },
   {
    "duration": 1182,
    "start_time": "2022-09-22T20:22:19.401Z"
   },
   {
    "duration": 966,
    "start_time": "2022-09-22T20:22:20.584Z"
   },
   {
    "duration": 3,
    "start_time": "2022-09-22T20:22:21.552Z"
   },
   {
    "duration": 96,
    "start_time": "2022-09-22T20:22:21.557Z"
   },
   {
    "duration": 620,
    "start_time": "2022-09-22T20:22:21.654Z"
   },
   {
    "duration": 84,
    "start_time": "2022-09-22T20:22:22.276Z"
   },
   {
    "duration": 94,
    "start_time": "2022-09-22T20:22:22.362Z"
   },
   {
    "duration": 24,
    "start_time": "2022-09-22T20:22:22.458Z"
   },
   {
    "duration": 90,
    "start_time": "2022-09-22T20:22:22.483Z"
   },
   {
    "duration": 18,
    "start_time": "2022-09-22T20:22:22.629Z"
   },
   {
    "duration": 491,
    "start_time": "2022-09-22T20:22:22.649Z"
   },
   {
    "duration": 5,
    "start_time": "2022-09-22T20:22:23.146Z"
   },
   {
    "duration": 13,
    "start_time": "2022-09-22T20:22:23.152Z"
   },
   {
    "duration": 46,
    "start_time": "2022-09-22T20:22:23.167Z"
   },
   {
    "duration": 19,
    "start_time": "2022-09-22T20:22:23.214Z"
   },
   {
    "duration": 40,
    "start_time": "2022-09-22T20:22:23.239Z"
   },
   {
    "duration": 5,
    "start_time": "2022-09-22T20:22:23.281Z"
   },
   {
    "duration": 24,
    "start_time": "2022-09-22T20:22:23.288Z"
   },
   {
    "duration": 5,
    "start_time": "2022-09-22T20:22:23.315Z"
   },
   {
    "duration": 28,
    "start_time": "2022-09-22T20:22:23.325Z"
   },
   {
    "duration": 31,
    "start_time": "2022-09-22T20:22:23.355Z"
   },
   {
    "duration": 4,
    "start_time": "2022-09-22T20:22:23.387Z"
   },
   {
    "duration": 16,
    "start_time": "2022-09-22T20:22:23.392Z"
   },
   {
    "duration": 190,
    "start_time": "2022-09-22T20:22:23.409Z"
   },
   {
    "duration": 13,
    "start_time": "2022-09-22T20:22:23.601Z"
   },
   {
    "duration": 8,
    "start_time": "2022-09-22T20:22:23.621Z"
   },
   {
    "duration": 11,
    "start_time": "2022-09-22T20:22:23.633Z"
   },
   {
    "duration": 2,
    "start_time": "2022-09-22T20:22:23.647Z"
   },
   {
    "duration": 17,
    "start_time": "2022-09-22T20:22:23.650Z"
   },
   {
    "duration": 6,
    "start_time": "2022-09-22T20:22:23.669Z"
   },
   {
    "duration": 7,
    "start_time": "2022-09-22T20:22:23.676Z"
   },
   {
    "duration": 13,
    "start_time": "2022-09-22T20:22:23.684Z"
   },
   {
    "duration": 734,
    "start_time": "2022-09-22T20:22:23.698Z"
   },
   {
    "duration": 11,
    "start_time": "2022-09-22T20:22:24.435Z"
   },
   {
    "duration": 5,
    "start_time": "2022-09-22T20:22:24.447Z"
   },
   {
    "duration": 28081,
    "start_time": "2022-09-22T20:22:24.454Z"
   },
   {
    "duration": 190,
    "start_time": "2022-09-22T20:22:52.538Z"
   },
   {
    "duration": 9,
    "start_time": "2022-09-22T20:22:52.729Z"
   },
   {
    "duration": 100,
    "start_time": "2022-09-22T20:22:52.743Z"
   },
   {
    "duration": 5,
    "start_time": "2022-09-22T20:22:52.844Z"
   },
   {
    "duration": 5,
    "start_time": "2022-09-22T20:22:52.850Z"
   },
   {
    "duration": 5,
    "start_time": "2022-09-22T20:22:52.856Z"
   },
   {
    "duration": 6,
    "start_time": "2022-09-22T20:22:52.862Z"
   },
   {
    "duration": 1165,
    "start_time": "2022-09-22T20:28:20.620Z"
   },
   {
    "duration": 949,
    "start_time": "2022-09-22T20:28:21.787Z"
   },
   {
    "duration": 10,
    "start_time": "2022-09-22T20:28:22.738Z"
   },
   {
    "duration": 92,
    "start_time": "2022-09-22T20:28:22.750Z"
   },
   {
    "duration": 617,
    "start_time": "2022-09-22T20:28:22.844Z"
   },
   {
    "duration": 72,
    "start_time": "2022-09-22T20:28:23.463Z"
   },
   {
    "duration": 92,
    "start_time": "2022-09-22T20:28:23.536Z"
   },
   {
    "duration": 14,
    "start_time": "2022-09-22T20:28:23.636Z"
   },
   {
    "duration": 84,
    "start_time": "2022-09-22T20:28:23.652Z"
   },
   {
    "duration": 27,
    "start_time": "2022-09-22T20:28:23.790Z"
   },
   {
    "duration": 509,
    "start_time": "2022-09-22T20:28:23.818Z"
   },
   {
    "duration": 10,
    "start_time": "2022-09-22T20:28:24.328Z"
   },
   {
    "duration": 9,
    "start_time": "2022-09-22T20:28:24.347Z"
   },
   {
    "duration": 40,
    "start_time": "2022-09-22T20:28:24.358Z"
   },
   {
    "duration": 6,
    "start_time": "2022-09-22T20:28:24.399Z"
   },
   {
    "duration": 44,
    "start_time": "2022-09-22T20:28:24.406Z"
   },
   {
    "duration": 5,
    "start_time": "2022-09-22T20:28:24.452Z"
   },
   {
    "duration": 21,
    "start_time": "2022-09-22T20:28:24.458Z"
   },
   {
    "duration": 4,
    "start_time": "2022-09-22T20:28:24.480Z"
   },
   {
    "duration": 10,
    "start_time": "2022-09-22T20:28:24.486Z"
   },
   {
    "duration": 38,
    "start_time": "2022-09-22T20:28:24.498Z"
   },
   {
    "duration": 15,
    "start_time": "2022-09-22T20:28:24.538Z"
   },
   {
    "duration": 14,
    "start_time": "2022-09-22T20:28:24.555Z"
   },
   {
    "duration": 185,
    "start_time": "2022-09-22T20:28:24.570Z"
   },
   {
    "duration": 14,
    "start_time": "2022-09-22T20:28:24.757Z"
   },
   {
    "duration": 4,
    "start_time": "2022-09-22T20:28:24.772Z"
   },
   {
    "duration": 4,
    "start_time": "2022-09-22T20:28:24.778Z"
   },
   {
    "duration": 2,
    "start_time": "2022-09-22T20:28:24.786Z"
   },
   {
    "duration": 5,
    "start_time": "2022-09-22T20:28:24.790Z"
   },
   {
    "duration": 7,
    "start_time": "2022-09-22T20:28:24.796Z"
   },
   {
    "duration": 19,
    "start_time": "2022-09-22T20:28:24.804Z"
   },
   {
    "duration": 31,
    "start_time": "2022-09-22T20:28:24.825Z"
   },
   {
    "duration": 784,
    "start_time": "2022-09-22T20:28:24.857Z"
   },
   {
    "duration": 12,
    "start_time": "2022-09-22T20:28:25.645Z"
   },
   {
    "duration": 6,
    "start_time": "2022-09-22T20:28:25.659Z"
   },
   {
    "duration": 33775,
    "start_time": "2022-09-22T20:28:25.667Z"
   },
   {
    "duration": 125,
    "start_time": "2022-09-22T20:28:59.521Z"
   },
   {
    "duration": 78,
    "start_time": "2022-09-22T20:28:59.648Z"
   },
   {
    "duration": 112,
    "start_time": "2022-09-22T20:28:59.727Z"
   },
   {
    "duration": 5,
    "start_time": "2022-09-22T20:28:59.841Z"
   },
   {
    "duration": 8,
    "start_time": "2022-09-22T20:28:59.847Z"
   },
   {
    "duration": 6,
    "start_time": "2022-09-22T20:28:59.856Z"
   },
   {
    "duration": 4,
    "start_time": "2022-09-22T20:28:59.864Z"
   },
   {
    "duration": 1237,
    "start_time": "2022-09-23T13:52:37.601Z"
   },
   {
    "duration": 1381,
    "start_time": "2022-09-23T13:52:38.841Z"
   },
   {
    "duration": 3,
    "start_time": "2022-09-23T13:52:40.224Z"
   },
   {
    "duration": 103,
    "start_time": "2022-09-23T13:52:40.229Z"
   },
   {
    "duration": 746,
    "start_time": "2022-09-23T13:52:40.334Z"
   },
   {
    "duration": 97,
    "start_time": "2022-09-23T13:52:41.082Z"
   },
   {
    "duration": 102,
    "start_time": "2022-09-23T13:52:41.181Z"
   },
   {
    "duration": 15,
    "start_time": "2022-09-23T13:52:41.285Z"
   },
   {
    "duration": 121,
    "start_time": "2022-09-23T13:52:41.302Z"
   },
   {
    "duration": 26,
    "start_time": "2022-09-23T13:52:41.517Z"
   },
   {
    "duration": 624,
    "start_time": "2022-09-23T13:52:41.555Z"
   },
   {
    "duration": 4,
    "start_time": "2022-09-23T13:52:42.182Z"
   },
   {
    "duration": 14,
    "start_time": "2022-09-23T13:52:42.188Z"
   },
   {
    "duration": 59,
    "start_time": "2022-09-23T13:52:42.204Z"
   },
   {
    "duration": 7,
    "start_time": "2022-09-23T13:52:42.265Z"
   },
   {
    "duration": 43,
    "start_time": "2022-09-23T13:52:42.274Z"
   },
   {
    "duration": 6,
    "start_time": "2022-09-23T13:52:42.319Z"
   },
   {
    "duration": 45,
    "start_time": "2022-09-23T13:52:42.327Z"
   },
   {
    "duration": 6,
    "start_time": "2022-09-23T13:52:42.374Z"
   },
   {
    "duration": 12,
    "start_time": "2022-09-23T13:52:42.382Z"
   },
   {
    "duration": 37,
    "start_time": "2022-09-23T13:52:42.397Z"
   },
   {
    "duration": 6,
    "start_time": "2022-09-23T13:52:42.436Z"
   },
   {
    "duration": 27,
    "start_time": "2022-09-23T13:52:42.444Z"
   },
   {
    "duration": 218,
    "start_time": "2022-09-23T13:52:42.473Z"
   },
   {
    "duration": 20,
    "start_time": "2022-09-23T13:52:42.693Z"
   },
   {
    "duration": 17,
    "start_time": "2022-09-23T13:52:42.714Z"
   },
   {
    "duration": 8,
    "start_time": "2022-09-23T13:52:42.734Z"
   },
   {
    "duration": 8,
    "start_time": "2022-09-23T13:52:42.746Z"
   },
   {
    "duration": 11,
    "start_time": "2022-09-23T13:52:42.756Z"
   },
   {
    "duration": 11,
    "start_time": "2022-09-23T13:52:42.769Z"
   },
   {
    "duration": 8,
    "start_time": "2022-09-23T13:52:42.782Z"
   },
   {
    "duration": 16,
    "start_time": "2022-09-23T13:52:42.791Z"
   },
   {
    "duration": 835,
    "start_time": "2022-09-23T13:52:42.809Z"
   },
   {
    "duration": 16,
    "start_time": "2022-09-23T13:52:43.646Z"
   },
   {
    "duration": 12,
    "start_time": "2022-09-23T13:52:43.664Z"
   },
   {
    "duration": 19278,
    "start_time": "2022-09-23T13:52:43.678Z"
   },
   {
    "duration": 125,
    "start_time": "2022-09-23T13:53:02.958Z"
   },
   {
    "duration": 74,
    "start_time": "2022-09-23T13:53:03.085Z"
   },
   {
    "duration": 97,
    "start_time": "2022-09-23T13:53:03.161Z"
   },
   {
    "duration": 34,
    "start_time": "2022-09-23T13:53:03.260Z"
   },
   {
    "duration": 8,
    "start_time": "2022-09-23T13:53:03.296Z"
   },
   {
    "duration": 42,
    "start_time": "2022-09-23T13:53:03.306Z"
   },
   {
    "duration": 1302,
    "start_time": "2022-09-23T13:56:20.543Z"
   },
   {
    "duration": 1155,
    "start_time": "2022-09-23T13:56:21.847Z"
   },
   {
    "duration": 4,
    "start_time": "2022-09-23T13:56:23.004Z"
   },
   {
    "duration": 113,
    "start_time": "2022-09-23T13:56:23.009Z"
   },
   {
    "duration": 735,
    "start_time": "2022-09-23T13:56:23.125Z"
   },
   {
    "duration": 93,
    "start_time": "2022-09-23T13:56:23.861Z"
   },
   {
    "duration": 114,
    "start_time": "2022-09-23T13:56:23.956Z"
   },
   {
    "duration": 16,
    "start_time": "2022-09-23T13:56:24.072Z"
   },
   {
    "duration": 171,
    "start_time": "2022-09-23T13:56:24.090Z"
   },
   {
    "duration": 18,
    "start_time": "2022-09-23T13:56:24.263Z"
   },
   {
    "duration": 553,
    "start_time": "2022-09-23T13:56:24.283Z"
   },
   {
    "duration": 5,
    "start_time": "2022-09-23T13:56:24.838Z"
   },
   {
    "duration": 4,
    "start_time": "2022-09-23T13:56:24.854Z"
   },
   {
    "duration": 45,
    "start_time": "2022-09-23T13:56:24.862Z"
   },
   {
    "duration": 5,
    "start_time": "2022-09-23T13:56:24.909Z"
   },
   {
    "duration": 57,
    "start_time": "2022-09-23T13:56:24.915Z"
   },
   {
    "duration": 6,
    "start_time": "2022-09-23T13:56:24.974Z"
   },
   {
    "duration": 29,
    "start_time": "2022-09-23T13:56:24.981Z"
   },
   {
    "duration": 5,
    "start_time": "2022-09-23T13:56:25.012Z"
   },
   {
    "duration": 15,
    "start_time": "2022-09-23T13:56:25.019Z"
   },
   {
    "duration": 36,
    "start_time": "2022-09-23T13:56:25.036Z"
   },
   {
    "duration": 5,
    "start_time": "2022-09-23T13:56:25.074Z"
   },
   {
    "duration": 19,
    "start_time": "2022-09-23T13:56:25.081Z"
   },
   {
    "duration": 230,
    "start_time": "2022-09-23T13:56:25.102Z"
   },
   {
    "duration": 23,
    "start_time": "2022-09-23T13:56:25.334Z"
   },
   {
    "duration": 2,
    "start_time": "2022-09-23T13:56:25.359Z"
   },
   {
    "duration": 6,
    "start_time": "2022-09-23T13:56:25.363Z"
   },
   {
    "duration": 5,
    "start_time": "2022-09-23T13:56:25.371Z"
   },
   {
    "duration": 12,
    "start_time": "2022-09-23T13:56:25.377Z"
   },
   {
    "duration": 10,
    "start_time": "2022-09-23T13:56:25.390Z"
   },
   {
    "duration": 10,
    "start_time": "2022-09-23T13:56:25.402Z"
   },
   {
    "duration": 16,
    "start_time": "2022-09-23T13:56:25.414Z"
   },
   {
    "duration": 905,
    "start_time": "2022-09-23T13:56:25.432Z"
   },
   {
    "duration": 16,
    "start_time": "2022-09-23T13:56:26.339Z"
   },
   {
    "duration": 14,
    "start_time": "2022-09-23T13:56:26.357Z"
   },
   {
    "duration": 20782,
    "start_time": "2022-09-23T13:56:26.373Z"
   },
   {
    "duration": 129,
    "start_time": "2022-09-23T13:56:47.157Z"
   },
   {
    "duration": 8,
    "start_time": "2022-09-23T13:56:47.354Z"
   },
   {
    "duration": 96,
    "start_time": "2022-09-23T13:56:47.365Z"
   },
   {
    "duration": 5,
    "start_time": "2022-09-23T13:56:47.464Z"
   },
   {
    "duration": 4,
    "start_time": "2022-09-23T13:56:47.473Z"
   },
   {
    "duration": 8,
    "start_time": "2022-09-23T13:56:47.479Z"
   },
   {
    "duration": 28896,
    "start_time": "2022-09-23T13:56:47.489Z"
   },
   {
    "duration": 0,
    "start_time": "2022-09-23T13:57:16.388Z"
   },
   {
    "duration": 0,
    "start_time": "2022-09-23T13:57:16.389Z"
   },
   {
    "duration": 0,
    "start_time": "2022-09-23T13:57:16.390Z"
   },
   {
    "duration": 0,
    "start_time": "2022-09-23T13:57:16.391Z"
   },
   {
    "duration": 0,
    "start_time": "2022-09-23T13:57:16.393Z"
   },
   {
    "duration": 0,
    "start_time": "2022-09-23T13:57:16.395Z"
   },
   {
    "duration": 0,
    "start_time": "2022-09-23T13:57:16.396Z"
   },
   {
    "duration": 0,
    "start_time": "2022-09-23T13:57:16.398Z"
   },
   {
    "duration": 0,
    "start_time": "2022-09-23T13:57:16.400Z"
   },
   {
    "duration": 0,
    "start_time": "2022-09-23T13:57:16.401Z"
   },
   {
    "duration": 0,
    "start_time": "2022-09-23T13:57:16.404Z"
   },
   {
    "duration": 0,
    "start_time": "2022-09-23T13:57:16.405Z"
   },
   {
    "duration": 0,
    "start_time": "2022-09-23T13:57:16.407Z"
   },
   {
    "duration": 0,
    "start_time": "2022-09-23T13:57:16.408Z"
   },
   {
    "duration": 1457,
    "start_time": "2022-09-23T14:11:30.945Z"
   },
   {
    "duration": 1288,
    "start_time": "2022-09-23T14:11:32.404Z"
   },
   {
    "duration": 4,
    "start_time": "2022-09-23T14:11:33.694Z"
   },
   {
    "duration": 119,
    "start_time": "2022-09-23T14:11:33.701Z"
   },
   {
    "duration": 816,
    "start_time": "2022-09-23T14:11:33.822Z"
   },
   {
    "duration": 91,
    "start_time": "2022-09-23T14:11:34.640Z"
   },
   {
    "duration": 99,
    "start_time": "2022-09-23T14:11:34.733Z"
   },
   {
    "duration": 31,
    "start_time": "2022-09-23T14:11:34.834Z"
   },
   {
    "duration": 105,
    "start_time": "2022-09-23T14:11:34.867Z"
   },
   {
    "duration": 29,
    "start_time": "2022-09-23T14:11:35.045Z"
   },
   {
    "duration": 605,
    "start_time": "2022-09-23T14:11:35.076Z"
   },
   {
    "duration": 6,
    "start_time": "2022-09-23T14:11:35.682Z"
   },
   {
    "duration": 21,
    "start_time": "2022-09-23T14:11:35.690Z"
   },
   {
    "duration": 75,
    "start_time": "2022-09-23T14:11:35.713Z"
   },
   {
    "duration": 6,
    "start_time": "2022-09-23T14:11:35.790Z"
   },
   {
    "duration": 58,
    "start_time": "2022-09-23T14:11:35.798Z"
   },
   {
    "duration": 6,
    "start_time": "2022-09-23T14:11:35.858Z"
   },
   {
    "duration": 30,
    "start_time": "2022-09-23T14:11:35.866Z"
   },
   {
    "duration": 6,
    "start_time": "2022-09-23T14:11:35.898Z"
   },
   {
    "duration": 38,
    "start_time": "2022-09-23T14:11:35.906Z"
   },
   {
    "duration": 33,
    "start_time": "2022-09-23T14:11:35.946Z"
   },
   {
    "duration": 10,
    "start_time": "2022-09-23T14:11:35.980Z"
   },
   {
    "duration": 22,
    "start_time": "2022-09-23T14:11:35.991Z"
   },
   {
    "duration": 239,
    "start_time": "2022-09-23T14:11:36.015Z"
   },
   {
    "duration": 18,
    "start_time": "2022-09-23T14:11:36.256Z"
   },
   {
    "duration": 6,
    "start_time": "2022-09-23T14:11:36.275Z"
   },
   {
    "duration": 20,
    "start_time": "2022-09-23T14:11:36.283Z"
   },
   {
    "duration": 16,
    "start_time": "2022-09-23T14:11:36.307Z"
   },
   {
    "duration": 10,
    "start_time": "2022-09-23T14:11:36.325Z"
   },
   {
    "duration": 9,
    "start_time": "2022-09-23T14:11:36.337Z"
   },
   {
    "duration": 6,
    "start_time": "2022-09-23T14:11:36.348Z"
   },
   {
    "duration": 16,
    "start_time": "2022-09-23T14:11:36.356Z"
   },
   {
    "duration": 968,
    "start_time": "2022-09-23T14:11:36.374Z"
   },
   {
    "duration": 16,
    "start_time": "2022-09-23T14:11:37.344Z"
   },
   {
    "duration": 5,
    "start_time": "2022-09-23T14:11:37.363Z"
   },
   {
    "duration": 20998,
    "start_time": "2022-09-23T14:11:37.370Z"
   },
   {
    "duration": 199,
    "start_time": "2022-09-23T14:11:58.455Z"
   },
   {
    "duration": 10,
    "start_time": "2022-09-23T14:11:58.658Z"
   },
   {
    "duration": 91,
    "start_time": "2022-09-23T14:11:58.670Z"
   },
   {
    "duration": 5,
    "start_time": "2022-09-23T14:11:58.763Z"
   },
   {
    "duration": 6,
    "start_time": "2022-09-23T14:11:58.770Z"
   },
   {
    "duration": 8,
    "start_time": "2022-09-23T14:11:58.778Z"
   },
   {
    "duration": 6,
    "start_time": "2022-09-23T14:11:58.788Z"
   },
   {
    "duration": 144,
    "start_time": "2022-09-23T14:11:58.796Z"
   },
   {
    "duration": 0,
    "start_time": "2022-09-23T14:11:58.942Z"
   },
   {
    "duration": 0,
    "start_time": "2022-09-23T14:11:58.943Z"
   },
   {
    "duration": 0,
    "start_time": "2022-09-23T14:11:58.944Z"
   },
   {
    "duration": 0,
    "start_time": "2022-09-23T14:11:58.945Z"
   },
   {
    "duration": 0,
    "start_time": "2022-09-23T14:11:58.946Z"
   },
   {
    "duration": 0,
    "start_time": "2022-09-23T14:11:58.946Z"
   },
   {
    "duration": 0,
    "start_time": "2022-09-23T14:11:58.947Z"
   },
   {
    "duration": 1,
    "start_time": "2022-09-23T14:11:58.947Z"
   },
   {
    "duration": 0,
    "start_time": "2022-09-23T14:11:58.954Z"
   },
   {
    "duration": 0,
    "start_time": "2022-09-23T14:11:58.955Z"
   },
   {
    "duration": 0,
    "start_time": "2022-09-23T14:11:58.956Z"
   },
   {
    "duration": 0,
    "start_time": "2022-09-23T14:11:58.957Z"
   },
   {
    "duration": 0,
    "start_time": "2022-09-23T14:11:58.958Z"
   },
   {
    "duration": 0,
    "start_time": "2022-09-23T14:11:58.959Z"
   },
   {
    "duration": 11,
    "start_time": "2022-09-23T14:12:29.155Z"
   },
   {
    "duration": 12,
    "start_time": "2022-09-23T14:12:33.913Z"
   },
   {
    "duration": 13,
    "start_time": "2022-09-23T14:12:39.885Z"
   },
   {
    "duration": 1281,
    "start_time": "2022-09-23T14:16:32.571Z"
   },
   {
    "duration": 1129,
    "start_time": "2022-09-23T14:16:33.854Z"
   },
   {
    "duration": 3,
    "start_time": "2022-09-23T14:16:34.985Z"
   },
   {
    "duration": 108,
    "start_time": "2022-09-23T14:16:34.991Z"
   },
   {
    "duration": 809,
    "start_time": "2022-09-23T14:16:35.101Z"
   },
   {
    "duration": 90,
    "start_time": "2022-09-23T14:16:35.911Z"
   },
   {
    "duration": 108,
    "start_time": "2022-09-23T14:16:36.003Z"
   },
   {
    "duration": 16,
    "start_time": "2022-09-23T14:16:36.113Z"
   },
   {
    "duration": 113,
    "start_time": "2022-09-23T14:16:36.131Z"
   },
   {
    "duration": 19,
    "start_time": "2022-09-23T14:16:36.321Z"
   },
   {
    "duration": 570,
    "start_time": "2022-09-23T14:16:36.342Z"
   },
   {
    "duration": 5,
    "start_time": "2022-09-23T14:16:36.914Z"
   },
   {
    "duration": 9,
    "start_time": "2022-09-23T14:16:36.921Z"
   },
   {
    "duration": 61,
    "start_time": "2022-09-23T14:16:36.932Z"
   },
   {
    "duration": 7,
    "start_time": "2022-09-23T14:16:36.995Z"
   },
   {
    "duration": 53,
    "start_time": "2022-09-23T14:16:37.004Z"
   },
   {
    "duration": 5,
    "start_time": "2022-09-23T14:16:37.060Z"
   },
   {
    "duration": 35,
    "start_time": "2022-09-23T14:16:37.067Z"
   },
   {
    "duration": 6,
    "start_time": "2022-09-23T14:16:37.104Z"
   },
   {
    "duration": 12,
    "start_time": "2022-09-23T14:16:37.113Z"
   },
   {
    "duration": 39,
    "start_time": "2022-09-23T14:16:37.126Z"
   },
   {
    "duration": 4,
    "start_time": "2022-09-23T14:16:37.167Z"
   },
   {
    "duration": 18,
    "start_time": "2022-09-23T14:16:37.173Z"
   },
   {
    "duration": 229,
    "start_time": "2022-09-23T14:16:37.193Z"
   },
   {
    "duration": 19,
    "start_time": "2022-09-23T14:16:37.424Z"
   },
   {
    "duration": 12,
    "start_time": "2022-09-23T14:16:37.445Z"
   },
   {
    "duration": 11,
    "start_time": "2022-09-23T14:16:37.458Z"
   },
   {
    "duration": 11,
    "start_time": "2022-09-23T14:16:37.473Z"
   },
   {
    "duration": 7,
    "start_time": "2022-09-23T14:16:37.485Z"
   },
   {
    "duration": 8,
    "start_time": "2022-09-23T14:16:37.494Z"
   },
   {
    "duration": 9,
    "start_time": "2022-09-23T14:16:37.503Z"
   },
   {
    "duration": 17,
    "start_time": "2022-09-23T14:16:37.514Z"
   },
   {
    "duration": 894,
    "start_time": "2022-09-23T14:16:37.533Z"
   },
   {
    "duration": 14,
    "start_time": "2022-09-23T14:16:38.429Z"
   },
   {
    "duration": 3,
    "start_time": "2022-09-23T14:16:38.455Z"
   },
   {
    "duration": 18908,
    "start_time": "2022-09-23T14:16:38.460Z"
   },
   {
    "duration": 124,
    "start_time": "2022-09-23T14:16:57.455Z"
   },
   {
    "duration": 74,
    "start_time": "2022-09-23T14:16:57.581Z"
   },
   {
    "duration": 108,
    "start_time": "2022-09-23T14:16:57.658Z"
   },
   {
    "duration": 23,
    "start_time": "2022-09-23T14:16:57.769Z"
   },
   {
    "duration": 8,
    "start_time": "2022-09-23T14:16:57.794Z"
   },
   {
    "duration": 15,
    "start_time": "2022-09-23T14:16:57.806Z"
   },
   {
    "duration": 7,
    "start_time": "2022-09-23T14:16:57.824Z"
   },
   {
    "duration": 1243,
    "start_time": "2022-09-23T14:21:48.399Z"
   },
   {
    "duration": 1277,
    "start_time": "2022-09-23T14:21:49.644Z"
   },
   {
    "duration": 4,
    "start_time": "2022-09-23T14:21:50.923Z"
   },
   {
    "duration": 117,
    "start_time": "2022-09-23T14:21:50.930Z"
   },
   {
    "duration": 906,
    "start_time": "2022-09-23T14:21:51.048Z"
   },
   {
    "duration": 104,
    "start_time": "2022-09-23T14:21:51.957Z"
   },
   {
    "duration": 106,
    "start_time": "2022-09-23T14:21:52.063Z"
   },
   {
    "duration": 17,
    "start_time": "2022-09-23T14:21:52.171Z"
   },
   {
    "duration": 131,
    "start_time": "2022-09-23T14:21:52.190Z"
   },
   {
    "duration": 22,
    "start_time": "2022-09-23T14:21:52.414Z"
   },
   {
    "duration": 610,
    "start_time": "2022-09-23T14:21:52.438Z"
   },
   {
    "duration": 7,
    "start_time": "2022-09-23T14:21:53.050Z"
   },
   {
    "duration": 39,
    "start_time": "2022-09-23T14:21:53.059Z"
   },
   {
    "duration": 48,
    "start_time": "2022-09-23T14:21:53.103Z"
   },
   {
    "duration": 5,
    "start_time": "2022-09-23T14:21:53.153Z"
   },
   {
    "duration": 44,
    "start_time": "2022-09-23T14:21:53.160Z"
   },
   {
    "duration": 5,
    "start_time": "2022-09-23T14:21:53.206Z"
   },
   {
    "duration": 42,
    "start_time": "2022-09-23T14:21:53.213Z"
   },
   {
    "duration": 14,
    "start_time": "2022-09-23T14:21:53.257Z"
   },
   {
    "duration": 14,
    "start_time": "2022-09-23T14:21:53.272Z"
   },
   {
    "duration": 26,
    "start_time": "2022-09-23T14:21:53.288Z"
   },
   {
    "duration": 6,
    "start_time": "2022-09-23T14:21:53.316Z"
   },
   {
    "duration": 21,
    "start_time": "2022-09-23T14:21:53.324Z"
   },
   {
    "duration": 221,
    "start_time": "2022-09-23T14:21:53.354Z"
   },
   {
    "duration": 18,
    "start_time": "2022-09-23T14:21:53.577Z"
   },
   {
    "duration": 3,
    "start_time": "2022-09-23T14:21:53.596Z"
   },
   {
    "duration": 5,
    "start_time": "2022-09-23T14:21:53.601Z"
   },
   {
    "duration": 4,
    "start_time": "2022-09-23T14:21:53.610Z"
   },
   {
    "duration": 10,
    "start_time": "2022-09-23T14:21:53.615Z"
   },
   {
    "duration": 28,
    "start_time": "2022-09-23T14:21:53.626Z"
   },
   {
    "duration": 11,
    "start_time": "2022-09-23T14:21:53.656Z"
   },
   {
    "duration": 15,
    "start_time": "2022-09-23T14:21:53.669Z"
   },
   {
    "duration": 920,
    "start_time": "2022-09-23T14:21:53.686Z"
   },
   {
    "duration": 13,
    "start_time": "2022-09-23T14:21:54.608Z"
   },
   {
    "duration": 12,
    "start_time": "2022-09-23T14:21:54.623Z"
   },
   {
    "duration": 22523,
    "start_time": "2022-09-23T14:21:54.637Z"
   },
   {
    "duration": 293,
    "start_time": "2022-09-23T14:22:17.162Z"
   },
   {
    "duration": 6,
    "start_time": "2022-09-23T14:22:17.457Z"
   },
   {
    "duration": 7,
    "start_time": "2022-09-23T14:22:17.464Z"
   },
   {
    "duration": 6,
    "start_time": "2022-09-23T14:22:17.473Z"
   },
   {
    "duration": 6,
    "start_time": "2022-09-23T14:22:17.480Z"
   },
   {
    "duration": 6,
    "start_time": "2022-09-23T14:22:17.488Z"
   },
   {
    "duration": 11,
    "start_time": "2022-09-23T14:22:17.495Z"
   },
   {
    "duration": 1264,
    "start_time": "2022-09-23T14:23:19.758Z"
   },
   {
    "duration": 1215,
    "start_time": "2022-09-23T14:23:21.024Z"
   },
   {
    "duration": 3,
    "start_time": "2022-09-23T14:23:22.241Z"
   },
   {
    "duration": 103,
    "start_time": "2022-09-23T14:23:22.253Z"
   },
   {
    "duration": 771,
    "start_time": "2022-09-23T14:23:22.359Z"
   },
   {
    "duration": 84,
    "start_time": "2022-09-23T14:23:23.132Z"
   },
   {
    "duration": 99,
    "start_time": "2022-09-23T14:23:23.218Z"
   },
   {
    "duration": 15,
    "start_time": "2022-09-23T14:23:23.319Z"
   },
   {
    "duration": 191,
    "start_time": "2022-09-23T14:23:23.336Z"
   },
   {
    "duration": 17,
    "start_time": "2022-09-23T14:23:23.529Z"
   },
   {
    "duration": 582,
    "start_time": "2022-09-23T14:23:23.554Z"
   },
   {
    "duration": 4,
    "start_time": "2022-09-23T14:23:24.138Z"
   },
   {
    "duration": 16,
    "start_time": "2022-09-23T14:23:24.144Z"
   },
   {
    "duration": 43,
    "start_time": "2022-09-23T14:23:24.163Z"
   },
   {
    "duration": 5,
    "start_time": "2022-09-23T14:23:24.208Z"
   },
   {
    "duration": 60,
    "start_time": "2022-09-23T14:23:24.215Z"
   },
   {
    "duration": 6,
    "start_time": "2022-09-23T14:23:24.277Z"
   },
   {
    "duration": 25,
    "start_time": "2022-09-23T14:23:24.284Z"
   },
   {
    "duration": 4,
    "start_time": "2022-09-23T14:23:24.311Z"
   },
   {
    "duration": 8,
    "start_time": "2022-09-23T14:23:24.317Z"
   },
   {
    "duration": 40,
    "start_time": "2022-09-23T14:23:24.327Z"
   },
   {
    "duration": 5,
    "start_time": "2022-09-23T14:23:24.369Z"
   },
   {
    "duration": 18,
    "start_time": "2022-09-23T14:23:24.375Z"
   },
   {
    "duration": 227,
    "start_time": "2022-09-23T14:23:24.395Z"
   },
   {
    "duration": 16,
    "start_time": "2022-09-23T14:23:24.624Z"
   },
   {
    "duration": 14,
    "start_time": "2022-09-23T14:23:24.642Z"
   },
   {
    "duration": 11,
    "start_time": "2022-09-23T14:23:24.658Z"
   },
   {
    "duration": 10,
    "start_time": "2022-09-23T14:23:24.671Z"
   },
   {
    "duration": 7,
    "start_time": "2022-09-23T14:23:24.683Z"
   },
   {
    "duration": 11,
    "start_time": "2022-09-23T14:23:24.691Z"
   },
   {
    "duration": 10,
    "start_time": "2022-09-23T14:23:24.705Z"
   },
   {
    "duration": 22,
    "start_time": "2022-09-23T14:23:24.717Z"
   },
   {
    "duration": 919,
    "start_time": "2022-09-23T14:23:24.741Z"
   },
   {
    "duration": 14,
    "start_time": "2022-09-23T14:23:25.662Z"
   },
   {
    "duration": 11,
    "start_time": "2022-09-23T14:23:25.678Z"
   },
   {
    "duration": 19065,
    "start_time": "2022-09-23T14:23:25.691Z"
   },
   {
    "duration": 197,
    "start_time": "2022-09-23T14:23:44.757Z"
   },
   {
    "duration": 5,
    "start_time": "2022-09-23T14:23:44.956Z"
   },
   {
    "duration": 97,
    "start_time": "2022-09-23T14:23:44.963Z"
   },
   {
    "duration": 6,
    "start_time": "2022-09-23T14:23:45.062Z"
   },
   {
    "duration": 9,
    "start_time": "2022-09-23T14:23:45.073Z"
   },
   {
    "duration": 6,
    "start_time": "2022-09-23T14:23:45.084Z"
   },
   {
    "duration": 6,
    "start_time": "2022-09-23T14:23:45.092Z"
   },
   {
    "duration": 1377,
    "start_time": "2022-09-23T14:26:27.111Z"
   },
   {
    "duration": 1187,
    "start_time": "2022-09-23T14:26:28.492Z"
   },
   {
    "duration": 4,
    "start_time": "2022-09-23T14:26:29.681Z"
   },
   {
    "duration": 108,
    "start_time": "2022-09-23T14:26:29.687Z"
   },
   {
    "duration": 815,
    "start_time": "2022-09-23T14:26:29.798Z"
   },
   {
    "duration": 91,
    "start_time": "2022-09-23T14:26:30.615Z"
   },
   {
    "duration": 105,
    "start_time": "2022-09-23T14:26:30.708Z"
   },
   {
    "duration": 36,
    "start_time": "2022-09-23T14:26:30.815Z"
   },
   {
    "duration": 179,
    "start_time": "2022-09-23T14:26:30.854Z"
   },
   {
    "duration": 25,
    "start_time": "2022-09-23T14:26:31.036Z"
   },
   {
    "duration": 614,
    "start_time": "2022-09-23T14:26:31.063Z"
   },
   {
    "duration": 11,
    "start_time": "2022-09-23T14:26:31.680Z"
   },
   {
    "duration": 32,
    "start_time": "2022-09-23T14:26:31.693Z"
   },
   {
    "duration": 58,
    "start_time": "2022-09-23T14:26:31.729Z"
   },
   {
    "duration": 9,
    "start_time": "2022-09-23T14:26:31.789Z"
   },
   {
    "duration": 50,
    "start_time": "2022-09-23T14:26:31.800Z"
   },
   {
    "duration": 5,
    "start_time": "2022-09-23T14:26:31.854Z"
   },
   {
    "duration": 38,
    "start_time": "2022-09-23T14:26:31.861Z"
   },
   {
    "duration": 4,
    "start_time": "2022-09-23T14:26:31.901Z"
   },
   {
    "duration": 11,
    "start_time": "2022-09-23T14:26:31.907Z"
   },
   {
    "duration": 25,
    "start_time": "2022-09-23T14:26:31.920Z"
   },
   {
    "duration": 8,
    "start_time": "2022-09-23T14:26:31.948Z"
   },
   {
    "duration": 28,
    "start_time": "2022-09-23T14:26:31.958Z"
   },
   {
    "duration": 249,
    "start_time": "2022-09-23T14:26:31.988Z"
   },
   {
    "duration": 29,
    "start_time": "2022-09-23T14:26:32.239Z"
   },
   {
    "duration": 3,
    "start_time": "2022-09-23T14:26:32.270Z"
   },
   {
    "duration": 13,
    "start_time": "2022-09-23T14:26:32.275Z"
   },
   {
    "duration": 8,
    "start_time": "2022-09-23T14:26:32.290Z"
   },
   {
    "duration": 8,
    "start_time": "2022-09-23T14:26:32.300Z"
   },
   {
    "duration": 14,
    "start_time": "2022-09-23T14:26:32.310Z"
   },
   {
    "duration": 7,
    "start_time": "2022-09-23T14:26:32.327Z"
   },
   {
    "duration": 37,
    "start_time": "2022-09-23T14:26:32.336Z"
   },
   {
    "duration": 984,
    "start_time": "2022-09-23T14:26:32.375Z"
   },
   {
    "duration": 18,
    "start_time": "2022-09-23T14:26:33.362Z"
   },
   {
    "duration": 13,
    "start_time": "2022-09-23T14:26:33.382Z"
   },
   {
    "duration": 16867,
    "start_time": "2022-09-23T14:26:33.397Z"
   },
   {
    "duration": 197,
    "start_time": "2022-09-23T14:26:50.266Z"
   },
   {
    "duration": 5,
    "start_time": "2022-09-23T14:26:50.465Z"
   },
   {
    "duration": 12,
    "start_time": "2022-09-23T14:26:50.555Z"
   },
   {
    "duration": 105,
    "start_time": "2022-09-23T14:26:50.569Z"
   },
   {
    "duration": 30,
    "start_time": "2022-09-23T14:26:50.679Z"
   },
   {
    "duration": 14,
    "start_time": "2022-09-23T14:26:50.712Z"
   },
   {
    "duration": 9,
    "start_time": "2022-09-23T14:26:50.728Z"
   },
   {
    "duration": 1335,
    "start_time": "2022-09-23T14:28:19.200Z"
   },
   {
    "duration": 1368,
    "start_time": "2022-09-23T14:28:20.537Z"
   },
   {
    "duration": 3,
    "start_time": "2022-09-23T14:28:21.908Z"
   },
   {
    "duration": 109,
    "start_time": "2022-09-23T14:28:21.914Z"
   },
   {
    "duration": 849,
    "start_time": "2022-09-23T14:28:22.025Z"
   },
   {
    "duration": 88,
    "start_time": "2022-09-23T14:28:22.877Z"
   },
   {
    "duration": 111,
    "start_time": "2022-09-23T14:28:22.967Z"
   },
   {
    "duration": 16,
    "start_time": "2022-09-23T14:28:23.081Z"
   },
   {
    "duration": 144,
    "start_time": "2022-09-23T14:28:23.100Z"
   },
   {
    "duration": 19,
    "start_time": "2022-09-23T14:28:23.316Z"
   },
   {
    "duration": 578,
    "start_time": "2022-09-23T14:28:23.337Z"
   },
   {
    "duration": 4,
    "start_time": "2022-09-23T14:28:23.917Z"
   },
   {
    "duration": 19,
    "start_time": "2022-09-23T14:28:23.923Z"
   },
   {
    "duration": 42,
    "start_time": "2022-09-23T14:28:23.955Z"
   },
   {
    "duration": 5,
    "start_time": "2022-09-23T14:28:23.999Z"
   },
   {
    "duration": 67,
    "start_time": "2022-09-23T14:28:24.007Z"
   },
   {
    "duration": 6,
    "start_time": "2022-09-23T14:28:24.076Z"
   },
   {
    "duration": 26,
    "start_time": "2022-09-23T14:28:24.085Z"
   },
   {
    "duration": 5,
    "start_time": "2022-09-23T14:28:24.113Z"
   },
   {
    "duration": 10,
    "start_time": "2022-09-23T14:28:24.119Z"
   },
   {
    "duration": 47,
    "start_time": "2022-09-23T14:28:24.131Z"
   },
   {
    "duration": 5,
    "start_time": "2022-09-23T14:28:24.180Z"
   },
   {
    "duration": 26,
    "start_time": "2022-09-23T14:28:24.187Z"
   },
   {
    "duration": 240,
    "start_time": "2022-09-23T14:28:24.216Z"
   },
   {
    "duration": 18,
    "start_time": "2022-09-23T14:28:24.458Z"
   },
   {
    "duration": 6,
    "start_time": "2022-09-23T14:28:24.477Z"
   },
   {
    "duration": 9,
    "start_time": "2022-09-23T14:28:24.484Z"
   },
   {
    "duration": 7,
    "start_time": "2022-09-23T14:28:24.498Z"
   },
   {
    "duration": 8,
    "start_time": "2022-09-23T14:28:24.506Z"
   },
   {
    "duration": 8,
    "start_time": "2022-09-23T14:28:24.516Z"
   },
   {
    "duration": 8,
    "start_time": "2022-09-23T14:28:24.526Z"
   },
   {
    "duration": 15,
    "start_time": "2022-09-23T14:28:24.555Z"
   },
   {
    "duration": 937,
    "start_time": "2022-09-23T14:28:24.572Z"
   },
   {
    "duration": 18,
    "start_time": "2022-09-23T14:28:25.510Z"
   },
   {
    "duration": 15,
    "start_time": "2022-09-23T14:28:25.531Z"
   },
   {
    "duration": 27008,
    "start_time": "2022-09-23T14:28:25.548Z"
   },
   {
    "duration": 196,
    "start_time": "2022-09-23T14:28:52.558Z"
   },
   {
    "duration": 6,
    "start_time": "2022-09-23T14:28:52.756Z"
   },
   {
    "duration": 111,
    "start_time": "2022-09-23T14:28:52.764Z"
   },
   {
    "duration": 10,
    "start_time": "2022-09-23T14:28:52.877Z"
   },
   {
    "duration": 5,
    "start_time": "2022-09-23T14:28:52.889Z"
   },
   {
    "duration": 8,
    "start_time": "2022-09-23T14:28:52.896Z"
   },
   {
    "duration": 8,
    "start_time": "2022-09-23T14:28:52.905Z"
   },
   {
    "duration": 1255,
    "start_time": "2022-09-23T14:31:23.124Z"
   },
   {
    "duration": 1140,
    "start_time": "2022-09-23T14:31:24.381Z"
   },
   {
    "duration": 5,
    "start_time": "2022-09-23T14:31:25.523Z"
   },
   {
    "duration": 117,
    "start_time": "2022-09-23T14:31:25.529Z"
   },
   {
    "duration": 749,
    "start_time": "2022-09-23T14:31:25.648Z"
   },
   {
    "duration": 97,
    "start_time": "2022-09-23T14:31:26.399Z"
   },
   {
    "duration": 98,
    "start_time": "2022-09-23T14:31:26.498Z"
   },
   {
    "duration": 15,
    "start_time": "2022-09-23T14:31:26.597Z"
   },
   {
    "duration": 182,
    "start_time": "2022-09-23T14:31:26.614Z"
   },
   {
    "duration": 20,
    "start_time": "2022-09-23T14:31:26.797Z"
   },
   {
    "duration": 553,
    "start_time": "2022-09-23T14:31:26.818Z"
   },
   {
    "duration": 4,
    "start_time": "2022-09-23T14:31:27.373Z"
   },
   {
    "duration": 7,
    "start_time": "2022-09-23T14:31:27.379Z"
   },
   {
    "duration": 43,
    "start_time": "2022-09-23T14:31:27.390Z"
   },
   {
    "duration": 21,
    "start_time": "2022-09-23T14:31:27.435Z"
   },
   {
    "duration": 41,
    "start_time": "2022-09-23T14:31:27.458Z"
   },
   {
    "duration": 5,
    "start_time": "2022-09-23T14:31:27.501Z"
   },
   {
    "duration": 31,
    "start_time": "2022-09-23T14:31:27.507Z"
   },
   {
    "duration": 14,
    "start_time": "2022-09-23T14:31:27.540Z"
   },
   {
    "duration": 10,
    "start_time": "2022-09-23T14:31:27.556Z"
   },
   {
    "duration": 24,
    "start_time": "2022-09-23T14:31:27.567Z"
   },
   {
    "duration": 5,
    "start_time": "2022-09-23T14:31:27.592Z"
   },
   {
    "duration": 18,
    "start_time": "2022-09-23T14:31:27.598Z"
   },
   {
    "duration": 232,
    "start_time": "2022-09-23T14:31:27.618Z"
   },
   {
    "duration": 16,
    "start_time": "2022-09-23T14:31:27.853Z"
   },
   {
    "duration": 5,
    "start_time": "2022-09-23T14:31:27.871Z"
   },
   {
    "duration": 5,
    "start_time": "2022-09-23T14:31:27.877Z"
   },
   {
    "duration": 7,
    "start_time": "2022-09-23T14:31:27.883Z"
   },
   {
    "duration": 7,
    "start_time": "2022-09-23T14:31:27.891Z"
   },
   {
    "duration": 11,
    "start_time": "2022-09-23T14:31:27.899Z"
   },
   {
    "duration": 5,
    "start_time": "2022-09-23T14:31:27.911Z"
   },
   {
    "duration": 29,
    "start_time": "2022-09-23T14:31:27.918Z"
   },
   {
    "duration": 898,
    "start_time": "2022-09-23T14:31:27.948Z"
   },
   {
    "duration": 13,
    "start_time": "2022-09-23T14:31:28.848Z"
   },
   {
    "duration": 9,
    "start_time": "2022-09-23T14:31:28.863Z"
   },
   {
    "duration": 21080,
    "start_time": "2022-09-23T14:31:28.874Z"
   },
   {
    "duration": 202,
    "start_time": "2022-09-23T14:31:49.956Z"
   },
   {
    "duration": 5,
    "start_time": "2022-09-23T14:31:50.160Z"
   },
   {
    "duration": 11,
    "start_time": "2022-09-23T14:31:50.253Z"
   },
   {
    "duration": 6,
    "start_time": "2022-09-23T14:31:50.266Z"
   },
   {
    "duration": 6,
    "start_time": "2022-09-23T14:31:50.276Z"
   },
   {
    "duration": 7,
    "start_time": "2022-09-23T14:31:50.283Z"
   },
   {
    "duration": 7,
    "start_time": "2022-09-23T14:31:50.291Z"
   },
   {
    "duration": 1233,
    "start_time": "2022-09-23T14:32:58.232Z"
   },
   {
    "duration": 1147,
    "start_time": "2022-09-23T14:32:59.467Z"
   },
   {
    "duration": 3,
    "start_time": "2022-09-23T14:33:00.616Z"
   },
   {
    "duration": 138,
    "start_time": "2022-09-23T14:33:00.621Z"
   },
   {
    "duration": 807,
    "start_time": "2022-09-23T14:33:00.761Z"
   },
   {
    "duration": 114,
    "start_time": "2022-09-23T14:33:01.571Z"
   },
   {
    "duration": 108,
    "start_time": "2022-09-23T14:33:01.687Z"
   },
   {
    "duration": 39,
    "start_time": "2022-09-23T14:33:01.797Z"
   },
   {
    "duration": 176,
    "start_time": "2022-09-23T14:33:01.838Z"
   },
   {
    "duration": 16,
    "start_time": "2022-09-23T14:33:02.016Z"
   },
   {
    "duration": 564,
    "start_time": "2022-09-23T14:33:02.034Z"
   },
   {
    "duration": 4,
    "start_time": "2022-09-23T14:33:02.600Z"
   },
   {
    "duration": 28,
    "start_time": "2022-09-23T14:33:02.605Z"
   },
   {
    "duration": 52,
    "start_time": "2022-09-23T14:33:02.636Z"
   },
   {
    "duration": 6,
    "start_time": "2022-09-23T14:33:02.690Z"
   },
   {
    "duration": 63,
    "start_time": "2022-09-23T14:33:02.697Z"
   },
   {
    "duration": 5,
    "start_time": "2022-09-23T14:33:02.763Z"
   },
   {
    "duration": 29,
    "start_time": "2022-09-23T14:33:02.769Z"
   },
   {
    "duration": 4,
    "start_time": "2022-09-23T14:33:02.801Z"
   },
   {
    "duration": 11,
    "start_time": "2022-09-23T14:33:02.806Z"
   },
   {
    "duration": 23,
    "start_time": "2022-09-23T14:33:02.819Z"
   },
   {
    "duration": 5,
    "start_time": "2022-09-23T14:33:02.854Z"
   },
   {
    "duration": 23,
    "start_time": "2022-09-23T14:33:02.860Z"
   },
   {
    "duration": 219,
    "start_time": "2022-09-23T14:33:02.885Z"
   },
   {
    "duration": 17,
    "start_time": "2022-09-23T14:33:03.106Z"
   },
   {
    "duration": 21,
    "start_time": "2022-09-23T14:33:03.125Z"
   },
   {
    "duration": 32,
    "start_time": "2022-09-23T14:33:03.148Z"
   },
   {
    "duration": 37,
    "start_time": "2022-09-23T14:33:03.182Z"
   },
   {
    "duration": 71,
    "start_time": "2022-09-23T14:33:03.221Z"
   },
   {
    "duration": 27,
    "start_time": "2022-09-23T14:33:03.294Z"
   },
   {
    "duration": 46,
    "start_time": "2022-09-23T14:33:03.323Z"
   },
   {
    "duration": 41,
    "start_time": "2022-09-23T14:33:03.371Z"
   },
   {
    "duration": 899,
    "start_time": "2022-09-23T14:33:03.414Z"
   },
   {
    "duration": 13,
    "start_time": "2022-09-23T14:33:04.315Z"
   },
   {
    "duration": 5,
    "start_time": "2022-09-23T14:33:04.330Z"
   },
   {
    "duration": 1172,
    "start_time": "2022-09-23T14:33:24.959Z"
   },
   {
    "duration": 1102,
    "start_time": "2022-09-23T14:33:26.133Z"
   },
   {
    "duration": 4,
    "start_time": "2022-09-23T14:33:27.236Z"
   },
   {
    "duration": 104,
    "start_time": "2022-09-23T14:33:27.242Z"
   },
   {
    "duration": 768,
    "start_time": "2022-09-23T14:33:27.354Z"
   },
   {
    "duration": 110,
    "start_time": "2022-09-23T14:33:28.125Z"
   },
   {
    "duration": 123,
    "start_time": "2022-09-23T14:33:28.238Z"
   },
   {
    "duration": 15,
    "start_time": "2022-09-23T14:33:28.363Z"
   },
   {
    "duration": 128,
    "start_time": "2022-09-23T14:33:28.380Z"
   },
   {
    "duration": 17,
    "start_time": "2022-09-23T14:33:28.584Z"
   },
   {
    "duration": 569,
    "start_time": "2022-09-23T14:33:28.603Z"
   },
   {
    "duration": 4,
    "start_time": "2022-09-23T14:33:29.174Z"
   },
   {
    "duration": 10,
    "start_time": "2022-09-23T14:33:29.180Z"
   },
   {
    "duration": 63,
    "start_time": "2022-09-23T14:33:29.191Z"
   },
   {
    "duration": 4,
    "start_time": "2022-09-23T14:33:29.256Z"
   },
   {
    "duration": 44,
    "start_time": "2022-09-23T14:33:29.262Z"
   },
   {
    "duration": 5,
    "start_time": "2022-09-23T14:33:29.307Z"
   },
   {
    "duration": 40,
    "start_time": "2022-09-23T14:33:29.314Z"
   },
   {
    "duration": 4,
    "start_time": "2022-09-23T14:33:29.356Z"
   },
   {
    "duration": 19,
    "start_time": "2022-09-23T14:33:29.362Z"
   },
   {
    "duration": 32,
    "start_time": "2022-09-23T14:33:29.383Z"
   },
   {
    "duration": 5,
    "start_time": "2022-09-23T14:33:29.418Z"
   },
   {
    "duration": 19,
    "start_time": "2022-09-23T14:33:29.425Z"
   },
   {
    "duration": 224,
    "start_time": "2022-09-23T14:33:29.446Z"
   },
   {
    "duration": 18,
    "start_time": "2022-09-23T14:33:29.672Z"
   },
   {
    "duration": 2,
    "start_time": "2022-09-23T14:33:29.693Z"
   },
   {
    "duration": 13,
    "start_time": "2022-09-23T14:33:29.696Z"
   },
   {
    "duration": 4,
    "start_time": "2022-09-23T14:33:29.713Z"
   },
   {
    "duration": 5,
    "start_time": "2022-09-23T14:33:29.719Z"
   },
   {
    "duration": 23,
    "start_time": "2022-09-23T14:33:29.726Z"
   },
   {
    "duration": 6,
    "start_time": "2022-09-23T14:33:29.751Z"
   },
   {
    "duration": 19,
    "start_time": "2022-09-23T14:33:29.759Z"
   },
   {
    "duration": 896,
    "start_time": "2022-09-23T14:33:29.780Z"
   },
   {
    "duration": 14,
    "start_time": "2022-09-23T14:33:30.678Z"
   },
   {
    "duration": 35,
    "start_time": "2022-09-23T14:33:30.694Z"
   },
   {
    "duration": 21027,
    "start_time": "2022-09-23T14:33:30.731Z"
   },
   {
    "duration": 194,
    "start_time": "2022-09-23T14:33:51.761Z"
   },
   {
    "duration": 5,
    "start_time": "2022-09-23T14:33:51.958Z"
   },
   {
    "duration": 12,
    "start_time": "2022-09-23T14:33:52.054Z"
   },
   {
    "duration": 9,
    "start_time": "2022-09-23T14:33:52.068Z"
   },
   {
    "duration": 10,
    "start_time": "2022-09-23T14:33:52.079Z"
   },
   {
    "duration": 8,
    "start_time": "2022-09-23T14:33:52.091Z"
   },
   {
    "duration": 8,
    "start_time": "2022-09-23T14:33:52.101Z"
   },
   {
    "duration": 1241,
    "start_time": "2022-09-23T14:36:50.958Z"
   },
   {
    "duration": 1125,
    "start_time": "2022-09-23T14:36:52.201Z"
   },
   {
    "duration": 4,
    "start_time": "2022-09-23T14:36:53.327Z"
   },
   {
    "duration": 124,
    "start_time": "2022-09-23T14:36:53.333Z"
   },
   {
    "duration": 782,
    "start_time": "2022-09-23T14:36:53.458Z"
   },
   {
    "duration": 96,
    "start_time": "2022-09-23T14:36:54.243Z"
   },
   {
    "duration": 100,
    "start_time": "2022-09-23T14:36:54.340Z"
   },
   {
    "duration": 28,
    "start_time": "2022-09-23T14:36:54.442Z"
   },
   {
    "duration": 115,
    "start_time": "2022-09-23T14:36:54.472Z"
   },
   {
    "duration": 24,
    "start_time": "2022-09-23T14:36:54.664Z"
   },
   {
    "duration": 567,
    "start_time": "2022-09-23T14:36:54.691Z"
   },
   {
    "duration": 5,
    "start_time": "2022-09-23T14:36:55.260Z"
   },
   {
    "duration": 10,
    "start_time": "2022-09-23T14:36:55.267Z"
   },
   {
    "duration": 48,
    "start_time": "2022-09-23T14:36:55.279Z"
   },
   {
    "duration": 5,
    "start_time": "2022-09-23T14:36:55.328Z"
   },
   {
    "duration": 47,
    "start_time": "2022-09-23T14:36:55.353Z"
   },
   {
    "duration": 5,
    "start_time": "2022-09-23T14:36:55.402Z"
   },
   {
    "duration": 28,
    "start_time": "2022-09-23T14:36:55.408Z"
   },
   {
    "duration": 4,
    "start_time": "2022-09-23T14:36:55.438Z"
   },
   {
    "duration": 12,
    "start_time": "2022-09-23T14:36:55.454Z"
   },
   {
    "duration": 23,
    "start_time": "2022-09-23T14:36:55.468Z"
   },
   {
    "duration": 5,
    "start_time": "2022-09-23T14:36:55.492Z"
   },
   {
    "duration": 27,
    "start_time": "2022-09-23T14:36:55.498Z"
   },
   {
    "duration": 245,
    "start_time": "2022-09-23T14:36:55.527Z"
   },
   {
    "duration": 18,
    "start_time": "2022-09-23T14:36:55.774Z"
   },
   {
    "duration": 59,
    "start_time": "2022-09-23T14:36:55.794Z"
   },
   {
    "duration": 35,
    "start_time": "2022-09-23T14:36:55.854Z"
   },
   {
    "duration": 7,
    "start_time": "2022-09-23T14:36:55.893Z"
   },
   {
    "duration": 22,
    "start_time": "2022-09-23T14:36:55.903Z"
   },
   {
    "duration": 12,
    "start_time": "2022-09-23T14:36:55.927Z"
   },
   {
    "duration": 13,
    "start_time": "2022-09-23T14:36:55.941Z"
   },
   {
    "duration": 16,
    "start_time": "2022-09-23T14:36:55.955Z"
   },
   {
    "duration": 876,
    "start_time": "2022-09-23T14:36:55.972Z"
   },
   {
    "duration": 12,
    "start_time": "2022-09-23T14:36:56.850Z"
   },
   {
    "duration": 18,
    "start_time": "2022-09-23T14:36:56.864Z"
   },
   {
    "duration": 19871,
    "start_time": "2022-09-23T14:36:56.883Z"
   },
   {
    "duration": 121,
    "start_time": "2022-09-23T14:37:16.756Z"
   },
   {
    "duration": 80,
    "start_time": "2022-09-23T14:37:16.880Z"
   },
   {
    "duration": 102,
    "start_time": "2022-09-23T14:37:16.962Z"
   },
   {
    "duration": 10,
    "start_time": "2022-09-23T14:37:17.067Z"
   },
   {
    "duration": 16,
    "start_time": "2022-09-23T14:37:17.079Z"
   },
   {
    "duration": 15,
    "start_time": "2022-09-23T14:37:17.097Z"
   },
   {
    "duration": 22,
    "start_time": "2022-09-23T14:37:17.114Z"
   },
   {
    "duration": 1263,
    "start_time": "2022-09-23T15:44:56.819Z"
   },
   {
    "duration": 1101,
    "start_time": "2022-09-23T15:44:58.085Z"
   },
   {
    "duration": 3,
    "start_time": "2022-09-23T15:44:59.188Z"
   },
   {
    "duration": 103,
    "start_time": "2022-09-23T15:44:59.193Z"
   },
   {
    "duration": 766,
    "start_time": "2022-09-23T15:44:59.298Z"
   },
   {
    "duration": 99,
    "start_time": "2022-09-23T15:45:00.067Z"
   },
   {
    "duration": 98,
    "start_time": "2022-09-23T15:45:00.167Z"
   },
   {
    "duration": 16,
    "start_time": "2022-09-23T15:45:00.267Z"
   },
   {
    "duration": 121,
    "start_time": "2022-09-23T15:45:00.286Z"
   },
   {
    "duration": 18,
    "start_time": "2022-09-23T15:45:00.488Z"
   },
   {
    "duration": 611,
    "start_time": "2022-09-23T15:45:00.507Z"
   },
   {
    "duration": 5,
    "start_time": "2022-09-23T15:45:01.120Z"
   },
   {
    "duration": 24,
    "start_time": "2022-09-23T15:45:01.127Z"
   },
   {
    "duration": 61,
    "start_time": "2022-09-23T15:45:01.154Z"
   },
   {
    "duration": 6,
    "start_time": "2022-09-23T15:45:01.217Z"
   },
   {
    "duration": 64,
    "start_time": "2022-09-23T15:45:01.225Z"
   },
   {
    "duration": 5,
    "start_time": "2022-09-23T15:45:01.292Z"
   },
   {
    "duration": 50,
    "start_time": "2022-09-23T15:45:01.299Z"
   },
   {
    "duration": 23,
    "start_time": "2022-09-23T15:45:01.351Z"
   },
   {
    "duration": 30,
    "start_time": "2022-09-23T15:45:01.376Z"
   },
   {
    "duration": 51,
    "start_time": "2022-09-23T15:45:01.408Z"
   },
   {
    "duration": 38,
    "start_time": "2022-09-23T15:45:01.462Z"
   },
   {
    "duration": 54,
    "start_time": "2022-09-23T15:45:01.502Z"
   },
   {
    "duration": 244,
    "start_time": "2022-09-23T15:45:01.559Z"
   },
   {
    "duration": 17,
    "start_time": "2022-09-23T15:45:01.805Z"
   },
   {
    "duration": 85,
    "start_time": "2022-09-23T15:45:01.824Z"
   },
   {
    "duration": 53,
    "start_time": "2022-09-23T15:45:01.911Z"
   },
   {
    "duration": 19,
    "start_time": "2022-09-23T15:45:01.967Z"
   },
   {
    "duration": 17,
    "start_time": "2022-09-23T15:45:01.988Z"
   },
   {
    "duration": 10,
    "start_time": "2022-09-23T15:45:02.007Z"
   },
   {
    "duration": 9,
    "start_time": "2022-09-23T15:45:02.019Z"
   },
   {
    "duration": 21,
    "start_time": "2022-09-23T15:45:02.029Z"
   },
   {
    "duration": 855,
    "start_time": "2022-09-23T15:45:02.051Z"
   },
   {
    "duration": 14,
    "start_time": "2022-09-23T15:45:02.908Z"
   },
   {
    "duration": 24,
    "start_time": "2022-09-23T15:45:02.924Z"
   },
   {
    "duration": 18015,
    "start_time": "2022-09-23T15:45:02.949Z"
   },
   {
    "duration": 104,
    "start_time": "2022-09-23T15:45:21.054Z"
   },
   {
    "duration": 94,
    "start_time": "2022-09-23T15:45:21.160Z"
   },
   {
    "duration": 3,
    "start_time": "2022-09-23T15:45:21.257Z"
   },
   {
    "duration": 7,
    "start_time": "2022-09-23T15:45:21.262Z"
   },
   {
    "duration": 7,
    "start_time": "2022-09-23T15:45:21.270Z"
   },
   {
    "duration": 77,
    "start_time": "2022-09-23T15:45:21.279Z"
   },
   {
    "duration": 6,
    "start_time": "2022-09-23T15:45:21.358Z"
   },
   {
    "duration": 5,
    "start_time": "2022-09-23T15:45:21.366Z"
   },
   {
    "duration": 1219,
    "start_time": "2022-09-23T18:28:14.631Z"
   },
   {
    "duration": 3398,
    "start_time": "2022-09-23T18:28:15.851Z"
   },
   {
    "duration": 4,
    "start_time": "2022-09-23T18:28:19.251Z"
   },
   {
    "duration": 124,
    "start_time": "2022-09-23T18:28:19.257Z"
   },
   {
    "duration": 724,
    "start_time": "2022-09-23T18:28:19.385Z"
   },
   {
    "duration": 89,
    "start_time": "2022-09-23T18:28:20.111Z"
   },
   {
    "duration": 123,
    "start_time": "2022-09-23T18:28:20.203Z"
   },
   {
    "duration": 14,
    "start_time": "2022-09-23T18:28:20.328Z"
   },
   {
    "duration": 171,
    "start_time": "2022-09-23T18:28:20.345Z"
   },
   {
    "duration": 17,
    "start_time": "2022-09-23T18:28:20.518Z"
   },
   {
    "duration": 570,
    "start_time": "2022-09-23T18:28:20.537Z"
   },
   {
    "duration": 5,
    "start_time": "2022-09-23T18:28:21.109Z"
   },
   {
    "duration": 12,
    "start_time": "2022-09-23T18:28:21.116Z"
   },
   {
    "duration": 56,
    "start_time": "2022-09-23T18:28:21.133Z"
   },
   {
    "duration": 5,
    "start_time": "2022-09-23T18:28:21.191Z"
   },
   {
    "duration": 41,
    "start_time": "2022-09-23T18:28:21.198Z"
   },
   {
    "duration": 6,
    "start_time": "2022-09-23T18:28:21.241Z"
   },
   {
    "duration": 40,
    "start_time": "2022-09-23T18:28:21.249Z"
   },
   {
    "duration": 4,
    "start_time": "2022-09-23T18:28:21.291Z"
   },
   {
    "duration": 10,
    "start_time": "2022-09-23T18:28:21.297Z"
   },
   {
    "duration": 23,
    "start_time": "2022-09-23T18:28:21.309Z"
   },
   {
    "duration": 6,
    "start_time": "2022-09-23T18:28:21.334Z"
   },
   {
    "duration": 17,
    "start_time": "2022-09-23T18:28:21.342Z"
   },
   {
    "duration": 213,
    "start_time": "2022-09-23T18:28:21.390Z"
   },
   {
    "duration": 17,
    "start_time": "2022-09-23T18:28:21.605Z"
   },
   {
    "duration": 2,
    "start_time": "2022-09-23T18:28:21.624Z"
   },
   {
    "duration": 5,
    "start_time": "2022-09-23T18:28:21.628Z"
   },
   {
    "duration": 5,
    "start_time": "2022-09-23T18:28:21.635Z"
   },
   {
    "duration": 6,
    "start_time": "2022-09-23T18:28:21.641Z"
   },
   {
    "duration": 7,
    "start_time": "2022-09-23T18:28:21.649Z"
   },
   {
    "duration": 35,
    "start_time": "2022-09-23T18:28:21.657Z"
   },
   {
    "duration": 13,
    "start_time": "2022-09-23T18:28:21.693Z"
   },
   {
    "duration": 955,
    "start_time": "2022-09-23T18:28:21.708Z"
   },
   {
    "duration": 15,
    "start_time": "2022-09-23T18:28:22.665Z"
   },
   {
    "duration": 13,
    "start_time": "2022-09-23T18:28:22.682Z"
   },
   {
    "duration": 25994,
    "start_time": "2022-09-23T18:28:22.697Z"
   },
   {
    "duration": 297,
    "start_time": "2022-09-23T18:28:48.693Z"
   },
   {
    "duration": 6,
    "start_time": "2022-09-23T18:28:48.993Z"
   },
   {
    "duration": 8,
    "start_time": "2022-09-23T18:28:49.000Z"
   },
   {
    "duration": 8,
    "start_time": "2022-09-23T18:28:49.010Z"
   },
   {
    "duration": 10,
    "start_time": "2022-09-23T18:28:49.023Z"
   },
   {
    "duration": 8,
    "start_time": "2022-09-23T18:28:49.035Z"
   },
   {
    "duration": 5,
    "start_time": "2022-09-23T18:28:49.045Z"
   },
   {
    "duration": 5,
    "start_time": "2022-09-23T18:28:49.052Z"
   },
   {
    "duration": 1274,
    "start_time": "2022-09-23T18:29:38.677Z"
   },
   {
    "duration": 1258,
    "start_time": "2022-09-23T18:29:39.953Z"
   },
   {
    "duration": 4,
    "start_time": "2022-09-23T18:29:41.213Z"
   },
   {
    "duration": 141,
    "start_time": "2022-09-23T18:29:41.218Z"
   },
   {
    "duration": 874,
    "start_time": "2022-09-23T18:29:41.362Z"
   },
   {
    "duration": 105,
    "start_time": "2022-09-23T18:29:42.238Z"
   },
   {
    "duration": 123,
    "start_time": "2022-09-23T18:29:42.345Z"
   },
   {
    "duration": 30,
    "start_time": "2022-09-23T18:29:42.469Z"
   },
   {
    "duration": 150,
    "start_time": "2022-09-23T18:29:42.507Z"
   },
   {
    "duration": 18,
    "start_time": "2022-09-23T18:29:42.659Z"
   },
   {
    "duration": 556,
    "start_time": "2022-09-23T18:29:42.689Z"
   },
   {
    "duration": 6,
    "start_time": "2022-09-23T18:29:43.247Z"
   },
   {
    "duration": 22,
    "start_time": "2022-09-23T18:29:43.254Z"
   },
   {
    "duration": 68,
    "start_time": "2022-09-23T18:29:43.281Z"
   },
   {
    "duration": 10,
    "start_time": "2022-09-23T18:29:43.352Z"
   },
   {
    "duration": 64,
    "start_time": "2022-09-23T18:29:43.365Z"
   },
   {
    "duration": 7,
    "start_time": "2022-09-23T18:29:43.431Z"
   },
   {
    "duration": 38,
    "start_time": "2022-09-23T18:29:43.440Z"
   },
   {
    "duration": 6,
    "start_time": "2022-09-23T18:29:43.481Z"
   },
   {
    "duration": 28,
    "start_time": "2022-09-23T18:29:43.495Z"
   },
   {
    "duration": 35,
    "start_time": "2022-09-23T18:29:43.524Z"
   },
   {
    "duration": 4,
    "start_time": "2022-09-23T18:29:43.561Z"
   },
   {
    "duration": 38,
    "start_time": "2022-09-23T18:29:43.567Z"
   },
   {
    "duration": 227,
    "start_time": "2022-09-23T18:29:43.610Z"
   },
   {
    "duration": 18,
    "start_time": "2022-09-23T18:29:43.839Z"
   },
   {
    "duration": 26,
    "start_time": "2022-09-23T18:29:43.859Z"
   },
   {
    "duration": 27,
    "start_time": "2022-09-23T18:29:43.886Z"
   },
   {
    "duration": 19,
    "start_time": "2022-09-23T18:29:43.915Z"
   },
   {
    "duration": 32,
    "start_time": "2022-09-23T18:29:43.936Z"
   },
   {
    "duration": 5,
    "start_time": "2022-09-23T18:29:43.969Z"
   },
   {
    "duration": 31,
    "start_time": "2022-09-23T18:29:43.976Z"
   },
   {
    "duration": 28,
    "start_time": "2022-09-23T18:29:44.008Z"
   },
   {
    "duration": 883,
    "start_time": "2022-09-23T18:29:44.037Z"
   },
   {
    "duration": 12,
    "start_time": "2022-09-23T18:29:44.922Z"
   },
   {
    "duration": 26,
    "start_time": "2022-09-23T18:29:44.935Z"
   },
   {
    "duration": 33032,
    "start_time": "2022-09-23T18:29:44.963Z"
   },
   {
    "duration": 122,
    "start_time": "2022-09-23T18:30:17.997Z"
   },
   {
    "duration": 16,
    "start_time": "2022-09-23T18:30:18.196Z"
   },
   {
    "duration": 21,
    "start_time": "2022-09-23T18:30:18.291Z"
   },
   {
    "duration": 4,
    "start_time": "2022-09-23T18:30:18.314Z"
   },
   {
    "duration": 3,
    "start_time": "2022-09-23T18:30:18.322Z"
   },
   {
    "duration": 7,
    "start_time": "2022-09-23T18:30:18.326Z"
   },
   {
    "duration": 17,
    "start_time": "2022-09-23T18:30:18.335Z"
   },
   {
    "duration": 12,
    "start_time": "2022-09-23T18:30:18.353Z"
   },
   {
    "duration": 59842,
    "start_time": "2022-09-23T18:30:18.367Z"
   },
   {
    "duration": 499,
    "start_time": "2022-09-23T18:31:18.211Z"
   },
   {
    "duration": 5,
    "start_time": "2022-09-23T18:31:18.713Z"
   },
   {
    "duration": 5,
    "start_time": "2022-09-23T18:31:18.720Z"
   },
   {
    "duration": 5,
    "start_time": "2022-09-23T18:31:18.727Z"
   },
   {
    "duration": 1336,
    "start_time": "2022-09-23T18:32:26.531Z"
   },
   {
    "duration": 1232,
    "start_time": "2022-09-23T18:32:27.870Z"
   },
   {
    "duration": 4,
    "start_time": "2022-09-23T18:32:29.103Z"
   },
   {
    "duration": 123,
    "start_time": "2022-09-23T18:32:29.109Z"
   },
   {
    "duration": 766,
    "start_time": "2022-09-23T18:32:29.234Z"
   },
   {
    "duration": 100,
    "start_time": "2022-09-23T18:32:30.002Z"
   },
   {
    "duration": 118,
    "start_time": "2022-09-23T18:32:30.104Z"
   },
   {
    "duration": 14,
    "start_time": "2022-09-23T18:32:30.223Z"
   },
   {
    "duration": 112,
    "start_time": "2022-09-23T18:32:30.239Z"
   },
   {
    "duration": 19,
    "start_time": "2022-09-23T18:32:30.422Z"
   },
   {
    "duration": 593,
    "start_time": "2022-09-23T18:32:30.443Z"
   },
   {
    "duration": 4,
    "start_time": "2022-09-23T18:32:31.038Z"
   },
   {
    "duration": 14,
    "start_time": "2022-09-23T18:32:31.044Z"
   },
   {
    "duration": 58,
    "start_time": "2022-09-23T18:32:31.059Z"
   },
   {
    "duration": 4,
    "start_time": "2022-09-23T18:32:31.119Z"
   },
   {
    "duration": 56,
    "start_time": "2022-09-23T18:32:31.125Z"
   },
   {
    "duration": 6,
    "start_time": "2022-09-23T18:32:31.182Z"
   },
   {
    "duration": 36,
    "start_time": "2022-09-23T18:32:31.196Z"
   },
   {
    "duration": 22,
    "start_time": "2022-09-23T18:32:31.234Z"
   },
   {
    "duration": 12,
    "start_time": "2022-09-23T18:32:31.258Z"
   },
   {
    "duration": 50,
    "start_time": "2022-09-23T18:32:31.271Z"
   },
   {
    "duration": 16,
    "start_time": "2022-09-23T18:32:31.323Z"
   },
   {
    "duration": 46,
    "start_time": "2022-09-23T18:32:31.341Z"
   },
   {
    "duration": 252,
    "start_time": "2022-09-23T18:32:31.391Z"
   },
   {
    "duration": 17,
    "start_time": "2022-09-23T18:32:31.644Z"
   },
   {
    "duration": 9,
    "start_time": "2022-09-23T18:32:31.663Z"
   },
   {
    "duration": 32,
    "start_time": "2022-09-23T18:32:31.674Z"
   },
   {
    "duration": 8,
    "start_time": "2022-09-23T18:32:31.709Z"
   },
   {
    "duration": 11,
    "start_time": "2022-09-23T18:32:31.719Z"
   },
   {
    "duration": 18,
    "start_time": "2022-09-23T18:32:31.732Z"
   },
   {
    "duration": 7,
    "start_time": "2022-09-23T18:32:31.751Z"
   },
   {
    "duration": 16,
    "start_time": "2022-09-23T18:32:31.760Z"
   },
   {
    "duration": 1050,
    "start_time": "2022-09-23T18:32:31.778Z"
   },
   {
    "duration": 15,
    "start_time": "2022-09-23T18:32:32.830Z"
   },
   {
    "duration": 5,
    "start_time": "2022-09-23T18:32:32.847Z"
   },
   {
    "duration": 30042,
    "start_time": "2022-09-23T18:32:32.853Z"
   },
   {
    "duration": 118,
    "start_time": "2022-09-23T18:33:02.900Z"
   },
   {
    "duration": 81,
    "start_time": "2022-09-23T18:33:03.020Z"
   },
   {
    "duration": 107,
    "start_time": "2022-09-23T18:33:03.103Z"
   },
   {
    "duration": 7,
    "start_time": "2022-09-23T18:33:03.211Z"
   },
   {
    "duration": 9,
    "start_time": "2022-09-23T18:33:03.219Z"
   },
   {
    "duration": 8,
    "start_time": "2022-09-23T18:33:03.229Z"
   },
   {
    "duration": 10,
    "start_time": "2022-09-23T18:33:03.238Z"
   },
   {
    "duration": 48042,
    "start_time": "2022-09-23T18:33:03.250Z"
   },
   {
    "duration": 498,
    "start_time": "2022-09-23T18:33:51.294Z"
   },
   {
    "duration": 6,
    "start_time": "2022-09-23T18:33:51.793Z"
   },
   {
    "duration": 722,
    "start_time": "2022-09-23T18:33:51.805Z"
   },
   {
    "duration": 0,
    "start_time": "2022-09-23T18:33:52.528Z"
   },
   {
    "duration": 0,
    "start_time": "2022-09-23T18:33:52.529Z"
   },
   {
    "duration": 0,
    "start_time": "2022-09-23T18:33:52.530Z"
   },
   {
    "duration": 0,
    "start_time": "2022-09-23T18:33:52.531Z"
   },
   {
    "duration": 0,
    "start_time": "2022-09-23T18:33:52.532Z"
   },
   {
    "duration": 0,
    "start_time": "2022-09-23T18:33:52.533Z"
   },
   {
    "duration": 0,
    "start_time": "2022-09-23T18:33:52.534Z"
   },
   {
    "duration": 0,
    "start_time": "2022-09-23T18:33:52.535Z"
   },
   {
    "duration": 2,
    "start_time": "2022-09-23T18:34:11.246Z"
   },
   {
    "duration": 51,
    "start_time": "2022-09-23T20:06:48.923Z"
   },
   {
    "duration": 1333,
    "start_time": "2022-09-23T20:07:02.515Z"
   },
   {
    "duration": 3494,
    "start_time": "2022-09-23T20:07:03.850Z"
   },
   {
    "duration": 4,
    "start_time": "2022-09-23T20:07:07.346Z"
   },
   {
    "duration": 121,
    "start_time": "2022-09-23T20:07:07.353Z"
   },
   {
    "duration": 715,
    "start_time": "2022-09-23T20:07:07.476Z"
   },
   {
    "duration": 74,
    "start_time": "2022-09-23T20:07:08.193Z"
   },
   {
    "duration": 134,
    "start_time": "2022-09-23T20:07:08.269Z"
   },
   {
    "duration": 26,
    "start_time": "2022-09-23T20:07:08.405Z"
   },
   {
    "duration": 84,
    "start_time": "2022-09-23T20:07:08.433Z"
   },
   {
    "duration": 18,
    "start_time": "2022-09-23T20:07:08.588Z"
   },
   {
    "duration": 553,
    "start_time": "2022-09-23T20:07:08.608Z"
   },
   {
    "duration": 5,
    "start_time": "2022-09-23T20:07:09.163Z"
   },
   {
    "duration": 20,
    "start_time": "2022-09-23T20:07:09.170Z"
   },
   {
    "duration": 45,
    "start_time": "2022-09-23T20:07:09.192Z"
   },
   {
    "duration": 5,
    "start_time": "2022-09-23T20:07:09.239Z"
   },
   {
    "duration": 58,
    "start_time": "2022-09-23T20:07:09.246Z"
   },
   {
    "duration": 6,
    "start_time": "2022-09-23T20:07:09.307Z"
   },
   {
    "duration": 22,
    "start_time": "2022-09-23T20:07:09.314Z"
   },
   {
    "duration": 6,
    "start_time": "2022-09-23T20:07:09.338Z"
   },
   {
    "duration": 15,
    "start_time": "2022-09-23T20:07:09.346Z"
   },
   {
    "duration": 45,
    "start_time": "2022-09-23T20:07:09.364Z"
   },
   {
    "duration": 5,
    "start_time": "2022-09-23T20:07:09.411Z"
   },
   {
    "duration": 27,
    "start_time": "2022-09-23T20:07:09.420Z"
   },
   {
    "duration": 228,
    "start_time": "2022-09-23T20:07:09.449Z"
   },
   {
    "duration": 19,
    "start_time": "2022-09-23T20:07:09.679Z"
   },
   {
    "duration": 3,
    "start_time": "2022-09-23T20:07:09.702Z"
   },
   {
    "duration": 10,
    "start_time": "2022-09-23T20:07:09.706Z"
   },
   {
    "duration": 11,
    "start_time": "2022-09-23T20:07:09.720Z"
   },
   {
    "duration": 13,
    "start_time": "2022-09-23T20:07:09.733Z"
   },
   {
    "duration": 7,
    "start_time": "2022-09-23T20:07:09.748Z"
   },
   {
    "duration": 11,
    "start_time": "2022-09-23T20:07:09.757Z"
   },
   {
    "duration": 23,
    "start_time": "2022-09-23T20:07:09.770Z"
   },
   {
    "duration": 950,
    "start_time": "2022-09-23T20:07:09.795Z"
   },
   {
    "duration": 14,
    "start_time": "2022-09-23T20:07:10.747Z"
   },
   {
    "duration": 20,
    "start_time": "2022-09-23T20:07:10.763Z"
   },
   {
    "duration": 29613,
    "start_time": "2022-09-23T20:07:10.785Z"
   },
   {
    "duration": 291,
    "start_time": "2022-09-23T20:07:40.400Z"
   },
   {
    "duration": 9,
    "start_time": "2022-09-23T20:07:40.694Z"
   },
   {
    "duration": 6,
    "start_time": "2022-09-23T20:07:40.790Z"
   },
   {
    "duration": 17,
    "start_time": "2022-09-23T20:07:40.798Z"
   },
   {
    "duration": 8,
    "start_time": "2022-09-23T20:07:40.819Z"
   },
   {
    "duration": 8,
    "start_time": "2022-09-23T20:07:40.829Z"
   },
   {
    "duration": 10,
    "start_time": "2022-09-23T20:07:40.839Z"
   },
   {
    "duration": 72,
    "start_time": "2022-09-23T20:07:40.851Z"
   },
   {
    "duration": 0,
    "start_time": "2022-09-23T20:07:40.924Z"
   },
   {
    "duration": 0,
    "start_time": "2022-09-23T20:07:40.926Z"
   },
   {
    "duration": 0,
    "start_time": "2022-09-23T20:07:40.927Z"
   },
   {
    "duration": 0,
    "start_time": "2022-09-23T20:07:40.929Z"
   },
   {
    "duration": 0,
    "start_time": "2022-09-23T20:07:40.930Z"
   },
   {
    "duration": 0,
    "start_time": "2022-09-23T20:07:40.937Z"
   },
   {
    "duration": 0,
    "start_time": "2022-09-23T20:07:40.938Z"
   },
   {
    "duration": 0,
    "start_time": "2022-09-23T20:07:40.939Z"
   },
   {
    "duration": 0,
    "start_time": "2022-09-23T20:07:40.940Z"
   },
   {
    "duration": 0,
    "start_time": "2022-09-23T20:07:40.941Z"
   },
   {
    "duration": 0,
    "start_time": "2022-09-23T20:07:40.943Z"
   },
   {
    "duration": 1175,
    "start_time": "2022-09-23T20:11:14.034Z"
   },
   {
    "duration": 1141,
    "start_time": "2022-09-23T20:11:15.211Z"
   },
   {
    "duration": 4,
    "start_time": "2022-09-23T20:11:16.354Z"
   },
   {
    "duration": 109,
    "start_time": "2022-09-23T20:11:16.359Z"
   },
   {
    "duration": 711,
    "start_time": "2022-09-23T20:11:16.470Z"
   },
   {
    "duration": 86,
    "start_time": "2022-09-23T20:11:17.183Z"
   },
   {
    "duration": 130,
    "start_time": "2022-09-23T20:11:17.271Z"
   },
   {
    "duration": 13,
    "start_time": "2022-09-23T20:11:17.402Z"
   },
   {
    "duration": 94,
    "start_time": "2022-09-23T20:11:17.417Z"
   },
   {
    "duration": 23,
    "start_time": "2022-09-23T20:11:17.574Z"
   },
   {
    "duration": 536,
    "start_time": "2022-09-23T20:11:17.598Z"
   },
   {
    "duration": 4,
    "start_time": "2022-09-23T20:11:18.136Z"
   },
   {
    "duration": 10,
    "start_time": "2022-09-23T20:11:18.141Z"
   },
   {
    "duration": 51,
    "start_time": "2022-09-23T20:11:18.153Z"
   },
   {
    "duration": 5,
    "start_time": "2022-09-23T20:11:18.206Z"
   },
   {
    "duration": 42,
    "start_time": "2022-09-23T20:11:18.213Z"
   },
   {
    "duration": 5,
    "start_time": "2022-09-23T20:11:18.257Z"
   },
   {
    "duration": 41,
    "start_time": "2022-09-23T20:11:18.264Z"
   },
   {
    "duration": 5,
    "start_time": "2022-09-23T20:11:18.306Z"
   },
   {
    "duration": 8,
    "start_time": "2022-09-23T20:11:18.313Z"
   },
   {
    "duration": 24,
    "start_time": "2022-09-23T20:11:18.322Z"
   },
   {
    "duration": 6,
    "start_time": "2022-09-23T20:11:18.348Z"
   },
   {
    "duration": 43,
    "start_time": "2022-09-23T20:11:18.356Z"
   },
   {
    "duration": 208,
    "start_time": "2022-09-23T20:11:18.401Z"
   },
   {
    "duration": 15,
    "start_time": "2022-09-23T20:11:18.611Z"
   },
   {
    "duration": 2,
    "start_time": "2022-09-23T20:11:18.628Z"
   },
   {
    "duration": 4,
    "start_time": "2022-09-23T20:11:18.632Z"
   },
   {
    "duration": 8,
    "start_time": "2022-09-23T20:11:18.640Z"
   },
   {
    "duration": 6,
    "start_time": "2022-09-23T20:11:18.650Z"
   },
   {
    "duration": 7,
    "start_time": "2022-09-23T20:11:18.657Z"
   },
   {
    "duration": 24,
    "start_time": "2022-09-23T20:11:18.665Z"
   },
   {
    "duration": 16,
    "start_time": "2022-09-23T20:11:18.691Z"
   },
   {
    "duration": 917,
    "start_time": "2022-09-23T20:11:18.709Z"
   },
   {
    "duration": 13,
    "start_time": "2022-09-23T20:11:19.630Z"
   },
   {
    "duration": 11,
    "start_time": "2022-09-23T20:11:19.645Z"
   },
   {
    "duration": 21638,
    "start_time": "2022-09-23T20:11:19.658Z"
   },
   {
    "duration": 200,
    "start_time": "2022-09-23T20:11:41.298Z"
   },
   {
    "duration": 6,
    "start_time": "2022-09-23T20:11:41.588Z"
   },
   {
    "duration": 13,
    "start_time": "2022-09-23T20:11:41.596Z"
   },
   {
    "duration": 5,
    "start_time": "2022-09-23T20:11:41.612Z"
   },
   {
    "duration": 6,
    "start_time": "2022-09-23T20:11:41.618Z"
   },
   {
    "duration": 6,
    "start_time": "2022-09-23T20:11:41.626Z"
   },
   {
    "duration": 9,
    "start_time": "2022-09-23T20:11:41.633Z"
   },
   {
    "duration": 1229,
    "start_time": "2022-09-23T20:12:26.064Z"
   },
   {
    "duration": 1221,
    "start_time": "2022-09-23T20:12:27.295Z"
   },
   {
    "duration": 3,
    "start_time": "2022-09-23T20:12:28.518Z"
   },
   {
    "duration": 143,
    "start_time": "2022-09-23T20:12:28.524Z"
   },
   {
    "duration": 711,
    "start_time": "2022-09-23T20:12:28.669Z"
   },
   {
    "duration": 81,
    "start_time": "2022-09-23T20:12:29.382Z"
   },
   {
    "duration": 133,
    "start_time": "2022-09-23T20:12:29.465Z"
   },
   {
    "duration": 14,
    "start_time": "2022-09-23T20:12:29.600Z"
   },
   {
    "duration": 93,
    "start_time": "2022-09-23T20:12:29.616Z"
   },
   {
    "duration": 33,
    "start_time": "2022-09-23T20:12:29.772Z"
   },
   {
    "duration": 531,
    "start_time": "2022-09-23T20:12:29.807Z"
   },
   {
    "duration": 17,
    "start_time": "2022-09-23T20:12:30.340Z"
   },
   {
    "duration": 7,
    "start_time": "2022-09-23T20:12:30.360Z"
   },
   {
    "duration": 47,
    "start_time": "2022-09-23T20:12:30.369Z"
   },
   {
    "duration": 5,
    "start_time": "2022-09-23T20:12:30.418Z"
   },
   {
    "duration": 42,
    "start_time": "2022-09-23T20:12:30.425Z"
   },
   {
    "duration": 6,
    "start_time": "2022-09-23T20:12:30.469Z"
   },
   {
    "duration": 21,
    "start_time": "2022-09-23T20:12:30.490Z"
   },
   {
    "duration": 11,
    "start_time": "2022-09-23T20:12:30.513Z"
   },
   {
    "duration": 15,
    "start_time": "2022-09-23T20:12:30.526Z"
   },
   {
    "duration": 24,
    "start_time": "2022-09-23T20:12:30.544Z"
   },
   {
    "duration": 4,
    "start_time": "2022-09-23T20:12:30.570Z"
   },
   {
    "duration": 26,
    "start_time": "2022-09-23T20:12:30.575Z"
   },
   {
    "duration": 249,
    "start_time": "2022-09-23T20:12:30.603Z"
   },
   {
    "duration": 25,
    "start_time": "2022-09-23T20:12:30.854Z"
   },
   {
    "duration": 3,
    "start_time": "2022-09-23T20:12:30.889Z"
   },
   {
    "duration": 34,
    "start_time": "2022-09-23T20:12:30.894Z"
   },
   {
    "duration": 15,
    "start_time": "2022-09-23T20:12:30.931Z"
   },
   {
    "duration": 10,
    "start_time": "2022-09-23T20:12:30.948Z"
   },
   {
    "duration": 11,
    "start_time": "2022-09-23T20:12:30.959Z"
   },
   {
    "duration": 5,
    "start_time": "2022-09-23T20:12:30.971Z"
   },
   {
    "duration": 28,
    "start_time": "2022-09-23T20:12:30.979Z"
   },
   {
    "duration": 916,
    "start_time": "2022-09-23T20:12:31.010Z"
   },
   {
    "duration": 21,
    "start_time": "2022-09-23T20:12:31.929Z"
   },
   {
    "duration": 10,
    "start_time": "2022-09-23T20:12:31.952Z"
   },
   {
    "duration": 19135,
    "start_time": "2022-09-23T20:12:31.964Z"
   },
   {
    "duration": 194,
    "start_time": "2022-09-23T20:12:51.101Z"
   },
   {
    "duration": 8,
    "start_time": "2022-09-23T20:12:51.298Z"
   },
   {
    "duration": 90,
    "start_time": "2022-09-23T20:12:51.308Z"
   },
   {
    "duration": 10,
    "start_time": "2022-09-23T20:12:51.400Z"
   },
   {
    "duration": 13,
    "start_time": "2022-09-23T20:12:51.416Z"
   },
   {
    "duration": 6,
    "start_time": "2022-09-23T20:12:51.432Z"
   },
   {
    "duration": 7,
    "start_time": "2022-09-23T20:12:51.440Z"
   },
   {
    "duration": 359246,
    "start_time": "2022-09-23T20:12:51.448Z"
   },
   {
    "duration": 501,
    "start_time": "2022-09-23T20:18:50.695Z"
   },
   {
    "duration": 5,
    "start_time": "2022-09-23T20:18:51.198Z"
   },
   {
    "duration": 4,
    "start_time": "2022-09-23T20:18:51.204Z"
   },
   {
    "duration": 5,
    "start_time": "2022-09-23T20:18:51.209Z"
   },
   {
    "duration": 55,
    "start_time": "2022-09-23T20:44:09.873Z"
   },
   {
    "duration": 1180,
    "start_time": "2022-09-23T20:44:26.125Z"
   },
   {
    "duration": 3337,
    "start_time": "2022-09-23T20:44:32.542Z"
   },
   {
    "duration": 3,
    "start_time": "2022-09-23T20:44:42.315Z"
   },
   {
    "duration": 117,
    "start_time": "2022-09-23T20:44:44.612Z"
   },
   {
    "duration": 722,
    "start_time": "2022-09-23T20:44:48.724Z"
   },
   {
    "duration": 75,
    "start_time": "2022-09-23T20:44:50.711Z"
   },
   {
    "duration": 74,
    "start_time": "2022-09-23T20:44:53.729Z"
   },
   {
    "duration": 106,
    "start_time": "2022-09-23T20:44:56.601Z"
   },
   {
    "duration": 13,
    "start_time": "2022-09-23T20:44:58.427Z"
   },
   {
    "duration": 79,
    "start_time": "2022-09-23T20:45:02.916Z"
   },
   {
    "duration": 19,
    "start_time": "2022-09-23T20:45:04.893Z"
   },
   {
    "duration": 561,
    "start_time": "2022-09-23T20:45:07.200Z"
   },
   {
    "duration": 5,
    "start_time": "2022-09-23T20:45:08.611Z"
   },
   {
    "duration": 7,
    "start_time": "2022-09-23T20:45:11.858Z"
   },
   {
    "duration": 40,
    "start_time": "2022-09-23T20:45:13.454Z"
   },
   {
    "duration": 4,
    "start_time": "2022-09-23T20:45:14.637Z"
   },
   {
    "duration": 38,
    "start_time": "2022-09-23T20:45:15.833Z"
   },
   {
    "duration": 5,
    "start_time": "2022-09-23T20:45:17.488Z"
   },
   {
    "duration": 19,
    "start_time": "2022-09-23T20:45:19.050Z"
   },
   {
    "duration": 4,
    "start_time": "2022-09-23T20:45:20.426Z"
   },
   {
    "duration": 5,
    "start_time": "2022-09-23T20:45:21.727Z"
   },
   {
    "duration": 18,
    "start_time": "2022-09-23T20:45:22.924Z"
   },
   {
    "duration": 4,
    "start_time": "2022-09-23T20:45:23.959Z"
   },
   {
    "duration": 14,
    "start_time": "2022-09-23T20:45:26.628Z"
   },
   {
    "duration": 221,
    "start_time": "2022-09-23T20:45:29.321Z"
   },
   {
    "duration": 81,
    "start_time": "2022-09-23T20:45:30.809Z"
   },
   {
    "duration": 10,
    "start_time": "2022-09-23T20:45:37.955Z"
   },
   {
    "duration": 923,
    "start_time": "2022-09-23T20:45:39.967Z"
   },
   {
    "duration": 13,
    "start_time": "2022-09-23T20:45:41.741Z"
   },
   {
    "duration": 1147,
    "start_time": "2022-09-24T08:06:39.617Z"
   },
   {
    "duration": 3233,
    "start_time": "2022-09-24T08:06:40.765Z"
   },
   {
    "duration": 3,
    "start_time": "2022-09-24T08:06:44.000Z"
   },
   {
    "duration": 90,
    "start_time": "2022-09-24T08:06:44.005Z"
   },
   {
    "duration": 696,
    "start_time": "2022-09-24T08:06:44.096Z"
   },
   {
    "duration": 75,
    "start_time": "2022-09-24T08:06:44.794Z"
   },
   {
    "duration": 105,
    "start_time": "2022-09-24T08:06:44.871Z"
   },
   {
    "duration": 20,
    "start_time": "2022-09-24T08:06:44.978Z"
   },
   {
    "duration": 98,
    "start_time": "2022-09-24T08:06:45.000Z"
   },
   {
    "duration": 16,
    "start_time": "2022-09-24T08:06:45.158Z"
   },
   {
    "duration": 501,
    "start_time": "2022-09-24T08:06:45.176Z"
   },
   {
    "duration": 4,
    "start_time": "2022-09-24T08:06:45.679Z"
   },
   {
    "duration": 6,
    "start_time": "2022-09-24T08:06:45.695Z"
   },
   {
    "duration": 42,
    "start_time": "2022-09-24T08:06:45.702Z"
   },
   {
    "duration": 5,
    "start_time": "2022-09-24T08:06:45.745Z"
   },
   {
    "duration": 53,
    "start_time": "2022-09-24T08:06:45.752Z"
   },
   {
    "duration": 5,
    "start_time": "2022-09-24T08:06:45.806Z"
   },
   {
    "duration": 19,
    "start_time": "2022-09-24T08:06:45.812Z"
   },
   {
    "duration": 4,
    "start_time": "2022-09-24T08:06:45.832Z"
   },
   {
    "duration": 7,
    "start_time": "2022-09-24T08:06:45.838Z"
   },
   {
    "duration": 19,
    "start_time": "2022-09-24T08:06:45.847Z"
   },
   {
    "duration": 28,
    "start_time": "2022-09-24T08:06:45.868Z"
   },
   {
    "duration": 17,
    "start_time": "2022-09-24T08:06:45.898Z"
   },
   {
    "duration": 229,
    "start_time": "2022-09-24T08:06:45.917Z"
   },
   {
    "duration": 19,
    "start_time": "2022-09-24T08:06:46.148Z"
   },
   {
    "duration": 2,
    "start_time": "2022-09-24T08:06:46.168Z"
   },
   {
    "duration": 5,
    "start_time": "2022-09-24T08:06:46.172Z"
   },
   {
    "duration": 3,
    "start_time": "2022-09-24T08:06:46.194Z"
   },
   {
    "duration": 6,
    "start_time": "2022-09-24T08:06:46.199Z"
   },
   {
    "duration": 9,
    "start_time": "2022-09-24T08:06:46.207Z"
   },
   {
    "duration": 4,
    "start_time": "2022-09-24T08:06:46.217Z"
   },
   {
    "duration": 14,
    "start_time": "2022-09-24T08:06:46.223Z"
   },
   {
    "duration": 887,
    "start_time": "2022-09-24T08:06:46.238Z"
   },
   {
    "duration": 13,
    "start_time": "2022-09-24T08:06:47.127Z"
   },
   {
    "duration": 9,
    "start_time": "2022-09-24T08:06:47.141Z"
   },
   {
    "duration": 14049,
    "start_time": "2022-09-24T08:06:47.152Z"
   },
   {
    "duration": 196,
    "start_time": "2022-09-24T08:07:01.203Z"
   },
   {
    "duration": 95,
    "start_time": "2022-09-24T08:07:01.401Z"
   },
   {
    "duration": 6,
    "start_time": "2022-09-24T08:07:01.498Z"
   },
   {
    "duration": 90,
    "start_time": "2022-09-24T08:07:01.505Z"
   },
   {
    "duration": 6,
    "start_time": "2022-09-24T08:07:01.597Z"
   },
   {
    "duration": 8,
    "start_time": "2022-09-24T08:07:01.605Z"
   },
   {
    "duration": 10,
    "start_time": "2022-09-24T08:07:01.615Z"
   },
   {
    "duration": 3681,
    "start_time": "2022-09-24T08:07:01.627Z"
   },
   {
    "duration": 503,
    "start_time": "2022-09-24T08:07:05.310Z"
   },
   {
    "duration": 4,
    "start_time": "2022-09-24T08:07:05.814Z"
   },
   {
    "duration": 8,
    "start_time": "2022-09-24T08:07:05.820Z"
   },
   {
    "duration": 7,
    "start_time": "2022-09-24T08:07:05.829Z"
   },
   {
    "duration": 1186,
    "start_time": "2022-09-24T08:10:13.441Z"
   },
   {
    "duration": 1069,
    "start_time": "2022-09-24T08:10:14.629Z"
   },
   {
    "duration": 3,
    "start_time": "2022-09-24T08:10:15.700Z"
   },
   {
    "duration": 110,
    "start_time": "2022-09-24T08:10:15.705Z"
   },
   {
    "duration": 741,
    "start_time": "2022-09-24T08:10:15.817Z"
   },
   {
    "duration": 98,
    "start_time": "2022-09-24T08:10:16.561Z"
   },
   {
    "duration": 104,
    "start_time": "2022-09-24T08:10:16.661Z"
   },
   {
    "duration": 30,
    "start_time": "2022-09-24T08:10:16.767Z"
   },
   {
    "duration": 99,
    "start_time": "2022-09-24T08:10:16.799Z"
   },
   {
    "duration": 18,
    "start_time": "2022-09-24T08:10:16.964Z"
   },
   {
    "duration": 548,
    "start_time": "2022-09-24T08:10:16.996Z"
   },
   {
    "duration": 4,
    "start_time": "2022-09-24T08:10:17.546Z"
   },
   {
    "duration": 11,
    "start_time": "2022-09-24T08:10:17.552Z"
   },
   {
    "duration": 56,
    "start_time": "2022-09-24T08:10:17.564Z"
   },
   {
    "duration": 4,
    "start_time": "2022-09-24T08:10:17.622Z"
   },
   {
    "duration": 43,
    "start_time": "2022-09-24T08:10:17.628Z"
   },
   {
    "duration": 4,
    "start_time": "2022-09-24T08:10:17.673Z"
   },
   {
    "duration": 34,
    "start_time": "2022-09-24T08:10:17.679Z"
   },
   {
    "duration": 4,
    "start_time": "2022-09-24T08:10:17.715Z"
   },
   {
    "duration": 12,
    "start_time": "2022-09-24T08:10:17.721Z"
   },
   {
    "duration": 22,
    "start_time": "2022-09-24T08:10:17.735Z"
   },
   {
    "duration": 4,
    "start_time": "2022-09-24T08:10:17.759Z"
   },
   {
    "duration": 32,
    "start_time": "2022-09-24T08:10:17.764Z"
   },
   {
    "duration": 205,
    "start_time": "2022-09-24T08:10:17.798Z"
   },
   {
    "duration": 20,
    "start_time": "2022-09-24T08:10:18.005Z"
   },
   {
    "duration": 10,
    "start_time": "2022-09-24T08:10:18.027Z"
   },
   {
    "duration": 6,
    "start_time": "2022-09-24T08:10:18.039Z"
   },
   {
    "duration": 3,
    "start_time": "2022-09-24T08:10:18.048Z"
   },
   {
    "duration": 12,
    "start_time": "2022-09-24T08:10:18.052Z"
   },
   {
    "duration": 5,
    "start_time": "2022-09-24T08:10:18.066Z"
   },
   {
    "duration": 6,
    "start_time": "2022-09-24T08:10:18.073Z"
   },
   {
    "duration": 30,
    "start_time": "2022-09-24T08:10:18.081Z"
   },
   {
    "duration": 844,
    "start_time": "2022-09-24T08:10:18.112Z"
   },
   {
    "duration": 13,
    "start_time": "2022-09-24T08:10:18.958Z"
   },
   {
    "duration": 6,
    "start_time": "2022-09-24T08:10:18.973Z"
   },
   {
    "duration": 12516,
    "start_time": "2022-09-24T08:10:18.981Z"
   },
   {
    "duration": 115,
    "start_time": "2022-09-24T08:10:31.499Z"
   },
   {
    "duration": 83,
    "start_time": "2022-09-24T08:10:31.616Z"
   },
   {
    "duration": 99,
    "start_time": "2022-09-24T08:10:31.701Z"
   },
   {
    "duration": 6,
    "start_time": "2022-09-24T08:10:31.802Z"
   },
   {
    "duration": 6,
    "start_time": "2022-09-24T08:10:31.810Z"
   },
   {
    "duration": 20,
    "start_time": "2022-09-24T08:10:31.818Z"
   },
   {
    "duration": 14,
    "start_time": "2022-09-24T08:10:31.840Z"
   },
   {
    "duration": 4354,
    "start_time": "2022-09-24T08:10:31.856Z"
   },
   {
    "duration": 499,
    "start_time": "2022-09-24T08:10:36.212Z"
   },
   {
    "duration": 4,
    "start_time": "2022-09-24T08:10:36.713Z"
   },
   {
    "duration": 86,
    "start_time": "2022-09-24T08:10:36.719Z"
   },
   {
    "duration": 1137,
    "start_time": "2022-09-24T08:11:24.336Z"
   },
   {
    "duration": 1059,
    "start_time": "2022-09-24T08:11:25.474Z"
   },
   {
    "duration": 5,
    "start_time": "2022-09-24T08:11:26.536Z"
   },
   {
    "duration": 111,
    "start_time": "2022-09-24T08:11:26.544Z"
   },
   {
    "duration": 685,
    "start_time": "2022-09-24T08:11:26.657Z"
   },
   {
    "duration": 78,
    "start_time": "2022-09-24T08:11:27.343Z"
   },
   {
    "duration": 96,
    "start_time": "2022-09-24T08:11:27.423Z"
   },
   {
    "duration": 13,
    "start_time": "2022-09-24T08:11:27.520Z"
   },
   {
    "duration": 89,
    "start_time": "2022-09-24T08:11:27.535Z"
   },
   {
    "duration": 23,
    "start_time": "2022-09-24T08:11:27.683Z"
   },
   {
    "duration": 521,
    "start_time": "2022-09-24T08:11:27.707Z"
   },
   {
    "duration": 4,
    "start_time": "2022-09-24T08:11:28.230Z"
   },
   {
    "duration": 8,
    "start_time": "2022-09-24T08:11:28.235Z"
   },
   {
    "duration": 57,
    "start_time": "2022-09-24T08:11:28.244Z"
   },
   {
    "duration": 5,
    "start_time": "2022-09-24T08:11:28.303Z"
   },
   {
    "duration": 40,
    "start_time": "2022-09-24T08:11:28.309Z"
   },
   {
    "duration": 5,
    "start_time": "2022-09-24T08:11:28.351Z"
   },
   {
    "duration": 20,
    "start_time": "2022-09-24T08:11:28.357Z"
   },
   {
    "duration": 5,
    "start_time": "2022-09-24T08:11:28.394Z"
   },
   {
    "duration": 8,
    "start_time": "2022-09-24T08:11:28.401Z"
   },
   {
    "duration": 21,
    "start_time": "2022-09-24T08:11:28.411Z"
   },
   {
    "duration": 4,
    "start_time": "2022-09-24T08:11:28.434Z"
   },
   {
    "duration": 20,
    "start_time": "2022-09-24T08:11:28.440Z"
   },
   {
    "duration": 236,
    "start_time": "2022-09-24T08:11:28.461Z"
   },
   {
    "duration": 18,
    "start_time": "2022-09-24T08:11:28.699Z"
   },
   {
    "duration": 9,
    "start_time": "2022-09-24T08:11:28.719Z"
   },
   {
    "duration": 5,
    "start_time": "2022-09-24T08:11:28.730Z"
   },
   {
    "duration": 4,
    "start_time": "2022-09-24T08:11:28.739Z"
   },
   {
    "duration": 4,
    "start_time": "2022-09-24T08:11:28.744Z"
   },
   {
    "duration": 4,
    "start_time": "2022-09-24T08:11:28.750Z"
   },
   {
    "duration": 5,
    "start_time": "2022-09-24T08:11:28.756Z"
   },
   {
    "duration": 36,
    "start_time": "2022-09-24T08:11:28.763Z"
   },
   {
    "duration": 817,
    "start_time": "2022-09-24T08:11:28.800Z"
   },
   {
    "duration": 12,
    "start_time": "2022-09-24T08:11:29.619Z"
   },
   {
    "duration": 5,
    "start_time": "2022-09-24T08:11:29.633Z"
   },
   {
    "duration": 13156,
    "start_time": "2022-09-24T08:11:29.639Z"
   },
   {
    "duration": 200,
    "start_time": "2022-09-24T08:11:42.797Z"
   },
   {
    "duration": 5,
    "start_time": "2022-09-24T08:11:42.998Z"
   },
   {
    "duration": 96,
    "start_time": "2022-09-24T08:11:43.005Z"
   },
   {
    "duration": 5,
    "start_time": "2022-09-24T08:11:43.103Z"
   },
   {
    "duration": 6,
    "start_time": "2022-09-24T08:11:43.109Z"
   },
   {
    "duration": 6,
    "start_time": "2022-09-24T08:11:43.117Z"
   },
   {
    "duration": 4,
    "start_time": "2022-09-24T08:11:43.125Z"
   },
   {
    "duration": 3781,
    "start_time": "2022-09-24T08:11:43.131Z"
   },
   {
    "duration": 501,
    "start_time": "2022-09-24T08:11:46.914Z"
   },
   {
    "duration": 4,
    "start_time": "2022-09-24T08:11:47.417Z"
   },
   {
    "duration": 2,
    "start_time": "2022-09-24T08:11:47.495Z"
   },
   {
    "duration": 114,
    "start_time": "2022-09-24T08:11:47.499Z"
   },
   {
    "duration": 0,
    "start_time": "2022-09-24T08:11:47.615Z"
   },
   {
    "duration": 0,
    "start_time": "2022-09-24T08:11:47.616Z"
   },
   {
    "duration": 0,
    "start_time": "2022-09-24T08:11:47.617Z"
   },
   {
    "duration": 0,
    "start_time": "2022-09-24T08:11:47.618Z"
   },
   {
    "duration": 0,
    "start_time": "2022-09-24T08:11:47.619Z"
   },
   {
    "duration": 0,
    "start_time": "2022-09-24T08:11:47.621Z"
   },
   {
    "duration": 0,
    "start_time": "2022-09-24T08:11:47.621Z"
   },
   {
    "duration": 2,
    "start_time": "2022-09-24T08:12:20.366Z"
   },
   {
    "duration": 1143,
    "start_time": "2022-09-24T08:25:21.948Z"
   },
   {
    "duration": 3204,
    "start_time": "2022-09-24T08:25:23.093Z"
   },
   {
    "duration": 3,
    "start_time": "2022-09-24T08:25:26.299Z"
   },
   {
    "duration": 94,
    "start_time": "2022-09-24T08:25:26.303Z"
   },
   {
    "duration": 724,
    "start_time": "2022-09-24T08:25:26.400Z"
   },
   {
    "duration": 77,
    "start_time": "2022-09-24T08:25:27.126Z"
   },
   {
    "duration": 99,
    "start_time": "2022-09-24T08:25:27.205Z"
   },
   {
    "duration": 15,
    "start_time": "2022-09-24T08:25:27.307Z"
   },
   {
    "duration": 172,
    "start_time": "2022-09-24T08:25:27.323Z"
   },
   {
    "duration": 16,
    "start_time": "2022-09-24T08:25:27.496Z"
   },
   {
    "duration": 520,
    "start_time": "2022-09-24T08:25:27.513Z"
   },
   {
    "duration": 4,
    "start_time": "2022-09-24T08:25:28.035Z"
   },
   {
    "duration": 7,
    "start_time": "2022-09-24T08:25:28.041Z"
   },
   {
    "duration": 52,
    "start_time": "2022-09-24T08:25:28.050Z"
   },
   {
    "duration": 5,
    "start_time": "2022-09-24T08:25:28.104Z"
   },
   {
    "duration": 39,
    "start_time": "2022-09-24T08:25:28.110Z"
   },
   {
    "duration": 5,
    "start_time": "2022-09-24T08:25:28.151Z"
   },
   {
    "duration": 37,
    "start_time": "2022-09-24T08:25:28.158Z"
   },
   {
    "duration": 5,
    "start_time": "2022-09-24T08:25:28.197Z"
   },
   {
    "duration": 7,
    "start_time": "2022-09-24T08:25:28.204Z"
   },
   {
    "duration": 18,
    "start_time": "2022-09-24T08:25:28.213Z"
   },
   {
    "duration": 4,
    "start_time": "2022-09-24T08:25:28.233Z"
   },
   {
    "duration": 15,
    "start_time": "2022-09-24T08:25:28.239Z"
   },
   {
    "duration": 228,
    "start_time": "2022-09-24T08:25:28.256Z"
   },
   {
    "duration": 22,
    "start_time": "2022-09-24T08:25:28.485Z"
   },
   {
    "duration": 2,
    "start_time": "2022-09-24T08:25:28.509Z"
   },
   {
    "duration": 5,
    "start_time": "2022-09-24T08:25:28.513Z"
   },
   {
    "duration": 4,
    "start_time": "2022-09-24T08:25:28.520Z"
   },
   {
    "duration": 4,
    "start_time": "2022-09-24T08:25:28.526Z"
   },
   {
    "duration": 4,
    "start_time": "2022-09-24T08:25:28.532Z"
   },
   {
    "duration": 5,
    "start_time": "2022-09-24T08:25:28.537Z"
   },
   {
    "duration": 12,
    "start_time": "2022-09-24T08:25:28.543Z"
   },
   {
    "duration": 806,
    "start_time": "2022-09-24T08:25:28.557Z"
   },
   {
    "duration": 12,
    "start_time": "2022-09-24T08:25:29.364Z"
   },
   {
    "duration": 4,
    "start_time": "2022-09-24T08:25:29.378Z"
   },
   {
    "duration": 1218,
    "start_time": "2022-09-24T08:25:37.994Z"
   },
   {
    "duration": 1047,
    "start_time": "2022-09-24T08:25:39.214Z"
   },
   {
    "duration": 3,
    "start_time": "2022-09-24T08:25:40.263Z"
   },
   {
    "duration": 103,
    "start_time": "2022-09-24T08:25:40.268Z"
   },
   {
    "duration": 694,
    "start_time": "2022-09-24T08:25:40.373Z"
   },
   {
    "duration": 80,
    "start_time": "2022-09-24T08:25:41.069Z"
   },
   {
    "duration": 92,
    "start_time": "2022-09-24T08:25:41.151Z"
   },
   {
    "duration": 13,
    "start_time": "2022-09-24T08:25:41.246Z"
   },
   {
    "duration": 101,
    "start_time": "2022-09-24T08:25:41.261Z"
   },
   {
    "duration": 20,
    "start_time": "2022-09-24T08:25:41.433Z"
   },
   {
    "duration": 540,
    "start_time": "2022-09-24T08:25:41.455Z"
   },
   {
    "duration": 4,
    "start_time": "2022-09-24T08:25:41.997Z"
   },
   {
    "duration": 6,
    "start_time": "2022-09-24T08:25:42.002Z"
   },
   {
    "duration": 42,
    "start_time": "2022-09-24T08:25:42.010Z"
   },
   {
    "duration": 5,
    "start_time": "2022-09-24T08:25:42.053Z"
   },
   {
    "duration": 55,
    "start_time": "2022-09-24T08:25:42.060Z"
   },
   {
    "duration": 5,
    "start_time": "2022-09-24T08:25:42.116Z"
   },
   {
    "duration": 21,
    "start_time": "2022-09-24T08:25:42.122Z"
   },
   {
    "duration": 4,
    "start_time": "2022-09-24T08:25:42.145Z"
   },
   {
    "duration": 8,
    "start_time": "2022-09-24T08:25:42.150Z"
   },
   {
    "duration": 39,
    "start_time": "2022-09-24T08:25:42.160Z"
   },
   {
    "duration": 4,
    "start_time": "2022-09-24T08:25:42.201Z"
   },
   {
    "duration": 19,
    "start_time": "2022-09-24T08:25:42.207Z"
   },
   {
    "duration": 214,
    "start_time": "2022-09-24T08:25:42.228Z"
   },
   {
    "duration": 18,
    "start_time": "2022-09-24T08:25:42.444Z"
   },
   {
    "duration": 2,
    "start_time": "2022-09-24T08:25:42.465Z"
   },
   {
    "duration": 7,
    "start_time": "2022-09-24T08:25:42.469Z"
   },
   {
    "duration": 2,
    "start_time": "2022-09-24T08:25:42.498Z"
   },
   {
    "duration": 5,
    "start_time": "2022-09-24T08:25:42.501Z"
   },
   {
    "duration": 4,
    "start_time": "2022-09-24T08:25:42.508Z"
   },
   {
    "duration": 6,
    "start_time": "2022-09-24T08:25:42.514Z"
   },
   {
    "duration": 12,
    "start_time": "2022-09-24T08:25:42.522Z"
   },
   {
    "duration": 805,
    "start_time": "2022-09-24T08:25:42.535Z"
   },
   {
    "duration": 12,
    "start_time": "2022-09-24T08:25:43.341Z"
   },
   {
    "duration": 5,
    "start_time": "2022-09-24T08:25:43.354Z"
   },
   {
    "duration": 12736,
    "start_time": "2022-09-24T08:25:43.360Z"
   },
   {
    "duration": 122,
    "start_time": "2022-09-24T08:25:56.098Z"
   },
   {
    "duration": 77,
    "start_time": "2022-09-24T08:25:56.221Z"
   },
   {
    "duration": 103,
    "start_time": "2022-09-24T08:25:56.300Z"
   },
   {
    "duration": 5,
    "start_time": "2022-09-24T08:25:56.405Z"
   },
   {
    "duration": 7,
    "start_time": "2022-09-24T08:25:56.413Z"
   },
   {
    "duration": 13,
    "start_time": "2022-09-24T08:25:56.422Z"
   },
   {
    "duration": 7,
    "start_time": "2022-09-24T08:25:56.438Z"
   },
   {
    "duration": 6656,
    "start_time": "2022-09-24T08:25:56.446Z"
   },
   {
    "duration": 406,
    "start_time": "2022-09-24T08:26:03.104Z"
   },
   {
    "duration": 4,
    "start_time": "2022-09-24T08:26:03.511Z"
   },
   {
    "duration": 2,
    "start_time": "2022-09-24T08:26:03.596Z"
   },
   {
    "duration": 106,
    "start_time": "2022-09-24T08:26:03.600Z"
   },
   {
    "duration": 0,
    "start_time": "2022-09-24T08:26:03.707Z"
   },
   {
    "duration": 0,
    "start_time": "2022-09-24T08:26:03.709Z"
   },
   {
    "duration": 0,
    "start_time": "2022-09-24T08:26:03.709Z"
   },
   {
    "duration": 0,
    "start_time": "2022-09-24T08:26:03.710Z"
   },
   {
    "duration": 1,
    "start_time": "2022-09-24T08:26:03.711Z"
   },
   {
    "duration": 0,
    "start_time": "2022-09-24T08:26:03.712Z"
   },
   {
    "duration": 0,
    "start_time": "2022-09-24T08:26:03.713Z"
   },
   {
    "duration": 2,
    "start_time": "2022-09-24T08:30:31.918Z"
   },
   {
    "duration": 404418,
    "start_time": "2022-09-24T08:30:34.172Z"
   },
   {
    "duration": 0,
    "start_time": "2022-09-24T08:40:49.703Z"
   },
   {
    "duration": 11,
    "start_time": "2022-09-24T08:41:05.003Z"
   },
   {
    "duration": 163440,
    "start_time": "2022-09-24T08:41:16.531Z"
   },
   {
    "duration": 4,
    "start_time": "2022-09-24T08:44:42.093Z"
   },
   {
    "duration": 105,
    "start_time": "2022-09-24T08:45:38.011Z"
   },
   {
    "duration": 3498,
    "start_time": "2022-09-24T08:45:45.383Z"
   },
   {
    "duration": 40170,
    "start_time": "2022-09-24T08:45:52.102Z"
   },
   {
    "duration": 5,
    "start_time": "2022-09-24T08:46:32.275Z"
   },
   {
    "duration": 4,
    "start_time": "2022-09-24T08:46:48.620Z"
   },
   {
    "duration": 75,
    "start_time": "2022-09-24T08:53:19.185Z"
   },
   {
    "duration": 79,
    "start_time": "2022-09-24T08:56:25.097Z"
   },
   {
    "duration": 1340,
    "start_time": "2022-09-24T09:03:43.352Z"
   },
   {
    "duration": 1252,
    "start_time": "2022-09-24T09:03:44.695Z"
   },
   {
    "duration": 5,
    "start_time": "2022-09-24T09:03:45.949Z"
   },
   {
    "duration": 127,
    "start_time": "2022-09-24T09:03:45.957Z"
   },
   {
    "duration": 842,
    "start_time": "2022-09-24T09:03:46.085Z"
   },
   {
    "duration": 106,
    "start_time": "2022-09-24T09:03:46.933Z"
   },
   {
    "duration": 126,
    "start_time": "2022-09-24T09:03:47.041Z"
   },
   {
    "duration": 28,
    "start_time": "2022-09-24T09:03:47.168Z"
   },
   {
    "duration": 104,
    "start_time": "2022-09-24T09:03:47.202Z"
   },
   {
    "duration": 17,
    "start_time": "2022-09-24T09:03:47.375Z"
   },
   {
    "duration": 569,
    "start_time": "2022-09-24T09:03:47.394Z"
   },
   {
    "duration": 4,
    "start_time": "2022-09-24T09:03:47.965Z"
   },
   {
    "duration": 7,
    "start_time": "2022-09-24T09:03:47.971Z"
   },
   {
    "duration": 60,
    "start_time": "2022-09-24T09:03:47.980Z"
   },
   {
    "duration": 8,
    "start_time": "2022-09-24T09:03:48.042Z"
   },
   {
    "duration": 58,
    "start_time": "2022-09-24T09:03:48.052Z"
   },
   {
    "duration": 10,
    "start_time": "2022-09-24T09:03:48.115Z"
   },
   {
    "duration": 27,
    "start_time": "2022-09-24T09:03:48.126Z"
   },
   {
    "duration": 6,
    "start_time": "2022-09-24T09:03:48.155Z"
   },
   {
    "duration": 8,
    "start_time": "2022-09-24T09:03:48.163Z"
   },
   {
    "duration": 31,
    "start_time": "2022-09-24T09:03:48.172Z"
   },
   {
    "duration": 9,
    "start_time": "2022-09-24T09:03:48.205Z"
   },
   {
    "duration": 25,
    "start_time": "2022-09-24T09:03:48.219Z"
   },
   {
    "duration": 226,
    "start_time": "2022-09-24T09:03:48.245Z"
   },
   {
    "duration": 46,
    "start_time": "2022-09-24T09:03:48.473Z"
   },
   {
    "duration": 6,
    "start_time": "2022-09-24T09:03:48.522Z"
   },
   {
    "duration": 5,
    "start_time": "2022-09-24T09:03:48.530Z"
   },
   {
    "duration": 3,
    "start_time": "2022-09-24T09:03:48.540Z"
   },
   {
    "duration": 5,
    "start_time": "2022-09-24T09:03:48.545Z"
   },
   {
    "duration": 5,
    "start_time": "2022-09-24T09:03:48.552Z"
   },
   {
    "duration": 8,
    "start_time": "2022-09-24T09:03:48.559Z"
   },
   {
    "duration": 40,
    "start_time": "2022-09-24T09:03:48.569Z"
   },
   {
    "duration": 1000,
    "start_time": "2022-09-24T09:03:48.611Z"
   },
   {
    "duration": 25,
    "start_time": "2022-09-24T09:03:49.617Z"
   },
   {
    "duration": 7,
    "start_time": "2022-09-24T09:03:49.644Z"
   },
   {
    "duration": 54379,
    "start_time": "2022-09-24T09:03:49.652Z"
   },
   {
    "duration": 174,
    "start_time": "2022-09-24T09:04:44.033Z"
   },
   {
    "duration": 10,
    "start_time": "2022-09-24T09:04:44.209Z"
   },
   {
    "duration": 108,
    "start_time": "2022-09-24T09:04:44.221Z"
   },
   {
    "duration": 9,
    "start_time": "2022-09-24T09:04:44.331Z"
   },
   {
    "duration": 8,
    "start_time": "2022-09-24T09:04:44.342Z"
   },
   {
    "duration": 7,
    "start_time": "2022-09-24T09:04:44.351Z"
   },
   {
    "duration": 6,
    "start_time": "2022-09-24T09:04:44.360Z"
   }
  ],
  "kernelspec": {
   "display_name": "Python 3 (ipykernel)",
   "language": "python",
   "name": "python3"
  },
  "language_info": {
   "codemirror_mode": {
    "name": "ipython",
    "version": 3
   },
   "file_extension": ".py",
   "mimetype": "text/x-python",
   "name": "python",
   "nbconvert_exporter": "python",
   "pygments_lexer": "ipython3",
   "version": "3.11.5"
  },
  "toc": {
   "base_numbering": 1,
   "nav_menu": {},
   "number_sections": true,
   "sideBar": true,
   "skip_h1_title": true,
   "title_cell": "Table of Contents",
   "title_sidebar": "Contents",
   "toc_cell": false,
   "toc_position": {},
   "toc_section_display": true,
   "toc_window_display": false
  }
 },
 "nbformat": 4,
 "nbformat_minor": 2
}
