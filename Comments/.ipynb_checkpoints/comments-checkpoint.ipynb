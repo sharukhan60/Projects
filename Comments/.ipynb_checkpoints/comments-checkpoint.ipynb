{
 "cells": [
  {
   "cell_type": "markdown",
   "metadata": {
    "toc": true
   },
   "source": [
    "<h1>Содержание<span class=\"tocSkip\"></span></h1>\n",
    "<div class=\"toc\"><ul class=\"toc-item\"><li><span><a href=\"#Подготовка\" data-toc-modified-id=\"Подготовка-1\"><span class=\"toc-item-num\">1&nbsp;&nbsp;</span>Подготовка</a></span></li><li><span><a href=\"#Обучение\" data-toc-modified-id=\"Обучение-2\"><span class=\"toc-item-num\">2&nbsp;&nbsp;</span>Обучение</a></span></li><li><span><a href=\"#Выводы\" data-toc-modified-id=\"Выводы-3\"><span class=\"toc-item-num\">3&nbsp;&nbsp;</span>Выводы</a></span></li><li><span><a href=\"#Чек-лист-проверки\" data-toc-modified-id=\"Чек-лист-проверки-4\"><span class=\"toc-item-num\">4&nbsp;&nbsp;</span>Чек-лист проверки</a></span></li></ul></div>"
   ]
  },
  {
   "cell_type": "markdown",
   "metadata": {},
   "source": [
    "# Тональность текста"
   ]
  },
  {
   "cell_type": "markdown",
   "metadata": {},
   "source": [
    "Задача - Обучить модель классифицировать комментарии на позитивные и негативные. В  распоряжении набор данных с разметкой о токсичности правок.\n",
    "\n",
    "**Описание данных**\n",
    "\n",
    "Данные находятся в файле `toxic_comments.csv`. Столбец *text* в нём содержит текст комментария, а *toxic* — целевой признак."
   ]
  },
  {
   "cell_type": "markdown",
   "metadata": {},
   "source": [
    "## Подготовка"
   ]
  },
  {
   "cell_type": "markdown",
   "metadata": {},
   "source": [
    "Для начала необходимо импортировать библиотеки."
   ]
  },
  {
   "cell_type": "code",
   "execution_count": 15,
   "metadata": {},
   "outputs": [],
   "source": [
    "import pandas as pd \n",
    "import numpy as np\n",
    "import os \n",
    "import re \n",
    "import nltk\n",
    "from nltk.corpus import stopwords as nltk_stopwords\n",
    "from sklearn.feature_extraction.text import TfidfVectorizer\n",
    "from nltk.stem import WordNetLemmatizer\n",
    "from sklearn.model_selection import train_test_split\n",
    "from sklearn.model_selection import cross_val_score\n",
    "from sklearn.model_selection import GridSearchCV \n",
    "from sklearn.metrics import f1_score, precision_recall_curve\n",
    "from  sklearn.linear_model import LogisticRegression\n",
    "from sklearn.tree import DecisionTreeClassifier\n",
    "from sklearn.ensemble import RandomForestClassifier\n",
    "\n",
    "import matplotlib.pyplot as plt"
   ]
  },
  {
   "cell_type": "markdown",
   "metadata": {},
   "source": [
    "Далее выгрузим данные и рассотрим их, найдем выбросы."
   ]
  },
  {
   "cell_type": "code",
   "execution_count": 2,
   "metadata": {},
   "outputs": [
    {
     "data": {
      "text/html": [
       "<div>\n",
       "<style scoped>\n",
       "    .dataframe tbody tr th:only-of-type {\n",
       "        vertical-align: middle;\n",
       "    }\n",
       "\n",
       "    .dataframe tbody tr th {\n",
       "        vertical-align: top;\n",
       "    }\n",
       "\n",
       "    .dataframe thead th {\n",
       "        text-align: right;\n",
       "    }\n",
       "</style>\n",
       "<table border=\"1\" class=\"dataframe\">\n",
       "  <thead>\n",
       "    <tr style=\"text-align: right;\">\n",
       "      <th></th>\n",
       "      <th>Unnamed: 0</th>\n",
       "      <th>text</th>\n",
       "      <th>toxic</th>\n",
       "    </tr>\n",
       "  </thead>\n",
       "  <tbody>\n",
       "    <tr>\n",
       "      <th>0</th>\n",
       "      <td>0</td>\n",
       "      <td>Explanation\\nWhy the edits made under my usern...</td>\n",
       "      <td>0</td>\n",
       "    </tr>\n",
       "    <tr>\n",
       "      <th>1</th>\n",
       "      <td>1</td>\n",
       "      <td>D'aww! He matches this background colour I'm s...</td>\n",
       "      <td>0</td>\n",
       "    </tr>\n",
       "    <tr>\n",
       "      <th>2</th>\n",
       "      <td>2</td>\n",
       "      <td>Hey man, I'm really not trying to edit war. It...</td>\n",
       "      <td>0</td>\n",
       "    </tr>\n",
       "    <tr>\n",
       "      <th>3</th>\n",
       "      <td>3</td>\n",
       "      <td>\"\\nMore\\nI can't make any real suggestions on ...</td>\n",
       "      <td>0</td>\n",
       "    </tr>\n",
       "    <tr>\n",
       "      <th>4</th>\n",
       "      <td>4</td>\n",
       "      <td>You, sir, are my hero. Any chance you remember...</td>\n",
       "      <td>0</td>\n",
       "    </tr>\n",
       "    <tr>\n",
       "      <th>...</th>\n",
       "      <td>...</td>\n",
       "      <td>...</td>\n",
       "      <td>...</td>\n",
       "    </tr>\n",
       "    <tr>\n",
       "      <th>159287</th>\n",
       "      <td>159446</td>\n",
       "      <td>\":::::And for the second time of asking, when ...</td>\n",
       "      <td>0</td>\n",
       "    </tr>\n",
       "    <tr>\n",
       "      <th>159288</th>\n",
       "      <td>159447</td>\n",
       "      <td>You should be ashamed of yourself \\n\\nThat is ...</td>\n",
       "      <td>0</td>\n",
       "    </tr>\n",
       "    <tr>\n",
       "      <th>159289</th>\n",
       "      <td>159448</td>\n",
       "      <td>Spitzer \\n\\nUmm, theres no actual article for ...</td>\n",
       "      <td>0</td>\n",
       "    </tr>\n",
       "    <tr>\n",
       "      <th>159290</th>\n",
       "      <td>159449</td>\n",
       "      <td>And it looks like it was actually you who put ...</td>\n",
       "      <td>0</td>\n",
       "    </tr>\n",
       "    <tr>\n",
       "      <th>159291</th>\n",
       "      <td>159450</td>\n",
       "      <td>\"\\nAnd ... I really don't think you understand...</td>\n",
       "      <td>0</td>\n",
       "    </tr>\n",
       "  </tbody>\n",
       "</table>\n",
       "<p>159292 rows × 3 columns</p>\n",
       "</div>"
      ],
      "text/plain": [
       "        Unnamed: 0                                               text  toxic\n",
       "0                0  Explanation\\nWhy the edits made under my usern...      0\n",
       "1                1  D'aww! He matches this background colour I'm s...      0\n",
       "2                2  Hey man, I'm really not trying to edit war. It...      0\n",
       "3                3  \"\\nMore\\nI can't make any real suggestions on ...      0\n",
       "4                4  You, sir, are my hero. Any chance you remember...      0\n",
       "...            ...                                                ...    ...\n",
       "159287      159446  \":::::And for the second time of asking, when ...      0\n",
       "159288      159447  You should be ashamed of yourself \\n\\nThat is ...      0\n",
       "159289      159448  Spitzer \\n\\nUmm, theres no actual article for ...      0\n",
       "159290      159449  And it looks like it was actually you who put ...      0\n",
       "159291      159450  \"\\nAnd ... I really don't think you understand...      0\n",
       "\n",
       "[159292 rows x 3 columns]"
      ]
     },
     "metadata": {},
     "output_type": "display_data"
    },
    {
     "name": "stdout",
     "output_type": "stream",
     "text": [
      "\n",
      "<class 'pandas.core.frame.DataFrame'>\n",
      "RangeIndex: 159292 entries, 0 to 159291\n",
      "Data columns (total 3 columns):\n",
      " #   Column      Non-Null Count   Dtype \n",
      "---  ------      --------------   ----- \n",
      " 0   Unnamed: 0  159292 non-null  int64 \n",
      " 1   text        159292 non-null  object\n",
      " 2   toxic       159292 non-null  int64 \n",
      "dtypes: int64(2), object(1)\n",
      "memory usage: 3.6+ MB\n",
      "None\n",
      "\n",
      "(159292, 3)\n",
      "\n",
      "Unnamed: 0    0\n",
      "text          0\n",
      "toxic         0\n",
      "dtype: int64\n",
      "\n",
      "0\n"
     ]
    }
   ],
   "source": [
    "data = pd.read_csv('toxic_comments.csv')\n",
    "display(data)\n",
    "print()\n",
    "print(data.info())\n",
    "print()\n",
    "print(data.shape)\n",
    "print()\n",
    "print(data.isna().sum())\n",
    "print()\n",
    "print(data.duplicated().sum())"
   ]
  },
  {
   "cell_type": "markdown",
   "metadata": {},
   "source": [
    "Как мы можем заметить, в нашем Датафрейме отсутствуют пропуски, нет дубликатов а значит мы можем переходить к преобразованию данных."
   ]
  },
  {
   "cell_type": "markdown",
   "metadata": {},
   "source": [
    "Нам нужно создать столбец, в котором наши сообщениябудут очищены и лемматизированы."
   ]
  },
  {
   "cell_type": "code",
   "execution_count": 3,
   "metadata": {},
   "outputs": [],
   "source": [
    "# Напишем функцию для очищения текста\n",
    "def clear_text(text):\n",
    "     return re.sub(r'[^A-Za-z ]', ' ', str(text))"
   ]
  },
  {
   "cell_type": "code",
   "execution_count": 4,
   "metadata": {},
   "outputs": [],
   "source": [
    "features_downsampled = data['text'].str.lower()"
   ]
  },
  {
   "cell_type": "markdown",
   "metadata": {},
   "source": [
    "Токенизируем комментарии(разделим их на отдельные слова) и проведем лемматизацию."
   ]
  },
  {
   "cell_type": "code",
   "execution_count": 5,
   "metadata": {},
   "outputs": [],
   "source": [
    "# Напишем функцию для лемматизации \n",
    "def lemmatize(text):\n",
    "    wnl = WordNetLemmatizer()\n",
    "    lemm_list = wnl.lemmatize(text)\n",
    "    lemm_text = ''.join(lemm_list)\n",
    "    return lemm_text"
   ]
  },
  {
   "cell_type": "code",
   "execution_count": 6,
   "metadata": {},
   "outputs": [],
   "source": [
    "def get_wordnet_pos(word):\n",
    "    tag = nltk.pos_tag([word])[0][1][0].upper()\n",
    "    tag_dict={\"J\":wordnet.ADJ,\n",
    "             \"N\": wordnet.NOUN,\n",
    "             \"V\": wordnet.VERB,\n",
    "             \"R\": wordnet.ADV}\n",
    "    return tag_dict.get(tag, wordnet.NOUN)"
   ]
  },
  {
   "cell_type": "code",
   "execution_count": 7,
   "metadata": {},
   "outputs": [],
   "source": [
    "w_tokenizer = nltk.tokenize.WhitespaceTokenizer()\n",
    "lemmatizer = nltk.stem.WordNetLemmatizer()\n",
    "def lemmatize_text(text):\n",
    "    return(\" \".join(lemmatizer.lemmatize(w,get_wordnet_pos(w)) for w in w_tokenizer.tokenize(text)))"
   ]
  },
  {
   "cell_type": "code",
   "execution_count": 8,
   "metadata": {},
   "outputs": [
    {
     "data": {
      "text/plain": [
       "0         explanation why the edits made under my userna...\n",
       "1         d aww  he matches this background colour i m s...\n",
       "2         hey man  i m really not trying to edit war  it...\n",
       "3           more i can t make any real suggestions on im...\n",
       "4         you  sir  are my hero  any chance you remember...\n",
       "                                ...                        \n",
       "159287          and for the second time of asking  when ...\n",
       "159288    you should be ashamed of yourself   that is a ...\n",
       "159289    spitzer   umm  theres no actual article for pr...\n",
       "159290    and it looks like it was actually you who put ...\n",
       "159291      and     i really don t think you understand ...\n",
       "Name: lemm, Length: 159292, dtype: object"
      ]
     },
     "execution_count": 8,
     "metadata": {},
     "output_type": "execute_result"
    }
   ],
   "source": [
    "data['text'] = data['text'].str.lower()\n",
    "data['lemm'] = data['text'].apply(lemmatize)\n",
    "data['lemm'] = data['lemm'].apply(clear_text)\n",
    "data['lemm']"
   ]
  },
  {
   "cell_type": "markdown",
   "metadata": {},
   "source": [
    "Мы лемматизировали тексты, избавились от лишних знаков,привели к нижнему регистру. Далее разделим данные на обучающую, валидационную и тестовую выборки."
   ]
  },
  {
   "cell_type": "code",
   "execution_count": 9,
   "metadata": {},
   "outputs": [],
   "source": [
    "features_train,features_test,target_train,target_test = train_test_split(features_downsampled,data['toxic'],test_size=0.2,random_state=12345)\n",
    "features_train,features_valid,target_train,target_valid = train_test_split(features_train,target_train,test_size=0.4,random_state=12345)"
   ]
  },
  {
   "cell_type": "markdown",
   "metadata": {},
   "source": [
    "Преобразуем комментарии в числовые векторы и удалим стоп-слова."
   ]
  },
  {
   "cell_type": "code",
   "execution_count": 10,
   "metadata": {},
   "outputs": [],
   "source": [
    "stopwords = set(nltk_stopwords.words('english'))"
   ]
  },
  {
   "cell_type": "code",
   "execution_count": 12,
   "metadata": {},
   "outputs": [
    {
     "name": "stdout",
     "output_type": "stream",
     "text": [
      "(76459, 121134) (50974, 121134) (31859, 121134)\n"
     ]
    }
   ],
   "source": [
    "count_tf_idf = TfidfVectorizer(stop_words='english')\n",
    "tf_idf_train = count_tf_idf.fit_transform(features_train,y=None)\n",
    "tf_idf_valid = count_tf_idf.transform(features_valid)\n",
    "tf_idf_test = count_tf_idf.transform(features_test)\n",
    "print(tf_idf_train.shape, tf_idf_valid.shape,tf_idf_test.shape)"
   ]
  },
  {
   "cell_type": "markdown",
   "metadata": {},
   "source": [
    "Посмотрим на распределение целевого признака."
   ]
  },
  {
   "cell_type": "code",
   "execution_count": 13,
   "metadata": {},
   "outputs": [
    {
     "data": {
      "image/png": "[encoded data removed]",
      "text/plain": [
       "<Figure size 640x480 with 1 Axes>"
      ]
     },
     "metadata": {},
     "output_type": "display_data"
    }
   ],
   "source": [
    "plt.title('Распределение целевого признака')\n",
    "data['toxic'].hist();"
   ]
  },
  {
   "cell_type": "markdown",
   "metadata": {},
   "source": [
    "Наблюдается явный дисбаланс классов.Значений \"1\" много меньше чем \"0\".Поэтому нам надо будет применить баланс классов."
   ]
  },
  {
   "cell_type": "markdown",
   "metadata": {},
   "source": [
    "После всех преобрзаваний данные готовы к обучению"
   ]
  },
  {
   "cell_type": "markdown",
   "metadata": {},
   "source": [
    "## Обучение"
   ]
  },
  {
   "cell_type": "markdown",
   "metadata": {},
   "source": [
    "Для начала построим модель Логистической регресии, сравнение моделей будет проводить по метрике f1-score."
   ]
  },
  {
   "cell_type": "code",
   "execution_count": 22,
   "metadata": {},
   "outputs": [
    {
     "name": "stdout",
     "output_type": "stream",
     "text": [
      "F1_score:  0.7636951687891651\n",
      "F1_score_test:  0.7725419859774988\n"
     ]
    }
   ],
   "source": [
    "model = LogisticRegression(class_weight='balanced',random_state=12345)\n",
    "\n",
    "model.fit(tf_idf_train,target_train)\n",
    "\n",
    "y_probs = model.predict_proba(tf_idf_valid)[:,1]\n",
    "\n",
    "precision, recall, thresholds_pr = precision_recall_curve(target_valid, y_probs)\n",
    "\n",
    "f1_scores_ = 2*precision*recall / (precision+recall)\n",
    "\n",
    "best_treshold_pr = thresholds_pr[np.argmax(f1_scores_)]\n",
    "\n",
    "pred_best_treshold = (y_probs >= best_treshold_pr).astype('int')\n",
    "\n",
    "print('F1_score: ',f1_score(target_valid, pred_best_treshold))"
   ]
  },
  {
   "cell_type": "code",
   "execution_count": null,
   "metadata": {},
   "outputs": [],
   "source": []
  },
  {
   "cell_type": "markdown",
   "metadata": {},
   "source": [
    "Значение метрики получилось хорошим."
   ]
  },
  {
   "cell_type": "code",
   "execution_count": 17,
   "metadata": {},
   "outputs": [
    {
     "name": "stdout",
     "output_type": "stream",
     "text": [
      "Fitting 5 folds for each of 7 candidates, totalling 35 fits\n",
      "F1-score:  0.5214930602344697\n",
      "{'max_depth': 8}\n",
      "CPU times: user 4min 31s, sys: 2.18 s, total: 4min 33s\n",
      "Wall time: 4min 33s\n"
     ]
    }
   ],
   "source": [
    "%%time\n",
    "grid = [{'max_depth':range(2,9)}]\n",
    "tree = DecisionTreeClassifier(class_weight='balanced',random_state=12345)\n",
    "model = GridSearchCV(tree,grid,verbose=1)\n",
    "model.fit(tf_idf_train,target_train)\n",
    "predictions=model.predict(tf_idf_valid)\n",
    "print('F1-score: ', f1_score(target_valid,predictions))\n",
    "print(model.best_params_)"
   ]
  },
  {
   "cell_type": "code",
   "execution_count": 21,
   "metadata": {},
   "outputs": [
    {
     "name": "stdout",
     "output_type": "stream",
     "text": [
      "Fitting 5 folds for each of 7 candidates, totalling 35 fits\n",
      "F1-score:  0.35021581594266027\n",
      "CPU times: user 4min 24s, sys: 2.56 s, total: 4min 27s\n",
      "Wall time: 4min 27s\n"
     ]
    }
   ],
   "source": [
    "%%time\n",
    "grid = [{'n_estimators' : [100],'max_depth':range(2,9)}]\n",
    "\n",
    "forest = RandomForestClassifier(class_weight='balanced',random_state=12345)\n",
    "\n",
    "model = GridSearchCV(forest,grid,verbose=1)\n",
    "\n",
    "model.fit(tf_idf_train,target_train)\n",
    "\n",
    "predictions=model.predict(tf_idf_valid)\n",
    "\n",
    "print('F1-score: ', f1_score(target_valid,predictions))"
   ]
  },
  {
   "cell_type": "markdown",
   "metadata": {},
   "source": [
    "Мы обучили несколько моеделей классификатора,применили баланс классов и нашли значения метрик для них \\\n",
    "Для Логистической Регрессии мы получили 0.74\\\n",
    "Для Дерева решений мы получили лучший результат при глубине 8.Метрика равна 0.52\\\n",
    "Для Случайного Леса метрика равна 0.35.\\\n",
    "Модель с наибольшим значением метрики - Логистическая Регрессия"
   ]
  },
  {
   "cell_type": "markdown",
   "metadata": {},
   "source": [
    "## Выводы"
   ]
  },
  {
   "cell_type": "code",
   "execution_count": 23,
   "metadata": {},
   "outputs": [
    {
     "name": "stdout",
     "output_type": "stream",
     "text": [
      "F1_score_test:  0.7725419859774988\n"
     ]
    }
   ],
   "source": [
    "model = LogisticRegression(class_weight='balanced',random_state=12345)\n",
    "model.fit(tf_idf_train,target_train)\n",
    "y_probs = model.predict_proba(tf_idf_test)[:,1]\n",
    "predictions = (y_probs >= best_treshold_pr).astype('int')\n",
    "print('F1_score_test: ',f1_score(target_test, predictions))"
   ]
  },
  {
   "cell_type": "markdown",
   "metadata": {},
   "source": [
    "Мы получили F1_score больший 0.75 - довольно хороший результат.Значит модель нам подходит."
   ]
  },
  {
   "cell_type": "markdown",
   "metadata": {},
   "source": [
    "# Вывод\n",
    "Сначала мы подготовили наши данные.Провели их анализ. Заметили несбалансированность целевого признака.Мы преобразовали наши данные, а именно, привели к нижнему регистру, лемматизировали, очистили от стопслов.Проследили за распределением целевого признака.Векторизировали наши строки.Разделили данные на выборки.Обучили разные модели.Модель с наибольшей метрикой - Логистическая Регрессия.Мы получили F1_score больший 0.75.Значит наша метрика прошла проверку.Модель нам подходит."
   ]
  }
 ],
 "metadata": {
  "ExecuteTimeLog": [
   {
    "duration": 398,
    "start_time": "2022-10-11T20:11:45.110Z"
   },
   {
    "duration": 2365,
    "start_time": "2022-10-11T20:11:58.714Z"
   },
   {
    "duration": 877,
    "start_time": "2022-10-11T20:12:38.464Z"
   },
   {
    "duration": 1962,
    "start_time": "2022-10-11T20:13:39.059Z"
   },
   {
    "duration": 809,
    "start_time": "2022-10-11T20:13:49.032Z"
   },
   {
    "duration": 841,
    "start_time": "2022-10-11T20:14:04.928Z"
   },
   {
    "duration": 852,
    "start_time": "2022-10-11T20:14:19.301Z"
   },
   {
    "duration": 824,
    "start_time": "2022-10-11T20:14:26.910Z"
   },
   {
    "duration": 818,
    "start_time": "2022-10-11T20:14:37.406Z"
   },
   {
    "duration": 829,
    "start_time": "2022-10-11T20:14:42.719Z"
   },
   {
    "duration": 46,
    "start_time": "2022-10-11T20:15:21.144Z"
   },
   {
    "duration": 55,
    "start_time": "2022-10-11T20:15:35.065Z"
   },
   {
    "duration": 67,
    "start_time": "2022-10-11T20:15:52.634Z"
   },
   {
    "duration": 47,
    "start_time": "2022-10-11T20:16:11.075Z"
   },
   {
    "duration": 41,
    "start_time": "2022-10-11T20:16:36.380Z"
   },
   {
    "duration": 1591,
    "start_time": "2022-10-11T20:16:44.210Z"
   },
   {
    "duration": 4,
    "start_time": "2022-10-11T20:20:42.410Z"
   },
   {
    "duration": 824,
    "start_time": "2022-10-11T20:20:47.362Z"
   },
   {
    "duration": 838,
    "start_time": "2022-10-11T20:21:16.353Z"
   },
   {
    "duration": 829,
    "start_time": "2022-10-11T20:21:50.332Z"
   },
   {
    "duration": 841,
    "start_time": "2022-10-11T20:22:01.368Z"
   },
   {
    "duration": 2071,
    "start_time": "2022-10-11T20:22:13.710Z"
   },
   {
    "duration": 801,
    "start_time": "2022-10-11T20:22:24.547Z"
   },
   {
    "duration": 845,
    "start_time": "2022-10-11T20:22:31.368Z"
   },
   {
    "duration": 809,
    "start_time": "2022-10-11T20:22:40.383Z"
   },
   {
    "duration": 816,
    "start_time": "2022-10-11T20:22:52.150Z"
   },
   {
    "duration": 825,
    "start_time": "2022-10-11T20:23:10.366Z"
   },
   {
    "duration": 828,
    "start_time": "2022-10-11T20:23:19.155Z"
   },
   {
    "duration": 827,
    "start_time": "2022-10-11T20:23:26.463Z"
   },
   {
    "duration": 7,
    "start_time": "2022-10-11T20:24:24.079Z"
   },
   {
    "duration": 15373,
    "start_time": "2022-10-11T20:24:42.649Z"
   },
   {
    "duration": 8,
    "start_time": "2022-10-11T20:25:05.850Z"
   },
   {
    "duration": 12,
    "start_time": "2022-10-11T20:25:32.256Z"
   },
   {
    "duration": 52,
    "start_time": "2022-10-11T20:46:50.007Z"
   },
   {
    "duration": 73,
    "start_time": "2022-10-11T20:46:57.546Z"
   },
   {
    "duration": 71,
    "start_time": "2022-10-11T20:47:02.406Z"
   },
   {
    "duration": 1114,
    "start_time": "2022-10-11T20:47:24.134Z"
   },
   {
    "duration": 1068,
    "start_time": "2022-10-11T20:47:37.923Z"
   },
   {
    "duration": 4,
    "start_time": "2022-10-11T20:48:45.649Z"
   },
   {
    "duration": 3,
    "start_time": "2022-10-11T20:50:27.327Z"
   },
   {
    "duration": 420,
    "start_time": "2022-10-11T20:51:20.492Z"
   },
   {
    "duration": 1195,
    "start_time": "2022-10-11T20:51:20.914Z"
   },
   {
    "duration": 4,
    "start_time": "2022-10-11T20:51:22.110Z"
   },
   {
    "duration": 421,
    "start_time": "2022-10-11T20:52:54.893Z"
   },
   {
    "duration": 1195,
    "start_time": "2022-10-11T20:52:55.316Z"
   },
   {
    "duration": 1790,
    "start_time": "2022-10-11T20:52:56.513Z"
   },
   {
    "duration": 2272,
    "start_time": "2022-10-11T20:52:58.309Z"
   },
   {
    "duration": 3025,
    "start_time": "2022-10-11T20:53:10.303Z"
   },
   {
    "duration": 357,
    "start_time": "2022-10-11T20:53:22.049Z"
   },
   {
    "duration": 1163,
    "start_time": "2022-10-11T20:53:22.408Z"
   },
   {
    "duration": 1874,
    "start_time": "2022-10-11T20:53:23.573Z"
   },
   {
    "duration": 2291,
    "start_time": "2022-10-11T20:53:25.450Z"
   },
   {
    "duration": 410,
    "start_time": "2022-10-11T20:53:54.704Z"
   },
   {
    "duration": 1193,
    "start_time": "2022-10-11T20:53:55.116Z"
   },
   {
    "duration": 1801,
    "start_time": "2022-10-11T20:53:56.310Z"
   },
   {
    "duration": 2282,
    "start_time": "2022-10-11T20:53:58.113Z"
   },
   {
    "duration": 409,
    "start_time": "2022-10-11T20:57:39.999Z"
   },
   {
    "duration": 1165,
    "start_time": "2022-10-11T20:57:40.410Z"
   },
   {
    "duration": 1802,
    "start_time": "2022-10-11T20:57:41.577Z"
   },
   {
    "duration": 2287,
    "start_time": "2022-10-11T20:57:43.380Z"
   },
   {
    "duration": 406,
    "start_time": "2022-10-11T20:58:06.211Z"
   },
   {
    "duration": 1150,
    "start_time": "2022-10-11T20:58:06.619Z"
   },
   {
    "duration": 1791,
    "start_time": "2022-10-11T20:58:07.770Z"
   },
   {
    "duration": 2270,
    "start_time": "2022-10-11T20:58:09.563Z"
   },
   {
    "duration": 419,
    "start_time": "2022-10-11T21:00:25.277Z"
   },
   {
    "duration": 2547,
    "start_time": "2022-10-11T21:00:25.698Z"
   },
   {
    "duration": 1837,
    "start_time": "2022-10-11T21:00:28.247Z"
   },
   {
    "duration": 396,
    "start_time": "2022-10-11T21:01:06.418Z"
   },
   {
    "duration": 1165,
    "start_time": "2022-10-11T21:01:06.816Z"
   },
   {
    "duration": 1830,
    "start_time": "2022-10-11T21:01:07.983Z"
   },
   {
    "duration": 343699,
    "start_time": "2022-10-11T21:01:09.815Z"
   },
   {
    "duration": 361,
    "start_time": "2022-10-11T21:26:42.372Z"
   },
   {
    "duration": 1140,
    "start_time": "2022-10-11T21:26:42.734Z"
   },
   {
    "duration": 1820,
    "start_time": "2022-10-11T21:26:43.875Z"
   },
   {
    "duration": 79,
    "start_time": "2022-10-11T21:26:45.697Z"
   },
   {
    "duration": 48,
    "start_time": "2022-10-11T21:28:57.347Z"
   },
   {
    "duration": 376,
    "start_time": "2022-10-11T21:29:18.340Z"
   },
   {
    "duration": 2453,
    "start_time": "2022-10-11T21:29:18.717Z"
   },
   {
    "duration": 1824,
    "start_time": "2022-10-11T21:29:21.171Z"
   },
   {
    "duration": 873,
    "start_time": "2022-10-11T21:29:22.997Z"
   },
   {
    "duration": 398,
    "start_time": "2022-10-11T21:32:47.080Z"
   },
   {
    "duration": 1125,
    "start_time": "2022-10-11T21:32:47.479Z"
   },
   {
    "duration": 1816,
    "start_time": "2022-10-11T21:32:48.609Z"
   },
   {
    "duration": 407,
    "start_time": "2022-10-12T19:00:08.531Z"
   },
   {
    "duration": 2659,
    "start_time": "2022-10-12T19:00:08.940Z"
   },
   {
    "duration": 1965,
    "start_time": "2022-10-12T19:00:11.602Z"
   },
   {
    "duration": 392,
    "start_time": "2022-10-12T19:02:57.950Z"
   },
   {
    "duration": 1109,
    "start_time": "2022-10-12T19:02:58.344Z"
   },
   {
    "duration": 1927,
    "start_time": "2022-10-12T19:02:59.454Z"
   },
   {
    "duration": 93,
    "start_time": "2022-10-12T19:03:01.383Z"
   },
   {
    "duration": 7,
    "start_time": "2022-10-12T19:03:09.646Z"
   },
   {
    "duration": 12,
    "start_time": "2022-10-12T19:03:13.836Z"
   },
   {
    "duration": 421,
    "start_time": "2022-10-12T19:04:54.127Z"
   },
   {
    "duration": 2642,
    "start_time": "2022-10-12T19:04:54.549Z"
   },
   {
    "duration": 1952,
    "start_time": "2022-10-12T19:04:57.193Z"
   },
   {
    "duration": 82,
    "start_time": "2022-10-12T19:04:59.148Z"
   },
   {
    "duration": 363,
    "start_time": "2022-10-12T19:05:59.276Z"
   },
   {
    "duration": 1135,
    "start_time": "2022-10-12T19:05:59.641Z"
   },
   {
    "duration": 1964,
    "start_time": "2022-10-12T19:06:00.778Z"
   },
   {
    "duration": 83,
    "start_time": "2022-10-12T19:06:02.744Z"
   },
   {
    "duration": 419,
    "start_time": "2022-10-12T19:08:16.183Z"
   },
   {
    "duration": 2676,
    "start_time": "2022-10-12T19:08:16.604Z"
   },
   {
    "duration": 2010,
    "start_time": "2022-10-12T19:08:19.282Z"
   },
   {
    "duration": 0,
    "start_time": "2022-10-12T19:08:21.294Z"
   },
   {
    "duration": 388,
    "start_time": "2022-10-12T19:09:26.261Z"
   },
   {
    "duration": 1125,
    "start_time": "2022-10-12T19:09:26.651Z"
   },
   {
    "duration": 4,
    "start_time": "2022-10-12T19:09:27.777Z"
   },
   {
    "duration": 78,
    "start_time": "2022-10-12T19:09:27.782Z"
   },
   {
    "duration": 390,
    "start_time": "2022-10-12T19:09:48.146Z"
   },
   {
    "duration": 1147,
    "start_time": "2022-10-12T19:09:48.538Z"
   },
   {
    "duration": 1968,
    "start_time": "2022-10-12T19:09:49.687Z"
   },
   {
    "duration": 74,
    "start_time": "2022-10-12T19:09:51.657Z"
   },
   {
    "duration": 389,
    "start_time": "2022-10-12T19:13:12.755Z"
   },
   {
    "duration": 1135,
    "start_time": "2022-10-12T19:13:13.146Z"
   },
   {
    "duration": 2012,
    "start_time": "2022-10-12T19:13:14.283Z"
   },
   {
    "duration": 972,
    "start_time": "2022-10-12T19:13:16.297Z"
   },
   {
    "duration": 66,
    "start_time": "2022-10-12T19:13:27.713Z"
   },
   {
    "duration": 868,
    "start_time": "2022-10-12T19:13:38.126Z"
   },
   {
    "duration": 825,
    "start_time": "2022-10-12T19:13:42.143Z"
   },
   {
    "duration": 819,
    "start_time": "2022-10-12T19:13:45.059Z"
   },
   {
    "duration": 815,
    "start_time": "2022-10-12T19:13:47.824Z"
   },
   {
    "duration": 12,
    "start_time": "2022-10-12T19:13:55.287Z"
   },
   {
    "duration": 866,
    "start_time": "2022-10-12T19:14:03.255Z"
   },
   {
    "duration": 790,
    "start_time": "2022-10-12T19:14:09.904Z"
   },
   {
    "duration": 878,
    "start_time": "2022-10-12T19:14:15.629Z"
   },
   {
    "duration": 780,
    "start_time": "2022-10-12T19:14:18.893Z"
   },
   {
    "duration": 804,
    "start_time": "2022-10-12T19:14:23.119Z"
   },
   {
    "duration": 842,
    "start_time": "2022-10-12T19:14:27.137Z"
   },
   {
    "duration": 861,
    "start_time": "2022-10-12T19:14:30.411Z"
   },
   {
    "duration": 777,
    "start_time": "2022-10-12T19:14:33.186Z"
   },
   {
    "duration": 8,
    "start_time": "2022-10-12T19:15:21.508Z"
   },
   {
    "duration": 7,
    "start_time": "2022-10-12T19:15:30.300Z"
   },
   {
    "duration": 7,
    "start_time": "2022-10-12T19:15:43.711Z"
   },
   {
    "duration": 7,
    "start_time": "2022-10-12T19:15:48.997Z"
   },
   {
    "duration": 6,
    "start_time": "2022-10-12T19:15:57.564Z"
   },
   {
    "duration": 7,
    "start_time": "2022-10-12T19:16:05.274Z"
   },
   {
    "duration": 7,
    "start_time": "2022-10-12T19:16:18.568Z"
   },
   {
    "duration": 7,
    "start_time": "2022-10-12T19:16:22.737Z"
   },
   {
    "duration": 8,
    "start_time": "2022-10-12T19:16:40.641Z"
   },
   {
    "duration": 7,
    "start_time": "2022-10-12T19:16:52.183Z"
   },
   {
    "duration": 8,
    "start_time": "2022-10-12T19:16:56.388Z"
   },
   {
    "duration": 6,
    "start_time": "2022-10-12T19:17:06.041Z"
   },
   {
    "duration": 6,
    "start_time": "2022-10-12T19:17:16.490Z"
   },
   {
    "duration": 734,
    "start_time": "2022-10-12T19:18:05.872Z"
   },
   {
    "duration": 969,
    "start_time": "2022-10-12T19:18:11.929Z"
   },
   {
    "duration": 4,
    "start_time": "2022-10-12T19:18:22.138Z"
   },
   {
    "duration": 857,
    "start_time": "2022-10-12T19:19:00.101Z"
   },
   {
    "duration": 391,
    "start_time": "2022-10-12T19:21:04.180Z"
   },
   {
    "duration": 1122,
    "start_time": "2022-10-12T19:21:04.573Z"
   },
   {
    "duration": 4,
    "start_time": "2022-10-12T19:21:05.697Z"
   },
   {
    "duration": 1988,
    "start_time": "2022-10-12T19:21:05.704Z"
   },
   {
    "duration": 428,
    "start_time": "2022-10-12T19:21:48.610Z"
   },
   {
    "duration": 1121,
    "start_time": "2022-10-12T19:21:49.040Z"
   },
   {
    "duration": 4,
    "start_time": "2022-10-12T19:21:50.163Z"
   },
   {
    "duration": 1984,
    "start_time": "2022-10-12T19:21:50.169Z"
   },
   {
    "duration": 379,
    "start_time": "2022-10-12T19:35:19.199Z"
   },
   {
    "duration": 1157,
    "start_time": "2022-10-12T19:35:19.579Z"
   },
   {
    "duration": 28,
    "start_time": "2022-10-12T19:35:20.738Z"
   },
   {
    "duration": 77,
    "start_time": "2022-10-12T19:35:20.768Z"
   },
   {
    "duration": 0,
    "start_time": "2022-10-12T19:35:20.847Z"
   },
   {
    "duration": 11,
    "start_time": "2022-10-12T19:35:39.945Z"
   },
   {
    "duration": 389,
    "start_time": "2022-10-12T19:37:41.959Z"
   },
   {
    "duration": 1103,
    "start_time": "2022-10-12T19:37:42.350Z"
   },
   {
    "duration": 30,
    "start_time": "2022-10-12T19:37:43.455Z"
   },
   {
    "duration": 5,
    "start_time": "2022-10-12T19:37:43.487Z"
   },
   {
    "duration": 5,
    "start_time": "2022-10-12T19:37:43.494Z"
   },
   {
    "duration": 74,
    "start_time": "2022-10-12T19:37:43.501Z"
   },
   {
    "duration": 0,
    "start_time": "2022-10-12T19:37:43.577Z"
   },
   {
    "duration": 18,
    "start_time": "2022-10-12T19:40:23.270Z"
   },
   {
    "duration": 30,
    "start_time": "2022-10-12T19:40:32.811Z"
   },
   {
    "duration": 2,
    "start_time": "2022-10-12T19:40:34.996Z"
   },
   {
    "duration": 4,
    "start_time": "2022-10-12T19:40:36.540Z"
   },
   {
    "duration": 11,
    "start_time": "2022-10-12T19:40:38.089Z"
   },
   {
    "duration": 1314,
    "start_time": "2022-10-12T20:09:28.044Z"
   },
   {
    "duration": 1152,
    "start_time": "2022-10-12T20:09:29.360Z"
   },
   {
    "duration": 36,
    "start_time": "2022-10-12T20:09:30.514Z"
   },
   {
    "duration": 25,
    "start_time": "2022-10-12T20:09:30.552Z"
   },
   {
    "duration": 18,
    "start_time": "2022-10-12T20:09:30.586Z"
   },
   {
    "duration": 157,
    "start_time": "2022-10-12T20:09:30.605Z"
   },
   {
    "duration": 0,
    "start_time": "2022-10-12T20:09:30.764Z"
   },
   {
    "duration": 0,
    "start_time": "2022-10-12T20:09:30.766Z"
   },
   {
    "duration": 0,
    "start_time": "2022-10-12T20:09:30.767Z"
   },
   {
    "duration": 0,
    "start_time": "2022-10-12T20:09:30.769Z"
   },
   {
    "duration": 0,
    "start_time": "2022-10-12T20:09:30.771Z"
   },
   {
    "duration": 0,
    "start_time": "2022-10-12T20:09:30.772Z"
   },
   {
    "duration": 0,
    "start_time": "2022-10-12T20:09:30.773Z"
   },
   {
    "duration": 0,
    "start_time": "2022-10-12T20:09:30.774Z"
   },
   {
    "duration": 51,
    "start_time": "2022-10-13T18:15:24.730Z"
   },
   {
    "duration": 1693,
    "start_time": "2022-10-13T18:15:29.555Z"
   },
   {
    "duration": 2619,
    "start_time": "2022-10-13T18:15:31.251Z"
   },
   {
    "duration": 133,
    "start_time": "2022-10-13T18:15:33.872Z"
   },
   {
    "duration": 0,
    "start_time": "2022-10-13T18:15:34.007Z"
   },
   {
    "duration": 0,
    "start_time": "2022-10-13T18:15:34.009Z"
   },
   {
    "duration": 0,
    "start_time": "2022-10-13T18:15:34.010Z"
   },
   {
    "duration": 0,
    "start_time": "2022-10-13T18:15:34.020Z"
   },
   {
    "duration": 1,
    "start_time": "2022-10-13T18:15:34.021Z"
   },
   {
    "duration": 0,
    "start_time": "2022-10-13T18:15:34.023Z"
   },
   {
    "duration": 0,
    "start_time": "2022-10-13T18:15:34.024Z"
   },
   {
    "duration": 0,
    "start_time": "2022-10-13T18:15:34.025Z"
   },
   {
    "duration": 0,
    "start_time": "2022-10-13T18:15:34.027Z"
   },
   {
    "duration": 0,
    "start_time": "2022-10-13T18:15:34.028Z"
   },
   {
    "duration": 0,
    "start_time": "2022-10-13T18:15:34.030Z"
   },
   {
    "duration": 0,
    "start_time": "2022-10-13T18:15:34.031Z"
   },
   {
    "duration": 16,
    "start_time": "2022-10-13T18:17:07.118Z"
   },
   {
    "duration": 31,
    "start_time": "2022-10-13T18:19:26.120Z"
   },
   {
    "duration": 3,
    "start_time": "2022-10-13T18:19:28.464Z"
   },
   {
    "duration": 168,
    "start_time": "2022-10-13T18:20:27.500Z"
   },
   {
    "duration": 4,
    "start_time": "2022-10-13T18:20:29.221Z"
   },
   {
    "duration": 17,
    "start_time": "2022-10-13T18:20:33.526Z"
   },
   {
    "duration": 7,
    "start_time": "2022-10-13T18:22:10.953Z"
   },
   {
    "duration": 3,
    "start_time": "2022-10-13T18:22:11.856Z"
   },
   {
    "duration": 21,
    "start_time": "2022-10-13T18:22:30.273Z"
   },
   {
    "duration": 18,
    "start_time": "2022-10-13T18:22:36.906Z"
   },
   {
    "duration": 3,
    "start_time": "2022-10-13T18:22:38.831Z"
   },
   {
    "duration": 5,
    "start_time": "2022-10-13T18:22:41.393Z"
   },
   {
    "duration": 5,
    "start_time": "2022-10-13T18:22:42.736Z"
   },
   {
    "duration": 23,
    "start_time": "2022-10-13T18:22:43.896Z"
   },
   {
    "duration": 5,
    "start_time": "2022-10-13T18:23:41.912Z"
   },
   {
    "duration": 4,
    "start_time": "2022-10-13T18:23:42.617Z"
   },
   {
    "duration": 176901,
    "start_time": "2022-10-13T18:23:43.778Z"
   },
   {
    "duration": 1312,
    "start_time": "2022-10-13T18:32:55.195Z"
   },
   {
    "duration": 16,
    "start_time": "2022-10-13T18:33:28.437Z"
   },
   {
    "duration": 172744,
    "start_time": "2022-10-13T18:33:46.268Z"
   },
   {
    "duration": 11,
    "start_time": "2022-10-13T18:36:39.015Z"
   },
   {
    "duration": 3529,
    "start_time": "2022-10-13T18:38:19.032Z"
   },
   {
    "duration": 1433,
    "start_time": "2022-10-13T18:38:25.123Z"
   },
   {
    "duration": 1150,
    "start_time": "2022-10-13T18:38:26.558Z"
   },
   {
    "duration": 9,
    "start_time": "2022-10-13T18:38:27.711Z"
   },
   {
    "duration": 14,
    "start_time": "2022-10-13T18:38:27.722Z"
   },
   {
    "duration": 245,
    "start_time": "2022-10-13T18:38:27.738Z"
   },
   {
    "duration": 3,
    "start_time": "2022-10-13T18:38:27.985Z"
   },
   {
    "duration": 4889,
    "start_time": "2022-10-13T18:38:27.990Z"
   },
   {
    "duration": 830,
    "start_time": "2022-10-13T18:38:32.881Z"
   },
   {
    "duration": 0,
    "start_time": "2022-10-13T18:38:33.713Z"
   },
   {
    "duration": 0,
    "start_time": "2022-10-13T18:38:33.715Z"
   },
   {
    "duration": 0,
    "start_time": "2022-10-13T18:38:33.717Z"
   },
   {
    "duration": 0,
    "start_time": "2022-10-13T18:38:33.718Z"
   },
   {
    "duration": 0,
    "start_time": "2022-10-13T18:38:33.719Z"
   },
   {
    "duration": 0,
    "start_time": "2022-10-13T18:38:33.721Z"
   },
   {
    "duration": 3423,
    "start_time": "2022-10-13T18:38:41.998Z"
   },
   {
    "duration": 14,
    "start_time": "2022-10-13T18:39:15.104Z"
   },
   {
    "duration": 12,
    "start_time": "2022-10-13T18:39:41.764Z"
   },
   {
    "duration": 11,
    "start_time": "2022-10-13T18:39:54.877Z"
   },
   {
    "duration": 3,
    "start_time": "2022-10-13T18:40:29.564Z"
   },
   {
    "duration": 415,
    "start_time": "2022-10-13T18:40:31.026Z"
   },
   {
    "duration": 1355,
    "start_time": "2022-10-13T18:40:54.704Z"
   },
   {
    "duration": 1172,
    "start_time": "2022-10-13T18:40:56.061Z"
   },
   {
    "duration": 3,
    "start_time": "2022-10-13T18:40:57.235Z"
   },
   {
    "duration": 6,
    "start_time": "2022-10-13T18:40:57.240Z"
   },
   {
    "duration": 20,
    "start_time": "2022-10-13T18:40:57.248Z"
   },
   {
    "duration": 237,
    "start_time": "2022-10-13T18:40:57.270Z"
   },
   {
    "duration": 3,
    "start_time": "2022-10-13T18:40:57.509Z"
   },
   {
    "duration": 593,
    "start_time": "2022-10-13T18:40:57.514Z"
   },
   {
    "duration": 0,
    "start_time": "2022-10-13T18:40:58.109Z"
   },
   {
    "duration": 0,
    "start_time": "2022-10-13T18:40:58.111Z"
   },
   {
    "duration": 0,
    "start_time": "2022-10-13T18:40:58.112Z"
   },
   {
    "duration": 0,
    "start_time": "2022-10-13T18:40:58.114Z"
   },
   {
    "duration": 0,
    "start_time": "2022-10-13T18:40:58.115Z"
   },
   {
    "duration": 0,
    "start_time": "2022-10-13T18:40:58.116Z"
   },
   {
    "duration": 0,
    "start_time": "2022-10-13T18:40:58.117Z"
   },
   {
    "duration": 1418,
    "start_time": "2022-10-13T18:41:10.819Z"
   },
   {
    "duration": 1182,
    "start_time": "2022-10-13T18:41:12.240Z"
   },
   {
    "duration": 2,
    "start_time": "2022-10-13T18:41:13.424Z"
   },
   {
    "duration": 19,
    "start_time": "2022-10-13T18:41:13.428Z"
   },
   {
    "duration": 178,
    "start_time": "2022-10-13T18:41:13.450Z"
   },
   {
    "duration": 3,
    "start_time": "2022-10-13T18:41:13.630Z"
   },
   {
    "duration": 1346,
    "start_time": "2022-10-13T18:41:13.635Z"
   },
   {
    "duration": 0,
    "start_time": "2022-10-13T18:41:14.983Z"
   },
   {
    "duration": 0,
    "start_time": "2022-10-13T18:41:14.985Z"
   },
   {
    "duration": 0,
    "start_time": "2022-10-13T18:41:14.987Z"
   },
   {
    "duration": 0,
    "start_time": "2022-10-13T18:41:14.988Z"
   },
   {
    "duration": 0,
    "start_time": "2022-10-13T18:41:14.988Z"
   },
   {
    "duration": 0,
    "start_time": "2022-10-13T18:41:14.989Z"
   },
   {
    "duration": 0,
    "start_time": "2022-10-13T18:41:14.990Z"
   },
   {
    "duration": 4693,
    "start_time": "2022-10-13T18:41:30.542Z"
   },
   {
    "duration": 1376,
    "start_time": "2022-10-13T18:43:05.683Z"
   },
   {
    "duration": 1135,
    "start_time": "2022-10-13T18:43:07.061Z"
   },
   {
    "duration": 3,
    "start_time": "2022-10-13T18:43:08.198Z"
   },
   {
    "duration": 28,
    "start_time": "2022-10-13T18:43:08.203Z"
   },
   {
    "duration": 153,
    "start_time": "2022-10-13T18:43:08.233Z"
   },
   {
    "duration": 3,
    "start_time": "2022-10-13T18:43:08.389Z"
   },
   {
    "duration": 4870,
    "start_time": "2022-10-13T18:43:08.394Z"
   },
   {
    "duration": 891,
    "start_time": "2022-10-13T18:43:13.267Z"
   },
   {
    "duration": 0,
    "start_time": "2022-10-13T18:43:14.160Z"
   },
   {
    "duration": 0,
    "start_time": "2022-10-13T18:43:14.162Z"
   },
   {
    "duration": 0,
    "start_time": "2022-10-13T18:43:14.163Z"
   },
   {
    "duration": 0,
    "start_time": "2022-10-13T18:43:14.165Z"
   },
   {
    "duration": 0,
    "start_time": "2022-10-13T18:43:14.166Z"
   },
   {
    "duration": 0,
    "start_time": "2022-10-13T18:43:14.168Z"
   },
   {
    "duration": 14,
    "start_time": "2022-10-13T18:43:33.527Z"
   },
   {
    "duration": 31,
    "start_time": "2022-10-13T18:43:40.882Z"
   },
   {
    "duration": 5,
    "start_time": "2022-10-13T18:43:43.336Z"
   },
   {
    "duration": 7564,
    "start_time": "2022-10-13T18:43:46.767Z"
   },
   {
    "duration": 11,
    "start_time": "2022-10-13T18:44:00.502Z"
   },
   {
    "duration": 13,
    "start_time": "2022-10-13T18:44:07.819Z"
   },
   {
    "duration": 11,
    "start_time": "2022-10-13T18:44:24.769Z"
   },
   {
    "duration": 16,
    "start_time": "2022-10-13T18:44:33.617Z"
   },
   {
    "duration": 18,
    "start_time": "2022-10-13T18:44:54.766Z"
   },
   {
    "duration": 74,
    "start_time": "2022-10-13T18:51:39.088Z"
   },
   {
    "duration": 7094,
    "start_time": "2022-10-13T18:52:36.913Z"
   },
   {
    "duration": 12,
    "start_time": "2022-10-13T18:52:55.032Z"
   },
   {
    "duration": 0,
    "start_time": "2022-10-13T18:54:29.131Z"
   },
   {
    "duration": 1379,
    "start_time": "2022-10-13T18:54:59.854Z"
   },
   {
    "duration": 1172,
    "start_time": "2022-10-13T18:55:01.235Z"
   },
   {
    "duration": 3,
    "start_time": "2022-10-13T18:55:02.409Z"
   },
   {
    "duration": 30,
    "start_time": "2022-10-13T18:55:02.420Z"
   },
   {
    "duration": 148,
    "start_time": "2022-10-13T18:55:02.451Z"
   },
   {
    "duration": 3,
    "start_time": "2022-10-13T18:55:02.601Z"
   },
   {
    "duration": 4690,
    "start_time": "2022-10-13T18:55:02.605Z"
   },
   {
    "duration": 14,
    "start_time": "2022-10-13T18:55:07.296Z"
   },
   {
    "duration": 65,
    "start_time": "2022-10-13T18:55:07.321Z"
   },
   {
    "duration": 5,
    "start_time": "2022-10-13T18:55:07.389Z"
   },
   {
    "duration": 7135,
    "start_time": "2022-10-13T18:55:07.395Z"
   },
   {
    "duration": 25594,
    "start_time": "2022-10-13T18:55:14.532Z"
   },
   {
    "duration": 0,
    "start_time": "2022-10-13T18:55:40.128Z"
   },
   {
    "duration": 0,
    "start_time": "2022-10-13T18:55:40.129Z"
   },
   {
    "duration": 0,
    "start_time": "2022-10-13T18:55:40.130Z"
   },
   {
    "duration": 3445,
    "start_time": "2022-10-13T18:59:36.317Z"
   },
   {
    "duration": 7179,
    "start_time": "2022-10-13T18:59:41.801Z"
   },
   {
    "duration": 24522,
    "start_time": "2022-10-13T18:59:51.099Z"
   },
   {
    "duration": 10,
    "start_time": "2022-10-13T19:00:18.867Z"
   },
   {
    "duration": 1315,
    "start_time": "2022-10-13T19:03:15.244Z"
   },
   {
    "duration": 1178,
    "start_time": "2022-10-13T19:03:16.562Z"
   },
   {
    "duration": 3,
    "start_time": "2022-10-13T19:03:17.742Z"
   },
   {
    "duration": 8,
    "start_time": "2022-10-13T19:03:17.747Z"
   },
   {
    "duration": 225,
    "start_time": "2022-10-13T19:03:17.756Z"
   },
   {
    "duration": 4,
    "start_time": "2022-10-13T19:03:17.983Z"
   },
   {
    "duration": 4906,
    "start_time": "2022-10-13T19:03:17.988Z"
   },
   {
    "duration": 13,
    "start_time": "2022-10-13T19:03:22.896Z"
   },
   {
    "duration": 55,
    "start_time": "2022-10-13T19:03:22.921Z"
   },
   {
    "duration": 6,
    "start_time": "2022-10-13T19:03:22.978Z"
   },
   {
    "duration": 6754,
    "start_time": "2022-10-13T19:03:22.986Z"
   },
   {
    "duration": 26394,
    "start_time": "2022-10-13T19:03:29.742Z"
   },
   {
    "duration": 974397,
    "start_time": "2022-10-13T19:03:56.138Z"
   },
   {
    "duration": 0,
    "start_time": "2022-10-13T19:20:10.537Z"
   },
   {
    "duration": 0,
    "start_time": "2022-10-13T19:20:10.538Z"
   },
   {
    "duration": 11,
    "start_time": "2022-10-13T19:49:31.266Z"
   },
   {
    "duration": 1305,
    "start_time": "2022-10-13T19:49:37.770Z"
   },
   {
    "duration": 1176,
    "start_time": "2022-10-13T19:49:39.077Z"
   },
   {
    "duration": 3,
    "start_time": "2022-10-13T19:49:40.255Z"
   },
   {
    "duration": 7,
    "start_time": "2022-10-13T19:49:40.260Z"
   },
   {
    "duration": 236,
    "start_time": "2022-10-13T19:49:40.268Z"
   },
   {
    "duration": 4,
    "start_time": "2022-10-13T19:49:40.507Z"
   },
   {
    "duration": 4677,
    "start_time": "2022-10-13T19:49:40.513Z"
   },
   {
    "duration": 13,
    "start_time": "2022-10-13T19:49:45.192Z"
   },
   {
    "duration": 72,
    "start_time": "2022-10-13T19:49:45.206Z"
   },
   {
    "duration": 5,
    "start_time": "2022-10-13T19:49:45.281Z"
   },
   {
    "duration": 6768,
    "start_time": "2022-10-13T19:49:45.287Z"
   },
   {
    "duration": 26874,
    "start_time": "2022-10-13T19:49:52.057Z"
   },
   {
    "duration": 190,
    "start_time": "2022-10-13T19:50:18.933Z"
   },
   {
    "duration": 1,
    "start_time": "2022-10-13T19:50:19.125Z"
   },
   {
    "duration": 0,
    "start_time": "2022-10-13T19:50:19.127Z"
   },
   {
    "duration": 4,
    "start_time": "2022-10-13T19:52:34.561Z"
   },
   {
    "duration": 11,
    "start_time": "2022-10-13T19:52:39.947Z"
   },
   {
    "duration": 14,
    "start_time": "2022-10-13T19:52:59.570Z"
   },
   {
    "duration": 1273,
    "start_time": "2022-10-13T19:59:41.576Z"
   },
   {
    "duration": 1160,
    "start_time": "2022-10-13T19:59:42.851Z"
   },
   {
    "duration": 8,
    "start_time": "2022-10-13T19:59:44.013Z"
   },
   {
    "duration": 8,
    "start_time": "2022-10-13T19:59:44.024Z"
   },
   {
    "duration": 224,
    "start_time": "2022-10-13T19:59:44.034Z"
   },
   {
    "duration": 3,
    "start_time": "2022-10-13T19:59:44.260Z"
   },
   {
    "duration": 4573,
    "start_time": "2022-10-13T19:59:44.266Z"
   },
   {
    "duration": 14,
    "start_time": "2022-10-13T19:59:48.840Z"
   },
   {
    "duration": 80,
    "start_time": "2022-10-13T19:59:48.856Z"
   },
   {
    "duration": 6,
    "start_time": "2022-10-13T19:59:48.939Z"
   },
   {
    "duration": 7176,
    "start_time": "2022-10-13T19:59:48.948Z"
   },
   {
    "duration": 25708,
    "start_time": "2022-10-13T19:59:56.126Z"
   },
   {
    "duration": 1002196,
    "start_time": "2022-10-13T20:00:21.836Z"
   },
   {
    "duration": 0,
    "start_time": "2022-10-13T20:17:04.033Z"
   },
   {
    "duration": 0,
    "start_time": "2022-10-13T20:17:04.035Z"
   },
   {
    "duration": 212,
    "start_time": "2022-10-13T20:20:51.281Z"
   },
   {
    "duration": 1591,
    "start_time": "2022-10-13T20:21:55.524Z"
   },
   {
    "duration": 2655,
    "start_time": "2022-10-13T20:21:57.116Z"
   },
   {
    "duration": 1518,
    "start_time": "2022-10-13T20:23:47.766Z"
   },
   {
    "duration": 2641,
    "start_time": "2022-10-13T20:23:49.286Z"
   },
   {
    "duration": 1559,
    "start_time": "2022-10-13T20:24:17.451Z"
   },
   {
    "duration": 2602,
    "start_time": "2022-10-13T20:24:19.013Z"
   },
   {
    "duration": 2,
    "start_time": "2022-10-13T20:24:21.621Z"
   },
   {
    "duration": 24,
    "start_time": "2022-10-13T20:24:21.625Z"
   },
   {
    "duration": 1355,
    "start_time": "2022-10-13T20:24:21.651Z"
   },
   {
    "duration": 194,
    "start_time": "2022-10-13T20:24:23.008Z"
   },
   {
    "duration": 3,
    "start_time": "2022-10-13T20:24:23.204Z"
   },
   {
    "duration": 3910,
    "start_time": "2022-10-13T20:24:23.208Z"
   },
   {
    "duration": 12,
    "start_time": "2022-10-13T20:24:27.121Z"
   },
   {
    "duration": 53,
    "start_time": "2022-10-13T20:24:27.136Z"
   },
   {
    "duration": 5,
    "start_time": "2022-10-13T20:24:27.191Z"
   },
   {
    "duration": 7013,
    "start_time": "2022-10-13T20:24:27.198Z"
   },
   {
    "duration": 26509,
    "start_time": "2022-10-13T20:24:34.212Z"
   },
   {
    "duration": 1374,
    "start_time": "2022-10-13T20:26:57.949Z"
   },
   {
    "duration": 1171,
    "start_time": "2022-10-13T20:26:59.325Z"
   },
   {
    "duration": 3,
    "start_time": "2022-10-13T20:27:00.498Z"
   },
   {
    "duration": 44,
    "start_time": "2022-10-13T20:27:00.503Z"
   },
   {
    "duration": 1382,
    "start_time": "2022-10-13T20:27:00.548Z"
   },
   {
    "duration": 214,
    "start_time": "2022-10-13T20:27:01.932Z"
   },
   {
    "duration": 4,
    "start_time": "2022-10-13T20:27:02.147Z"
   },
   {
    "duration": 880,
    "start_time": "2022-10-13T20:27:02.152Z"
   },
   {
    "duration": 0,
    "start_time": "2022-10-13T20:27:03.034Z"
   },
   {
    "duration": 0,
    "start_time": "2022-10-13T20:27:03.035Z"
   },
   {
    "duration": 0,
    "start_time": "2022-10-13T20:27:03.036Z"
   },
   {
    "duration": 0,
    "start_time": "2022-10-13T20:27:03.037Z"
   },
   {
    "duration": 0,
    "start_time": "2022-10-13T20:27:03.038Z"
   },
   {
    "duration": 0,
    "start_time": "2022-10-13T20:27:03.039Z"
   },
   {
    "duration": 0,
    "start_time": "2022-10-13T20:27:03.040Z"
   },
   {
    "duration": 0,
    "start_time": "2022-10-13T20:27:03.041Z"
   },
   {
    "duration": 0,
    "start_time": "2022-10-13T20:27:03.042Z"
   },
   {
    "duration": 4061,
    "start_time": "2022-10-13T20:27:15.084Z"
   },
   {
    "duration": 3,
    "start_time": "2022-10-13T20:27:37.706Z"
   },
   {
    "duration": 4771,
    "start_time": "2022-10-13T20:27:38.970Z"
   },
   {
    "duration": 3,
    "start_time": "2022-10-13T20:27:50.037Z"
   },
   {
    "duration": 41,
    "start_time": "2022-10-13T20:30:18.557Z"
   },
   {
    "duration": 55,
    "start_time": "2022-10-13T20:30:55.994Z"
   },
   {
    "duration": 1322,
    "start_time": "2022-10-13T20:32:18.433Z"
   },
   {
    "duration": 1191,
    "start_time": "2022-10-13T20:32:19.756Z"
   },
   {
    "duration": 3,
    "start_time": "2022-10-13T20:32:20.949Z"
   },
   {
    "duration": 25,
    "start_time": "2022-10-13T20:32:20.953Z"
   },
   {
    "duration": 1387,
    "start_time": "2022-10-13T20:32:20.980Z"
   },
   {
    "duration": 154,
    "start_time": "2022-10-13T20:32:22.369Z"
   },
   {
    "duration": 4,
    "start_time": "2022-10-13T20:32:22.524Z"
   },
   {
    "duration": 4011,
    "start_time": "2022-10-13T20:32:22.530Z"
   },
   {
    "duration": 52,
    "start_time": "2022-10-13T20:32:26.543Z"
   },
   {
    "duration": 4,
    "start_time": "2022-10-13T20:32:26.598Z"
   },
   {
    "duration": 7290,
    "start_time": "2022-10-13T20:32:26.604Z"
   },
   {
    "duration": 24425,
    "start_time": "2022-10-13T20:32:33.896Z"
   },
   {
    "duration": 1489,
    "start_time": "2022-10-14T08:05:03.402Z"
   },
   {
    "duration": 3537,
    "start_time": "2022-10-14T08:05:04.893Z"
   },
   {
    "duration": 3,
    "start_time": "2022-10-14T08:05:08.432Z"
   },
   {
    "duration": 26,
    "start_time": "2022-10-14T08:05:08.437Z"
   },
   {
    "duration": 1242,
    "start_time": "2022-10-14T08:05:08.465Z"
   },
   {
    "duration": 274,
    "start_time": "2022-10-14T08:05:09.708Z"
   },
   {
    "duration": 4,
    "start_time": "2022-10-14T08:05:09.984Z"
   },
   {
    "duration": 3667,
    "start_time": "2022-10-14T08:05:09.989Z"
   },
   {
    "duration": 43,
    "start_time": "2022-10-14T08:05:13.658Z"
   },
   {
    "duration": 5,
    "start_time": "2022-10-14T08:05:13.703Z"
   },
   {
    "duration": 5978,
    "start_time": "2022-10-14T08:05:13.722Z"
   },
   {
    "duration": 23951,
    "start_time": "2022-10-14T08:05:19.701Z"
   },
   {
    "duration": 64,
    "start_time": "2022-10-14T12:58:49.301Z"
   },
   {
    "duration": 1314,
    "start_time": "2022-10-14T12:58:55.001Z"
   },
   {
    "duration": 2531,
    "start_time": "2022-10-14T12:58:56.317Z"
   },
   {
    "duration": 3,
    "start_time": "2022-10-14T12:58:58.849Z"
   },
   {
    "duration": 7,
    "start_time": "2022-10-14T12:58:58.854Z"
   },
   {
    "duration": 1333,
    "start_time": "2022-10-14T12:58:58.863Z"
   },
   {
    "duration": 349,
    "start_time": "2022-10-14T12:59:00.197Z"
   },
   {
    "duration": 4,
    "start_time": "2022-10-14T12:59:00.548Z"
   },
   {
    "duration": 198,
    "start_time": "2022-10-14T12:59:00.554Z"
   },
   {
    "duration": 0,
    "start_time": "2022-10-14T12:59:00.754Z"
   },
   {
    "duration": 0,
    "start_time": "2022-10-14T12:59:00.756Z"
   },
   {
    "duration": 0,
    "start_time": "2022-10-14T12:59:00.757Z"
   },
   {
    "duration": 0,
    "start_time": "2022-10-14T12:59:00.758Z"
   },
   {
    "duration": 0,
    "start_time": "2022-10-14T12:59:00.759Z"
   },
   {
    "duration": 0,
    "start_time": "2022-10-14T12:59:00.760Z"
   },
   {
    "duration": 0,
    "start_time": "2022-10-14T12:59:00.762Z"
   },
   {
    "duration": 0,
    "start_time": "2022-10-14T12:59:00.763Z"
   },
   {
    "duration": 10,
    "start_time": "2022-10-14T12:59:08.909Z"
   },
   {
    "duration": 4266,
    "start_time": "2022-10-14T12:59:17.029Z"
   },
   {
    "duration": 6,
    "start_time": "2022-10-14T12:59:36.034Z"
   },
   {
    "duration": 3,
    "start_time": "2022-10-14T13:07:04.618Z"
   },
   {
    "duration": 44,
    "start_time": "2022-10-14T13:07:15.243Z"
   },
   {
    "duration": 5,
    "start_time": "2022-10-14T13:07:16.316Z"
   },
   {
    "duration": 6643,
    "start_time": "2022-10-14T13:07:17.317Z"
   },
   {
    "duration": 23861,
    "start_time": "2022-10-14T13:07:23.962Z"
   },
   {
    "duration": 40,
    "start_time": "2022-10-14T13:08:27.975Z"
   },
   {
    "duration": 51,
    "start_time": "2022-10-14T13:08:53.654Z"
   },
   {
    "duration": 66,
    "start_time": "2022-10-14T13:08:59.587Z"
   },
   {
    "duration": 169277,
    "start_time": "2022-10-14T13:09:10.030Z"
   },
   {
    "duration": 1288,
    "start_time": "2022-10-14T13:22:38.612Z"
   },
   {
    "duration": 1194,
    "start_time": "2022-10-14T13:22:39.901Z"
   },
   {
    "duration": 12,
    "start_time": "2022-10-14T13:22:41.097Z"
   },
   {
    "duration": 5,
    "start_time": "2022-10-14T13:22:41.111Z"
   },
   {
    "duration": 1371,
    "start_time": "2022-10-14T13:22:41.117Z"
   },
   {
    "duration": 215,
    "start_time": "2022-10-14T13:22:42.489Z"
   },
   {
    "duration": 4,
    "start_time": "2022-10-14T13:22:42.706Z"
   },
   {
    "duration": 4315,
    "start_time": "2022-10-14T13:22:42.712Z"
   },
   {
    "duration": 39,
    "start_time": "2022-10-14T13:22:47.029Z"
   },
   {
    "duration": 4,
    "start_time": "2022-10-14T13:22:47.071Z"
   },
   {
    "duration": 6661,
    "start_time": "2022-10-14T13:22:47.077Z"
   },
   {
    "duration": 24092,
    "start_time": "2022-10-14T13:22:53.740Z"
   },
   {
    "duration": 1272,
    "start_time": "2022-10-14T13:23:35.765Z"
   },
   {
    "duration": 1187,
    "start_time": "2022-10-14T13:23:37.039Z"
   },
   {
    "duration": 3,
    "start_time": "2022-10-14T13:23:38.227Z"
   },
   {
    "duration": 11,
    "start_time": "2022-10-14T13:23:38.231Z"
   },
   {
    "duration": 1337,
    "start_time": "2022-10-14T13:23:38.244Z"
   },
   {
    "duration": 138,
    "start_time": "2022-10-14T13:23:39.583Z"
   },
   {
    "duration": 3,
    "start_time": "2022-10-14T13:23:39.722Z"
   },
   {
    "duration": 4374,
    "start_time": "2022-10-14T13:23:39.727Z"
   },
   {
    "duration": 58,
    "start_time": "2022-10-14T13:23:44.103Z"
   },
   {
    "duration": 6,
    "start_time": "2022-10-14T13:23:44.163Z"
   },
   {
    "duration": 6645,
    "start_time": "2022-10-14T13:23:44.171Z"
   },
   {
    "duration": 26308,
    "start_time": "2022-10-14T13:23:50.818Z"
   },
   {
    "duration": 133,
    "start_time": "2022-10-14T13:24:17.127Z"
   },
   {
    "duration": 0,
    "start_time": "2022-10-14T13:24:17.262Z"
   },
   {
    "duration": 0,
    "start_time": "2022-10-14T13:24:17.263Z"
   },
   {
    "duration": 0,
    "start_time": "2022-10-14T13:24:17.263Z"
   },
   {
    "duration": 4,
    "start_time": "2022-10-14T13:24:31.587Z"
   },
   {
    "duration": 4,
    "start_time": "2022-10-14T13:24:45.582Z"
   },
   {
    "duration": 4,
    "start_time": "2022-10-14T13:24:58.108Z"
   },
   {
    "duration": 3,
    "start_time": "2022-10-14T13:25:03.745Z"
   },
   {
    "duration": 5,
    "start_time": "2022-10-14T13:25:08.633Z"
   },
   {
    "duration": 5,
    "start_time": "2022-10-14T13:25:14.044Z"
   },
   {
    "duration": 3,
    "start_time": "2022-10-14T13:25:29.472Z"
   },
   {
    "duration": 5,
    "start_time": "2022-10-14T13:25:34.836Z"
   },
   {
    "duration": 1341,
    "start_time": "2022-10-14T13:27:51.761Z"
   },
   {
    "duration": 1242,
    "start_time": "2022-10-14T13:27:53.105Z"
   },
   {
    "duration": 3,
    "start_time": "2022-10-14T13:27:54.349Z"
   },
   {
    "duration": 15,
    "start_time": "2022-10-14T13:27:54.355Z"
   },
   {
    "duration": 1385,
    "start_time": "2022-10-14T13:27:54.372Z"
   },
   {
    "duration": 137,
    "start_time": "2022-10-14T13:27:55.759Z"
   },
   {
    "duration": 2,
    "start_time": "2022-10-14T13:27:55.898Z"
   },
   {
    "duration": 4302,
    "start_time": "2022-10-14T13:27:55.902Z"
   },
   {
    "duration": 45,
    "start_time": "2022-10-14T13:28:00.205Z"
   },
   {
    "duration": 5,
    "start_time": "2022-10-14T13:28:00.252Z"
   },
   {
    "duration": 6722,
    "start_time": "2022-10-14T13:28:00.259Z"
   },
   {
    "duration": 25627,
    "start_time": "2022-10-14T13:28:06.983Z"
   },
   {
    "duration": 7,
    "start_time": "2022-10-14T13:28:32.612Z"
   },
   {
    "duration": 435,
    "start_time": "2022-10-14T13:28:32.621Z"
   },
   {
    "duration": 0,
    "start_time": "2022-10-14T13:28:33.057Z"
   },
   {
    "duration": 0,
    "start_time": "2022-10-14T13:28:33.059Z"
   },
   {
    "duration": 5,
    "start_time": "2022-10-14T13:29:26.185Z"
   },
   {
    "duration": 1261,
    "start_time": "2022-10-14T13:29:49.252Z"
   },
   {
    "duration": 1287,
    "start_time": "2022-10-14T13:30:09.748Z"
   },
   {
    "duration": 4,
    "start_time": "2022-10-14T13:30:35.244Z"
   },
   {
    "duration": 4,
    "start_time": "2022-10-14T13:30:41.148Z"
   },
   {
    "duration": 1292,
    "start_time": "2022-10-14T13:31:20.754Z"
   },
   {
    "duration": 168990,
    "start_time": "2022-10-14T13:45:51.633Z"
   },
   {
    "duration": 6,
    "start_time": "2022-10-14T13:48:57.377Z"
   },
   {
    "duration": 35,
    "start_time": "2022-10-14T13:49:48.801Z"
   },
   {
    "duration": 522,
    "start_time": "2022-10-14T13:50:25.612Z"
   },
   {
    "duration": 22,
    "start_time": "2022-10-14T13:50:53.393Z"
   },
   {
    "duration": 9,
    "start_time": "2022-10-14T13:51:08.677Z"
   },
   {
    "duration": 148,
    "start_time": "2022-10-14T13:51:13.011Z"
   },
   {
    "duration": 132,
    "start_time": "2022-10-14T13:51:20.990Z"
   },
   {
    "duration": 150,
    "start_time": "2022-10-14T13:51:31.012Z"
   },
   {
    "duration": 132,
    "start_time": "2022-10-14T13:51:37.769Z"
   },
   {
    "duration": 11,
    "start_time": "2022-10-14T13:51:56.430Z"
   },
   {
    "duration": 4,
    "start_time": "2022-10-14T13:52:50.508Z"
   },
   {
    "duration": 138,
    "start_time": "2022-10-14T13:53:30.729Z"
   },
   {
    "duration": 27008,
    "start_time": "2022-10-14T13:55:59.001Z"
   },
   {
    "duration": 27728,
    "start_time": "2022-10-14T13:56:47.982Z"
   },
   {
    "duration": 169013,
    "start_time": "2022-10-14T13:59:32.303Z"
   },
   {
    "duration": 1749,
    "start_time": "2022-10-14T14:09:15.201Z"
   },
   {
    "duration": 1200,
    "start_time": "2022-10-14T14:09:16.951Z"
   },
   {
    "duration": 2,
    "start_time": "2022-10-14T14:09:18.153Z"
   },
   {
    "duration": 11,
    "start_time": "2022-10-14T14:09:18.157Z"
   },
   {
    "duration": 1331,
    "start_time": "2022-10-14T14:09:18.169Z"
   },
   {
    "duration": 213,
    "start_time": "2022-10-14T14:09:19.501Z"
   },
   {
    "duration": 3,
    "start_time": "2022-10-14T14:09:19.716Z"
   },
   {
    "duration": 220,
    "start_time": "2022-10-14T14:09:19.720Z"
   },
   {
    "duration": 4448,
    "start_time": "2022-10-14T14:09:19.941Z"
   },
   {
    "duration": 56,
    "start_time": "2022-10-14T14:09:24.391Z"
   },
   {
    "duration": 6,
    "start_time": "2022-10-14T14:09:24.449Z"
   },
   {
    "duration": 6450,
    "start_time": "2022-10-14T14:09:24.457Z"
   },
   {
    "duration": 29803,
    "start_time": "2022-10-14T14:09:30.910Z"
   },
   {
    "duration": 176640,
    "start_time": "2022-10-14T14:10:00.716Z"
   },
   {
    "duration": 26203,
    "start_time": "2022-10-14T14:24:44.218Z"
   },
   {
    "duration": 1503,
    "start_time": "2022-10-14T14:27:04.473Z"
   },
   {
    "duration": 1217,
    "start_time": "2022-10-14T14:27:05.978Z"
   },
   {
    "duration": 4,
    "start_time": "2022-10-14T14:27:07.196Z"
   },
   {
    "duration": 2,
    "start_time": "2022-10-14T14:27:07.208Z"
   },
   {
    "duration": 1350,
    "start_time": "2022-10-14T14:27:07.212Z"
   },
   {
    "duration": 166,
    "start_time": "2022-10-14T14:27:08.564Z"
   },
   {
    "duration": 3,
    "start_time": "2022-10-14T14:27:08.732Z"
   },
   {
    "duration": 223,
    "start_time": "2022-10-14T14:27:08.736Z"
   },
   {
    "duration": 4438,
    "start_time": "2022-10-14T14:27:08.961Z"
   },
   {
    "duration": 54,
    "start_time": "2022-10-14T14:27:13.401Z"
   },
   {
    "duration": 6,
    "start_time": "2022-10-14T14:27:13.456Z"
   },
   {
    "duration": 6593,
    "start_time": "2022-10-14T14:27:13.463Z"
   },
   {
    "duration": 28053,
    "start_time": "2022-10-14T14:27:20.058Z"
   },
   {
    "duration": 173143,
    "start_time": "2022-10-14T14:27:48.112Z"
   },
   {
    "duration": 142,
    "start_time": "2022-10-14T14:30:41.257Z"
   },
   {
    "duration": 0,
    "start_time": "2022-10-14T14:30:41.400Z"
   },
   {
    "duration": 0,
    "start_time": "2022-10-14T14:30:41.401Z"
   },
   {
    "duration": 26167,
    "start_time": "2022-10-14T14:31:59.546Z"
   },
   {
    "duration": 332,
    "start_time": "2022-10-14T14:33:14.604Z"
   },
   {
    "duration": 41,
    "start_time": "2022-10-14T14:33:49.945Z"
   },
   {
    "duration": 47,
    "start_time": "2022-10-14T14:34:34.402Z"
   },
   {
    "duration": 4,
    "start_time": "2022-10-14T14:37:01.590Z"
   },
   {
    "duration": 3,
    "start_time": "2022-10-14T14:39:59.175Z"
   },
   {
    "duration": 3,
    "start_time": "2022-10-14T14:40:25.725Z"
   },
   {
    "duration": 113,
    "start_time": "2022-10-14T14:42:12.859Z"
   },
   {
    "duration": 4,
    "start_time": "2022-10-14T14:42:54.465Z"
   },
   {
    "duration": 3,
    "start_time": "2022-10-14T14:42:57.951Z"
   },
   {
    "duration": 182,
    "start_time": "2022-10-14T14:45:02.304Z"
   },
   {
    "duration": 9,
    "start_time": "2022-10-14T14:45:04.696Z"
   },
   {
    "duration": 177,
    "start_time": "2022-10-14T14:45:17.708Z"
   },
   {
    "duration": 10,
    "start_time": "2022-10-14T14:45:19.042Z"
   },
   {
    "duration": 3,
    "start_time": "2022-10-14T14:45:34.776Z"
   },
   {
    "duration": 212,
    "start_time": "2022-10-14T14:45:35.691Z"
   },
   {
    "duration": 3,
    "start_time": "2022-10-14T14:45:49.822Z"
   },
   {
    "duration": 1123974,
    "start_time": "2022-10-14T14:45:51.783Z"
   },
   {
    "duration": 4,
    "start_time": "2022-10-14T15:04:35.759Z"
   },
   {
    "duration": 1263,
    "start_time": "2022-10-14T15:18:05.839Z"
   },
   {
    "duration": 48,
    "start_time": "2022-10-14T15:18:26.460Z"
   },
   {
    "duration": 6677,
    "start_time": "2022-10-14T15:18:32.502Z"
   },
   {
    "duration": 16228,
    "start_time": "2022-10-14T15:18:39.181Z"
   },
   {
    "duration": 16990,
    "start_time": "2022-10-14T15:20:53.126Z"
   },
   {
    "duration": 16010,
    "start_time": "2022-10-14T15:21:10.118Z"
   },
   {
    "duration": 1682,
    "start_time": "2022-10-15T20:29:22.221Z"
   },
   {
    "duration": 2677,
    "start_time": "2022-10-15T20:29:23.906Z"
   },
   {
    "duration": 3,
    "start_time": "2022-10-15T20:29:26.585Z"
   },
   {
    "duration": 264,
    "start_time": "2022-10-15T20:29:26.589Z"
   },
   {
    "duration": 446,
    "start_time": "2022-10-15T20:29:26.854Z"
   },
   {
    "duration": 3,
    "start_time": "2022-10-15T20:29:27.302Z"
   },
   {
    "duration": 7,
    "start_time": "2022-10-15T20:29:27.306Z"
   },
   {
    "duration": 7,
    "start_time": "2022-10-15T20:29:27.315Z"
   },
   {
    "duration": 1499,
    "start_time": "2022-10-15T20:32:59.826Z"
   },
   {
    "duration": 1098,
    "start_time": "2022-10-15T20:33:01.327Z"
   },
   {
    "duration": 7,
    "start_time": "2022-10-15T20:33:02.427Z"
   },
   {
    "duration": 252,
    "start_time": "2022-10-15T20:33:02.436Z"
   },
   {
    "duration": 201,
    "start_time": "2022-10-15T20:33:02.690Z"
   },
   {
    "duration": 3,
    "start_time": "2022-10-15T20:33:02.893Z"
   },
   {
    "duration": 7,
    "start_time": "2022-10-15T20:33:02.898Z"
   },
   {
    "duration": 7,
    "start_time": "2022-10-15T20:33:02.907Z"
   },
   {
    "duration": 1499,
    "start_time": "2022-10-15T20:33:40.349Z"
   },
   {
    "duration": 1128,
    "start_time": "2022-10-15T20:33:41.851Z"
   },
   {
    "duration": 3,
    "start_time": "2022-10-15T20:33:42.981Z"
   },
   {
    "duration": 265,
    "start_time": "2022-10-15T20:33:42.987Z"
   },
   {
    "duration": 119,
    "start_time": "2022-10-15T20:33:43.253Z"
   },
   {
    "duration": 3,
    "start_time": "2022-10-15T20:33:43.374Z"
   },
   {
    "duration": 6,
    "start_time": "2022-10-15T20:33:43.379Z"
   },
   {
    "duration": 7,
    "start_time": "2022-10-15T20:33:43.386Z"
   },
   {
    "duration": 1328,
    "start_time": "2022-10-15T20:33:43.395Z"
   },
   {
    "duration": 1505,
    "start_time": "2022-10-15T20:47:54.001Z"
   },
   {
    "duration": 1206,
    "start_time": "2022-10-15T20:47:55.508Z"
   },
   {
    "duration": 3,
    "start_time": "2022-10-15T20:47:56.716Z"
   },
   {
    "duration": 279,
    "start_time": "2022-10-15T20:47:56.722Z"
   },
   {
    "duration": 208,
    "start_time": "2022-10-15T20:47:57.003Z"
   },
   {
    "duration": 3,
    "start_time": "2022-10-15T20:47:57.213Z"
   },
   {
    "duration": 8,
    "start_time": "2022-10-15T20:47:57.217Z"
   },
   {
    "duration": 7,
    "start_time": "2022-10-15T20:47:57.226Z"
   },
   {
    "duration": 784,
    "start_time": "2022-10-15T20:47:57.234Z"
   },
   {
    "duration": 0,
    "start_time": "2022-10-15T20:47:58.020Z"
   },
   {
    "duration": 0,
    "start_time": "2022-10-15T20:47:58.022Z"
   },
   {
    "duration": 0,
    "start_time": "2022-10-15T20:47:58.023Z"
   },
   {
    "duration": 0,
    "start_time": "2022-10-15T20:47:58.024Z"
   },
   {
    "duration": 0,
    "start_time": "2022-10-15T20:47:58.025Z"
   },
   {
    "duration": 0,
    "start_time": "2022-10-15T20:47:58.026Z"
   },
   {
    "duration": 0,
    "start_time": "2022-10-15T20:47:58.027Z"
   },
   {
    "duration": 0,
    "start_time": "2022-10-15T20:47:58.028Z"
   },
   {
    "duration": 0,
    "start_time": "2022-10-15T20:47:58.029Z"
   },
   {
    "duration": 0,
    "start_time": "2022-10-15T20:47:58.031Z"
   },
   {
    "duration": 0,
    "start_time": "2022-10-15T20:47:58.032Z"
   },
   {
    "duration": 0,
    "start_time": "2022-10-15T20:47:58.033Z"
   },
   {
    "duration": 0,
    "start_time": "2022-10-15T20:47:58.034Z"
   },
   {
    "duration": 1385,
    "start_time": "2022-10-15T20:52:43.592Z"
   },
   {
    "duration": 1130,
    "start_time": "2022-10-15T20:52:44.979Z"
   },
   {
    "duration": 3,
    "start_time": "2022-10-15T20:52:46.111Z"
   },
   {
    "duration": 347,
    "start_time": "2022-10-15T20:52:46.117Z"
   },
   {
    "duration": 199,
    "start_time": "2022-10-15T20:52:46.465Z"
   },
   {
    "duration": 176,
    "start_time": "2022-10-15T20:52:46.667Z"
   },
   {
    "duration": 0,
    "start_time": "2022-10-15T20:52:46.845Z"
   },
   {
    "duration": 0,
    "start_time": "2022-10-15T20:52:46.848Z"
   },
   {
    "duration": 0,
    "start_time": "2022-10-15T20:52:46.849Z"
   },
   {
    "duration": 0,
    "start_time": "2022-10-15T20:52:46.850Z"
   },
   {
    "duration": 0,
    "start_time": "2022-10-15T20:52:46.851Z"
   },
   {
    "duration": 0,
    "start_time": "2022-10-15T20:52:46.853Z"
   },
   {
    "duration": 0,
    "start_time": "2022-10-15T20:52:46.854Z"
   },
   {
    "duration": 0,
    "start_time": "2022-10-15T20:52:46.855Z"
   },
   {
    "duration": 0,
    "start_time": "2022-10-15T20:52:46.856Z"
   },
   {
    "duration": 0,
    "start_time": "2022-10-15T20:52:46.858Z"
   },
   {
    "duration": 0,
    "start_time": "2022-10-15T20:52:46.859Z"
   },
   {
    "duration": 0,
    "start_time": "2022-10-15T20:52:46.861Z"
   },
   {
    "duration": 0,
    "start_time": "2022-10-15T20:52:46.863Z"
   },
   {
    "duration": 0,
    "start_time": "2022-10-15T20:52:46.864Z"
   },
   {
    "duration": 0,
    "start_time": "2022-10-15T20:52:46.866Z"
   },
   {
    "duration": 0,
    "start_time": "2022-10-15T20:52:46.867Z"
   },
   {
    "duration": 19,
    "start_time": "2022-10-15T20:53:03.692Z"
   },
   {
    "duration": 23,
    "start_time": "2022-10-15T20:53:16.818Z"
   },
   {
    "duration": 18,
    "start_time": "2022-10-15T20:55:27.809Z"
   },
   {
    "duration": 20,
    "start_time": "2022-10-15T20:55:49.004Z"
   },
   {
    "duration": 5,
    "start_time": "2022-10-15T21:10:18.370Z"
   },
   {
    "duration": 4,
    "start_time": "2022-10-15T21:11:15.918Z"
   },
   {
    "duration": 3,
    "start_time": "2022-10-15T21:11:17.860Z"
   },
   {
    "duration": 3,
    "start_time": "2022-10-15T21:11:21.614Z"
   },
   {
    "duration": 5,
    "start_time": "2022-10-15T21:11:24.109Z"
   },
   {
    "duration": 49,
    "start_time": "2022-10-15T21:12:03.664Z"
   },
   {
    "duration": 1448,
    "start_time": "2022-10-15T21:14:11.871Z"
   },
   {
    "duration": 1131,
    "start_time": "2022-10-15T21:14:13.320Z"
   },
   {
    "duration": 3,
    "start_time": "2022-10-15T21:14:14.452Z"
   },
   {
    "duration": 263,
    "start_time": "2022-10-15T21:14:14.458Z"
   },
   {
    "duration": 200,
    "start_time": "2022-10-15T21:14:14.723Z"
   },
   {
    "duration": 3,
    "start_time": "2022-10-15T21:14:14.924Z"
   },
   {
    "duration": 8,
    "start_time": "2022-10-15T21:14:14.929Z"
   },
   {
    "duration": 8,
    "start_time": "2022-10-15T21:14:14.938Z"
   },
   {
    "duration": 6,
    "start_time": "2022-10-15T21:14:14.948Z"
   },
   {
    "duration": 237,
    "start_time": "2022-10-15T21:14:14.957Z"
   },
   {
    "duration": 4411,
    "start_time": "2022-10-15T21:14:15.195Z"
   },
   {
    "duration": 61,
    "start_time": "2022-10-15T21:14:19.608Z"
   },
   {
    "duration": 6,
    "start_time": "2022-10-15T21:14:19.670Z"
   },
   {
    "duration": 7279,
    "start_time": "2022-10-15T21:14:19.678Z"
   },
   {
    "duration": 30581,
    "start_time": "2022-10-15T21:14:26.958Z"
   },
   {
    "duration": 1484,
    "start_time": "2022-10-15T21:16:35.734Z"
   },
   {
    "duration": 1131,
    "start_time": "2022-10-15T21:16:37.220Z"
   },
   {
    "duration": 3,
    "start_time": "2022-10-15T21:16:38.352Z"
   },
   {
    "duration": 259,
    "start_time": "2022-10-15T21:16:38.357Z"
   },
   {
    "duration": 126,
    "start_time": "2022-10-15T21:16:38.618Z"
   },
   {
    "duration": 3,
    "start_time": "2022-10-15T21:16:38.746Z"
   },
   {
    "duration": 6,
    "start_time": "2022-10-15T21:16:38.751Z"
   },
   {
    "duration": 9,
    "start_time": "2022-10-15T21:16:38.758Z"
   },
   {
    "duration": 7,
    "start_time": "2022-10-15T21:16:38.769Z"
   },
   {
    "duration": 248,
    "start_time": "2022-10-15T21:16:38.778Z"
   },
   {
    "duration": 4286,
    "start_time": "2022-10-15T21:16:39.032Z"
   },
   {
    "duration": 62,
    "start_time": "2022-10-15T21:16:43.320Z"
   },
   {
    "duration": 5,
    "start_time": "2022-10-15T21:16:43.383Z"
   },
   {
    "duration": 7020,
    "start_time": "2022-10-15T21:16:43.389Z"
   },
   {
    "duration": 30138,
    "start_time": "2022-10-15T21:16:50.410Z"
   },
   {
    "duration": 177019,
    "start_time": "2022-10-15T21:17:20.550Z"
   },
   {
    "duration": 1495,
    "start_time": "2022-10-15T21:27:47.467Z"
   },
   {
    "duration": 1090,
    "start_time": "2022-10-15T21:27:48.964Z"
   },
   {
    "duration": 3,
    "start_time": "2022-10-15T21:27:50.056Z"
   },
   {
    "duration": 265,
    "start_time": "2022-10-15T21:27:50.060Z"
   },
   {
    "duration": 148,
    "start_time": "2022-10-15T21:27:50.327Z"
   },
   {
    "duration": 3,
    "start_time": "2022-10-15T21:27:50.477Z"
   },
   {
    "duration": 11,
    "start_time": "2022-10-15T21:27:50.482Z"
   },
   {
    "duration": 12,
    "start_time": "2022-10-15T21:27:50.495Z"
   },
   {
    "duration": 134,
    "start_time": "2022-10-15T21:27:50.508Z"
   },
   {
    "duration": 0,
    "start_time": "2022-10-15T21:27:50.644Z"
   },
   {
    "duration": 0,
    "start_time": "2022-10-15T21:27:50.646Z"
   },
   {
    "duration": 0,
    "start_time": "2022-10-15T21:27:50.647Z"
   },
   {
    "duration": 0,
    "start_time": "2022-10-15T21:27:50.649Z"
   },
   {
    "duration": 0,
    "start_time": "2022-10-15T21:27:50.650Z"
   },
   {
    "duration": 0,
    "start_time": "2022-10-15T21:27:50.651Z"
   },
   {
    "duration": 0,
    "start_time": "2022-10-15T21:27:50.653Z"
   },
   {
    "duration": 0,
    "start_time": "2022-10-15T21:27:50.654Z"
   },
   {
    "duration": 1,
    "start_time": "2022-10-15T21:27:50.655Z"
   },
   {
    "duration": 14,
    "start_time": "2022-10-15T21:29:31.611Z"
   },
   {
    "duration": 1443,
    "start_time": "2022-10-15T21:34:58.313Z"
   },
   {
    "duration": 1129,
    "start_time": "2022-10-15T21:34:59.758Z"
   },
   {
    "duration": 3,
    "start_time": "2022-10-15T21:35:00.889Z"
   },
   {
    "duration": 306,
    "start_time": "2022-10-15T21:35:00.894Z"
   },
   {
    "duration": 212,
    "start_time": "2022-10-15T21:35:01.202Z"
   },
   {
    "duration": 3,
    "start_time": "2022-10-15T21:35:01.415Z"
   },
   {
    "duration": 33,
    "start_time": "2022-10-15T21:35:01.420Z"
   },
   {
    "duration": 14,
    "start_time": "2022-10-15T21:35:01.454Z"
   },
   {
    "duration": 251,
    "start_time": "2022-10-15T21:35:01.470Z"
   },
   {
    "duration": 4206,
    "start_time": "2022-10-15T21:35:01.722Z"
   },
   {
    "duration": 55,
    "start_time": "2022-10-15T21:35:05.930Z"
   },
   {
    "duration": 4,
    "start_time": "2022-10-15T21:35:05.987Z"
   },
   {
    "duration": 1455,
    "start_time": "2022-10-15T21:35:14.733Z"
   },
   {
    "duration": 1162,
    "start_time": "2022-10-15T21:35:16.190Z"
   },
   {
    "duration": 3,
    "start_time": "2022-10-15T21:35:17.354Z"
   },
   {
    "duration": 266,
    "start_time": "2022-10-15T21:35:17.358Z"
   },
   {
    "duration": 121,
    "start_time": "2022-10-15T21:35:17.626Z"
   },
   {
    "duration": 3,
    "start_time": "2022-10-15T21:35:17.749Z"
   },
   {
    "duration": 6,
    "start_time": "2022-10-15T21:35:17.753Z"
   },
   {
    "duration": 7,
    "start_time": "2022-10-15T21:35:17.761Z"
   },
   {
    "duration": 227,
    "start_time": "2022-10-15T21:35:17.769Z"
   },
   {
    "duration": 4240,
    "start_time": "2022-10-15T21:35:17.998Z"
   },
   {
    "duration": 56,
    "start_time": "2022-10-15T21:35:22.240Z"
   },
   {
    "duration": 5,
    "start_time": "2022-10-15T21:35:22.297Z"
   },
   {
    "duration": 6906,
    "start_time": "2022-10-15T21:35:22.304Z"
   },
   {
    "duration": 29329,
    "start_time": "2022-10-15T21:35:29.212Z"
   },
   {
    "duration": 175924,
    "start_time": "2022-10-15T21:35:58.543Z"
   },
   {
    "duration": 193478,
    "start_time": "2022-10-15T21:38:54.469Z"
   },
   {
    "duration": 28991,
    "start_time": "2022-10-15T21:42:07.948Z"
   },
   {
    "duration": 132,
    "start_time": "2022-10-15T21:42:36.941Z"
   },
   {
    "duration": 0,
    "start_time": "2022-10-15T21:42:37.075Z"
   },
   {
    "duration": 1422,
    "start_time": "2022-10-15T21:45:04.179Z"
   },
   {
    "duration": 1141,
    "start_time": "2022-10-15T21:45:05.603Z"
   },
   {
    "duration": 3,
    "start_time": "2022-10-15T21:45:06.747Z"
   },
   {
    "duration": 257,
    "start_time": "2022-10-15T21:45:06.752Z"
   },
   {
    "duration": 194,
    "start_time": "2022-10-15T21:45:07.011Z"
   },
   {
    "duration": 4,
    "start_time": "2022-10-15T21:45:07.208Z"
   },
   {
    "duration": 6,
    "start_time": "2022-10-15T21:45:07.214Z"
   },
   {
    "duration": 7,
    "start_time": "2022-10-15T21:45:07.222Z"
   },
   {
    "duration": 232,
    "start_time": "2022-10-15T21:45:07.231Z"
   },
   {
    "duration": 4194,
    "start_time": "2022-10-15T21:45:07.467Z"
   },
   {
    "duration": 70,
    "start_time": "2022-10-15T21:45:11.663Z"
   },
   {
    "duration": 6,
    "start_time": "2022-10-15T21:45:11.735Z"
   },
   {
    "duration": 6826,
    "start_time": "2022-10-15T21:45:11.743Z"
   },
   {
    "duration": 29476,
    "start_time": "2022-10-15T21:45:18.571Z"
   },
   {
    "duration": 176645,
    "start_time": "2022-10-15T21:45:48.048Z"
   },
   {
    "duration": 1608,
    "start_time": "2022-10-15T21:52:50.782Z"
   },
   {
    "duration": 1075,
    "start_time": "2022-10-15T21:52:52.391Z"
   },
   {
    "duration": 3,
    "start_time": "2022-10-15T21:52:53.468Z"
   },
   {
    "duration": 249,
    "start_time": "2022-10-15T21:52:53.473Z"
   },
   {
    "duration": 202,
    "start_time": "2022-10-15T21:52:53.723Z"
   },
   {
    "duration": 3,
    "start_time": "2022-10-15T21:52:53.927Z"
   },
   {
    "duration": 7,
    "start_time": "2022-10-15T21:52:53.932Z"
   },
   {
    "duration": 9,
    "start_time": "2022-10-15T21:52:53.940Z"
   },
   {
    "duration": 236,
    "start_time": "2022-10-15T21:52:53.950Z"
   },
   {
    "duration": 4209,
    "start_time": "2022-10-15T21:52:54.189Z"
   },
   {
    "duration": 69,
    "start_time": "2022-10-15T21:52:58.400Z"
   },
   {
    "duration": 5,
    "start_time": "2022-10-15T21:52:58.471Z"
   },
   {
    "duration": 6844,
    "start_time": "2022-10-15T21:52:58.478Z"
   },
   {
    "duration": 28920,
    "start_time": "2022-10-15T21:53:05.324Z"
   },
   {
    "duration": 174898,
    "start_time": "2022-10-15T21:53:34.246Z"
   },
   {
    "duration": 1420,
    "start_time": "2022-10-15T22:02:19.255Z"
   },
   {
    "duration": 1098,
    "start_time": "2022-10-15T22:02:20.676Z"
   },
   {
    "duration": 2,
    "start_time": "2022-10-15T22:02:21.776Z"
   },
   {
    "duration": 268,
    "start_time": "2022-10-15T22:02:21.779Z"
   },
   {
    "duration": 140,
    "start_time": "2022-10-15T22:02:22.049Z"
   },
   {
    "duration": 3,
    "start_time": "2022-10-15T22:02:22.191Z"
   },
   {
    "duration": 8,
    "start_time": "2022-10-15T22:02:22.195Z"
   },
   {
    "duration": 12,
    "start_time": "2022-10-15T22:02:22.204Z"
   },
   {
    "duration": 231,
    "start_time": "2022-10-15T22:02:22.218Z"
   },
   {
    "duration": 4253,
    "start_time": "2022-10-15T22:02:22.450Z"
   },
   {
    "duration": 65,
    "start_time": "2022-10-15T22:02:26.705Z"
   },
   {
    "duration": 5,
    "start_time": "2022-10-15T22:02:26.772Z"
   },
   {
    "duration": 7004,
    "start_time": "2022-10-15T22:02:26.778Z"
   },
   {
    "duration": 31265,
    "start_time": "2022-10-15T22:02:33.785Z"
   },
   {
    "duration": 174097,
    "start_time": "2022-10-15T22:03:05.052Z"
   },
   {
    "duration": 192780,
    "start_time": "2022-10-15T22:05:59.151Z"
   },
   {
    "duration": 28812,
    "start_time": "2022-10-15T22:09:11.933Z"
   },
   {
    "duration": 192,
    "start_time": "2022-10-15T22:09:40.747Z"
   },
   {
    "duration": 0,
    "start_time": "2022-10-15T22:09:40.940Z"
   }
  ],
  "kernelspec": {
   "display_name": "Python 3 (ipykernel)",
   "language": "python",
   "name": "python3"
  },
  "language_info": {
   "codemirror_mode": {
    "name": "ipython",
    "version": 3
   },
   "file_extension": ".py",
   "mimetype": "text/x-python",
   "name": "python",
   "nbconvert_exporter": "python",
   "pygments_lexer": "ipython3",
   "version": "3.9.6"
  },
  "toc": {
   "base_numbering": 1,
   "nav_menu": {},
   "number_sections": true,
   "sideBar": true,
   "skip_h1_title": true,
   "title_cell": "Содержание",
   "title_sidebar": "Contents",
   "toc_cell": true,
   "toc_position": {
    "height": "calc(100% - 180px)",
    "left": "10px",
    "top": "150px",
    "width": "302.391px"
   },
   "toc_section_display": true,
   "toc_window_display": false
  }
 },
 "nbformat": 4,
 "nbformat_minor": 4
}
