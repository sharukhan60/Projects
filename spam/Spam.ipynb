{
 "cells": [
  {
   "cell_type": "markdown",
   "id": "a0046109-324f-4b27-a864-14d89693234f",
   "metadata": {},
   "source": [
    "# Классификация писем на спам"
   ]
  },
  {
   "cell_type": "markdown",
   "id": "8f713b2c-4260-48cf-9529-d8fd0b3ec243",
   "metadata": {},
   "source": [
    "Задача - построить модель наивного Байесовского классификатора для выявления спама\n",
    "\n",
    "Проект состоит из нескольких этапов:\n",
    "\n",
    "    1. Загрузка и обзор данных\n",
    "    2. Подготовка данных\n",
    "    3. Обучение моделей\n",
    "    4. Вывод\n"
   ]
  },
  {
   "cell_type": "markdown",
   "id": "c4f410aa-6d5e-42eb-900f-74db82b5aa2e",
   "metadata": {},
   "source": [
    "Для начала импортируем необходимые библиотеки."
   ]
  },
  {
   "cell_type": "code",
   "execution_count": 1,
   "id": "cfe704dc-1bcc-45ba-ad3a-af3b40b896aa",
   "metadata": {},
   "outputs": [],
   "source": [
    "import pandas as pd\n",
    "import matplotlib.pyplot as plt\n",
    "import re\n",
    "import nltk\n",
    "from nltk.corpus import stopwords\n",
    "from nltk.tokenize import word_tokenize\n",
    "from nltk.stem import WordNetLemmatizer\n",
    "from string import punctuation\n",
    "from sklearn.feature_extraction.text import CountVectorizer\n",
    "from sklearn.model_selection import train_test_split, cross_val_score\n",
    "from sklearn.naive_bayes import BernoulliNB, MultinomialNB, ComplementNB\n",
    "from sklearn.metrics import f1_score"
   ]
  },
  {
   "cell_type": "markdown",
   "id": "6ca197d8-49a4-4543-ac8d-45f905a6d368",
   "metadata": {},
   "source": [
    "# 1. Загрузка и обзор данных"
   ]
  },
  {
   "cell_type": "markdown",
   "id": "ecb7ee5c-e004-4b2d-a2c1-2e357fcf74c5",
   "metadata": {},
   "source": [
    "Загрузим датасет с письмами"
   ]
  },
  {
   "cell_type": "code",
   "execution_count": 2,
   "id": "cb9345f7-a6f4-456d-a90b-318059fc96a2",
   "metadata": {},
   "outputs": [],
   "source": [
    "data = pd.read_csv('spam.csv')"
   ]
  },
  {
   "cell_type": "markdown",
   "id": "4254378b-a083-4ece-80e8-8ecc11d5871c",
   "metadata": {},
   "source": [
    "Далее изучим данные, посмотрим на их вид, найдем пропуски."
   ]
  },
  {
   "cell_type": "code",
   "execution_count": 3,
   "id": "b4abe2f5-ec80-4d3d-bb44-dced2f2a19e9",
   "metadata": {},
   "outputs": [
    {
     "data": {
      "text/html": [
       "<div>\n",
       "<style scoped>\n",
       "    .dataframe tbody tr th:only-of-type {\n",
       "        vertical-align: middle;\n",
       "    }\n",
       "\n",
       "    .dataframe tbody tr th {\n",
       "        vertical-align: top;\n",
       "    }\n",
       "\n",
       "    .dataframe thead th {\n",
       "        text-align: right;\n",
       "    }\n",
       "</style>\n",
       "<table border=\"1\" class=\"dataframe\">\n",
       "  <thead>\n",
       "    <tr style=\"text-align: right;\">\n",
       "      <th></th>\n",
       "      <th>Category</th>\n",
       "      <th>Message</th>\n",
       "    </tr>\n",
       "  </thead>\n",
       "  <tbody>\n",
       "    <tr>\n",
       "      <th>0</th>\n",
       "      <td>ham</td>\n",
       "      <td>Go until jurong point, crazy.. Available only ...</td>\n",
       "    </tr>\n",
       "    <tr>\n",
       "      <th>1</th>\n",
       "      <td>ham</td>\n",
       "      <td>Ok lar... Joking wif u oni...</td>\n",
       "    </tr>\n",
       "    <tr>\n",
       "      <th>2</th>\n",
       "      <td>spam</td>\n",
       "      <td>Free entry in 2 a wkly comp to win FA Cup fina...</td>\n",
       "    </tr>\n",
       "    <tr>\n",
       "      <th>3</th>\n",
       "      <td>ham</td>\n",
       "      <td>U dun say so early hor... U c already then say...</td>\n",
       "    </tr>\n",
       "    <tr>\n",
       "      <th>4</th>\n",
       "      <td>ham</td>\n",
       "      <td>Nah I don't think he goes to usf, he lives aro...</td>\n",
       "    </tr>\n",
       "    <tr>\n",
       "      <th>5</th>\n",
       "      <td>spam</td>\n",
       "      <td>FreeMsg Hey there darling it's been 3 week's n...</td>\n",
       "    </tr>\n",
       "    <tr>\n",
       "      <th>6</th>\n",
       "      <td>ham</td>\n",
       "      <td>Even my brother is not like to speak with me. ...</td>\n",
       "    </tr>\n",
       "    <tr>\n",
       "      <th>7</th>\n",
       "      <td>ham</td>\n",
       "      <td>As per your request 'Melle Melle (Oru Minnamin...</td>\n",
       "    </tr>\n",
       "    <tr>\n",
       "      <th>8</th>\n",
       "      <td>spam</td>\n",
       "      <td>WINNER!! As a valued network customer you have...</td>\n",
       "    </tr>\n",
       "    <tr>\n",
       "      <th>9</th>\n",
       "      <td>spam</td>\n",
       "      <td>Had your mobile 11 months or more? U R entitle...</td>\n",
       "    </tr>\n",
       "  </tbody>\n",
       "</table>\n",
       "</div>"
      ],
      "text/plain": [
       "  Category                                            Message\n",
       "0      ham  Go until jurong point, crazy.. Available only ...\n",
       "1      ham                      Ok lar... Joking wif u oni...\n",
       "2     spam  Free entry in 2 a wkly comp to win FA Cup fina...\n",
       "3      ham  U dun say so early hor... U c already then say...\n",
       "4      ham  Nah I don't think he goes to usf, he lives aro...\n",
       "5     spam  FreeMsg Hey there darling it's been 3 week's n...\n",
       "6      ham  Even my brother is not like to speak with me. ...\n",
       "7      ham  As per your request 'Melle Melle (Oru Minnamin...\n",
       "8     spam  WINNER!! As a valued network customer you have...\n",
       "9     spam  Had your mobile 11 months or more? U R entitle..."
      ]
     },
     "execution_count": 3,
     "metadata": {},
     "output_type": "execute_result"
    }
   ],
   "source": [
    "data.head(10)"
   ]
  },
  {
   "cell_type": "code",
   "execution_count": 4,
   "id": "94df41a1-23e0-40b1-a4f3-741d95cd0ea2",
   "metadata": {},
   "outputs": [
    {
     "data": {
      "text/plain": [
       "(5572, 2)"
      ]
     },
     "execution_count": 4,
     "metadata": {},
     "output_type": "execute_result"
    }
   ],
   "source": [
    "data.shape"
   ]
  },
  {
   "cell_type": "markdown",
   "id": "4a04edfb-e1c7-4a6c-90a3-73eeb51cd3b6",
   "metadata": {},
   "source": [
    "data.info()"
   ]
  },
  {
   "cell_type": "markdown",
   "id": "72d923f5-6aeb-4cc3-817d-34e2cd714bae",
   "metadata": {},
   "source": [
    "Таким образом, датасет состоит из 2 столбцов, в одном - целевой признак, а в другом - сообщения. Заметим, что в данных отсутствуют пропуски. Можно приступать к преобразованию данных."
   ]
  },
  {
   "cell_type": "code",
   "execution_count": 5,
   "id": "c2d2423b-98e6-4b67-a73b-dfcbfbbd1750",
   "metadata": {},
   "outputs": [
    {
     "data": {
      "image/png": "[encoded data removed]",
      "text/plain": [
       "<Figure size 1200x600 with 1 Axes>"
      ]
     },
     "metadata": {},
     "output_type": "display_data"
    }
   ],
   "source": [
    "plt.figure(figsize=(12,6))\n",
    "plt.hist(data['Category'])\n",
    "plt.title('Целевой признак')\n",
    "plt.show()"
   ]
  },
  {
   "cell_type": "markdown",
   "id": "21f1bef3-3974-4471-9379-923816076d8a",
   "metadata": {},
   "source": [
    "Из графика видно, что целевой признак сильно несбалансирован. \n",
    "Далее преобразуем целевой признак в числовой формат, где 1 - спам, 0 - не спам."
   ]
  },
  {
   "cell_type": "code",
   "execution_count": 6,
   "id": "4a53e879-264a-4cfb-a084-ab5e5de4b43a",
   "metadata": {},
   "outputs": [
    {
     "data": {
      "text/plain": [
       "0       0\n",
       "1       0\n",
       "2       1\n",
       "3       0\n",
       "4       0\n",
       "       ..\n",
       "5567    1\n",
       "5568    0\n",
       "5569    0\n",
       "5570    0\n",
       "5571    0\n",
       "Name: Category, Length: 5572, dtype: int64"
      ]
     },
     "execution_count": 6,
     "metadata": {},
     "output_type": "execute_result"
    }
   ],
   "source": [
    "data['Category'] = data['Category'].apply(lambda x: 1 if x =='spam' else 0)\n",
    "data['Category']"
   ]
  },
  {
   "cell_type": "markdown",
   "id": "dd0b3ad7-b0b6-40de-bb83-92e6acd71229",
   "metadata": {},
   "source": [
    "Теперь можно приступить к преобразованию данных."
   ]
  },
  {
   "cell_type": "markdown",
   "id": "da91cad0-72fe-4deb-8acf-9670297cf985",
   "metadata": {},
   "source": [
    "# 2. Подготовка данных"
   ]
  },
  {
   "cell_type": "markdown",
   "id": "5102e9fa-0767-4d81-9367-76db312e8754",
   "metadata": {},
   "source": [
    "Далее необходимо преобразовать сообщения в понятный для модели формат. Для этого нужно очистить наши данные от тегов, ссылок, упоминаний, чисел, пунктуации. Кроме того, нужно удалить стоп-слова, провести токенизацию и лемматизацию."
   ]
  },
  {
   "cell_type": "code",
   "execution_count": 7,
   "id": "97b9b672-4dcc-493e-af8b-165821140d0a",
   "metadata": {},
   "outputs": [],
   "source": [
    "stop_words = set(stopwords.words('english'))\n",
    "lemmatizer = WordNetLemmatizer()"
   ]
  },
  {
   "cell_type": "code",
   "execution_count": 8,
   "id": "dc6e6981-13de-4d48-a54d-64962006839f",
   "metadata": {},
   "outputs": [],
   "source": [
    "def clean_text(text):\n",
    "    text = text.lower()\n",
    "        # Удаление HTML-тегов\n",
    "    text = re.sub(r'<.*?>', '', text)\n",
    "    \n",
    "    # Удаление ссылок\n",
    "    text = re.sub(r'http\\S+|www\\S+|https\\S+', '', text)\n",
    "    \n",
    "    # Удаление упоминаний (@user) и хэштегов (#tag)\n",
    "    text = re.sub(r'@\\w+|#\\w+', '', text)\n",
    "    \n",
    "    # Удаление чисел\n",
    "    text = re.sub(r'\\d+', '', text)\n",
    "    \n",
    "    # Удаление пунктуации\n",
    "    text = text.translate(str.maketrans('', '', punctuation))\n",
    "    \n",
    "    # Токенизация\n",
    "    tokens = word_tokenize(text)\n",
    "    \n",
    "    # Удаление стоп-слов и лемматизация\n",
    "    cleaned_tokens = [lemmatizer.lemmatize(word) for word in tokens if word not in stop_words]\n",
    "    \n",
    "    # Соединение слов обратно в строку\n",
    "    cleaned_text = ' '.join(cleaned_tokens)\n",
    "    \n",
    "    return cleaned_text"
   ]
  },
  {
   "cell_type": "markdown",
   "id": "87115241-e4eb-4cd2-a189-be4ab804fb1c",
   "metadata": {},
   "source": [
    "Применим данную функцию к столбцу признаков"
   ]
  },
  {
   "cell_type": "code",
   "execution_count": 9,
   "id": "8b4e77d4-b14a-4ed6-b6fc-3829cb4c3217",
   "metadata": {},
   "outputs": [],
   "source": [
    "data['clear_text'] = data['Message'].apply(clean_text)"
   ]
  },
  {
   "cell_type": "code",
   "execution_count": 10,
   "id": "8204d0db-f43e-4ab3-8bce-4f54999d2626",
   "metadata": {},
   "outputs": [
    {
     "data": {
      "text/plain": [
       "0     go jurong point crazy available bugis n great ...\n",
       "1                               ok lar joking wif u oni\n",
       "2     free entry wkly comp win fa cup final tkts st ...\n",
       "3                   u dun say early hor u c already say\n",
       "4              nah dont think go usf life around though\n",
       "5     freemsg hey darling week word back id like fun...\n",
       "6         even brother like speak treat like aid patent\n",
       "7     per request melle melle oru minnaminunginte nu...\n",
       "8     winner valued network customer selected receiv...\n",
       "9     mobile month u r entitled update latest colour...\n",
       "10    im gon na home soon dont want talk stuff anymo...\n",
       "11    six chance win cash pound txt csh send cost pd...\n",
       "12    urgent week free membership £ prize jackpot tx...\n",
       "13    ive searching right word thank breather promis...\n",
       "14                                          date sunday\n",
       "15    xxxmobilemovieclub use credit click wap link n...\n",
       "16                                      oh kim watching\n",
       "17    eh u remember spell name yes v naughty make v wet\n",
       "18             fine thats way u feel thats way gota b\n",
       "19    england v macedonia dont miss goalsteam news t...\n",
       "Name: clear_text, dtype: object"
      ]
     },
     "execution_count": 10,
     "metadata": {},
     "output_type": "execute_result"
    }
   ],
   "source": [
    "data['clear_text'].head(20)"
   ]
  },
  {
   "cell_type": "markdown",
   "id": "c2f7f4ad-dda5-4361-ac03-16aa14e5ba99",
   "metadata": {},
   "source": [
    "Перед преобразованием сообщений в вектора выделим целевой признак и разобьем данные на тренировочную и тестовую выборки. "
   ]
  },
  {
   "cell_type": "code",
   "execution_count": 11,
   "id": "d3597b77-bf8e-48a9-a198-672e95273c3d",
   "metadata": {},
   "outputs": [],
   "source": [
    "features = data['clear_text']\n",
    "target = data['Category']"
   ]
  },
  {
   "cell_type": "code",
   "execution_count": 12,
   "id": "c3b09af7-6188-4acf-adc1-6d9e2c86bd9a",
   "metadata": {},
   "outputs": [],
   "source": [
    "vectorizer = CountVectorizer()"
   ]
  },
  {
   "cell_type": "code",
   "execution_count": 13,
   "id": "4173270c-4f87-47d5-9f63-0c456b0ae6c7",
   "metadata": {},
   "outputs": [],
   "source": [
    "features_train, features_test, target_train, target_test = train_test_split(features,target, \n",
    "                                                                            test_size=0.6, \n",
    "                                                                            random_state = 12345, \n",
    "                                                                            stratify=target)"
   ]
  },
  {
   "cell_type": "markdown",
   "id": "d455760f-a4fe-461e-8190-008413d79d09",
   "metadata": {},
   "source": [
    "Далее приведем сообщения в векторный формат."
   ]
  },
  {
   "cell_type": "code",
   "execution_count": 14,
   "id": "0c376065-6091-432a-9c57-3b7c2dda1cc2",
   "metadata": {},
   "outputs": [],
   "source": [
    "features_train = vectorizer.fit_transform(features_train)\n",
    "features_test = vectorizer.transform(features_test)"
   ]
  },
  {
   "cell_type": "markdown",
   "id": "a51d4dd0-a806-4549-98b1-d114457670a6",
   "metadata": {},
   "source": [
    "Теперь данные готовы к обучению моделей."
   ]
  },
  {
   "cell_type": "markdown",
   "id": "0b38c166-2988-4aa4-87d2-bd077d98b972",
   "metadata": {},
   "source": [
    "# 3.Обучение моделей"
   ]
  },
  {
   "cell_type": "markdown",
   "id": "6602cbe6-207b-4e2b-86dc-5f6783ed0d29",
   "metadata": {},
   "source": [
    "В качестве моделей воспользуемся наивными Байесовскими классификаторами: MulninomialNB, ComplementNB, BernoulliNB. В качестве метрики воспользуемся f1_score."
   ]
  },
  {
   "cell_type": "code",
   "execution_count": 15,
   "id": "9e2aeeec-d0b0-4772-bf14-a19650cfa597",
   "metadata": {},
   "outputs": [
    {
     "name": "stdout",
     "output_type": "stream",
     "text": [
      "Multinomial :  0.8415497824470798\n"
     ]
    }
   ],
   "source": [
    "model = MultinomialNB()\n",
    "scores = cross_val_score(model, features_train, target_train, cv=5, scoring='f1')\n",
    "print('Multinomial : ', scores.mean())"
   ]
  },
  {
   "cell_type": "code",
   "execution_count": 16,
   "id": "89c88ef5-cfd1-43ce-a3f9-80ba8a8b7764",
   "metadata": {},
   "outputs": [
    {
     "name": "stdout",
     "output_type": "stream",
     "text": [
      "Complement : 0.7122576763224304\n"
     ]
    }
   ],
   "source": [
    "model = ComplementNB()\n",
    "scores = cross_val_score(model, features_train, target_train, cv=5, scoring='f1')\n",
    "print('Complement :', scores.mean())"
   ]
  },
  {
   "cell_type": "code",
   "execution_count": 17,
   "id": "3c5fc33f-3941-47ae-b070-37db135a3927",
   "metadata": {},
   "outputs": [
    {
     "name": "stdout",
     "output_type": "stream",
     "text": [
      "0.8122236103085841\n"
     ]
    }
   ],
   "source": [
    "model = BernoulliNB()\n",
    "scores = cross_val_score(model, features_train, target_train, cv=5, scoring='f1')\n",
    "print(scores.mean())"
   ]
  },
  {
   "cell_type": "markdown",
   "id": "7285709c-099a-457d-87f2-124556fe79f8",
   "metadata": {},
   "source": [
    "Таким образом, мультиномальный байесовский классификатор показал лучший результат - 0.84."
   ]
  },
  {
   "cell_type": "markdown",
   "id": "0783227e-b676-470d-96a5-86114f09107e",
   "metadata": {},
   "source": [
    "# 4. Вывод"
   ]
  },
  {
   "cell_type": "markdown",
   "id": "174cae0e-4fe3-494b-949b-3f808e548cc0",
   "metadata": {},
   "source": [
    "Теперь протестируем модель."
   ]
  },
  {
   "cell_type": "code",
   "execution_count": 18,
   "id": "d165ce2b-739a-4aca-ac5a-b8328b9a98f0",
   "metadata": {},
   "outputs": [
    {
     "name": "stdout",
     "output_type": "stream",
     "text": [
      "Значение метрики на тестовой выборке: 0.908675799086758\n"
     ]
    }
   ],
   "source": [
    "model = MultinomialNB()\n",
    "model.fit(features_train, target_train)\n",
    "pred = model.predict(features_test)\n",
    "score = f1_score(target_test, pred)\n",
    "print('Значение метрики на тестовой выборке:',score)"
   ]
  },
  {
   "cell_type": "markdown",
   "id": "9ac23a93-5ee2-4fc9-9376-006156704a3a",
   "metadata": {},
   "source": [
    "Модель показала хороший результат на тестовой выборке - 0.9."
   ]
  }
 ],
 "metadata": {
  "kernelspec": {
   "display_name": "Python 3 (ipykernel)",
   "language": "python",
   "name": "python3"
  },
  "language_info": {
   "codemirror_mode": {
    "name": "ipython",
    "version": 3
   },
   "file_extension": ".py",
   "mimetype": "text/x-python",
   "name": "python",
   "nbconvert_exporter": "python",
   "pygments_lexer": "ipython3",
   "version": "3.9.6"
  }
 },
 "nbformat": 4,
 "nbformat_minor": 5
}
